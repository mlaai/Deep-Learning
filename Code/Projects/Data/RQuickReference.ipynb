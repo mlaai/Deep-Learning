{
 "cells": [
  {
   "cell_type": "code",
   "execution_count": 33,
   "metadata": {},
   "outputs": [
    {
     "data": {
      "text/html": [
       "'John'"
      ],
      "text/latex": [
       "'John'"
      ],
      "text/markdown": [
       "'John'"
      ],
      "text/plain": [
       "[1] \"John\""
      ]
     },
     "metadata": {},
     "output_type": "display_data"
    }
   ],
   "source": [
    "#Robert Gentleman , co-creator of R language\n",
    "#Variable Assignment\n",
    "customerName <- 'John'\n",
    "customerName"
   ]
  },
  {
   "cell_type": "code",
   "execution_count": 245,
   "metadata": {},
   "outputs": [],
   "source": [
    "#Run Help\n",
    "?getwd"
   ]
  },
  {
   "cell_type": "code",
   "execution_count": 38,
   "metadata": {},
   "outputs": [
    {
     "name": "stdout",
     "output_type": "stream",
     "text": [
      " [1]  2  3  4  5  6  7  8  9 10 11 12 13 14 15 16 17\n"
     ]
    },
    {
     "data": {
      "text/html": [
       "<ol class=list-inline>\n",
       "\t<li>2</li>\n",
       "\t<li>3</li>\n",
       "\t<li>4</li>\n",
       "\t<li>5</li>\n",
       "\t<li>6</li>\n",
       "\t<li>7</li>\n",
       "\t<li>8</li>\n",
       "\t<li>9</li>\n",
       "\t<li>10</li>\n",
       "\t<li>11</li>\n",
       "\t<li>12</li>\n",
       "\t<li>13</li>\n",
       "\t<li>14</li>\n",
       "\t<li>15</li>\n",
       "\t<li>16</li>\n",
       "\t<li>17</li>\n",
       "</ol>\n"
      ],
      "text/latex": [
       "\\begin{enumerate*}\n",
       "\\item 2\n",
       "\\item 3\n",
       "\\item 4\n",
       "\\item 5\n",
       "\\item 6\n",
       "\\item 7\n",
       "\\item 8\n",
       "\\item 9\n",
       "\\item 10\n",
       "\\item 11\n",
       "\\item 12\n",
       "\\item 13\n",
       "\\item 14\n",
       "\\item 15\n",
       "\\item 16\n",
       "\\item 17\n",
       "\\end{enumerate*}\n"
      ],
      "text/markdown": [
       "1. 2\n",
       "2. 3\n",
       "3. 4\n",
       "4. 5\n",
       "5. 6\n",
       "6. 7\n",
       "7. 8\n",
       "8. 9\n",
       "9. 10\n",
       "10. 11\n",
       "11. 12\n",
       "12. 13\n",
       "13. 14\n",
       "14. 15\n",
       "15. 16\n",
       "16. 17\n",
       "\n",
       "\n"
      ],
      "text/plain": [
       " [1]  2  3  4  5  6  7  8  9 10 11 12 13 14 15 16 17"
      ]
     },
     "metadata": {},
     "output_type": "display_data"
    },
    {
     "data": {
      "text/html": [
       "<ol class=list-inline>\n",
       "\t<li>4</li>\n",
       "\t<li>9</li>\n",
       "\t<li>16</li>\n",
       "\t<li>25</li>\n",
       "\t<li>36</li>\n",
       "\t<li>49</li>\n",
       "\t<li>64</li>\n",
       "\t<li>81</li>\n",
       "\t<li>100</li>\n",
       "\t<li>121</li>\n",
       "\t<li>144</li>\n",
       "\t<li>169</li>\n",
       "\t<li>196</li>\n",
       "\t<li>225</li>\n",
       "\t<li>256</li>\n",
       "\t<li>289</li>\n",
       "</ol>\n"
      ],
      "text/latex": [
       "\\begin{enumerate*}\n",
       "\\item 4\n",
       "\\item 9\n",
       "\\item 16\n",
       "\\item 25\n",
       "\\item 36\n",
       "\\item 49\n",
       "\\item 64\n",
       "\\item 81\n",
       "\\item 100\n",
       "\\item 121\n",
       "\\item 144\n",
       "\\item 169\n",
       "\\item 196\n",
       "\\item 225\n",
       "\\item 256\n",
       "\\item 289\n",
       "\\end{enumerate*}\n"
      ],
      "text/markdown": [
       "1. 4\n",
       "2. 9\n",
       "3. 16\n",
       "4. 25\n",
       "5. 36\n",
       "6. 49\n",
       "7. 64\n",
       "8. 81\n",
       "9. 100\n",
       "10. 121\n",
       "11. 144\n",
       "12. 169\n",
       "13. 196\n",
       "14. 225\n",
       "15. 256\n",
       "16. 289\n",
       "\n",
       "\n"
      ],
      "text/plain": [
       " [1]   4   9  16  25  36  49  64  81 100 121 144 169 196 225 256 289"
      ]
     },
     "metadata": {},
     "output_type": "display_data"
    },
    {
     "data": {
      "text/html": [
       "<ol class=list-inline>\n",
       "\t<li>1</li>\n",
       "\t<li>10</li>\n",
       "</ol>\n"
      ],
      "text/latex": [
       "\\begin{enumerate*}\n",
       "\\item 1\n",
       "\\item 10\n",
       "\\end{enumerate*}\n"
      ],
      "text/markdown": [
       "1. 1\n",
       "2. 10\n",
       "\n",
       "\n"
      ],
      "text/plain": [
       "[1]  1 10"
      ]
     },
     "metadata": {},
     "output_type": "display_data"
    },
    {
     "data": {
      "text/html": [
       "<ol class=list-inline>\n",
       "\t<li>1</li>\n",
       "\t<li>2</li>\n",
       "\t<li>3</li>\n",
       "\t<li>4</li>\n",
       "\t<li>5</li>\n",
       "\t<li>6</li>\n",
       "\t<li>7</li>\n",
       "\t<li>8</li>\n",
       "\t<li>9</li>\n",
       "\t<li>10</li>\n",
       "</ol>\n"
      ],
      "text/latex": [
       "\\begin{enumerate*}\n",
       "\\item 1\n",
       "\\item 2\n",
       "\\item 3\n",
       "\\item 4\n",
       "\\item 5\n",
       "\\item 6\n",
       "\\item 7\n",
       "\\item 8\n",
       "\\item 9\n",
       "\\item 10\n",
       "\\end{enumerate*}\n"
      ],
      "text/markdown": [
       "1. 1\n",
       "2. 2\n",
       "3. 3\n",
       "4. 4\n",
       "5. 5\n",
       "6. 6\n",
       "7. 7\n",
       "8. 8\n",
       "9. 9\n",
       "10. 10\n",
       "\n",
       "\n"
      ],
      "text/plain": [
       " [1]  1  2  3  4  5  6  7  8  9 10"
      ]
     },
     "metadata": {},
     "output_type": "display_data"
    },
    {
     "data": {
      "text/html": [
       "<ol class=list-inline>\n",
       "\t<li>1</li>\n",
       "\t<li>2</li>\n",
       "\t<li>3</li>\n",
       "\t<li>4</li>\n",
       "\t<li>5</li>\n",
       "\t<li>6</li>\n",
       "\t<li>7</li>\n",
       "\t<li>8</li>\n",
       "\t<li>9</li>\n",
       "\t<li>10</li>\n",
       "</ol>\n"
      ],
      "text/latex": [
       "\\begin{enumerate*}\n",
       "\\item 1\n",
       "\\item 2\n",
       "\\item 3\n",
       "\\item 4\n",
       "\\item 5\n",
       "\\item 6\n",
       "\\item 7\n",
       "\\item 8\n",
       "\\item 9\n",
       "\\item 10\n",
       "\\end{enumerate*}\n"
      ],
      "text/markdown": [
       "1. 1\n",
       "2. 2\n",
       "3. 3\n",
       "4. 4\n",
       "5. 5\n",
       "6. 6\n",
       "7. 7\n",
       "8. 8\n",
       "9. 9\n",
       "10. 10\n",
       "\n",
       "\n"
      ],
      "text/plain": [
       " [1]  1  2  3  4  5  6  7  8  9 10"
      ]
     },
     "metadata": {},
     "output_type": "display_data"
    },
    {
     "data": {
      "text/html": [
       "<ol class=list-inline>\n",
       "\t<li>1</li>\n",
       "\t<li>2</li>\n",
       "\t<li>3</li>\n",
       "\t<li>4</li>\n",
       "\t<li>5</li>\n",
       "\t<li>6</li>\n",
       "\t<li>7</li>\n",
       "\t<li>8</li>\n",
       "\t<li>9</li>\n",
       "\t<li>10</li>\n",
       "</ol>\n"
      ],
      "text/latex": [
       "\\begin{enumerate*}\n",
       "\\item 1\n",
       "\\item 2\n",
       "\\item 3\n",
       "\\item 4\n",
       "\\item 5\n",
       "\\item 6\n",
       "\\item 7\n",
       "\\item 8\n",
       "\\item 9\n",
       "\\item 10\n",
       "\\end{enumerate*}\n"
      ],
      "text/markdown": [
       "1. 1\n",
       "2. 2\n",
       "3. 3\n",
       "4. 4\n",
       "5. 5\n",
       "6. 6\n",
       "7. 7\n",
       "8. 8\n",
       "9. 9\n",
       "10. 10\n",
       "\n",
       "\n"
      ],
      "text/plain": [
       " [1]  1  2  3  4  5  6  7  8  9 10"
      ]
     },
     "metadata": {},
     "output_type": "display_data"
    },
    {
     "data": {
      "text/html": [
       "<ol class=list-inline>\n",
       "\t<li>1</li>\n",
       "\t<li>2</li>\n",
       "\t<li>3</li>\n",
       "\t<li>4</li>\n",
       "\t<li>5</li>\n",
       "\t<li>6</li>\n",
       "\t<li>7</li>\n",
       "\t<li>8</li>\n",
       "\t<li>9</li>\n",
       "\t<li>10</li>\n",
       "</ol>\n"
      ],
      "text/latex": [
       "\\begin{enumerate*}\n",
       "\\item 1\n",
       "\\item 2\n",
       "\\item 3\n",
       "\\item 4\n",
       "\\item 5\n",
       "\\item 6\n",
       "\\item 7\n",
       "\\item 8\n",
       "\\item 9\n",
       "\\item 10\n",
       "\\end{enumerate*}\n"
      ],
      "text/markdown": [
       "1. 1\n",
       "2. 2\n",
       "3. 3\n",
       "4. 4\n",
       "5. 5\n",
       "6. 6\n",
       "7. 7\n",
       "8. 8\n",
       "9. 9\n",
       "10. 10\n",
       "\n",
       "\n"
      ],
      "text/plain": [
       " [1]  1  2  3  4  5  6  7  8  9 10"
      ]
     },
     "metadata": {},
     "output_type": "display_data"
    }
   ],
   "source": [
    "#Vectors\n",
    "print(2:17)\n",
    "vecVar <- 2:17\n",
    "sqVecVariable <- vecVar^2\n",
    "vecVar\n",
    "sqVecVariable\n",
    "c(1,10)\n",
    "c(1:10)\n",
    "c(1:10) -> a\n",
    "a\n",
    "1:10\n",
    "seq(1,10)"
   ]
  },
  {
   "cell_type": "code",
   "execution_count": 246,
   "metadata": {},
   "outputs": [
    {
     "data": {
      "text/html": [
       "<ol class=list-inline>\n",
       "\t<li>'a'</li>\n",
       "\t<li>'A'</li>\n",
       "\t<li>'Aaddrow'</li>\n",
       "\t<li>'calendar'</li>\n",
       "\t<li>'calendar2'</li>\n",
       "\t<li>'colnames'</li>\n",
       "\t<li>'colNames'</li>\n",
       "\t<li>'df'</li>\n",
       "\t<li>'df2'</li>\n",
       "\t<li>'Employed'</li>\n",
       "\t<li>'gender'</li>\n",
       "\t<li>'mat'</li>\n",
       "\t<li>'matlet'</li>\n",
       "\t<li>'matlist'</li>\n",
       "\t<li>'n'</li>\n",
       "\t<li>'newdf'</li>\n",
       "\t<li>'res'</li>\n",
       "\t<li>'rowNames'</li>\n",
       "\t<li>'s_n'</li>\n",
       "\t<li>'sampleVector'</li>\n",
       "\t<li>'series1'</li>\n",
       "\t<li>'series2'</li>\n",
       "\t<li>'series3'</li>\n",
       "\t<li>'series4'</li>\n",
       "\t<li>'squareSampleVector'</li>\n",
       "\t<li>'studentg'</li>\n",
       "\t<li>'v'</li>\n",
       "\t<li>'women'</li>\n",
       "</ol>\n"
      ],
      "text/latex": [
       "\\begin{enumerate*}\n",
       "\\item 'a'\n",
       "\\item 'A'\n",
       "\\item 'Aaddrow'\n",
       "\\item 'calendar'\n",
       "\\item 'calendar2'\n",
       "\\item 'colnames'\n",
       "\\item 'colNames'\n",
       "\\item 'df'\n",
       "\\item 'df2'\n",
       "\\item 'Employed'\n",
       "\\item 'gender'\n",
       "\\item 'mat'\n",
       "\\item 'matlet'\n",
       "\\item 'matlist'\n",
       "\\item 'n'\n",
       "\\item 'newdf'\n",
       "\\item 'res'\n",
       "\\item 'rowNames'\n",
       "\\item 's\\_n'\n",
       "\\item 'sampleVector'\n",
       "\\item 'series1'\n",
       "\\item 'series2'\n",
       "\\item 'series3'\n",
       "\\item 'series4'\n",
       "\\item 'squareSampleVector'\n",
       "\\item 'studentg'\n",
       "\\item 'v'\n",
       "\\item 'women'\n",
       "\\end{enumerate*}\n"
      ],
      "text/markdown": [
       "1. 'a'\n",
       "2. 'A'\n",
       "3. 'Aaddrow'\n",
       "4. 'calendar'\n",
       "5. 'calendar2'\n",
       "6. 'colnames'\n",
       "7. 'colNames'\n",
       "8. 'df'\n",
       "9. 'df2'\n",
       "10. 'Employed'\n",
       "11. 'gender'\n",
       "12. 'mat'\n",
       "13. 'matlet'\n",
       "14. 'matlist'\n",
       "15. 'n'\n",
       "16. 'newdf'\n",
       "17. 'res'\n",
       "18. 'rowNames'\n",
       "19. 's_n'\n",
       "20. 'sampleVector'\n",
       "21. 'series1'\n",
       "22. 'series2'\n",
       "23. 'series3'\n",
       "24. 'series4'\n",
       "25. 'squareSampleVector'\n",
       "26. 'studentg'\n",
       "27. 'v'\n",
       "28. 'women'\n",
       "\n",
       "\n"
      ],
      "text/plain": [
       " [1] \"a\"                  \"A\"                  \"Aaddrow\"           \n",
       " [4] \"calendar\"           \"calendar2\"          \"colnames\"          \n",
       " [7] \"colNames\"           \"df\"                 \"df2\"               \n",
       "[10] \"Employed\"           \"gender\"             \"mat\"               \n",
       "[13] \"matlet\"             \"matlist\"            \"n\"                 \n",
       "[16] \"newdf\"              \"res\"                \"rowNames\"          \n",
       "[19] \"s_n\"                \"sampleVector\"       \"series1\"           \n",
       "[22] \"series2\"            \"series3\"            \"series4\"           \n",
       "[25] \"squareSampleVector\" \"studentg\"           \"v\"                 \n",
       "[28] \"women\"             "
      ]
     },
     "metadata": {},
     "output_type": "display_data"
    },
    {
     "data": {
      "text/plain": [
       "NULL"
      ]
     },
     "metadata": {},
     "output_type": "display_data"
    },
    {
     "data": {
      "text/html": [
       "'C:/Mlaai/deeplearning/Code/Projects/Data'"
      ],
      "text/latex": [
       "'C:/Mlaai/deeplearning/Code/Projects/Data'"
      ],
      "text/markdown": [
       "'C:/Mlaai/deeplearning/Code/Projects/Data'"
      ],
      "text/plain": [
       "[1] \"C:/Mlaai/deeplearning/Code/Projects/Data\""
      ]
     },
     "metadata": {},
     "output_type": "display_data"
    }
   ],
   "source": [
    "# Built in functions\n",
    "ls()\n",
    "c()\n",
    "getwd()"
   ]
  },
  {
   "cell_type": "code",
   "execution_count": 40,
   "metadata": {},
   "outputs": [
    {
     "data": {
      "text/html": [],
      "text/latex": [],
      "text/markdown": [],
      "text/plain": [
       "character(0)"
      ]
     },
     "metadata": {},
     "output_type": "display_data"
    }
   ],
   "source": [
    "#Removes variables from memory\n",
    "rm(list=ls())\n",
    "ls()"
   ]
  },
  {
   "cell_type": "code",
   "execution_count": 49,
   "metadata": {},
   "outputs": [
    {
     "name": "stdout",
     "output_type": "stream",
     "text": [
      "package 'dplyr' successfully unpacked and MD5 sums checked\n",
      "\n",
      "The downloaded binary packages are in\n",
      "\tC:\\Users\\anura\\AppData\\Local\\Temp\\RtmpuW6WIl\\downloaded_packages\n"
     ]
    }
   ],
   "source": [
    "#Data manipulation package - \n",
    "install.packages('dplyr')"
   ]
  },
  {
   "cell_type": "code",
   "execution_count": 45,
   "metadata": {},
   "outputs": [],
   "source": [
    "#load Library\n",
    "library(ggplot2)"
   ]
  },
  {
   "cell_type": "code",
   "execution_count": 64,
   "metadata": {},
   "outputs": [
    {
     "data": {
      "image/png": "[encoded data removed]",
      "text/plain": [
       "plot without title"
      ]
     },
     "metadata": {},
     "output_type": "display_data"
    },
    {
     "data": {
      "image/png": "[encoded data removed]",
      "text/plain": [
       "plot without title"
      ]
     },
     "metadata": {},
     "output_type": "display_data"
    }
   ],
   "source": [
    "#Plot n vs 2n+1\n",
    "n <- 1:10\n",
    "s_n <- 2*n + 1\n",
    "plot(n, s_n)\n",
    "plot(n, s_n, type='b') # use b, c, l"
   ]
  },
  {
   "cell_type": "code",
   "execution_count": 68,
   "metadata": {},
   "outputs": [
    {
     "data": {
      "text/html": [
       "'character'"
      ],
      "text/latex": [
       "'character'"
      ],
      "text/markdown": [
       "'character'"
      ],
      "text/plain": [
       "[1] \"character\""
      ]
     },
     "metadata": {},
     "output_type": "display_data"
    },
    {
     "data": {
      "text/html": [
       "'character'"
      ],
      "text/latex": [
       "'character'"
      ],
      "text/markdown": [
       "'character'"
      ],
      "text/plain": [
       "[1] \"character\""
      ]
     },
     "metadata": {},
     "output_type": "display_data"
    },
    {
     "name": "stdout",
     "output_type": "stream",
     "text": [
      " chr [1:3] \"Paris\" \"London\" \"Rome\"\n"
     ]
    }
   ],
   "source": [
    "a <- c(\"Paris\", \"London\", \"Rome\")\n",
    "class(a)\n",
    "mode(a)\n",
    "str(a)"
   ]
  },
  {
   "cell_type": "code",
   "execution_count": 96,
   "metadata": {},
   "outputs": [
    {
     "data": {
      "text/html": [
       "<ol class=list-inline>\n",
       "\t<li>4</li>\n",
       "\t<li>6</li>\n",
       "\t<li>8</li>\n",
       "\t<li>10</li>\n",
       "\t<li>12</li>\n",
       "</ol>\n"
      ],
      "text/latex": [
       "\\begin{enumerate*}\n",
       "\\item 4\n",
       "\\item 6\n",
       "\\item 8\n",
       "\\item 10\n",
       "\\item 12\n",
       "\\end{enumerate*}\n"
      ],
      "text/markdown": [
       "1. 4\n",
       "2. 6\n",
       "3. 8\n",
       "4. 10\n",
       "5. 12\n",
       "\n",
       "\n"
      ],
      "text/plain": [
       "[1]  4  6  8 10 12"
      ]
     },
     "metadata": {},
     "output_type": "display_data"
    },
    {
     "data": {
      "text/html": [
       "<ol class=list-inline>\n",
       "\t<li>4</li>\n",
       "\t<li>8</li>\n",
       "\t<li>12</li>\n",
       "\t<li>16</li>\n",
       "\t<li>20</li>\n",
       "</ol>\n"
      ],
      "text/latex": [
       "\\begin{enumerate*}\n",
       "\\item 4\n",
       "\\item 8\n",
       "\\item 12\n",
       "\\item 16\n",
       "\\item 20\n",
       "\\end{enumerate*}\n"
      ],
      "text/markdown": [
       "1. 4\n",
       "2. 8\n",
       "3. 12\n",
       "4. 16\n",
       "5. 20\n",
       "\n",
       "\n"
      ],
      "text/plain": [
       "[1]  4  8 12 16 20"
      ]
     },
     "metadata": {},
     "output_type": "display_data"
    },
    {
     "data": {
      "text/html": [
       "<ol class=list-inline>\n",
       "\t<li>1</li>\n",
       "\t<li>2</li>\n",
       "\t<li>3</li>\n",
       "\t<li>4</li>\n",
       "\t<li>5</li>\n",
       "</ol>\n"
      ],
      "text/latex": [
       "\\begin{enumerate*}\n",
       "\\item 1\n",
       "\\item 2\n",
       "\\item 3\n",
       "\\item 4\n",
       "\\item 5\n",
       "\\end{enumerate*}\n"
      ],
      "text/markdown": [
       "1. 1\n",
       "2. 2\n",
       "3. 3\n",
       "4. 4\n",
       "5. 5\n",
       "\n",
       "\n"
      ],
      "text/plain": [
       "[1] 1 2 3 4 5"
      ]
     },
     "metadata": {},
     "output_type": "display_data"
    },
    {
     "data": {
      "text/html": [
       "<ol class=list-inline>\n",
       "\t<li>3</li>\n",
       "\t<li>7</li>\n",
       "\t<li>11</li>\n",
       "\t<li>15</li>\n",
       "\t<li>19</li>\n",
       "</ol>\n"
      ],
      "text/latex": [
       "\\begin{enumerate*}\n",
       "\\item 3\n",
       "\\item 7\n",
       "\\item 11\n",
       "\\item 15\n",
       "\\item 19\n",
       "\\end{enumerate*}\n"
      ],
      "text/markdown": [
       "1. 3\n",
       "2. 7\n",
       "3. 11\n",
       "4. 15\n",
       "5. 19\n",
       "\n",
       "\n"
      ],
      "text/plain": [
       "[1]  3  7 11 15 19"
      ]
     },
     "metadata": {},
     "output_type": "display_data"
    },
    {
     "data": {
      "text/html": [
       "<ol class=list-inline>\n",
       "\t<li>2</li>\n",
       "\t<li>4</li>\n",
       "\t<li>6</li>\n",
       "\t<li>8</li>\n",
       "\t<li>10</li>\n",
       "\t<li>1</li>\n",
       "\t<li>3</li>\n",
       "\t<li>5</li>\n",
       "\t<li>7</li>\n",
       "\t<li>9</li>\n",
       "</ol>\n"
      ],
      "text/latex": [
       "\\begin{enumerate*}\n",
       "\\item 2\n",
       "\\item 4\n",
       "\\item 6\n",
       "\\item 8\n",
       "\\item 10\n",
       "\\item 1\n",
       "\\item 3\n",
       "\\item 5\n",
       "\\item 7\n",
       "\\item 9\n",
       "\\end{enumerate*}\n"
      ],
      "text/markdown": [
       "1. 2\n",
       "2. 4\n",
       "3. 6\n",
       "4. 8\n",
       "5. 10\n",
       "6. 1\n",
       "7. 3\n",
       "8. 5\n",
       "9. 7\n",
       "10. 9\n",
       "\n",
       "\n"
      ],
      "text/plain": [
       " [1]  2  4  6  8 10  1  3  5  7  9"
      ]
     },
     "metadata": {},
     "output_type": "display_data"
    },
    {
     "data": {
      "text/html": [
       "<ol class=list-inline>\n",
       "\t<li>4</li>\n",
       "\t<li>8</li>\n",
       "\t<li>12</li>\n",
       "\t<li>16</li>\n",
       "\t<li>20</li>\n",
       "\t<li>3</li>\n",
       "\t<li>7</li>\n",
       "\t<li>11</li>\n",
       "\t<li>15</li>\n",
       "\t<li>19</li>\n",
       "</ol>\n"
      ],
      "text/latex": [
       "\\begin{enumerate*}\n",
       "\\item 4\n",
       "\\item 8\n",
       "\\item 12\n",
       "\\item 16\n",
       "\\item 20\n",
       "\\item 3\n",
       "\\item 7\n",
       "\\item 11\n",
       "\\item 15\n",
       "\\item 19\n",
       "\\end{enumerate*}\n"
      ],
      "text/markdown": [
       "1. 4\n",
       "2. 8\n",
       "3. 12\n",
       "4. 16\n",
       "5. 20\n",
       "6. 3\n",
       "7. 7\n",
       "8. 11\n",
       "9. 15\n",
       "10. 19\n",
       "\n",
       "\n"
      ],
      "text/plain": [
       " [1]  4  8 12 16 20  3  7 11 15 19"
      ]
     },
     "metadata": {},
     "output_type": "display_data"
    },
    {
     "data": {
      "text/html": [
       "6"
      ],
      "text/latex": [
       "6"
      ],
      "text/markdown": [
       "6"
      ],
      "text/plain": [
       "[1] 6"
      ]
     },
     "metadata": {},
     "output_type": "display_data"
    },
    {
     "data": {
      "text/html": [
       "7"
      ],
      "text/latex": [
       "7"
      ],
      "text/markdown": [
       "7"
      ],
      "text/plain": [
       "[1] 7"
      ]
     },
     "metadata": {},
     "output_type": "display_data"
    },
    {
     "data": {
      "text/html": [
       "<ol class=list-inline>\n",
       "\t<li>1.4142135623731</li>\n",
       "\t<li>1.73205080756888</li>\n",
       "\t<li>2.64575131106459</li>\n",
       "\t<li>3.3166247903554</li>\n",
       "\t<li>3.60555127546399</li>\n",
       "\t<li>4.12310562561766</li>\n",
       "\t<li>4.35889894354067</li>\n",
       "</ol>\n"
      ],
      "text/latex": [
       "\\begin{enumerate*}\n",
       "\\item 1.4142135623731\n",
       "\\item 1.73205080756888\n",
       "\\item 2.64575131106459\n",
       "\\item 3.3166247903554\n",
       "\\item 3.60555127546399\n",
       "\\item 4.12310562561766\n",
       "\\item 4.35889894354067\n",
       "\\end{enumerate*}\n"
      ],
      "text/markdown": [
       "1. 1.4142135623731\n",
       "2. 1.73205080756888\n",
       "3. 2.64575131106459\n",
       "4. 3.3166247903554\n",
       "5. 3.60555127546399\n",
       "6. 4.12310562561766\n",
       "7. 4.35889894354067\n",
       "\n",
       "\n"
      ],
      "text/plain": [
       "[1] 1.414214 1.732051 2.645751 3.316625 3.605551 4.123106 4.358899"
      ]
     },
     "metadata": {},
     "output_type": "display_data"
    },
    {
     "data": {
      "text/html": [
       "<ol class=list-inline>\n",
       "\t<li>2</li>\n",
       "\t<li>3</li>\n",
       "\t<li>7</li>\n",
       "\t<li>11</li>\n",
       "\t<li>13</li>\n",
       "\t<li>17</li>\n",
       "\t<li>19</li>\n",
       "</ol>\n"
      ],
      "text/latex": [
       "\\begin{enumerate*}\n",
       "\\item 2\n",
       "\\item 3\n",
       "\\item 7\n",
       "\\item 11\n",
       "\\item 13\n",
       "\\item 17\n",
       "\\item 19\n",
       "\\end{enumerate*}\n"
      ],
      "text/markdown": [
       "1. 2\n",
       "2. 3\n",
       "3. 7\n",
       "4. 11\n",
       "5. 13\n",
       "6. 17\n",
       "7. 19\n",
       "\n",
       "\n"
      ],
      "text/plain": [
       "[1]  2  3  7 11 13 17 19"
      ]
     },
     "metadata": {},
     "output_type": "display_data"
    },
    {
     "data": {
      "text/html": [
       "<ol class=list-inline>\n",
       "\t<li>2</li>\n",
       "\t<li>11</li>\n",
       "\t<li>19</li>\n",
       "</ol>\n"
      ],
      "text/latex": [
       "\\begin{enumerate*}\n",
       "\\item 2\n",
       "\\item 11\n",
       "\\item 19\n",
       "\\end{enumerate*}\n"
      ],
      "text/markdown": [
       "1. 2\n",
       "2. 11\n",
       "3. 19\n",
       "\n",
       "\n"
      ],
      "text/plain": [
       "[1]  2 11 19"
      ]
     },
     "metadata": {},
     "output_type": "display_data"
    },
    {
     "data": {
      "text/html": [
       "<ol class=list-inline>\n",
       "\t<li>6</li>\n",
       "\t<li>8</li>\n",
       "\t<li>10</li>\n",
       "\t<li>7</li>\n",
       "\t<li>9</li>\n",
       "</ol>\n"
      ],
      "text/latex": [
       "\\begin{enumerate*}\n",
       "\\item 6\n",
       "\\item 8\n",
       "\\item 10\n",
       "\\item 7\n",
       "\\item 9\n",
       "\\end{enumerate*}\n"
      ],
      "text/markdown": [
       "1. 6\n",
       "2. 8\n",
       "3. 10\n",
       "4. 7\n",
       "5. 9\n",
       "\n",
       "\n"
      ],
      "text/plain": [
       "[1]  6  8 10  7  9"
      ]
     },
     "metadata": {},
     "output_type": "display_data"
    },
    {
     "data": {
      "text/html": [
       "<ol class=list-inline>\n",
       "\t<li>2</li>\n",
       "\t<li>6</li>\n",
       "\t<li>8</li>\n",
       "\t<li>10</li>\n",
       "\t<li>1</li>\n",
       "\t<li>3</li>\n",
       "\t<li>5</li>\n",
       "\t<li>7</li>\n",
       "\t<li>9</li>\n",
       "</ol>\n"
      ],
      "text/latex": [
       "\\begin{enumerate*}\n",
       "\\item 2\n",
       "\\item 6\n",
       "\\item 8\n",
       "\\item 10\n",
       "\\item 1\n",
       "\\item 3\n",
       "\\item 5\n",
       "\\item 7\n",
       "\\item 9\n",
       "\\end{enumerate*}\n"
      ],
      "text/markdown": [
       "1. 2\n",
       "2. 6\n",
       "3. 8\n",
       "4. 10\n",
       "5. 1\n",
       "6. 3\n",
       "7. 5\n",
       "8. 7\n",
       "9. 9\n",
       "\n",
       "\n"
      ],
      "text/plain": [
       "[1]  2  6  8 10  1  3  5  7  9"
      ]
     },
     "metadata": {},
     "output_type": "display_data"
    }
   ],
   "source": [
    "#Indexing and Subsetting with Index Vector\n",
    "series1 <- c(2,4,6,8,10)\n",
    "series2 <- c(1,3,5,7,9)\n",
    "series3 <- c(series1,series2)\n",
    "series1+2\n",
    "series1*2\n",
    "series1/2\n",
    "series1+series2\n",
    "series3\n",
    "series3+series1\n",
    "series1[3]\n",
    "series4 <- c(2,3,7,11,13,17,19)\n",
    "which.max(series4)\n",
    "sqrt(series4)\n",
    "series4\n",
    "series4[seq(1,7,by=3)]\n",
    "series3[series3 > 5]\n",
    "series3[-2]"
   ]
  },
  {
   "cell_type": "code",
   "execution_count": 97,
   "metadata": {},
   "outputs": [
    {
     "data": {
      "text/html": [
       "<ol class=list-inline>\n",
       "\t<li>3</li>\n",
       "\t<li>2</li>\n",
       "\t<li>4</li>\n",
       "\t<li>10</li>\n",
       "\t<li>8</li>\n",
       "</ol>\n"
      ],
      "text/latex": [
       "\\begin{enumerate*}\n",
       "\\item 3\n",
       "\\item 2\n",
       "\\item 4\n",
       "\\item 10\n",
       "\\item 8\n",
       "\\end{enumerate*}\n"
      ],
      "text/markdown": [
       "1. 3\n",
       "2. 2\n",
       "3. 4\n",
       "4. 10\n",
       "5. 8\n",
       "\n",
       "\n"
      ],
      "text/plain": [
       "[1]  3  2  4 10  8"
      ]
     },
     "metadata": {},
     "output_type": "display_data"
    },
    {
     "data": {
      "text/html": [
       "<ol class=list-inline>\n",
       "\t<li>3</li>\n",
       "\t<li>10</li>\n",
       "\t<li>6</li>\n",
       "\t<li>9</li>\n",
       "\t<li>4</li>\n",
       "</ol>\n"
      ],
      "text/latex": [
       "\\begin{enumerate*}\n",
       "\\item 3\n",
       "\\item 10\n",
       "\\item 6\n",
       "\\item 9\n",
       "\\item 4\n",
       "\\end{enumerate*}\n"
      ],
      "text/markdown": [
       "1. 3\n",
       "2. 10\n",
       "3. 6\n",
       "4. 9\n",
       "5. 4\n",
       "\n",
       "\n"
      ],
      "text/plain": [
       "[1]  3 10  6  9  4"
      ]
     },
     "metadata": {},
     "output_type": "display_data"
    },
    {
     "data": {
      "text/html": [
       "<ol class=list-inline>\n",
       "\t<li>7</li>\n",
       "\t<li>6</li>\n",
       "\t<li>9</li>\n",
       "\t<li>4</li>\n",
       "\t<li>3</li>\n",
       "</ol>\n"
      ],
      "text/latex": [
       "\\begin{enumerate*}\n",
       "\\item 7\n",
       "\\item 6\n",
       "\\item 9\n",
       "\\item 4\n",
       "\\item 3\n",
       "\\end{enumerate*}\n"
      ],
      "text/markdown": [
       "1. 7\n",
       "2. 6\n",
       "3. 9\n",
       "4. 4\n",
       "5. 3\n",
       "\n",
       "\n"
      ],
      "text/plain": [
       "[1] 7 6 9 4 3"
      ]
     },
     "metadata": {},
     "output_type": "display_data"
    }
   ],
   "source": [
    "#Taking Random samples\n",
    "sample(series3,size=5)\n",
    "sample(series3,size=5)\n",
    "sample(series3,size=5)"
   ]
  },
  {
   "cell_type": "code",
   "execution_count": 98,
   "metadata": {},
   "outputs": [
    {
     "data": {
      "text/html": [
       "<ol class=list-inline>\n",
       "\t<li>4</li>\n",
       "\t<li>1</li>\n",
       "\t<li>10</li>\n",
       "\t<li>5</li>\n",
       "\t<li>7</li>\n",
       "</ol>\n"
      ],
      "text/latex": [
       "\\begin{enumerate*}\n",
       "\\item 4\n",
       "\\item 1\n",
       "\\item 10\n",
       "\\item 5\n",
       "\\item 7\n",
       "\\end{enumerate*}\n"
      ],
      "text/markdown": [
       "1. 4\n",
       "2. 1\n",
       "3. 10\n",
       "4. 5\n",
       "5. 7\n",
       "\n",
       "\n"
      ],
      "text/plain": [
       "[1]  4  1 10  5  7"
      ]
     },
     "metadata": {},
     "output_type": "display_data"
    },
    {
     "data": {
      "text/html": [
       "<ol class=list-inline>\n",
       "\t<li>3</li>\n",
       "\t<li>2</li>\n",
       "\t<li>4</li>\n",
       "\t<li>10</li>\n",
       "\t<li>8</li>\n",
       "</ol>\n"
      ],
      "text/latex": [
       "\\begin{enumerate*}\n",
       "\\item 3\n",
       "\\item 2\n",
       "\\item 4\n",
       "\\item 10\n",
       "\\item 8\n",
       "\\end{enumerate*}\n"
      ],
      "text/markdown": [
       "1. 3\n",
       "2. 2\n",
       "3. 4\n",
       "4. 10\n",
       "5. 8\n",
       "\n",
       "\n"
      ],
      "text/plain": [
       "[1]  3  2  4 10  8"
      ]
     },
     "metadata": {},
     "output_type": "display_data"
    },
    {
     "data": {
      "text/html": [
       "<ol class=list-inline>\n",
       "\t<li>4</li>\n",
       "\t<li>1</li>\n",
       "\t<li>10</li>\n",
       "\t<li>5</li>\n",
       "\t<li>7</li>\n",
       "</ol>\n"
      ],
      "text/latex": [
       "\\begin{enumerate*}\n",
       "\\item 4\n",
       "\\item 1\n",
       "\\item 10\n",
       "\\item 5\n",
       "\\item 7\n",
       "\\end{enumerate*}\n"
      ],
      "text/markdown": [
       "1. 4\n",
       "2. 1\n",
       "3. 10\n",
       "4. 5\n",
       "5. 7\n",
       "\n",
       "\n"
      ],
      "text/plain": [
       "[1]  4  1 10  5  7"
      ]
     },
     "metadata": {},
     "output_type": "display_data"
    }
   ],
   "source": [
    "#Setting a seed\n",
    "set.seed(1234)\n",
    "sample(series3,size=5)\n",
    "sample(series3,size=5)\n",
    "set.seed(1234)\n",
    "sample(series3,size=5)"
   ]
  },
  {
   "cell_type": "code",
   "execution_count": 105,
   "metadata": {},
   "outputs": [
    {
     "data": {
      "text/html": [
       "<ol class=list-inline>\n",
       "\t<li>2</li>\n",
       "\t<li>4</li>\n",
       "\t<li>6</li>\n",
       "\t<li>8</li>\n",
       "\t<li>10</li>\n",
       "\t<li>1</li>\n",
       "\t<li>3</li>\n",
       "\t<li>5</li>\n",
       "\t<li>7</li>\n",
       "\t<li>9</li>\n",
       "</ol>\n"
      ],
      "text/latex": [
       "\\begin{enumerate*}\n",
       "\\item 2\n",
       "\\item 4\n",
       "\\item 6\n",
       "\\item 8\n",
       "\\item 10\n",
       "\\item 1\n",
       "\\item 3\n",
       "\\item 5\n",
       "\\item 7\n",
       "\\item 9\n",
       "\\end{enumerate*}\n"
      ],
      "text/markdown": [
       "1. 2\n",
       "2. 4\n",
       "3. 6\n",
       "4. 8\n",
       "5. 10\n",
       "6. 1\n",
       "7. 3\n",
       "8. 5\n",
       "9. 7\n",
       "10. 9\n",
       "\n",
       "\n"
      ],
      "text/plain": [
       " [1]  2  4  6  8 10  1  3  5  7  9"
      ]
     },
     "metadata": {},
     "output_type": "display_data"
    },
    {
     "ename": "ERROR",
     "evalue": "Error in sample.int(length(x), size, replace, prob): cannot take a sample larger than the population when 'replace = FALSE'\n",
     "output_type": "error",
     "traceback": [
      "Error in sample.int(length(x), size, replace, prob): cannot take a sample larger than the population when 'replace = FALSE'\nTraceback:\n",
      "1. sample(series3, size = 11)",
      "2. sample.int(length(x), size, replace, prob)"
     ]
    }
   ],
   "source": [
    "#Sample\n",
    "series3\n",
    "sample(series3,size=11)"
   ]
  },
  {
   "cell_type": "code",
   "execution_count": 111,
   "metadata": {},
   "outputs": [
    {
     "data": {
      "text/html": [
       "<ol class=list-inline>\n",
       "\t<li>2</li>\n",
       "\t<li>4</li>\n",
       "\t<li>6</li>\n",
       "\t<li>8</li>\n",
       "\t<li>10</li>\n",
       "\t<li>1</li>\n",
       "\t<li>3</li>\n",
       "\t<li>5</li>\n",
       "\t<li>7</li>\n",
       "\t<li>9</li>\n",
       "</ol>\n"
      ],
      "text/latex": [
       "\\begin{enumerate*}\n",
       "\\item 2\n",
       "\\item 4\n",
       "\\item 6\n",
       "\\item 8\n",
       "\\item 10\n",
       "\\item 1\n",
       "\\item 3\n",
       "\\item 5\n",
       "\\item 7\n",
       "\\item 9\n",
       "\\end{enumerate*}\n"
      ],
      "text/markdown": [
       "1. 2\n",
       "2. 4\n",
       "3. 6\n",
       "4. 8\n",
       "5. 10\n",
       "6. 1\n",
       "7. 3\n",
       "8. 5\n",
       "9. 7\n",
       "10. 9\n",
       "\n",
       "\n"
      ],
      "text/plain": [
       " [1]  2  4  6  8 10  1  3  5  7  9"
      ]
     },
     "metadata": {},
     "output_type": "display_data"
    },
    {
     "data": {
      "text/html": [
       "<ol class=list-inline>\n",
       "\t<li>8</li>\n",
       "\t<li>10</li>\n",
       "\t<li>8</li>\n",
       "\t<li>3</li>\n",
       "\t<li>5</li>\n",
       "\t<li>1</li>\n",
       "\t<li>9</li>\n",
       "\t<li>1</li>\n",
       "\t<li>10</li>\n",
       "\t<li>6</li>\n",
       "\t<li>2</li>\n",
       "</ol>\n"
      ],
      "text/latex": [
       "\\begin{enumerate*}\n",
       "\\item 8\n",
       "\\item 10\n",
       "\\item 8\n",
       "\\item 3\n",
       "\\item 5\n",
       "\\item 1\n",
       "\\item 9\n",
       "\\item 1\n",
       "\\item 10\n",
       "\\item 6\n",
       "\\item 2\n",
       "\\end{enumerate*}\n"
      ],
      "text/markdown": [
       "1. 8\n",
       "2. 10\n",
       "3. 8\n",
       "4. 3\n",
       "5. 5\n",
       "6. 1\n",
       "7. 9\n",
       "8. 1\n",
       "9. 10\n",
       "10. 6\n",
       "11. 2\n",
       "\n",
       "\n"
      ],
      "text/plain": [
       " [1]  8 10  8  3  5  1  9  1 10  6  2"
      ]
     },
     "metadata": {},
     "output_type": "display_data"
    },
    {
     "data": {
      "text/html": [
       "<ol class=list-inline>\n",
       "\t<li>7</li>\n",
       "\t<li>6</li>\n",
       "\t<li>9</li>\n",
       "\t<li>3</li>\n",
       "\t<li>9</li>\n",
       "\t<li>8</li>\n",
       "\t<li>1</li>\n",
       "\t<li>10</li>\n",
       "\t<li>1</li>\n",
       "\t<li>10</li>\n",
       "</ol>\n"
      ],
      "text/latex": [
       "\\begin{enumerate*}\n",
       "\\item 7\n",
       "\\item 6\n",
       "\\item 9\n",
       "\\item 3\n",
       "\\item 9\n",
       "\\item 8\n",
       "\\item 1\n",
       "\\item 10\n",
       "\\item 1\n",
       "\\item 10\n",
       "\\end{enumerate*}\n"
      ],
      "text/markdown": [
       "1. 7\n",
       "2. 6\n",
       "3. 9\n",
       "4. 3\n",
       "5. 9\n",
       "6. 8\n",
       "7. 1\n",
       "8. 10\n",
       "9. 1\n",
       "10. 10\n",
       "\n",
       "\n"
      ],
      "text/plain": [
       " [1]  7  6  9  3  9  8  1 10  1 10"
      ]
     },
     "metadata": {},
     "output_type": "display_data"
    },
    {
     "data": {
      "text/html": [
       "<ol class=list-inline>\n",
       "\t<li>6</li>\n",
       "\t<li>2</li>\n",
       "\t<li>3</li>\n",
       "\t<li>10</li>\n",
       "\t<li>2</li>\n",
       "\t<li>7</li>\n",
       "\t<li>8</li>\n",
       "\t<li>5</li>\n",
       "\t<li>1</li>\n",
       "\t<li>5</li>\n",
       "</ol>\n"
      ],
      "text/latex": [
       "\\begin{enumerate*}\n",
       "\\item 6\n",
       "\\item 2\n",
       "\\item 3\n",
       "\\item 10\n",
       "\\item 2\n",
       "\\item 7\n",
       "\\item 8\n",
       "\\item 5\n",
       "\\item 1\n",
       "\\item 5\n",
       "\\end{enumerate*}\n"
      ],
      "text/markdown": [
       "1. 6\n",
       "2. 2\n",
       "3. 3\n",
       "4. 10\n",
       "5. 2\n",
       "6. 7\n",
       "7. 8\n",
       "8. 5\n",
       "9. 1\n",
       "10. 5\n",
       "\n",
       "\n"
      ],
      "text/plain": [
       " [1]  6  2  3 10  2  7  8  5  1  5"
      ]
     },
     "metadata": {},
     "output_type": "display_data"
    },
    {
     "data": {
      "text/html": [
       "<ol class=list-inline>\n",
       "\t<li>10</li>\n",
       "\t<li>8</li>\n",
       "\t<li>3</li>\n",
       "\t<li>6</li>\n",
       "\t<li>7</li>\n",
       "\t<li>2</li>\n",
       "\t<li>4</li>\n",
       "\t<li>1</li>\n",
       "\t<li>9</li>\n",
       "\t<li>5</li>\n",
       "</ol>\n"
      ],
      "text/latex": [
       "\\begin{enumerate*}\n",
       "\\item 10\n",
       "\\item 8\n",
       "\\item 3\n",
       "\\item 6\n",
       "\\item 7\n",
       "\\item 2\n",
       "\\item 4\n",
       "\\item 1\n",
       "\\item 9\n",
       "\\item 5\n",
       "\\end{enumerate*}\n"
      ],
      "text/markdown": [
       "1. 10\n",
       "2. 8\n",
       "3. 3\n",
       "4. 6\n",
       "5. 7\n",
       "6. 2\n",
       "7. 4\n",
       "8. 1\n",
       "9. 9\n",
       "10. 5\n",
       "\n",
       "\n"
      ],
      "text/plain": [
       " [1] 10  8  3  6  7  2  4  1  9  5"
      ]
     },
     "metadata": {},
     "output_type": "display_data"
    },
    {
     "data": {
      "text/html": [
       "<ol class=list-inline>\n",
       "\t<li>2</li>\n",
       "\t<li>7</li>\n",
       "\t<li>9</li>\n",
       "\t<li>1</li>\n",
       "\t<li>8</li>\n",
       "\t<li>4</li>\n",
       "\t<li>6</li>\n",
       "\t<li>10</li>\n",
       "\t<li>3</li>\n",
       "\t<li>5</li>\n",
       "</ol>\n"
      ],
      "text/latex": [
       "\\begin{enumerate*}\n",
       "\\item 2\n",
       "\\item 7\n",
       "\\item 9\n",
       "\\item 1\n",
       "\\item 8\n",
       "\\item 4\n",
       "\\item 6\n",
       "\\item 10\n",
       "\\item 3\n",
       "\\item 5\n",
       "\\end{enumerate*}\n"
      ],
      "text/markdown": [
       "1. 2\n",
       "2. 7\n",
       "3. 9\n",
       "4. 1\n",
       "5. 8\n",
       "6. 4\n",
       "7. 6\n",
       "8. 10\n",
       "9. 3\n",
       "10. 5\n",
       "\n",
       "\n"
      ],
      "text/plain": [
       " [1]  2  7  9  1  8  4  6 10  3  5"
      ]
     },
     "metadata": {},
     "output_type": "display_data"
    }
   ],
   "source": [
    "series3\n",
    "sample(series3,size=11,replace=TRUE)\n",
    "sample(series3,size=10,replace=TRUE)\n",
    "sample(series3,size=10,replace=TRUE)\n",
    "sample(series3,size=10,replace=FALSE)\n",
    "sample(series3,size=10,replace=FALSE)"
   ]
  },
  {
   "cell_type": "code",
   "execution_count": 113,
   "metadata": {},
   "outputs": [
    {
     "data": {
      "text/html": [
       "<ol class=list-inline>\n",
       "\t<li>4</li>\n",
       "\t<li>1</li>\n",
       "\t<li>10</li>\n",
       "\t<li>5</li>\n",
       "\t<li>7</li>\n",
       "</ol>\n"
      ],
      "text/latex": [
       "\\begin{enumerate*}\n",
       "\\item 4\n",
       "\\item 1\n",
       "\\item 10\n",
       "\\item 5\n",
       "\\item 7\n",
       "\\end{enumerate*}\n"
      ],
      "text/markdown": [
       "1. 4\n",
       "2. 1\n",
       "3. 10\n",
       "4. 5\n",
       "5. 7\n",
       "\n",
       "\n"
      ],
      "text/plain": [
       "[1]  4  1 10  5  7"
      ]
     },
     "metadata": {},
     "output_type": "display_data"
    }
   ],
   "source": [
    "set.seed(1234)\n",
    "sample(series3,size=5)"
   ]
  },
  {
   "cell_type": "code",
   "execution_count": 117,
   "metadata": {},
   "outputs": [
    {
     "data": {
      "text/html": [
       "<table>\n",
       "<tbody>\n",
       "\t<tr><td>1</td><td>4</td><td>7</td></tr>\n",
       "\t<tr><td>2</td><td>5</td><td>8</td></tr>\n",
       "\t<tr><td>3</td><td>6</td><td>9</td></tr>\n",
       "</tbody>\n",
       "</table>\n"
      ],
      "text/latex": [
       "\\begin{tabular}{lll}\n",
       "\t 1 & 4 & 7\\\\\n",
       "\t 2 & 5 & 8\\\\\n",
       "\t 3 & 6 & 9\\\\\n",
       "\\end{tabular}\n"
      ],
      "text/markdown": [
       "\n",
       "| 1 | 4 | 7 | \n",
       "| 2 | 5 | 8 | \n",
       "| 3 | 6 | 9 | \n",
       "\n",
       "\n"
      ],
      "text/plain": [
       "     [,1] [,2] [,3]\n",
       "[1,] 1    4    7   \n",
       "[2,] 2    5    8   \n",
       "[3,] 3    6    9   "
      ]
     },
     "metadata": {},
     "output_type": "display_data"
    }
   ],
   "source": [
    "#Matrix\n",
    "A <- matrix(c(1,2,3,4,5,6,7,8,9),nrow=3,ncol=3)\n",
    "A"
   ]
  },
  {
   "cell_type": "code",
   "execution_count": 119,
   "metadata": {},
   "outputs": [
    {
     "data": {
      "text/html": [
       "<table>\n",
       "<tbody>\n",
       "\t<tr><td>0</td><td>2</td><td>4</td><td>6</td><td>8</td></tr>\n",
       "\t<tr><td>1</td><td>3</td><td>5</td><td>7</td><td>9</td></tr>\n",
       "</tbody>\n",
       "</table>\n"
      ],
      "text/latex": [
       "\\begin{tabular}{lllll}\n",
       "\t 0 & 2 & 4 & 6 & 8\\\\\n",
       "\t 1 & 3 & 5 & 7 & 9\\\\\n",
       "\\end{tabular}\n"
      ],
      "text/markdown": [
       "\n",
       "| 0 | 2 | 4 | 6 | 8 | \n",
       "| 1 | 3 | 5 | 7 | 9 | \n",
       "\n",
       "\n"
      ],
      "text/plain": [
       "     [,1] [,2] [,3] [,4] [,5]\n",
       "[1,] 0    2    4    6    8   \n",
       "[2,] 1    3    5    7    9   "
      ]
     },
     "metadata": {},
     "output_type": "display_data"
    }
   ],
   "source": [
    "A <- matrix(c(0,1,2,3,4,5,6,7,8,9),nrow=2)\n",
    "A"
   ]
  },
  {
   "cell_type": "code",
   "execution_count": 124,
   "metadata": {},
   "outputs": [
    {
     "data": {
      "text/html": [
       "<table>\n",
       "<tbody>\n",
       "\t<tr><td>0</td><td>1</td><td>2</td><td>3</td><td>4</td></tr>\n",
       "\t<tr><td>5</td><td>6</td><td>7</td><td>8</td><td>9</td></tr>\n",
       "</tbody>\n",
       "</table>\n"
      ],
      "text/latex": [
       "\\begin{tabular}{lllll}\n",
       "\t 0 & 1 & 2 & 3 & 4\\\\\n",
       "\t 5 & 6 & 7 & 8 & 9\\\\\n",
       "\\end{tabular}\n"
      ],
      "text/markdown": [
       "\n",
       "| 0 | 1 | 2 | 3 | 4 | \n",
       "| 5 | 6 | 7 | 8 | 9 | \n",
       "\n",
       "\n"
      ],
      "text/plain": [
       "     [,1] [,2] [,3] [,4] [,5]\n",
       "[1,] 0    1    2    3    4   \n",
       "[2,] 5    6    7    8    9   "
      ]
     },
     "metadata": {},
     "output_type": "display_data"
    },
    {
     "data": {
      "text/html": [
       "'matrix'"
      ],
      "text/latex": [
       "'matrix'"
      ],
      "text/markdown": [
       "'matrix'"
      ],
      "text/plain": [
       "[1] \"matrix\""
      ]
     },
     "metadata": {},
     "output_type": "display_data"
    },
    {
     "data": {
      "text/html": [
       "4"
      ],
      "text/latex": [
       "4"
      ],
      "text/markdown": [
       "4"
      ],
      "text/plain": [
       "[1] 4"
      ]
     },
     "metadata": {},
     "output_type": "display_data"
    }
   ],
   "source": [
    "A <- matrix(c(0,1,2,3,4,5,6,7,8,9),nrow=2, byrow=TRUE)\n",
    "A\n",
    "class(A)\n",
    "A[1,5]"
   ]
  },
  {
   "cell_type": "code",
   "execution_count": 127,
   "metadata": {},
   "outputs": [
    {
     "data": {
      "text/html": [
       "<table>\n",
       "<tbody>\n",
       "\t<tr><td>0</td><td>1</td><td>2</td><td>3</td><td>4</td></tr>\n",
       "\t<tr><td>5</td><td>6</td><td>7</td><td>8</td><td>9</td></tr>\n",
       "\t<tr><td>4</td><td>3</td><td>2</td><td>1</td><td>0</td></tr>\n",
       "</tbody>\n",
       "</table>\n"
      ],
      "text/latex": [
       "\\begin{tabular}{lllll}\n",
       "\t 0 & 1 & 2 & 3 & 4\\\\\n",
       "\t 5 & 6 & 7 & 8 & 9\\\\\n",
       "\t 4 & 3 & 2 & 1 & 0\\\\\n",
       "\\end{tabular}\n"
      ],
      "text/markdown": [
       "\n",
       "| 0 | 1 | 2 | 3 | 4 | \n",
       "| 5 | 6 | 7 | 8 | 9 | \n",
       "| 4 | 3 | 2 | 1 | 0 | \n",
       "\n",
       "\n"
      ],
      "text/plain": [
       "     [,1] [,2] [,3] [,4] [,5]\n",
       "[1,] 0    1    2    3    4   \n",
       "[2,] 5    6    7    8    9   \n",
       "[3,] 4    3    2    1    0   "
      ]
     },
     "metadata": {},
     "output_type": "display_data"
    }
   ],
   "source": [
    "Aaddrow = rbind(A,c(4,3,2,1,0))\n",
    "Aaddrow"
   ]
  },
  {
   "cell_type": "code",
   "execution_count": 128,
   "metadata": {},
   "outputs": [
    {
     "data": {
      "text/html": [
       "<table>\n",
       "<tbody>\n",
       "\t<tr><td>0</td><td>1</td><td>2</td><td>3</td><td>4</td></tr>\n",
       "\t<tr><td>5</td><td>6</td><td>7</td><td>8</td><td>9</td></tr>\n",
       "\t<tr><td>0</td><td>1</td><td>2</td><td>3</td><td>4</td></tr>\n",
       "\t<tr><td>5</td><td>6</td><td>7</td><td>8</td><td>9</td></tr>\n",
       "\t<tr><td>4</td><td>3</td><td>2</td><td>1</td><td>0</td></tr>\n",
       "</tbody>\n",
       "</table>\n"
      ],
      "text/latex": [
       "\\begin{tabular}{lllll}\n",
       "\t 0 & 1 & 2 & 3 & 4\\\\\n",
       "\t 5 & 6 & 7 & 8 & 9\\\\\n",
       "\t 0 & 1 & 2 & 3 & 4\\\\\n",
       "\t 5 & 6 & 7 & 8 & 9\\\\\n",
       "\t 4 & 3 & 2 & 1 & 0\\\\\n",
       "\\end{tabular}\n"
      ],
      "text/markdown": [
       "\n",
       "| 0 | 1 | 2 | 3 | 4 | \n",
       "| 5 | 6 | 7 | 8 | 9 | \n",
       "| 0 | 1 | 2 | 3 | 4 | \n",
       "| 5 | 6 | 7 | 8 | 9 | \n",
       "| 4 | 3 | 2 | 1 | 0 | \n",
       "\n",
       "\n"
      ],
      "text/plain": [
       "     [,1] [,2] [,3] [,4] [,5]\n",
       "[1,] 0    1    2    3    4   \n",
       "[2,] 5    6    7    8    9   \n",
       "[3,] 0    1    2    3    4   \n",
       "[4,] 5    6    7    8    9   \n",
       "[5,] 4    3    2    1    0   "
      ]
     },
     "metadata": {},
     "output_type": "display_data"
    }
   ],
   "source": [
    "rbind(A,Aaddrow)"
   ]
  },
  {
   "cell_type": "code",
   "execution_count": 130,
   "metadata": {},
   "outputs": [
    {
     "data": {
      "text/html": [
       "<ol class=list-inline>\n",
       "\t<li>3</li>\n",
       "\t<li>5</li>\n",
       "</ol>\n"
      ],
      "text/latex": [
       "\\begin{enumerate*}\n",
       "\\item 3\n",
       "\\item 5\n",
       "\\end{enumerate*}\n"
      ],
      "text/markdown": [
       "1. 3\n",
       "2. 5\n",
       "\n",
       "\n"
      ],
      "text/plain": [
       "[1] 3 5"
      ]
     },
     "metadata": {},
     "output_type": "display_data"
    },
    {
     "data": {
      "text/html": [
       "<ol class=list-inline>\n",
       "\t<li>2</li>\n",
       "\t<li>5</li>\n",
       "</ol>\n"
      ],
      "text/latex": [
       "\\begin{enumerate*}\n",
       "\\item 2\n",
       "\\item 5\n",
       "\\end{enumerate*}\n"
      ],
      "text/markdown": [
       "1. 2\n",
       "2. 5\n",
       "\n",
       "\n"
      ],
      "text/plain": [
       "[1] 2 5"
      ]
     },
     "metadata": {},
     "output_type": "display_data"
    }
   ],
   "source": [
    "dim(Aaddrow)\n",
    "dim(A)"
   ]
  },
  {
   "cell_type": "code",
   "execution_count": 131,
   "metadata": {},
   "outputs": [
    {
     "data": {
      "text/html": [
       "<table>\n",
       "<tbody>\n",
       "\t<tr><td>0</td><td>1</td><td>2</td><td>3</td><td>4</td><td>0</td><td>1</td><td>2</td><td>3</td><td>4</td></tr>\n",
       "\t<tr><td>5</td><td>6</td><td>7</td><td>8</td><td>9</td><td>5</td><td>6</td><td>7</td><td>8</td><td>9</td></tr>\n",
       "</tbody>\n",
       "</table>\n"
      ],
      "text/latex": [
       "\\begin{tabular}{llllllllll}\n",
       "\t 0 & 1 & 2 & 3 & 4 & 0 & 1 & 2 & 3 & 4\\\\\n",
       "\t 5 & 6 & 7 & 8 & 9 & 5 & 6 & 7 & 8 & 9\\\\\n",
       "\\end{tabular}\n"
      ],
      "text/markdown": [
       "\n",
       "| 0 | 1 | 2 | 3 | 4 | 0 | 1 | 2 | 3 | 4 | \n",
       "| 5 | 6 | 7 | 8 | 9 | 5 | 6 | 7 | 8 | 9 | \n",
       "\n",
       "\n"
      ],
      "text/plain": [
       "     [,1] [,2] [,3] [,4] [,5] [,6] [,7] [,8] [,9] [,10]\n",
       "[1,] 0    1    2    3    4    0    1    2    3    4    \n",
       "[2,] 5    6    7    8    9    5    6    7    8    9    "
      ]
     },
     "metadata": {},
     "output_type": "display_data"
    }
   ],
   "source": [
    "cbind(A,A)"
   ]
  },
  {
   "cell_type": "code",
   "execution_count": 132,
   "metadata": {},
   "outputs": [
    {
     "data": {
      "text/html": [
       "7"
      ],
      "text/latex": [
       "7"
      ],
      "text/markdown": [
       "7"
      ],
      "text/plain": [
       "[1] 7"
      ]
     },
     "metadata": {},
     "output_type": "display_data"
    }
   ],
   "source": [
    "Aaddrow[2,3]"
   ]
  },
  {
   "cell_type": "code",
   "execution_count": 136,
   "metadata": {},
   "outputs": [
    {
     "data": {
      "text/html": [
       "<table>\n",
       "<tbody>\n",
       "\t<tr><td>a  </td><td>b  </td><td>c  </td><td>d  </td><td>e  </td><td>f  </td><td>g  </td><td>h  </td><td>i  </td><td>j  </td><td>...</td><td>q  </td><td>r  </td><td>s  </td><td>t  </td><td>u  </td><td>v  </td><td>w  </td><td>x  </td><td>y  </td><td>z  </td></tr>\n",
       "\t<tr><td>a  </td><td>b  </td><td>c  </td><td>d  </td><td>e  </td><td>f  </td><td>g  </td><td>h  </td><td>i  </td><td>j  </td><td>...</td><td>q  </td><td>r  </td><td>s  </td><td>t  </td><td>u  </td><td>v  </td><td>w  </td><td>x  </td><td>y  </td><td>z  </td></tr>\n",
       "\t<tr><td>a  </td><td>b  </td><td>c  </td><td>d  </td><td>e  </td><td>f  </td><td>g  </td><td>h  </td><td>i  </td><td>j  </td><td>...</td><td>q  </td><td>r  </td><td>s  </td><td>t  </td><td>u  </td><td>v  </td><td>w  </td><td>x  </td><td>y  </td><td>z  </td></tr>\n",
       "\t<tr><td>a  </td><td>b  </td><td>c  </td><td>d  </td><td>e  </td><td>f  </td><td>g  </td><td>h  </td><td>i  </td><td>j  </td><td>...</td><td>q  </td><td>r  </td><td>s  </td><td>t  </td><td>u  </td><td>v  </td><td>w  </td><td>x  </td><td>y  </td><td>z  </td></tr>\n",
       "\t<tr><td>a  </td><td>b  </td><td>c  </td><td>d  </td><td>e  </td><td>f  </td><td>g  </td><td>h  </td><td>i  </td><td>j  </td><td>...</td><td>q  </td><td>r  </td><td>s  </td><td>t  </td><td>u  </td><td>v  </td><td>w  </td><td>x  </td><td>y  </td><td>z  </td></tr>\n",
       "</tbody>\n",
       "</table>\n"
      ],
      "text/latex": [
       "\\begin{tabular}{llllllllllllllllllllllllll}\n",
       "\t a   & b   & c   & d   & e   & f   & g   & h   & i   & j   & ... & q   & r   & s   & t   & u   & v   & w   & x   & y   & z  \\\\\n",
       "\t a   & b   & c   & d   & e   & f   & g   & h   & i   & j   & ... & q   & r   & s   & t   & u   & v   & w   & x   & y   & z  \\\\\n",
       "\t a   & b   & c   & d   & e   & f   & g   & h   & i   & j   & ... & q   & r   & s   & t   & u   & v   & w   & x   & y   & z  \\\\\n",
       "\t a   & b   & c   & d   & e   & f   & g   & h   & i   & j   & ... & q   & r   & s   & t   & u   & v   & w   & x   & y   & z  \\\\\n",
       "\t a   & b   & c   & d   & e   & f   & g   & h   & i   & j   & ... & q   & r   & s   & t   & u   & v   & w   & x   & y   & z  \\\\\n",
       "\\end{tabular}\n"
      ],
      "text/markdown": [
       "\n",
       "| a   | b   | c   | d   | e   | f   | g   | h   | i   | j   | ... | q   | r   | s   | t   | u   | v   | w   | x   | y   | z   | \n",
       "| a   | b   | c   | d   | e   | f   | g   | h   | i   | j   | ... | q   | r   | s   | t   | u   | v   | w   | x   | y   | z   | \n",
       "| a   | b   | c   | d   | e   | f   | g   | h   | i   | j   | ... | q   | r   | s   | t   | u   | v   | w   | x   | y   | z   | \n",
       "| a   | b   | c   | d   | e   | f   | g   | h   | i   | j   | ... | q   | r   | s   | t   | u   | v   | w   | x   | y   | z   | \n",
       "| a   | b   | c   | d   | e   | f   | g   | h   | i   | j   | ... | q   | r   | s   | t   | u   | v   | w   | x   | y   | z   | \n",
       "\n",
       "\n"
      ],
      "text/plain": [
       "     [,1] [,2] [,3] [,4] [,5] [,6] [,7] [,8] [,9] [,10] [,11] [,12] [,13] [,14]\n",
       "[1,] a    b    c    d    e    f    g    h    i    j     ...   q     r     s    \n",
       "[2,] a    b    c    d    e    f    g    h    i    j     ...   q     r     s    \n",
       "[3,] a    b    c    d    e    f    g    h    i    j     ...   q     r     s    \n",
       "[4,] a    b    c    d    e    f    g    h    i    j     ...   q     r     s    \n",
       "[5,] a    b    c    d    e    f    g    h    i    j     ...   q     r     s    \n",
       "     [,15] [,16] [,17] [,18] [,19] [,20] [,21]\n",
       "[1,] t     u     v     w     x     y     z    \n",
       "[2,] t     u     v     w     x     y     z    \n",
       "[3,] t     u     v     w     x     y     z    \n",
       "[4,] t     u     v     w     x     y     z    \n",
       "[5,] t     u     v     w     x     y     z    "
      ]
     },
     "metadata": {},
     "output_type": "display_data"
    }
   ],
   "source": [
    "matlet <- matrix(letters, ncol=26, nrow=5, byrow=TRUE)\n",
    "matlet"
   ]
  },
  {
   "cell_type": "code",
   "execution_count": 138,
   "metadata": {},
   "outputs": [
    {
     "data": {
      "text/html": [
       "26"
      ],
      "text/latex": [
       "26"
      ],
      "text/markdown": [
       "26"
      ],
      "text/plain": [
       "[1] 26"
      ]
     },
     "metadata": {},
     "output_type": "display_data"
    },
    {
     "data": {
      "text/html": [
       "5"
      ],
      "text/latex": [
       "5"
      ],
      "text/markdown": [
       "5"
      ],
      "text/plain": [
       "[1] 5"
      ]
     },
     "metadata": {},
     "output_type": "display_data"
    }
   ],
   "source": [
    "ncol(matlet)\n",
    "nrow(matlet)"
   ]
  },
  {
   "cell_type": "code",
   "execution_count": 140,
   "metadata": {},
   "outputs": [
    {
     "data": {
      "text/html": [
       "<table>\n",
       "<tbody>\n",
       "\t<tr><td>1</td><td>2</td><td>3</td><td>4</td><td>5</td></tr>\n",
       "\t<tr><td>6</td><td>7</td><td>8</td><td>9</td><td>0</td></tr>\n",
       "</tbody>\n",
       "</table>\n"
      ],
      "text/latex": [
       "\\begin{tabular}{lllll}\n",
       "\t 1 & 2 & 3 & 4 & 5\\\\\n",
       "\t 6 & 7 & 8 & 9 & 0\\\\\n",
       "\\end{tabular}\n"
      ],
      "text/markdown": [
       "\n",
       "| 1 | 2 | 3 | 4 | 5 | \n",
       "| 6 | 7 | 8 | 9 | 0 | \n",
       "\n",
       "\n"
      ],
      "text/plain": [
       "     [,1] [,2] [,3] [,4] [,5]\n",
       "[1,] 1    2    3    4    5   \n",
       "[2,] 6    7    8    9    0   "
      ]
     },
     "metadata": {},
     "output_type": "display_data"
    }
   ],
   "source": [
    "A = c(1,2,3,4,5,6,7,8,9,0)\n",
    "mat <- matrix(A, nrow=2,byrow=TRUE)\n",
    "mat"
   ]
  },
  {
   "cell_type": "code",
   "execution_count": 145,
   "metadata": {},
   "outputs": [
    {
     "data": {
      "text/html": [
       "5"
      ],
      "text/latex": [
       "5"
      ],
      "text/markdown": [
       "5"
      ],
      "text/plain": [
       "[1] 5"
      ]
     },
     "metadata": {},
     "output_type": "display_data"
    },
    {
     "data": {
      "text/html": [
       "<table>\n",
       "<thead><tr><th></th><th scope=col>Col1</th><th scope=col>Col2</th><th scope=col>Col3</th><th scope=col>Col4</th><th scope=col>Col5</th></tr></thead>\n",
       "<tbody>\n",
       "\t<tr><th scope=row>A</th><td>1</td><td>2</td><td>3</td><td>4</td><td>5</td></tr>\n",
       "\t<tr><th scope=row>B</th><td>6</td><td>7</td><td>8</td><td>9</td><td>0</td></tr>\n",
       "</tbody>\n",
       "</table>\n"
      ],
      "text/latex": [
       "\\begin{tabular}{r|lllll}\n",
       "  & Col1 & Col2 & Col3 & Col4 & Col5\\\\\n",
       "\\hline\n",
       "\tA & 1 & 2 & 3 & 4 & 5\\\\\n",
       "\tB & 6 & 7 & 8 & 9 & 0\\\\\n",
       "\\end{tabular}\n"
      ],
      "text/markdown": [
       "\n",
       "| <!--/--> | Col1 | Col2 | Col3 | Col4 | Col5 | \n",
       "|---|---|\n",
       "| A | 1 | 2 | 3 | 4 | 5 | \n",
       "| B | 6 | 7 | 8 | 9 | 0 | \n",
       "\n",
       "\n"
      ],
      "text/plain": [
       "  Col1 Col2 Col3 Col4 Col5\n",
       "A 1    2    3    4    5   \n",
       "B 6    7    8    9    0   "
      ]
     },
     "metadata": {},
     "output_type": "display_data"
    }
   ],
   "source": [
    "rowNames <- c('A','B')\n",
    "colNames <- c('Col1','Col2','Col3','Col4','Col5')\n",
    "length(colNames)\n",
    "dimnames(mat) <- list(rowNames,colNames)\n",
    "mat"
   ]
  },
  {
   "cell_type": "code",
   "execution_count": 146,
   "metadata": {},
   "outputs": [
    {
     "data": {
      "text/plain": [
       "      Col1           Col2           Col3           Col4           Col5     \n",
       " Min.   :1.00   Min.   :2.00   Min.   :3.00   Min.   :4.00   Min.   :0.00  \n",
       " 1st Qu.:2.25   1st Qu.:3.25   1st Qu.:4.25   1st Qu.:5.25   1st Qu.:1.25  \n",
       " Median :3.50   Median :4.50   Median :5.50   Median :6.50   Median :2.50  \n",
       " Mean   :3.50   Mean   :4.50   Mean   :5.50   Mean   :6.50   Mean   :2.50  \n",
       " 3rd Qu.:4.75   3rd Qu.:5.75   3rd Qu.:6.75   3rd Qu.:7.75   3rd Qu.:3.75  \n",
       " Max.   :6.00   Max.   :7.00   Max.   :8.00   Max.   :9.00   Max.   :5.00  "
      ]
     },
     "metadata": {},
     "output_type": "display_data"
    }
   ],
   "source": [
    "summary(mat)"
   ]
  },
  {
   "cell_type": "code",
   "execution_count": 147,
   "metadata": {},
   "outputs": [
    {
     "data": {
      "image/png": "[encoded data removed]",
      "text/plain": [
       "plot without title"
      ]
     },
     "metadata": {},
     "output_type": "display_data"
    }
   ],
   "source": [
    "plot(mat)"
   ]
  },
  {
   "cell_type": "code",
   "execution_count": 186,
   "metadata": {},
   "outputs": [
    {
     "data": {
      "image/png": "[encoded data removed]",
      "text/plain": [
       "plot without title"
      ]
     },
     "metadata": {},
     "output_type": "display_data"
    }
   ],
   "source": [
    "plot(mat[,2:4])"
   ]
  },
  {
   "cell_type": "code",
   "execution_count": 148,
   "metadata": {},
   "outputs": [
    {
     "data": {
      "text/html": [
       "'C:/Mlaai/deeplearning/Code/Projects/Data'"
      ],
      "text/latex": [
       "'C:/Mlaai/deeplearning/Code/Projects/Data'"
      ],
      "text/markdown": [
       "'C:/Mlaai/deeplearning/Code/Projects/Data'"
      ],
      "text/plain": [
       "[1] \"C:/Mlaai/deeplearning/Code/Projects/Data\""
      ]
     },
     "metadata": {},
     "output_type": "display_data"
    }
   ],
   "source": [
    "#Heterogeneous \n",
    "#List and Dataframe"
   ]
  },
  {
   "cell_type": "code",
   "execution_count": 151,
   "metadata": {},
   "outputs": [
    {
     "data": {
      "text/html": [
       "<ol>\n",
       "\t<li><ol class=list-inline>\n",
       "\t<li>'A'</li>\n",
       "\t<li>'B'</li>\n",
       "</ol>\n",
       "</li>\n",
       "\t<li><ol class=list-inline>\n",
       "\t<li>'Col1'</li>\n",
       "\t<li>'Col2'</li>\n",
       "\t<li>'Col3'</li>\n",
       "\t<li>'Col4'</li>\n",
       "\t<li>'Col5'</li>\n",
       "</ol>\n",
       "</li>\n",
       "</ol>\n"
      ],
      "text/latex": [
       "\\begin{enumerate}\n",
       "\\item \\begin{enumerate*}\n",
       "\\item 'A'\n",
       "\\item 'B'\n",
       "\\end{enumerate*}\n",
       "\n",
       "\\item \\begin{enumerate*}\n",
       "\\item 'Col1'\n",
       "\\item 'Col2'\n",
       "\\item 'Col3'\n",
       "\\item 'Col4'\n",
       "\\item 'Col5'\n",
       "\\end{enumerate*}\n",
       "\n",
       "\\end{enumerate}\n"
      ],
      "text/markdown": [
       "1. 1. 'A'\n",
       "2. 'B'\n",
       "\n",
       "\n",
       "\n",
       "2. 1. 'Col1'\n",
       "2. 'Col2'\n",
       "3. 'Col3'\n",
       "4. 'Col4'\n",
       "5. 'Col5'\n",
       "\n",
       "\n",
       "\n",
       "\n",
       "\n"
      ],
      "text/plain": [
       "[[1]]\n",
       "[1] \"A\" \"B\"\n",
       "\n",
       "[[2]]\n",
       "[1] \"Col1\" \"Col2\" \"Col3\" \"Col4\" \"Col5\"\n"
      ]
     },
     "metadata": {},
     "output_type": "display_data"
    },
    {
     "data": {
      "text/html": [
       "<ol class=list-inline>\n",
       "\t<li>'A'</li>\n",
       "\t<li>'B'</li>\n",
       "</ol>\n"
      ],
      "text/latex": [
       "\\begin{enumerate*}\n",
       "\\item 'A'\n",
       "\\item 'B'\n",
       "\\end{enumerate*}\n"
      ],
      "text/markdown": [
       "1. 'A'\n",
       "2. 'B'\n",
       "\n",
       "\n"
      ],
      "text/plain": [
       "[1] \"A\" \"B\""
      ]
     },
     "metadata": {},
     "output_type": "display_data"
    },
    {
     "data": {
      "text/html": [
       "<ol class=list-inline>\n",
       "\t<li>'Col1'</li>\n",
       "\t<li>'Col2'</li>\n",
       "\t<li>'Col3'</li>\n",
       "\t<li>'Col4'</li>\n",
       "\t<li>'Col5'</li>\n",
       "</ol>\n"
      ],
      "text/latex": [
       "\\begin{enumerate*}\n",
       "\\item 'Col1'\n",
       "\\item 'Col2'\n",
       "\\item 'Col3'\n",
       "\\item 'Col4'\n",
       "\\item 'Col5'\n",
       "\\end{enumerate*}\n"
      ],
      "text/markdown": [
       "1. 'Col1'\n",
       "2. 'Col2'\n",
       "3. 'Col3'\n",
       "4. 'Col4'\n",
       "5. 'Col5'\n",
       "\n",
       "\n"
      ],
      "text/plain": [
       "[1] \"Col1\" \"Col2\" \"Col3\" \"Col4\" \"Col5\""
      ]
     },
     "metadata": {},
     "output_type": "display_data"
    }
   ],
   "source": [
    "dimnames(mat)\n",
    "dimnames(mat)[[1]]\n",
    "dimnames(mat)[[2]]"
   ]
  },
  {
   "cell_type": "code",
   "execution_count": 152,
   "metadata": {},
   "outputs": [
    {
     "data": {
      "text/html": [
       "<dl>\n",
       "\t<dt>$name</dt>\n",
       "\t\t<dd>'Mlaai'</dd>\n",
       "\t<dt>$byDate</dt>\n",
       "\t\t<dd>1112</dd>\n",
       "\t<dt>$mat</dt>\n",
       "\t\t<dd><ol class=list-inline>\n",
       "\t<li>1</li>\n",
       "\t<li>2</li>\n",
       "\t<li>3</li>\n",
       "\t<li>4</li>\n",
       "\t<li>5</li>\n",
       "\t<li>6</li>\n",
       "\t<li>7</li>\n",
       "\t<li>8</li>\n",
       "\t<li>9</li>\n",
       "\t<li>0</li>\n",
       "</ol>\n",
       "</dd>\n",
       "\t<dt>$size</dt>\n",
       "\t\t<dd>5</dd>\n",
       "</dl>\n"
      ],
      "text/latex": [
       "\\begin{description}\n",
       "\\item[\\$name] 'Mlaai'\n",
       "\\item[\\$byDate] 1112\n",
       "\\item[\\$mat] \\begin{enumerate*}\n",
       "\\item 1\n",
       "\\item 2\n",
       "\\item 3\n",
       "\\item 4\n",
       "\\item 5\n",
       "\\item 6\n",
       "\\item 7\n",
       "\\item 8\n",
       "\\item 9\n",
       "\\item 0\n",
       "\\end{enumerate*}\n",
       "\n",
       "\\item[\\$size] 5\n",
       "\\end{description}\n"
      ],
      "text/markdown": [
       "$name\n",
       ":   'Mlaai'\n",
       "$byDate\n",
       ":   1112\n",
       "$mat\n",
       ":   1. 1\n",
       "2. 2\n",
       "3. 3\n",
       "4. 4\n",
       "5. 5\n",
       "6. 6\n",
       "7. 7\n",
       "8. 8\n",
       "9. 9\n",
       "10. 0\n",
       "\n",
       "\n",
       "\n",
       "$size\n",
       ":   5\n",
       "\n",
       "\n"
      ],
      "text/plain": [
       "$name\n",
       "[1] \"Mlaai\"\n",
       "\n",
       "$byDate\n",
       "[1] 1112\n",
       "\n",
       "$mat\n",
       " [1] 1 2 3 4 5 6 7 8 9 0\n",
       "\n",
       "$size\n",
       "[1] 5\n"
      ]
     },
     "metadata": {},
     "output_type": "display_data"
    }
   ],
   "source": [
    "matlist <- list(name='Mlaai', byDate=1112, mat=A, size=5)\n",
    "matlist"
   ]
  },
  {
   "cell_type": "code",
   "execution_count": 157,
   "metadata": {},
   "outputs": [
    {
     "data": {
      "text/html": [
       "'Mlaai'"
      ],
      "text/latex": [
       "'Mlaai'"
      ],
      "text/markdown": [
       "'Mlaai'"
      ],
      "text/plain": [
       "[1] \"Mlaai\""
      ]
     },
     "metadata": {},
     "output_type": "display_data"
    },
    {
     "data": {
      "text/html": [
       "5"
      ],
      "text/latex": [
       "5"
      ],
      "text/markdown": [
       "5"
      ],
      "text/plain": [
       "[1] 5"
      ]
     },
     "metadata": {},
     "output_type": "display_data"
    },
    {
     "data": {
      "text/html": [
       "<ol class=list-inline>\n",
       "\t<li>1</li>\n",
       "\t<li>2</li>\n",
       "\t<li>3</li>\n",
       "\t<li>4</li>\n",
       "\t<li>5</li>\n",
       "\t<li>6</li>\n",
       "\t<li>7</li>\n",
       "\t<li>8</li>\n",
       "\t<li>9</li>\n",
       "\t<li>0</li>\n",
       "</ol>\n"
      ],
      "text/latex": [
       "\\begin{enumerate*}\n",
       "\\item 1\n",
       "\\item 2\n",
       "\\item 3\n",
       "\\item 4\n",
       "\\item 5\n",
       "\\item 6\n",
       "\\item 7\n",
       "\\item 8\n",
       "\\item 9\n",
       "\\item 0\n",
       "\\end{enumerate*}\n"
      ],
      "text/markdown": [
       "1. 1\n",
       "2. 2\n",
       "3. 3\n",
       "4. 4\n",
       "5. 5\n",
       "6. 6\n",
       "7. 7\n",
       "8. 8\n",
       "9. 9\n",
       "10. 0\n",
       "\n",
       "\n"
      ],
      "text/plain": [
       " [1] 1 2 3 4 5 6 7 8 9 0"
      ]
     },
     "metadata": {},
     "output_type": "display_data"
    },
    {
     "data": {
      "text/html": [
       "<ol class=list-inline>\n",
       "\t<li>'name'</li>\n",
       "\t<li>'byDate'</li>\n",
       "\t<li>'mat'</li>\n",
       "\t<li>'size'</li>\n",
       "</ol>\n"
      ],
      "text/latex": [
       "\\begin{enumerate*}\n",
       "\\item 'name'\n",
       "\\item 'byDate'\n",
       "\\item 'mat'\n",
       "\\item 'size'\n",
       "\\end{enumerate*}\n"
      ],
      "text/markdown": [
       "1. 'name'\n",
       "2. 'byDate'\n",
       "3. 'mat'\n",
       "4. 'size'\n",
       "\n",
       "\n"
      ],
      "text/plain": [
       "[1] \"name\"   \"byDate\" \"mat\"    \"size\"  "
      ]
     },
     "metadata": {},
     "output_type": "display_data"
    }
   ],
   "source": [
    "matlist[[1]]\n",
    "matlist$size\n",
    "matlist$mat\n",
    "names(matlist)"
   ]
  },
  {
   "cell_type": "code",
   "execution_count": 161,
   "metadata": {},
   "outputs": [
    {
     "name": "stderr",
     "output_type": "stream",
     "text": [
      "The following objects are masked from women (pos = 3):\n",
      "\n",
      "    height, weight\n",
      "\n"
     ]
    },
    {
     "data": {
      "text/plain": [
       "\n",
       "Call:\n",
       "lm(formula = weight ~ height)\n",
       "\n",
       "Coefficients:\n",
       "(Intercept)       height  \n",
       "     -87.52         3.45  \n"
      ]
     },
     "metadata": {},
     "output_type": "display_data"
    }
   ],
   "source": [
    "data(women)\n",
    "attach(women)\n",
    "res <- lm(weight ~ height)\n",
    "res"
   ]
  },
  {
   "cell_type": "code",
   "execution_count": 168,
   "metadata": {},
   "outputs": [
    {
     "data": {
      "text/html": [
       "<ol class=list-inline>\n",
       "\t<li>'coefficients'</li>\n",
       "\t<li>'residuals'</li>\n",
       "\t<li>'effects'</li>\n",
       "\t<li>'rank'</li>\n",
       "\t<li>'fitted.values'</li>\n",
       "\t<li>'assign'</li>\n",
       "\t<li>'qr'</li>\n",
       "\t<li>'df.residual'</li>\n",
       "\t<li>'xlevels'</li>\n",
       "\t<li>'call'</li>\n",
       "\t<li>'terms'</li>\n",
       "\t<li>'model'</li>\n",
       "</ol>\n"
      ],
      "text/latex": [
       "\\begin{enumerate*}\n",
       "\\item 'coefficients'\n",
       "\\item 'residuals'\n",
       "\\item 'effects'\n",
       "\\item 'rank'\n",
       "\\item 'fitted.values'\n",
       "\\item 'assign'\n",
       "\\item 'qr'\n",
       "\\item 'df.residual'\n",
       "\\item 'xlevels'\n",
       "\\item 'call'\n",
       "\\item 'terms'\n",
       "\\item 'model'\n",
       "\\end{enumerate*}\n"
      ],
      "text/markdown": [
       "1. 'coefficients'\n",
       "2. 'residuals'\n",
       "3. 'effects'\n",
       "4. 'rank'\n",
       "5. 'fitted.values'\n",
       "6. 'assign'\n",
       "7. 'qr'\n",
       "8. 'df.residual'\n",
       "9. 'xlevels'\n",
       "10. 'call'\n",
       "11. 'terms'\n",
       "12. 'model'\n",
       "\n",
       "\n"
      ],
      "text/plain": [
       " [1] \"coefficients\"  \"residuals\"     \"effects\"       \"rank\"         \n",
       " [5] \"fitted.values\" \"assign\"        \"qr\"            \"df.residual\"  \n",
       " [9] \"xlevels\"       \"call\"          \"terms\"         \"model\"        "
      ]
     },
     "metadata": {},
     "output_type": "display_data"
    },
    {
     "data": {
      "text/html": [
       "<dl class=dl-horizontal>\n",
       "\t<dt>(Intercept)</dt>\n",
       "\t\t<dd>-87.5166666666665</dd>\n",
       "\t<dt>height</dt>\n",
       "\t\t<dd>3.45</dd>\n",
       "</dl>\n"
      ],
      "text/latex": [
       "\\begin{description*}\n",
       "\\item[(Intercept)] -87.5166666666665\n",
       "\\item[height] 3.45\n",
       "\\end{description*}\n"
      ],
      "text/markdown": [
       "(Intercept)\n",
       ":   -87.5166666666665height\n",
       ":   3.45\n",
       "\n"
      ],
      "text/plain": [
       "(Intercept)      height \n",
       "  -87.51667     3.45000 "
      ]
     },
     "metadata": {},
     "output_type": "display_data"
    },
    {
     "data": {
      "text/html": [
       "<dl class=dl-horizontal>\n",
       "\t<dt>1</dt>\n",
       "\t\t<dd>2.41666666666675</dd>\n",
       "\t<dt>2</dt>\n",
       "\t\t<dd>0.966666666666643</dd>\n",
       "\t<dt>3</dt>\n",
       "\t\t<dd>0.516666666666644</dd>\n",
       "\t<dt>4</dt>\n",
       "\t\t<dd>0.0666666666666476</dd>\n",
       "\t<dt>5</dt>\n",
       "\t\t<dd>-0.38333333333335</dd>\n",
       "\t<dt>6</dt>\n",
       "\t\t<dd>-0.833333333333347</dd>\n",
       "\t<dt>7</dt>\n",
       "\t\t<dd>-1.28333333333334</dd>\n",
       "\t<dt>8</dt>\n",
       "\t\t<dd>-1.73333333333334</dd>\n",
       "\t<dt>9</dt>\n",
       "\t\t<dd>-1.18333333333334</dd>\n",
       "\t<dt>10</dt>\n",
       "\t\t<dd>-1.63333333333334</dd>\n",
       "\t<dt>11</dt>\n",
       "\t\t<dd>-1.08333333333333</dd>\n",
       "\t<dt>12</dt>\n",
       "\t\t<dd>-0.53333333333333</dd>\n",
       "\t<dt>13</dt>\n",
       "\t\t<dd>0.016666666666675</dd>\n",
       "\t<dt>14</dt>\n",
       "\t\t<dd>1.56666666666668</dd>\n",
       "\t<dt>15</dt>\n",
       "\t\t<dd>3.11666666666668</dd>\n",
       "</dl>\n"
      ],
      "text/latex": [
       "\\begin{description*}\n",
       "\\item[1] 2.41666666666675\n",
       "\\item[2] 0.966666666666643\n",
       "\\item[3] 0.516666666666644\n",
       "\\item[4] 0.0666666666666476\n",
       "\\item[5] -0.38333333333335\n",
       "\\item[6] -0.833333333333347\n",
       "\\item[7] -1.28333333333334\n",
       "\\item[8] -1.73333333333334\n",
       "\\item[9] -1.18333333333334\n",
       "\\item[10] -1.63333333333334\n",
       "\\item[11] -1.08333333333333\n",
       "\\item[12] -0.53333333333333\n",
       "\\item[13] 0.016666666666675\n",
       "\\item[14] 1.56666666666668\n",
       "\\item[15] 3.11666666666668\n",
       "\\end{description*}\n"
      ],
      "text/markdown": [
       "1\n",
       ":   2.416666666666752\n",
       ":   0.9666666666666433\n",
       ":   0.5166666666666444\n",
       ":   0.06666666666664765\n",
       ":   -0.383333333333356\n",
       ":   -0.8333333333333477\n",
       ":   -1.283333333333348\n",
       ":   -1.733333333333349\n",
       ":   -1.1833333333333410\n",
       ":   -1.6333333333333411\n",
       ":   -1.0833333333333312\n",
       ":   -0.5333333333333313\n",
       ":   0.01666666666667514\n",
       ":   1.5666666666666815\n",
       ":   3.11666666666668\n",
       "\n"
      ],
      "text/plain": [
       "          1           2           3           4           5           6 \n",
       " 2.41666667  0.96666667  0.51666667  0.06666667 -0.38333333 -0.83333333 \n",
       "          7           8           9          10          11          12 \n",
       "-1.28333333 -1.73333333 -1.18333333 -1.63333333 -1.08333333 -0.53333333 \n",
       "         13          14          15 \n",
       " 0.01666667  1.56666667  3.11666667 "
      ]
     },
     "metadata": {},
     "output_type": "display_data"
    },
    {
     "data": {
      "text/html": [
       "<dl class=dl-horizontal>\n",
       "\t<dt>1</dt>\n",
       "\t\t<dd>2.41666666666675</dd>\n",
       "\t<dt>2</dt>\n",
       "\t\t<dd>0.966666666666643</dd>\n",
       "\t<dt>3</dt>\n",
       "\t\t<dd>0.516666666666644</dd>\n",
       "\t<dt>4</dt>\n",
       "\t\t<dd>0.0666666666666476</dd>\n",
       "\t<dt>5</dt>\n",
       "\t\t<dd>-0.38333333333335</dd>\n",
       "\t<dt>6</dt>\n",
       "\t\t<dd>-0.833333333333347</dd>\n",
       "\t<dt>7</dt>\n",
       "\t\t<dd>-1.28333333333334</dd>\n",
       "\t<dt>8</dt>\n",
       "\t\t<dd>-1.73333333333334</dd>\n",
       "\t<dt>9</dt>\n",
       "\t\t<dd>-1.18333333333334</dd>\n",
       "\t<dt>10</dt>\n",
       "\t\t<dd>-1.63333333333334</dd>\n",
       "\t<dt>11</dt>\n",
       "\t\t<dd>-1.08333333333333</dd>\n",
       "\t<dt>12</dt>\n",
       "\t\t<dd>-0.53333333333333</dd>\n",
       "\t<dt>13</dt>\n",
       "\t\t<dd>0.016666666666675</dd>\n",
       "\t<dt>14</dt>\n",
       "\t\t<dd>1.56666666666668</dd>\n",
       "\t<dt>15</dt>\n",
       "\t\t<dd>3.11666666666668</dd>\n",
       "</dl>\n"
      ],
      "text/latex": [
       "\\begin{description*}\n",
       "\\item[1] 2.41666666666675\n",
       "\\item[2] 0.966666666666643\n",
       "\\item[3] 0.516666666666644\n",
       "\\item[4] 0.0666666666666476\n",
       "\\item[5] -0.38333333333335\n",
       "\\item[6] -0.833333333333347\n",
       "\\item[7] -1.28333333333334\n",
       "\\item[8] -1.73333333333334\n",
       "\\item[9] -1.18333333333334\n",
       "\\item[10] -1.63333333333334\n",
       "\\item[11] -1.08333333333333\n",
       "\\item[12] -0.53333333333333\n",
       "\\item[13] 0.016666666666675\n",
       "\\item[14] 1.56666666666668\n",
       "\\item[15] 3.11666666666668\n",
       "\\end{description*}\n"
      ],
      "text/markdown": [
       "1\n",
       ":   2.416666666666752\n",
       ":   0.9666666666666433\n",
       ":   0.5166666666666444\n",
       ":   0.06666666666664765\n",
       ":   -0.383333333333356\n",
       ":   -0.8333333333333477\n",
       ":   -1.283333333333348\n",
       ":   -1.733333333333349\n",
       ":   -1.1833333333333410\n",
       ":   -1.6333333333333411\n",
       ":   -1.0833333333333312\n",
       ":   -0.5333333333333313\n",
       ":   0.01666666666667514\n",
       ":   1.5666666666666815\n",
       ":   3.11666666666668\n",
       "\n"
      ],
      "text/plain": [
       "          1           2           3           4           5           6 \n",
       " 2.41666667  0.96666667  0.51666667  0.06666667 -0.38333333 -0.83333333 \n",
       "          7           8           9          10          11          12 \n",
       "-1.28333333 -1.73333333 -1.18333333 -1.63333333 -1.08333333 -0.53333333 \n",
       "         13          14          15 \n",
       " 0.01666667  1.56666667  3.11666667 "
      ]
     },
     "metadata": {},
     "output_type": "display_data"
    },
    {
     "data": {
      "text/html": [
       "2"
      ],
      "text/latex": [
       "2"
      ],
      "text/markdown": [
       "2"
      ],
      "text/plain": [
       "[1] 2"
      ]
     },
     "metadata": {},
     "output_type": "display_data"
    },
    {
     "data": {
      "text/plain": [
       "lm(formula = weight ~ height)"
      ]
     },
     "metadata": {},
     "output_type": "display_data"
    }
   ],
   "source": [
    "names(res)\n",
    "res$coefficients\n",
    "res$residuals\n",
    "res[[2]]\n",
    "res$rank\n",
    "res$call"
   ]
  },
  {
   "cell_type": "code",
   "execution_count": 169,
   "metadata": {},
   "outputs": [
    {
     "data": {
      "text/plain": [
       "   Min. 1st Qu.  Median    Mean 3rd Qu.    Max. \n",
       "  1.000   1.000   1.000   1.458   2.000   2.000 "
      ]
     },
     "metadata": {},
     "output_type": "display_data"
    }
   ],
   "source": [
    "studentg=c(rep(1,13), rep(2,11))\n",
    "summary(studentg)"
   ]
  },
  {
   "cell_type": "code",
   "execution_count": 171,
   "metadata": {},
   "outputs": [
    {
     "data": {
      "text/html": [
       "<ol class=list-inline>\n",
       "\t<li>M</li>\n",
       "\t<li>M</li>\n",
       "\t<li>M</li>\n",
       "\t<li>M</li>\n",
       "\t<li>M</li>\n",
       "\t<li>M</li>\n",
       "\t<li>M</li>\n",
       "\t<li>M</li>\n",
       "\t<li>M</li>\n",
       "\t<li>M</li>\n",
       "\t<li>M</li>\n",
       "\t<li>M</li>\n",
       "\t<li>M</li>\n",
       "\t<li>F</li>\n",
       "\t<li>F</li>\n",
       "\t<li>F</li>\n",
       "\t<li>F</li>\n",
       "\t<li>F</li>\n",
       "\t<li>F</li>\n",
       "\t<li>F</li>\n",
       "\t<li>F</li>\n",
       "\t<li>F</li>\n",
       "\t<li>F</li>\n",
       "\t<li>F</li>\n",
       "</ol>\n"
      ],
      "text/latex": [
       "\\begin{enumerate*}\n",
       "\\item M\n",
       "\\item M\n",
       "\\item M\n",
       "\\item M\n",
       "\\item M\n",
       "\\item M\n",
       "\\item M\n",
       "\\item M\n",
       "\\item M\n",
       "\\item M\n",
       "\\item M\n",
       "\\item M\n",
       "\\item M\n",
       "\\item F\n",
       "\\item F\n",
       "\\item F\n",
       "\\item F\n",
       "\\item F\n",
       "\\item F\n",
       "\\item F\n",
       "\\item F\n",
       "\\item F\n",
       "\\item F\n",
       "\\item F\n",
       "\\end{enumerate*}\n"
      ],
      "text/markdown": [
       "1. M\n",
       "2. M\n",
       "3. M\n",
       "4. M\n",
       "5. M\n",
       "6. M\n",
       "7. M\n",
       "8. M\n",
       "9. M\n",
       "10. M\n",
       "11. M\n",
       "12. M\n",
       "13. M\n",
       "14. F\n",
       "15. F\n",
       "16. F\n",
       "17. F\n",
       "18. F\n",
       "19. F\n",
       "20. F\n",
       "21. F\n",
       "22. F\n",
       "23. F\n",
       "24. F\n",
       "\n",
       "\n"
      ],
      "text/plain": [
       " [1] M M M M M M M M M M M M M F F F F F F F F F F F\n",
       "Levels: F M"
      ]
     },
     "metadata": {},
     "output_type": "display_data"
    }
   ],
   "source": [
    "gender=factor(c(rep(\"M\",13), rep(\"F\",11)))\n",
    "gender"
   ]
  },
  {
   "cell_type": "code",
   "execution_count": 172,
   "metadata": {},
   "outputs": [
    {
     "data": {
      "text/plain": [
       "gender\n",
       " F  M \n",
       "11 13 "
      ]
     },
     "metadata": {},
     "output_type": "display_data"
    }
   ],
   "source": [
    "table(gender)"
   ]
  },
  {
   "cell_type": "code",
   "execution_count": 173,
   "metadata": {},
   "outputs": [
    {
     "data": {
      "text/html": [
       "<dl class=dl-horizontal>\n",
       "\t<dt>F</dt>\n",
       "\t\t<dd>11</dd>\n",
       "\t<dt>M</dt>\n",
       "\t\t<dd>13</dd>\n",
       "</dl>\n"
      ],
      "text/latex": [
       "\\begin{description*}\n",
       "\\item[F] 11\n",
       "\\item[M] 13\n",
       "\\end{description*}\n"
      ],
      "text/markdown": [
       "F\n",
       ":   11M\n",
       ":   13\n",
       "\n"
      ],
      "text/plain": [
       " F  M \n",
       "11 13 "
      ]
     },
     "metadata": {},
     "output_type": "display_data"
    }
   ],
   "source": [
    "summary(gender)"
   ]
  },
  {
   "cell_type": "code",
   "execution_count": 174,
   "metadata": {},
   "outputs": [
    {
     "name": "stdout",
     "output_type": "stream",
     "text": [
      " Factor w/ 2 levels \"F\",\"M\": 2 2 2 2 2 2 2 2 2 2 ...\n"
     ]
    }
   ],
   "source": [
    "str(gender)"
   ]
  },
  {
   "cell_type": "code",
   "execution_count": 175,
   "metadata": {},
   "outputs": [
    {
     "data": {
      "text/html": [
       "24"
      ],
      "text/latex": [
       "24"
      ],
      "text/markdown": [
       "24"
      ],
      "text/plain": [
       "[1] 24"
      ]
     },
     "metadata": {},
     "output_type": "display_data"
    }
   ],
   "source": [
    "length(gender)"
   ]
  },
  {
   "cell_type": "code",
   "execution_count": 177,
   "metadata": {},
   "outputs": [],
   "source": [
    "library(MASS)"
   ]
  },
  {
   "cell_type": "code",
   "execution_count": 178,
   "metadata": {},
   "outputs": [],
   "source": [
    "data()"
   ]
  },
  {
   "cell_type": "code",
   "execution_count": 180,
   "metadata": {},
   "outputs": [],
   "source": [
    "?UScereal"
   ]
  },
  {
   "cell_type": "code",
   "execution_count": 181,
   "metadata": {},
   "outputs": [
    {
     "data": {
      "text/html": [
       "<table>\n",
       "<thead><tr><th></th><th scope=col>mfr</th><th scope=col>calories</th><th scope=col>protein</th><th scope=col>fat</th><th scope=col>sodium</th><th scope=col>fibre</th></tr></thead>\n",
       "<tbody>\n",
       "\t<tr><th scope=row>100% Bran</th><td>N        </td><td>212.1212 </td><td>12.121212</td><td>3.030303 </td><td>393.9394 </td><td>30.30303 </td></tr>\n",
       "\t<tr><th scope=row>All-Bran</th><td>K        </td><td>212.1212 </td><td>12.121212</td><td>3.030303 </td><td>787.8788 </td><td>27.27273 </td></tr>\n",
       "\t<tr><th scope=row>All-Bran with Extra Fiber</th><td>K        </td><td>100.0000 </td><td> 8.000000</td><td>0.000000 </td><td>280.0000 </td><td>28.00000 </td></tr>\n",
       "\t<tr><th scope=row>Apple Cinnamon Cheerios</th><td>G        </td><td>146.6667 </td><td> 2.666667</td><td>2.666667 </td><td>240.0000 </td><td> 2.00000 </td></tr>\n",
       "</tbody>\n",
       "</table>\n"
      ],
      "text/latex": [
       "\\begin{tabular}{r|llllll}\n",
       "  & mfr & calories & protein & fat & sodium & fibre\\\\\n",
       "\\hline\n",
       "\t100\\% Bran & N         & 212.1212  & 12.121212 & 3.030303  & 393.9394  & 30.30303 \\\\\n",
       "\tAll-Bran & K         & 212.1212  & 12.121212 & 3.030303  & 787.8788  & 27.27273 \\\\\n",
       "\tAll-Bran with Extra Fiber & K         & 100.0000  &  8.000000 & 0.000000  & 280.0000  & 28.00000 \\\\\n",
       "\tApple Cinnamon Cheerios & G         & 146.6667  &  2.666667 & 2.666667  & 240.0000  &  2.00000 \\\\\n",
       "\\end{tabular}\n"
      ],
      "text/markdown": [
       "\n",
       "| <!--/--> | mfr | calories | protein | fat | sodium | fibre | \n",
       "|---|---|---|---|\n",
       "| 100% Bran | N         | 212.1212  | 12.121212 | 3.030303  | 393.9394  | 30.30303  | \n",
       "| All-Bran | K         | 212.1212  | 12.121212 | 3.030303  | 787.8788  | 27.27273  | \n",
       "| All-Bran with Extra Fiber | K         | 100.0000  |  8.000000 | 0.000000  | 280.0000  | 28.00000  | \n",
       "| Apple Cinnamon Cheerios | G         | 146.6667  |  2.666667 | 2.666667  | 240.0000  |  2.00000  | \n",
       "\n",
       "\n"
      ],
      "text/plain": [
       "                          mfr calories protein   fat      sodium   fibre   \n",
       "100% Bran                 N   212.1212 12.121212 3.030303 393.9394 30.30303\n",
       "All-Bran                  K   212.1212 12.121212 3.030303 787.8788 27.27273\n",
       "All-Bran with Extra Fiber K   100.0000  8.000000 0.000000 280.0000 28.00000\n",
       "Apple Cinnamon Cheerios   G   146.6667  2.666667 2.666667 240.0000  2.00000"
      ]
     },
     "metadata": {},
     "output_type": "display_data"
    }
   ],
   "source": [
    "UScereal[1:4,1:6]"
   ]
  },
  {
   "cell_type": "code",
   "execution_count": 182,
   "metadata": {},
   "outputs": [
    {
     "data": {
      "image/png": "[encoded data removed]",
      "text/plain": [
       "plot without title"
      ]
     },
     "metadata": {},
     "output_type": "display_data"
    }
   ],
   "source": [
    "plot(UScereal[,1:4])"
   ]
  },
  {
   "cell_type": "code",
   "execution_count": 189,
   "metadata": {},
   "outputs": [
    {
     "name": "stdout",
     "output_type": "stream",
     "text": [
      "          Age Height Weight Gender Country\n",
      "Alex       25    171     67      M  France\n",
      "Martha     30    156     51      F Finland\n",
      "Kate       52    157     49      F     USA\n",
      "Sean       60    184     75      M      UK\n",
      "Francesca  34    164     60      F  Itally\n",
      "Nico       43    192     85      M  Israel\n",
      "Juan       21    173     80      M  Mexico\n"
     ]
    },
    {
     "data": {
      "text/html": [
       "'data.frame'"
      ],
      "text/latex": [
       "'data.frame'"
      ],
      "text/markdown": [
       "'data.frame'"
      ],
      "text/plain": [
       "[1] \"data.frame\""
      ]
     },
     "metadata": {},
     "output_type": "display_data"
    },
    {
     "name": "stdout",
     "output_type": "stream",
     "text": [
      "'data.frame':\t7 obs. of  5 variables:\n",
      " $ Age    : num  25 30 52 60 34 43 21\n",
      " $ Height : num  171 156 157 184 164 192 173\n",
      " $ Weight : num  67 51 49 75 60 85 80\n",
      " $ Gender : Factor w/ 2 levels \"F\",\"M\": 2 1 1 2 1 2 2\n",
      " $ Country: Factor w/ 7 levels \"Finland\",\"France\",..: 2 1 7 6 4 3 5\n"
     ]
    },
    {
     "data": {
      "text/html": [
       "<ol class=list-inline>\n",
       "\t<li>7</li>\n",
       "\t<li>5</li>\n",
       "</ol>\n"
      ],
      "text/latex": [
       "\\begin{enumerate*}\n",
       "\\item 7\n",
       "\\item 5\n",
       "\\end{enumerate*}\n"
      ],
      "text/markdown": [
       "1. 7\n",
       "2. 5\n",
       "\n",
       "\n"
      ],
      "text/plain": [
       "[1] 7 5"
      ]
     },
     "metadata": {},
     "output_type": "display_data"
    }
   ],
   "source": [
    "df <- data.frame(Age = c(25, 30, 52, 60, 34, 43, 21),\n",
    "                 Height = c(171, 156, 157, 184, 164, 192, 173),\n",
    "                 Weight = c(67, 51, 49, 75, 60, 85, 80),\n",
    "                 Gender = factor(c(\"M\", \"F\", \"F\", \"M\", \"F\", \"M\", \"M\")),\n",
    "                 Country = c(\"France\", \"Finland\", \"USA\", \"UK\", \"Itally\", \"Israel\", \"Mexico\"),\n",
    "                 row.names = c(\"Alex\", \"Martha\", \"Kate\", \"Sean\", \"Francesca\", \"Nico\", \"Juan\"))\n",
    "print(df)\n",
    "class(df)\n",
    "str(df)\n",
    "dim(df)"
   ]
  },
  {
   "cell_type": "code",
   "execution_count": 194,
   "metadata": {},
   "outputs": [],
   "source": [
    "Employed = c(\"No\", \"Yes\", \"No\", \"Yes\", \"No\", \"Yes\", \"Yes\")"
   ]
  },
  {
   "cell_type": "code",
   "execution_count": 195,
   "metadata": {},
   "outputs": [],
   "source": [
    "df2 <- data.frame(Employed = Employed,\n",
    "                  row.names = c(\"Alex\", \"Martha\", \"Kate\", \"Sean\", \"Francesca\", \n",
    "                                \"Nico\", \"Juan\"))"
   ]
  },
  {
   "cell_type": "code",
   "execution_count": 196,
   "metadata": {},
   "outputs": [
    {
     "data": {
      "text/html": [
       "<table>\n",
       "<thead><tr><th></th><th scope=col>Age</th><th scope=col>Height</th><th scope=col>Weight</th><th scope=col>Gender</th><th scope=col>Country</th><th scope=col>Employed</th></tr></thead>\n",
       "<tbody>\n",
       "\t<tr><th scope=row>Alex</th><td>25     </td><td>171    </td><td>67     </td><td>M      </td><td>France </td><td>No     </td></tr>\n",
       "\t<tr><th scope=row>Martha</th><td>30     </td><td>156    </td><td>51     </td><td>F      </td><td>Finland</td><td>Yes    </td></tr>\n",
       "\t<tr><th scope=row>Kate</th><td>52     </td><td>157    </td><td>49     </td><td>F      </td><td>USA    </td><td>No     </td></tr>\n",
       "\t<tr><th scope=row>Sean</th><td>60     </td><td>184    </td><td>75     </td><td>M      </td><td>UK     </td><td>Yes    </td></tr>\n",
       "\t<tr><th scope=row>Francesca</th><td>34     </td><td>164    </td><td>60     </td><td>F      </td><td>Itally </td><td>No     </td></tr>\n",
       "\t<tr><th scope=row>Nico</th><td>43     </td><td>192    </td><td>85     </td><td>M      </td><td>Israel </td><td>Yes    </td></tr>\n",
       "\t<tr><th scope=row>Juan</th><td>21     </td><td>173    </td><td>80     </td><td>M      </td><td>Mexico </td><td>Yes    </td></tr>\n",
       "</tbody>\n",
       "</table>\n"
      ],
      "text/latex": [
       "\\begin{tabular}{r|llllll}\n",
       "  & Age & Height & Weight & Gender & Country & Employed\\\\\n",
       "\\hline\n",
       "\tAlex & 25      & 171     & 67      & M       & France  & No     \\\\\n",
       "\tMartha & 30      & 156     & 51      & F       & Finland & Yes    \\\\\n",
       "\tKate & 52      & 157     & 49      & F       & USA     & No     \\\\\n",
       "\tSean & 60      & 184     & 75      & M       & UK      & Yes    \\\\\n",
       "\tFrancesca & 34      & 164     & 60      & F       & Itally  & No     \\\\\n",
       "\tNico & 43      & 192     & 85      & M       & Israel  & Yes    \\\\\n",
       "\tJuan & 21      & 173     & 80      & M       & Mexico  & Yes    \\\\\n",
       "\\end{tabular}\n"
      ],
      "text/markdown": [
       "\n",
       "| <!--/--> | Age | Height | Weight | Gender | Country | Employed | \n",
       "|---|---|---|---|---|---|---|\n",
       "| Alex | 25      | 171     | 67      | M       | France  | No      | \n",
       "| Martha | 30      | 156     | 51      | F       | Finland | Yes     | \n",
       "| Kate | 52      | 157     | 49      | F       | USA     | No      | \n",
       "| Sean | 60      | 184     | 75      | M       | UK      | Yes     | \n",
       "| Francesca | 34      | 164     | 60      | F       | Itally  | No      | \n",
       "| Nico | 43      | 192     | 85      | M       | Israel  | Yes     | \n",
       "| Juan | 21      | 173     | 80      | M       | Mexico  | Yes     | \n",
       "\n",
       "\n"
      ],
      "text/plain": [
       "          Age Height Weight Gender Country Employed\n",
       "Alex      25  171    67     M      France  No      \n",
       "Martha    30  156    51     F      Finland Yes     \n",
       "Kate      52  157    49     F      USA     No      \n",
       "Sean      60  184    75     M      UK      Yes     \n",
       "Francesca 34  164    60     F      Itally  No      \n",
       "Nico      43  192    85     M      Israel  Yes     \n",
       "Juan      21  173    80     M      Mexico  Yes     "
      ]
     },
     "metadata": {},
     "output_type": "display_data"
    }
   ],
   "source": [
    "newdf <- data.frame(df, df2)\n",
    "newdf"
   ]
  },
  {
   "cell_type": "code",
   "execution_count": 197,
   "metadata": {},
   "outputs": [
    {
     "data": {
      "text/html": [
       "<table>\n",
       "<thead><tr><th></th><th scope=col>Age</th><th scope=col>Height</th><th scope=col>Weight</th><th scope=col>Gender</th><th scope=col>Country</th><th scope=col>Employed</th></tr></thead>\n",
       "<tbody>\n",
       "\t<tr><th scope=row>Martha</th><td>30     </td><td>156    </td><td>51     </td><td>F      </td><td>Finland</td><td>Yes    </td></tr>\n",
       "\t<tr><th scope=row>Sean</th><td>60     </td><td>184    </td><td>75     </td><td>M      </td><td>UK     </td><td>Yes    </td></tr>\n",
       "</tbody>\n",
       "</table>\n"
      ],
      "text/latex": [
       "\\begin{tabular}{r|llllll}\n",
       "  & Age & Height & Weight & Gender & Country & Employed\\\\\n",
       "\\hline\n",
       "\tMartha & 30      & 156     & 51      & F       & Finland & Yes    \\\\\n",
       "\tSean & 60      & 184     & 75      & M       & UK      & Yes    \\\\\n",
       "\\end{tabular}\n"
      ],
      "text/markdown": [
       "\n",
       "| <!--/--> | Age | Height | Weight | Gender | Country | Employed | \n",
       "|---|---|\n",
       "| Martha | 30      | 156     | 51      | F       | Finland | Yes     | \n",
       "| Sean | 60      | 184     | 75      | M       | UK      | Yes     | \n",
       "\n",
       "\n"
      ],
      "text/plain": [
       "       Age Height Weight Gender Country Employed\n",
       "Martha 30  156    51     F      Finland Yes     \n",
       "Sean   60  184    75     M      UK      Yes     "
      ]
     },
     "metadata": {},
     "output_type": "display_data"
    }
   ],
   "source": [
    "newdf[c(\"Martha\", \"Sean\"), ]"
   ]
  },
  {
   "cell_type": "code",
   "execution_count": 198,
   "metadata": {},
   "outputs": [
    {
     "data": {
      "text/html": [
       "<ol class=list-inline>\n",
       "\t<li>171</li>\n",
       "\t<li>156</li>\n",
       "\t<li>157</li>\n",
       "\t<li>184</li>\n",
       "\t<li>164</li>\n",
       "\t<li>192</li>\n",
       "\t<li>173</li>\n",
       "</ol>\n"
      ],
      "text/latex": [
       "\\begin{enumerate*}\n",
       "\\item 171\n",
       "\\item 156\n",
       "\\item 157\n",
       "\\item 184\n",
       "\\item 164\n",
       "\\item 192\n",
       "\\item 173\n",
       "\\end{enumerate*}\n"
      ],
      "text/markdown": [
       "1. 171\n",
       "2. 156\n",
       "3. 157\n",
       "4. 184\n",
       "5. 164\n",
       "6. 192\n",
       "7. 173\n",
       "\n",
       "\n"
      ],
      "text/plain": [
       "[1] 171 156 157 184 164 192 173"
      ]
     },
     "metadata": {},
     "output_type": "display_data"
    }
   ],
   "source": [
    "newdf$Height"
   ]
  },
  {
   "cell_type": "code",
   "execution_count": 199,
   "metadata": {},
   "outputs": [
    {
     "data": {
      "text/html": [
       "<table>\n",
       "<thead><tr><th></th><th scope=col>Age</th><th scope=col>Gender</th><th scope=col>Country</th></tr></thead>\n",
       "<tbody>\n",
       "\t<tr><th scope=row>Alex</th><td>25     </td><td>M      </td><td>France </td></tr>\n",
       "\t<tr><th scope=row>Martha</th><td>30     </td><td>F      </td><td>Finland</td></tr>\n",
       "\t<tr><th scope=row>Kate</th><td>52     </td><td>F      </td><td>USA    </td></tr>\n",
       "\t<tr><th scope=row>Sean</th><td>60     </td><td>M      </td><td>UK     </td></tr>\n",
       "\t<tr><th scope=row>Francesca</th><td>34     </td><td>F      </td><td>Itally </td></tr>\n",
       "\t<tr><th scope=row>Nico</th><td>43     </td><td>M      </td><td>Israel </td></tr>\n",
       "\t<tr><th scope=row>Juan</th><td>21     </td><td>M      </td><td>Mexico </td></tr>\n",
       "</tbody>\n",
       "</table>\n"
      ],
      "text/latex": [
       "\\begin{tabular}{r|lll}\n",
       "  & Age & Gender & Country\\\\\n",
       "\\hline\n",
       "\tAlex & 25      & M       & France \\\\\n",
       "\tMartha & 30      & F       & Finland\\\\\n",
       "\tKate & 52      & F       & USA    \\\\\n",
       "\tSean & 60      & M       & UK     \\\\\n",
       "\tFrancesca & 34      & F       & Itally \\\\\n",
       "\tNico & 43      & M       & Israel \\\\\n",
       "\tJuan & 21      & M       & Mexico \\\\\n",
       "\\end{tabular}\n"
      ],
      "text/markdown": [
       "\n",
       "| <!--/--> | Age | Gender | Country | \n",
       "|---|---|---|---|---|---|---|\n",
       "| Alex | 25      | M       | France  | \n",
       "| Martha | 30      | F       | Finland | \n",
       "| Kate | 52      | F       | USA     | \n",
       "| Sean | 60      | M       | UK      | \n",
       "| Francesca | 34      | F       | Itally  | \n",
       "| Nico | 43      | M       | Israel  | \n",
       "| Juan | 21      | M       | Mexico  | \n",
       "\n",
       "\n"
      ],
      "text/plain": [
       "          Age Gender Country\n",
       "Alex      25  M      France \n",
       "Martha    30  F      Finland\n",
       "Kate      52  F      USA    \n",
       "Sean      60  M      UK     \n",
       "Francesca 34  F      Itally \n",
       "Nico      43  M      Israel \n",
       "Juan      21  M      Mexico "
      ]
     },
     "metadata": {},
     "output_type": "display_data"
    }
   ],
   "source": [
    "newdf[, c(\"Age\", \"Gender\", \"Country\")]"
   ]
  },
  {
   "cell_type": "code",
   "execution_count": 204,
   "metadata": {},
   "outputs": [
    {
     "data": {
      "text/html": [
       "<table>\n",
       "<thead><tr><th></th><th scope=col>mpg</th><th scope=col>cyl</th><th scope=col>disp</th><th scope=col>hp</th><th scope=col>drat</th><th scope=col>wt</th><th scope=col>qsec</th><th scope=col>vs</th><th scope=col>am</th><th scope=col>gear</th><th scope=col>carb</th></tr></thead>\n",
       "<tbody>\n",
       "\t<tr><th scope=row>Mazda RX4</th><td>21.0 </td><td>6    </td><td>160  </td><td>110  </td><td>3.90 </td><td>2.620</td><td>16.46</td><td>0    </td><td>1    </td><td>4    </td><td>4    </td></tr>\n",
       "\t<tr><th scope=row>Mazda RX4 Wag</th><td>21.0 </td><td>6    </td><td>160  </td><td>110  </td><td>3.90 </td><td>2.875</td><td>17.02</td><td>0    </td><td>1    </td><td>4    </td><td>4    </td></tr>\n",
       "\t<tr><th scope=row>Datsun 710</th><td>22.8 </td><td>4    </td><td>108  </td><td> 93  </td><td>3.85 </td><td>2.320</td><td>18.61</td><td>1    </td><td>1    </td><td>4    </td><td>1    </td></tr>\n",
       "\t<tr><th scope=row>Hornet 4 Drive</th><td>21.4 </td><td>6    </td><td>258  </td><td>110  </td><td>3.08 </td><td>3.215</td><td>19.44</td><td>1    </td><td>0    </td><td>3    </td><td>1    </td></tr>\n",
       "\t<tr><th scope=row>Hornet Sportabout</th><td>18.7 </td><td>8    </td><td>360  </td><td>175  </td><td>3.15 </td><td>3.440</td><td>17.02</td><td>0    </td><td>0    </td><td>3    </td><td>2    </td></tr>\n",
       "\t<tr><th scope=row>Valiant</th><td>18.1 </td><td>6    </td><td>225  </td><td>105  </td><td>2.76 </td><td>3.460</td><td>20.22</td><td>1    </td><td>0    </td><td>3    </td><td>1    </td></tr>\n",
       "</tbody>\n",
       "</table>\n"
      ],
      "text/latex": [
       "\\begin{tabular}{r|lllllllllll}\n",
       "  & mpg & cyl & disp & hp & drat & wt & qsec & vs & am & gear & carb\\\\\n",
       "\\hline\n",
       "\tMazda RX4 & 21.0  & 6     & 160   & 110   & 3.90  & 2.620 & 16.46 & 0     & 1     & 4     & 4    \\\\\n",
       "\tMazda RX4 Wag & 21.0  & 6     & 160   & 110   & 3.90  & 2.875 & 17.02 & 0     & 1     & 4     & 4    \\\\\n",
       "\tDatsun 710 & 22.8  & 4     & 108   &  93   & 3.85  & 2.320 & 18.61 & 1     & 1     & 4     & 1    \\\\\n",
       "\tHornet 4 Drive & 21.4  & 6     & 258   & 110   & 3.08  & 3.215 & 19.44 & 1     & 0     & 3     & 1    \\\\\n",
       "\tHornet Sportabout & 18.7  & 8     & 360   & 175   & 3.15  & 3.440 & 17.02 & 0     & 0     & 3     & 2    \\\\\n",
       "\tValiant & 18.1  & 6     & 225   & 105   & 2.76  & 3.460 & 20.22 & 1     & 0     & 3     & 1    \\\\\n",
       "\\end{tabular}\n"
      ],
      "text/markdown": [
       "\n",
       "| <!--/--> | mpg | cyl | disp | hp | drat | wt | qsec | vs | am | gear | carb | \n",
       "|---|---|---|---|---|---|\n",
       "| Mazda RX4 | 21.0  | 6     | 160   | 110   | 3.90  | 2.620 | 16.46 | 0     | 1     | 4     | 4     | \n",
       "| Mazda RX4 Wag | 21.0  | 6     | 160   | 110   | 3.90  | 2.875 | 17.02 | 0     | 1     | 4     | 4     | \n",
       "| Datsun 710 | 22.8  | 4     | 108   |  93   | 3.85  | 2.320 | 18.61 | 1     | 1     | 4     | 1     | \n",
       "| Hornet 4 Drive | 21.4  | 6     | 258   | 110   | 3.08  | 3.215 | 19.44 | 1     | 0     | 3     | 1     | \n",
       "| Hornet Sportabout | 18.7  | 8     | 360   | 175   | 3.15  | 3.440 | 17.02 | 0     | 0     | 3     | 2     | \n",
       "| Valiant | 18.1  | 6     | 225   | 105   | 2.76  | 3.460 | 20.22 | 1     | 0     | 3     | 1     | \n",
       "\n",
       "\n"
      ],
      "text/plain": [
       "                  mpg  cyl disp hp  drat wt    qsec  vs am gear carb\n",
       "Mazda RX4         21.0 6   160  110 3.90 2.620 16.46 0  1  4    4   \n",
       "Mazda RX4 Wag     21.0 6   160  110 3.90 2.875 17.02 0  1  4    4   \n",
       "Datsun 710        22.8 4   108   93 3.85 2.320 18.61 1  1  4    1   \n",
       "Hornet 4 Drive    21.4 6   258  110 3.08 3.215 19.44 1  0  3    1   \n",
       "Hornet Sportabout 18.7 8   360  175 3.15 3.440 17.02 0  0  3    2   \n",
       "Valiant           18.1 6   225  105 2.76 3.460 20.22 1  0  3    1   "
      ]
     },
     "metadata": {},
     "output_type": "display_data"
    },
    {
     "data": {
      "text/html": [
       "<table>\n",
       "<thead><tr><th></th><th scope=col>mpg</th><th scope=col>cyl</th><th scope=col>disp</th><th scope=col>hp</th><th scope=col>drat</th><th scope=col>wt</th><th scope=col>qsec</th><th scope=col>vs</th><th scope=col>am</th><th scope=col>gear</th><th scope=col>carb</th></tr></thead>\n",
       "<tbody>\n",
       "\t<tr><th scope=row>Mazda RX4</th><td>21.0 </td><td>6    </td><td>160.0</td><td>110  </td><td>3.90 </td><td>2.620</td><td>16.46</td><td>0    </td><td>1    </td><td>4    </td><td>4    </td></tr>\n",
       "\t<tr><th scope=row>Mazda RX4 Wag</th><td>21.0 </td><td>6    </td><td>160.0</td><td>110  </td><td>3.90 </td><td>2.875</td><td>17.02</td><td>0    </td><td>1    </td><td>4    </td><td>4    </td></tr>\n",
       "\t<tr><th scope=row>Datsun 710</th><td>22.8 </td><td>4    </td><td>108.0</td><td> 93  </td><td>3.85 </td><td>2.320</td><td>18.61</td><td>1    </td><td>1    </td><td>4    </td><td>1    </td></tr>\n",
       "\t<tr><th scope=row>Hornet 4 Drive</th><td>21.4 </td><td>6    </td><td>258.0</td><td>110  </td><td>3.08 </td><td>3.215</td><td>19.44</td><td>1    </td><td>0    </td><td>3    </td><td>1    </td></tr>\n",
       "\t<tr><th scope=row>Hornet Sportabout</th><td>18.7 </td><td>8    </td><td>360.0</td><td>175  </td><td>3.15 </td><td>3.440</td><td>17.02</td><td>0    </td><td>0    </td><td>3    </td><td>2    </td></tr>\n",
       "\t<tr><th scope=row>Valiant</th><td>18.1 </td><td>6    </td><td>225.0</td><td>105  </td><td>2.76 </td><td>3.460</td><td>20.22</td><td>1    </td><td>0    </td><td>3    </td><td>1    </td></tr>\n",
       "\t<tr><th scope=row>Duster 360</th><td>14.3 </td><td>8    </td><td>360.0</td><td>245  </td><td>3.21 </td><td>3.570</td><td>15.84</td><td>0    </td><td>0    </td><td>3    </td><td>4    </td></tr>\n",
       "\t<tr><th scope=row>Merc 240D</th><td>24.4 </td><td>4    </td><td>146.7</td><td> 62  </td><td>3.69 </td><td>3.190</td><td>20.00</td><td>1    </td><td>0    </td><td>4    </td><td>2    </td></tr>\n",
       "\t<tr><th scope=row>Merc 230</th><td>22.8 </td><td>4    </td><td>140.8</td><td> 95  </td><td>3.92 </td><td>3.150</td><td>22.90</td><td>1    </td><td>0    </td><td>4    </td><td>2    </td></tr>\n",
       "\t<tr><th scope=row>Merc 280</th><td>19.2 </td><td>6    </td><td>167.6</td><td>123  </td><td>3.92 </td><td>3.440</td><td>18.30</td><td>1    </td><td>0    </td><td>4    </td><td>4    </td></tr>\n",
       "</tbody>\n",
       "</table>\n"
      ],
      "text/latex": [
       "\\begin{tabular}{r|lllllllllll}\n",
       "  & mpg & cyl & disp & hp & drat & wt & qsec & vs & am & gear & carb\\\\\n",
       "\\hline\n",
       "\tMazda RX4 & 21.0  & 6     & 160.0 & 110   & 3.90  & 2.620 & 16.46 & 0     & 1     & 4     & 4    \\\\\n",
       "\tMazda RX4 Wag & 21.0  & 6     & 160.0 & 110   & 3.90  & 2.875 & 17.02 & 0     & 1     & 4     & 4    \\\\\n",
       "\tDatsun 710 & 22.8  & 4     & 108.0 &  93   & 3.85  & 2.320 & 18.61 & 1     & 1     & 4     & 1    \\\\\n",
       "\tHornet 4 Drive & 21.4  & 6     & 258.0 & 110   & 3.08  & 3.215 & 19.44 & 1     & 0     & 3     & 1    \\\\\n",
       "\tHornet Sportabout & 18.7  & 8     & 360.0 & 175   & 3.15  & 3.440 & 17.02 & 0     & 0     & 3     & 2    \\\\\n",
       "\tValiant & 18.1  & 6     & 225.0 & 105   & 2.76  & 3.460 & 20.22 & 1     & 0     & 3     & 1    \\\\\n",
       "\tDuster 360 & 14.3  & 8     & 360.0 & 245   & 3.21  & 3.570 & 15.84 & 0     & 0     & 3     & 4    \\\\\n",
       "\tMerc 240D & 24.4  & 4     & 146.7 &  62   & 3.69  & 3.190 & 20.00 & 1     & 0     & 4     & 2    \\\\\n",
       "\tMerc 230 & 22.8  & 4     & 140.8 &  95   & 3.92  & 3.150 & 22.90 & 1     & 0     & 4     & 2    \\\\\n",
       "\tMerc 280 & 19.2  & 6     & 167.6 & 123   & 3.92  & 3.440 & 18.30 & 1     & 0     & 4     & 4    \\\\\n",
       "\\end{tabular}\n"
      ],
      "text/markdown": [
       "\n",
       "| <!--/--> | mpg | cyl | disp | hp | drat | wt | qsec | vs | am | gear | carb | \n",
       "|---|---|---|---|---|---|---|---|---|---|\n",
       "| Mazda RX4 | 21.0  | 6     | 160.0 | 110   | 3.90  | 2.620 | 16.46 | 0     | 1     | 4     | 4     | \n",
       "| Mazda RX4 Wag | 21.0  | 6     | 160.0 | 110   | 3.90  | 2.875 | 17.02 | 0     | 1     | 4     | 4     | \n",
       "| Datsun 710 | 22.8  | 4     | 108.0 |  93   | 3.85  | 2.320 | 18.61 | 1     | 1     | 4     | 1     | \n",
       "| Hornet 4 Drive | 21.4  | 6     | 258.0 | 110   | 3.08  | 3.215 | 19.44 | 1     | 0     | 3     | 1     | \n",
       "| Hornet Sportabout | 18.7  | 8     | 360.0 | 175   | 3.15  | 3.440 | 17.02 | 0     | 0     | 3     | 2     | \n",
       "| Valiant | 18.1  | 6     | 225.0 | 105   | 2.76  | 3.460 | 20.22 | 1     | 0     | 3     | 1     | \n",
       "| Duster 360 | 14.3  | 8     | 360.0 | 245   | 3.21  | 3.570 | 15.84 | 0     | 0     | 3     | 4     | \n",
       "| Merc 240D | 24.4  | 4     | 146.7 |  62   | 3.69  | 3.190 | 20.00 | 1     | 0     | 4     | 2     | \n",
       "| Merc 230 | 22.8  | 4     | 140.8 |  95   | 3.92  | 3.150 | 22.90 | 1     | 0     | 4     | 2     | \n",
       "| Merc 280 | 19.2  | 6     | 167.6 | 123   | 3.92  | 3.440 | 18.30 | 1     | 0     | 4     | 4     | \n",
       "\n",
       "\n"
      ],
      "text/plain": [
       "                  mpg  cyl disp  hp  drat wt    qsec  vs am gear carb\n",
       "Mazda RX4         21.0 6   160.0 110 3.90 2.620 16.46 0  1  4    4   \n",
       "Mazda RX4 Wag     21.0 6   160.0 110 3.90 2.875 17.02 0  1  4    4   \n",
       "Datsun 710        22.8 4   108.0  93 3.85 2.320 18.61 1  1  4    1   \n",
       "Hornet 4 Drive    21.4 6   258.0 110 3.08 3.215 19.44 1  0  3    1   \n",
       "Hornet Sportabout 18.7 8   360.0 175 3.15 3.440 17.02 0  0  3    2   \n",
       "Valiant           18.1 6   225.0 105 2.76 3.460 20.22 1  0  3    1   \n",
       "Duster 360        14.3 8   360.0 245 3.21 3.570 15.84 0  0  3    4   \n",
       "Merc 240D         24.4 4   146.7  62 3.69 3.190 20.00 1  0  4    2   \n",
       "Merc 230          22.8 4   140.8  95 3.92 3.150 22.90 1  0  4    2   \n",
       "Merc 280          19.2 6   167.6 123 3.92 3.440 18.30 1  0  4    4   "
      ]
     },
     "metadata": {},
     "output_type": "display_data"
    },
    {
     "data": {
      "text/plain": [
       "      mpg             cyl             disp             hp       \n",
       " Min.   :10.40   Min.   :4.000   Min.   : 71.1   Min.   : 52.0  \n",
       " 1st Qu.:15.43   1st Qu.:4.000   1st Qu.:120.8   1st Qu.: 96.5  \n",
       " Median :19.20   Median :6.000   Median :196.3   Median :123.0  \n",
       " Mean   :20.09   Mean   :6.188   Mean   :230.7   Mean   :146.7  \n",
       " 3rd Qu.:22.80   3rd Qu.:8.000   3rd Qu.:326.0   3rd Qu.:180.0  \n",
       " Max.   :33.90   Max.   :8.000   Max.   :472.0   Max.   :335.0  \n",
       "      drat             wt             qsec             vs        \n",
       " Min.   :2.760   Min.   :1.513   Min.   :14.50   Min.   :0.0000  \n",
       " 1st Qu.:3.080   1st Qu.:2.581   1st Qu.:16.89   1st Qu.:0.0000  \n",
       " Median :3.695   Median :3.325   Median :17.71   Median :0.0000  \n",
       " Mean   :3.597   Mean   :3.217   Mean   :17.85   Mean   :0.4375  \n",
       " 3rd Qu.:3.920   3rd Qu.:3.610   3rd Qu.:18.90   3rd Qu.:1.0000  \n",
       " Max.   :4.930   Max.   :5.424   Max.   :22.90   Max.   :1.0000  \n",
       "       am              gear            carb      \n",
       " Min.   :0.0000   Min.   :3.000   Min.   :1.000  \n",
       " 1st Qu.:0.0000   1st Qu.:3.000   1st Qu.:2.000  \n",
       " Median :0.0000   Median :4.000   Median :2.000  \n",
       " Mean   :0.4062   Mean   :3.688   Mean   :2.812  \n",
       " 3rd Qu.:1.0000   3rd Qu.:4.000   3rd Qu.:4.000  \n",
       " Max.   :1.0000   Max.   :5.000   Max.   :8.000  "
      ]
     },
     "metadata": {},
     "output_type": "display_data"
    },
    {
     "data": {
      "text/plain": [
       "      Age            Height          Weight      Gender    Country  Employed\n",
       " Min.   :21.00   Min.   :156.0   Min.   :49.00   F:3    Finland:1   No :3   \n",
       " 1st Qu.:27.50   1st Qu.:160.5   1st Qu.:55.50   M:4    France :1   Yes:4   \n",
       " Median :34.00   Median :171.0   Median :67.00          Israel :1           \n",
       " Mean   :37.86   Mean   :171.0   Mean   :66.71          Itally :1           \n",
       " 3rd Qu.:47.50   3rd Qu.:178.5   3rd Qu.:77.50          Mexico :1           \n",
       " Max.   :60.00   Max.   :192.0   Max.   :85.00          UK     :1           \n",
       "                                                        USA    :1           "
      ]
     },
     "metadata": {},
     "output_type": "display_data"
    },
    {
     "data": {
      "image/png": "[encoded data removed]",
      "text/plain": [
       "plot without title"
      ]
     },
     "metadata": {},
     "output_type": "display_data"
    }
   ],
   "source": [
    "head(mtcars)\n",
    "head(mtcars, n = 10)\n",
    "summary(mtcars)\n",
    "summary(newdf)\n",
    "plot(x = mtcars$mpg, y = mtcars$hp)"
   ]
  },
  {
   "cell_type": "code",
   "execution_count": 205,
   "metadata": {},
   "outputs": [
    {
     "data": {
      "image/png": "[encoded data removed]",
      "text/plain": [
       "plot without title"
      ]
     },
     "metadata": {},
     "output_type": "display_data"
    }
   ],
   "source": [
    "plot(mtcars[, c(1, 4)])"
   ]
  },
  {
   "cell_type": "code",
   "execution_count": 206,
   "metadata": {},
   "outputs": [],
   "source": [
    "calendar <- list(1910:2017, \n",
    "                 c(\"Jan\", \"Feb\", \"Mar\", \"Apr\", \"May\", \"Jun\", \"Jul\", \"Aug\", \"Sep\", \"Oct\", \"Nov\", \"Dec\"),\n",
    "                 1:31)"
   ]
  },
  {
   "cell_type": "code",
   "execution_count": 207,
   "metadata": {},
   "outputs": [],
   "source": [
    "names(calendar) <- c(\"year\", \"month\", \"date\")"
   ]
  },
  {
   "cell_type": "code",
   "execution_count": 208,
   "metadata": {},
   "outputs": [
    {
     "name": "stdout",
     "output_type": "stream",
     "text": [
      "$year\n",
      "  [1] 1910 1911 1912 1913 1914 1915 1916 1917 1918 1919 1920 1921 1922 1923 1924\n",
      " [16] 1925 1926 1927 1928 1929 1930 1931 1932 1933 1934 1935 1936 1937 1938 1939\n",
      " [31] 1940 1941 1942 1943 1944 1945 1946 1947 1948 1949 1950 1951 1952 1953 1954\n",
      " [46] 1955 1956 1957 1958 1959 1960 1961 1962 1963 1964 1965 1966 1967 1968 1969\n",
      " [61] 1970 1971 1972 1973 1974 1975 1976 1977 1978 1979 1980 1981 1982 1983 1984\n",
      " [76] 1985 1986 1987 1988 1989 1990 1991 1992 1993 1994 1995 1996 1997 1998 1999\n",
      " [91] 2000 2001 2002 2003 2004 2005 2006 2007 2008 2009 2010 2011 2012 2013 2014\n",
      "[106] 2015 2016 2017\n",
      "\n",
      "$month\n",
      " [1] \"Jan\" \"Feb\" \"Mar\" \"Apr\" \"May\" \"Jun\" \"Jul\" \"Aug\" \"Sep\" \"Oct\" \"Nov\" \"Dec\"\n",
      "\n",
      "$date\n",
      " [1]  1  2  3  4  5  6  7  8  9 10 11 12 13 14 15 16 17 18 19 20 21 22 23 24 25\n",
      "[26] 26 27 28 29 30 31\n",
      "\n"
     ]
    }
   ],
   "source": [
    "calendar2 <- list(year = 1910:2017, \n",
    "                  month = c(\"Jan\", \"Feb\", \"Mar\", \"Apr\", \"May\", \"Jun\", \n",
    "                            \"Jul\", \"Aug\", \"Sep\", \"Oct\", \"Nov\", \"Dec\"),\n",
    "                  date = 1:31)\n",
    "print(calendar2)"
   ]
  },
  {
   "cell_type": "code",
   "execution_count": 209,
   "metadata": {},
   "outputs": [
    {
     "data": {
      "text/html": [
       "'list'"
      ],
      "text/latex": [
       "'list'"
      ],
      "text/markdown": [
       "'list'"
      ],
      "text/plain": [
       "[1] \"list\""
      ]
     },
     "metadata": {},
     "output_type": "display_data"
    },
    {
     "data": {
      "text/html": [
       "'integer'"
      ],
      "text/latex": [
       "'integer'"
      ],
      "text/markdown": [
       "'integer'"
      ],
      "text/plain": [
       "[1] \"integer\""
      ]
     },
     "metadata": {},
     "output_type": "display_data"
    },
    {
     "data": {
      "text/html": [
       "'character'"
      ],
      "text/latex": [
       "'character'"
      ],
      "text/markdown": [
       "'character'"
      ],
      "text/plain": [
       "[1] \"character\""
      ]
     },
     "metadata": {},
     "output_type": "display_data"
    },
    {
     "data": {
      "text/html": [
       "'integer'"
      ],
      "text/latex": [
       "'integer'"
      ],
      "text/markdown": [
       "'integer'"
      ],
      "text/plain": [
       "[1] \"integer\""
      ]
     },
     "metadata": {},
     "output_type": "display_data"
    }
   ],
   "source": [
    "class(calendar)\n",
    "class(calendar[[1]])\n",
    "class(calendar[[2]])\n",
    "class(calendar[[3]])"
   ]
  },
  {
   "cell_type": "code",
   "execution_count": 210,
   "metadata": {},
   "outputs": [
    {
     "data": {
      "text/plain": [
       "      Length Class  Mode     \n",
       "year  108    -none- numeric  \n",
       "month  12    -none- character\n",
       "date   31    -none- numeric  "
      ]
     },
     "metadata": {},
     "output_type": "display_data"
    }
   ],
   "source": [
    "summary(calendar)"
   ]
  },
  {
   "cell_type": "code",
   "execution_count": 211,
   "metadata": {},
   "outputs": [
    {
     "name": "stdout",
     "output_type": "stream",
     "text": [
      "List of 3\n",
      " $ year : int [1:108] 1910 1911 1912 1913 1914 1915 1916 1917 1918 1919 ...\n",
      " $ month: chr [1:12] \"Jan\" \"Feb\" \"Mar\" \"Apr\" ...\n",
      " $ date : int [1:31] 1 2 3 4 5 6 7 8 9 10 ...\n"
     ]
    }
   ],
   "source": [
    "str(calendar)"
   ]
  },
  {
   "cell_type": "code",
   "execution_count": 212,
   "metadata": {},
   "outputs": [
    {
     "data": {
      "text/html": [
       "<ol class=list-inline>\n",
       "\t<li>'Jan'</li>\n",
       "\t<li>'Feb'</li>\n",
       "\t<li>'Mar'</li>\n",
       "\t<li>'Apr'</li>\n",
       "\t<li>'May'</li>\n",
       "\t<li>'Jun'</li>\n",
       "\t<li>'Jul'</li>\n",
       "\t<li>'Aug'</li>\n",
       "\t<li>'Sep'</li>\n",
       "\t<li>'Oct'</li>\n",
       "\t<li>'Nov'</li>\n",
       "\t<li>'Dec'</li>\n",
       "</ol>\n"
      ],
      "text/latex": [
       "\\begin{enumerate*}\n",
       "\\item 'Jan'\n",
       "\\item 'Feb'\n",
       "\\item 'Mar'\n",
       "\\item 'Apr'\n",
       "\\item 'May'\n",
       "\\item 'Jun'\n",
       "\\item 'Jul'\n",
       "\\item 'Aug'\n",
       "\\item 'Sep'\n",
       "\\item 'Oct'\n",
       "\\item 'Nov'\n",
       "\\item 'Dec'\n",
       "\\end{enumerate*}\n"
      ],
      "text/markdown": [
       "1. 'Jan'\n",
       "2. 'Feb'\n",
       "3. 'Mar'\n",
       "4. 'Apr'\n",
       "5. 'May'\n",
       "6. 'Jun'\n",
       "7. 'Jul'\n",
       "8. 'Aug'\n",
       "9. 'Sep'\n",
       "10. 'Oct'\n",
       "11. 'Nov'\n",
       "12. 'Dec'\n",
       "\n",
       "\n"
      ],
      "text/plain": [
       " [1] \"Jan\" \"Feb\" \"Mar\" \"Apr\" \"May\" \"Jun\" \"Jul\" \"Aug\" \"Sep\" \"Oct\" \"Nov\" \"Dec\""
      ]
     },
     "metadata": {},
     "output_type": "display_data"
    }
   ],
   "source": [
    "calendar2$month"
   ]
  },
  {
   "cell_type": "code",
   "execution_count": 216,
   "metadata": {},
   "outputs": [
    {
     "data": {
      "text/html": [
       "1990"
      ],
      "text/latex": [
       "1990"
      ],
      "text/markdown": [
       "1990"
      ],
      "text/plain": [
       "[1] 1990"
      ]
     },
     "metadata": {},
     "output_type": "display_data"
    },
    {
     "data": {
      "text/html": [
       "1990"
      ],
      "text/latex": [
       "1990"
      ],
      "text/markdown": [
       "1990"
      ],
      "text/plain": [
       "[1] 1990"
      ]
     },
     "metadata": {},
     "output_type": "display_data"
    },
    {
     "data": {
      "text/html": [
       "'Aug'"
      ],
      "text/latex": [
       "'Aug'"
      ],
      "text/markdown": [
       "'Aug'"
      ],
      "text/plain": [
       "[1] \"Aug\""
      ]
     },
     "metadata": {},
     "output_type": "display_data"
    },
    {
     "data": {
      "text/html": [
       "1917"
      ],
      "text/latex": [
       "1917"
      ],
      "text/markdown": [
       "1917"
      ],
      "text/plain": [
       "[1] 1917"
      ]
     },
     "metadata": {},
     "output_type": "display_data"
    },
    {
     "data": {
      "text/html": [
       "23"
      ],
      "text/latex": [
       "23"
      ],
      "text/markdown": [
       "23"
      ],
      "text/plain": [
       "[1] 23"
      ]
     },
     "metadata": {},
     "output_type": "display_data"
    },
    {
     "data": {
      "text/html": [
       "1932"
      ],
      "text/latex": [
       "1932"
      ],
      "text/markdown": [
       "1932"
      ],
      "text/plain": [
       "[1] 1932"
      ]
     },
     "metadata": {},
     "output_type": "display_data"
    }
   ],
   "source": [
    "calendar2[[1]][81]\n",
    "calendar2$year[81]\n",
    "calendar2[[2]][8]\n",
    "calendar2$year[8]\n",
    "calendar2[[3]][23]\n",
    "calendar2$year[23]"
   ]
  },
  {
   "cell_type": "code",
   "execution_count": 217,
   "metadata": {},
   "outputs": [],
   "source": [
    "v = runif(round(runif(1)*1000))"
   ]
  },
  {
   "cell_type": "code",
   "execution_count": 218,
   "metadata": {},
   "outputs": [
    {
     "data": {
      "text/html": [
       "640"
      ],
      "text/latex": [
       "640"
      ],
      "text/markdown": [
       "640"
      ],
      "text/plain": [
       "[1] 640"
      ]
     },
     "metadata": {},
     "output_type": "display_data"
    }
   ],
   "source": [
    "length(v)"
   ]
  },
  {
   "cell_type": "code",
   "execution_count": 232,
   "metadata": {},
   "outputs": [
    {
     "data": {
      "text/html": [
       "<ol class=list-inline>\n",
       "\t<li>6</li>\n",
       "\t<li>7</li>\n",
       "\t<li>8</li>\n",
       "\t<li>9</li>\n",
       "</ol>\n"
      ],
      "text/latex": [
       "\\begin{enumerate*}\n",
       "\\item 6\n",
       "\\item 7\n",
       "\\item 8\n",
       "\\item 9\n",
       "\\end{enumerate*}\n"
      ],
      "text/markdown": [
       "1. 6\n",
       "2. 7\n",
       "3. 8\n",
       "4. 9\n",
       "\n",
       "\n"
      ],
      "text/plain": [
       "[1] 6 7 8 9"
      ]
     },
     "metadata": {},
     "output_type": "display_data"
    }
   ],
   "source": [
    "v = c(1,2,3,4,5,6,7,8,9,0)\n",
    "v[v>5]"
   ]
  },
  {
   "cell_type": "code",
   "execution_count": 229,
   "metadata": {},
   "outputs": [],
   "source": [
    "A = matrix(c(3,4,2,7,4,1,0,2), ncol = 2)\n",
    "v = c(9,1,5,0)\n"
   ]
  },
  {
   "cell_type": "code",
   "execution_count": 231,
   "metadata": {},
   "outputs": [
    {
     "data": {
      "text/html": [
       "<table>\n",
       "<tbody>\n",
       "\t<tr><td>3</td><td>9</td></tr>\n",
       "\t<tr><td>4</td><td>1</td></tr>\n",
       "\t<tr><td>2</td><td>5</td></tr>\n",
       "\t<tr><td>7</td><td>0</td></tr>\n",
       "</tbody>\n",
       "</table>\n"
      ],
      "text/latex": [
       "\\begin{tabular}{ll}\n",
       "\t 3 & 9\\\\\n",
       "\t 4 & 1\\\\\n",
       "\t 2 & 5\\\\\n",
       "\t 7 & 0\\\\\n",
       "\\end{tabular}\n"
      ],
      "text/markdown": [
       "\n",
       "| 3 | 9 | \n",
       "| 4 | 1 | \n",
       "| 2 | 5 | \n",
       "| 7 | 0 | \n",
       "\n",
       "\n"
      ],
      "text/plain": [
       "     [,1] [,2]\n",
       "[1,] 3    9   \n",
       "[2,] 4    1   \n",
       "[3,] 2    5   \n",
       "[4,] 7    0   "
      ]
     },
     "metadata": {},
     "output_type": "display_data"
    }
   ],
   "source": [
    "matrix(c(3,4,2,7,9,1,5,0), ncol = 2)"
   ]
  },
  {
   "cell_type": "code",
   "execution_count": 233,
   "metadata": {},
   "outputs": [
    {
     "data": {
      "text/html": [
       "<table>\n",
       "<tbody>\n",
       "\t<tr><td> TRUE</td><td> TRUE</td></tr>\n",
       "\t<tr><td>FALSE</td><td>FALSE</td></tr>\n",
       "</tbody>\n",
       "</table>\n"
      ],
      "text/latex": [
       "\\begin{tabular}{ll}\n",
       "\t  TRUE &  TRUE\\\\\n",
       "\t FALSE & FALSE\\\\\n",
       "\\end{tabular}\n"
      ],
      "text/markdown": [
       "\n",
       "|  TRUE |  TRUE | \n",
       "| FALSE | FALSE | \n",
       "\n",
       "\n"
      ],
      "text/plain": [
       "     [,1]  [,2] \n",
       "[1,]  TRUE  TRUE\n",
       "[2,] FALSE FALSE"
      ]
     },
     "metadata": {},
     "output_type": "display_data"
    }
   ],
   "source": [
    "matrix(c(TRUE,FALSE,TRUE,FALSE), nrow=2)"
   ]
  },
  {
   "cell_type": "code",
   "execution_count": 234,
   "metadata": {},
   "outputs": [
    {
     "ename": "ERROR",
     "evalue": "Error in A(colnames) <- c(\"A1\", \"A2\", \"A3\", \"A4\"): could not find function \"A<-\"\n",
     "output_type": "error",
     "traceback": [
      "Error in A(colnames) <- c(\"A1\", \"A2\", \"A3\", \"A4\"): could not find function \"A<-\"\nTraceback:\n"
     ]
    }
   ],
   "source": [
    "A(colnames) <- c(\"A1\",\"A2\",\"A3\",\"A4\")"
   ]
  },
  {
   "cell_type": "code",
   "execution_count": 240,
   "metadata": {},
   "outputs": [
    {
     "name": "stdout",
     "output_type": "stream",
     "text": [
      " num [1:4, 1:2] 3 4 2 7 4 1 0 2\n"
     ]
    }
   ],
   "source": [
    "str(A)"
   ]
  },
  {
   "cell_type": "code",
   "execution_count": 241,
   "metadata": {},
   "outputs": [
    {
     "ename": "ERROR",
     "evalue": "Error in type(A): could not find function \"type\"\n",
     "output_type": "error",
     "traceback": [
      "Error in type(A): could not find function \"type\"\nTraceback:\n"
     ]
    }
   ],
   "source": [
    "type(A)"
   ]
  },
  {
   "cell_type": "code",
   "execution_count": 242,
   "metadata": {},
   "outputs": [
    {
     "data": {
      "text/html": [
       "TRUE"
      ],
      "text/latex": [
       "TRUE"
      ],
      "text/markdown": [
       "TRUE"
      ],
      "text/plain": [
       "[1] TRUE"
      ]
     },
     "metadata": {},
     "output_type": "display_data"
    }
   ],
   "source": [
    "is.matrix(A)"
   ]
  },
  {
   "cell_type": "code",
   "execution_count": 252,
   "metadata": {},
   "outputs": [],
   "source": [
    "file.show(\"data.csv\")"
   ]
  },
  {
   "cell_type": "code",
   "execution_count": 253,
   "metadata": {},
   "outputs": [
    {
     "data": {
      "text/html": [
       "<ol class=list-inline>\n",
       "\t<li>'data.csv'</li>\n",
       "\t<li>'my_secret_diary.txt'</li>\n",
       "\t<li>'PythonQuickReference.ipynb'</li>\n",
       "\t<li>'RQuickReference.ipynb'</li>\n",
       "\t<li>'test0.txt'</li>\n",
       "\t<li>'test1.txt'</li>\n",
       "\t<li>'test2.txt'</li>\n",
       "</ol>\n"
      ],
      "text/latex": [
       "\\begin{enumerate*}\n",
       "\\item 'data.csv'\n",
       "\\item 'my\\_secret\\_diary.txt'\n",
       "\\item 'PythonQuickReference.ipynb'\n",
       "\\item 'RQuickReference.ipynb'\n",
       "\\item 'test0.txt'\n",
       "\\item 'test1.txt'\n",
       "\\item 'test2.txt'\n",
       "\\end{enumerate*}\n"
      ],
      "text/markdown": [
       "1. 'data.csv'\n",
       "2. 'my_secret_diary.txt'\n",
       "3. 'PythonQuickReference.ipynb'\n",
       "4. 'RQuickReference.ipynb'\n",
       "5. 'test0.txt'\n",
       "6. 'test1.txt'\n",
       "7. 'test2.txt'\n",
       "\n",
       "\n"
      ],
      "text/plain": [
       "[1] \"data.csv\"                   \"my_secret_diary.txt\"       \n",
       "[3] \"PythonQuickReference.ipynb\" \"RQuickReference.ipynb\"     \n",
       "[5] \"test0.txt\"                  \"test1.txt\"                 \n",
       "[7] \"test2.txt\"                 "
      ]
     },
     "metadata": {},
     "output_type": "display_data"
    }
   ],
   "source": [
    "dir()"
   ]
  },
  {
   "cell_type": "code",
   "execution_count": 254,
   "metadata": {},
   "outputs": [],
   "source": [
    "?read.delim"
   ]
  },
  {
   "cell_type": "code",
   "execution_count": 261,
   "metadata": {},
   "outputs": [
    {
     "data": {
      "text/html": [
       "<table>\n",
       "<thead><tr><th scope=col>x</th><th scope=col>y</th><th scope=col>z</th><th scope=col>value</th></tr></thead>\n",
       "<tbody>\n",
       "\t<tr><td>1</td><td>2</td><td>3</td><td>x</td></tr>\n",
       "\t<tr><td>4</td><td>5</td><td>6</td><td>y</td></tr>\n",
       "\t<tr><td>7</td><td>8</td><td>9</td><td>z</td></tr>\n",
       "</tbody>\n",
       "</table>\n"
      ],
      "text/latex": [
       "\\begin{tabular}{r|llll}\n",
       " x & y & z & value\\\\\n",
       "\\hline\n",
       "\t 1 & 2 & 3 & x\\\\\n",
       "\t 4 & 5 & 6 & y\\\\\n",
       "\t 7 & 8 & 9 & z\\\\\n",
       "\\end{tabular}\n"
      ],
      "text/markdown": [
       "\n",
       "x | y | z | value | \n",
       "|---|---|---|\n",
       "| 1 | 2 | 3 | x | \n",
       "| 4 | 5 | 6 | y | \n",
       "| 7 | 8 | 9 | z | \n",
       "\n",
       "\n"
      ],
      "text/plain": [
       "  x y z value\n",
       "1 1 2 3 x    \n",
       "2 4 5 6 y    \n",
       "3 7 8 9 z    "
      ]
     },
     "metadata": {},
     "output_type": "display_data"
    },
    {
     "data": {
      "text/html": [
       "<ol class=list-inline>\n",
       "\t<li>3</li>\n",
       "\t<li>4</li>\n",
       "</ol>\n"
      ],
      "text/latex": [
       "\\begin{enumerate*}\n",
       "\\item 3\n",
       "\\item 4\n",
       "\\end{enumerate*}\n"
      ],
      "text/markdown": [
       "1. 3\n",
       "2. 4\n",
       "\n",
       "\n"
      ],
      "text/plain": [
       "[1] 3 4"
      ]
     },
     "metadata": {},
     "output_type": "display_data"
    },
    {
     "data": {
      "text/html": [
       "<table>\n",
       "<thead><tr><th scope=col>V1</th><th scope=col>V2</th><th scope=col>V3</th><th scope=col>V4</th></tr></thead>\n",
       "<tbody>\n",
       "\t<tr><td>x    </td><td>y    </td><td>z    </td><td>value</td></tr>\n",
       "\t<tr><td>1    </td><td>2    </td><td>3    </td><td>x    </td></tr>\n",
       "\t<tr><td>4    </td><td>5    </td><td>6    </td><td>y    </td></tr>\n",
       "\t<tr><td>7    </td><td>8    </td><td>9    </td><td>z    </td></tr>\n",
       "</tbody>\n",
       "</table>\n"
      ],
      "text/latex": [
       "\\begin{tabular}{r|llll}\n",
       " V1 & V2 & V3 & V4\\\\\n",
       "\\hline\n",
       "\t x     & y     & z     & value\\\\\n",
       "\t 1     & 2     & 3     & x    \\\\\n",
       "\t 4     & 5     & 6     & y    \\\\\n",
       "\t 7     & 8     & 9     & z    \\\\\n",
       "\\end{tabular}\n"
      ],
      "text/markdown": [
       "\n",
       "V1 | V2 | V3 | V4 | \n",
       "|---|---|---|---|\n",
       "| x     | y     | z     | value | \n",
       "| 1     | 2     | 3     | x     | \n",
       "| 4     | 5     | 6     | y     | \n",
       "| 7     | 8     | 9     | z     | \n",
       "\n",
       "\n"
      ],
      "text/plain": [
       "  V1 V2 V3 V4   \n",
       "1 x  y  z  value\n",
       "2 1  2  3  x    \n",
       "3 4  5  6  y    \n",
       "4 7  8  9  z    "
      ]
     },
     "metadata": {},
     "output_type": "display_data"
    },
    {
     "data": {
      "text/html": [
       "<table>\n",
       "<thead><tr><th scope=col>x.y.z.value</th></tr></thead>\n",
       "<tbody>\n",
       "\t<tr><td>1,2,3,x</td></tr>\n",
       "\t<tr><td>4,5,6,y</td></tr>\n",
       "\t<tr><td>7,8,9,z</td></tr>\n",
       "</tbody>\n",
       "</table>\n"
      ],
      "text/latex": [
       "\\begin{tabular}{r|l}\n",
       " x.y.z.value\\\\\n",
       "\\hline\n",
       "\t 1,2,3,x\\\\\n",
       "\t 4,5,6,y\\\\\n",
       "\t 7,8,9,z\\\\\n",
       "\\end{tabular}\n"
      ],
      "text/markdown": [
       "\n",
       "x.y.z.value | \n",
       "|---|---|---|\n",
       "| 1,2,3,x | \n",
       "| 4,5,6,y | \n",
       "| 7,8,9,z | \n",
       "\n",
       "\n"
      ],
      "text/plain": [
       "  x.y.z.value\n",
       "1 1,2,3,x    \n",
       "2 4,5,6,y    \n",
       "3 7,8,9,z    "
      ]
     },
     "metadata": {},
     "output_type": "display_data"
    },
    {
     "data": {
      "text/html": [
       "<table>\n",
       "<thead><tr><th scope=col>x.y.z.value</th></tr></thead>\n",
       "<tbody>\n",
       "\t<tr><td>1,2,3,x</td></tr>\n",
       "\t<tr><td>4,5,6,y</td></tr>\n",
       "\t<tr><td>7,8,9,z</td></tr>\n",
       "</tbody>\n",
       "</table>\n"
      ],
      "text/latex": [
       "\\begin{tabular}{r|l}\n",
       " x.y.z.value\\\\\n",
       "\\hline\n",
       "\t 1,2,3,x\\\\\n",
       "\t 4,5,6,y\\\\\n",
       "\t 7,8,9,z\\\\\n",
       "\\end{tabular}\n"
      ],
      "text/markdown": [
       "\n",
       "x.y.z.value | \n",
       "|---|---|---|\n",
       "| 1,2,3,x | \n",
       "| 4,5,6,y | \n",
       "| 7,8,9,z | \n",
       "\n",
       "\n"
      ],
      "text/plain": [
       "  x.y.z.value\n",
       "1 1,2,3,x    \n",
       "2 4,5,6,y    \n",
       "3 7,8,9,z    "
      ]
     },
     "metadata": {},
     "output_type": "display_data"
    }
   ],
   "source": [
    "sample = read.csv(\"data.csv\")\n",
    "head(sample)\n",
    "dim(sample)\n",
    "sample1 = read.table(\"data.csv\", sep=\",\")\n",
    "sample2 = read.delim(\"data.csv\")\n",
    "sample3 = read.delim2(\"data.csv\")\n",
    "head(sample1)\n",
    "head(sample2)\n",
    "head(sample3)"
   ]
  },
  {
   "cell_type": "code",
   "execution_count": 263,
   "metadata": {},
   "outputs": [
    {
     "name": "stdout",
     "output_type": "stream",
     "text": [
      "'data.frame':\t3 obs. of  4 variables:\n",
      " $ x    : int  1 4 7\n",
      " $ y    : int  2 5 8\n",
      " $ z    : int  3 6 9\n",
      " $ value: Factor w/ 3 levels \"x\",\"y\",\"z\": 1 2 3\n"
     ]
    }
   ],
   "source": [
    "str(sample)"
   ]
  },
  {
   "cell_type": "code",
   "execution_count": 264,
   "metadata": {},
   "outputs": [],
   "source": [
    "sample2 = read.csv(\"data.csv\", row.names=1)"
   ]
  },
  {
   "cell_type": "code",
   "execution_count": 265,
   "metadata": {},
   "outputs": [
    {
     "data": {
      "text/html": [
       "<table>\n",
       "<thead><tr><th></th><th scope=col>y</th><th scope=col>z</th><th scope=col>value</th></tr></thead>\n",
       "<tbody>\n",
       "\t<tr><th scope=row>1</th><td>2</td><td>3</td><td>x</td></tr>\n",
       "\t<tr><th scope=row>4</th><td>5</td><td>6</td><td>y</td></tr>\n",
       "\t<tr><th scope=row>7</th><td>8</td><td>9</td><td>z</td></tr>\n",
       "</tbody>\n",
       "</table>\n"
      ],
      "text/latex": [
       "\\begin{tabular}{r|lll}\n",
       "  & y & z & value\\\\\n",
       "\\hline\n",
       "\t1 & 2 & 3 & x\\\\\n",
       "\t4 & 5 & 6 & y\\\\\n",
       "\t7 & 8 & 9 & z\\\\\n",
       "\\end{tabular}\n"
      ],
      "text/markdown": [
       "\n",
       "| <!--/--> | y | z | value | \n",
       "|---|---|---|\n",
       "| 1 | 2 | 3 | x | \n",
       "| 4 | 5 | 6 | y | \n",
       "| 7 | 8 | 9 | z | \n",
       "\n",
       "\n"
      ],
      "text/plain": [
       "  y z value\n",
       "1 2 3 x    \n",
       "4 5 6 y    \n",
       "7 8 9 z    "
      ]
     },
     "metadata": {},
     "output_type": "display_data"
    }
   ],
   "source": [
    "sample2"
   ]
  },
  {
   "cell_type": "code",
   "execution_count": 271,
   "metadata": {},
   "outputs": [
    {
     "data": {
      "text/html": [
       "<ol class=list-inline>\n",
       "\t<li>'x,y,z,value'</li>\n",
       "\t<li>'1,2,3,x'</li>\n",
       "\t<li>'4,5,6,y'</li>\n",
       "\t<li>'7,8,9,z'</li>\n",
       "</ol>\n"
      ],
      "text/latex": [
       "\\begin{enumerate*}\n",
       "\\item 'x,y,z,value'\n",
       "\\item '1,2,3,x'\n",
       "\\item '4,5,6,y'\n",
       "\\item '7,8,9,z'\n",
       "\\end{enumerate*}\n"
      ],
      "text/markdown": [
       "1. 'x,y,z,value'\n",
       "2. '1,2,3,x'\n",
       "3. '4,5,6,y'\n",
       "4. '7,8,9,z'\n",
       "\n",
       "\n"
      ],
      "text/plain": [
       "[1] \"x,y,z,value\" \"1,2,3,x\"     \"4,5,6,y\"     \"7,8,9,z\"    "
      ]
     },
     "metadata": {},
     "output_type": "display_data"
    }
   ],
   "source": [
    "sample3 <- scan(\"data.csv\",nlines=\"4\", what=\"\")\n",
    "sample3"
   ]
  },
  {
   "cell_type": "code",
   "execution_count": 272,
   "metadata": {},
   "outputs": [
    {
     "data": {
      "text/html": [
       "'character'"
      ],
      "text/latex": [
       "'character'"
      ],
      "text/markdown": [
       "'character'"
      ],
      "text/plain": [
       "[1] \"character\""
      ]
     },
     "metadata": {},
     "output_type": "display_data"
    }
   ],
   "source": [
    "class(sample3)"
   ]
  },
  {
   "cell_type": "code",
   "execution_count": 280,
   "metadata": {},
   "outputs": [
    {
     "data": {
      "text/html": [
       "''"
      ],
      "text/latex": [
       "''"
      ],
      "text/markdown": [
       "''"
      ],
      "text/plain": [
       "[1] \"\""
      ]
     },
     "metadata": {},
     "output_type": "display_data"
    }
   ],
   "source": [
    "library(readxl)\n",
    "datasets <- system.file(\"dataexcel.xlsx\", package=\"readxl\")\n",
    "datasets"
   ]
  },
  {
   "cell_type": "code",
   "execution_count": 282,
   "metadata": {},
   "outputs": [
    {
     "ename": "ERROR",
     "evalue": "Error in read.spss(\"PolySci.sav\", to.data.frame = TRUE, use.value.labels = FALSE): unable to open file: 'No such file or directory'\n",
     "output_type": "error",
     "traceback": [
      "Error in read.spss(\"PolySci.sav\", to.data.frame = TRUE, use.value.labels = FALSE): unable to open file: 'No such file or directory'\nTraceback:\n",
      "1. read.spss(\"PolySci.sav\", to.data.frame = TRUE, use.value.labels = FALSE)"
     ]
    }
   ],
   "source": [
    "library(foreign)\n",
    "PoliSciSPSSData <- read.spss(\"PolySci.sav\", to.data.frame=TRUE, use.value.labels=FALSE)"
   ]
  },
  {
   "cell_type": "code",
   "execution_count": 283,
   "metadata": {},
   "outputs": [],
   "source": [
    "#  https://cran.r-project.org/doc/manuals/r-release/R-data.html"
   ]
  },
  {
   "cell_type": "code",
   "execution_count": 286,
   "metadata": {},
   "outputs": [
    {
     "data": {
      "text/html": [
       "<ol class=list-inline>\n",
       "\t<li>6.2</li>\n",
       "\t<li>1.3</li>\n",
       "\t<li>1.3</li>\n",
       "</ol>\n"
      ],
      "text/latex": [
       "\\begin{enumerate*}\n",
       "\\item 6.2\n",
       "\\item 1.3\n",
       "\\item 1.3\n",
       "\\end{enumerate*}\n"
      ],
      "text/markdown": [
       "1. 6.2\n",
       "2. 1.3\n",
       "3. 1.3\n",
       "\n",
       "\n"
      ],
      "text/plain": [
       "[1] 6.2 1.3 1.3"
      ]
     },
     "metadata": {},
     "output_type": "display_data"
    },
    {
     "data": {
      "text/html": [
       "<ol class=list-inline>\n",
       "\t<li>2.1</li>\n",
       "\t<li>3.6</li>\n",
       "\t<li>6.2</li>\n",
       "</ol>\n"
      ],
      "text/latex": [
       "\\begin{enumerate*}\n",
       "\\item 2.1\n",
       "\\item 3.6\n",
       "\\item 6.2\n",
       "\\end{enumerate*}\n"
      ],
      "text/markdown": [
       "1. 2.1\n",
       "2. 3.6\n",
       "3. 6.2\n",
       "\n",
       "\n"
      ],
      "text/plain": [
       "[1] 2.1 3.6 6.2"
      ]
     },
     "metadata": {},
     "output_type": "display_data"
    },
    {
     "data": {
      "text/html": [
       "<ol class=list-inline>\n",
       "\t<li>9</li>\n",
       "\t<li>7</li>\n",
       "\t<li>1</li>\n",
       "\t<li>2</li>\n",
       "</ol>\n"
      ],
      "text/latex": [
       "\\begin{enumerate*}\n",
       "\\item 9\n",
       "\\item 7\n",
       "\\item 1\n",
       "\\item 2\n",
       "\\end{enumerate*}\n"
      ],
      "text/markdown": [
       "1. 9\n",
       "2. 7\n",
       "3. 1\n",
       "4. 2\n",
       "\n",
       "\n"
      ],
      "text/plain": [
       "[1] 9 7 1 2"
      ]
     },
     "metadata": {},
     "output_type": "display_data"
    }
   ],
   "source": [
    "#Statistics\n",
    "library(dplyr)\n",
    "x <- c(1.3,2.6,2.1,4.2,6.2,3.4,1.3,3.6,1.4)\n",
    "sample(x,3) #Random number generator\n",
    "sample(x,3)\n",
    "sample(9,4)"
   ]
  },
  {
   "cell_type": "code",
   "execution_count": 287,
   "metadata": {},
   "outputs": [
    {
     "data": {
      "text/html": [
       "<ol class=list-inline>\n",
       "\t<li>0.51204260927625</li>\n",
       "\t<li>0.710360624128953</li>\n",
       "\t<li>0.284653092501685</li>\n",
       "</ol>\n"
      ],
      "text/latex": [
       "\\begin{enumerate*}\n",
       "\\item 0.51204260927625\n",
       "\\item 0.710360624128953\n",
       "\\item 0.284653092501685\n",
       "\\end{enumerate*}\n"
      ],
      "text/markdown": [
       "1. 0.51204260927625\n",
       "2. 0.710360624128953\n",
       "3. 0.284653092501685\n",
       "\n",
       "\n"
      ],
      "text/plain": [
       "[1] 0.5120426 0.7103606 0.2846531"
      ]
     },
     "metadata": {},
     "output_type": "display_data"
    }
   ],
   "source": [
    "runif(3)"
   ]
  },
  {
   "cell_type": "code",
   "execution_count": 291,
   "metadata": {},
   "outputs": [
    {
     "data": {
      "image/png": "[encoded data removed]",
      "text/plain": [
       "Plot with title \"Histogram of dist\""
      ]
     },
     "metadata": {},
     "output_type": "display_data"
    }
   ],
   "source": [
    "dist <- runif(100)\n",
    "hist(dist)"
   ]
  },
  {
   "cell_type": "code",
   "execution_count": 292,
   "metadata": {},
   "outputs": [
    {
     "data": {
      "text/html": [
       "0.509399104125332"
      ],
      "text/latex": [
       "0.509399104125332"
      ],
      "text/markdown": [
       "0.509399104125332"
      ],
      "text/plain": [
       "[1] 0.5093991"
      ]
     },
     "metadata": {},
     "output_type": "display_data"
    }
   ],
   "source": [
    "set.seed(12345)\n",
    "dist = runif(100)\n",
    "mean(dist)"
   ]
  },
  {
   "cell_type": "code",
   "execution_count": 293,
   "metadata": {},
   "outputs": [
    {
     "data": {
      "text/html": [
       "0.573032046300359"
      ],
      "text/latex": [
       "0.573032046300359"
      ],
      "text/markdown": [
       "0.573032046300359"
      ],
      "text/plain": [
       "[1] 0.573032"
      ]
     },
     "metadata": {},
     "output_type": "display_data"
    }
   ],
   "source": [
    "dist = runif(100)\n",
    "mean(dist)"
   ]
  },
  {
   "cell_type": "code",
   "execution_count": 298,
   "metadata": {},
   "outputs": [
    {
     "data": {
      "image/png": "[encoded data removed]",
      "text/plain": [
       "Plot with title \"Histogram of ul\""
      ]
     },
     "metadata": {},
     "output_type": "display_data"
    }
   ],
   "source": [
    "ul = runif(100)\n",
    "hist(ul, freq=FALSE)"
   ]
  },
  {
   "cell_type": "code",
   "execution_count": 300,
   "metadata": {},
   "outputs": [
    {
     "data": {
      "text/html": [
       "<ol class=list-inline>\n",
       "\t<li>0.702224750071764</li>\n",
       "\t<li>0.149072526954114</li>\n",
       "\t<li>0.817640772555023</li>\n",
       "\t<li>0.794147100998089</li>\n",
       "\t<li>0.518645006231964</li>\n",
       "\t<li>0.48814956843853</li>\n",
       "\t<li>0.573305061319843</li>\n",
       "\t<li>0.197170061524957</li>\n",
       "\t<li>0.306775261415169</li>\n",
       "\t<li>0.724023425718769</li>\n",
       "</ol>\n"
      ],
      "text/latex": [
       "\\begin{enumerate*}\n",
       "\\item 0.702224750071764\n",
       "\\item 0.149072526954114\n",
       "\\item 0.817640772555023\n",
       "\\item 0.794147100998089\n",
       "\\item 0.518645006231964\n",
       "\\item 0.48814956843853\n",
       "\\item 0.573305061319843\n",
       "\\item 0.197170061524957\n",
       "\\item 0.306775261415169\n",
       "\\item 0.724023425718769\n",
       "\\end{enumerate*}\n"
      ],
      "text/markdown": [
       "1. 0.702224750071764\n",
       "2. 0.149072526954114\n",
       "3. 0.817640772555023\n",
       "4. 0.794147100998089\n",
       "5. 0.518645006231964\n",
       "6. 0.48814956843853\n",
       "7. 0.573305061319843\n",
       "8. 0.197170061524957\n",
       "9. 0.306775261415169\n",
       "10. 0.724023425718769\n",
       "\n",
       "\n"
      ],
      "text/plain": [
       " [1] 0.7022248 0.1490725 0.8176408 0.7941471 0.5186450 0.4881496 0.5733051\n",
       " [8] 0.1971701 0.3067753 0.7240234"
      ]
     },
     "metadata": {},
     "output_type": "display_data"
    }
   ],
   "source": [
    "ul = runif(10)\n",
    "punif(ul)\n"
   ]
  },
  {
   "cell_type": "code",
   "execution_count": 302,
   "metadata": {},
   "outputs": [
    {
     "data": {
      "text/html": [
       "<ol class=list-inline>\n",
       "\t<li>1</li>\n",
       "\t<li>1</li>\n",
       "\t<li>1</li>\n",
       "\t<li>1</li>\n",
       "\t<li>1</li>\n",
       "\t<li>1</li>\n",
       "\t<li>1</li>\n",
       "\t<li>1</li>\n",
       "\t<li>1</li>\n",
       "\t<li>1</li>\n",
       "</ol>\n"
      ],
      "text/latex": [
       "\\begin{enumerate*}\n",
       "\\item 1\n",
       "\\item 1\n",
       "\\item 1\n",
       "\\item 1\n",
       "\\item 1\n",
       "\\item 1\n",
       "\\item 1\n",
       "\\item 1\n",
       "\\item 1\n",
       "\\item 1\n",
       "\\end{enumerate*}\n"
      ],
      "text/markdown": [
       "1. 1\n",
       "2. 1\n",
       "3. 1\n",
       "4. 1\n",
       "5. 1\n",
       "6. 1\n",
       "7. 1\n",
       "8. 1\n",
       "9. 1\n",
       "10. 1\n",
       "\n",
       "\n"
      ],
      "text/plain": [
       " [1] 1 1 1 1 1 1 1 1 1 1"
      ]
     },
     "metadata": {},
     "output_type": "display_data"
    }
   ],
   "source": [
    "dunif(ul)"
   ]
  },
  {
   "cell_type": "code",
   "execution_count": 303,
   "metadata": {},
   "outputs": [
    {
     "data": {
      "text/html": [
       "<ol class=list-inline>\n",
       "\t<li>0.702224750071764</li>\n",
       "\t<li>0.149072526954114</li>\n",
       "\t<li>0.817640772555023</li>\n",
       "\t<li>0.794147100998089</li>\n",
       "\t<li>0.518645006231964</li>\n",
       "\t<li>0.48814956843853</li>\n",
       "\t<li>0.573305061319843</li>\n",
       "\t<li>0.197170061524957</li>\n",
       "\t<li>0.306775261415169</li>\n",
       "\t<li>0.724023425718769</li>\n",
       "</ol>\n"
      ],
      "text/latex": [
       "\\begin{enumerate*}\n",
       "\\item 0.702224750071764\n",
       "\\item 0.149072526954114\n",
       "\\item 0.817640772555023\n",
       "\\item 0.794147100998089\n",
       "\\item 0.518645006231964\n",
       "\\item 0.48814956843853\n",
       "\\item 0.573305061319843\n",
       "\\item 0.197170061524957\n",
       "\\item 0.306775261415169\n",
       "\\item 0.724023425718769\n",
       "\\end{enumerate*}\n"
      ],
      "text/markdown": [
       "1. 0.702224750071764\n",
       "2. 0.149072526954114\n",
       "3. 0.817640772555023\n",
       "4. 0.794147100998089\n",
       "5. 0.518645006231964\n",
       "6. 0.48814956843853\n",
       "7. 0.573305061319843\n",
       "8. 0.197170061524957\n",
       "9. 0.306775261415169\n",
       "10. 0.724023425718769\n",
       "\n",
       "\n"
      ],
      "text/plain": [
       " [1] 0.7022248 0.1490725 0.8176408 0.7941471 0.5186450 0.4881496 0.5733051\n",
       " [8] 0.1971701 0.3067753 0.7240234"
      ]
     },
     "metadata": {},
     "output_type": "display_data"
    }
   ],
   "source": [
    "qunif(ul)"
   ]
  },
  {
   "cell_type": "code",
   "execution_count": 304,
   "metadata": {},
   "outputs": [
    {
     "data": {
      "text/plain": [
       "   Min. 1st Qu.  Median    Mean 3rd Qu.    Max. \n",
       " 0.1491  0.3521  0.5460  0.5271  0.7186  0.8176 "
      ]
     },
     "metadata": {},
     "output_type": "display_data"
    }
   ],
   "source": [
    "summary(ul)"
   ]
  },
  {
   "cell_type": "code",
   "execution_count": 313,
   "metadata": {},
   "outputs": [
    {
     "data": {
      "text/plain": [
       "   user  system elapsed \n",
       "   1.41    0.00    1.42 "
      ]
     },
     "metadata": {},
     "output_type": "display_data"
    }
   ],
   "source": [
    "reps <- 500000\n",
    "nuni <- 5\n",
    "set.seed(0)\n",
    "system.time(\n",
    "    sum5 <- replicate(reps,sum(runif(nuni)))\n",
    ")"
   ]
  },
  {
   "cell_type": "code",
   "execution_count": 314,
   "metadata": {},
   "outputs": [
    {
     "data": {
      "text/plain": [
       "   user  system elapsed \n",
       "   1.39    0.00    1.39 "
      ]
     },
     "metadata": {},
     "output_type": "display_data"
    }
   ],
   "source": [
    "set.seed(0)\n",
    "system.time(x1 <- lapply(1:reps, function(i){sum(runif(n=nuni))}))"
   ]
  },
  {
   "cell_type": "code",
   "execution_count": 315,
   "metadata": {},
   "outputs": [
    {
     "data": {
      "text/plain": [
       "   user  system elapsed \n",
       "   0.91    0.00    0.90 "
      ]
     },
     "metadata": {},
     "output_type": "display_data"
    }
   ],
   "source": [
    "set.seed(0)\n",
    "system.time(sum5 <- apply(matrix(runif(n=nuni*reps), nrow=nuni),2, sum))"
   ]
  },
  {
   "cell_type": "code",
   "execution_count": 316,
   "metadata": {},
   "outputs": [
    {
     "data": {
      "text/plain": [
       "   user  system elapsed \n",
       "   0.09    0.00    0.09 "
      ]
     },
     "metadata": {},
     "output_type": "display_data"
    }
   ],
   "source": [
    "set.seed(0)\n",
    "system.time(sum5 <- colSums(matrix(runif(n=nuni*reps), nrow=nuni)))"
   ]
  },
  {
   "cell_type": "code",
   "execution_count": 317,
   "metadata": {},
   "outputs": [
    {
     "data": {
      "text/plain": [
       "   Min. 1st Qu.  Median    Mean 3rd Qu.    Max. \n",
       " 0.1076  2.0527  2.4989  2.4991  2.9453  4.8800 "
      ]
     },
     "metadata": {},
     "output_type": "display_data"
    }
   ],
   "source": [
    "reps <- 1000000\n",
    "sum5 <- replicate(reps, sum(runif(nuni)))\n",
    "summary(sum5)"
   ]
  },
  {
   "cell_type": "code",
   "execution_count": 318,
   "metadata": {},
   "outputs": [
    {
     "data": {
      "image/png": "[encoded data removed]",
      "text/plain": [
       "Plot with title \"Histogram of sum5\""
      ]
     },
     "metadata": {},
     "output_type": "display_data"
    }
   ],
   "source": [
    "hist(sum5, freq=FALSE)"
   ]
  },
  {
   "cell_type": "code",
   "execution_count": 319,
   "metadata": {},
   "outputs": [],
   "source": [
    "library(ggplot2)"
   ]
  },
  {
   "cell_type": "code",
   "execution_count": 320,
   "metadata": {},
   "outputs": [],
   "source": [
    "d5 <- data.frame(sum5)"
   ]
  },
  {
   "cell_type": "code",
   "execution_count": 328,
   "metadata": {},
   "outputs": [
    {
     "data": {},
     "metadata": {},
     "output_type": "display_data"
    },
    {
     "data": {
      "image/png": "[encoded data removed]",
      "text/plain": [
       "plot without title"
      ]
     },
     "metadata": {},
     "output_type": "display_data"
    }
   ],
   "source": [
    "ggplot(d5, aes(sum5))+\n",
    "    geom_histogram(binwidth=0.1)"
   ]
  },
  {
   "cell_type": "code",
   "execution_count": 329,
   "metadata": {},
   "outputs": [
    {
     "data": {},
     "metadata": {},
     "output_type": "display_data"
    },
    {
     "data": {
      "image/png": "[encoded data removed]",
      "text/plain": [
       "plot without title"
      ]
     },
     "metadata": {},
     "output_type": "display_data"
    }
   ],
   "source": [
    "ggplot(d5, aes(sum5))+\n",
    "    geom_histogram(aes(y=..density..),binwidth=0.1)"
   ]
  },
  {
   "cell_type": "code",
   "execution_count": 330,
   "metadata": {},
   "outputs": [
    {
     "data": {},
     "metadata": {},
     "output_type": "display_data"
    },
    {
     "data": {
      "image/png": "[encoded data removed]",
      "text/plain": [
       "plot without title"
      ]
     },
     "metadata": {},
     "output_type": "display_data"
    }
   ],
   "source": [
    "ggplot(d5, aes(sum5))+\n",
    "    geom_histogram(aes(y=..density..),binwidth=0.1, color=\"red\")"
   ]
  },
  {
   "cell_type": "code",
   "execution_count": 331,
   "metadata": {},
   "outputs": [
    {
     "data": {},
     "metadata": {},
     "output_type": "display_data"
    },
    {
     "data": {
      "image/png": "[encoded data removed]",
      "text/plain": [
       "plot without title"
      ]
     },
     "metadata": {},
     "output_type": "display_data"
    }
   ],
   "source": [
    "ggplot(d5, aes(sum5))+\n",
    "    geom_histogram(aes(y=..density..),binwidth=0.1, fill=\"red\")"
   ]
  },
  {
   "cell_type": "code",
   "execution_count": 333,
   "metadata": {},
   "outputs": [
    {
     "data": {
      "text/html": [
       "0.57712"
      ],
      "text/latex": [
       "0.57712"
      ],
      "text/markdown": [
       "0.57712"
      ],
      "text/plain": [
       "[1] 0.57712"
      ]
     },
     "metadata": {},
     "output_type": "display_data"
    }
   ],
   "source": [
    "#Simulation to compute probability\n",
    "x <- 1000000\n",
    "m <- matrix(runif(3000000), ncol=1000000, nrow=3)\n",
    "sum(apply(m, 2, max)> 0.75)/1000000"
   ]
  },
  {
   "cell_type": "code",
   "execution_count": 334,
   "metadata": {},
   "outputs": [],
   "source": [
    "?Distributions"
   ]
  },
  {
   "cell_type": "code",
   "execution_count": 335,
   "metadata": {},
   "outputs": [
    {
     "data": {
      "image/png": "[encoded data removed]",
      "text/plain": [
       "Plot with title \"Histogram of x\""
      ]
     },
     "metadata": {},
     "output_type": "display_data"
    }
   ],
   "source": [
    "x <- rnorm(100000)\n",
    "hist(x)"
   ]
  },
  {
   "cell_type": "code",
   "execution_count": 337,
   "metadata": {},
   "outputs": [
    {
     "data": {},
     "metadata": {},
     "output_type": "display_data"
    },
    {
     "data": {
      "image/png": "[encoded data removed]",
      "text/plain": [
       "plot without title"
      ]
     },
     "metadata": {},
     "output_type": "display_data"
    }
   ],
   "source": [
    "df100K = data.frame(x)\n",
    "ggplot(df100K, aes(x))+\n",
    "    geom_histogram(aes(y=..density..),binwidth=0.1, fill=\"red\")"
   ]
  },
  {
   "cell_type": "code",
   "execution_count": 339,
   "metadata": {},
   "outputs": [
    {
     "data": {
      "image/png": "[encoded data removed]",
      "text/plain": [
       "Plot with title \"Normal Q-Q Plot\""
      ]
     },
     "metadata": {},
     "output_type": "display_data"
    },
    {
     "data": {
      "image/png": "[encoded data removed]",
      "text/plain": [
       "Plot with title \"Normal Q-Q Plot\""
      ]
     },
     "metadata": {},
     "output_type": "display_data"
    }
   ],
   "source": [
    "#Quantile Quantile comparison\n",
    "qqnorm(x)\n",
    "qqnorm(sum5)"
   ]
  },
  {
   "cell_type": "code",
   "execution_count": 342,
   "metadata": {},
   "outputs": [
    {
     "data": {},
     "metadata": {},
     "output_type": "display_data"
    },
    {
     "data": {
      "image/png": "[encoded data removed]",
      "text/plain": [
       "plot without title"
      ]
     },
     "metadata": {},
     "output_type": "display_data"
    }
   ],
   "source": [
    "ggplot(data.frame(sum5), aes(x=sum5))+\n",
    "    geom_histogram(aes(y=..density..), binwidth=0.1)+\n",
    "stat_function(fun=function(x) dnorm(x, mean=2.5, 0.66), color=\"red\", size=1)"
   ]
  },
  {
   "cell_type": "code",
   "execution_count": 343,
   "metadata": {},
   "outputs": [
    {
     "data": {},
     "metadata": {},
     "output_type": "display_data"
    },
    {
     "data": {
      "image/png": "[encoded data removed]",
      "text/plain": [
       "plot without title"
      ]
     },
     "metadata": {},
     "output_type": "display_data"
    }
   ],
   "source": [
    "df5=data.frame(sum5)\n",
    "ggplot(df5, aes(sample = sum5))+\n",
    "geom_point(stat=\"qq\")"
   ]
  },
  {
   "cell_type": "code",
   "execution_count": 344,
   "metadata": {},
   "outputs": [],
   "source": [
    "attach(sleep)"
   ]
  },
  {
   "cell_type": "code",
   "execution_count": 345,
   "metadata": {},
   "outputs": [
    {
     "data": {
      "text/html": [
       "<table>\n",
       "<thead><tr><th scope=col>extra</th><th scope=col>group</th><th scope=col>ID</th></tr></thead>\n",
       "<tbody>\n",
       "\t<tr><td> 0.7</td><td>1   </td><td>1   </td></tr>\n",
       "\t<tr><td>-1.6</td><td>1   </td><td>2   </td></tr>\n",
       "\t<tr><td>-0.2</td><td>1   </td><td>3   </td></tr>\n",
       "\t<tr><td>-1.2</td><td>1   </td><td>4   </td></tr>\n",
       "\t<tr><td>-0.1</td><td>1   </td><td>5   </td></tr>\n",
       "\t<tr><td> 3.4</td><td>1   </td><td>6   </td></tr>\n",
       "\t<tr><td> 3.7</td><td>1   </td><td>7   </td></tr>\n",
       "\t<tr><td> 0.8</td><td>1   </td><td>8   </td></tr>\n",
       "\t<tr><td> 0.0</td><td>1   </td><td>9   </td></tr>\n",
       "\t<tr><td> 2.0</td><td>1   </td><td>10  </td></tr>\n",
       "\t<tr><td> 1.9</td><td>2   </td><td>1   </td></tr>\n",
       "\t<tr><td> 0.8</td><td>2   </td><td>2   </td></tr>\n",
       "\t<tr><td> 1.1</td><td>2   </td><td>3   </td></tr>\n",
       "\t<tr><td> 0.1</td><td>2   </td><td>4   </td></tr>\n",
       "\t<tr><td>-0.1</td><td>2   </td><td>5   </td></tr>\n",
       "\t<tr><td> 4.4</td><td>2   </td><td>6   </td></tr>\n",
       "\t<tr><td> 5.5</td><td>2   </td><td>7   </td></tr>\n",
       "\t<tr><td> 1.6</td><td>2   </td><td>8   </td></tr>\n",
       "\t<tr><td> 4.6</td><td>2   </td><td>9   </td></tr>\n",
       "\t<tr><td> 3.4</td><td>2   </td><td>10  </td></tr>\n",
       "</tbody>\n",
       "</table>\n"
      ],
      "text/latex": [
       "\\begin{tabular}{r|lll}\n",
       " extra & group & ID\\\\\n",
       "\\hline\n",
       "\t  0.7 & 1    & 1   \\\\\n",
       "\t -1.6 & 1    & 2   \\\\\n",
       "\t -0.2 & 1    & 3   \\\\\n",
       "\t -1.2 & 1    & 4   \\\\\n",
       "\t -0.1 & 1    & 5   \\\\\n",
       "\t  3.4 & 1    & 6   \\\\\n",
       "\t  3.7 & 1    & 7   \\\\\n",
       "\t  0.8 & 1    & 8   \\\\\n",
       "\t  0.0 & 1    & 9   \\\\\n",
       "\t  2.0 & 1    & 10  \\\\\n",
       "\t  1.9 & 2    & 1   \\\\\n",
       "\t  0.8 & 2    & 2   \\\\\n",
       "\t  1.1 & 2    & 3   \\\\\n",
       "\t  0.1 & 2    & 4   \\\\\n",
       "\t -0.1 & 2    & 5   \\\\\n",
       "\t  4.4 & 2    & 6   \\\\\n",
       "\t  5.5 & 2    & 7   \\\\\n",
       "\t  1.6 & 2    & 8   \\\\\n",
       "\t  4.6 & 2    & 9   \\\\\n",
       "\t  3.4 & 2    & 10  \\\\\n",
       "\\end{tabular}\n"
      ],
      "text/markdown": [
       "\n",
       "extra | group | ID | \n",
       "|---|---|---|---|---|---|---|---|---|---|---|---|---|---|---|---|---|---|---|---|\n",
       "|  0.7 | 1    | 1    | \n",
       "| -1.6 | 1    | 2    | \n",
       "| -0.2 | 1    | 3    | \n",
       "| -1.2 | 1    | 4    | \n",
       "| -0.1 | 1    | 5    | \n",
       "|  3.4 | 1    | 6    | \n",
       "|  3.7 | 1    | 7    | \n",
       "|  0.8 | 1    | 8    | \n",
       "|  0.0 | 1    | 9    | \n",
       "|  2.0 | 1    | 10   | \n",
       "|  1.9 | 2    | 1    | \n",
       "|  0.8 | 2    | 2    | \n",
       "|  1.1 | 2    | 3    | \n",
       "|  0.1 | 2    | 4    | \n",
       "| -0.1 | 2    | 5    | \n",
       "|  4.4 | 2    | 6    | \n",
       "|  5.5 | 2    | 7    | \n",
       "|  1.6 | 2    | 8    | \n",
       "|  4.6 | 2    | 9    | \n",
       "|  3.4 | 2    | 10   | \n",
       "\n",
       "\n"
      ],
      "text/plain": [
       "   extra group ID\n",
       "1   0.7  1     1 \n",
       "2  -1.6  1     2 \n",
       "3  -0.2  1     3 \n",
       "4  -1.2  1     4 \n",
       "5  -0.1  1     5 \n",
       "6   3.4  1     6 \n",
       "7   3.7  1     7 \n",
       "8   0.8  1     8 \n",
       "9   0.0  1     9 \n",
       "10  2.0  1     10\n",
       "11  1.9  2     1 \n",
       "12  0.8  2     2 \n",
       "13  1.1  2     3 \n",
       "14  0.1  2     4 \n",
       "15 -0.1  2     5 \n",
       "16  4.4  2     6 \n",
       "17  5.5  2     7 \n",
       "18  1.6  2     8 \n",
       "19  4.6  2     9 \n",
       "20  3.4  2     10"
      ]
     },
     "metadata": {},
     "output_type": "display_data"
    }
   ],
   "source": [
    "sleep"
   ]
  },
  {
   "cell_type": "code",
   "execution_count": 348,
   "metadata": {},
   "outputs": [
    {
     "data": {
      "text/html": [
       "<ol class=list-inline>\n",
       "\t<li>1.2</li>\n",
       "\t<li>2.4</li>\n",
       "\t<li>1.3</li>\n",
       "\t<li>1.3</li>\n",
       "\t<li>0</li>\n",
       "\t<li>1</li>\n",
       "\t<li>1.8</li>\n",
       "\t<li>0.8</li>\n",
       "\t<li>4.6</li>\n",
       "\t<li>1.4</li>\n",
       "</ol>\n"
      ],
      "text/latex": [
       "\\begin{enumerate*}\n",
       "\\item 1.2\n",
       "\\item 2.4\n",
       "\\item 1.3\n",
       "\\item 1.3\n",
       "\\item 0\n",
       "\\item 1\n",
       "\\item 1.8\n",
       "\\item 0.8\n",
       "\\item 4.6\n",
       "\\item 1.4\n",
       "\\end{enumerate*}\n"
      ],
      "text/markdown": [
       "1. 1.2\n",
       "2. 2.4\n",
       "3. 1.3\n",
       "4. 1.3\n",
       "5. 0\n",
       "6. 1\n",
       "7. 1.8\n",
       "8. 0.8\n",
       "9. 4.6\n",
       "10. 1.4\n",
       "\n",
       "\n"
      ],
      "text/plain": [
       " [1] 1.2 2.4 1.3 1.3 0.0 1.0 1.8 0.8 4.6 1.4"
      ]
     },
     "metadata": {},
     "output_type": "display_data"
    },
    {
     "data": {
      "image/png": "[encoded data removed]",
      "text/plain": [
       "plot without title"
      ]
     },
     "metadata": {},
     "output_type": "display_data"
    }
   ],
   "source": [
    "sleep1 <- extra[group ==2] - extra[group==1]\n",
    "sleep1\n",
    "boxplot(sleep1, horizontal =TRUE)"
   ]
  },
  {
   "cell_type": "code",
   "execution_count": 352,
   "metadata": {},
   "outputs": [
    {
     "data": {
      "text/html": [
       "'htest'"
      ],
      "text/latex": [
       "'htest'"
      ],
      "text/markdown": [
       "'htest'"
      ],
      "text/plain": [
       "[1] \"htest\""
      ]
     },
     "metadata": {},
     "output_type": "display_data"
    },
    {
     "data": {
      "text/html": [
       "<strong>$p.value</strong> = 0.00283289019738427"
      ],
      "text/latex": [
       "\\textbf{\\$p.value} = 0.00283289019738427"
      ],
      "text/markdown": [
       "**$p.value** = 0.00283289019738427"
      ],
      "text/plain": [
       "$p.value\n",
       "[1] 0.00283289\n"
      ]
     },
     "metadata": {},
     "output_type": "display_data"
    },
    {
     "name": "stdout",
     "output_type": "stream",
     "text": [
      "List of 9\n",
      " $ statistic  : Named num 4.06\n",
      "  ..- attr(*, \"names\")= chr \"t\"\n",
      " $ parameter  : Named num 9\n",
      "  ..- attr(*, \"names\")= chr \"df\"\n",
      " $ p.value    : num 0.00283\n",
      " $ conf.int   : atomic [1:2] 0.7 2.46\n",
      "  ..- attr(*, \"conf.level\")= num 0.95\n",
      " $ estimate   : Named num 1.58\n",
      "  ..- attr(*, \"names\")= chr \"mean of x\"\n",
      " $ null.value : Named num 0\n",
      "  ..- attr(*, \"names\")= chr \"mean\"\n",
      " $ alternative: chr \"two.sided\"\n",
      " $ method     : chr \"One Sample t-test\"\n",
      " $ data.name  : chr \"sleep1\"\n",
      " - attr(*, \"class\")= chr \"htest\"\n"
     ]
    }
   ],
   "source": [
    "result.t = t.test(sleep1)\n",
    "class(result.t)\n",
    "result.t[\"p.value\"]\n",
    "str(result.t)"
   ]
  },
  {
   "cell_type": "raw",
   "metadata": {},
   "source": [
    "t.test(extra~group, paired=TRUE)"
   ]
  },
  {
   "cell_type": "code",
   "execution_count": null,
   "metadata": {},
   "outputs": [],
   "source": [
    "#chi-squared test \n",
    "#chisq.test"
   ]
  },
  {
   "cell_type": "code",
   "execution_count": 353,
   "metadata": {},
   "outputs": [
    {
     "ename": "ERROR",
     "evalue": "Error in library(HistData): there is no package called 'HistData'\n",
     "output_type": "error",
     "traceback": [
      "Error in library(HistData): there is no package called 'HistData'\nTraceback:\n",
      "1. library(HistData)",
      "2. stop(txt, domain = NA)"
     ]
    }
   ],
   "source": [
    "library(HistData)"
   ]
  },
  {
   "cell_type": "code",
   "execution_count": null,
   "metadata": {},
   "outputs": [],
   "source": [
    "# output for linear regression - lm"
   ]
  },
  {
   "cell_type": "code",
   "execution_count": 360,
   "metadata": {},
   "outputs": [
    {
     "name": "stderr",
     "output_type": "stream",
     "text": [
      "Warning message in which.max(x):\n",
      "\"NAs introduced by coercion\""
     ]
    },
    {
     "data": {
      "text/html": [],
      "text/latex": [],
      "text/markdown": [],
      "text/plain": [
       "integer(0)"
      ]
     },
     "metadata": {},
     "output_type": "display_data"
    }
   ],
   "source": [
    "x <- data(USPersonalExpenditure)\n",
    "which.max(x)"
   ]
  },
  {
   "cell_type": "code",
   "execution_count": 362,
   "metadata": {},
   "outputs": [
    {
     "data": {
      "text/html": [
       "<table>\n",
       "<thead><tr><th scope=col>ï..id</th><th scope=col>name</th><th scope=col>gender</th><th scope=col>dates</th><th scope=col>yearOfBirth</th><th scope=col>yearOfDeath</th><th scope=col>placeOfBirth</th><th scope=col>placeOfDeath</th><th scope=col>url</th></tr></thead>\n",
       "<tbody>\n",
       "\t<tr><td>10093                                                         </td><td>Abakanowicz, Magdalena                                        </td><td>Female                                                        </td><td>born 1930                                                     </td><td>1930                                                          </td><td>  NA                                                          </td><td>Polska                                                        </td><td>                                                              </td><td>http://www.tate.org.uk/art/artists/magdalena-abakanowicz-10093</td></tr>\n",
       "\t<tr><td>    0                                                         </td><td>Abbey, Edwin Austin                                           </td><td>Male                                                          </td><td>1852â€“1911                                                   </td><td>1852                                                          </td><td>1911                                                          </td><td>Philadelphia, United States                                   </td><td>London, United Kingdom                                        </td><td>http://www.tate.org.uk/art/artists/edwin-austin-abbey-0       </td></tr>\n",
       "\t<tr><td> 2756                                                         </td><td>Abbott, Berenice                                              </td><td>Female                                                        </td><td>1898â€“1991                                                   </td><td>1898                                                          </td><td>1991                                                          </td><td>Springfield, United States                                    </td><td>Monson, United States                                         </td><td>http://www.tate.org.uk/art/artists/berenice-abbott-2756       </td></tr>\n",
       "\t<tr><td>    1                                                         </td><td>Abbott, Lemuel Francis                                        </td><td>Male                                                          </td><td>1760â€“1803                                                   </td><td>1760                                                          </td><td>1803                                                          </td><td>Leicestershire, United Kingdom                                </td><td>London, United Kingdom                                        </td><td>http://www.tate.org.uk/art/artists/lemuel-francis-abbott-1    </td></tr>\n",
       "\t<tr><td>  622                                                         </td><td>Abrahams, Ivor                                                </td><td>Male                                                          </td><td>born 1935                                                     </td><td>1935                                                          </td><td>  NA                                                          </td><td>Wigan, United Kingdom                                         </td><td>                                                              </td><td>http://www.tate.org.uk/art/artists/ivor-abrahams-622          </td></tr>\n",
       "\t<tr><td> 2606                                                         </td><td>Absalon                                                       </td><td>Male                                                          </td><td>1964â€“1993                                                   </td><td>1964                                                          </td><td>1993                                                          </td><td>Tel Aviv-Yafo, Yisra'el                                       </td><td>Paris, France                                                 </td><td>http://www.tate.org.uk/art/artists/absalon-2606               </td></tr>\n",
       "</tbody>\n",
       "</table>\n"
      ],
      "text/latex": [
       "\\begin{tabular}{r|lllllllll}\n",
       " ï..id & name & gender & dates & yearOfBirth & yearOfDeath & placeOfBirth & placeOfDeath & url\\\\\n",
       "\\hline\n",
       "\t 10093                                                          & Abakanowicz, Magdalena                                         & Female                                                         & born 1930                                                      & 1930                                                           &   NA                                                           & Polska                                                         &                                                                & http://www.tate.org.uk/art/artists/magdalena-abakanowicz-10093\\\\\n",
       "\t     0                                                          & Abbey, Edwin Austin                                            & Male                                                           & 1852â€“1911                                                    & 1852                                                           & 1911                                                           & Philadelphia, United States                                    & London, United Kingdom                                         & http://www.tate.org.uk/art/artists/edwin-austin-abbey-0       \\\\\n",
       "\t  2756                                                          & Abbott, Berenice                                               & Female                                                         & 1898â€“1991                                                    & 1898                                                           & 1991                                                           & Springfield, United States                                     & Monson, United States                                          & http://www.tate.org.uk/art/artists/berenice-abbott-2756       \\\\\n",
       "\t     1                                                          & Abbott, Lemuel Francis                                         & Male                                                           & 1760â€“1803                                                    & 1760                                                           & 1803                                                           & Leicestershire, United Kingdom                                 & London, United Kingdom                                         & http://www.tate.org.uk/art/artists/lemuel-francis-abbott-1    \\\\\n",
       "\t   622                                                          & Abrahams, Ivor                                                 & Male                                                           & born 1935                                                      & 1935                                                           &   NA                                                           & Wigan, United Kingdom                                          &                                                                & http://www.tate.org.uk/art/artists/ivor-abrahams-622          \\\\\n",
       "\t  2606                                                          & Absalon                                                        & Male                                                           & 1964â€“1993                                                    & 1964                                                           & 1993                                                           & Tel Aviv-Yafo, Yisra'el                                        & Paris, France                                                  & http://www.tate.org.uk/art/artists/absalon-2606               \\\\\n",
       "\\end{tabular}\n"
      ],
      "text/markdown": [
       "\n",
       "ï..id | name | gender | dates | yearOfBirth | yearOfDeath | placeOfBirth | placeOfDeath | url | \n",
       "|---|---|---|---|---|---|\n",
       "| 10093                                                          | Abakanowicz, Magdalena                                         | Female                                                         | born 1930                                                      | 1930                                                           |   NA                                                           | Polska                                                         |                                                                | http://www.tate.org.uk/art/artists/magdalena-abakanowicz-10093 | \n",
       "|     0                                                          | Abbey, Edwin Austin                                            | Male                                                           | 1852â€“1911                                                    | 1852                                                           | 1911                                                           | Philadelphia, United States                                    | London, United Kingdom                                         | http://www.tate.org.uk/art/artists/edwin-austin-abbey-0        | \n",
       "|  2756                                                          | Abbott, Berenice                                               | Female                                                         | 1898â€“1991                                                    | 1898                                                           | 1991                                                           | Springfield, United States                                     | Monson, United States                                          | http://www.tate.org.uk/art/artists/berenice-abbott-2756        | \n",
       "|     1                                                          | Abbott, Lemuel Francis                                         | Male                                                           | 1760â€“1803                                                    | 1760                                                           | 1803                                                           | Leicestershire, United Kingdom                                 | London, United Kingdom                                         | http://www.tate.org.uk/art/artists/lemuel-francis-abbott-1     | \n",
       "|   622                                                          | Abrahams, Ivor                                                 | Male                                                           | born 1935                                                      | 1935                                                           |   NA                                                           | Wigan, United Kingdom                                          |                                                                | http://www.tate.org.uk/art/artists/ivor-abrahams-622           | \n",
       "|  2606                                                          | Absalon                                                        | Male                                                           | 1964â€“1993                                                    | 1964                                                           | 1993                                                           | Tel Aviv-Yafo, Yisra'el                                        | Paris, France                                                  | http://www.tate.org.uk/art/artists/absalon-2606                | \n",
       "\n",
       "\n"
      ],
      "text/plain": [
       "  ï..id name                   gender dates       yearOfBirth yearOfDeath\n",
       "1 10093 Abakanowicz, Magdalena Female born 1930   1930          NA       \n",
       "2     0 Abbey, Edwin Austin    Male   1852â1911 1852        1911       \n",
       "3  2756 Abbott, Berenice       Female 1898â1991 1898        1991       \n",
       "4     1 Abbott, Lemuel Francis Male   1760â1803 1760        1803       \n",
       "5   622 Abrahams, Ivor         Male   born 1935   1935          NA       \n",
       "6  2606 Absalon                Male   1964â1993 1964        1993       \n",
       "  placeOfBirth                   placeOfDeath          \n",
       "1 Polska                                               \n",
       "2 Philadelphia, United States    London, United Kingdom\n",
       "3 Springfield, United States     Monson, United States \n",
       "4 Leicestershire, United Kingdom London, United Kingdom\n",
       "5 Wigan, United Kingdom                                \n",
       "6 Tel Aviv-Yafo, Yisra'el        Paris, France         \n",
       "  url                                                           \n",
       "1 http://www.tate.org.uk/art/artists/magdalena-abakanowicz-10093\n",
       "2 http://www.tate.org.uk/art/artists/edwin-austin-abbey-0       \n",
       "3 http://www.tate.org.uk/art/artists/berenice-abbott-2756       \n",
       "4 http://www.tate.org.uk/art/artists/lemuel-francis-abbott-1    \n",
       "5 http://www.tate.org.uk/art/artists/ivor-abrahams-622          \n",
       "6 http://www.tate.org.uk/art/artists/absalon-2606               "
      ]
     },
     "metadata": {},
     "output_type": "display_data"
    }
   ],
   "source": [
    "artists_df <- read.csv(url('https://raw.githubusercontent.com/tategallery/collection/master/artist_data.csv'))\n",
    "head(artists_df)\n",
    "                       "
   ]
  },
  {
   "cell_type": "code",
   "execution_count": 364,
   "metadata": {},
   "outputs": [
    {
     "data": {
      "text/html": [
       "<table>\n",
       "<thead><tr><th></th><th scope=col>ï..id</th><th scope=col>name</th><th scope=col>gender</th><th scope=col>dates</th><th scope=col>yearOfBirth</th><th scope=col>yearOfDeath</th><th scope=col>placeOfBirth</th><th scope=col>placeOfDeath</th><th scope=col>url</th></tr></thead>\n",
       "<tbody>\n",
       "\t<tr><th scope=row>2</th><td>   0                                                      </td><td>Abbey, Edwin Austin                                       </td><td>Male                                                      </td><td>1852â€“1911                                               </td><td>1852                                                      </td><td>1911                                                      </td><td>Philadelphia, United States                               </td><td>London, United Kingdom                                    </td><td>http://www.tate.org.uk/art/artists/edwin-austin-abbey-0   </td></tr>\n",
       "\t<tr><th scope=row>3</th><td>2756                                                      </td><td>Abbott, Berenice                                          </td><td>Female                                                    </td><td>1898â€“1991                                               </td><td>1898                                                      </td><td>1991                                                      </td><td>Springfield, United States                                </td><td>Monson, United States                                     </td><td>http://www.tate.org.uk/art/artists/berenice-abbott-2756   </td></tr>\n",
       "\t<tr><th scope=row>12</th><td> 626                                                      </td><td>Adams, Harry William                                      </td><td>Male                                                      </td><td>1868â€“1947                                               </td><td>1868                                                      </td><td>1947                                                      </td><td>Worcester, United Kingdom                                 </td><td>Worcester, United Kingdom                                 </td><td>http://www.tate.org.uk/art/artists/harry-william-adams-626</td></tr>\n",
       "\t<tr><th scope=row>15</th><td> 629                                                      </td><td>Adeney, Bernard                                           </td><td>Male                                                      </td><td>1878â€“1966                                               </td><td>1878                                                      </td><td>1966                                                      </td><td>London, United Kingdom                                    </td><td>                                                          </td><td>http://www.tate.org.uk/art/artists/bernard-adeney-629     </td></tr>\n",
       "\t<tr><th scope=row>16</th><td> 630                                                      </td><td>Adler, Jankel                                             </td><td>Male                                                      </td><td>1895â€“1949                                               </td><td>1895                                                      </td><td>1949                                                      </td><td>Tuszyn, Polska                                            </td><td>Aldbourne, United Kingdom                                 </td><td>http://www.tate.org.uk/art/artists/jankel-adler-630       </td></tr>\n",
       "\t<tr><th scope=row>20</th><td> 633                                                      </td><td>Agar, Eileen                                              </td><td>Female                                                    </td><td>1899â€“1991                                               </td><td>1899                                                      </td><td>1991                                                      </td><td>Ayacucho, Argentina                                       </td><td>London, United Kingdom                                    </td><td>http://www.tate.org.uk/art/artists/eileen-agar-633        </td></tr>\n",
       "</tbody>\n",
       "</table>\n"
      ],
      "text/latex": [
       "\\begin{tabular}{r|lllllllll}\n",
       "  & ï..id & name & gender & dates & yearOfBirth & yearOfDeath & placeOfBirth & placeOfDeath & url\\\\\n",
       "\\hline\n",
       "\t2 &    0                                                       & Abbey, Edwin Austin                                        & Male                                                       & 1852â€“1911                                                & 1852                                                       & 1911                                                       & Philadelphia, United States                                & London, United Kingdom                                     & http://www.tate.org.uk/art/artists/edwin-austin-abbey-0   \\\\\n",
       "\t3 & 2756                                                       & Abbott, Berenice                                           & Female                                                     & 1898â€“1991                                                & 1898                                                       & 1991                                                       & Springfield, United States                                 & Monson, United States                                      & http://www.tate.org.uk/art/artists/berenice-abbott-2756   \\\\\n",
       "\t12 &  626                                                       & Adams, Harry William                                       & Male                                                       & 1868â€“1947                                                & 1868                                                       & 1947                                                       & Worcester, United Kingdom                                  & Worcester, United Kingdom                                  & http://www.tate.org.uk/art/artists/harry-william-adams-626\\\\\n",
       "\t15 &  629                                                       & Adeney, Bernard                                            & Male                                                       & 1878â€“1966                                                & 1878                                                       & 1966                                                       & London, United Kingdom                                     &                                                            & http://www.tate.org.uk/art/artists/bernard-adeney-629     \\\\\n",
       "\t16 &  630                                                       & Adler, Jankel                                              & Male                                                       & 1895â€“1949                                                & 1895                                                       & 1949                                                       & Tuszyn, Polska                                             & Aldbourne, United Kingdom                                  & http://www.tate.org.uk/art/artists/jankel-adler-630       \\\\\n",
       "\t20 &  633                                                       & Agar, Eileen                                               & Female                                                     & 1899â€“1991                                                & 1899                                                       & 1991                                                       & Ayacucho, Argentina                                        & London, United Kingdom                                     & http://www.tate.org.uk/art/artists/eileen-agar-633        \\\\\n",
       "\\end{tabular}\n"
      ],
      "text/markdown": [
       "\n",
       "| <!--/--> | ï..id | name | gender | dates | yearOfBirth | yearOfDeath | placeOfBirth | placeOfDeath | url | \n",
       "|---|---|---|---|---|---|\n",
       "| 2 |    0                                                       | Abbey, Edwin Austin                                        | Male                                                       | 1852â€“1911                                                | 1852                                                       | 1911                                                       | Philadelphia, United States                                | London, United Kingdom                                     | http://www.tate.org.uk/art/artists/edwin-austin-abbey-0    | \n",
       "| 3 | 2756                                                       | Abbott, Berenice                                           | Female                                                     | 1898â€“1991                                                | 1898                                                       | 1991                                                       | Springfield, United States                                 | Monson, United States                                      | http://www.tate.org.uk/art/artists/berenice-abbott-2756    | \n",
       "| 12 |  626                                                       | Adams, Harry William                                       | Male                                                       | 1868â€“1947                                                | 1868                                                       | 1947                                                       | Worcester, United Kingdom                                  | Worcester, United Kingdom                                  | http://www.tate.org.uk/art/artists/harry-william-adams-626 | \n",
       "| 15 |  629                                                       | Adeney, Bernard                                            | Male                                                       | 1878â€“1966                                                | 1878                                                       | 1966                                                       | London, United Kingdom                                     |                                                            | http://www.tate.org.uk/art/artists/bernard-adeney-629      | \n",
       "| 16 |  630                                                       | Adler, Jankel                                              | Male                                                       | 1895â€“1949                                                | 1895                                                       | 1949                                                       | Tuszyn, Polska                                             | Aldbourne, United Kingdom                                  | http://www.tate.org.uk/art/artists/jankel-adler-630        | \n",
       "| 20 |  633                                                       | Agar, Eileen                                               | Female                                                     | 1899â€“1991                                                | 1899                                                       | 1991                                                       | Ayacucho, Argentina                                        | London, United Kingdom                                     | http://www.tate.org.uk/art/artists/eileen-agar-633         | \n",
       "\n",
       "\n"
      ],
      "text/plain": [
       "   ï..id name                 gender dates       yearOfBirth yearOfDeath\n",
       "2     0  Abbey, Edwin Austin  Male   1852â1911 1852        1911       \n",
       "3  2756  Abbott, Berenice     Female 1898â1991 1898        1991       \n",
       "12  626  Adams, Harry William Male   1868â1947 1868        1947       \n",
       "15  629  Adeney, Bernard      Male   1878â1966 1878        1966       \n",
       "16  630  Adler, Jankel        Male   1895â1949 1895        1949       \n",
       "20  633  Agar, Eileen         Female 1899â1991 1899        1991       \n",
       "   placeOfBirth                placeOfDeath             \n",
       "2  Philadelphia, United States London, United Kingdom   \n",
       "3  Springfield, United States  Monson, United States    \n",
       "12 Worcester, United Kingdom   Worcester, United Kingdom\n",
       "15 London, United Kingdom                               \n",
       "16 Tuszyn, Polska              Aldbourne, United Kingdom\n",
       "20 Ayacucho, Argentina         London, United Kingdom   \n",
       "   url                                                       \n",
       "2  http://www.tate.org.uk/art/artists/edwin-austin-abbey-0   \n",
       "3  http://www.tate.org.uk/art/artists/berenice-abbott-2756   \n",
       "12 http://www.tate.org.uk/art/artists/harry-william-adams-626\n",
       "15 http://www.tate.org.uk/art/artists/bernard-adeney-629     \n",
       "16 http://www.tate.org.uk/art/artists/jankel-adler-630       \n",
       "20 http://www.tate.org.uk/art/artists/eileen-agar-633        "
      ]
     },
     "metadata": {},
     "output_type": "display_data"
    }
   ],
   "source": [
    "artists19th <- artists_df[which(artists_df$yearOfBirth >= 1801 & artists_df$yearOfBirth <=1900),]\n",
    "head(artists19th)"
   ]
  },
  {
   "cell_type": "code",
   "execution_count": 365,
   "metadata": {},
   "outputs": [
    {
     "data": {
      "text/html": [
       "201"
      ],
      "text/latex": [
       "201"
      ],
      "text/markdown": [
       "201"
      ],
      "text/plain": [
       "[1] 201"
      ]
     },
     "metadata": {},
     "output_type": "display_data"
    }
   ],
   "source": [
    "artists19th_lon_par <- \n",
    "    artists19th[artists19th$placeOfBirth %in% c(\"London, United Kingdom\", \"Paris, France\"), ]\n",
    "nrow(artists19th_lon_par)"
   ]
  },
  {
   "cell_type": "code",
   "execution_count": 366,
   "metadata": {},
   "outputs": [
    {
     "data": {
      "text/html": [
       "1304"
      ],
      "text/latex": [
       "1304"
      ],
      "text/markdown": [
       "1304"
      ],
      "text/plain": [
       "[1] 1304"
      ]
     },
     "metadata": {},
     "output_type": "display_data"
    }
   ],
   "source": [
    "nrow(artists_df[which(is.na(artists_df$yearOfDeath)),])"
   ]
  },
  {
   "cell_type": "code",
   "execution_count": 367,
   "metadata": {},
   "outputs": [
    {
     "data": {
      "text/html": [
       "1304"
      ],
      "text/latex": [
       "1304"
      ],
      "text/markdown": [
       "1304"
      ],
      "text/plain": [
       "[1] 1304"
      ]
     },
     "metadata": {},
     "output_type": "display_data"
    }
   ],
   "source": [
    "sum(is.na(artists_df$yearOfDeath))"
   ]
  },
  {
   "cell_type": "code",
   "execution_count": null,
   "metadata": {},
   "outputs": [],
   "source": []
  }
 ],
 "metadata": {
  "kernelspec": {
   "display_name": "R",
   "language": "R",
   "name": "ir"
  },
  "language_info": {
   "codemirror_mode": "r",
   "file_extension": ".r",
   "mimetype": "text/x-r-source",
   "name": "R",
   "pygments_lexer": "r",
   "version": "3.4.3"
  }
 },
 "nbformat": 4,
 "nbformat_minor": 2
}
