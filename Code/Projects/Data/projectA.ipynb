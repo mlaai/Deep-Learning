{
 "nbformat": 4,
 "nbformat_minor": 2,
 "metadata": {
  "language_info": {
   "name": "python",
   "codemirror_mode": {
    "name": "ipython",
    "version": 3
   },
   "version": "3.6.4-final"
  },
  "orig_nbformat": 2,
  "file_extension": ".py",
  "mimetype": "text/x-python",
  "name": "python",
  "npconvert_exporter": "python",
  "pygments_lexer": "ipython3",
  "version": 3,
  "kernelspec": {
   "name": "python36464bitbasecondad387ef8625df407884471fe6c4b09d54",
   "display_name": "Python 3.6.4 64-bit ('base': conda)"
  }
 },
 "cells": [
  {
   "cell_type": "code",
   "execution_count": null,
   "metadata": {},
   "outputs": [],
   "source": [
    "\"\"\"\n",
    "1. Identify Source Databases - NoSql\n",
    "    a. DynamoDB - AWS\n",
    "    b. Cosmos - Azure\n",
    "    c. Firestore - GCP\n",
    "2. Create Infra as Code scripts\n",
    "3. Checklist for AWS - DynamoDB\n",
    "    Type: AWS::DynamoDB::Table\n",
    "    Properties: \n",
    "    AttributeDefinitions: \n",
    "        -  AttributeName: String\n",
    "           AttributeType: String\n",
    "    BillingMode: String \n",
    "    #PROVISIONED - We recommend using PROVISIONED for predictable workloads. PROVISIONED sets the billing mode to Provisioned Mode.\n",
    "\n",
    "PAY_PER_REQUEST - We recommend using PAY_PER_REQUEST for unpredictable workloads. PAY_PER_REQUEST sets the billing mode to On-Demand Mode.\n",
    "\n",
    "    GlobalSecondaryIndexes: \n",
    "        -  IndexName: String\n",
    "           KeySchema: \n",
    "           - KeySchema\n",
    "           Projection: \n",
    "             Projection\n",
    "           ProvisionedThroughput: \n",
    "             ProvisionedThroughput\n",
    "    KeySchema: \n",
    "        - AttributeName: String\n",
    "          KeyType: String\n",
    "    LocalSecondaryIndexes: \n",
    "        - IndexName: String\n",
    "            KeySchema: \n",
    "                - KeySchema\n",
    "            Projection: \n",
    "                Projection\n",
    "    PointInTimeRecoverySpecification: \n",
    "        PointInTimeRecoveryEnabled: Boolean\n",
    "    ProvisionedThroughput: \n",
    "        ReadCapacityUnits: Long\n",
    "        WriteCapacityUnits: Long\n",
    "    SSESpecification: \n",
    "        KMSMasterKeyId: String\n",
    "        SSEEnabled: Boolean\n",
    "        SSEType: String\n",
    "    StreamSpecification: \n",
    "        StreamViewType: String\n",
    "    TableName: String\n",
    "    Tags: \n",
    "        - Key: String\n",
    "          Value: String\n",
    "    TimeToLiveSpecification: \n",
    "        TimeToLiveSpecification\n",
    "\n",
    "4. Checklist for Azure - Cosmos\n",
    "5. Checklist for Firestore - GCP\n",
    "\n"
   ]
  },
  {
   "cell_type": "code",
   "execution_count": 1,
   "metadata": {},
   "outputs": [
    {
     "data": {
      "text/plain": "2.5"
     },
     "execution_count": 1,
     "metadata": {},
     "output_type": "execute_result"
    }
   ],
   "source": [
    "import statistics as stat\n",
    "stat.mean([1,2,3,4])"
   ]
  },
  {
   "cell_type": "code",
   "execution_count": null,
   "metadata": {},
   "outputs": [],
   "source": []
  }
 ]
}