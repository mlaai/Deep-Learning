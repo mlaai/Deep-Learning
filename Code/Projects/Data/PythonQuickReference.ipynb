{
 "nbformat": 4,
 "nbformat_minor": 2,
 "metadata": {
  "language_info": {
   "name": "python",
   "codemirror_mode": {
    "name": "ipython",
    "version": 3
   },
   "version": "3.6.4-final"
  },
  "orig_nbformat": 2,
  "file_extension": ".py",
  "mimetype": "text/x-python",
  "name": "python",
  "npconvert_exporter": "python",
  "pygments_lexer": "ipython3",
  "version": 3,
  "kernelspec": {
   "name": "python36464bitbasecondad387ef8625df407884471fe6c4b09d54",
   "display_name": "Python 3.6.4 64-bit ('base': conda)"
  }
 },
 "cells": [
  {
   "cell_type": "code",
   "execution_count": 58,
   "metadata": {},
   "outputs": [
    {
     "name": "stdout",
     "output_type": "stream",
     "text": "3\n-0.9613974918795568\n"
    }
   ],
   "source": [
    "\"\"\"\n",
    "Modules\n",
    "\"\"\"\n",
    "import pandas as pd\n",
    "import numpy as np\n",
    "import matplotlib.pyplot as plt\n",
    "import statistics\n",
    "print(statistics.mean([1,2,3,4,5]))\n",
    "from math import sin, cos\n",
    "print(sin(17))"
   ]
  },
  {
   "cell_type": "code",
   "execution_count": 60,
   "metadata": {},
   "outputs": [
    {
     "name": "stdout",
     "output_type": "stream",
     "text": "<class 'int'>\n<class 'bool'>\n<class 'str'>\n<class 'float'>\n"
    }
   ],
   "source": [
    "\"\"\"\n",
    "Variables\n",
    "\"\"\"\n",
    "print(type(17))\n",
    "print(type(False))\n",
    "print(type(\"Hello World\"))\n",
    "print(type(-3.33))"
   ]
  },
  {
   "cell_type": "code",
   "execution_count": 3,
   "metadata": {},
   "outputs": [
    {
     "name": "stdout",
     "output_type": "stream",
     "text": "<class 'str'> 17\n<class 'int'> 17\n<class 'float'> 17.0\n"
    }
   ],
   "source": [
    "\"\"\"\n",
    "Type conversion\n",
    "\"\"\"\n",
    "str = \"17\"\n",
    "i = int(str)\n",
    "f = float(str)\n",
    "print(type(str), str)\n",
    "print(type(i), i)\n",
    "print(type(f), f)"
   ]
  },
  {
   "cell_type": "code",
   "execution_count": 68,
   "metadata": {},
   "outputs": [
    {
     "name": "stdout",
     "output_type": "stream",
     "text": "1.5\n1\n1\n9\n-3\n3\n"
    }
   ],
   "source": [
    "\"\"\"\n",
    "Numeric Operations\n",
    "\"\"\"\n",
    "x = 3\n",
    "y = 2\n",
    "print(x/y)\n",
    "print(x//y)\n",
    "print(x%y)\n",
    "print(x**y)\n",
    "print(-x)\n",
    "print(abs(x))"
   ]
  },
  {
   "cell_type": "code",
   "execution_count": 7,
   "metadata": {},
   "outputs": [
    {
     "name": "stdout",
     "output_type": "stream",
     "text": "A\nurag\nAnura\ng\nag\n"
    }
   ],
   "source": [
    "\"\"\"\n",
    "Slicing\n",
    "\"\"\"\n",
    "word = \"Anurag\"\n",
    "print(word[0])\n",
    "print(word[2:])\n",
    "print(word[:5])\n",
    "print(word[-1])\n",
    "print(word[-2:])"
   ]
  },
  {
   "cell_type": "code",
   "execution_count": 12,
   "metadata": {},
   "outputs": [
    {
     "data": {
      "text/plain": "'Hello world'"
     },
     "execution_count": 12,
     "metadata": {},
     "output_type": "execute_result"
    }
   ],
   "source": [
    "\"\"\"\n",
    "String Methods\n",
    "\"\"\"\n",
    "word = \"hello world\"\n",
    "word.upper()\n",
    "word.title()\n",
    "\"ll\" in word\n",
    "word.capitalize()"
   ]
  },
  {
   "cell_type": "code",
   "execution_count": 16,
   "metadata": {},
   "outputs": [
    {
     "name": "stdout",
     "output_type": "stream",
     "text": "0 2\n1 3\n2 4\n"
    }
   ],
   "source": [
    "\"\"\"\n",
    "List index and element\n",
    "[]\n",
    "\"\"\"\n",
    "mylist = [2,3,4]\n",
    "for index, element in enumerate(mylist):\n",
    "    print(\"{0} {1}\".format(index, element))"
   ]
  },
  {
   "cell_type": "code",
   "execution_count": 20,
   "metadata": {},
   "outputs": [
    {
     "name": "stdout",
     "output_type": "stream",
     "text": "x:  2\ny:  1\n"
    }
   ],
   "source": [
    "\"\"\"\n",
    "Tuple Packing and Unpacking : Swap two numbers\n",
    "()\n",
    "\"\"\"\n",
    "x = 1\n",
    "y = 2\n",
    "var_tuple = x, y\n",
    "y, x = var_tuple\n",
    "print(\"x: \", x)\n",
    "print(\"y: \", y)"
   ]
  },
  {
   "cell_type": "code",
   "execution_count": 29,
   "metadata": {},
   "outputs": [
    {
     "name": "stdout",
     "output_type": "stream",
     "text": "[1, 4, 9]\n"
    },
    {
     "data": {
      "text/plain": "list"
     },
     "execution_count": 29,
     "metadata": {},
     "output_type": "execute_result"
    }
   ],
   "source": [
    "\"\"\"\n",
    "Lists are mutable\n",
    "\"\"\"\n",
    "l = [1,2,3]\n",
    "lmap = map(lambda x: x*x, l)\n",
    "print(list(lmap))\n",
    "type(list(lmap))"
   ]
  },
  {
   "cell_type": "code",
   "execution_count": 26,
   "metadata": {},
   "outputs": [
    {
     "data": {
      "text/plain": "tuple"
     },
     "execution_count": 26,
     "metadata": {},
     "output_type": "execute_result"
    }
   ],
   "source": [
    "\"\"\"\n",
    "Python uses tuples to return multiple values from functions\n",
    "\"\"\"\n",
    "def doSomething():\n",
    "    return 1, 2, 3\n",
    "\n",
    "x = doSomething();\n",
    "type(x)\n"
   ]
  },
  {
   "cell_type": "code",
   "execution_count": 51,
   "metadata": {},
   "outputs": [
    {
     "data": {
      "text/plain": "False"
     },
     "execution_count": 51,
     "metadata": {},
     "output_type": "execute_result"
    }
   ],
   "source": [
    "(False and False and True and False and True and True or True or False or True and False) and False"
   ]
  },
  {
   "cell_type": "code",
   "execution_count": 88,
   "metadata": {},
   "outputs": [
    {
     "name": "stdout",
     "output_type": "stream",
     "text": "+\n0 1 \n0 1 \nOdd : 1; Even : 2; Odd : 3; Even : 4; Odd : 5; Even : 6; Odd : 7; Even : 8; Odd : 9; \n2 3 5 7 nothing\n"
    }
   ],
   "source": [
    "\"\"\"\n",
    "Control Statements\n",
    "\"\"\"\n",
    "#if\n",
    "value = 0.5\n",
    "if value > 0:\n",
    "    print(\"+\")\n",
    "elif value < 0:\n",
    "    print(\"-\")\n",
    "else:\n",
    "    print(\"0\")\n",
    "\n",
    "#for\n",
    "for i in range(0,2):\n",
    "    print(i**2, end=\" \")\n",
    "print()\n",
    "\n",
    "#while\n",
    "i = 0\n",
    "while(i < 2):\n",
    "    print(i, end=\" \")\n",
    "    i +=1\n",
    "print()\n",
    "\n",
    "#continue\n",
    "for i in range(1,10):\n",
    "    if(i % 2 == 0):\n",
    "        print(\"Even :\", i,  end=\"; \")\n",
    "        continue\n",
    "    print(\"Odd :\", i, end=\"; \")\n",
    "print()\n",
    "\n",
    "#break\n",
    "n = 10\n",
    "for i in range(2,n+1):\n",
    "    for j in range(2, i):\n",
    "        if i % j == 0:\n",
    "            break;\n",
    "    else:\n",
    "        print(i, end= \" \")\n",
    "print()\n",
    "\n",
    "#pass\n",
    "if (0 < 1):\n",
    "    pass\n",
    "    print(\"nothing\")\n",
    "else:\n",
    "    print(\"something\")"
   ]
  },
  {
   "cell_type": "code",
   "execution_count": 108,
   "metadata": {},
   "outputs": [
    {
     "name": "stdout",
     "output_type": "stream",
     "text": "A B\n1\n2 1 1\n"
    }
   ],
   "source": [
    "\"\"\"\n",
    "Python Functions\n",
    "\"\"\"\n",
    "def function_name(input_arg1, input_arg2):\n",
    "    print(input_arg1, input_arg2)\n",
    "    return input_arg1, input_arg2 #return tuple\n",
    "\n",
    "function_name(\"A\",\"B\")\n",
    "\n",
    "#global\n",
    "x = 0\n",
    "def inc_x2():\n",
    "    global x\n",
    "    x = x + 1\n",
    " \n",
    "inc_x2()\n",
    "print(x)\n",
    "\n",
    "#default arguments\n",
    "def func(z, a=1, b=1):\n",
    "    print(z, a, b)\n",
    "func(z=2)"
   ]
  },
  {
   "cell_type": "code",
   "execution_count": 109,
   "metadata": {},
   "outputs": [
    {
     "name": "stdout",
     "output_type": "stream",
     "text": "4\n"
    }
   ],
   "source": [
    "square = lambda x: x**2\n",
    "print(square(2))"
   ]
  },
  {
   "cell_type": "code",
   "execution_count": 136,
   "metadata": {},
   "outputs": [
    {
     "name": "stdout",
     "output_type": "stream",
     "text": "{'benign': 'gentle', 'acerbic': 'acidic'}\ngentle\nTrue\nbenign\nacerbic\ngentle\nacidic\nKey :  benign , Value :  gentle\nKey :  acerbic , Value :  acidic\n0 benign\n1 acerbic\n"
    }
   ],
   "source": [
    "\"\"\"\n",
    "Dictionaries\n",
    "{}\n",
    "\"\"\"\n",
    "x={}\n",
    "dict = {\"benign\":\"gentle\",\n",
    "        \"acerbic\":\"acidic\"}\n",
    "print(dict)\n",
    "print(dict[\"benign\"])\n",
    "print(\"acerbic\" in dict)\n",
    "\n",
    "for key in dict.keys():\n",
    "    print(key)\n",
    "for value in dict.values():\n",
    "    print(value)\n",
    "for key, value in dict.items():\n",
    "    print(\"Key : \", key, \", Value : \", value)\n",
    "for index, key in enumerate(dict):\n",
    "    print(index, key)\n"
   ]
  },
  {
   "cell_type": "code",
   "execution_count": 133,
   "metadata": {},
   "outputs": [
    {
     "name": "stdout",
     "output_type": "stream",
     "text": "[{'name': 'Jade', 'age': '24'}, {'name': 'John', 'age': '33'}, {'name': 'Juan', 'age': '38'}]\n[{'name': 'Juan', 'age': '38'}, {'name': 'John', 'age': '33'}, {'name': 'Jade', 'age': '24'}]\n{'name': 'Jade', 'age': '24'}\n[{True: 'A'}, {False: 'B'}]\n"
    }
   ],
   "source": [
    "\"\"\"\n",
    "Sorting Dictionaries\n",
    "\"\"\"\n",
    "customer = [{\"name\": \"John\", \"age\": \"33\"},\n",
    "            {\"name\": \"Jade\", \"age\": \"24\"},\n",
    "            {\"name\": \"Juan\", \"age\": \"38\"},]\n",
    "print(sorted(customer, key = lambda d: d[\"age\"]))\n",
    "customer.sort(key = lambda d: d[\"age\"], reverse=True)\n",
    "print(customer)\n",
    "print(customer[2])\n",
    "test = [{True:\"A\"},{False:\"B\"}]\n",
    "print(test)\n"
   ]
  },
  {
   "cell_type": "code",
   "execution_count": 132,
   "metadata": {},
   "outputs": [
    {
     "name": "stdout",
     "output_type": "stream",
     "text": "{1, 2, 3, 4, 5}\n{3, 4, 7, 8, 9}\nset()\n{1, 2, 3, 4, 5, 7, 8, 9}\n{3, 4}\n"
    }
   ],
   "source": [
    "\"\"\"\n",
    "Sets\n",
    "\"\"\"\n",
    "list_a = [1,2,3,4,5]\n",
    "list_b = [3,4,7,8,9]\n",
    "\n",
    "A = set(list_a)\n",
    "B = set(list_b)\n",
    "C = set()\n",
    "print(A)\n",
    "print(B)\n",
    "print(C)\n",
    "print(A.union(B))\n",
    "print(A.intersection(B))"
   ]
  },
  {
   "cell_type": "code",
   "execution_count": 142,
   "metadata": {},
   "outputs": [
    {
     "data": {
      "text/plain": "{'one': 1, 'two': 2}"
     },
     "execution_count": 142,
     "metadata": {},
     "output_type": "execute_result"
    }
   ],
   "source": [
    "num = {'one':1, 'two':3}\n",
    "num['two']=2\n",
    "num"
   ]
  },
  {
   "cell_type": "code",
   "execution_count": 151,
   "metadata": {},
   "outputs": [
    {
     "name": "stdout",
     "output_type": "stream",
     "text": "1876913440\n1876913440\nTrue\nFalse\n2258395814992\n2258395814480\n"
    }
   ],
   "source": [
    "\"\"\"\n",
    "Python Object Model\n",
    "Everything is object\n",
    "Variables are references to objects\n",
    "\"\"\"\n",
    "#Integer objects are immutable\n",
    "#python preallocates integer objects [-5, 256]\n",
    "x = -5\n",
    "y = -5\n",
    "print(id(x))\n",
    "print(id(y))\n",
    "\n",
    "x=1024\n",
    "y=1024\n",
    "print(x == y)\n",
    "print(x is y)\n",
    "print(id(x))\n",
    "print(id(y))"
   ]
  },
  {
   "cell_type": "code",
   "execution_count": 164,
   "metadata": {},
   "outputs": [
    {
     "name": "stdout",
     "output_type": "stream",
     "text": "Divide by Zero Error !\nIndex out of bounds !\n<class 'list'>\n"
    },
    {
     "ename": "Exception",
     "evalue": "Age should be greater than 18 years !",
     "output_type": "error",
     "traceback": [
      "\u001b[1;31m---------------------------------------------------------------------------\u001b[0m",
      "\u001b[1;31mException\u001b[0m                                 Traceback (most recent call last)",
      "\u001b[1;32m<ipython-input-164-ffa6adbbacaa>\u001b[0m in \u001b[0;36m<module>\u001b[1;34m()\u001b[0m\n\u001b[0;32m     19\u001b[0m \u001b[0mage\u001b[0m \u001b[1;33m=\u001b[0m \u001b[1;36m16\u001b[0m\u001b[1;33m\u001b[0m\u001b[0m\n\u001b[0;32m     20\u001b[0m \u001b[1;32mif\u001b[0m \u001b[1;33m(\u001b[0m\u001b[0mage\u001b[0m \u001b[1;33m<\u001b[0m \u001b[1;36m18\u001b[0m\u001b[1;33m)\u001b[0m\u001b[1;33m:\u001b[0m\u001b[1;33m\u001b[0m\u001b[0m\n\u001b[1;32m---> 21\u001b[1;33m     \u001b[1;32mraise\u001b[0m \u001b[0mException\u001b[0m\u001b[1;33m(\u001b[0m\u001b[1;34m\"Age should be greater than 18 years !\"\u001b[0m\u001b[1;33m)\u001b[0m\u001b[1;33m\u001b[0m\u001b[0m\n\u001b[0m\u001b[0;32m     22\u001b[0m \u001b[0mprint\u001b[0m\u001b[1;33m(\u001b[0m\u001b[0mage\u001b[0m\u001b[1;33m)\u001b[0m\u001b[1;33m\u001b[0m\u001b[0m\n",
      "\u001b[1;31mException\u001b[0m: Age should be greater than 18 years !"
     ]
    }
   ],
   "source": [
    "\"\"\"\n",
    "Exceptions\n",
    "\n",
    "BaseException\n",
    " +-- SystemExit\n",
    " +-- KeyboardInterrupt\n",
    " +-- GeneratorExit\n",
    " +-- Exception\n",
    "      +-- StopIteration\n",
    "      +-- StopAsyncIteration\n",
    "      +-- ArithmeticError\n",
    "      |    +-- FloatingPointError\n",
    "      |    +-- OverflowError\n",
    "      |    +-- ZeroDivisionError\n",
    "      +-- AssertionError\n",
    "      +-- AttributeError\n",
    "      +-- BufferError\n",
    "      +-- EOFError\n",
    "      +-- ImportError\n",
    "      |    +-- ModuleNotFoundError\n",
    "      +-- LookupError\n",
    "      |    +-- IndexError\n",
    "      |    +-- KeyError\n",
    "      +-- MemoryError\n",
    "      +-- NameError\n",
    "      |    +-- UnboundLocalError\n",
    "      +-- OSError\n",
    "      |    +-- BlockingIOError\n",
    "      |    +-- ChildProcessError\n",
    "      |    +-- ConnectionError\n",
    "      |    |    +-- BrokenPipeError\n",
    "      |    |    +-- ConnectionAbortedError\n",
    "      |    |    +-- ConnectionRefusedError\n",
    "      |    |    +-- ConnectionResetError\n",
    "      |    +-- FileExistsError\n",
    "      |    +-- FileNotFoundError\n",
    "      |    +-- InterruptedError\n",
    "      |    +-- IsADirectoryError\n",
    "      |    +-- NotADirectoryError\n",
    "      |    +-- PermissionError\n",
    "      |    +-- ProcessLookupError\n",
    "      |    +-- TimeoutError\n",
    "      +-- ReferenceError\n",
    "      +-- RuntimeError\n",
    "      |    +-- NotImplementedError\n",
    "      |    +-- RecursionError\n",
    "      +-- SyntaxError\n",
    "      |    +-- IndentationError\n",
    "      |         +-- TabError\n",
    "      +-- SystemError\n",
    "      +-- TypeError\n",
    "      +-- ValueError\n",
    "      |    +-- UnicodeError\n",
    "      |         +-- UnicodeDecodeError\n",
    "      |         +-- UnicodeEncodeError\n",
    "      |         +-- UnicodeTranslateError\n",
    "      +-- Warning\n",
    "           +-- DeprecationWarning\n",
    "           +-- PendingDeprecationWarning\n",
    "           +-- RuntimeWarning\n",
    "           +-- SyntaxWarning\n",
    "           +-- UserWarning\n",
    "           +-- FutureWarning\n",
    "           +-- ImportWarning\n",
    "           +-- UnicodeWarning\n",
    "           +-- BytesWarning\n",
    "           +-- ResourceWarning\n",
    "\"\"\"\n",
    "try:\n",
    "    x = 100 // 0\n",
    "except ZeroDivisionError:\n",
    "    print(\"Divide by Zero Error !\")\n",
    "\n",
    "try:\n",
    "    a = [1,2,3]\n",
    "    a[3] = 4\n",
    "except IndexError:\n",
    "    print(\"Index out of bounds !\")\n",
    "else:\n",
    "    print(a)\n",
    "finally:\n",
    "    print(type(a))\n",
    "\n",
    "age = 16\n",
    "if (age < 18):\n",
    "    raise Exception(\"Age should be greater than 18 years !\")\n",
    "print(age)\n"
   ]
  },
  {
   "cell_type": "code",
   "execution_count": 204,
   "metadata": {},
   "outputs": [
    {
     "name": "stdout",
     "output_type": "stream",
     "text": "Index 0 => This is line 4\n\nIndex 1 => This is line 4\n\nIndex 2 => This is line 4\n\nIndex 3 => This is line 4\n\nIndex 4 => This is line\n\nIndex 5 => This is line\n\nIndex 6 => This is line\n\nIndex 7 => This is line\n\nIndex 8 => This is line\n\nIndex 9 => This is line\n\nIndex 10 => This is line\n\nIndex 11 => This is line\n\nIndex 12 => This is line\n\nIndex 13 => This is line\n\nTrue\n"
    }
   ],
   "source": [
    "\"\"\"\n",
    "File IO\n",
    "\"\"\"\n",
    "with open('./test.txt','r') as f:\n",
    "    for index, data in enumerate(f):\n",
    "        print(\"Index {} => {}\".format(index,data), end = \"\\n\")\n",
    "\n",
    "with open('./test.txt','a') as f:\n",
    "    f.write(\"This is line\\n\")\n",
    "\n",
    "f = None\n",
    "for i in range(10):\n",
    "    with open (\"my_secret_diary.txt\", \"w\") as f:\n",
    "        if i > 5:\n",
    "            break\n",
    "\n",
    "print(f.closed)\n",
    "\n",
    "with open('./test1.txt','a') as f:\n",
    "    f.write(\"This is line\\n\")\n",
    "\n",
    "f = open('./test1.txt', 'w') "
   ]
  },
  {
   "cell_type": "code",
   "execution_count": null,
   "metadata": {},
   "outputs": [],
   "source": [
    "\"\"\"\n",
    "JSON\n",
    "\"\"\"\n",
    "\n",
    "import json\n",
    "json.dumps([1,2,3])\n"
   ]
  },
  {
   "cell_type": "code",
   "execution_count": 205,
   "metadata": {},
   "outputs": [
    {
     "name": "stdout",
     "output_type": "stream",
     "text": "<__main__.Customer object at 0x0000020DD4C412B0>\n<class '__main__.Customer'>\n"
    }
   ],
   "source": [
    "\"\"\"\n",
    "Object Oriented Programming\n",
    "\"\"\"\n",
    "\n",
    "class Customer:\n",
    "    pass\n",
    "\n",
    "customer = Customer()\n",
    "\n",
    "print(customer)\n",
    "print(type(customer))\n"
   ]
  },
  {
   "cell_type": "code",
   "execution_count": 224,
   "metadata": {},
   "outputs": [
    {
     "name": "stdout",
     "output_type": "stream",
     "text": "John Due\nJames Chen\n"
    }
   ],
   "source": [
    "class Customer:\n",
    "    def __init__(self, firstName, lastName):\n",
    "        self.firstName = firstName\n",
    "        self.lastName = lastName\n",
    "\n",
    "cust1 = Customer(\"John\", \"Due\")\n",
    "cust2 = Customer(\"James\",\"Chen\")\n",
    "print(cust1.firstName, cust1.lastName)\n",
    "print(cust2.firstName, cust2.lastName)\n"
   ]
  },
  {
   "cell_type": "code",
   "execution_count": 235,
   "metadata": {},
   "outputs": [
    {
     "name": "stdout",
     "output_type": "stream",
     "text": "John Sanders ['AWS', 'Azure', 'GCP']\nNone;"
    }
   ],
   "source": [
    "class Customer:\n",
    "    def __init__(self, firstName, lastName, skills=[]):\n",
    "        self.firstName = firstName\n",
    "        self.lastName = lastName\n",
    "        self.skills = skills\n",
    "\n",
    "    def printUser(self):\n",
    "        print(self.firstName, self.lastName, self.skills)\n",
    "\n",
    "customer = Customer(\"John\",\"Sanders\",[\"AWS\",\"Azure\",\"GCP\"])\n",
    "print(user.printUser(), end = \";\")\n"
   ]
  },
  {
   "cell_type": "code",
   "execution_count": 248,
   "metadata": {},
   "outputs": [
    {
     "name": "stdout",
     "output_type": "stream",
     "text": "[1 2 3 4]\n"
    }
   ],
   "source": [
    "\"\"\"\n",
    "Numpy\n",
    "\"\"\"\n",
    "#Numpy Array vs Python list\n",
    "#Numpy Array are homogeneous ; Python list is heterogeneous\n",
    "#homogeneous arrays lead to more efficiency because when performing array operations, you don't have to check each element for what type it is, or how many bytes of memory it takes up - once you know the type and shape of the overall array, you know how and where every element in it is stored\n",
    "\n",
    "#Array - memory efficient container\n",
    "import numpy as np\n",
    "a = np.array([1,2,3,4])\n",
    "print(a)"
   ]
  },
  {
   "cell_type": "code",
   "execution_count": 249,
   "metadata": {},
   "outputs": [
    {
     "name": "stdout",
     "output_type": "stream",
     "text": "318 µs ± 14.9 µs per loop (mean ± std. dev. of 7 runs, 1000 loops each)\n1.68 µs ± 62.6 ns per loop (mean ± std. dev. of 7 runs, 1000000 loops each)\n"
    }
   ],
   "source": [
    "L = range(1000)\n",
    "%timeit [i**2 for i in L]\n",
    "\n",
    "a = np.arange(1000)\n",
    "%timeit a**2\n"
   ]
  },
  {
   "cell_type": "code",
   "execution_count": 250,
   "metadata": {},
   "outputs": [],
   "source": [
    "#Interactive help:http://docs.scipy.org/\n",
    "np.array?"
   ]
  },
  {
   "cell_type": "code",
   "execution_count": 251,
   "metadata": {},
   "outputs": [
    {
     "name": "stdout",
     "output_type": "stream",
     "text": "Search results for 'create array'\n---------------------------------\nnumpy.array\n    Create an array.\nnumpy.memmap\n    Create a memory-map to an array stored in a *binary* file on disk.\nnumpy.diagflat\n    Create a two-dimensional array with the flattened input as a diagonal.\nnumpy.fromiter\n    Create a new 1-dimensional array from an iterable object.\nnumpy.partition\n    Return a partitioned copy of an array.\nnumpy.ctypeslib.as_array\n    Create a numpy array from a ctypes array or a ctypes POINTER.\nnumpy.ma.diagflat\n    Create a two-dimensional array with the flattened input as a diagonal.\nnumpy.ma.make_mask\n    Create a boolean mask from an array.\nnumpy.ctypeslib.as_ctypes\n    Create and return a ctypes object from a numpy array.  Actually\nnumpy.ma.mrecords.fromarrays\n    Creates a mrecarray from a (flat) list of masked arrays.\nnumpy.ma.mvoid.__new__\n    Create a new masked array from scratch.\nnumpy.lib.format.open_memmap\n    Open a .npy file as a memory-mapped array.\nnumpy.ma.MaskedArray.__new__\n    Create a new masked array from scratch.\nnumpy.lib.arrayterator.Arrayterator\n    Buffered iterator for big arrays.\nnumpy.ma.mrecords.fromtextfile\n    Creates a mrecarray from data stored in the file `filename`.\nnumpy.asarray\n    Convert the input to an array.\nnumpy.ndarray\n    ndarray(shape, dtype=float, buffer=None, offset=0,\nnumpy.recarray\n    Construct an ndarray that allows field access using attributes.\nnumpy.chararray\n    chararray(shape, itemsize=1, unicode=False, buffer=None, offset=0,\nnumpy.pad\n    Pads an array.\nnumpy.asanyarray\n    Convert the input to an ndarray, but pass ndarray subclasses through.\nnumpy.copy\n    Return an array copy of the given object.\nnumpy.diag\n    Extract a diagonal or construct a diagonal array.\nnumpy.load\n    Load arrays or pickled objects from ``.npy``, ``.npz`` or pickled files.\nnumpy.sort\n    Return a sorted copy of an array.\nnumpy.array_equiv\n    Returns True if input arrays are shape consistent and all elements equal.\nnumpy.dtype\n    Create a data type object.\nnumpy.choose\n    Construct an array from an index array and a set of arrays to choose from.\nnumpy.nditer\n    Efficient multi-dimensional iterator object to iterate over arrays.\nnumpy.swapaxes\n    Interchange two axes of an array.\nnumpy.full_like\n    Return a full array with the same shape and type as a given array.\nnumpy.ones_like\n    Return an array of ones with the same shape and type as a given array.\nnumpy.empty_like\n    Return a new array with the same shape and type as a given array.\nnumpy.zeros_like\n    Return an array of zeros with the same shape and type as a given array.\nnumpy.asarray_chkfinite\n    Convert the input to an array, checking for NaNs or Infs.\nnumpy.diag_indices\n    Return the indices to access the main diagonal of an array.\nnumpy.chararray.tolist\n    a.tolist()\nnumpy.ma.mrecords.MaskedRecords.__new__\n    Create a new masked array from scratch.\nnumpy.ma.choose\n    Use an index array to construct a new array from a set of choices.\nnumpy.savez_compressed\n    Save several arrays into a single file in compressed ``.npz`` format.\nnumpy.matlib.rand\n    Return a matrix of random values with given shape.\nnumpy.datetime_as_string\n    Convert an array of datetimes into an array of strings.\nnumpy.ma.empty_like\n    Return a new array with the same shape and type as a given array.\nnumpy.ma.make_mask_none\n    Return a boolean mask of the given shape, filled with False.\nnumpy.ma.tests.test_subclassing.MMatrix.__new__\n    Create a new masked array from scratch.\nnumpy.ma.tests.test_subclassing.MSubArray.__new__\n    Create a new masked array from scratch.\nnumpy.ma.mrecords.fromrecords\n    Creates a MaskedRecords from a list of records.\nnumpy.ma.tests.test_subclassing.SubMaskedArray.__new__\n    Create a new masked array from scratch.\nnumpy.f2py.tests.test_array_from_pyobj.Array.has_shared_memory\n    Check that created array shares data with input array.\nnumpy.around\n    Evenly round to the given number of decimals.\nnumpy.source\n    Print or write to a file the source code for a NumPy object.\nnumpy.diagonal\n    Return specified diagonals.\nnumpy.nan_to_num\n    Replace nan with zero and inf with large finite numbers.\nnumpy.einsum_path\n    Evaluates the lowest cost contraction order for an einsum expression by\nnumpy.histogram2d\n    Compute the bi-dimensional histogram of two data samples.\nnumpy.fft.ifft\n    Compute the one-dimensional inverse discrete Fourier Transform.\nnumpy.fft.ifftn\n    Compute the N-dimensional inverse discrete Fourier Transform.\nnumpy.busdaycalendar\n    A business day calendar object that efficiently stores information\nnumpy.ma.tests.test_subclassing.SubArray\n    ndarray(shape, dtype=float, buffer=None, offset=0,\nnumpy.core.tests.test_function_base.PhysicalQuantity2\n    ndarray(shape, dtype=float, buffer=None, offset=0,\nnumpy.lib.tests.test_stride_tricks.SimpleSubClass\n    ndarray(shape, dtype=float, buffer=None, offset=0,\nnumpy.ma.tests.test_subclassing.ComplicatedSubArray\n    ndarray(shape, dtype=float, buffer=None, offset=0,\nnumpy.lib.tests.test_stride_tricks.VerySimpleSubClass\n    ndarray(shape, dtype=float, buffer=None, offset=0,\nnumpy.core.tests.test_numeric.TestKeepdims.sub_array\n    ndarray(shape, dtype=float, buffer=None, offset=0,\nnumpy.core.tests.test_multiarray.TestArrayPriority.Bar\n    ndarray(shape, dtype=float, buffer=None, offset=0,\nnumpy.core.tests.test_multiarray.TestArrayPriority.Foo\n    ndarray(shape, dtype=float, buffer=None, offset=0,\nnumpy.testing._gen_alignment_data\n    generator producing data with different alignment and offsets"
    }
   ],
   "source": [
    "np.lookfor('create array')"
   ]
  },
  {
   "cell_type": "code",
   "execution_count": 252,
   "metadata": {},
   "outputs": [],
   "source": [
    "np.con*?"
   ]
  },
  {
   "cell_type": "code",
   "execution_count": 253,
   "metadata": {},
   "outputs": [
    {
     "name": "stdout",
     "output_type": "stream",
     "text": "[0 1 2 3]\n1\n(4,)\n4\n"
    }
   ],
   "source": [
    "#Creating arrays\n",
    "#1-D\n",
    "a = np.array([0,1,2,3])\n",
    "print(a)\n",
    "print(a.ndim)\n",
    "print(a.shape)\n",
    "print(len(a))"
   ]
  },
  {
   "cell_type": "code",
   "execution_count": 256,
   "metadata": {},
   "outputs": [
    {
     "name": "stdout",
     "output_type": "stream",
     "text": "[[0 1 2 3]\n [4 5 6 7]]\n2\n(2, 4)\n2\n"
    }
   ],
   "source": [
    "#2-D\n",
    "b = np.array([[0,1,2,3],[4,5,6,7]])\n",
    "print(b)\n",
    "print(b.ndim)\n",
    "print(b.shape)\n",
    "print(len(b))"
   ]
  },
  {
   "cell_type": "code",
   "execution_count": 263,
   "metadata": {},
   "outputs": [
    {
     "name": "stdout",
     "output_type": "stream",
     "text": "[[[0 1 2 3]\n  [4 5 6 7]]\n\n [[8 9 0 1]\n  [2 3 4 5]]]\n3\n(2, 2, 4)\n2\n"
    }
   ],
   "source": [
    "#3-D\n",
    "c = np.array([[[0,1,2,3],[4,5,6,7]],[[8,9,0,1],[2,3,4,5]]])\n",
    "print(c)\n",
    "print(c.ndim)\n",
    "print(c.shape)\n",
    "print(len(c))"
   ]
  },
  {
   "cell_type": "code",
   "execution_count": 264,
   "metadata": {},
   "outputs": [
    {
     "name": "stdout",
     "output_type": "stream",
     "text": "[[[[0]]\n\n  [[4]]]\n\n\n [[[8]]\n\n  [[2]]]]\n4\n(2, 2, 1, 1)\n2\n"
    }
   ],
   "source": [
    "#4-D\n",
    "d = np.array([[[[0]],[[4]]],[[[8]],[[2]]]])\n",
    "print(d)\n",
    "print(d.ndim)\n",
    "print(d.shape)\n",
    "print(len(d))"
   ]
  },
  {
   "cell_type": "code",
   "execution_count": 267,
   "metadata": {},
   "outputs": [
    {
     "name": "stdout",
     "output_type": "stream",
     "text": "[0 1 2 3 4 5 6 7 8 9]\n[ 1  4  7 10 13 16 19]\n"
    }
   ],
   "source": [
    "a = np.arange(10)\n",
    "b = np.arange(1,20,3)\n",
    "print(a)\n",
    "print(b)"
   ]
  },
  {
   "cell_type": "code",
   "execution_count": 273,
   "metadata": {},
   "outputs": [
    {
     "name": "stdout",
     "output_type": "stream",
     "text": "[0.  0.2 0.4 0.6 0.8 1. ]\n[0.  0.2 0.4 0.6 0.8]\n"
    }
   ],
   "source": [
    "c = np.linspace(0, 1, 6) \n",
    "d = np.linspace(0, 1, 5, endpoint=False)\n",
    "print(c)\n",
    "print(d)"
   ]
  },
  {
   "cell_type": "code",
   "execution_count": 282,
   "metadata": {},
   "outputs": [
    {
     "name": "stdout",
     "output_type": "stream",
     "text": "[[1. 1. 1.]\n [1. 1. 1.]]\n[[0. 0. 0. 0.]\n [0. 0. 0. 0.]]\n[[1. 0. 0. 0.]\n [0. 1. 0. 0.]\n [0. 0. 1. 0.]\n [0. 0. 0. 1.]]\n[[1 0 0 0 0]\n [0 2 0 0 0]\n [0 0 3 0 0]\n [0 0 0 4 0]\n [0 0 0 0 5]]\n"
    }
   ],
   "source": [
    "a = np.ones((2,3))\n",
    "b = np.zeros((2,4))\n",
    "c = np.eye(4)\n",
    "d = np.diag(np.array([1,2,3,4,5]))\n",
    "print(a)\n",
    "print(b)\n",
    "print(c)\n",
    "print(d)"
   ]
  },
  {
   "cell_type": "code",
   "execution_count": 290,
   "metadata": {},
   "outputs": [
    {
     "name": "stdout",
     "output_type": "stream",
     "text": "[0.16911084 0.08833981 0.68535982 0.95339335]\n[ 0.00429143 -0.17460021  0.43302619  1.20303737]\n[0.77132064 0.02075195 0.63364823 0.74880388]\n[0.49850701 0.22479665 0.19806286 0.76053071]\n[0.77132064 0.02075195 0.63364823 0.74880388]\n[0.49850701 0.22479665 0.19806286 0.76053071]\n"
    }
   ],
   "source": [
    "a = np.random.rand(4)\n",
    "print(a)\n",
    "\n",
    "b = np.random.randn(4)\n",
    "print(b)\n",
    "\n",
    "#If we seed with same value we'll get the same random number\n",
    "#Randomness depends on OS or current system time\n",
    "np.random.seed(10)\n",
    "a = np.random.rand(4)\n",
    "print(a)\n",
    "b = np.random.rand(4)\n",
    "print(b)\n",
    "np.random.seed(10)\n",
    "a = np.random.rand(4)\n",
    "print(a)\n",
    "b = np.random.rand(4)\n",
    "print(b)"
   ]
  },
  {
   "cell_type": "code",
   "execution_count": 310,
   "metadata": {},
   "outputs": [
    {
     "name": "stdout",
     "output_type": "stream",
     "text": "int32\nfloat64\nfloat64\nfloat64\nfloat64\ncomplex128\nbool\n<U1\n<U5\n"
    }
   ],
   "source": [
    "#Datatype\n",
    "a = np.array([1, 2, 3])\n",
    "print(a.dtype)\n",
    "b = np.array([1., 2., 3.])\n",
    "print(b.dtype)\n",
    "c = np.array([1,2,3], dtype=float)\n",
    "print(c.dtype)\n",
    "#Default data type\n",
    "d = np.ones((3, 3))\n",
    "print(d.dtype)\n",
    "e = np.zeros((2, 2))\n",
    "print(e.dtype)\n",
    "f = np.array([1+2j])\n",
    "print(f.dtype)\n",
    "g = np.array([True, False])\n",
    "print(g.dtype)\n",
    "h = np.array([\"A\",\"B\"])\n",
    "print(h.dtype)\n",
    "i = np.array([\"Alex\",\"Bethy\"])\n",
    "print(i.dtype)"
   ]
  },
  {
   "cell_type": "code",
   "execution_count": 311,
   "metadata": {},
   "outputs": [],
   "source": [
    "\"\"\"\n",
    "Visualization\n",
    "\"\"\"\n",
    "import matplotlib.pyplot as plt\n",
    "%matplotlib inline\n",
    "%config InlineBackend.figure_format = 'svg'"
   ]
  },
  {
   "cell_type": "code",
   "execution_count": 312,
   "metadata": {},
   "outputs": [
    {
     "data": {
      "text/plain": "[<matplotlib.lines.Line2D at 0x20ddca19eb8>]"
     },
     "execution_count": 312,
     "metadata": {},
     "output_type": "execute_result"
    },
    {
     "data": {
      "image/svg+xml": "<?xml version=\"1.0\" encoding=\"utf-8\" standalone=\"no\"?>\r\n<!DOCTYPE svg PUBLIC \"-//W3C//DTD SVG 1.1//EN\"\r\n  \"http://www.w3.org/Graphics/SVG/1.1/DTD/svg11.dtd\">\r\n<!-- Created with matplotlib (http://matplotlib.org/) -->\r\n<svg height=\"252pt\" version=\"1.1\" viewBox=\"0 0 375 252\" width=\"375pt\" xmlns=\"http://www.w3.org/2000/svg\" xmlns:xlink=\"http://www.w3.org/1999/xlink\">\r\n <defs>\r\n  <style type=\"text/css\">\r\n*{stroke-linecap:butt;stroke-linejoin:round;}\r\n  </style>\r\n </defs>\r\n <g id=\"figure_1\">\r\n  <g id=\"patch_1\">\r\n   <path d=\"M 0 252.018125 \r\nL 375.603125 252.018125 \r\nL 375.603125 0 \r\nL 0 0 \r\nz\r\n\" style=\"fill:none;\"/>\r\n  </g>\r\n  <g id=\"axes_1\">\r\n   <g id=\"patch_2\">\r\n    <path d=\"M 30.103125 228.14 \r\nL 364.903125 228.14 \r\nL 364.903125 10.7 \r\nL 30.103125 10.7 \r\nz\r\n\" style=\"fill:#ffffff;\"/>\r\n   </g>\r\n   <g id=\"matplotlib.axis_1\">\r\n    <g id=\"xtick_1\">\r\n     <g id=\"line2d_1\">\r\n      <defs>\r\n       <path d=\"M 0 0 \r\nL 0 3.5 \r\n\" id=\"me65a6f9815\" style=\"stroke:#000000;stroke-width:0.8;\"/>\r\n      </defs>\r\n      <g>\r\n       <use style=\"stroke:#000000;stroke-width:0.8;\" x=\"45.321307\" xlink:href=\"#me65a6f9815\" y=\"228.14\"/>\r\n      </g>\r\n     </g>\r\n     <g id=\"text_1\">\r\n      <!-- 1.00 -->\r\n      <defs>\r\n       <path d=\"M 12.40625 8.296875 \r\nL 28.515625 8.296875 \r\nL 28.515625 63.921875 \r\nL 10.984375 60.40625 \r\nL 10.984375 69.390625 \r\nL 28.421875 72.90625 \r\nL 38.28125 72.90625 \r\nL 38.28125 8.296875 \r\nL 54.390625 8.296875 \r\nL 54.390625 0 \r\nL 12.40625 0 \r\nz\r\n\" id=\"DejaVuSans-31\"/>\r\n       <path d=\"M 10.6875 12.40625 \r\nL 21 12.40625 \r\nL 21 0 \r\nL 10.6875 0 \r\nz\r\n\" id=\"DejaVuSans-2e\"/>\r\n       <path d=\"M 31.78125 66.40625 \r\nQ 24.171875 66.40625 20.328125 58.90625 \r\nQ 16.5 51.421875 16.5 36.375 \r\nQ 16.5 21.390625 20.328125 13.890625 \r\nQ 24.171875 6.390625 31.78125 6.390625 \r\nQ 39.453125 6.390625 43.28125 13.890625 \r\nQ 47.125 21.390625 47.125 36.375 \r\nQ 47.125 51.421875 43.28125 58.90625 \r\nQ 39.453125 66.40625 31.78125 66.40625 \r\nz\r\nM 31.78125 74.21875 \r\nQ 44.046875 74.21875 50.515625 64.515625 \r\nQ 56.984375 54.828125 56.984375 36.375 \r\nQ 56.984375 17.96875 50.515625 8.265625 \r\nQ 44.046875 -1.421875 31.78125 -1.421875 \r\nQ 19.53125 -1.421875 13.0625 8.265625 \r\nQ 6.59375 17.96875 6.59375 36.375 \r\nQ 6.59375 54.828125 13.0625 64.515625 \r\nQ 19.53125 74.21875 31.78125 74.21875 \r\nz\r\n\" id=\"DejaVuSans-30\"/>\r\n      </defs>\r\n      <g transform=\"translate(34.188494 242.738437)scale(0.1 -0.1)\">\r\n       <use xlink:href=\"#DejaVuSans-31\"/>\r\n       <use x=\"63.623047\" xlink:href=\"#DejaVuSans-2e\"/>\r\n       <use x=\"95.410156\" xlink:href=\"#DejaVuSans-30\"/>\r\n       <use x=\"159.033203\" xlink:href=\"#DejaVuSans-30\"/>\r\n      </g>\r\n     </g>\r\n    </g>\r\n    <g id=\"xtick_2\">\r\n     <g id=\"line2d_2\">\r\n      <g>\r\n       <use style=\"stroke:#000000;stroke-width:0.8;\" x=\"83.366761\" xlink:href=\"#me65a6f9815\" y=\"228.14\"/>\r\n      </g>\r\n     </g>\r\n     <g id=\"text_2\">\r\n      <!-- 1.25 -->\r\n      <defs>\r\n       <path d=\"M 19.1875 8.296875 \r\nL 53.609375 8.296875 \r\nL 53.609375 0 \r\nL 7.328125 0 \r\nL 7.328125 8.296875 \r\nQ 12.9375 14.109375 22.625 23.890625 \r\nQ 32.328125 33.6875 34.8125 36.53125 \r\nQ 39.546875 41.84375 41.421875 45.53125 \r\nQ 43.3125 49.21875 43.3125 52.78125 \r\nQ 43.3125 58.59375 39.234375 62.25 \r\nQ 35.15625 65.921875 28.609375 65.921875 \r\nQ 23.96875 65.921875 18.8125 64.3125 \r\nQ 13.671875 62.703125 7.8125 59.421875 \r\nL 7.8125 69.390625 \r\nQ 13.765625 71.78125 18.9375 73 \r\nQ 24.125 74.21875 28.421875 74.21875 \r\nQ 39.75 74.21875 46.484375 68.546875 \r\nQ 53.21875 62.890625 53.21875 53.421875 \r\nQ 53.21875 48.921875 51.53125 44.890625 \r\nQ 49.859375 40.875 45.40625 35.40625 \r\nQ 44.1875 33.984375 37.640625 27.21875 \r\nQ 31.109375 20.453125 19.1875 8.296875 \r\nz\r\n\" id=\"DejaVuSans-32\"/>\r\n       <path d=\"M 10.796875 72.90625 \r\nL 49.515625 72.90625 \r\nL 49.515625 64.59375 \r\nL 19.828125 64.59375 \r\nL 19.828125 46.734375 \r\nQ 21.96875 47.46875 24.109375 47.828125 \r\nQ 26.265625 48.1875 28.421875 48.1875 \r\nQ 40.625 48.1875 47.75 41.5 \r\nQ 54.890625 34.8125 54.890625 23.390625 \r\nQ 54.890625 11.625 47.5625 5.09375 \r\nQ 40.234375 -1.421875 26.90625 -1.421875 \r\nQ 22.3125 -1.421875 17.546875 -0.640625 \r\nQ 12.796875 0.140625 7.71875 1.703125 \r\nL 7.71875 11.625 \r\nQ 12.109375 9.234375 16.796875 8.0625 \r\nQ 21.484375 6.890625 26.703125 6.890625 \r\nQ 35.15625 6.890625 40.078125 11.328125 \r\nQ 45.015625 15.765625 45.015625 23.390625 \r\nQ 45.015625 31 40.078125 35.4375 \r\nQ 35.15625 39.890625 26.703125 39.890625 \r\nQ 22.75 39.890625 18.8125 39.015625 \r\nQ 14.890625 38.140625 10.796875 36.28125 \r\nz\r\n\" id=\"DejaVuSans-35\"/>\r\n      </defs>\r\n      <g transform=\"translate(72.233949 242.738437)scale(0.1 -0.1)\">\r\n       <use xlink:href=\"#DejaVuSans-31\"/>\r\n       <use x=\"63.623047\" xlink:href=\"#DejaVuSans-2e\"/>\r\n       <use x=\"95.410156\" xlink:href=\"#DejaVuSans-32\"/>\r\n       <use x=\"159.033203\" xlink:href=\"#DejaVuSans-35\"/>\r\n      </g>\r\n     </g>\r\n    </g>\r\n    <g id=\"xtick_3\">\r\n     <g id=\"line2d_3\">\r\n      <g>\r\n       <use style=\"stroke:#000000;stroke-width:0.8;\" x=\"121.412216\" xlink:href=\"#me65a6f9815\" y=\"228.14\"/>\r\n      </g>\r\n     </g>\r\n     <g id=\"text_3\">\r\n      <!-- 1.50 -->\r\n      <g transform=\"translate(110.279403 242.738437)scale(0.1 -0.1)\">\r\n       <use xlink:href=\"#DejaVuSans-31\"/>\r\n       <use x=\"63.623047\" xlink:href=\"#DejaVuSans-2e\"/>\r\n       <use x=\"95.410156\" xlink:href=\"#DejaVuSans-35\"/>\r\n       <use x=\"159.033203\" xlink:href=\"#DejaVuSans-30\"/>\r\n      </g>\r\n     </g>\r\n    </g>\r\n    <g id=\"xtick_4\">\r\n     <g id=\"line2d_4\">\r\n      <g>\r\n       <use style=\"stroke:#000000;stroke-width:0.8;\" x=\"159.45767\" xlink:href=\"#me65a6f9815\" y=\"228.14\"/>\r\n      </g>\r\n     </g>\r\n     <g id=\"text_4\">\r\n      <!-- 1.75 -->\r\n      <defs>\r\n       <path d=\"M 8.203125 72.90625 \r\nL 55.078125 72.90625 \r\nL 55.078125 68.703125 \r\nL 28.609375 0 \r\nL 18.3125 0 \r\nL 43.21875 64.59375 \r\nL 8.203125 64.59375 \r\nz\r\n\" id=\"DejaVuSans-37\"/>\r\n      </defs>\r\n      <g transform=\"translate(148.324858 242.738437)scale(0.1 -0.1)\">\r\n       <use xlink:href=\"#DejaVuSans-31\"/>\r\n       <use x=\"63.623047\" xlink:href=\"#DejaVuSans-2e\"/>\r\n       <use x=\"95.410156\" xlink:href=\"#DejaVuSans-37\"/>\r\n       <use x=\"159.033203\" xlink:href=\"#DejaVuSans-35\"/>\r\n      </g>\r\n     </g>\r\n    </g>\r\n    <g id=\"xtick_5\">\r\n     <g id=\"line2d_5\">\r\n      <g>\r\n       <use style=\"stroke:#000000;stroke-width:0.8;\" x=\"197.503125\" xlink:href=\"#me65a6f9815\" y=\"228.14\"/>\r\n      </g>\r\n     </g>\r\n     <g id=\"text_5\">\r\n      <!-- 2.00 -->\r\n      <g transform=\"translate(186.370313 242.738437)scale(0.1 -0.1)\">\r\n       <use xlink:href=\"#DejaVuSans-32\"/>\r\n       <use x=\"63.623047\" xlink:href=\"#DejaVuSans-2e\"/>\r\n       <use x=\"95.410156\" xlink:href=\"#DejaVuSans-30\"/>\r\n       <use x=\"159.033203\" xlink:href=\"#DejaVuSans-30\"/>\r\n      </g>\r\n     </g>\r\n    </g>\r\n    <g id=\"xtick_6\">\r\n     <g id=\"line2d_6\">\r\n      <g>\r\n       <use style=\"stroke:#000000;stroke-width:0.8;\" x=\"235.54858\" xlink:href=\"#me65a6f9815\" y=\"228.14\"/>\r\n      </g>\r\n     </g>\r\n     <g id=\"text_6\">\r\n      <!-- 2.25 -->\r\n      <g transform=\"translate(224.415767 242.738437)scale(0.1 -0.1)\">\r\n       <use xlink:href=\"#DejaVuSans-32\"/>\r\n       <use x=\"63.623047\" xlink:href=\"#DejaVuSans-2e\"/>\r\n       <use x=\"95.410156\" xlink:href=\"#DejaVuSans-32\"/>\r\n       <use x=\"159.033203\" xlink:href=\"#DejaVuSans-35\"/>\r\n      </g>\r\n     </g>\r\n    </g>\r\n    <g id=\"xtick_7\">\r\n     <g id=\"line2d_7\">\r\n      <g>\r\n       <use style=\"stroke:#000000;stroke-width:0.8;\" x=\"273.594034\" xlink:href=\"#me65a6f9815\" y=\"228.14\"/>\r\n      </g>\r\n     </g>\r\n     <g id=\"text_7\">\r\n      <!-- 2.50 -->\r\n      <g transform=\"translate(262.461222 242.738437)scale(0.1 -0.1)\">\r\n       <use xlink:href=\"#DejaVuSans-32\"/>\r\n       <use x=\"63.623047\" xlink:href=\"#DejaVuSans-2e\"/>\r\n       <use x=\"95.410156\" xlink:href=\"#DejaVuSans-35\"/>\r\n       <use x=\"159.033203\" xlink:href=\"#DejaVuSans-30\"/>\r\n      </g>\r\n     </g>\r\n    </g>\r\n    <g id=\"xtick_8\">\r\n     <g id=\"line2d_8\">\r\n      <g>\r\n       <use style=\"stroke:#000000;stroke-width:0.8;\" x=\"311.639489\" xlink:href=\"#me65a6f9815\" y=\"228.14\"/>\r\n      </g>\r\n     </g>\r\n     <g id=\"text_8\">\r\n      <!-- 2.75 -->\r\n      <g transform=\"translate(300.506676 242.738437)scale(0.1 -0.1)\">\r\n       <use xlink:href=\"#DejaVuSans-32\"/>\r\n       <use x=\"63.623047\" xlink:href=\"#DejaVuSans-2e\"/>\r\n       <use x=\"95.410156\" xlink:href=\"#DejaVuSans-37\"/>\r\n       <use x=\"159.033203\" xlink:href=\"#DejaVuSans-35\"/>\r\n      </g>\r\n     </g>\r\n    </g>\r\n    <g id=\"xtick_9\">\r\n     <g id=\"line2d_9\">\r\n      <g>\r\n       <use style=\"stroke:#000000;stroke-width:0.8;\" x=\"349.684943\" xlink:href=\"#me65a6f9815\" y=\"228.14\"/>\r\n      </g>\r\n     </g>\r\n     <g id=\"text_9\">\r\n      <!-- 3.00 -->\r\n      <defs>\r\n       <path d=\"M 40.578125 39.3125 \r\nQ 47.65625 37.796875 51.625 33 \r\nQ 55.609375 28.21875 55.609375 21.1875 \r\nQ 55.609375 10.40625 48.1875 4.484375 \r\nQ 40.765625 -1.421875 27.09375 -1.421875 \r\nQ 22.515625 -1.421875 17.65625 -0.515625 \r\nQ 12.796875 0.390625 7.625 2.203125 \r\nL 7.625 11.71875 \r\nQ 11.71875 9.328125 16.59375 8.109375 \r\nQ 21.484375 6.890625 26.8125 6.890625 \r\nQ 36.078125 6.890625 40.9375 10.546875 \r\nQ 45.796875 14.203125 45.796875 21.1875 \r\nQ 45.796875 27.640625 41.28125 31.265625 \r\nQ 36.765625 34.90625 28.71875 34.90625 \r\nL 20.21875 34.90625 \r\nL 20.21875 43.015625 \r\nL 29.109375 43.015625 \r\nQ 36.375 43.015625 40.234375 45.921875 \r\nQ 44.09375 48.828125 44.09375 54.296875 \r\nQ 44.09375 59.90625 40.109375 62.90625 \r\nQ 36.140625 65.921875 28.71875 65.921875 \r\nQ 24.65625 65.921875 20.015625 65.03125 \r\nQ 15.375 64.15625 9.8125 62.3125 \r\nL 9.8125 71.09375 \r\nQ 15.4375 72.65625 20.34375 73.4375 \r\nQ 25.25 74.21875 29.59375 74.21875 \r\nQ 40.828125 74.21875 47.359375 69.109375 \r\nQ 53.90625 64.015625 53.90625 55.328125 \r\nQ 53.90625 49.265625 50.4375 45.09375 \r\nQ 46.96875 40.921875 40.578125 39.3125 \r\nz\r\n\" id=\"DejaVuSans-33\"/>\r\n      </defs>\r\n      <g transform=\"translate(338.552131 242.738437)scale(0.1 -0.1)\">\r\n       <use xlink:href=\"#DejaVuSans-33\"/>\r\n       <use x=\"63.623047\" xlink:href=\"#DejaVuSans-2e\"/>\r\n       <use x=\"95.410156\" xlink:href=\"#DejaVuSans-30\"/>\r\n       <use x=\"159.033203\" xlink:href=\"#DejaVuSans-30\"/>\r\n      </g>\r\n     </g>\r\n    </g>\r\n   </g>\r\n   <g id=\"matplotlib.axis_2\">\r\n    <g id=\"ytick_1\">\r\n     <g id=\"line2d_10\">\r\n      <defs>\r\n       <path d=\"M 0 0 \r\nL -3.5 0 \r\n\" id=\"m64c08c6576\" style=\"stroke:#000000;stroke-width:0.8;\"/>\r\n      </defs>\r\n      <g>\r\n       <use style=\"stroke:#000000;stroke-width:0.8;\" x=\"30.103125\" xlink:href=\"#m64c08c6576\" y=\"218.256364\"/>\r\n      </g>\r\n     </g>\r\n     <g id=\"text_10\">\r\n      <!-- 0.0 -->\r\n      <g transform=\"translate(7.2 222.055582)scale(0.1 -0.1)\">\r\n       <use xlink:href=\"#DejaVuSans-30\"/>\r\n       <use x=\"63.623047\" xlink:href=\"#DejaVuSans-2e\"/>\r\n       <use x=\"95.410156\" xlink:href=\"#DejaVuSans-30\"/>\r\n      </g>\r\n     </g>\r\n    </g>\r\n    <g id=\"ytick_2\">\r\n     <g id=\"line2d_11\">\r\n      <g>\r\n       <use style=\"stroke:#000000;stroke-width:0.8;\" x=\"30.103125\" xlink:href=\"#m64c08c6576\" y=\"185.310909\"/>\r\n      </g>\r\n     </g>\r\n     <g id=\"text_11\">\r\n      <!-- 0.1 -->\r\n      <g transform=\"translate(7.2 189.110128)scale(0.1 -0.1)\">\r\n       <use xlink:href=\"#DejaVuSans-30\"/>\r\n       <use x=\"63.623047\" xlink:href=\"#DejaVuSans-2e\"/>\r\n       <use x=\"95.410156\" xlink:href=\"#DejaVuSans-31\"/>\r\n      </g>\r\n     </g>\r\n    </g>\r\n    <g id=\"ytick_3\">\r\n     <g id=\"line2d_12\">\r\n      <g>\r\n       <use style=\"stroke:#000000;stroke-width:0.8;\" x=\"30.103125\" xlink:href=\"#m64c08c6576\" y=\"152.365455\"/>\r\n      </g>\r\n     </g>\r\n     <g id=\"text_12\">\r\n      <!-- 0.2 -->\r\n      <g transform=\"translate(7.2 156.164673)scale(0.1 -0.1)\">\r\n       <use xlink:href=\"#DejaVuSans-30\"/>\r\n       <use x=\"63.623047\" xlink:href=\"#DejaVuSans-2e\"/>\r\n       <use x=\"95.410156\" xlink:href=\"#DejaVuSans-32\"/>\r\n      </g>\r\n     </g>\r\n    </g>\r\n    <g id=\"ytick_4\">\r\n     <g id=\"line2d_13\">\r\n      <g>\r\n       <use style=\"stroke:#000000;stroke-width:0.8;\" x=\"30.103125\" xlink:href=\"#m64c08c6576\" y=\"119.42\"/>\r\n      </g>\r\n     </g>\r\n     <g id=\"text_13\">\r\n      <!-- 0.3 -->\r\n      <g transform=\"translate(7.2 123.219219)scale(0.1 -0.1)\">\r\n       <use xlink:href=\"#DejaVuSans-30\"/>\r\n       <use x=\"63.623047\" xlink:href=\"#DejaVuSans-2e\"/>\r\n       <use x=\"95.410156\" xlink:href=\"#DejaVuSans-33\"/>\r\n      </g>\r\n     </g>\r\n    </g>\r\n    <g id=\"ytick_5\">\r\n     <g id=\"line2d_14\">\r\n      <g>\r\n       <use style=\"stroke:#000000;stroke-width:0.8;\" x=\"30.103125\" xlink:href=\"#m64c08c6576\" y=\"86.474545\"/>\r\n      </g>\r\n     </g>\r\n     <g id=\"text_14\">\r\n      <!-- 0.4 -->\r\n      <defs>\r\n       <path d=\"M 37.796875 64.3125 \r\nL 12.890625 25.390625 \r\nL 37.796875 25.390625 \r\nz\r\nM 35.203125 72.90625 \r\nL 47.609375 72.90625 \r\nL 47.609375 25.390625 \r\nL 58.015625 25.390625 \r\nL 58.015625 17.1875 \r\nL 47.609375 17.1875 \r\nL 47.609375 0 \r\nL 37.796875 0 \r\nL 37.796875 17.1875 \r\nL 4.890625 17.1875 \r\nL 4.890625 26.703125 \r\nz\r\n\" id=\"DejaVuSans-34\"/>\r\n      </defs>\r\n      <g transform=\"translate(7.2 90.273764)scale(0.1 -0.1)\">\r\n       <use xlink:href=\"#DejaVuSans-30\"/>\r\n       <use x=\"63.623047\" xlink:href=\"#DejaVuSans-2e\"/>\r\n       <use x=\"95.410156\" xlink:href=\"#DejaVuSans-34\"/>\r\n      </g>\r\n     </g>\r\n    </g>\r\n    <g id=\"ytick_6\">\r\n     <g id=\"line2d_15\">\r\n      <g>\r\n       <use style=\"stroke:#000000;stroke-width:0.8;\" x=\"30.103125\" xlink:href=\"#m64c08c6576\" y=\"53.529091\"/>\r\n      </g>\r\n     </g>\r\n     <g id=\"text_15\">\r\n      <!-- 0.5 -->\r\n      <g transform=\"translate(7.2 57.32831)scale(0.1 -0.1)\">\r\n       <use xlink:href=\"#DejaVuSans-30\"/>\r\n       <use x=\"63.623047\" xlink:href=\"#DejaVuSans-2e\"/>\r\n       <use x=\"95.410156\" xlink:href=\"#DejaVuSans-35\"/>\r\n      </g>\r\n     </g>\r\n    </g>\r\n    <g id=\"ytick_7\">\r\n     <g id=\"line2d_16\">\r\n      <g>\r\n       <use style=\"stroke:#000000;stroke-width:0.8;\" x=\"30.103125\" xlink:href=\"#m64c08c6576\" y=\"20.583636\"/>\r\n      </g>\r\n     </g>\r\n     <g id=\"text_16\">\r\n      <!-- 0.6 -->\r\n      <defs>\r\n       <path d=\"M 33.015625 40.375 \r\nQ 26.375 40.375 22.484375 35.828125 \r\nQ 18.609375 31.296875 18.609375 23.390625 \r\nQ 18.609375 15.53125 22.484375 10.953125 \r\nQ 26.375 6.390625 33.015625 6.390625 \r\nQ 39.65625 6.390625 43.53125 10.953125 \r\nQ 47.40625 15.53125 47.40625 23.390625 \r\nQ 47.40625 31.296875 43.53125 35.828125 \r\nQ 39.65625 40.375 33.015625 40.375 \r\nz\r\nM 52.59375 71.296875 \r\nL 52.59375 62.3125 \r\nQ 48.875 64.0625 45.09375 64.984375 \r\nQ 41.3125 65.921875 37.59375 65.921875 \r\nQ 27.828125 65.921875 22.671875 59.328125 \r\nQ 17.53125 52.734375 16.796875 39.40625 \r\nQ 19.671875 43.65625 24.015625 45.921875 \r\nQ 28.375 48.1875 33.59375 48.1875 \r\nQ 44.578125 48.1875 50.953125 41.515625 \r\nQ 57.328125 34.859375 57.328125 23.390625 \r\nQ 57.328125 12.15625 50.6875 5.359375 \r\nQ 44.046875 -1.421875 33.015625 -1.421875 \r\nQ 20.359375 -1.421875 13.671875 8.265625 \r\nQ 6.984375 17.96875 6.984375 36.375 \r\nQ 6.984375 53.65625 15.1875 63.9375 \r\nQ 23.390625 74.21875 37.203125 74.21875 \r\nQ 40.921875 74.21875 44.703125 73.484375 \r\nQ 48.484375 72.75 52.59375 71.296875 \r\nz\r\n\" id=\"DejaVuSans-36\"/>\r\n      </defs>\r\n      <g transform=\"translate(7.2 24.382855)scale(0.1 -0.1)\">\r\n       <use xlink:href=\"#DejaVuSans-30\"/>\r\n       <use x=\"63.623047\" xlink:href=\"#DejaVuSans-2e\"/>\r\n       <use x=\"95.410156\" xlink:href=\"#DejaVuSans-36\"/>\r\n      </g>\r\n     </g>\r\n    </g>\r\n   </g>\r\n   <g id=\"line2d_17\">\r\n    <path clip-path=\"url(#p58a3f58ed8)\" d=\"M 45.321307 218.256364 \r\nL 197.503125 152.365455 \r\nL 349.684943 20.583636 \r\n\" style=\"fill:none;stroke:#1f77b4;stroke-linecap:square;stroke-width:1.5;\"/>\r\n   </g>\r\n   <g id=\"patch_3\">\r\n    <path d=\"M 30.103125 228.14 \r\nL 30.103125 10.7 \r\n\" style=\"fill:none;stroke:#000000;stroke-linecap:square;stroke-linejoin:miter;stroke-width:0.8;\"/>\r\n   </g>\r\n   <g id=\"patch_4\">\r\n    <path d=\"M 364.903125 228.14 \r\nL 364.903125 10.7 \r\n\" style=\"fill:none;stroke:#000000;stroke-linecap:square;stroke-linejoin:miter;stroke-width:0.8;\"/>\r\n   </g>\r\n   <g id=\"patch_5\">\r\n    <path d=\"M 30.103125 228.14 \r\nL 364.903125 228.14 \r\n\" style=\"fill:none;stroke:#000000;stroke-linecap:square;stroke-linejoin:miter;stroke-width:0.8;\"/>\r\n   </g>\r\n   <g id=\"patch_6\">\r\n    <path d=\"M 30.103125 10.7 \r\nL 364.903125 10.7 \r\n\" style=\"fill:none;stroke:#000000;stroke-linecap:square;stroke-linejoin:miter;stroke-width:0.8;\"/>\r\n   </g>\r\n  </g>\r\n </g>\r\n <defs>\r\n  <clipPath id=\"p58a3f58ed8\">\r\n   <rect height=\"217.44\" width=\"334.8\" x=\"30.103125\" y=\"10.7\"/>\r\n  </clipPath>\r\n </defs>\r\n</svg>\r\n",
      "text/plain": "<matplotlib.figure.Figure at 0x20ddd188cf8>"
     },
     "metadata": {
      "needs_background": "light"
     },
     "output_type": "display_data"
    }
   ],
   "source": [
    "plt.plot([1.0, 2.0, 3.0], [0.0, 0.2, 0.6])"
   ]
  },
  {
   "cell_type": "code",
   "execution_count": 315,
   "metadata": {},
   "outputs": [
    {
     "data": {
      "text/plain": "[<matplotlib.lines.Line2D at 0x20ddc79f908>]"
     },
     "execution_count": 315,
     "metadata": {},
     "output_type": "execute_result"
    },
    {
     "data": {
      "image/svg+xml": "<?xml version=\"1.0\" encoding=\"utf-8\" standalone=\"no\"?>\r\n<!DOCTYPE svg PUBLIC \"-//W3C//DTD SVG 1.1//EN\"\r\n  \"http://www.w3.org/Graphics/SVG/1.1/DTD/svg11.dtd\">\r\n<!-- Created with matplotlib (http://matplotlib.org/) -->\r\n<svg height=\"252pt\" version=\"1.1\" viewBox=\"0 0 366 252\" width=\"366pt\" xmlns=\"http://www.w3.org/2000/svg\" xmlns:xlink=\"http://www.w3.org/1999/xlink\">\r\n <defs>\r\n  <style type=\"text/css\">\r\n*{stroke-linecap:butt;stroke-linejoin:round;}\r\n  </style>\r\n </defs>\r\n <g id=\"figure_1\">\r\n  <g id=\"patch_1\">\r\n   <path d=\"M 0 252.018125 \r\nL 366.0625 252.018125 \r\nL 366.0625 0 \r\nL 0 0 \r\nz\r\n\" style=\"fill:none;\"/>\r\n  </g>\r\n  <g id=\"axes_1\">\r\n   <g id=\"patch_2\">\r\n    <path d=\"M 20.5625 228.14 \r\nL 355.3625 228.14 \r\nL 355.3625 10.7 \r\nL 20.5625 10.7 \r\nz\r\n\" style=\"fill:#ffffff;\"/>\r\n   </g>\r\n   <g id=\"matplotlib.axis_1\">\r\n    <g id=\"xtick_1\">\r\n     <g id=\"line2d_1\">\r\n      <defs>\r\n       <path d=\"M 0 0 \r\nL 0 3.5 \r\n\" id=\"m5e09b0ba3d\" style=\"stroke:#000000;stroke-width:0.8;\"/>\r\n      </defs>\r\n      <g>\r\n       <use style=\"stroke:#000000;stroke-width:0.8;\" x=\"35.780682\" xlink:href=\"#m5e09b0ba3d\" y=\"228.14\"/>\r\n      </g>\r\n     </g>\r\n     <g id=\"text_1\">\r\n      <!-- 0.0 -->\r\n      <defs>\r\n       <path d=\"M 31.78125 66.40625 \r\nQ 24.171875 66.40625 20.328125 58.90625 \r\nQ 16.5 51.421875 16.5 36.375 \r\nQ 16.5 21.390625 20.328125 13.890625 \r\nQ 24.171875 6.390625 31.78125 6.390625 \r\nQ 39.453125 6.390625 43.28125 13.890625 \r\nQ 47.125 21.390625 47.125 36.375 \r\nQ 47.125 51.421875 43.28125 58.90625 \r\nQ 39.453125 66.40625 31.78125 66.40625 \r\nz\r\nM 31.78125 74.21875 \r\nQ 44.046875 74.21875 50.515625 64.515625 \r\nQ 56.984375 54.828125 56.984375 36.375 \r\nQ 56.984375 17.96875 50.515625 8.265625 \r\nQ 44.046875 -1.421875 31.78125 -1.421875 \r\nQ 19.53125 -1.421875 13.0625 8.265625 \r\nQ 6.59375 17.96875 6.59375 36.375 \r\nQ 6.59375 54.828125 13.0625 64.515625 \r\nQ 19.53125 74.21875 31.78125 74.21875 \r\nz\r\n\" id=\"DejaVuSans-30\"/>\r\n       <path d=\"M 10.6875 12.40625 \r\nL 21 12.40625 \r\nL 21 0 \r\nL 10.6875 0 \r\nz\r\n\" id=\"DejaVuSans-2e\"/>\r\n      </defs>\r\n      <g transform=\"translate(27.829119 242.738437)scale(0.1 -0.1)\">\r\n       <use xlink:href=\"#DejaVuSans-30\"/>\r\n       <use x=\"63.623047\" xlink:href=\"#DejaVuSans-2e\"/>\r\n       <use x=\"95.410156\" xlink:href=\"#DejaVuSans-30\"/>\r\n      </g>\r\n     </g>\r\n    </g>\r\n    <g id=\"xtick_2\">\r\n     <g id=\"line2d_2\">\r\n      <g>\r\n       <use style=\"stroke:#000000;stroke-width:0.8;\" x=\"86.507955\" xlink:href=\"#m5e09b0ba3d\" y=\"228.14\"/>\r\n      </g>\r\n     </g>\r\n     <g id=\"text_2\">\r\n      <!-- 0.5 -->\r\n      <defs>\r\n       <path d=\"M 10.796875 72.90625 \r\nL 49.515625 72.90625 \r\nL 49.515625 64.59375 \r\nL 19.828125 64.59375 \r\nL 19.828125 46.734375 \r\nQ 21.96875 47.46875 24.109375 47.828125 \r\nQ 26.265625 48.1875 28.421875 48.1875 \r\nQ 40.625 48.1875 47.75 41.5 \r\nQ 54.890625 34.8125 54.890625 23.390625 \r\nQ 54.890625 11.625 47.5625 5.09375 \r\nQ 40.234375 -1.421875 26.90625 -1.421875 \r\nQ 22.3125 -1.421875 17.546875 -0.640625 \r\nQ 12.796875 0.140625 7.71875 1.703125 \r\nL 7.71875 11.625 \r\nQ 12.109375 9.234375 16.796875 8.0625 \r\nQ 21.484375 6.890625 26.703125 6.890625 \r\nQ 35.15625 6.890625 40.078125 11.328125 \r\nQ 45.015625 15.765625 45.015625 23.390625 \r\nQ 45.015625 31 40.078125 35.4375 \r\nQ 35.15625 39.890625 26.703125 39.890625 \r\nQ 22.75 39.890625 18.8125 39.015625 \r\nQ 14.890625 38.140625 10.796875 36.28125 \r\nz\r\n\" id=\"DejaVuSans-35\"/>\r\n      </defs>\r\n      <g transform=\"translate(78.556392 242.738437)scale(0.1 -0.1)\">\r\n       <use xlink:href=\"#DejaVuSans-30\"/>\r\n       <use x=\"63.623047\" xlink:href=\"#DejaVuSans-2e\"/>\r\n       <use x=\"95.410156\" xlink:href=\"#DejaVuSans-35\"/>\r\n      </g>\r\n     </g>\r\n    </g>\r\n    <g id=\"xtick_3\">\r\n     <g id=\"line2d_3\">\r\n      <g>\r\n       <use style=\"stroke:#000000;stroke-width:0.8;\" x=\"137.235227\" xlink:href=\"#m5e09b0ba3d\" y=\"228.14\"/>\r\n      </g>\r\n     </g>\r\n     <g id=\"text_3\">\r\n      <!-- 1.0 -->\r\n      <defs>\r\n       <path d=\"M 12.40625 8.296875 \r\nL 28.515625 8.296875 \r\nL 28.515625 63.921875 \r\nL 10.984375 60.40625 \r\nL 10.984375 69.390625 \r\nL 28.421875 72.90625 \r\nL 38.28125 72.90625 \r\nL 38.28125 8.296875 \r\nL 54.390625 8.296875 \r\nL 54.390625 0 \r\nL 12.40625 0 \r\nz\r\n\" id=\"DejaVuSans-31\"/>\r\n      </defs>\r\n      <g transform=\"translate(129.283665 242.738437)scale(0.1 -0.1)\">\r\n       <use xlink:href=\"#DejaVuSans-31\"/>\r\n       <use x=\"63.623047\" xlink:href=\"#DejaVuSans-2e\"/>\r\n       <use x=\"95.410156\" xlink:href=\"#DejaVuSans-30\"/>\r\n      </g>\r\n     </g>\r\n    </g>\r\n    <g id=\"xtick_4\">\r\n     <g id=\"line2d_4\">\r\n      <g>\r\n       <use style=\"stroke:#000000;stroke-width:0.8;\" x=\"187.9625\" xlink:href=\"#m5e09b0ba3d\" y=\"228.14\"/>\r\n      </g>\r\n     </g>\r\n     <g id=\"text_4\">\r\n      <!-- 1.5 -->\r\n      <g transform=\"translate(180.010938 242.738437)scale(0.1 -0.1)\">\r\n       <use xlink:href=\"#DejaVuSans-31\"/>\r\n       <use x=\"63.623047\" xlink:href=\"#DejaVuSans-2e\"/>\r\n       <use x=\"95.410156\" xlink:href=\"#DejaVuSans-35\"/>\r\n      </g>\r\n     </g>\r\n    </g>\r\n    <g id=\"xtick_5\">\r\n     <g id=\"line2d_5\">\r\n      <g>\r\n       <use style=\"stroke:#000000;stroke-width:0.8;\" x=\"238.689773\" xlink:href=\"#m5e09b0ba3d\" y=\"228.14\"/>\r\n      </g>\r\n     </g>\r\n     <g id=\"text_5\">\r\n      <!-- 2.0 -->\r\n      <defs>\r\n       <path d=\"M 19.1875 8.296875 \r\nL 53.609375 8.296875 \r\nL 53.609375 0 \r\nL 7.328125 0 \r\nL 7.328125 8.296875 \r\nQ 12.9375 14.109375 22.625 23.890625 \r\nQ 32.328125 33.6875 34.8125 36.53125 \r\nQ 39.546875 41.84375 41.421875 45.53125 \r\nQ 43.3125 49.21875 43.3125 52.78125 \r\nQ 43.3125 58.59375 39.234375 62.25 \r\nQ 35.15625 65.921875 28.609375 65.921875 \r\nQ 23.96875 65.921875 18.8125 64.3125 \r\nQ 13.671875 62.703125 7.8125 59.421875 \r\nL 7.8125 69.390625 \r\nQ 13.765625 71.78125 18.9375 73 \r\nQ 24.125 74.21875 28.421875 74.21875 \r\nQ 39.75 74.21875 46.484375 68.546875 \r\nQ 53.21875 62.890625 53.21875 53.421875 \r\nQ 53.21875 48.921875 51.53125 44.890625 \r\nQ 49.859375 40.875 45.40625 35.40625 \r\nQ 44.1875 33.984375 37.640625 27.21875 \r\nQ 31.109375 20.453125 19.1875 8.296875 \r\nz\r\n\" id=\"DejaVuSans-32\"/>\r\n      </defs>\r\n      <g transform=\"translate(230.73821 242.738437)scale(0.1 -0.1)\">\r\n       <use xlink:href=\"#DejaVuSans-32\"/>\r\n       <use x=\"63.623047\" xlink:href=\"#DejaVuSans-2e\"/>\r\n       <use x=\"95.410156\" xlink:href=\"#DejaVuSans-30\"/>\r\n      </g>\r\n     </g>\r\n    </g>\r\n    <g id=\"xtick_6\">\r\n     <g id=\"line2d_6\">\r\n      <g>\r\n       <use style=\"stroke:#000000;stroke-width:0.8;\" x=\"289.417045\" xlink:href=\"#m5e09b0ba3d\" y=\"228.14\"/>\r\n      </g>\r\n     </g>\r\n     <g id=\"text_6\">\r\n      <!-- 2.5 -->\r\n      <g transform=\"translate(281.465483 242.738437)scale(0.1 -0.1)\">\r\n       <use xlink:href=\"#DejaVuSans-32\"/>\r\n       <use x=\"63.623047\" xlink:href=\"#DejaVuSans-2e\"/>\r\n       <use x=\"95.410156\" xlink:href=\"#DejaVuSans-35\"/>\r\n      </g>\r\n     </g>\r\n    </g>\r\n    <g id=\"xtick_7\">\r\n     <g id=\"line2d_7\">\r\n      <g>\r\n       <use style=\"stroke:#000000;stroke-width:0.8;\" x=\"340.144318\" xlink:href=\"#m5e09b0ba3d\" y=\"228.14\"/>\r\n      </g>\r\n     </g>\r\n     <g id=\"text_7\">\r\n      <!-- 3.0 -->\r\n      <defs>\r\n       <path d=\"M 40.578125 39.3125 \r\nQ 47.65625 37.796875 51.625 33 \r\nQ 55.609375 28.21875 55.609375 21.1875 \r\nQ 55.609375 10.40625 48.1875 4.484375 \r\nQ 40.765625 -1.421875 27.09375 -1.421875 \r\nQ 22.515625 -1.421875 17.65625 -0.515625 \r\nQ 12.796875 0.390625 7.625 2.203125 \r\nL 7.625 11.71875 \r\nQ 11.71875 9.328125 16.59375 8.109375 \r\nQ 21.484375 6.890625 26.8125 6.890625 \r\nQ 36.078125 6.890625 40.9375 10.546875 \r\nQ 45.796875 14.203125 45.796875 21.1875 \r\nQ 45.796875 27.640625 41.28125 31.265625 \r\nQ 36.765625 34.90625 28.71875 34.90625 \r\nL 20.21875 34.90625 \r\nL 20.21875 43.015625 \r\nL 29.109375 43.015625 \r\nQ 36.375 43.015625 40.234375 45.921875 \r\nQ 44.09375 48.828125 44.09375 54.296875 \r\nQ 44.09375 59.90625 40.109375 62.90625 \r\nQ 36.140625 65.921875 28.71875 65.921875 \r\nQ 24.65625 65.921875 20.015625 65.03125 \r\nQ 15.375 64.15625 9.8125 62.3125 \r\nL 9.8125 71.09375 \r\nQ 15.4375 72.65625 20.34375 73.4375 \r\nQ 25.25 74.21875 29.59375 74.21875 \r\nQ 40.828125 74.21875 47.359375 69.109375 \r\nQ 53.90625 64.015625 53.90625 55.328125 \r\nQ 53.90625 49.265625 50.4375 45.09375 \r\nQ 46.96875 40.921875 40.578125 39.3125 \r\nz\r\n\" id=\"DejaVuSans-33\"/>\r\n      </defs>\r\n      <g transform=\"translate(332.192756 242.738437)scale(0.1 -0.1)\">\r\n       <use xlink:href=\"#DejaVuSans-33\"/>\r\n       <use x=\"63.623047\" xlink:href=\"#DejaVuSans-2e\"/>\r\n       <use x=\"95.410156\" xlink:href=\"#DejaVuSans-30\"/>\r\n      </g>\r\n     </g>\r\n    </g>\r\n   </g>\r\n   <g id=\"matplotlib.axis_2\">\r\n    <g id=\"ytick_1\">\r\n     <g id=\"line2d_8\">\r\n      <defs>\r\n       <path d=\"M 0 0 \r\nL -3.5 0 \r\n\" id=\"m8811b0c64e\" style=\"stroke:#000000;stroke-width:0.8;\"/>\r\n      </defs>\r\n      <g>\r\n       <use style=\"stroke:#000000;stroke-width:0.8;\" x=\"20.5625\" xlink:href=\"#m8811b0c64e\" y=\"218.256364\"/>\r\n      </g>\r\n     </g>\r\n     <g id=\"text_8\">\r\n      <!-- 0 -->\r\n      <g transform=\"translate(7.2 222.055582)scale(0.1 -0.1)\">\r\n       <use xlink:href=\"#DejaVuSans-30\"/>\r\n      </g>\r\n     </g>\r\n    </g>\r\n    <g id=\"ytick_2\">\r\n     <g id=\"line2d_9\">\r\n      <g>\r\n       <use style=\"stroke:#000000;stroke-width:0.8;\" x=\"20.5625\" xlink:href=\"#m8811b0c64e\" y=\"174.329091\"/>\r\n      </g>\r\n     </g>\r\n     <g id=\"text_9\">\r\n      <!-- 2 -->\r\n      <g transform=\"translate(7.2 178.12831)scale(0.1 -0.1)\">\r\n       <use xlink:href=\"#DejaVuSans-32\"/>\r\n      </g>\r\n     </g>\r\n    </g>\r\n    <g id=\"ytick_3\">\r\n     <g id=\"line2d_10\">\r\n      <g>\r\n       <use style=\"stroke:#000000;stroke-width:0.8;\" x=\"20.5625\" xlink:href=\"#m8811b0c64e\" y=\"130.401818\"/>\r\n      </g>\r\n     </g>\r\n     <g id=\"text_10\">\r\n      <!-- 4 -->\r\n      <defs>\r\n       <path d=\"M 37.796875 64.3125 \r\nL 12.890625 25.390625 \r\nL 37.796875 25.390625 \r\nz\r\nM 35.203125 72.90625 \r\nL 47.609375 72.90625 \r\nL 47.609375 25.390625 \r\nL 58.015625 25.390625 \r\nL 58.015625 17.1875 \r\nL 47.609375 17.1875 \r\nL 47.609375 0 \r\nL 37.796875 0 \r\nL 37.796875 17.1875 \r\nL 4.890625 17.1875 \r\nL 4.890625 26.703125 \r\nz\r\n\" id=\"DejaVuSans-34\"/>\r\n      </defs>\r\n      <g transform=\"translate(7.2 134.201037)scale(0.1 -0.1)\">\r\n       <use xlink:href=\"#DejaVuSans-34\"/>\r\n      </g>\r\n     </g>\r\n    </g>\r\n    <g id=\"ytick_4\">\r\n     <g id=\"line2d_11\">\r\n      <g>\r\n       <use style=\"stroke:#000000;stroke-width:0.8;\" x=\"20.5625\" xlink:href=\"#m8811b0c64e\" y=\"86.474545\"/>\r\n      </g>\r\n     </g>\r\n     <g id=\"text_11\">\r\n      <!-- 6 -->\r\n      <defs>\r\n       <path d=\"M 33.015625 40.375 \r\nQ 26.375 40.375 22.484375 35.828125 \r\nQ 18.609375 31.296875 18.609375 23.390625 \r\nQ 18.609375 15.53125 22.484375 10.953125 \r\nQ 26.375 6.390625 33.015625 6.390625 \r\nQ 39.65625 6.390625 43.53125 10.953125 \r\nQ 47.40625 15.53125 47.40625 23.390625 \r\nQ 47.40625 31.296875 43.53125 35.828125 \r\nQ 39.65625 40.375 33.015625 40.375 \r\nz\r\nM 52.59375 71.296875 \r\nL 52.59375 62.3125 \r\nQ 48.875 64.0625 45.09375 64.984375 \r\nQ 41.3125 65.921875 37.59375 65.921875 \r\nQ 27.828125 65.921875 22.671875 59.328125 \r\nQ 17.53125 52.734375 16.796875 39.40625 \r\nQ 19.671875 43.65625 24.015625 45.921875 \r\nQ 28.375 48.1875 33.59375 48.1875 \r\nQ 44.578125 48.1875 50.953125 41.515625 \r\nQ 57.328125 34.859375 57.328125 23.390625 \r\nQ 57.328125 12.15625 50.6875 5.359375 \r\nQ 44.046875 -1.421875 33.015625 -1.421875 \r\nQ 20.359375 -1.421875 13.671875 8.265625 \r\nQ 6.984375 17.96875 6.984375 36.375 \r\nQ 6.984375 53.65625 15.1875 63.9375 \r\nQ 23.390625 74.21875 37.203125 74.21875 \r\nQ 40.921875 74.21875 44.703125 73.484375 \r\nQ 48.484375 72.75 52.59375 71.296875 \r\nz\r\n\" id=\"DejaVuSans-36\"/>\r\n      </defs>\r\n      <g transform=\"translate(7.2 90.273764)scale(0.1 -0.1)\">\r\n       <use xlink:href=\"#DejaVuSans-36\"/>\r\n      </g>\r\n     </g>\r\n    </g>\r\n    <g id=\"ytick_5\">\r\n     <g id=\"line2d_12\">\r\n      <g>\r\n       <use style=\"stroke:#000000;stroke-width:0.8;\" x=\"20.5625\" xlink:href=\"#m8811b0c64e\" y=\"42.547273\"/>\r\n      </g>\r\n     </g>\r\n     <g id=\"text_12\">\r\n      <!-- 8 -->\r\n      <defs>\r\n       <path d=\"M 31.78125 34.625 \r\nQ 24.75 34.625 20.71875 30.859375 \r\nQ 16.703125 27.09375 16.703125 20.515625 \r\nQ 16.703125 13.921875 20.71875 10.15625 \r\nQ 24.75 6.390625 31.78125 6.390625 \r\nQ 38.8125 6.390625 42.859375 10.171875 \r\nQ 46.921875 13.96875 46.921875 20.515625 \r\nQ 46.921875 27.09375 42.890625 30.859375 \r\nQ 38.875 34.625 31.78125 34.625 \r\nz\r\nM 21.921875 38.8125 \r\nQ 15.578125 40.375 12.03125 44.71875 \r\nQ 8.5 49.078125 8.5 55.328125 \r\nQ 8.5 64.0625 14.71875 69.140625 \r\nQ 20.953125 74.21875 31.78125 74.21875 \r\nQ 42.671875 74.21875 48.875 69.140625 \r\nQ 55.078125 64.0625 55.078125 55.328125 \r\nQ 55.078125 49.078125 51.53125 44.71875 \r\nQ 48 40.375 41.703125 38.8125 \r\nQ 48.828125 37.15625 52.796875 32.3125 \r\nQ 56.78125 27.484375 56.78125 20.515625 \r\nQ 56.78125 9.90625 50.3125 4.234375 \r\nQ 43.84375 -1.421875 31.78125 -1.421875 \r\nQ 19.734375 -1.421875 13.25 4.234375 \r\nQ 6.78125 9.90625 6.78125 20.515625 \r\nQ 6.78125 27.484375 10.78125 32.3125 \r\nQ 14.796875 37.15625 21.921875 38.8125 \r\nz\r\nM 18.3125 54.390625 \r\nQ 18.3125 48.734375 21.84375 45.5625 \r\nQ 25.390625 42.390625 31.78125 42.390625 \r\nQ 38.140625 42.390625 41.71875 45.5625 \r\nQ 45.3125 48.734375 45.3125 54.390625 \r\nQ 45.3125 60.0625 41.71875 63.234375 \r\nQ 38.140625 66.40625 31.78125 66.40625 \r\nQ 25.390625 66.40625 21.84375 63.234375 \r\nQ 18.3125 60.0625 18.3125 54.390625 \r\nz\r\n\" id=\"DejaVuSans-38\"/>\r\n      </defs>\r\n      <g transform=\"translate(7.2 46.346491)scale(0.1 -0.1)\">\r\n       <use xlink:href=\"#DejaVuSans-38\"/>\r\n      </g>\r\n     </g>\r\n    </g>\r\n   </g>\r\n   <g id=\"line2d_13\">\r\n    <path clip-path=\"url(#p6ba31d0f0c)\" d=\"M 35.780682 218.256364 \r\nL 69.598864 196.292727 \r\nL 103.417045 174.329091 \r\nL 137.235227 152.365455 \r\nL 171.053409 130.401818 \r\nL 204.871591 108.438182 \r\nL 238.689773 86.474545 \r\nL 272.507955 64.510909 \r\nL 306.326136 42.547273 \r\nL 340.144318 20.583636 \r\n\" style=\"fill:none;stroke:#1f77b4;stroke-linecap:square;stroke-width:1.5;\"/>\r\n   </g>\r\n   <g id=\"line2d_14\">\r\n    <defs>\r\n     <path d=\"M 0 3 \r\nC 0.795609 3 1.55874 2.683901 2.12132 2.12132 \r\nC 2.683901 1.55874 3 0.795609 3 0 \r\nC 3 -0.795609 2.683901 -1.55874 2.12132 -2.12132 \r\nC 1.55874 -2.683901 0.795609 -3 0 -3 \r\nC -0.795609 -3 -1.55874 -2.683901 -2.12132 -2.12132 \r\nC -2.683901 -1.55874 -3 -0.795609 -3 0 \r\nC -3 0.795609 -2.683901 1.55874 -2.12132 2.12132 \r\nC -1.55874 2.683901 -0.795609 3 0 3 \r\nz\r\n\" id=\"ma35d60dcaf\" style=\"stroke:#ff7f0e;\"/>\r\n    </defs>\r\n    <g clip-path=\"url(#p6ba31d0f0c)\">\r\n     <use style=\"fill:#ff7f0e;stroke:#ff7f0e;\" x=\"35.780682\" xlink:href=\"#ma35d60dcaf\" y=\"218.256364\"/>\r\n     <use style=\"fill:#ff7f0e;stroke:#ff7f0e;\" x=\"69.598864\" xlink:href=\"#ma35d60dcaf\" y=\"196.292727\"/>\r\n     <use style=\"fill:#ff7f0e;stroke:#ff7f0e;\" x=\"103.417045\" xlink:href=\"#ma35d60dcaf\" y=\"174.329091\"/>\r\n     <use style=\"fill:#ff7f0e;stroke:#ff7f0e;\" x=\"137.235227\" xlink:href=\"#ma35d60dcaf\" y=\"152.365455\"/>\r\n     <use style=\"fill:#ff7f0e;stroke:#ff7f0e;\" x=\"171.053409\" xlink:href=\"#ma35d60dcaf\" y=\"130.401818\"/>\r\n     <use style=\"fill:#ff7f0e;stroke:#ff7f0e;\" x=\"204.871591\" xlink:href=\"#ma35d60dcaf\" y=\"108.438182\"/>\r\n     <use style=\"fill:#ff7f0e;stroke:#ff7f0e;\" x=\"238.689773\" xlink:href=\"#ma35d60dcaf\" y=\"86.474545\"/>\r\n     <use style=\"fill:#ff7f0e;stroke:#ff7f0e;\" x=\"272.507955\" xlink:href=\"#ma35d60dcaf\" y=\"64.510909\"/>\r\n     <use style=\"fill:#ff7f0e;stroke:#ff7f0e;\" x=\"306.326136\" xlink:href=\"#ma35d60dcaf\" y=\"42.547273\"/>\r\n     <use style=\"fill:#ff7f0e;stroke:#ff7f0e;\" x=\"340.144318\" xlink:href=\"#ma35d60dcaf\" y=\"20.583636\"/>\r\n    </g>\r\n   </g>\r\n   <g id=\"patch_3\">\r\n    <path d=\"M 20.5625 228.14 \r\nL 20.5625 10.7 \r\n\" style=\"fill:none;stroke:#000000;stroke-linecap:square;stroke-linejoin:miter;stroke-width:0.8;\"/>\r\n   </g>\r\n   <g id=\"patch_4\">\r\n    <path d=\"M 355.3625 228.14 \r\nL 355.3625 10.7 \r\n\" style=\"fill:none;stroke:#000000;stroke-linecap:square;stroke-linejoin:miter;stroke-width:0.8;\"/>\r\n   </g>\r\n   <g id=\"patch_5\">\r\n    <path d=\"M 20.5625 228.14 \r\nL 355.3625 228.14 \r\n\" style=\"fill:none;stroke:#000000;stroke-linecap:square;stroke-linejoin:miter;stroke-width:0.8;\"/>\r\n   </g>\r\n   <g id=\"patch_6\">\r\n    <path d=\"M 20.5625 10.7 \r\nL 355.3625 10.7 \r\n\" style=\"fill:none;stroke:#000000;stroke-linecap:square;stroke-linejoin:miter;stroke-width:0.8;\"/>\r\n   </g>\r\n  </g>\r\n </g>\r\n <defs>\r\n  <clipPath id=\"p6ba31d0f0c\">\r\n   <rect height=\"217.44\" width=\"334.8\" x=\"20.5625\" y=\"10.7\"/>\r\n  </clipPath>\r\n </defs>\r\n</svg>\r\n",
      "text/plain": "<matplotlib.figure.Figure at 0x20ddc7e93c8>"
     },
     "metadata": {
      "needs_background": "light"
     },
     "output_type": "display_data"
    }
   ],
   "source": [
    "x = np.linspace(0, 3, 10)\n",
    "y = np.linspace(0, 9, 10)\n",
    "plt.plot(x, y)       # line plot\n",
    "plt.plot(x, y, 'o')  # dot plot"
   ]
  },
  {
   "cell_type": "code",
   "execution_count": 317,
   "metadata": {},
   "outputs": [
    {
     "data": {
      "text/plain": "<matplotlib.colorbar.Colorbar at 0x20ddcd6a358>"
     },
     "execution_count": 317,
     "metadata": {},
     "output_type": "execute_result"
    },
    {
     "data": {
      "image/svg+xml": "<?xml version=\"1.0\" encoding=\"utf-8\" standalone=\"no\"?>\r\n<!DOCTYPE svg PUBLIC \"-//W3C//DTD SVG 1.1//EN\"\r\n  \"http://www.w3.org/Graphics/SVG/1.1/DTD/svg11.dtd\">\r\n<!-- Created with matplotlib (http://matplotlib.org/) -->\r\n<svg height=\"252pt\" version=\"1.1\" viewBox=\"0 0 295 252\" width=\"295pt\" xmlns=\"http://www.w3.org/2000/svg\" xmlns:xlink=\"http://www.w3.org/1999/xlink\">\r\n <defs>\r\n  <style type=\"text/css\">\r\n*{stroke-linecap:butt;stroke-linejoin:round;}\r\n  </style>\r\n </defs>\r\n <g id=\"figure_1\">\r\n  <g id=\"patch_1\">\r\n   <path d=\"M 0 252.018125 \r\nL 295.717625 252.018125 \r\nL 295.717625 0 \r\nL 0 0 \r\nz\r\n\" style=\"fill:none;\"/>\r\n  </g>\r\n  <g id=\"axes_1\">\r\n   <g id=\"patch_2\">\r\n    <path d=\"M 20.5625 228.14 \r\nL 238.0025 228.14 \r\nL 238.0025 10.7 \r\nL 20.5625 10.7 \r\nz\r\n\" style=\"fill:#ffffff;\"/>\r\n   </g>\r\n   <g clip-path=\"url(#p5bd5d9a9a2)\">\r\n    <image height=\"218\" id=\"image6f74ac1451\" transform=\"scale(1 -1)translate(0 -218)\" width=\"218\" x=\"20.5625\" xlink:href=\"data:image/png;base64,\r\niVBORw0KGgoAAAANSUhEUgAAANoAAADaCAYAAADAHVzbAAAABHNCSVQICAgIfAhkiAAABItJREFUeJzt3L/rr3McxvHrJgYHRTkKnWI5g04io4GzKR0dJp2kjJavH6XUKWcwoXM6deIkScokHT/OYlE6BoNfZTql43TyHY5BKQzEbTiT/X5d0+PxB1zD3ef5eW+vZf05awYcvGNiNfl0YHPPenhgNcnBMzO7L87MHn94ZvfswObn68jPNrl6GZm9amQV+B+hQYHQoEBoUCA0KBAaFAgNCoQGBUKDAqFBgdCgQGhQIDQoEBoUCA0KhAYFQoMCoUGB0KBAaFAgNChYjmTmCtYtE6NJTty8/eZLv26/mSRvzczm+NDuU7cNDR/afvLU6e03k+TizKwXDRqEBgVCgwKhQYHQoEBoUCA0KBAaFAgNCoQGBUKDAqFBgdCgQGhQIDQoEBoUCA0KhAYFQoMCoUGB0KBg+W3oCtaN5ydWk3P7t9+8dfvJJCPHn5IkHw7t3r2+MjN8/Oj2m8//vf1mkuxeMzLrRYMCoUGB0KBAaFAgNCgQGhQIDQqEBgVCgwKhQYHQoEBoUCA0KBAaFAgNCoQGBUKDAqFBgdCgQGhQsKzrvpHjPG8slyZm88yPA6M7A5tJcvaHkdmd5cDI7snDI7N58Mz2mw9sP5kk+Wxo14sGBUKDAqFBgdCgQGhQIDQoEBoUCA0KhAYFQoMCoUGB0KBAaFAgNCgQGhQIDQqEBgVCgwKhQYHQoEBoULCsd2bkCtbuTxOryT8Dm18PbCbJY+t1I7t7lz9Hdn/5cmQ2BwZOVh3dfjJJ8ubQrhcNCoQGBUKDAqFBgdCgQGhQIDQoEBoUCA0KhAYFQoMCoUGB0KBAaFAgNCgQGhQIDQqEBgVCgwKhQYHQoGBZj8xcwcpzI6v55v7tN6cuH729znyER5cTI7tTPn5oYPTiwGaSXJg53+ZFgwKhQYHQoEBoUCA0KBAaFAgNCoQGBUKDAqFBgdCgQGhQIDQoEBoUCA0KhAYFQoMCoUGB0KBAaFAgNChYns3MFawTL0ysJnn9vs0n/1q+3XwzSa6d+hu7PLR7emj33u0nTz6y/WaS7Hwxs+tFgwKhQYHQoEBoUCA0KBAaFAgNCoQGBUKDAqFBgdCgQGhQIDQoEBoUCA0KhAYFQoMCoUGB0KBAaFAgNChY1v0zV7CePj+xmryz3rX96O6F7TeT5KuZ2Tz+3czu7wPnqpJcumH7zX3rE9uPJkleHVn1okGB0KBAaFAgNCgQGhQIDQqEBgVCgwKhQYHQoEBoUCA0KBAaFAgNCoQGBUKDAqFBgdCgQGhQIDQoWNb12MhxnmRnZPWj5abNN49tvnjF9/8ODS/nhoY/GVnds7y2+eYf92w+ecXuzKwXDQqEBgVCgwKhQYHQoEBoUCA0KBAaFAgNCoQGBUKDAqFBgdCgQGhQIDQoEBoUCA0KhAYFQoMCoUGB0KBgeS8ZuYL15OWJ1SR73x0YvX5gM0neH9qd+ri3j6xeWj7YfHPfzMGuvHxoZteLBgVCgwKhQYHQoEBoUCA0KBAaFAgNCoQGBUKDAqFBgdCgQGhQIDQoEBoUCA0KhAYFQoMCoUGB0KBAaFDwHyPNaHrfug8UAAAAAElFTkSuQmCC\" y=\"-10.14\"/>\r\n   </g>\r\n   <g id=\"matplotlib.axis_1\">\r\n    <g id=\"xtick_1\">\r\n     <g id=\"line2d_1\">\r\n      <defs>\r\n       <path d=\"M 0 0 \r\nL 0 3.5 \r\n\" id=\"md324f2a666\" style=\"stroke:#000000;stroke-width:0.8;\"/>\r\n      </defs>\r\n      <g>\r\n       <use style=\"stroke:#000000;stroke-width:0.8;\" x=\"31.4345\" xlink:href=\"#md324f2a666\" y=\"228.14\"/>\r\n      </g>\r\n     </g>\r\n     <g id=\"text_1\">\r\n      <!-- 0 -->\r\n      <defs>\r\n       <path d=\"M 31.78125 66.40625 \r\nQ 24.171875 66.40625 20.328125 58.90625 \r\nQ 16.5 51.421875 16.5 36.375 \r\nQ 16.5 21.390625 20.328125 13.890625 \r\nQ 24.171875 6.390625 31.78125 6.390625 \r\nQ 39.453125 6.390625 43.28125 13.890625 \r\nQ 47.125 21.390625 47.125 36.375 \r\nQ 47.125 51.421875 43.28125 58.90625 \r\nQ 39.453125 66.40625 31.78125 66.40625 \r\nz\r\nM 31.78125 74.21875 \r\nQ 44.046875 74.21875 50.515625 64.515625 \r\nQ 56.984375 54.828125 56.984375 36.375 \r\nQ 56.984375 17.96875 50.515625 8.265625 \r\nQ 44.046875 -1.421875 31.78125 -1.421875 \r\nQ 19.53125 -1.421875 13.0625 8.265625 \r\nQ 6.59375 17.96875 6.59375 36.375 \r\nQ 6.59375 54.828125 13.0625 64.515625 \r\nQ 19.53125 74.21875 31.78125 74.21875 \r\nz\r\n\" id=\"DejaVuSans-30\"/>\r\n      </defs>\r\n      <g transform=\"translate(28.25325 242.738437)scale(0.1 -0.1)\">\r\n       <use xlink:href=\"#DejaVuSans-30\"/>\r\n      </g>\r\n     </g>\r\n    </g>\r\n    <g id=\"xtick_2\">\r\n     <g id=\"line2d_2\">\r\n      <g>\r\n       <use style=\"stroke:#000000;stroke-width:0.8;\" x=\"74.9225\" xlink:href=\"#md324f2a666\" y=\"228.14\"/>\r\n      </g>\r\n     </g>\r\n     <g id=\"text_2\">\r\n      <!-- 2 -->\r\n      <defs>\r\n       <path d=\"M 19.1875 8.296875 \r\nL 53.609375 8.296875 \r\nL 53.609375 0 \r\nL 7.328125 0 \r\nL 7.328125 8.296875 \r\nQ 12.9375 14.109375 22.625 23.890625 \r\nQ 32.328125 33.6875 34.8125 36.53125 \r\nQ 39.546875 41.84375 41.421875 45.53125 \r\nQ 43.3125 49.21875 43.3125 52.78125 \r\nQ 43.3125 58.59375 39.234375 62.25 \r\nQ 35.15625 65.921875 28.609375 65.921875 \r\nQ 23.96875 65.921875 18.8125 64.3125 \r\nQ 13.671875 62.703125 7.8125 59.421875 \r\nL 7.8125 69.390625 \r\nQ 13.765625 71.78125 18.9375 73 \r\nQ 24.125 74.21875 28.421875 74.21875 \r\nQ 39.75 74.21875 46.484375 68.546875 \r\nQ 53.21875 62.890625 53.21875 53.421875 \r\nQ 53.21875 48.921875 51.53125 44.890625 \r\nQ 49.859375 40.875 45.40625 35.40625 \r\nQ 44.1875 33.984375 37.640625 27.21875 \r\nQ 31.109375 20.453125 19.1875 8.296875 \r\nz\r\n\" id=\"DejaVuSans-32\"/>\r\n      </defs>\r\n      <g transform=\"translate(71.74125 242.738437)scale(0.1 -0.1)\">\r\n       <use xlink:href=\"#DejaVuSans-32\"/>\r\n      </g>\r\n     </g>\r\n    </g>\r\n    <g id=\"xtick_3\">\r\n     <g id=\"line2d_3\">\r\n      <g>\r\n       <use style=\"stroke:#000000;stroke-width:0.8;\" x=\"118.4105\" xlink:href=\"#md324f2a666\" y=\"228.14\"/>\r\n      </g>\r\n     </g>\r\n     <g id=\"text_3\">\r\n      <!-- 4 -->\r\n      <defs>\r\n       <path d=\"M 37.796875 64.3125 \r\nL 12.890625 25.390625 \r\nL 37.796875 25.390625 \r\nz\r\nM 35.203125 72.90625 \r\nL 47.609375 72.90625 \r\nL 47.609375 25.390625 \r\nL 58.015625 25.390625 \r\nL 58.015625 17.1875 \r\nL 47.609375 17.1875 \r\nL 47.609375 0 \r\nL 37.796875 0 \r\nL 37.796875 17.1875 \r\nL 4.890625 17.1875 \r\nL 4.890625 26.703125 \r\nz\r\n\" id=\"DejaVuSans-34\"/>\r\n      </defs>\r\n      <g transform=\"translate(115.22925 242.738437)scale(0.1 -0.1)\">\r\n       <use xlink:href=\"#DejaVuSans-34\"/>\r\n      </g>\r\n     </g>\r\n    </g>\r\n    <g id=\"xtick_4\">\r\n     <g id=\"line2d_4\">\r\n      <g>\r\n       <use style=\"stroke:#000000;stroke-width:0.8;\" x=\"161.8985\" xlink:href=\"#md324f2a666\" y=\"228.14\"/>\r\n      </g>\r\n     </g>\r\n     <g id=\"text_4\">\r\n      <!-- 6 -->\r\n      <defs>\r\n       <path d=\"M 33.015625 40.375 \r\nQ 26.375 40.375 22.484375 35.828125 \r\nQ 18.609375 31.296875 18.609375 23.390625 \r\nQ 18.609375 15.53125 22.484375 10.953125 \r\nQ 26.375 6.390625 33.015625 6.390625 \r\nQ 39.65625 6.390625 43.53125 10.953125 \r\nQ 47.40625 15.53125 47.40625 23.390625 \r\nQ 47.40625 31.296875 43.53125 35.828125 \r\nQ 39.65625 40.375 33.015625 40.375 \r\nz\r\nM 52.59375 71.296875 \r\nL 52.59375 62.3125 \r\nQ 48.875 64.0625 45.09375 64.984375 \r\nQ 41.3125 65.921875 37.59375 65.921875 \r\nQ 27.828125 65.921875 22.671875 59.328125 \r\nQ 17.53125 52.734375 16.796875 39.40625 \r\nQ 19.671875 43.65625 24.015625 45.921875 \r\nQ 28.375 48.1875 33.59375 48.1875 \r\nQ 44.578125 48.1875 50.953125 41.515625 \r\nQ 57.328125 34.859375 57.328125 23.390625 \r\nQ 57.328125 12.15625 50.6875 5.359375 \r\nQ 44.046875 -1.421875 33.015625 -1.421875 \r\nQ 20.359375 -1.421875 13.671875 8.265625 \r\nQ 6.984375 17.96875 6.984375 36.375 \r\nQ 6.984375 53.65625 15.1875 63.9375 \r\nQ 23.390625 74.21875 37.203125 74.21875 \r\nQ 40.921875 74.21875 44.703125 73.484375 \r\nQ 48.484375 72.75 52.59375 71.296875 \r\nz\r\n\" id=\"DejaVuSans-36\"/>\r\n      </defs>\r\n      <g transform=\"translate(158.71725 242.738437)scale(0.1 -0.1)\">\r\n       <use xlink:href=\"#DejaVuSans-36\"/>\r\n      </g>\r\n     </g>\r\n    </g>\r\n    <g id=\"xtick_5\">\r\n     <g id=\"line2d_5\">\r\n      <g>\r\n       <use style=\"stroke:#000000;stroke-width:0.8;\" x=\"205.3865\" xlink:href=\"#md324f2a666\" y=\"228.14\"/>\r\n      </g>\r\n     </g>\r\n     <g id=\"text_5\">\r\n      <!-- 8 -->\r\n      <defs>\r\n       <path d=\"M 31.78125 34.625 \r\nQ 24.75 34.625 20.71875 30.859375 \r\nQ 16.703125 27.09375 16.703125 20.515625 \r\nQ 16.703125 13.921875 20.71875 10.15625 \r\nQ 24.75 6.390625 31.78125 6.390625 \r\nQ 38.8125 6.390625 42.859375 10.171875 \r\nQ 46.921875 13.96875 46.921875 20.515625 \r\nQ 46.921875 27.09375 42.890625 30.859375 \r\nQ 38.875 34.625 31.78125 34.625 \r\nz\r\nM 21.921875 38.8125 \r\nQ 15.578125 40.375 12.03125 44.71875 \r\nQ 8.5 49.078125 8.5 55.328125 \r\nQ 8.5 64.0625 14.71875 69.140625 \r\nQ 20.953125 74.21875 31.78125 74.21875 \r\nQ 42.671875 74.21875 48.875 69.140625 \r\nQ 55.078125 64.0625 55.078125 55.328125 \r\nQ 55.078125 49.078125 51.53125 44.71875 \r\nQ 48 40.375 41.703125 38.8125 \r\nQ 48.828125 37.15625 52.796875 32.3125 \r\nQ 56.78125 27.484375 56.78125 20.515625 \r\nQ 56.78125 9.90625 50.3125 4.234375 \r\nQ 43.84375 -1.421875 31.78125 -1.421875 \r\nQ 19.734375 -1.421875 13.25 4.234375 \r\nQ 6.78125 9.90625 6.78125 20.515625 \r\nQ 6.78125 27.484375 10.78125 32.3125 \r\nQ 14.796875 37.15625 21.921875 38.8125 \r\nz\r\nM 18.3125 54.390625 \r\nQ 18.3125 48.734375 21.84375 45.5625 \r\nQ 25.390625 42.390625 31.78125 42.390625 \r\nQ 38.140625 42.390625 41.71875 45.5625 \r\nQ 45.3125 48.734375 45.3125 54.390625 \r\nQ 45.3125 60.0625 41.71875 63.234375 \r\nQ 38.140625 66.40625 31.78125 66.40625 \r\nQ 25.390625 66.40625 21.84375 63.234375 \r\nQ 18.3125 60.0625 18.3125 54.390625 \r\nz\r\n\" id=\"DejaVuSans-38\"/>\r\n      </defs>\r\n      <g transform=\"translate(202.20525 242.738437)scale(0.1 -0.1)\">\r\n       <use xlink:href=\"#DejaVuSans-38\"/>\r\n      </g>\r\n     </g>\r\n    </g>\r\n   </g>\r\n   <g id=\"matplotlib.axis_2\">\r\n    <g id=\"ytick_1\">\r\n     <g id=\"line2d_6\">\r\n      <defs>\r\n       <path d=\"M 0 0 \r\nL -3.5 0 \r\n\" id=\"md4d76fbaf6\" style=\"stroke:#000000;stroke-width:0.8;\"/>\r\n      </defs>\r\n      <g>\r\n       <use style=\"stroke:#000000;stroke-width:0.8;\" x=\"20.5625\" xlink:href=\"#md4d76fbaf6\" y=\"21.572\"/>\r\n      </g>\r\n     </g>\r\n     <g id=\"text_6\">\r\n      <!-- 0 -->\r\n      <g transform=\"translate(7.2 25.371219)scale(0.1 -0.1)\">\r\n       <use xlink:href=\"#DejaVuSans-30\"/>\r\n      </g>\r\n     </g>\r\n    </g>\r\n    <g id=\"ytick_2\">\r\n     <g id=\"line2d_7\">\r\n      <g>\r\n       <use style=\"stroke:#000000;stroke-width:0.8;\" x=\"20.5625\" xlink:href=\"#md4d76fbaf6\" y=\"65.06\"/>\r\n      </g>\r\n     </g>\r\n     <g id=\"text_7\">\r\n      <!-- 2 -->\r\n      <g transform=\"translate(7.2 68.859219)scale(0.1 -0.1)\">\r\n       <use xlink:href=\"#DejaVuSans-32\"/>\r\n      </g>\r\n     </g>\r\n    </g>\r\n    <g id=\"ytick_3\">\r\n     <g id=\"line2d_8\">\r\n      <g>\r\n       <use style=\"stroke:#000000;stroke-width:0.8;\" x=\"20.5625\" xlink:href=\"#md4d76fbaf6\" y=\"108.548\"/>\r\n      </g>\r\n     </g>\r\n     <g id=\"text_8\">\r\n      <!-- 4 -->\r\n      <g transform=\"translate(7.2 112.347219)scale(0.1 -0.1)\">\r\n       <use xlink:href=\"#DejaVuSans-34\"/>\r\n      </g>\r\n     </g>\r\n    </g>\r\n    <g id=\"ytick_4\">\r\n     <g id=\"line2d_9\">\r\n      <g>\r\n       <use style=\"stroke:#000000;stroke-width:0.8;\" x=\"20.5625\" xlink:href=\"#md4d76fbaf6\" y=\"152.036\"/>\r\n      </g>\r\n     </g>\r\n     <g id=\"text_9\">\r\n      <!-- 6 -->\r\n      <g transform=\"translate(7.2 155.835219)scale(0.1 -0.1)\">\r\n       <use xlink:href=\"#DejaVuSans-36\"/>\r\n      </g>\r\n     </g>\r\n    </g>\r\n    <g id=\"ytick_5\">\r\n     <g id=\"line2d_10\">\r\n      <g>\r\n       <use style=\"stroke:#000000;stroke-width:0.8;\" x=\"20.5625\" xlink:href=\"#md4d76fbaf6\" y=\"195.524\"/>\r\n      </g>\r\n     </g>\r\n     <g id=\"text_10\">\r\n      <!-- 8 -->\r\n      <g transform=\"translate(7.2 199.323219)scale(0.1 -0.1)\">\r\n       <use xlink:href=\"#DejaVuSans-38\"/>\r\n      </g>\r\n     </g>\r\n    </g>\r\n   </g>\r\n   <g id=\"patch_3\">\r\n    <path d=\"M 20.5625 228.14 \r\nL 20.5625 10.7 \r\n\" style=\"fill:none;stroke:#000000;stroke-linecap:square;stroke-linejoin:miter;stroke-width:0.8;\"/>\r\n   </g>\r\n   <g id=\"patch_4\">\r\n    <path d=\"M 238.0025 228.14 \r\nL 238.0025 10.7 \r\n\" style=\"fill:none;stroke:#000000;stroke-linecap:square;stroke-linejoin:miter;stroke-width:0.8;\"/>\r\n   </g>\r\n   <g id=\"patch_5\">\r\n    <path d=\"M 20.5625 228.14 \r\nL 238.0025 228.14 \r\n\" style=\"fill:none;stroke:#000000;stroke-linecap:square;stroke-linejoin:miter;stroke-width:0.8;\"/>\r\n   </g>\r\n   <g id=\"patch_6\">\r\n    <path d=\"M 20.5625 10.7 \r\nL 238.0025 10.7 \r\n\" style=\"fill:none;stroke:#000000;stroke-linecap:square;stroke-linejoin:miter;stroke-width:0.8;\"/>\r\n   </g>\r\n  </g>\r\n  <g id=\"axes_2\">\r\n   <g id=\"patch_7\">\r\n    <path clip-path=\"url(#p3c48ac1529)\" d=\"M 254.7425 228.14 \r\nL 254.7425 227.290625 \r\nL 254.7425 11.549375 \r\nL 254.7425 10.7 \r\nL 265.6145 10.7 \r\nL 265.6145 11.549375 \r\nL 265.6145 227.290625 \r\nL 265.6145 228.14 \r\nz\r\n\" style=\"fill:#ffffff;stroke:#ffffff;stroke-linejoin:miter;stroke-width:0.01;\"/>\r\n   </g>\r\n   <image height=\"217\" id=\"imageefcb10bc77\" transform=\"scale(1 -1)translate(0 -217)\" width=\"11\" x=\"255\" xlink:href=\"data:image/png;base64,\r\niVBORw0KGgoAAAANSUhEUgAAAAsAAADZCAYAAAD2WsoCAAAABHNCSVQICAgIfAhkiAAAANpJREFUaIHtWbsOxDAII720veX+/3PpmhFHojKcO1uWH4Qo6viZuQW/+YkizWweCBhiPtOYSQxCzFcac8Xo8maDJDrIIIlm1f2ODJJVULFuEoMV684z2L5ubf5t5vabv6LBinWTGESYhyOvNgOopwGiQTAkA7jbMg2SRAdMP43BPOa8NNobJJlnSIbq3mauWLc2/wquOBuqexvcvm6SNNobJJlnXfTbYCgNEs2QjHEDYJvdwUpjBX85ZLQ3GD/e/5CGDL4D1q5bwe1nI88gyfoiSSMOHu4e/oPwAGX9DUg1wT6oAAAAAElFTkSuQmCC\" y=\"-11\"/>\r\n   <g id=\"matplotlib.axis_3\"/>\r\n   <g id=\"matplotlib.axis_4\">\r\n    <g id=\"ytick_6\">\r\n     <g id=\"line2d_11\">\r\n      <defs>\r\n       <path d=\"M 0 0 \r\nL 3.5 0 \r\n\" id=\"m0bb5dd29ea\" style=\"stroke:#000000;stroke-width:0.8;\"/>\r\n      </defs>\r\n      <g>\r\n       <use style=\"stroke:#000000;stroke-width:0.8;\" x=\"265.6145\" xlink:href=\"#m0bb5dd29ea\" y=\"185.908144\"/>\r\n      </g>\r\n     </g>\r\n     <g id=\"text_11\">\r\n      <!-- 0.2 -->\r\n      <defs>\r\n       <path d=\"M 10.6875 12.40625 \r\nL 21 12.40625 \r\nL 21 0 \r\nL 10.6875 0 \r\nz\r\n\" id=\"DejaVuSans-2e\"/>\r\n      </defs>\r\n      <g transform=\"translate(272.6145 189.707362)scale(0.1 -0.1)\">\r\n       <use xlink:href=\"#DejaVuSans-30\"/>\r\n       <use x=\"63.623047\" xlink:href=\"#DejaVuSans-2e\"/>\r\n       <use x=\"95.410156\" xlink:href=\"#DejaVuSans-32\"/>\r\n      </g>\r\n     </g>\r\n    </g>\r\n    <g id=\"ytick_7\">\r\n     <g id=\"line2d_12\">\r\n      <g>\r\n       <use style=\"stroke:#000000;stroke-width:0.8;\" x=\"265.6145\" xlink:href=\"#m0bb5dd29ea\" y=\"140.723804\"/>\r\n      </g>\r\n     </g>\r\n     <g id=\"text_12\">\r\n      <!-- 0.4 -->\r\n      <g transform=\"translate(272.6145 144.523023)scale(0.1 -0.1)\">\r\n       <use xlink:href=\"#DejaVuSans-30\"/>\r\n       <use x=\"63.623047\" xlink:href=\"#DejaVuSans-2e\"/>\r\n       <use x=\"95.410156\" xlink:href=\"#DejaVuSans-34\"/>\r\n      </g>\r\n     </g>\r\n    </g>\r\n    <g id=\"ytick_8\">\r\n     <g id=\"line2d_13\">\r\n      <g>\r\n       <use style=\"stroke:#000000;stroke-width:0.8;\" x=\"265.6145\" xlink:href=\"#m0bb5dd29ea\" y=\"95.539464\"/>\r\n      </g>\r\n     </g>\r\n     <g id=\"text_13\">\r\n      <!-- 0.6 -->\r\n      <g transform=\"translate(272.6145 99.338683)scale(0.1 -0.1)\">\r\n       <use xlink:href=\"#DejaVuSans-30\"/>\r\n       <use x=\"63.623047\" xlink:href=\"#DejaVuSans-2e\"/>\r\n       <use x=\"95.410156\" xlink:href=\"#DejaVuSans-36\"/>\r\n      </g>\r\n     </g>\r\n    </g>\r\n    <g id=\"ytick_9\">\r\n     <g id=\"line2d_14\">\r\n      <g>\r\n       <use style=\"stroke:#000000;stroke-width:0.8;\" x=\"265.6145\" xlink:href=\"#m0bb5dd29ea\" y=\"50.355125\"/>\r\n      </g>\r\n     </g>\r\n     <g id=\"text_14\">\r\n      <!-- 0.8 -->\r\n      <g transform=\"translate(272.6145 54.154343)scale(0.1 -0.1)\">\r\n       <use xlink:href=\"#DejaVuSans-30\"/>\r\n       <use x=\"63.623047\" xlink:href=\"#DejaVuSans-2e\"/>\r\n       <use x=\"95.410156\" xlink:href=\"#DejaVuSans-38\"/>\r\n      </g>\r\n     </g>\r\n    </g>\r\n   </g>\r\n   <g id=\"patch_8\">\r\n    <path d=\"M 254.7425 228.14 \r\nL 254.7425 227.290625 \r\nL 254.7425 11.549375 \r\nL 254.7425 10.7 \r\nL 265.6145 10.7 \r\nL 265.6145 11.549375 \r\nL 265.6145 227.290625 \r\nL 265.6145 228.14 \r\nz\r\n\" style=\"fill:none;stroke:#000000;stroke-linejoin:miter;stroke-width:0.8;\"/>\r\n   </g>\r\n  </g>\r\n </g>\r\n <defs>\r\n  <clipPath id=\"p5bd5d9a9a2\">\r\n   <rect height=\"217.44\" width=\"217.44\" x=\"20.5625\" y=\"10.7\"/>\r\n  </clipPath>\r\n  <clipPath id=\"p3c48ac1529\">\r\n   <rect height=\"217.44\" width=\"10.872\" x=\"254.7425\" y=\"10.7\"/>\r\n  </clipPath>\r\n </defs>\r\n</svg>\r\n",
      "text/plain": "<matplotlib.figure.Figure at 0x20ddc760160>"
     },
     "metadata": {
      "needs_background": "light"
     },
     "output_type": "display_data"
    }
   ],
   "source": [
    "image = np.random.rand(10, 10)\n",
    "plt.imshow(image, cmap=plt.cm.hot)\n",
    "plt.colorbar()"
   ]
  },
  {
   "cell_type": "code",
   "execution_count": 322,
   "metadata": {},
   "outputs": [
    {
     "name": "stdout",
     "output_type": "stream",
     "text": "[0 2 4 6 8]\n"
    },
    {
     "data": {
      "text/plain": "(0, 4, 8)"
     },
     "execution_count": 322,
     "metadata": {},
     "output_type": "execute_result"
    }
   ],
   "source": [
    "#Indexing and Slicing\n",
    "a = np.arange(0,10,2)\n",
    "print(a)\n",
    "a[0], a[2], a[-1]"
   ]
  },
  {
   "cell_type": "code",
   "execution_count": 323,
   "metadata": {},
   "outputs": [
    {
     "data": {
      "text/plain": "array([8, 6, 4, 2, 0])"
     },
     "execution_count": 323,
     "metadata": {},
     "output_type": "execute_result"
    }
   ],
   "source": [
    "#Reverse\n",
    "a[::-1]"
   ]
  },
  {
   "cell_type": "code",
   "execution_count": 325,
   "metadata": {},
   "outputs": [
    {
     "name": "stdout",
     "output_type": "stream",
     "text": "[[0 0 0]\n [0 1 0]\n [0 0 2]]\n1\n"
    }
   ],
   "source": [
    "a = np.diag(np.arange(3))\n",
    "print(a)\n",
    "print(a[1, 1])"
   ]
  },
  {
   "cell_type": "code",
   "execution_count": 326,
   "metadata": {},
   "outputs": [
    {
     "name": "stdout",
     "output_type": "stream",
     "text": "[[ 0  0  0]\n [ 0  1  0]\n [ 0 10  2]]\n"
    }
   ],
   "source": [
    "a[2, 1] = 10 # third line, second column\n",
    "print(a)"
   ]
  },
  {
   "cell_type": "code",
   "execution_count": 328,
   "metadata": {},
   "outputs": [
    {
     "name": "stdout",
     "output_type": "stream",
     "text": "[0 1 2 3 4 5 6 7 8 9]\n"
    },
    {
     "data": {
      "text/plain": "array([2, 5, 8])"
     },
     "execution_count": 328,
     "metadata": {},
     "output_type": "execute_result"
    }
   ],
   "source": [
    "#Slicing\n",
    "a = np.arange(10)\n",
    "print(a)\n",
    "a[2:9:3]"
   ]
  },
  {
   "cell_type": "code",
   "execution_count": 331,
   "metadata": {},
   "outputs": [
    {
     "name": "stdout",
     "output_type": "stream",
     "text": "[0 1 2 3 4 5 6 7 8 9]\n[0 1]\n[17  1  2  3  4  5  6  7  8  9]\n[17  1]\n"
    }
   ],
   "source": [
    "#np.may_share_memory\n",
    "a = np.arange(10)\n",
    "b = a[:2]\n",
    "print(a)\n",
    "print(b)\n",
    "np.may_share_memory(a,b)\n",
    "b[0] = 17\n",
    "print(a)\n",
    "print(b)"
   ]
  },
  {
   "cell_type": "code",
   "execution_count": 334,
   "metadata": {},
   "outputs": [
    {
     "name": "stdout",
     "output_type": "stream",
     "text": "[0 1 2 3 4 5 6 7 8 9]\n[0 1]\n[0 1 2 3 4 5 6 7 8 9]\n[17  1]\n"
    }
   ],
   "source": [
    "#Force Copy\n",
    "a = np.arange(10)\n",
    "b = a[:2].copy()\n",
    "print(a)\n",
    "print(b)\n",
    "np.may_share_memory(a,b)\n",
    "b[0] = 17\n",
    "print(a)\n",
    "print(b)"
   ]
  },
  {
   "cell_type": "code",
   "execution_count": 337,
   "metadata": {},
   "outputs": [
    {
     "name": "stdout",
     "output_type": "stream",
     "text": "a: [10  3  8  0 19 10 11  9 10  6  0 12  7 14 17]\n[ 3  0  9  6  0 12]\n"
    }
   ],
   "source": [
    "# Fancy indexing\n",
    "\n",
    "np.random.seed(3)\n",
    "a = np.random.randint(0, 20, 15)\n",
    "print(\"a:\", a)\n",
    "mask = (a%3==0)\n",
    "get_a = a[mask]\n",
    "print(get_a)"
   ]
  },
  {
   "cell_type": "code",
   "execution_count": 370,
   "metadata": {},
   "outputs": [
    {
     "name": "stdout",
     "output_type": "stream",
     "text": "[[2 2]\n [2 2]]\n[4 4]\n[[1. 0. 0.]\n [0. 1. 0.]\n [0. 0. 1.]]\n"
    }
   ],
   "source": [
    "import numpy as np\n",
    "a = np.array([[2,2],[2,2]])\n",
    "print(a)\n",
    "print(a.sum(axis=0))\n",
    "a = np.eye(3)\n",
    "print(a)"
   ]
  },
  {
   "cell_type": "code",
   "execution_count": 377,
   "metadata": {},
   "outputs": [
    {
     "data": {
      "text/plain": "8"
     },
     "execution_count": 377,
     "metadata": {},
     "output_type": "execute_result"
    }
   ],
   "source": [
    "x = np.array([1,2,3], dtype=np.float64)\n",
    "x.itemsize"
   ]
  },
  {
   "cell_type": "code",
   "execution_count": 382,
   "metadata": {},
   "outputs": [
    {
     "name": "stdout",
     "output_type": "stream",
     "text": "[[1. 1. 1.]\n [1. 1. 1.]\n [1. 1. 1.]]\n[[0. 1. 1.]\n [0. 0. 1.]\n [0. 0. 0.]]\n"
    },
    {
     "data": {
      "text/plain": "array([[0., 0., 0.],\n       [1., 0., 0.],\n       [1., 1., 0.]])"
     },
     "execution_count": 382,
     "metadata": {},
     "output_type": "execute_result"
    }
   ],
   "source": [
    "\"\"\"\n",
    "Transposition\n",
    "\"\"\"\n",
    "a = np.ones((3,3))\n",
    "print(a)\n",
    "a = np.triu(np.ones((3, 3)), 1)\n",
    "print(a)\n",
    "a.T"
   ]
  },
  {
   "cell_type": "code",
   "execution_count": 387,
   "metadata": {},
   "outputs": [
    {
     "name": "stdout",
     "output_type": "stream",
     "text": "1.75\n1.5\n4.5\n0.82915619758885\n"
    }
   ],
   "source": [
    "\"\"\"\n",
    "Statistics\n",
    "\"\"\"\n",
    "x = np.array([1, 2, 3, 1])\n",
    "print(x.mean())\n",
    "print(np.median(x))\n",
    "print(np.median(y, axis=-1))\n",
    "print(x.std())"
   ]
  },
  {
   "cell_type": "code",
   "execution_count": 390,
   "metadata": {},
   "outputs": [
    {
     "name": "stdout",
     "output_type": "stream",
     "text": "[[99  2  3]\n [ 4  5  6]]\n[[99  2  3]\n [ 4  5  6]]\n"
    }
   ],
   "source": [
    "\"\"\"\n",
    "Broadcasting\n",
    "\"\"\"\n",
    "a = np.array([[1, 2, 3], [4, 5, 6]])\n",
    "b = a.ravel()\n",
    "b = b.reshape((2, 3))\n",
    "b[0, 0] = 99\n",
    "print(a)\n",
    "print(b)"
   ]
  },
  {
   "cell_type": "code",
   "execution_count": 393,
   "metadata": {},
   "outputs": [
    {
     "data": {
      "text/plain": "array([[10., 10., 10., 10.],\n       [ 4.,  4.,  4.,  4.],\n       [26., 26., 26., 26.],\n       [ 8.,  8.,  8.,  8.]])"
     },
     "execution_count": 393,
     "metadata": {},
     "output_type": "execute_result"
    }
   ],
   "source": [
    "\"\"\"\n",
    "Matrix Multiply\n",
    "\"\"\"\n",
    "a = np.array([[1, 2, 3, 4],\n",
    "              [1, 1, 1, 1],\n",
    "              [5, 6, 7, 8],\n",
    "              [2, 2, 2, 2]])\n",
    "\n",
    "b = np.ones((4,4))\n",
    "\n",
    "np.matmul(a, b)"
   ]
  },
  {
   "cell_type": "code",
   "execution_count": 405,
   "metadata": {},
   "outputs": [
    {
     "data": {
      "image/svg+xml": "<?xml version=\"1.0\" encoding=\"utf-8\" standalone=\"no\"?>\r\n<!DOCTYPE svg PUBLIC \"-//W3C//DTD SVG 1.1//EN\"\r\n  \"http://www.w3.org/Graphics/SVG/1.1/DTD/svg11.dtd\">\r\n<!-- Created with matplotlib (http://matplotlib.org/) -->\r\n<svg height=\"252pt\" version=\"1.1\" viewBox=\"0 0 390 252\" width=\"390pt\" xmlns=\"http://www.w3.org/2000/svg\" xmlns:xlink=\"http://www.w3.org/1999/xlink\">\r\n <defs>\r\n  <style type=\"text/css\">\r\n*{stroke-linecap:butt;stroke-linejoin:round;}\r\n  </style>\r\n </defs>\r\n <g id=\"figure_1\">\r\n  <g id=\"patch_1\">\r\n   <path d=\"M 0 252.018125 \r\nL 390.345312 252.018125 \r\nL 390.345312 0 \r\nL 0 0 \r\nz\r\n\" style=\"fill:none;\"/>\r\n  </g>\r\n  <g id=\"axes_1\">\r\n   <g id=\"patch_2\">\r\n    <path d=\"M 44.845313 228.14 \r\nL 379.645313 228.14 \r\nL 379.645313 10.7 \r\nL 44.845313 10.7 \r\nz\r\n\" style=\"fill:#ffffff;\"/>\r\n   </g>\r\n   <g id=\"matplotlib.axis_1\">\r\n    <g id=\"xtick_1\">\r\n     <g id=\"line2d_1\">\r\n      <defs>\r\n       <path d=\"M 0 0 \r\nL 0 3.5 \r\n\" id=\"m45e67efef3\" style=\"stroke:#000000;stroke-width:0.8;\"/>\r\n      </defs>\r\n      <g>\r\n       <use style=\"stroke:#000000;stroke-width:0.8;\" x=\"66.922381\" xlink:href=\"#m45e67efef3\" y=\"228.14\"/>\r\n      </g>\r\n     </g>\r\n     <g id=\"text_1\">\r\n      <!-- −3 -->\r\n      <defs>\r\n       <path d=\"M 10.59375 35.5 \r\nL 73.1875 35.5 \r\nL 73.1875 27.203125 \r\nL 10.59375 27.203125 \r\nz\r\n\" id=\"DejaVuSans-2212\"/>\r\n       <path d=\"M 40.578125 39.3125 \r\nQ 47.65625 37.796875 51.625 33 \r\nQ 55.609375 28.21875 55.609375 21.1875 \r\nQ 55.609375 10.40625 48.1875 4.484375 \r\nQ 40.765625 -1.421875 27.09375 -1.421875 \r\nQ 22.515625 -1.421875 17.65625 -0.515625 \r\nQ 12.796875 0.390625 7.625 2.203125 \r\nL 7.625 11.71875 \r\nQ 11.71875 9.328125 16.59375 8.109375 \r\nQ 21.484375 6.890625 26.8125 6.890625 \r\nQ 36.078125 6.890625 40.9375 10.546875 \r\nQ 45.796875 14.203125 45.796875 21.1875 \r\nQ 45.796875 27.640625 41.28125 31.265625 \r\nQ 36.765625 34.90625 28.71875 34.90625 \r\nL 20.21875 34.90625 \r\nL 20.21875 43.015625 \r\nL 29.109375 43.015625 \r\nQ 36.375 43.015625 40.234375 45.921875 \r\nQ 44.09375 48.828125 44.09375 54.296875 \r\nQ 44.09375 59.90625 40.109375 62.90625 \r\nQ 36.140625 65.921875 28.71875 65.921875 \r\nQ 24.65625 65.921875 20.015625 65.03125 \r\nQ 15.375 64.15625 9.8125 62.3125 \r\nL 9.8125 71.09375 \r\nQ 15.4375 72.65625 20.34375 73.4375 \r\nQ 25.25 74.21875 29.59375 74.21875 \r\nQ 40.828125 74.21875 47.359375 69.109375 \r\nQ 53.90625 64.015625 53.90625 55.328125 \r\nQ 53.90625 49.265625 50.4375 45.09375 \r\nQ 46.96875 40.921875 40.578125 39.3125 \r\nz\r\n\" id=\"DejaVuSans-33\"/>\r\n      </defs>\r\n      <g transform=\"translate(59.551287 242.738437)scale(0.1 -0.1)\">\r\n       <use xlink:href=\"#DejaVuSans-2212\"/>\r\n       <use x=\"83.789062\" xlink:href=\"#DejaVuSans-33\"/>\r\n      </g>\r\n     </g>\r\n    </g>\r\n    <g id=\"xtick_2\">\r\n     <g id=\"line2d_2\">\r\n      <g>\r\n       <use style=\"stroke:#000000;stroke-width:0.8;\" x=\"115.363358\" xlink:href=\"#m45e67efef3\" y=\"228.14\"/>\r\n      </g>\r\n     </g>\r\n     <g id=\"text_2\">\r\n      <!-- −2 -->\r\n      <defs>\r\n       <path d=\"M 19.1875 8.296875 \r\nL 53.609375 8.296875 \r\nL 53.609375 0 \r\nL 7.328125 0 \r\nL 7.328125 8.296875 \r\nQ 12.9375 14.109375 22.625 23.890625 \r\nQ 32.328125 33.6875 34.8125 36.53125 \r\nQ 39.546875 41.84375 41.421875 45.53125 \r\nQ 43.3125 49.21875 43.3125 52.78125 \r\nQ 43.3125 58.59375 39.234375 62.25 \r\nQ 35.15625 65.921875 28.609375 65.921875 \r\nQ 23.96875 65.921875 18.8125 64.3125 \r\nQ 13.671875 62.703125 7.8125 59.421875 \r\nL 7.8125 69.390625 \r\nQ 13.765625 71.78125 18.9375 73 \r\nQ 24.125 74.21875 28.421875 74.21875 \r\nQ 39.75 74.21875 46.484375 68.546875 \r\nQ 53.21875 62.890625 53.21875 53.421875 \r\nQ 53.21875 48.921875 51.53125 44.890625 \r\nQ 49.859375 40.875 45.40625 35.40625 \r\nQ 44.1875 33.984375 37.640625 27.21875 \r\nQ 31.109375 20.453125 19.1875 8.296875 \r\nz\r\n\" id=\"DejaVuSans-32\"/>\r\n      </defs>\r\n      <g transform=\"translate(107.992264 242.738437)scale(0.1 -0.1)\">\r\n       <use xlink:href=\"#DejaVuSans-2212\"/>\r\n       <use x=\"83.789062\" xlink:href=\"#DejaVuSans-32\"/>\r\n      </g>\r\n     </g>\r\n    </g>\r\n    <g id=\"xtick_3\">\r\n     <g id=\"line2d_3\">\r\n      <g>\r\n       <use style=\"stroke:#000000;stroke-width:0.8;\" x=\"163.804335\" xlink:href=\"#m45e67efef3\" y=\"228.14\"/>\r\n      </g>\r\n     </g>\r\n     <g id=\"text_3\">\r\n      <!-- −1 -->\r\n      <defs>\r\n       <path d=\"M 12.40625 8.296875 \r\nL 28.515625 8.296875 \r\nL 28.515625 63.921875 \r\nL 10.984375 60.40625 \r\nL 10.984375 69.390625 \r\nL 28.421875 72.90625 \r\nL 38.28125 72.90625 \r\nL 38.28125 8.296875 \r\nL 54.390625 8.296875 \r\nL 54.390625 0 \r\nL 12.40625 0 \r\nz\r\n\" id=\"DejaVuSans-31\"/>\r\n      </defs>\r\n      <g transform=\"translate(156.433242 242.738437)scale(0.1 -0.1)\">\r\n       <use xlink:href=\"#DejaVuSans-2212\"/>\r\n       <use x=\"83.789062\" xlink:href=\"#DejaVuSans-31\"/>\r\n      </g>\r\n     </g>\r\n    </g>\r\n    <g id=\"xtick_4\">\r\n     <g id=\"line2d_4\">\r\n      <g>\r\n       <use style=\"stroke:#000000;stroke-width:0.8;\" x=\"212.245313\" xlink:href=\"#m45e67efef3\" y=\"228.14\"/>\r\n      </g>\r\n     </g>\r\n     <g id=\"text_4\">\r\n      <!-- 0 -->\r\n      <defs>\r\n       <path d=\"M 31.78125 66.40625 \r\nQ 24.171875 66.40625 20.328125 58.90625 \r\nQ 16.5 51.421875 16.5 36.375 \r\nQ 16.5 21.390625 20.328125 13.890625 \r\nQ 24.171875 6.390625 31.78125 6.390625 \r\nQ 39.453125 6.390625 43.28125 13.890625 \r\nQ 47.125 21.390625 47.125 36.375 \r\nQ 47.125 51.421875 43.28125 58.90625 \r\nQ 39.453125 66.40625 31.78125 66.40625 \r\nz\r\nM 31.78125 74.21875 \r\nQ 44.046875 74.21875 50.515625 64.515625 \r\nQ 56.984375 54.828125 56.984375 36.375 \r\nQ 56.984375 17.96875 50.515625 8.265625 \r\nQ 44.046875 -1.421875 31.78125 -1.421875 \r\nQ 19.53125 -1.421875 13.0625 8.265625 \r\nQ 6.59375 17.96875 6.59375 36.375 \r\nQ 6.59375 54.828125 13.0625 64.515625 \r\nQ 19.53125 74.21875 31.78125 74.21875 \r\nz\r\n\" id=\"DejaVuSans-30\"/>\r\n      </defs>\r\n      <g transform=\"translate(209.064063 242.738437)scale(0.1 -0.1)\">\r\n       <use xlink:href=\"#DejaVuSans-30\"/>\r\n      </g>\r\n     </g>\r\n    </g>\r\n    <g id=\"xtick_5\">\r\n     <g id=\"line2d_5\">\r\n      <g>\r\n       <use style=\"stroke:#000000;stroke-width:0.8;\" x=\"260.68629\" xlink:href=\"#m45e67efef3\" y=\"228.14\"/>\r\n      </g>\r\n     </g>\r\n     <g id=\"text_5\">\r\n      <!-- 1 -->\r\n      <g transform=\"translate(257.50504 242.738437)scale(0.1 -0.1)\">\r\n       <use xlink:href=\"#DejaVuSans-31\"/>\r\n      </g>\r\n     </g>\r\n    </g>\r\n    <g id=\"xtick_6\">\r\n     <g id=\"line2d_6\">\r\n      <g>\r\n       <use style=\"stroke:#000000;stroke-width:0.8;\" x=\"309.127267\" xlink:href=\"#m45e67efef3\" y=\"228.14\"/>\r\n      </g>\r\n     </g>\r\n     <g id=\"text_6\">\r\n      <!-- 2 -->\r\n      <g transform=\"translate(305.946017 242.738437)scale(0.1 -0.1)\">\r\n       <use xlink:href=\"#DejaVuSans-32\"/>\r\n      </g>\r\n     </g>\r\n    </g>\r\n    <g id=\"xtick_7\">\r\n     <g id=\"line2d_7\">\r\n      <g>\r\n       <use style=\"stroke:#000000;stroke-width:0.8;\" x=\"357.568244\" xlink:href=\"#m45e67efef3\" y=\"228.14\"/>\r\n      </g>\r\n     </g>\r\n     <g id=\"text_7\">\r\n      <!-- 3 -->\r\n      <g transform=\"translate(354.386994 242.738437)scale(0.1 -0.1)\">\r\n       <use xlink:href=\"#DejaVuSans-33\"/>\r\n      </g>\r\n     </g>\r\n    </g>\r\n   </g>\r\n   <g id=\"matplotlib.axis_2\">\r\n    <g id=\"ytick_1\">\r\n     <g id=\"line2d_8\">\r\n      <defs>\r\n       <path d=\"M 0 0 \r\nL -3.5 0 \r\n\" id=\"md4bcfc27b7\" style=\"stroke:#000000;stroke-width:0.8;\"/>\r\n      </defs>\r\n      <g>\r\n       <use style=\"stroke:#000000;stroke-width:0.8;\" x=\"44.845313\" xlink:href=\"#md4bcfc27b7\" y=\"218.256364\"/>\r\n      </g>\r\n     </g>\r\n     <g id=\"text_8\">\r\n      <!-- −1.00 -->\r\n      <defs>\r\n       <path d=\"M 10.6875 12.40625 \r\nL 21 12.40625 \r\nL 21 0 \r\nL 10.6875 0 \r\nz\r\n\" id=\"DejaVuSans-2e\"/>\r\n      </defs>\r\n      <g transform=\"translate(7.2 222.055582)scale(0.1 -0.1)\">\r\n       <use xlink:href=\"#DejaVuSans-2212\"/>\r\n       <use x=\"83.789062\" xlink:href=\"#DejaVuSans-31\"/>\r\n       <use x=\"147.412109\" xlink:href=\"#DejaVuSans-2e\"/>\r\n       <use x=\"179.199219\" xlink:href=\"#DejaVuSans-30\"/>\r\n       <use x=\"242.822266\" xlink:href=\"#DejaVuSans-30\"/>\r\n      </g>\r\n     </g>\r\n    </g>\r\n    <g id=\"ytick_2\">\r\n     <g id=\"line2d_9\">\r\n      <g>\r\n       <use style=\"stroke:#000000;stroke-width:0.8;\" x=\"44.845313\" xlink:href=\"#md4bcfc27b7\" y=\"193.547038\"/>\r\n      </g>\r\n     </g>\r\n     <g id=\"text_9\">\r\n      <!-- −0.75 -->\r\n      <defs>\r\n       <path d=\"M 8.203125 72.90625 \r\nL 55.078125 72.90625 \r\nL 55.078125 68.703125 \r\nL 28.609375 0 \r\nL 18.3125 0 \r\nL 43.21875 64.59375 \r\nL 8.203125 64.59375 \r\nz\r\n\" id=\"DejaVuSans-37\"/>\r\n       <path d=\"M 10.796875 72.90625 \r\nL 49.515625 72.90625 \r\nL 49.515625 64.59375 \r\nL 19.828125 64.59375 \r\nL 19.828125 46.734375 \r\nQ 21.96875 47.46875 24.109375 47.828125 \r\nQ 26.265625 48.1875 28.421875 48.1875 \r\nQ 40.625 48.1875 47.75 41.5 \r\nQ 54.890625 34.8125 54.890625 23.390625 \r\nQ 54.890625 11.625 47.5625 5.09375 \r\nQ 40.234375 -1.421875 26.90625 -1.421875 \r\nQ 22.3125 -1.421875 17.546875 -0.640625 \r\nQ 12.796875 0.140625 7.71875 1.703125 \r\nL 7.71875 11.625 \r\nQ 12.109375 9.234375 16.796875 8.0625 \r\nQ 21.484375 6.890625 26.703125 6.890625 \r\nQ 35.15625 6.890625 40.078125 11.328125 \r\nQ 45.015625 15.765625 45.015625 23.390625 \r\nQ 45.015625 31 40.078125 35.4375 \r\nQ 35.15625 39.890625 26.703125 39.890625 \r\nQ 22.75 39.890625 18.8125 39.015625 \r\nQ 14.890625 38.140625 10.796875 36.28125 \r\nz\r\n\" id=\"DejaVuSans-35\"/>\r\n      </defs>\r\n      <g transform=\"translate(7.2 197.346257)scale(0.1 -0.1)\">\r\n       <use xlink:href=\"#DejaVuSans-2212\"/>\r\n       <use x=\"83.789062\" xlink:href=\"#DejaVuSans-30\"/>\r\n       <use x=\"147.412109\" xlink:href=\"#DejaVuSans-2e\"/>\r\n       <use x=\"179.199219\" xlink:href=\"#DejaVuSans-37\"/>\r\n       <use x=\"242.822266\" xlink:href=\"#DejaVuSans-35\"/>\r\n      </g>\r\n     </g>\r\n    </g>\r\n    <g id=\"ytick_3\">\r\n     <g id=\"line2d_10\">\r\n      <g>\r\n       <use style=\"stroke:#000000;stroke-width:0.8;\" x=\"44.845313\" xlink:href=\"#md4bcfc27b7\" y=\"168.837713\"/>\r\n      </g>\r\n     </g>\r\n     <g id=\"text_10\">\r\n      <!-- −0.50 -->\r\n      <g transform=\"translate(7.2 172.636932)scale(0.1 -0.1)\">\r\n       <use xlink:href=\"#DejaVuSans-2212\"/>\r\n       <use x=\"83.789062\" xlink:href=\"#DejaVuSans-30\"/>\r\n       <use x=\"147.412109\" xlink:href=\"#DejaVuSans-2e\"/>\r\n       <use x=\"179.199219\" xlink:href=\"#DejaVuSans-35\"/>\r\n       <use x=\"242.822266\" xlink:href=\"#DejaVuSans-30\"/>\r\n      </g>\r\n     </g>\r\n    </g>\r\n    <g id=\"ytick_4\">\r\n     <g id=\"line2d_11\">\r\n      <g>\r\n       <use style=\"stroke:#000000;stroke-width:0.8;\" x=\"44.845313\" xlink:href=\"#md4bcfc27b7\" y=\"144.128388\"/>\r\n      </g>\r\n     </g>\r\n     <g id=\"text_11\">\r\n      <!-- −0.25 -->\r\n      <g transform=\"translate(7.2 147.927606)scale(0.1 -0.1)\">\r\n       <use xlink:href=\"#DejaVuSans-2212\"/>\r\n       <use x=\"83.789062\" xlink:href=\"#DejaVuSans-30\"/>\r\n       <use x=\"147.412109\" xlink:href=\"#DejaVuSans-2e\"/>\r\n       <use x=\"179.199219\" xlink:href=\"#DejaVuSans-32\"/>\r\n       <use x=\"242.822266\" xlink:href=\"#DejaVuSans-35\"/>\r\n      </g>\r\n     </g>\r\n    </g>\r\n    <g id=\"ytick_5\">\r\n     <g id=\"line2d_12\">\r\n      <g>\r\n       <use style=\"stroke:#000000;stroke-width:0.8;\" x=\"44.845313\" xlink:href=\"#md4bcfc27b7\" y=\"119.419062\"/>\r\n      </g>\r\n     </g>\r\n     <g id=\"text_12\">\r\n      <!-- 0.00 -->\r\n      <g transform=\"translate(15.579688 123.218281)scale(0.1 -0.1)\">\r\n       <use xlink:href=\"#DejaVuSans-30\"/>\r\n       <use x=\"63.623047\" xlink:href=\"#DejaVuSans-2e\"/>\r\n       <use x=\"95.410156\" xlink:href=\"#DejaVuSans-30\"/>\r\n       <use x=\"159.033203\" xlink:href=\"#DejaVuSans-30\"/>\r\n      </g>\r\n     </g>\r\n    </g>\r\n    <g id=\"ytick_6\">\r\n     <g id=\"line2d_13\">\r\n      <g>\r\n       <use style=\"stroke:#000000;stroke-width:0.8;\" x=\"44.845313\" xlink:href=\"#md4bcfc27b7\" y=\"94.709737\"/>\r\n      </g>\r\n     </g>\r\n     <g id=\"text_13\">\r\n      <!-- 0.25 -->\r\n      <g transform=\"translate(15.579688 98.508956)scale(0.1 -0.1)\">\r\n       <use xlink:href=\"#DejaVuSans-30\"/>\r\n       <use x=\"63.623047\" xlink:href=\"#DejaVuSans-2e\"/>\r\n       <use x=\"95.410156\" xlink:href=\"#DejaVuSans-32\"/>\r\n       <use x=\"159.033203\" xlink:href=\"#DejaVuSans-35\"/>\r\n      </g>\r\n     </g>\r\n    </g>\r\n    <g id=\"ytick_7\">\r\n     <g id=\"line2d_14\">\r\n      <g>\r\n       <use style=\"stroke:#000000;stroke-width:0.8;\" x=\"44.845313\" xlink:href=\"#md4bcfc27b7\" y=\"70.000412\"/>\r\n      </g>\r\n     </g>\r\n     <g id=\"text_14\">\r\n      <!-- 0.50 -->\r\n      <g transform=\"translate(15.579688 73.799631)scale(0.1 -0.1)\">\r\n       <use xlink:href=\"#DejaVuSans-30\"/>\r\n       <use x=\"63.623047\" xlink:href=\"#DejaVuSans-2e\"/>\r\n       <use x=\"95.410156\" xlink:href=\"#DejaVuSans-35\"/>\r\n       <use x=\"159.033203\" xlink:href=\"#DejaVuSans-30\"/>\r\n      </g>\r\n     </g>\r\n    </g>\r\n    <g id=\"ytick_8\">\r\n     <g id=\"line2d_15\">\r\n      <g>\r\n       <use style=\"stroke:#000000;stroke-width:0.8;\" x=\"44.845313\" xlink:href=\"#md4bcfc27b7\" y=\"45.291086\"/>\r\n      </g>\r\n     </g>\r\n     <g id=\"text_15\">\r\n      <!-- 0.75 -->\r\n      <g transform=\"translate(15.579688 49.090305)scale(0.1 -0.1)\">\r\n       <use xlink:href=\"#DejaVuSans-30\"/>\r\n       <use x=\"63.623047\" xlink:href=\"#DejaVuSans-2e\"/>\r\n       <use x=\"95.410156\" xlink:href=\"#DejaVuSans-37\"/>\r\n       <use x=\"159.033203\" xlink:href=\"#DejaVuSans-35\"/>\r\n      </g>\r\n     </g>\r\n    </g>\r\n    <g id=\"ytick_9\">\r\n     <g id=\"line2d_16\">\r\n      <g>\r\n       <use style=\"stroke:#000000;stroke-width:0.8;\" x=\"44.845313\" xlink:href=\"#md4bcfc27b7\" y=\"20.581761\"/>\r\n      </g>\r\n     </g>\r\n     <g id=\"text_16\">\r\n      <!-- 1.00 -->\r\n      <g transform=\"translate(15.579688 24.38098)scale(0.1 -0.1)\">\r\n       <use xlink:href=\"#DejaVuSans-31\"/>\r\n       <use x=\"63.623047\" xlink:href=\"#DejaVuSans-2e\"/>\r\n       <use x=\"95.410156\" xlink:href=\"#DejaVuSans-30\"/>\r\n       <use x=\"159.033203\" xlink:href=\"#DejaVuSans-30\"/>\r\n      </g>\r\n     </g>\r\n    </g>\r\n   </g>\r\n   <g id=\"line2d_17\">\r\n    <path clip-path=\"url(#p5994886dc3)\" d=\"M 60.063494 218.256364 \r\nL 62.45066 218.136374 \r\nL 64.837826 217.776698 \r\nL 67.224992 217.178208 \r\nL 69.612157 216.342357 \r\nL 71.999323 215.271174 \r\nL 74.386489 213.967262 \r\nL 76.773655 212.433784 \r\nL 79.160821 210.674466 \r\nL 81.547986 208.693578 \r\nL 83.935152 206.49593 \r\nL 87.515901 202.804846 \r\nL 91.096649 198.658339 \r\nL 94.677398 194.079053 \r\nL 98.258147 189.092001 \r\nL 101.838895 183.724419 \r\nL 105.419644 178.005624 \r\nL 110.193976 169.888471 \r\nL 114.968307 161.281454 \r\nL 120.936222 149.961468 \r\nL 128.097719 135.781961 \r\nL 153.16296 85.42408 \r\nL 159.130874 74.276841 \r\nL 163.905206 65.843972 \r\nL 168.679537 57.931111 \r\nL 172.260286 52.384134 \r\nL 175.841034 47.203279 \r\nL 179.421783 42.416841 \r\nL 183.002532 38.050963 \r\nL 186.58328 34.129489 \r\nL 188.970446 31.772744 \r\nL 191.357612 29.628807 \r\nL 193.744778 27.702881 \r\nL 196.131944 25.999644 \r\nL 198.519109 24.52323 \r\nL 200.906275 23.277225 \r\nL 203.293441 22.264654 \r\nL 205.680607 21.487975 \r\nL 208.067772 20.949075 \r\nL 210.454938 20.649261 \r\nL 212.842104 20.589262 \r\nL 215.22927 20.769223 \r\nL 217.616435 21.188707 \r\nL 220.003601 21.846697 \r\nL 222.390767 22.741593 \r\nL 224.777933 23.871224 \r\nL 227.165099 25.232847 \r\nL 229.552264 26.823155 \r\nL 231.93943 28.638288 \r\nL 234.326596 30.673837 \r\nL 236.713762 32.924862 \r\nL 240.29451 36.693318 \r\nL 243.875259 40.913593 \r\nL 247.456008 45.562639 \r\nL 251.036756 50.615062 \r\nL 254.617505 56.043269 \r\nL 258.198254 61.817612 \r\nL 262.972585 70.000412 \r\nL 267.746917 78.662877 \r\nL 273.714831 90.037021 \r\nL 280.876329 104.258245 \r\nL 304.747986 152.268114 \r\nL 310.715901 163.474639 \r\nL 315.490232 171.966849 \r\nL 320.264564 179.949022 \r\nL 323.845313 185.554126 \r\nL 327.426061 190.798022 \r\nL 331.00681 195.652071 \r\nL 334.587558 200.089762 \r\nL 338.168307 204.086858 \r\nL 341.749056 207.621528 \r\nL 344.136222 209.71143 \r\nL 346.523387 211.582101 \r\nL 348.910553 213.228999 \r\nL 351.297719 214.648125 \r\nL 353.684885 215.836033 \r\nL 356.07205 216.789839 \r\nL 358.459216 217.507227 \r\nL 360.846382 217.986456 \r\nL 363.233548 218.226362 \r\nL 364.427131 218.256364 \r\nL 364.427131 218.256364 \r\n\" style=\"fill:none;stroke:#1f77b4;stroke-linecap:square;stroke-width:1.5;\"/>\r\n   </g>\r\n   <g id=\"line2d_18\">\r\n    <path clip-path=\"url(#p5994886dc3)\" d=\"M 60.063494 119.419062 \r\nL 71.999323 143.526836 \r\nL 77.967238 155.123214 \r\nL 82.741569 164.018807 \r\nL 87.515901 172.481508 \r\nL 92.290232 180.429176 \r\nL 95.870981 186.005322 \r\nL 99.45173 191.217796 \r\nL 103.032478 196.038131 \r\nL 106.613227 200.439999 \r\nL 110.193976 204.399359 \r\nL 113.774724 207.894586 \r\nL 116.16189 209.957351 \r\nL 118.549056 211.800288 \r\nL 120.936222 213.418922 \r\nL 123.323387 214.809322 \r\nL 125.710553 215.968114 \r\nL 128.097719 216.892483 \r\nL 130.484885 217.580185 \r\nL 132.87205 218.02955 \r\nL 135.259216 218.239487 \r\nL 137.646382 218.209487 \r\nL 140.033548 217.939622 \r\nL 142.420714 217.430548 \r\nL 144.807879 216.6835 \r\nL 147.195045 215.700293 \r\nL 149.582211 214.483313 \r\nL 151.969377 213.035516 \r\nL 154.356542 211.360417 \r\nL 156.743708 209.462082 \r\nL 159.130874 207.345122 \r\nL 161.51804 205.014676 \r\nL 165.098788 201.131237 \r\nL 168.679537 196.801514 \r\nL 172.260286 192.049156 \r\nL 175.841034 186.900117 \r\nL 179.421783 181.382519 \r\nL 183.002532 175.526499 \r\nL 187.776863 167.247562 \r\nL 192.551195 158.504392 \r\nL 198.519109 147.052251 \r\nL 205.680607 132.7725 \r\nL 227.165099 89.45627 \r\nL 233.133013 78.10899 \r\nL 237.907345 69.474085 \r\nL 242.681676 61.323954 \r\nL 246.262425 55.577276 \r\nL 249.843173 50.179279 \r\nL 253.423922 45.159446 \r\nL 257.004671 40.545193 \r\nL 260.585419 36.361722 \r\nL 264.166168 32.631882 \r\nL 266.553334 30.407503 \r\nL 268.9405 28.399246 \r\nL 271.327665 26.611987 \r\nL 273.714831 25.050065 \r\nL 276.101997 23.717272 \r\nL 278.489163 22.616844 \r\nL 280.876329 21.751454 \r\nL 283.263494 21.123202 \r\nL 285.65066 20.733614 \r\nL 288.037826 20.583636 \r\nL 290.424992 20.673632 \r\nL 292.812157 21.003384 \r\nL 295.199323 21.57209 \r\nL 297.586489 22.37837 \r\nL 299.973655 23.420266 \r\nL 302.360821 24.69525 \r\nL 304.747986 26.200223 \r\nL 307.135152 27.931534 \r\nL 309.522318 29.884978 \r\nL 311.909484 32.055812 \r\nL 314.296649 34.438765 \r\nL 317.877398 38.398125 \r\nL 321.458147 42.799993 \r\nL 325.038895 47.620328 \r\nL 328.619644 52.832803 \r\nL 332.200393 58.408949 \r\nL 336.974724 66.356617 \r\nL 341.749056 74.819318 \r\nL 346.523387 83.714911 \r\nL 352.491302 95.311289 \r\nL 360.846382 112.119678 \r\nL 364.427131 119.419062 \r\nL 364.427131 119.419062 \r\n\" style=\"fill:none;stroke:#ff7f0e;stroke-linecap:square;stroke-width:1.5;\"/>\r\n   </g>\r\n   <g id=\"patch_3\">\r\n    <path d=\"M 44.845313 228.14 \r\nL 44.845313 10.7 \r\n\" style=\"fill:none;stroke:#000000;stroke-linecap:square;stroke-linejoin:miter;stroke-width:0.8;\"/>\r\n   </g>\r\n   <g id=\"patch_4\">\r\n    <path d=\"M 379.645313 228.14 \r\nL 379.645313 10.7 \r\n\" style=\"fill:none;stroke:#000000;stroke-linecap:square;stroke-linejoin:miter;stroke-width:0.8;\"/>\r\n   </g>\r\n   <g id=\"patch_5\">\r\n    <path d=\"M 44.845313 228.14 \r\nL 379.645313 228.14 \r\n\" style=\"fill:none;stroke:#000000;stroke-linecap:square;stroke-linejoin:miter;stroke-width:0.8;\"/>\r\n   </g>\r\n   <g id=\"patch_6\">\r\n    <path d=\"M 44.845313 10.7 \r\nL 379.645313 10.7 \r\n\" style=\"fill:none;stroke:#000000;stroke-linecap:square;stroke-linejoin:miter;stroke-width:0.8;\"/>\r\n   </g>\r\n  </g>\r\n </g>\r\n <defs>\r\n  <clipPath id=\"p5994886dc3\">\r\n   <rect height=\"217.44\" width=\"334.8\" x=\"44.845313\" y=\"10.7\"/>\r\n  </clipPath>\r\n </defs>\r\n</svg>\r\n",
      "text/plain": "<matplotlib.figure.Figure at 0x20ddc362080>"
     },
     "metadata": {
      "needs_background": "light"
     },
     "output_type": "display_data"
    }
   ],
   "source": [
    "\"\"\"\n",
    "Matplotlib\n",
    "\"\"\"\n",
    "import matplotlib.pyplot as plt\n",
    "import numpy as np\n",
    "%matplotlib inline\n",
    "%config InlineBackend.figure_format = 'svg'\n",
    "\n",
    "X = np.linspace(-np.pi, np.pi, 256, endpoint=True)\n",
    "C, S = np.cos(X), np.sin(X)\n",
    "plt.plot(X, C)\n",
    "plt.plot(X, S)\n",
    "plt.show()"
   ]
  },
  {
   "cell_type": "code",
   "execution_count": 406,
   "metadata": {},
   "outputs": [
    {
     "data": {
      "image/svg+xml": "<?xml version=\"1.0\" encoding=\"utf-8\" standalone=\"no\"?>\r\n<!DOCTYPE svg PUBLIC \"-//W3C//DTD SVG 1.1//EN\"\r\n  \"http://www.w3.org/Graphics/SVG/1.1/DTD/svg11.dtd\">\r\n<!-- Created with matplotlib (http://matplotlib.org/) -->\r\n<svg height=\"361pt\" version=\"1.1\" viewBox=\"0 0 495 361\" width=\"495pt\" xmlns=\"http://www.w3.org/2000/svg\" xmlns:xlink=\"http://www.w3.org/1999/xlink\">\r\n <defs>\r\n  <style type=\"text/css\">\r\n*{stroke-linecap:butt;stroke-linejoin:round;}\r\n  </style>\r\n </defs>\r\n <g id=\"figure_1\">\r\n  <g id=\"patch_1\">\r\n   <path d=\"M 0 361.037344 \r\nL 495.582812 361.037344 \r\nL 495.582812 0 \r\nL 0 0 \r\nz\r\n\" style=\"fill:none;\"/>\r\n  </g>\r\n  <g id=\"axes_1\">\r\n   <g id=\"patch_2\">\r\n    <path d=\"M 38.482813 337.159219 \r\nL 484.882812 337.159219 \r\nL 484.882812 10.999219 \r\nL 38.482813 10.999219 \r\nz\r\n\" style=\"fill:#ffffff;\"/>\r\n   </g>\r\n   <g id=\"matplotlib.axis_1\">\r\n    <g id=\"xtick_1\">\r\n     <g id=\"line2d_1\">\r\n      <defs>\r\n       <path d=\"M 0 0 \r\nL 0 3.5 \r\n\" id=\"m2e83deaf02\" style=\"stroke:#000000;stroke-width:0.8;\"/>\r\n      </defs>\r\n      <g>\r\n       <use style=\"stroke:#000000;stroke-width:0.8;\" x=\"38.482813\" xlink:href=\"#m2e83deaf02\" y=\"337.159219\"/>\r\n      </g>\r\n     </g>\r\n     <g id=\"text_1\">\r\n      <!-- −4 -->\r\n      <defs>\r\n       <path d=\"M 10.59375 35.5 \r\nL 73.1875 35.5 \r\nL 73.1875 27.203125 \r\nL 10.59375 27.203125 \r\nz\r\n\" id=\"DejaVuSans-2212\"/>\r\n       <path d=\"M 37.796875 64.3125 \r\nL 12.890625 25.390625 \r\nL 37.796875 25.390625 \r\nz\r\nM 35.203125 72.90625 \r\nL 47.609375 72.90625 \r\nL 47.609375 25.390625 \r\nL 58.015625 25.390625 \r\nL 58.015625 17.1875 \r\nL 47.609375 17.1875 \r\nL 47.609375 0 \r\nL 37.796875 0 \r\nL 37.796875 17.1875 \r\nL 4.890625 17.1875 \r\nL 4.890625 26.703125 \r\nz\r\n\" id=\"DejaVuSans-34\"/>\r\n      </defs>\r\n      <g transform=\"translate(31.111719 351.757656)scale(0.1 -0.1)\">\r\n       <use xlink:href=\"#DejaVuSans-2212\"/>\r\n       <use x=\"83.789062\" xlink:href=\"#DejaVuSans-34\"/>\r\n      </g>\r\n     </g>\r\n    </g>\r\n    <g id=\"xtick_2\">\r\n     <g id=\"line2d_2\">\r\n      <g>\r\n       <use style=\"stroke:#000000;stroke-width:0.8;\" x=\"94.282813\" xlink:href=\"#m2e83deaf02\" y=\"337.159219\"/>\r\n      </g>\r\n     </g>\r\n     <g id=\"text_2\">\r\n      <!-- −3 -->\r\n      <defs>\r\n       <path d=\"M 40.578125 39.3125 \r\nQ 47.65625 37.796875 51.625 33 \r\nQ 55.609375 28.21875 55.609375 21.1875 \r\nQ 55.609375 10.40625 48.1875 4.484375 \r\nQ 40.765625 -1.421875 27.09375 -1.421875 \r\nQ 22.515625 -1.421875 17.65625 -0.515625 \r\nQ 12.796875 0.390625 7.625 2.203125 \r\nL 7.625 11.71875 \r\nQ 11.71875 9.328125 16.59375 8.109375 \r\nQ 21.484375 6.890625 26.8125 6.890625 \r\nQ 36.078125 6.890625 40.9375 10.546875 \r\nQ 45.796875 14.203125 45.796875 21.1875 \r\nQ 45.796875 27.640625 41.28125 31.265625 \r\nQ 36.765625 34.90625 28.71875 34.90625 \r\nL 20.21875 34.90625 \r\nL 20.21875 43.015625 \r\nL 29.109375 43.015625 \r\nQ 36.375 43.015625 40.234375 45.921875 \r\nQ 44.09375 48.828125 44.09375 54.296875 \r\nQ 44.09375 59.90625 40.109375 62.90625 \r\nQ 36.140625 65.921875 28.71875 65.921875 \r\nQ 24.65625 65.921875 20.015625 65.03125 \r\nQ 15.375 64.15625 9.8125 62.3125 \r\nL 9.8125 71.09375 \r\nQ 15.4375 72.65625 20.34375 73.4375 \r\nQ 25.25 74.21875 29.59375 74.21875 \r\nQ 40.828125 74.21875 47.359375 69.109375 \r\nQ 53.90625 64.015625 53.90625 55.328125 \r\nQ 53.90625 49.265625 50.4375 45.09375 \r\nQ 46.96875 40.921875 40.578125 39.3125 \r\nz\r\n\" id=\"DejaVuSans-33\"/>\r\n      </defs>\r\n      <g transform=\"translate(86.911719 351.757656)scale(0.1 -0.1)\">\r\n       <use xlink:href=\"#DejaVuSans-2212\"/>\r\n       <use x=\"83.789062\" xlink:href=\"#DejaVuSans-33\"/>\r\n      </g>\r\n     </g>\r\n    </g>\r\n    <g id=\"xtick_3\">\r\n     <g id=\"line2d_3\">\r\n      <g>\r\n       <use style=\"stroke:#000000;stroke-width:0.8;\" x=\"150.082813\" xlink:href=\"#m2e83deaf02\" y=\"337.159219\"/>\r\n      </g>\r\n     </g>\r\n     <g id=\"text_3\">\r\n      <!-- −2 -->\r\n      <defs>\r\n       <path d=\"M 19.1875 8.296875 \r\nL 53.609375 8.296875 \r\nL 53.609375 0 \r\nL 7.328125 0 \r\nL 7.328125 8.296875 \r\nQ 12.9375 14.109375 22.625 23.890625 \r\nQ 32.328125 33.6875 34.8125 36.53125 \r\nQ 39.546875 41.84375 41.421875 45.53125 \r\nQ 43.3125 49.21875 43.3125 52.78125 \r\nQ 43.3125 58.59375 39.234375 62.25 \r\nQ 35.15625 65.921875 28.609375 65.921875 \r\nQ 23.96875 65.921875 18.8125 64.3125 \r\nQ 13.671875 62.703125 7.8125 59.421875 \r\nL 7.8125 69.390625 \r\nQ 13.765625 71.78125 18.9375 73 \r\nQ 24.125 74.21875 28.421875 74.21875 \r\nQ 39.75 74.21875 46.484375 68.546875 \r\nQ 53.21875 62.890625 53.21875 53.421875 \r\nQ 53.21875 48.921875 51.53125 44.890625 \r\nQ 49.859375 40.875 45.40625 35.40625 \r\nQ 44.1875 33.984375 37.640625 27.21875 \r\nQ 31.109375 20.453125 19.1875 8.296875 \r\nz\r\n\" id=\"DejaVuSans-32\"/>\r\n      </defs>\r\n      <g transform=\"translate(142.711719 351.757656)scale(0.1 -0.1)\">\r\n       <use xlink:href=\"#DejaVuSans-2212\"/>\r\n       <use x=\"83.789062\" xlink:href=\"#DejaVuSans-32\"/>\r\n      </g>\r\n     </g>\r\n    </g>\r\n    <g id=\"xtick_4\">\r\n     <g id=\"line2d_4\">\r\n      <g>\r\n       <use style=\"stroke:#000000;stroke-width:0.8;\" x=\"205.882812\" xlink:href=\"#m2e83deaf02\" y=\"337.159219\"/>\r\n      </g>\r\n     </g>\r\n     <g id=\"text_4\">\r\n      <!-- −1 -->\r\n      <defs>\r\n       <path d=\"M 12.40625 8.296875 \r\nL 28.515625 8.296875 \r\nL 28.515625 63.921875 \r\nL 10.984375 60.40625 \r\nL 10.984375 69.390625 \r\nL 28.421875 72.90625 \r\nL 38.28125 72.90625 \r\nL 38.28125 8.296875 \r\nL 54.390625 8.296875 \r\nL 54.390625 0 \r\nL 12.40625 0 \r\nz\r\n\" id=\"DejaVuSans-31\"/>\r\n      </defs>\r\n      <g transform=\"translate(198.511719 351.757656)scale(0.1 -0.1)\">\r\n       <use xlink:href=\"#DejaVuSans-2212\"/>\r\n       <use x=\"83.789062\" xlink:href=\"#DejaVuSans-31\"/>\r\n      </g>\r\n     </g>\r\n    </g>\r\n    <g id=\"xtick_5\">\r\n     <g id=\"line2d_5\">\r\n      <g>\r\n       <use style=\"stroke:#000000;stroke-width:0.8;\" x=\"261.682813\" xlink:href=\"#m2e83deaf02\" y=\"337.159219\"/>\r\n      </g>\r\n     </g>\r\n     <g id=\"text_5\">\r\n      <!-- 0 -->\r\n      <defs>\r\n       <path d=\"M 31.78125 66.40625 \r\nQ 24.171875 66.40625 20.328125 58.90625 \r\nQ 16.5 51.421875 16.5 36.375 \r\nQ 16.5 21.390625 20.328125 13.890625 \r\nQ 24.171875 6.390625 31.78125 6.390625 \r\nQ 39.453125 6.390625 43.28125 13.890625 \r\nQ 47.125 21.390625 47.125 36.375 \r\nQ 47.125 51.421875 43.28125 58.90625 \r\nQ 39.453125 66.40625 31.78125 66.40625 \r\nz\r\nM 31.78125 74.21875 \r\nQ 44.046875 74.21875 50.515625 64.515625 \r\nQ 56.984375 54.828125 56.984375 36.375 \r\nQ 56.984375 17.96875 50.515625 8.265625 \r\nQ 44.046875 -1.421875 31.78125 -1.421875 \r\nQ 19.53125 -1.421875 13.0625 8.265625 \r\nQ 6.59375 17.96875 6.59375 36.375 \r\nQ 6.59375 54.828125 13.0625 64.515625 \r\nQ 19.53125 74.21875 31.78125 74.21875 \r\nz\r\n\" id=\"DejaVuSans-30\"/>\r\n      </defs>\r\n      <g transform=\"translate(258.501563 351.757656)scale(0.1 -0.1)\">\r\n       <use xlink:href=\"#DejaVuSans-30\"/>\r\n      </g>\r\n     </g>\r\n    </g>\r\n    <g id=\"xtick_6\">\r\n     <g id=\"line2d_6\">\r\n      <g>\r\n       <use style=\"stroke:#000000;stroke-width:0.8;\" x=\"317.482813\" xlink:href=\"#m2e83deaf02\" y=\"337.159219\"/>\r\n      </g>\r\n     </g>\r\n     <g id=\"text_6\">\r\n      <!-- 1 -->\r\n      <g transform=\"translate(314.301563 351.757656)scale(0.1 -0.1)\">\r\n       <use xlink:href=\"#DejaVuSans-31\"/>\r\n      </g>\r\n     </g>\r\n    </g>\r\n    <g id=\"xtick_7\">\r\n     <g id=\"line2d_7\">\r\n      <g>\r\n       <use style=\"stroke:#000000;stroke-width:0.8;\" x=\"373.282812\" xlink:href=\"#m2e83deaf02\" y=\"337.159219\"/>\r\n      </g>\r\n     </g>\r\n     <g id=\"text_7\">\r\n      <!-- 2 -->\r\n      <g transform=\"translate(370.101562 351.757656)scale(0.1 -0.1)\">\r\n       <use xlink:href=\"#DejaVuSans-32\"/>\r\n      </g>\r\n     </g>\r\n    </g>\r\n    <g id=\"xtick_8\">\r\n     <g id=\"line2d_8\">\r\n      <g>\r\n       <use style=\"stroke:#000000;stroke-width:0.8;\" x=\"429.082812\" xlink:href=\"#m2e83deaf02\" y=\"337.159219\"/>\r\n      </g>\r\n     </g>\r\n     <g id=\"text_8\">\r\n      <!-- 3 -->\r\n      <g transform=\"translate(425.901563 351.757656)scale(0.1 -0.1)\">\r\n       <use xlink:href=\"#DejaVuSans-33\"/>\r\n      </g>\r\n     </g>\r\n    </g>\r\n    <g id=\"xtick_9\">\r\n     <g id=\"line2d_9\">\r\n      <g>\r\n       <use style=\"stroke:#000000;stroke-width:0.8;\" x=\"484.882812\" xlink:href=\"#m2e83deaf02\" y=\"337.159219\"/>\r\n      </g>\r\n     </g>\r\n     <g id=\"text_9\">\r\n      <!-- 4 -->\r\n      <g transform=\"translate(481.701563 351.757656)scale(0.1 -0.1)\">\r\n       <use xlink:href=\"#DejaVuSans-34\"/>\r\n      </g>\r\n     </g>\r\n    </g>\r\n   </g>\r\n   <g id=\"matplotlib.axis_2\">\r\n    <g id=\"ytick_1\">\r\n     <g id=\"line2d_10\">\r\n      <defs>\r\n       <path d=\"M 0 0 \r\nL -3.5 0 \r\n\" id=\"m2b71cbd627\" style=\"stroke:#000000;stroke-width:0.8;\"/>\r\n      </defs>\r\n      <g>\r\n       <use style=\"stroke:#000000;stroke-width:0.8;\" x=\"38.482813\" xlink:href=\"#m2b71cbd627\" y=\"337.159219\"/>\r\n      </g>\r\n     </g>\r\n     <g id=\"text_10\">\r\n      <!-- −1.0 -->\r\n      <defs>\r\n       <path d=\"M 10.6875 12.40625 \r\nL 21 12.40625 \r\nL 21 0 \r\nL 10.6875 0 \r\nz\r\n\" id=\"DejaVuSans-2e\"/>\r\n      </defs>\r\n      <g transform=\"translate(7.2 340.958438)scale(0.1 -0.1)\">\r\n       <use xlink:href=\"#DejaVuSans-2212\"/>\r\n       <use x=\"83.789062\" xlink:href=\"#DejaVuSans-31\"/>\r\n       <use x=\"147.412109\" xlink:href=\"#DejaVuSans-2e\"/>\r\n       <use x=\"179.199219\" xlink:href=\"#DejaVuSans-30\"/>\r\n      </g>\r\n     </g>\r\n    </g>\r\n    <g id=\"ytick_2\">\r\n     <g id=\"line2d_11\">\r\n      <g>\r\n       <use style=\"stroke:#000000;stroke-width:0.8;\" x=\"38.482813\" xlink:href=\"#m2b71cbd627\" y=\"255.619219\"/>\r\n      </g>\r\n     </g>\r\n     <g id=\"text_11\">\r\n      <!-- −0.5 -->\r\n      <defs>\r\n       <path d=\"M 10.796875 72.90625 \r\nL 49.515625 72.90625 \r\nL 49.515625 64.59375 \r\nL 19.828125 64.59375 \r\nL 19.828125 46.734375 \r\nQ 21.96875 47.46875 24.109375 47.828125 \r\nQ 26.265625 48.1875 28.421875 48.1875 \r\nQ 40.625 48.1875 47.75 41.5 \r\nQ 54.890625 34.8125 54.890625 23.390625 \r\nQ 54.890625 11.625 47.5625 5.09375 \r\nQ 40.234375 -1.421875 26.90625 -1.421875 \r\nQ 22.3125 -1.421875 17.546875 -0.640625 \r\nQ 12.796875 0.140625 7.71875 1.703125 \r\nL 7.71875 11.625 \r\nQ 12.109375 9.234375 16.796875 8.0625 \r\nQ 21.484375 6.890625 26.703125 6.890625 \r\nQ 35.15625 6.890625 40.078125 11.328125 \r\nQ 45.015625 15.765625 45.015625 23.390625 \r\nQ 45.015625 31 40.078125 35.4375 \r\nQ 35.15625 39.890625 26.703125 39.890625 \r\nQ 22.75 39.890625 18.8125 39.015625 \r\nQ 14.890625 38.140625 10.796875 36.28125 \r\nz\r\n\" id=\"DejaVuSans-35\"/>\r\n      </defs>\r\n      <g transform=\"translate(7.2 259.418438)scale(0.1 -0.1)\">\r\n       <use xlink:href=\"#DejaVuSans-2212\"/>\r\n       <use x=\"83.789062\" xlink:href=\"#DejaVuSans-30\"/>\r\n       <use x=\"147.412109\" xlink:href=\"#DejaVuSans-2e\"/>\r\n       <use x=\"179.199219\" xlink:href=\"#DejaVuSans-35\"/>\r\n      </g>\r\n     </g>\r\n    </g>\r\n    <g id=\"ytick_3\">\r\n     <g id=\"line2d_12\">\r\n      <g>\r\n       <use style=\"stroke:#000000;stroke-width:0.8;\" x=\"38.482813\" xlink:href=\"#m2b71cbd627\" y=\"174.079219\"/>\r\n      </g>\r\n     </g>\r\n     <g id=\"text_12\">\r\n      <!-- 0.0 -->\r\n      <g transform=\"translate(15.579688 177.878438)scale(0.1 -0.1)\">\r\n       <use xlink:href=\"#DejaVuSans-30\"/>\r\n       <use x=\"63.623047\" xlink:href=\"#DejaVuSans-2e\"/>\r\n       <use x=\"95.410156\" xlink:href=\"#DejaVuSans-30\"/>\r\n      </g>\r\n     </g>\r\n    </g>\r\n    <g id=\"ytick_4\">\r\n     <g id=\"line2d_13\">\r\n      <g>\r\n       <use style=\"stroke:#000000;stroke-width:0.8;\" x=\"38.482813\" xlink:href=\"#m2b71cbd627\" y=\"92.539219\"/>\r\n      </g>\r\n     </g>\r\n     <g id=\"text_13\">\r\n      <!-- 0.5 -->\r\n      <g transform=\"translate(15.579688 96.338438)scale(0.1 -0.1)\">\r\n       <use xlink:href=\"#DejaVuSans-30\"/>\r\n       <use x=\"63.623047\" xlink:href=\"#DejaVuSans-2e\"/>\r\n       <use x=\"95.410156\" xlink:href=\"#DejaVuSans-35\"/>\r\n      </g>\r\n     </g>\r\n    </g>\r\n    <g id=\"ytick_5\">\r\n     <g id=\"line2d_14\">\r\n      <g>\r\n       <use style=\"stroke:#000000;stroke-width:0.8;\" x=\"38.482813\" xlink:href=\"#m2b71cbd627\" y=\"10.999219\"/>\r\n      </g>\r\n     </g>\r\n     <g id=\"text_14\">\r\n      <!-- 1.0 -->\r\n      <g transform=\"translate(15.579688 14.798438)scale(0.1 -0.1)\">\r\n       <use xlink:href=\"#DejaVuSans-31\"/>\r\n       <use x=\"63.623047\" xlink:href=\"#DejaVuSans-2e\"/>\r\n       <use x=\"95.410156\" xlink:href=\"#DejaVuSans-30\"/>\r\n      </g>\r\n     </g>\r\n    </g>\r\n   </g>\r\n   <g id=\"line2d_15\">\r\n    <path clip-path=\"url(#pd6ee8834bc)\" d=\"M 86.381942 337.159219 \r\nL 89.13176 336.961238 \r\nL 91.881578 336.367778 \r\nL 94.631395 335.380278 \r\nL 97.381213 334.001137 \r\nL 100.13103 332.233703 \r\nL 102.880848 330.082267 \r\nL 105.630665 327.552054 \r\nL 108.380483 324.649206 \r\nL 111.130301 321.380772 \r\nL 113.880118 317.754687 \r\nL 116.629936 313.779756 \r\nL 119.379753 309.46563 \r\nL 122.129571 304.822784 \r\nL 124.879388 299.86249 \r\nL 129.004115 291.853385 \r\nL 133.128841 283.201038 \r\nL 137.253567 273.952705 \r\nL 141.378294 264.158899 \r\nL 145.50302 253.873108 \r\nL 151.002655 239.490857 \r\nL 156.50229 224.47371 \r\nL 163.376834 205.031981 \r\nL 174.376105 173.074655 \r\nL 186.750284 137.231083 \r\nL 193.624828 117.988029 \r\nL 199.124463 103.192188 \r\nL 204.624098 89.084388 \r\nL 208.748824 79.037728 \r\nL 212.873551 69.510151 \r\nL 216.998277 60.553695 \r\nL 221.123003 52.217275 \r\nL 225.24773 44.546424 \r\nL 227.997547 39.823128 \r\nL 230.747365 35.425808 \r\nL 233.497182 31.365141 \r\nL 236.247 27.650986 \r\nL 238.996818 24.292361 \r\nL 241.746635 21.297421 \r\nL 244.496453 18.673437 \r\nL 247.24627 16.426781 \r\nL 249.996088 14.562908 \r\nL 252.745905 13.086343 \r\nL 255.495723 12.000671 \r\nL 258.245541 11.308528 \r\nL 260.995358 11.011595 \r\nL 263.745176 11.110593 \r\nL 266.494993 11.605281 \r\nL 269.244811 12.494458 \r\nL 271.994628 13.775966 \r\nL 274.744446 15.446692 \r\nL 277.494264 17.502581 \r\nL 280.244081 19.93864 \r\nL 282.993899 22.748955 \r\nL 285.743716 25.926702 \r\nL 288.493534 29.464166 \r\nL 291.243351 33.352757 \r\nL 293.993169 37.583035 \r\nL 296.742987 42.144727 \r\nL 299.492804 47.026759 \r\nL 303.61753 54.924306 \r\nL 307.742257 63.472636 \r\nL 311.866983 72.625061 \r\nL 315.99171 82.331593 \r\nL 320.116436 92.539219 \r\nL 325.616071 106.83215 \r\nL 331.115706 121.777794 \r\nL 337.99025 141.156235 \r\nL 347.614612 169.057161 \r\nL 361.363699 208.967426 \r\nL 368.238243 228.279639 \r\nL 373.737878 243.15151 \r\nL 379.237514 257.352954 \r\nL 383.36224 267.480865 \r\nL 387.486966 277.09865 \r\nL 391.611693 286.153777 \r\nL 395.736419 294.596793 \r\nL 399.861145 302.381583 \r\nL 402.610963 307.184611 \r\nL 405.360781 311.664457 \r\nL 408.110598 315.810244 \r\nL 410.860416 319.611906 \r\nL 413.610233 323.060212 \r\nL 416.360051 326.14679 \r\nL 419.109868 328.864145 \r\nL 421.859686 331.205681 \r\nL 424.609504 333.16571 \r\nL 427.359321 334.739476 \r\nL 430.109139 335.923155 \r\nL 432.858956 336.713876 \r\nL 435.608774 337.109716 \r\nL 436.983683 337.159219 \r\nL 436.983683 337.159219 \r\n\" style=\"fill:none;stroke:#0000ff;stroke-linecap:square;\"/>\r\n   </g>\r\n   <g id=\"line2d_16\">\r\n    <path clip-path=\"url(#pd6ee8834bc)\" d=\"M 86.381942 174.079219 \r\nL 98.756121 209.948071 \r\nL 105.630665 229.22607 \r\nL 111.130301 244.060208 \r\nL 116.629936 258.215098 \r\nL 120.754662 268.302575 \r\nL 124.879388 277.875437 \r\nL 129.004115 286.8814 \r\nL 133.128841 295.271277 \r\nL 137.253567 302.999245 \r\nL 140.003385 307.762497 \r\nL 142.753203 312.201164 \r\nL 145.50302 316.304469 \r\nL 148.252838 320.062448 \r\nL 151.002655 323.465978 \r\nL 153.752473 326.506795 \r\nL 156.50229 329.177515 \r\nL 159.252108 331.471655 \r\nL 162.001926 333.383642 \r\nL 164.751743 334.908837 \r\nL 167.501561 336.043534 \r\nL 170.251378 336.78498 \r\nL 173.001196 337.131373 \r\nL 175.751013 337.081873 \r\nL 178.500831 336.6366 \r\nL 181.250649 335.796636 \r\nL 184.000466 334.564019 \r\nL 186.750284 332.941742 \r\nL 189.500101 330.933745 \r\nL 192.249919 328.544902 \r\nL 194.999736 325.781014 \r\nL 197.749554 322.648792 \r\nL 200.499372 319.155841 \r\nL 203.249189 315.310642 \r\nL 205.999007 311.12253 \r\nL 208.748824 306.601675 \r\nL 211.498642 301.759053 \r\nL 215.623368 293.917736 \r\nL 219.748095 285.421902 \r\nL 223.872821 276.317953 \r\nL 227.997547 266.655611 \r\nL 232.122274 256.48765 \r\nL 237.621909 242.240192 \r\nL 243.121544 227.331152 \r\nL 249.996088 207.985457 \r\nL 259.620449 180.105269 \r\nL 274.744446 136.253197 \r\nL 281.61899 117.045819 \r\nL 287.118625 102.288836 \r\nL 292.61826 88.228662 \r\nL 296.742987 78.2232 \r\nL 300.867713 68.74127 \r\nL 304.992439 59.83466 \r\nL 309.117166 51.552014 \r\nL 313.241892 43.938569 \r\nL 315.99171 39.25541 \r\nL 318.741527 34.899604 \r\nL 321.491345 30.881729 \r\nL 324.241162 27.211539 \r\nL 326.99098 23.897947 \r\nL 329.740797 20.948997 \r\nL 332.490615 18.371849 \r\nL 335.240432 16.172762 \r\nL 337.99025 14.357074 \r\nL 340.740068 12.929194 \r\nL 343.489885 11.892588 \r\nL 346.239703 11.249774 \r\nL 348.98952 11.002313 \r\nL 351.739338 11.150805 \r\nL 354.489155 11.694889 \r\nL 357.238973 12.633246 \r\nL 359.988791 13.963595 \r\nL 362.738608 15.682708 \r\nL 365.488426 17.78641 \r\nL 368.238243 20.269594 \r\nL 370.988061 23.126229 \r\nL 373.737878 26.349381 \r\nL 376.487696 29.931223 \r\nL 379.237514 33.863059 \r\nL 381.987331 38.135342 \r\nL 384.737149 42.737698 \r\nL 387.486966 47.658954 \r\nL 391.611693 55.612431 \r\nL 395.736419 64.212933 \r\nL 399.861145 73.413486 \r\nL 403.985872 83.163841 \r\nL 408.110598 93.410744 \r\nL 413.610233 107.748607 \r\nL 419.109868 122.730286 \r\nL 425.984412 142.14074 \r\nL 435.608774 170.061344 \r\nL 436.983683 174.079219 \r\nL 436.983683 174.079219 \r\n\" style=\"fill:none;stroke:#008000;stroke-linecap:square;\"/>\r\n   </g>\r\n   <g id=\"patch_3\">\r\n    <path d=\"M 38.482813 337.159219 \r\nL 38.482813 10.999219 \r\n\" style=\"fill:none;stroke:#000000;stroke-linecap:square;stroke-linejoin:miter;stroke-width:0.8;\"/>\r\n   </g>\r\n   <g id=\"patch_4\">\r\n    <path d=\"M 484.882812 337.159219 \r\nL 484.882812 10.999219 \r\n\" style=\"fill:none;stroke:#000000;stroke-linecap:square;stroke-linejoin:miter;stroke-width:0.8;\"/>\r\n   </g>\r\n   <g id=\"patch_5\">\r\n    <path d=\"M 38.482813 337.159219 \r\nL 484.882812 337.159219 \r\n\" style=\"fill:none;stroke:#000000;stroke-linecap:square;stroke-linejoin:miter;stroke-width:0.8;\"/>\r\n   </g>\r\n   <g id=\"patch_6\">\r\n    <path d=\"M 38.482813 10.999219 \r\nL 484.882812 10.999219 \r\n\" style=\"fill:none;stroke:#000000;stroke-linecap:square;stroke-linejoin:miter;stroke-width:0.8;\"/>\r\n   </g>\r\n  </g>\r\n </g>\r\n <defs>\r\n  <clipPath id=\"pd6ee8834bc\">\r\n   <rect height=\"326.16\" width=\"446.4\" x=\"38.482813\" y=\"10.999219\"/>\r\n  </clipPath>\r\n </defs>\r\n</svg>\r\n",
      "text/plain": "<matplotlib.figure.Figure at 0x20ddc22deb8>"
     },
     "metadata": {
      "needs_background": "light"
     },
     "output_type": "display_data"
    }
   ],
   "source": [
    "# Create a figure of size 8x6 inches, 80 dots per inch\n",
    "plt.figure(figsize=(8, 6), dpi=80)\n",
    "\n",
    "# Create a new subplot from a grid of 1x1\n",
    "plt.subplot(1, 1, 1)\n",
    "\n",
    "X = np.linspace(-np.pi, np.pi, 256, endpoint=True)\n",
    "C, S = np.cos(X), np.sin(X)\n",
    "\n",
    "# Plot cosine with a blue continuous line of width 1 (pixels)\n",
    "plt.plot(X, C, color=\"blue\", linewidth=1.0, linestyle=\"-\")\n",
    "\n",
    "# Plot sine with a green continuous line of width 1 (pixels)\n",
    "plt.plot(X, S, color=\"green\", linewidth=1.0, linestyle=\"-\")\n",
    "\n",
    "# Set x limits\n",
    "plt.xlim(-4.0, 4.0)\n",
    "\n",
    "# Set x ticks\n",
    "plt.xticks(np.linspace(-4, 4, 9, endpoint=True))\n",
    "\n",
    "# Set y limits\n",
    "plt.ylim(-1.0, 1.0)\n",
    "\n",
    "# Set y ticks\n",
    "plt.yticks(np.linspace(-1, 1, 5, endpoint=True))\n",
    "\n",
    "# Save figure using 72 dots per inch\n",
    "# plt.savefig(\"exercice_2.png\", dpi=72)\n",
    "\n",
    "# Show result on screen\n",
    "plt.show()"
   ]
  },
  {
   "cell_type": "code",
   "execution_count": 407,
   "metadata": {},
   "outputs": [
    {
     "data": {
      "text/plain": "[<matplotlib.lines.Line2D at 0x20ddd3b3710>]"
     },
     "execution_count": 407,
     "metadata": {},
     "output_type": "execute_result"
    },
    {
     "data": {
      "image/svg+xml": "<?xml version=\"1.0\" encoding=\"utf-8\" standalone=\"no\"?>\r\n<!DOCTYPE svg PUBLIC \"-//W3C//DTD SVG 1.1//EN\"\r\n  \"http://www.w3.org/Graphics/SVG/1.1/DTD/svg11.dtd\">\r\n<!-- Created with matplotlib (http://matplotlib.org/) -->\r\n<svg height=\"360pt\" version=\"1.1\" viewBox=\"0 0 613 360\" width=\"613pt\" xmlns=\"http://www.w3.org/2000/svg\" xmlns:xlink=\"http://www.w3.org/1999/xlink\">\r\n <defs>\r\n  <style type=\"text/css\">\r\n*{stroke-linecap:butt;stroke-linejoin:round;}\r\n  </style>\r\n </defs>\r\n <g id=\"figure_1\">\r\n  <g id=\"patch_1\">\r\n   <path d=\"M 0 360.738125 \r\nL 613.545312 360.738125 \r\nL 613.545312 0 \r\nL 0 0 \r\nz\r\n\" style=\"fill:none;\"/>\r\n  </g>\r\n  <g id=\"axes_1\">\r\n   <g id=\"patch_2\">\r\n    <path d=\"M 44.845313 336.86 \r\nL 602.845312 336.86 \r\nL 602.845312 10.7 \r\nL 44.845313 10.7 \r\nz\r\n\" style=\"fill:#ffffff;\"/>\r\n   </g>\r\n   <g id=\"matplotlib.axis_1\">\r\n    <g id=\"xtick_1\">\r\n     <g id=\"line2d_1\">\r\n      <defs>\r\n       <path d=\"M 0 0 \r\nL 0 3.5 \r\n\" id=\"m87921e9ab6\" style=\"stroke:#000000;stroke-width:0.8;\"/>\r\n      </defs>\r\n      <g>\r\n       <use style=\"stroke:#000000;stroke-width:0.8;\" x=\"81.640426\" xlink:href=\"#m87921e9ab6\" y=\"336.86\"/>\r\n      </g>\r\n     </g>\r\n     <g id=\"text_1\">\r\n      <!-- −3 -->\r\n      <defs>\r\n       <path d=\"M 10.59375 35.5 \r\nL 73.1875 35.5 \r\nL 73.1875 27.203125 \r\nL 10.59375 27.203125 \r\nz\r\n\" id=\"DejaVuSans-2212\"/>\r\n       <path d=\"M 40.578125 39.3125 \r\nQ 47.65625 37.796875 51.625 33 \r\nQ 55.609375 28.21875 55.609375 21.1875 \r\nQ 55.609375 10.40625 48.1875 4.484375 \r\nQ 40.765625 -1.421875 27.09375 -1.421875 \r\nQ 22.515625 -1.421875 17.65625 -0.515625 \r\nQ 12.796875 0.390625 7.625 2.203125 \r\nL 7.625 11.71875 \r\nQ 11.71875 9.328125 16.59375 8.109375 \r\nQ 21.484375 6.890625 26.8125 6.890625 \r\nQ 36.078125 6.890625 40.9375 10.546875 \r\nQ 45.796875 14.203125 45.796875 21.1875 \r\nQ 45.796875 27.640625 41.28125 31.265625 \r\nQ 36.765625 34.90625 28.71875 34.90625 \r\nL 20.21875 34.90625 \r\nL 20.21875 43.015625 \r\nL 29.109375 43.015625 \r\nQ 36.375 43.015625 40.234375 45.921875 \r\nQ 44.09375 48.828125 44.09375 54.296875 \r\nQ 44.09375 59.90625 40.109375 62.90625 \r\nQ 36.140625 65.921875 28.71875 65.921875 \r\nQ 24.65625 65.921875 20.015625 65.03125 \r\nQ 15.375 64.15625 9.8125 62.3125 \r\nL 9.8125 71.09375 \r\nQ 15.4375 72.65625 20.34375 73.4375 \r\nQ 25.25 74.21875 29.59375 74.21875 \r\nQ 40.828125 74.21875 47.359375 69.109375 \r\nQ 53.90625 64.015625 53.90625 55.328125 \r\nQ 53.90625 49.265625 50.4375 45.09375 \r\nQ 46.96875 40.921875 40.578125 39.3125 \r\nz\r\n\" id=\"DejaVuSans-33\"/>\r\n      </defs>\r\n      <g transform=\"translate(74.269333 351.458437)scale(0.1 -0.1)\">\r\n       <use xlink:href=\"#DejaVuSans-2212\"/>\r\n       <use x=\"83.789062\" xlink:href=\"#DejaVuSans-33\"/>\r\n      </g>\r\n     </g>\r\n    </g>\r\n    <g id=\"xtick_2\">\r\n     <g id=\"line2d_2\">\r\n      <g>\r\n       <use style=\"stroke:#000000;stroke-width:0.8;\" x=\"162.375388\" xlink:href=\"#m87921e9ab6\" y=\"336.86\"/>\r\n      </g>\r\n     </g>\r\n     <g id=\"text_2\">\r\n      <!-- −2 -->\r\n      <defs>\r\n       <path d=\"M 19.1875 8.296875 \r\nL 53.609375 8.296875 \r\nL 53.609375 0 \r\nL 7.328125 0 \r\nL 7.328125 8.296875 \r\nQ 12.9375 14.109375 22.625 23.890625 \r\nQ 32.328125 33.6875 34.8125 36.53125 \r\nQ 39.546875 41.84375 41.421875 45.53125 \r\nQ 43.3125 49.21875 43.3125 52.78125 \r\nQ 43.3125 58.59375 39.234375 62.25 \r\nQ 35.15625 65.921875 28.609375 65.921875 \r\nQ 23.96875 65.921875 18.8125 64.3125 \r\nQ 13.671875 62.703125 7.8125 59.421875 \r\nL 7.8125 69.390625 \r\nQ 13.765625 71.78125 18.9375 73 \r\nQ 24.125 74.21875 28.421875 74.21875 \r\nQ 39.75 74.21875 46.484375 68.546875 \r\nQ 53.21875 62.890625 53.21875 53.421875 \r\nQ 53.21875 48.921875 51.53125 44.890625 \r\nQ 49.859375 40.875 45.40625 35.40625 \r\nQ 44.1875 33.984375 37.640625 27.21875 \r\nQ 31.109375 20.453125 19.1875 8.296875 \r\nz\r\n\" id=\"DejaVuSans-32\"/>\r\n      </defs>\r\n      <g transform=\"translate(155.004295 351.458437)scale(0.1 -0.1)\">\r\n       <use xlink:href=\"#DejaVuSans-2212\"/>\r\n       <use x=\"83.789062\" xlink:href=\"#DejaVuSans-32\"/>\r\n      </g>\r\n     </g>\r\n    </g>\r\n    <g id=\"xtick_3\">\r\n     <g id=\"line2d_3\">\r\n      <g>\r\n       <use style=\"stroke:#000000;stroke-width:0.8;\" x=\"243.11035\" xlink:href=\"#m87921e9ab6\" y=\"336.86\"/>\r\n      </g>\r\n     </g>\r\n     <g id=\"text_3\">\r\n      <!-- −1 -->\r\n      <defs>\r\n       <path d=\"M 12.40625 8.296875 \r\nL 28.515625 8.296875 \r\nL 28.515625 63.921875 \r\nL 10.984375 60.40625 \r\nL 10.984375 69.390625 \r\nL 28.421875 72.90625 \r\nL 38.28125 72.90625 \r\nL 38.28125 8.296875 \r\nL 54.390625 8.296875 \r\nL 54.390625 0 \r\nL 12.40625 0 \r\nz\r\n\" id=\"DejaVuSans-31\"/>\r\n      </defs>\r\n      <g transform=\"translate(235.739257 351.458437)scale(0.1 -0.1)\">\r\n       <use xlink:href=\"#DejaVuSans-2212\"/>\r\n       <use x=\"83.789062\" xlink:href=\"#DejaVuSans-31\"/>\r\n      </g>\r\n     </g>\r\n    </g>\r\n    <g id=\"xtick_4\">\r\n     <g id=\"line2d_4\">\r\n      <g>\r\n       <use style=\"stroke:#000000;stroke-width:0.8;\" x=\"323.845312\" xlink:href=\"#m87921e9ab6\" y=\"336.86\"/>\r\n      </g>\r\n     </g>\r\n     <g id=\"text_4\">\r\n      <!-- 0 -->\r\n      <defs>\r\n       <path d=\"M 31.78125 66.40625 \r\nQ 24.171875 66.40625 20.328125 58.90625 \r\nQ 16.5 51.421875 16.5 36.375 \r\nQ 16.5 21.390625 20.328125 13.890625 \r\nQ 24.171875 6.390625 31.78125 6.390625 \r\nQ 39.453125 6.390625 43.28125 13.890625 \r\nQ 47.125 21.390625 47.125 36.375 \r\nQ 47.125 51.421875 43.28125 58.90625 \r\nQ 39.453125 66.40625 31.78125 66.40625 \r\nz\r\nM 31.78125 74.21875 \r\nQ 44.046875 74.21875 50.515625 64.515625 \r\nQ 56.984375 54.828125 56.984375 36.375 \r\nQ 56.984375 17.96875 50.515625 8.265625 \r\nQ 44.046875 -1.421875 31.78125 -1.421875 \r\nQ 19.53125 -1.421875 13.0625 8.265625 \r\nQ 6.59375 17.96875 6.59375 36.375 \r\nQ 6.59375 54.828125 13.0625 64.515625 \r\nQ 19.53125 74.21875 31.78125 74.21875 \r\nz\r\n\" id=\"DejaVuSans-30\"/>\r\n      </defs>\r\n      <g transform=\"translate(320.664062 351.458437)scale(0.1 -0.1)\">\r\n       <use xlink:href=\"#DejaVuSans-30\"/>\r\n      </g>\r\n     </g>\r\n    </g>\r\n    <g id=\"xtick_5\">\r\n     <g id=\"line2d_5\">\r\n      <g>\r\n       <use style=\"stroke:#000000;stroke-width:0.8;\" x=\"404.580275\" xlink:href=\"#m87921e9ab6\" y=\"336.86\"/>\r\n      </g>\r\n     </g>\r\n     <g id=\"text_5\">\r\n      <!-- 1 -->\r\n      <g transform=\"translate(401.399025 351.458437)scale(0.1 -0.1)\">\r\n       <use xlink:href=\"#DejaVuSans-31\"/>\r\n      </g>\r\n     </g>\r\n    </g>\r\n    <g id=\"xtick_6\">\r\n     <g id=\"line2d_6\">\r\n      <g>\r\n       <use style=\"stroke:#000000;stroke-width:0.8;\" x=\"485.315237\" xlink:href=\"#m87921e9ab6\" y=\"336.86\"/>\r\n      </g>\r\n     </g>\r\n     <g id=\"text_6\">\r\n      <!-- 2 -->\r\n      <g transform=\"translate(482.133987 351.458437)scale(0.1 -0.1)\">\r\n       <use xlink:href=\"#DejaVuSans-32\"/>\r\n      </g>\r\n     </g>\r\n    </g>\r\n    <g id=\"xtick_7\">\r\n     <g id=\"line2d_7\">\r\n      <g>\r\n       <use style=\"stroke:#000000;stroke-width:0.8;\" x=\"566.050199\" xlink:href=\"#m87921e9ab6\" y=\"336.86\"/>\r\n      </g>\r\n     </g>\r\n     <g id=\"text_7\">\r\n      <!-- 3 -->\r\n      <g transform=\"translate(562.868949 351.458437)scale(0.1 -0.1)\">\r\n       <use xlink:href=\"#DejaVuSans-33\"/>\r\n      </g>\r\n     </g>\r\n    </g>\r\n   </g>\r\n   <g id=\"matplotlib.axis_2\">\r\n    <g id=\"ytick_1\">\r\n     <g id=\"line2d_8\">\r\n      <defs>\r\n       <path d=\"M 0 0 \r\nL -3.5 0 \r\n\" id=\"md4b62c880a\" style=\"stroke:#000000;stroke-width:0.8;\"/>\r\n      </defs>\r\n      <g>\r\n       <use style=\"stroke:#000000;stroke-width:0.8;\" x=\"44.845313\" xlink:href=\"#md4b62c880a\" y=\"322.034545\"/>\r\n      </g>\r\n     </g>\r\n     <g id=\"text_8\">\r\n      <!-- −1.00 -->\r\n      <defs>\r\n       <path d=\"M 10.6875 12.40625 \r\nL 21 12.40625 \r\nL 21 0 \r\nL 10.6875 0 \r\nz\r\n\" id=\"DejaVuSans-2e\"/>\r\n      </defs>\r\n      <g transform=\"translate(7.2 325.833764)scale(0.1 -0.1)\">\r\n       <use xlink:href=\"#DejaVuSans-2212\"/>\r\n       <use x=\"83.789062\" xlink:href=\"#DejaVuSans-31\"/>\r\n       <use x=\"147.412109\" xlink:href=\"#DejaVuSans-2e\"/>\r\n       <use x=\"179.199219\" xlink:href=\"#DejaVuSans-30\"/>\r\n       <use x=\"242.822266\" xlink:href=\"#DejaVuSans-30\"/>\r\n      </g>\r\n     </g>\r\n    </g>\r\n    <g id=\"ytick_2\">\r\n     <g id=\"line2d_9\">\r\n      <g>\r\n       <use style=\"stroke:#000000;stroke-width:0.8;\" x=\"44.845313\" xlink:href=\"#md4b62c880a\" y=\"284.970557\"/>\r\n      </g>\r\n     </g>\r\n     <g id=\"text_9\">\r\n      <!-- −0.75 -->\r\n      <defs>\r\n       <path d=\"M 8.203125 72.90625 \r\nL 55.078125 72.90625 \r\nL 55.078125 68.703125 \r\nL 28.609375 0 \r\nL 18.3125 0 \r\nL 43.21875 64.59375 \r\nL 8.203125 64.59375 \r\nz\r\n\" id=\"DejaVuSans-37\"/>\r\n       <path d=\"M 10.796875 72.90625 \r\nL 49.515625 72.90625 \r\nL 49.515625 64.59375 \r\nL 19.828125 64.59375 \r\nL 19.828125 46.734375 \r\nQ 21.96875 47.46875 24.109375 47.828125 \r\nQ 26.265625 48.1875 28.421875 48.1875 \r\nQ 40.625 48.1875 47.75 41.5 \r\nQ 54.890625 34.8125 54.890625 23.390625 \r\nQ 54.890625 11.625 47.5625 5.09375 \r\nQ 40.234375 -1.421875 26.90625 -1.421875 \r\nQ 22.3125 -1.421875 17.546875 -0.640625 \r\nQ 12.796875 0.140625 7.71875 1.703125 \r\nL 7.71875 11.625 \r\nQ 12.109375 9.234375 16.796875 8.0625 \r\nQ 21.484375 6.890625 26.703125 6.890625 \r\nQ 35.15625 6.890625 40.078125 11.328125 \r\nQ 45.015625 15.765625 45.015625 23.390625 \r\nQ 45.015625 31 40.078125 35.4375 \r\nQ 35.15625 39.890625 26.703125 39.890625 \r\nQ 22.75 39.890625 18.8125 39.015625 \r\nQ 14.890625 38.140625 10.796875 36.28125 \r\nz\r\n\" id=\"DejaVuSans-35\"/>\r\n      </defs>\r\n      <g transform=\"translate(7.2 288.769776)scale(0.1 -0.1)\">\r\n       <use xlink:href=\"#DejaVuSans-2212\"/>\r\n       <use x=\"83.789062\" xlink:href=\"#DejaVuSans-30\"/>\r\n       <use x=\"147.412109\" xlink:href=\"#DejaVuSans-2e\"/>\r\n       <use x=\"179.199219\" xlink:href=\"#DejaVuSans-37\"/>\r\n       <use x=\"242.822266\" xlink:href=\"#DejaVuSans-35\"/>\r\n      </g>\r\n     </g>\r\n    </g>\r\n    <g id=\"ytick_3\">\r\n     <g id=\"line2d_10\">\r\n      <g>\r\n       <use style=\"stroke:#000000;stroke-width:0.8;\" x=\"44.845313\" xlink:href=\"#md4b62c880a\" y=\"247.90657\"/>\r\n      </g>\r\n     </g>\r\n     <g id=\"text_10\">\r\n      <!-- −0.50 -->\r\n      <g transform=\"translate(7.2 251.705788)scale(0.1 -0.1)\">\r\n       <use xlink:href=\"#DejaVuSans-2212\"/>\r\n       <use x=\"83.789062\" xlink:href=\"#DejaVuSans-30\"/>\r\n       <use x=\"147.412109\" xlink:href=\"#DejaVuSans-2e\"/>\r\n       <use x=\"179.199219\" xlink:href=\"#DejaVuSans-35\"/>\r\n       <use x=\"242.822266\" xlink:href=\"#DejaVuSans-30\"/>\r\n      </g>\r\n     </g>\r\n    </g>\r\n    <g id=\"ytick_4\">\r\n     <g id=\"line2d_11\">\r\n      <g>\r\n       <use style=\"stroke:#000000;stroke-width:0.8;\" x=\"44.845313\" xlink:href=\"#md4b62c880a\" y=\"210.842582\"/>\r\n      </g>\r\n     </g>\r\n     <g id=\"text_11\">\r\n      <!-- −0.25 -->\r\n      <g transform=\"translate(7.2 214.6418)scale(0.1 -0.1)\">\r\n       <use xlink:href=\"#DejaVuSans-2212\"/>\r\n       <use x=\"83.789062\" xlink:href=\"#DejaVuSans-30\"/>\r\n       <use x=\"147.412109\" xlink:href=\"#DejaVuSans-2e\"/>\r\n       <use x=\"179.199219\" xlink:href=\"#DejaVuSans-32\"/>\r\n       <use x=\"242.822266\" xlink:href=\"#DejaVuSans-35\"/>\r\n      </g>\r\n     </g>\r\n    </g>\r\n    <g id=\"ytick_5\">\r\n     <g id=\"line2d_12\">\r\n      <g>\r\n       <use style=\"stroke:#000000;stroke-width:0.8;\" x=\"44.845313\" xlink:href=\"#md4b62c880a\" y=\"173.778594\"/>\r\n      </g>\r\n     </g>\r\n     <g id=\"text_12\">\r\n      <!-- 0.00 -->\r\n      <g transform=\"translate(15.579688 177.577812)scale(0.1 -0.1)\">\r\n       <use xlink:href=\"#DejaVuSans-30\"/>\r\n       <use x=\"63.623047\" xlink:href=\"#DejaVuSans-2e\"/>\r\n       <use x=\"95.410156\" xlink:href=\"#DejaVuSans-30\"/>\r\n       <use x=\"159.033203\" xlink:href=\"#DejaVuSans-30\"/>\r\n      </g>\r\n     </g>\r\n    </g>\r\n    <g id=\"ytick_6\">\r\n     <g id=\"line2d_13\">\r\n      <g>\r\n       <use style=\"stroke:#000000;stroke-width:0.8;\" x=\"44.845313\" xlink:href=\"#md4b62c880a\" y=\"136.714606\"/>\r\n      </g>\r\n     </g>\r\n     <g id=\"text_13\">\r\n      <!-- 0.25 -->\r\n      <g transform=\"translate(15.579688 140.513824)scale(0.1 -0.1)\">\r\n       <use xlink:href=\"#DejaVuSans-30\"/>\r\n       <use x=\"63.623047\" xlink:href=\"#DejaVuSans-2e\"/>\r\n       <use x=\"95.410156\" xlink:href=\"#DejaVuSans-32\"/>\r\n       <use x=\"159.033203\" xlink:href=\"#DejaVuSans-35\"/>\r\n      </g>\r\n     </g>\r\n    </g>\r\n    <g id=\"ytick_7\">\r\n     <g id=\"line2d_14\">\r\n      <g>\r\n       <use style=\"stroke:#000000;stroke-width:0.8;\" x=\"44.845313\" xlink:href=\"#md4b62c880a\" y=\"99.650618\"/>\r\n      </g>\r\n     </g>\r\n     <g id=\"text_14\">\r\n      <!-- 0.50 -->\r\n      <g transform=\"translate(15.579688 103.449836)scale(0.1 -0.1)\">\r\n       <use xlink:href=\"#DejaVuSans-30\"/>\r\n       <use x=\"63.623047\" xlink:href=\"#DejaVuSans-2e\"/>\r\n       <use x=\"95.410156\" xlink:href=\"#DejaVuSans-35\"/>\r\n       <use x=\"159.033203\" xlink:href=\"#DejaVuSans-30\"/>\r\n      </g>\r\n     </g>\r\n    </g>\r\n    <g id=\"ytick_8\">\r\n     <g id=\"line2d_15\">\r\n      <g>\r\n       <use style=\"stroke:#000000;stroke-width:0.8;\" x=\"44.845313\" xlink:href=\"#md4b62c880a\" y=\"62.58663\"/>\r\n      </g>\r\n     </g>\r\n     <g id=\"text_15\">\r\n      <!-- 0.75 -->\r\n      <g transform=\"translate(15.579688 66.385848)scale(0.1 -0.1)\">\r\n       <use xlink:href=\"#DejaVuSans-30\"/>\r\n       <use x=\"63.623047\" xlink:href=\"#DejaVuSans-2e\"/>\r\n       <use x=\"95.410156\" xlink:href=\"#DejaVuSans-37\"/>\r\n       <use x=\"159.033203\" xlink:href=\"#DejaVuSans-35\"/>\r\n      </g>\r\n     </g>\r\n    </g>\r\n    <g id=\"ytick_9\">\r\n     <g id=\"line2d_16\">\r\n      <g>\r\n       <use style=\"stroke:#000000;stroke-width:0.8;\" x=\"44.845313\" xlink:href=\"#md4b62c880a\" y=\"25.522642\"/>\r\n      </g>\r\n     </g>\r\n     <g id=\"text_16\">\r\n      <!-- 1.00 -->\r\n      <g transform=\"translate(15.579688 29.32186)scale(0.1 -0.1)\">\r\n       <use xlink:href=\"#DejaVuSans-31\"/>\r\n       <use x=\"63.623047\" xlink:href=\"#DejaVuSans-2e\"/>\r\n       <use x=\"95.410156\" xlink:href=\"#DejaVuSans-30\"/>\r\n       <use x=\"159.033203\" xlink:href=\"#DejaVuSans-30\"/>\r\n      </g>\r\n     </g>\r\n    </g>\r\n   </g>\r\n   <g id=\"line2d_17\">\r\n    <path clip-path=\"url(#p4b54b35ebb)\" d=\"M 70.208949 322.034545 \r\nL 74.187558 321.854562 \r\nL 78.166168 321.315047 \r\nL 82.144778 320.417311 \r\nL 86.123387 319.163535 \r\nL 90.101997 317.556761 \r\nL 94.080607 315.600892 \r\nL 98.059216 313.300677 \r\nL 102.037826 310.661699 \r\nL 106.016435 307.690367 \r\nL 109.995045 304.393895 \r\nL 113.973655 300.780287 \r\nL 117.952264 296.858317 \r\nL 121.930874 292.637508 \r\nL 125.909484 288.128107 \r\nL 129.888093 283.341064 \r\nL 133.866703 278.288002 \r\nL 137.845312 272.981189 \r\nL 143.813227 264.573534 \r\nL 149.781141 255.669988 \r\nL 155.749056 246.319181 \r\nL 161.71697 236.572181 \r\nL 169.67419 223.052171 \r\nL 177.631409 209.053902 \r\nL 187.577933 191.090842 \r\nL 217.417505 136.731953 \r\nL 225.374724 122.786119 \r\nL 233.331944 109.335227 \r\nL 239.299858 99.650618 \r\nL 245.267772 90.37087 \r\nL 251.235687 81.546666 \r\nL 257.203601 73.226201 \r\nL 261.182211 67.981641 \r\nL 265.160821 62.993958 \r\nL 269.13943 58.275261 \r\nL 273.11804 53.837009 \r\nL 277.096649 49.689977 \r\nL 281.075259 45.844233 \r\nL 285.053869 42.309117 \r\nL 289.032478 39.09321 \r\nL 293.011088 36.204321 \r\nL 296.989698 33.649465 \r\nL 300.968307 31.434845 \r\nL 304.946917 29.565838 \r\nL 308.925526 28.046981 \r\nL 312.904136 26.881963 \r\nL 316.882746 26.073612 \r\nL 320.861355 25.623892 \r\nL 324.839965 25.533893 \r\nL 328.818575 25.803835 \r\nL 332.797184 26.433061 \r\nL 336.775794 27.420045 \r\nL 340.754403 28.76239 \r\nL 344.733013 30.456836 \r\nL 348.711623 32.49927 \r\nL 352.690232 34.884733 \r\nL 356.668842 37.607431 \r\nL 360.647452 40.660756 \r\nL 364.626061 44.037292 \r\nL 368.604671 47.728843 \r\nL 372.58328 51.726444 \r\nL 376.56189 56.02039 \r\nL 380.5405 60.600255 \r\nL 384.519109 65.454918 \r\nL 388.497719 70.572593 \r\nL 394.465633 78.714903 \r\nL 400.433548 87.376419 \r\nL 406.401462 96.509833 \r\nL 412.369377 106.065262 \r\nL 418.337291 115.990518 \r\nL 426.29451 129.705531 \r\nL 436.241034 147.43485 \r\nL 450.166168 172.865345 \r\nL 466.080607 201.917735 \r\nL 476.027131 219.592202 \r\nL 483.98435 233.244283 \r\nL 489.952264 243.111615 \r\nL 495.920179 252.600274 \r\nL 501.888093 261.658436 \r\nL 507.856008 270.236629 \r\nL 513.823922 278.288002 \r\nL 517.802532 283.341064 \r\nL 521.781141 288.128107 \r\nL 525.759751 292.637508 \r\nL 529.738361 296.858317 \r\nL 533.71697 300.780287 \r\nL 537.69558 304.393895 \r\nL 541.67419 307.690367 \r\nL 545.652799 310.661699 \r\nL 549.631409 313.300677 \r\nL 553.610018 315.600892 \r\nL 557.588628 317.556761 \r\nL 561.567238 319.163535 \r\nL 565.545847 320.417311 \r\nL 569.524457 321.315047 \r\nL 573.503067 321.854562 \r\nL 577.481676 322.034545 \r\nL 577.481676 322.034545 \r\n\" style=\"fill:none;stroke:#0000ff;stroke-linecap:square;stroke-width:2.5;\"/>\r\n   </g>\r\n   <g id=\"line2d_18\">\r\n    <path clip-path=\"url(#p4b54b35ebb)\" d=\"M 70.208949 173.778594 \r\nL 86.123387 202.81385 \r\nL 96.069911 220.459884 \r\nL 104.027131 234.079722 \r\nL 109.995045 243.917529 \r\nL 115.96296 253.372262 \r\nL 121.930874 262.392282 \r\nL 127.898788 270.928325 \r\nL 133.866703 278.933769 \r\nL 137.845312 283.954237 \r\nL 141.823922 288.707197 \r\nL 145.802532 293.181108 \r\nL 149.781141 297.365109 \r\nL 153.759751 301.249039 \r\nL 157.738361 304.823469 \r\nL 161.71697 308.07972 \r\nL 165.69558 311.009886 \r\nL 169.67419 313.606852 \r\nL 173.652799 315.864313 \r\nL 177.631409 317.776788 \r\nL 181.610018 319.339632 \r\nL 185.588628 320.549052 \r\nL 189.567238 321.402112 \r\nL 193.545847 321.896739 \r\nL 197.524457 322.031733 \r\nL 201.503067 321.806766 \r\nL 205.481676 321.222384 \r\nL 209.460286 320.280006 \r\nL 213.438895 318.981921 \r\nL 217.417505 317.33128 \r\nL 221.396115 315.33209 \r\nL 225.374724 312.989207 \r\nL 229.353334 310.308318 \r\nL 233.331944 307.295932 \r\nL 237.310553 303.959365 \r\nL 241.289163 300.306716 \r\nL 245.267772 296.346856 \r\nL 249.246382 292.089397 \r\nL 253.224992 287.544678 \r\nL 257.203601 282.723734 \r\nL 261.182211 277.638268 \r\nL 267.150125 269.541273 \r\nL 273.11804 260.921256 \r\nL 279.085954 251.825295 \r\nL 285.053869 242.30307 \r\nL 291.021783 232.406589 \r\nL 298.979002 218.722782 \r\nL 306.936222 204.602739 \r\nL 318.87205 182.905364 \r\nL 340.754403 142.954448 \r\nL 348.711623 128.834405 \r\nL 356.668842 115.150599 \r\nL 362.636756 105.254117 \r\nL 368.604671 95.731892 \r\nL 374.572585 86.635932 \r\nL 380.5405 78.015914 \r\nL 386.508414 69.918919 \r\nL 390.487024 64.833454 \r\nL 394.465633 60.012509 \r\nL 398.444243 55.46779 \r\nL 402.422853 51.210332 \r\nL 406.401462 47.250471 \r\nL 410.380072 43.597822 \r\nL 414.358681 40.261255 \r\nL 418.337291 37.248869 \r\nL 422.315901 34.56798 \r\nL 426.29451 32.225097 \r\nL 430.27312 30.225907 \r\nL 434.25173 28.575266 \r\nL 438.230339 27.277181 \r\nL 442.208949 26.334803 \r\nL 446.187558 25.750422 \r\nL 450.166168 25.525455 \r\nL 454.144778 25.660448 \r\nL 458.123387 26.155075 \r\nL 462.101997 27.008135 \r\nL 466.080607 28.217555 \r\nL 470.059216 29.7804 \r\nL 474.037826 31.692874 \r\nL 478.016435 33.950335 \r\nL 481.995045 36.547301 \r\nL 485.973655 39.477467 \r\nL 489.952264 42.733718 \r\nL 493.930874 46.308148 \r\nL 497.909484 50.192079 \r\nL 501.888093 54.376079 \r\nL 505.866703 58.84999 \r\nL 509.845312 63.60295 \r\nL 513.823922 68.623418 \r\nL 517.802532 73.899205 \r\nL 523.770446 82.263423 \r\nL 529.738361 91.127466 \r\nL 535.706275 100.442921 \r\nL 541.67419 110.158909 \r\nL 549.631409 123.644617 \r\nL 557.588628 137.616933 \r\nL 567.535152 155.559673 \r\nL 577.481676 173.778594 \r\nL 577.481676 173.778594 \r\n\" style=\"fill:none;stroke:#ff0000;stroke-linecap:square;stroke-width:2.5;\"/>\r\n   </g>\r\n   <g id=\"patch_3\">\r\n    <path d=\"M 44.845313 336.86 \r\nL 44.845313 10.7 \r\n\" style=\"fill:none;stroke:#000000;stroke-linecap:square;stroke-linejoin:miter;stroke-width:0.8;\"/>\r\n   </g>\r\n   <g id=\"patch_4\">\r\n    <path d=\"M 602.845312 336.86 \r\nL 602.845312 10.7 \r\n\" style=\"fill:none;stroke:#000000;stroke-linecap:square;stroke-linejoin:miter;stroke-width:0.8;\"/>\r\n   </g>\r\n   <g id=\"patch_5\">\r\n    <path d=\"M 44.845312 336.86 \r\nL 602.845312 336.86 \r\n\" style=\"fill:none;stroke:#000000;stroke-linecap:square;stroke-linejoin:miter;stroke-width:0.8;\"/>\r\n   </g>\r\n   <g id=\"patch_6\">\r\n    <path d=\"M 44.845312 10.7 \r\nL 602.845312 10.7 \r\n\" style=\"fill:none;stroke:#000000;stroke-linecap:square;stroke-linejoin:miter;stroke-width:0.8;\"/>\r\n   </g>\r\n  </g>\r\n </g>\r\n <defs>\r\n  <clipPath id=\"p4b54b35ebb\">\r\n   <rect height=\"326.16\" width=\"558\" x=\"44.845313\" y=\"10.7\"/>\r\n  </clipPath>\r\n </defs>\r\n</svg>\r\n",
      "text/plain": "<matplotlib.figure.Figure at 0x20ddc44b160>"
     },
     "metadata": {
      "needs_background": "light"
     },
     "output_type": "display_data"
    }
   ],
   "source": [
    "plt.figure(figsize=(10, 6), dpi=80)\n",
    "plt.plot(X, C, color=\"blue\", linewidth=2.5, linestyle=\"-\")\n",
    "plt.plot(X, S, color=\"red\",  linewidth=2.5, linestyle=\"-\")"
   ]
  },
  {
   "cell_type": "code",
   "execution_count": 408,
   "metadata": {},
   "outputs": [
    {
     "data": {
      "image/svg+xml": "<?xml version=\"1.0\" encoding=\"utf-8\" standalone=\"no\"?>\r\n<!DOCTYPE svg PUBLIC \"-//W3C//DTD SVG 1.1//EN\"\r\n  \"http://www.w3.org/Graphics/SVG/1.1/DTD/svg11.dtd\">\r\n<!-- Created with matplotlib (http://matplotlib.org/) -->\r\n<svg height=\"252pt\" version=\"1.1\" viewBox=\"0 0 390 252\" width=\"390pt\" xmlns=\"http://www.w3.org/2000/svg\" xmlns:xlink=\"http://www.w3.org/1999/xlink\">\r\n <defs>\r\n  <style type=\"text/css\">\r\n*{stroke-linecap:butt;stroke-linejoin:round;}\r\n  </style>\r\n </defs>\r\n <g id=\"figure_1\">\r\n  <g id=\"patch_1\">\r\n   <path d=\"M 0 252.018125 \r\nL 390.345312 252.018125 \r\nL 390.345312 0 \r\nL 0 0 \r\nz\r\n\" style=\"fill:none;\"/>\r\n  </g>\r\n  <g id=\"axes_1\">\r\n   <g id=\"patch_2\">\r\n    <path d=\"M 44.845313 228.14 \r\nL 379.645313 228.14 \r\nL 379.645313 10.7 \r\nL 44.845313 10.7 \r\nz\r\n\" style=\"fill:#ffffff;\"/>\r\n   </g>\r\n   <g id=\"matplotlib.axis_1\">\r\n    <g id=\"xtick_1\">\r\n     <g id=\"line2d_1\">\r\n      <defs>\r\n       <path d=\"M 0 0 \r\nL 0 3.5 \r\n\" id=\"mbfacf1f9de\" style=\"stroke:#000000;stroke-width:0.8;\"/>\r\n      </defs>\r\n      <g>\r\n       <use style=\"stroke:#000000;stroke-width:0.8;\" x=\"66.922381\" xlink:href=\"#mbfacf1f9de\" y=\"228.14\"/>\r\n      </g>\r\n     </g>\r\n     <g id=\"text_1\">\r\n      <!-- −3 -->\r\n      <defs>\r\n       <path d=\"M 10.59375 35.5 \r\nL 73.1875 35.5 \r\nL 73.1875 27.203125 \r\nL 10.59375 27.203125 \r\nz\r\n\" id=\"DejaVuSans-2212\"/>\r\n       <path d=\"M 40.578125 39.3125 \r\nQ 47.65625 37.796875 51.625 33 \r\nQ 55.609375 28.21875 55.609375 21.1875 \r\nQ 55.609375 10.40625 48.1875 4.484375 \r\nQ 40.765625 -1.421875 27.09375 -1.421875 \r\nQ 22.515625 -1.421875 17.65625 -0.515625 \r\nQ 12.796875 0.390625 7.625 2.203125 \r\nL 7.625 11.71875 \r\nQ 11.71875 9.328125 16.59375 8.109375 \r\nQ 21.484375 6.890625 26.8125 6.890625 \r\nQ 36.078125 6.890625 40.9375 10.546875 \r\nQ 45.796875 14.203125 45.796875 21.1875 \r\nQ 45.796875 27.640625 41.28125 31.265625 \r\nQ 36.765625 34.90625 28.71875 34.90625 \r\nL 20.21875 34.90625 \r\nL 20.21875 43.015625 \r\nL 29.109375 43.015625 \r\nQ 36.375 43.015625 40.234375 45.921875 \r\nQ 44.09375 48.828125 44.09375 54.296875 \r\nQ 44.09375 59.90625 40.109375 62.90625 \r\nQ 36.140625 65.921875 28.71875 65.921875 \r\nQ 24.65625 65.921875 20.015625 65.03125 \r\nQ 15.375 64.15625 9.8125 62.3125 \r\nL 9.8125 71.09375 \r\nQ 15.4375 72.65625 20.34375 73.4375 \r\nQ 25.25 74.21875 29.59375 74.21875 \r\nQ 40.828125 74.21875 47.359375 69.109375 \r\nQ 53.90625 64.015625 53.90625 55.328125 \r\nQ 53.90625 49.265625 50.4375 45.09375 \r\nQ 46.96875 40.921875 40.578125 39.3125 \r\nz\r\n\" id=\"DejaVuSans-33\"/>\r\n      </defs>\r\n      <g transform=\"translate(59.551287 242.738437)scale(0.1 -0.1)\">\r\n       <use xlink:href=\"#DejaVuSans-2212\"/>\r\n       <use x=\"83.789062\" xlink:href=\"#DejaVuSans-33\"/>\r\n      </g>\r\n     </g>\r\n    </g>\r\n    <g id=\"xtick_2\">\r\n     <g id=\"line2d_2\">\r\n      <g>\r\n       <use style=\"stroke:#000000;stroke-width:0.8;\" x=\"115.363358\" xlink:href=\"#mbfacf1f9de\" y=\"228.14\"/>\r\n      </g>\r\n     </g>\r\n     <g id=\"text_2\">\r\n      <!-- −2 -->\r\n      <defs>\r\n       <path d=\"M 19.1875 8.296875 \r\nL 53.609375 8.296875 \r\nL 53.609375 0 \r\nL 7.328125 0 \r\nL 7.328125 8.296875 \r\nQ 12.9375 14.109375 22.625 23.890625 \r\nQ 32.328125 33.6875 34.8125 36.53125 \r\nQ 39.546875 41.84375 41.421875 45.53125 \r\nQ 43.3125 49.21875 43.3125 52.78125 \r\nQ 43.3125 58.59375 39.234375 62.25 \r\nQ 35.15625 65.921875 28.609375 65.921875 \r\nQ 23.96875 65.921875 18.8125 64.3125 \r\nQ 13.671875 62.703125 7.8125 59.421875 \r\nL 7.8125 69.390625 \r\nQ 13.765625 71.78125 18.9375 73 \r\nQ 24.125 74.21875 28.421875 74.21875 \r\nQ 39.75 74.21875 46.484375 68.546875 \r\nQ 53.21875 62.890625 53.21875 53.421875 \r\nQ 53.21875 48.921875 51.53125 44.890625 \r\nQ 49.859375 40.875 45.40625 35.40625 \r\nQ 44.1875 33.984375 37.640625 27.21875 \r\nQ 31.109375 20.453125 19.1875 8.296875 \r\nz\r\n\" id=\"DejaVuSans-32\"/>\r\n      </defs>\r\n      <g transform=\"translate(107.992264 242.738437)scale(0.1 -0.1)\">\r\n       <use xlink:href=\"#DejaVuSans-2212\"/>\r\n       <use x=\"83.789062\" xlink:href=\"#DejaVuSans-32\"/>\r\n      </g>\r\n     </g>\r\n    </g>\r\n    <g id=\"xtick_3\">\r\n     <g id=\"line2d_3\">\r\n      <g>\r\n       <use style=\"stroke:#000000;stroke-width:0.8;\" x=\"163.804335\" xlink:href=\"#mbfacf1f9de\" y=\"228.14\"/>\r\n      </g>\r\n     </g>\r\n     <g id=\"text_3\">\r\n      <!-- −1 -->\r\n      <defs>\r\n       <path d=\"M 12.40625 8.296875 \r\nL 28.515625 8.296875 \r\nL 28.515625 63.921875 \r\nL 10.984375 60.40625 \r\nL 10.984375 69.390625 \r\nL 28.421875 72.90625 \r\nL 38.28125 72.90625 \r\nL 38.28125 8.296875 \r\nL 54.390625 8.296875 \r\nL 54.390625 0 \r\nL 12.40625 0 \r\nz\r\n\" id=\"DejaVuSans-31\"/>\r\n      </defs>\r\n      <g transform=\"translate(156.433242 242.738437)scale(0.1 -0.1)\">\r\n       <use xlink:href=\"#DejaVuSans-2212\"/>\r\n       <use x=\"83.789062\" xlink:href=\"#DejaVuSans-31\"/>\r\n      </g>\r\n     </g>\r\n    </g>\r\n    <g id=\"xtick_4\">\r\n     <g id=\"line2d_4\">\r\n      <g>\r\n       <use style=\"stroke:#000000;stroke-width:0.8;\" x=\"212.245313\" xlink:href=\"#mbfacf1f9de\" y=\"228.14\"/>\r\n      </g>\r\n     </g>\r\n     <g id=\"text_4\">\r\n      <!-- 0 -->\r\n      <defs>\r\n       <path d=\"M 31.78125 66.40625 \r\nQ 24.171875 66.40625 20.328125 58.90625 \r\nQ 16.5 51.421875 16.5 36.375 \r\nQ 16.5 21.390625 20.328125 13.890625 \r\nQ 24.171875 6.390625 31.78125 6.390625 \r\nQ 39.453125 6.390625 43.28125 13.890625 \r\nQ 47.125 21.390625 47.125 36.375 \r\nQ 47.125 51.421875 43.28125 58.90625 \r\nQ 39.453125 66.40625 31.78125 66.40625 \r\nz\r\nM 31.78125 74.21875 \r\nQ 44.046875 74.21875 50.515625 64.515625 \r\nQ 56.984375 54.828125 56.984375 36.375 \r\nQ 56.984375 17.96875 50.515625 8.265625 \r\nQ 44.046875 -1.421875 31.78125 -1.421875 \r\nQ 19.53125 -1.421875 13.0625 8.265625 \r\nQ 6.59375 17.96875 6.59375 36.375 \r\nQ 6.59375 54.828125 13.0625 64.515625 \r\nQ 19.53125 74.21875 31.78125 74.21875 \r\nz\r\n\" id=\"DejaVuSans-30\"/>\r\n      </defs>\r\n      <g transform=\"translate(209.064063 242.738437)scale(0.1 -0.1)\">\r\n       <use xlink:href=\"#DejaVuSans-30\"/>\r\n      </g>\r\n     </g>\r\n    </g>\r\n    <g id=\"xtick_5\">\r\n     <g id=\"line2d_5\">\r\n      <g>\r\n       <use style=\"stroke:#000000;stroke-width:0.8;\" x=\"260.68629\" xlink:href=\"#mbfacf1f9de\" y=\"228.14\"/>\r\n      </g>\r\n     </g>\r\n     <g id=\"text_5\">\r\n      <!-- 1 -->\r\n      <g transform=\"translate(257.50504 242.738437)scale(0.1 -0.1)\">\r\n       <use xlink:href=\"#DejaVuSans-31\"/>\r\n      </g>\r\n     </g>\r\n    </g>\r\n    <g id=\"xtick_6\">\r\n     <g id=\"line2d_6\">\r\n      <g>\r\n       <use style=\"stroke:#000000;stroke-width:0.8;\" x=\"309.127267\" xlink:href=\"#mbfacf1f9de\" y=\"228.14\"/>\r\n      </g>\r\n     </g>\r\n     <g id=\"text_6\">\r\n      <!-- 2 -->\r\n      <g transform=\"translate(305.946017 242.738437)scale(0.1 -0.1)\">\r\n       <use xlink:href=\"#DejaVuSans-32\"/>\r\n      </g>\r\n     </g>\r\n    </g>\r\n    <g id=\"xtick_7\">\r\n     <g id=\"line2d_7\">\r\n      <g>\r\n       <use style=\"stroke:#000000;stroke-width:0.8;\" x=\"357.568244\" xlink:href=\"#mbfacf1f9de\" y=\"228.14\"/>\r\n      </g>\r\n     </g>\r\n     <g id=\"text_7\">\r\n      <!-- 3 -->\r\n      <g transform=\"translate(354.386994 242.738437)scale(0.1 -0.1)\">\r\n       <use xlink:href=\"#DejaVuSans-33\"/>\r\n      </g>\r\n     </g>\r\n    </g>\r\n   </g>\r\n   <g id=\"matplotlib.axis_2\">\r\n    <g id=\"ytick_1\">\r\n     <g id=\"line2d_8\">\r\n      <defs>\r\n       <path d=\"M 0 0 \r\nL -3.5 0 \r\n\" id=\"m38b8830667\" style=\"stroke:#000000;stroke-width:0.8;\"/>\r\n      </defs>\r\n      <g>\r\n       <use style=\"stroke:#000000;stroke-width:0.8;\" x=\"44.845313\" xlink:href=\"#m38b8830667\" y=\"218.255989\"/>\r\n      </g>\r\n     </g>\r\n     <g id=\"text_8\">\r\n      <!-- −1.00 -->\r\n      <defs>\r\n       <path d=\"M 10.6875 12.40625 \r\nL 21 12.40625 \r\nL 21 0 \r\nL 10.6875 0 \r\nz\r\n\" id=\"DejaVuSans-2e\"/>\r\n      </defs>\r\n      <g transform=\"translate(7.2 222.055207)scale(0.1 -0.1)\">\r\n       <use xlink:href=\"#DejaVuSans-2212\"/>\r\n       <use x=\"83.789062\" xlink:href=\"#DejaVuSans-31\"/>\r\n       <use x=\"147.412109\" xlink:href=\"#DejaVuSans-2e\"/>\r\n       <use x=\"179.199219\" xlink:href=\"#DejaVuSans-30\"/>\r\n       <use x=\"242.822266\" xlink:href=\"#DejaVuSans-30\"/>\r\n      </g>\r\n     </g>\r\n    </g>\r\n    <g id=\"ytick_2\">\r\n     <g id=\"line2d_9\">\r\n      <g>\r\n       <use style=\"stroke:#000000;stroke-width:0.8;\" x=\"44.845313\" xlink:href=\"#m38b8830667\" y=\"193.54596\"/>\r\n      </g>\r\n     </g>\r\n     <g id=\"text_9\">\r\n      <!-- −0.75 -->\r\n      <defs>\r\n       <path d=\"M 8.203125 72.90625 \r\nL 55.078125 72.90625 \r\nL 55.078125 68.703125 \r\nL 28.609375 0 \r\nL 18.3125 0 \r\nL 43.21875 64.59375 \r\nL 8.203125 64.59375 \r\nz\r\n\" id=\"DejaVuSans-37\"/>\r\n       <path d=\"M 10.796875 72.90625 \r\nL 49.515625 72.90625 \r\nL 49.515625 64.59375 \r\nL 19.828125 64.59375 \r\nL 19.828125 46.734375 \r\nQ 21.96875 47.46875 24.109375 47.828125 \r\nQ 26.265625 48.1875 28.421875 48.1875 \r\nQ 40.625 48.1875 47.75 41.5 \r\nQ 54.890625 34.8125 54.890625 23.390625 \r\nQ 54.890625 11.625 47.5625 5.09375 \r\nQ 40.234375 -1.421875 26.90625 -1.421875 \r\nQ 22.3125 -1.421875 17.546875 -0.640625 \r\nQ 12.796875 0.140625 7.71875 1.703125 \r\nL 7.71875 11.625 \r\nQ 12.109375 9.234375 16.796875 8.0625 \r\nQ 21.484375 6.890625 26.703125 6.890625 \r\nQ 35.15625 6.890625 40.078125 11.328125 \r\nQ 45.015625 15.765625 45.015625 23.390625 \r\nQ 45.015625 31 40.078125 35.4375 \r\nQ 35.15625 39.890625 26.703125 39.890625 \r\nQ 22.75 39.890625 18.8125 39.015625 \r\nQ 14.890625 38.140625 10.796875 36.28125 \r\nz\r\n\" id=\"DejaVuSans-35\"/>\r\n      </defs>\r\n      <g transform=\"translate(7.2 197.345179)scale(0.1 -0.1)\">\r\n       <use xlink:href=\"#DejaVuSans-2212\"/>\r\n       <use x=\"83.789062\" xlink:href=\"#DejaVuSans-30\"/>\r\n       <use x=\"147.412109\" xlink:href=\"#DejaVuSans-2e\"/>\r\n       <use x=\"179.199219\" xlink:href=\"#DejaVuSans-37\"/>\r\n       <use x=\"242.822266\" xlink:href=\"#DejaVuSans-35\"/>\r\n      </g>\r\n     </g>\r\n    </g>\r\n    <g id=\"ytick_3\">\r\n     <g id=\"line2d_10\">\r\n      <g>\r\n       <use style=\"stroke:#000000;stroke-width:0.8;\" x=\"44.845313\" xlink:href=\"#m38b8830667\" y=\"168.835932\"/>\r\n      </g>\r\n     </g>\r\n     <g id=\"text_10\">\r\n      <!-- −0.50 -->\r\n      <g transform=\"translate(7.2 172.63515)scale(0.1 -0.1)\">\r\n       <use xlink:href=\"#DejaVuSans-2212\"/>\r\n       <use x=\"83.789062\" xlink:href=\"#DejaVuSans-30\"/>\r\n       <use x=\"147.412109\" xlink:href=\"#DejaVuSans-2e\"/>\r\n       <use x=\"179.199219\" xlink:href=\"#DejaVuSans-35\"/>\r\n       <use x=\"242.822266\" xlink:href=\"#DejaVuSans-30\"/>\r\n      </g>\r\n     </g>\r\n    </g>\r\n    <g id=\"ytick_4\">\r\n     <g id=\"line2d_11\">\r\n      <g>\r\n       <use style=\"stroke:#000000;stroke-width:0.8;\" x=\"44.845313\" xlink:href=\"#m38b8830667\" y=\"144.125903\"/>\r\n      </g>\r\n     </g>\r\n     <g id=\"text_11\">\r\n      <!-- −0.25 -->\r\n      <g transform=\"translate(7.2 147.925122)scale(0.1 -0.1)\">\r\n       <use xlink:href=\"#DejaVuSans-2212\"/>\r\n       <use x=\"83.789062\" xlink:href=\"#DejaVuSans-30\"/>\r\n       <use x=\"147.412109\" xlink:href=\"#DejaVuSans-2e\"/>\r\n       <use x=\"179.199219\" xlink:href=\"#DejaVuSans-32\"/>\r\n       <use x=\"242.822266\" xlink:href=\"#DejaVuSans-35\"/>\r\n      </g>\r\n     </g>\r\n    </g>\r\n    <g id=\"ytick_5\">\r\n     <g id=\"line2d_12\">\r\n      <g>\r\n       <use style=\"stroke:#000000;stroke-width:0.8;\" x=\"44.845313\" xlink:href=\"#m38b8830667\" y=\"119.415874\"/>\r\n      </g>\r\n     </g>\r\n     <g id=\"text_12\">\r\n      <!-- 0.00 -->\r\n      <g transform=\"translate(15.579688 123.215093)scale(0.1 -0.1)\">\r\n       <use xlink:href=\"#DejaVuSans-30\"/>\r\n       <use x=\"63.623047\" xlink:href=\"#DejaVuSans-2e\"/>\r\n       <use x=\"95.410156\" xlink:href=\"#DejaVuSans-30\"/>\r\n       <use x=\"159.033203\" xlink:href=\"#DejaVuSans-30\"/>\r\n      </g>\r\n     </g>\r\n    </g>\r\n    <g id=\"ytick_6\">\r\n     <g id=\"line2d_13\">\r\n      <g>\r\n       <use style=\"stroke:#000000;stroke-width:0.8;\" x=\"44.845313\" xlink:href=\"#m38b8830667\" y=\"94.705846\"/>\r\n      </g>\r\n     </g>\r\n     <g id=\"text_13\">\r\n      <!-- 0.25 -->\r\n      <g transform=\"translate(15.579688 98.505065)scale(0.1 -0.1)\">\r\n       <use xlink:href=\"#DejaVuSans-30\"/>\r\n       <use x=\"63.623047\" xlink:href=\"#DejaVuSans-2e\"/>\r\n       <use x=\"95.410156\" xlink:href=\"#DejaVuSans-32\"/>\r\n       <use x=\"159.033203\" xlink:href=\"#DejaVuSans-35\"/>\r\n      </g>\r\n     </g>\r\n    </g>\r\n    <g id=\"ytick_7\">\r\n     <g id=\"line2d_14\">\r\n      <g>\r\n       <use style=\"stroke:#000000;stroke-width:0.8;\" x=\"44.845313\" xlink:href=\"#m38b8830667\" y=\"69.995817\"/>\r\n      </g>\r\n     </g>\r\n     <g id=\"text_14\">\r\n      <!-- 0.50 -->\r\n      <g transform=\"translate(15.579688 73.795036)scale(0.1 -0.1)\">\r\n       <use xlink:href=\"#DejaVuSans-30\"/>\r\n       <use x=\"63.623047\" xlink:href=\"#DejaVuSans-2e\"/>\r\n       <use x=\"95.410156\" xlink:href=\"#DejaVuSans-35\"/>\r\n       <use x=\"159.033203\" xlink:href=\"#DejaVuSans-30\"/>\r\n      </g>\r\n     </g>\r\n    </g>\r\n    <g id=\"ytick_8\">\r\n     <g id=\"line2d_15\">\r\n      <g>\r\n       <use style=\"stroke:#000000;stroke-width:0.8;\" x=\"44.845313\" xlink:href=\"#m38b8830667\" y=\"45.285789\"/>\r\n      </g>\r\n     </g>\r\n     <g id=\"text_15\">\r\n      <!-- 0.75 -->\r\n      <g transform=\"translate(15.579688 49.085008)scale(0.1 -0.1)\">\r\n       <use xlink:href=\"#DejaVuSans-30\"/>\r\n       <use x=\"63.623047\" xlink:href=\"#DejaVuSans-2e\"/>\r\n       <use x=\"95.410156\" xlink:href=\"#DejaVuSans-37\"/>\r\n       <use x=\"159.033203\" xlink:href=\"#DejaVuSans-35\"/>\r\n      </g>\r\n     </g>\r\n    </g>\r\n    <g id=\"ytick_9\">\r\n     <g id=\"line2d_16\">\r\n      <g>\r\n       <use style=\"stroke:#000000;stroke-width:0.8;\" x=\"44.845313\" xlink:href=\"#m38b8830667\" y=\"20.57576\"/>\r\n      </g>\r\n     </g>\r\n     <g id=\"text_16\">\r\n      <!-- 1.00 -->\r\n      <g transform=\"translate(15.579688 24.374979)scale(0.1 -0.1)\">\r\n       <use xlink:href=\"#DejaVuSans-31\"/>\r\n       <use x=\"63.623047\" xlink:href=\"#DejaVuSans-2e\"/>\r\n       <use x=\"95.410156\" xlink:href=\"#DejaVuSans-30\"/>\r\n       <use x=\"159.033203\" xlink:href=\"#DejaVuSans-30\"/>\r\n      </g>\r\n     </g>\r\n    </g>\r\n   </g>\r\n   <g id=\"line2d_17\">\r\n    <path clip-path=\"url(#pdde6239d71)\" d=\"M 60.063494 218.255989 \r\nL 62.45066 218.135996 \r\nL 64.837826 217.776309 \r\nL 67.224992 217.177802 \r\nL 69.612157 216.341927 \r\nL 71.999323 215.270714 \r\nL 74.386489 213.966764 \r\nL 76.773655 212.433244 \r\nL 79.160821 210.673875 \r\nL 81.547986 208.692931 \r\nL 83.935152 206.49522 \r\nL 87.515901 202.804032 \r\nL 91.096649 198.657406 \r\nL 94.677398 194.07799 \r\nL 98.258147 189.090796 \r\nL 101.838895 183.723062 \r\nL 105.419644 178.004103 \r\nL 110.193976 169.88672 \r\nL 114.968307 161.279458 \r\nL 120.936222 149.959149 \r\nL 128.097719 135.779238 \r\nL 153.16296 85.419924 \r\nL 159.130874 74.272369 \r\nL 163.905206 65.839259 \r\nL 168.679537 57.926173 \r\nL 172.260286 52.379038 \r\nL 175.841034 47.198035 \r\nL 179.421783 42.411462 \r\nL 183.002532 38.045459 \r\nL 186.58328 34.123874 \r\nL 188.970446 31.767062 \r\nL 191.357612 29.623063 \r\nL 193.744778 27.697083 \r\nL 196.131944 25.993797 \r\nL 198.519109 24.517341 \r\nL 200.906275 23.271301 \r\nL 203.293441 22.258701 \r\nL 205.680607 21.482 \r\nL 208.067772 20.943085 \r\nL 210.454938 20.643262 \r\nL 212.842104 20.583261 \r\nL 215.22927 20.763228 \r\nL 217.616435 21.182724 \r\nL 220.003601 21.840732 \r\nL 222.390767 22.735654 \r\nL 224.777933 23.865317 \r\nL 227.165099 25.226978 \r\nL 229.552264 26.817332 \r\nL 231.93943 28.632516 \r\nL 234.326596 30.668124 \r\nL 236.713762 32.919212 \r\nL 240.29451 36.687775 \r\nL 243.875259 40.908171 \r\nL 247.456008 45.557349 \r\nL 251.036756 50.609916 \r\nL 254.617505 56.038277 \r\nL 258.198254 61.812785 \r\nL 262.972585 69.995817 \r\nL 267.746917 78.658529 \r\nL 273.714831 90.032997 \r\nL 280.876329 104.254626 \r\nL 304.747986 152.265861 \r\nL 310.715901 163.472704 \r\nL 315.490232 171.965157 \r\nL 320.264564 179.947557 \r\nL 323.845313 185.55282 \r\nL 327.426061 190.796866 \r\nL 331.00681 195.651053 \r\nL 334.587558 200.08887 \r\nL 338.168307 204.08608 \r\nL 341.749056 207.62085 \r\nL 344.136222 209.710812 \r\nL 346.523387 211.581536 \r\nL 348.910553 213.228481 \r\nL 351.297719 214.647647 \r\nL 353.684885 215.835589 \r\nL 356.07205 216.789422 \r\nL 358.459216 217.506831 \r\nL 360.846382 217.986073 \r\nL 363.233548 218.225986 \r\nL 364.427131 218.255989 \r\nL 364.427131 218.255989 \r\n\" style=\"fill:none;stroke:#0000ff;stroke-linecap:square;stroke-width:2.5;\"/>\r\n   </g>\r\n   <g id=\"line2d_18\">\r\n    <path clip-path=\"url(#pdde6239d71)\" d=\"M 60.063494 119.415874 \r\nL 71.999323 143.524334 \r\nL 77.967238 155.121042 \r\nL 82.741569 164.016889 \r\nL 87.515901 172.47983 \r\nL 92.290232 180.427724 \r\nL 95.870981 186.004029 \r\nL 99.45173 191.216652 \r\nL 103.032478 196.037124 \r\nL 106.613227 200.439117 \r\nL 110.193976 204.39859 \r\nL 113.774724 207.893916 \r\nL 116.16189 209.95674 \r\nL 118.549056 211.799729 \r\nL 120.936222 213.418409 \r\nL 123.323387 214.808849 \r\nL 125.710553 215.967674 \r\nL 128.097719 216.892069 \r\nL 130.484885 217.57979 \r\nL 132.87205 218.029168 \r\nL 135.259216 218.239112 \r\nL 137.646382 218.209111 \r\nL 140.033548 217.939238 \r\nL 142.420714 217.430149 \r\nL 144.807879 216.68308 \r\nL 147.195045 215.699845 \r\nL 149.582211 214.482831 \r\nL 151.969377 213.034992 \r\nL 154.356542 211.359845 \r\nL 156.743708 209.461457 \r\nL 159.130874 207.344437 \r\nL 161.51804 205.013924 \r\nL 165.098788 201.130375 \r\nL 168.679537 196.800529 \r\nL 172.260286 192.048035 \r\nL 175.841034 186.898849 \r\nL 179.421783 181.381095 \r\nL 183.002532 175.524908 \r\nL 187.776863 167.245735 \r\nL 192.551195 158.502317 \r\nL 198.519109 147.04985 \r\nL 205.680607 132.769693 \r\nL 227.165099 89.45223 \r\nL 233.133013 78.104626 \r\nL 237.907345 69.469476 \r\nL 242.681676 61.319113 \r\nL 246.262425 55.572271 \r\nL 249.843173 50.174121 \r\nL 253.423922 45.154145 \r\nL 257.004671 40.539761 \r\nL 260.585419 36.356171 \r\nL 264.166168 32.626224 \r\nL 266.553334 30.401782 \r\nL 268.9405 28.393468 \r\nL 271.327665 26.606158 \r\nL 273.714831 25.044191 \r\nL 276.101997 23.71136 \r\nL 278.489163 22.610901 \r\nL 280.876329 21.745486 \r\nL 283.263494 21.117217 \r\nL 285.65066 20.727618 \r\nL 288.037826 20.577636 \r\nL 290.424992 20.667634 \r\nL 292.812157 20.997395 \r\nL 295.199323 21.566117 \r\nL 297.586489 22.37242 \r\nL 299.973655 23.414346 \r\nL 302.360821 24.689366 \r\nL 304.747986 26.194383 \r\nL 307.135152 27.925743 \r\nL 309.522318 29.879242 \r\nL 311.909484 32.050138 \r\nL 314.296649 34.433159 \r\nL 317.877398 38.392632 \r\nL 321.458147 42.794625 \r\nL 325.038895 47.615097 \r\nL 328.619644 52.82772 \r\nL 332.200393 58.404025 \r\nL 336.974724 66.351919 \r\nL 341.749056 74.81486 \r\nL 346.523387 83.710707 \r\nL 352.491302 95.307415 \r\nL 360.846382 112.116282 \r\nL 364.427131 119.415874 \r\nL 364.427131 119.415874 \r\n\" style=\"fill:none;stroke:#ff0000;stroke-linecap:square;stroke-width:2.5;\"/>\r\n   </g>\r\n   <g id=\"patch_3\">\r\n    <path d=\"M 44.845313 228.14 \r\nL 44.845313 10.7 \r\n\" style=\"fill:none;stroke:#000000;stroke-linecap:square;stroke-linejoin:miter;stroke-width:0.8;\"/>\r\n   </g>\r\n   <g id=\"patch_4\">\r\n    <path d=\"M 379.645313 228.14 \r\nL 379.645313 10.7 \r\n\" style=\"fill:none;stroke:#000000;stroke-linecap:square;stroke-linejoin:miter;stroke-width:0.8;\"/>\r\n   </g>\r\n   <g id=\"patch_5\">\r\n    <path d=\"M 44.845313 228.14 \r\nL 379.645313 228.14 \r\n\" style=\"fill:none;stroke:#000000;stroke-linecap:square;stroke-linejoin:miter;stroke-width:0.8;\"/>\r\n   </g>\r\n   <g id=\"patch_6\">\r\n    <path d=\"M 44.845313 10.7 \r\nL 379.645313 10.7 \r\n\" style=\"fill:none;stroke:#000000;stroke-linecap:square;stroke-linejoin:miter;stroke-width:0.8;\"/>\r\n   </g>\r\n  </g>\r\n </g>\r\n <defs>\r\n  <clipPath id=\"pdde6239d71\">\r\n   <rect height=\"217.44\" width=\"334.8\" x=\"44.845313\" y=\"10.7\"/>\r\n  </clipPath>\r\n </defs>\r\n</svg>\r\n",
      "text/plain": "<matplotlib.figure.Figure at 0x20ddc72b668>"
     },
     "metadata": {
      "needs_background": "light"
     },
     "output_type": "display_data"
    }
   ],
   "source": [
    "plt.plot(X, C, color=\"blue\", linewidth=2.5, linestyle=\"-\")\n",
    "plt.plot(X, S, color=\"red\",  linewidth=2.5, linestyle=\"-\")\n",
    "plt.xlim(X.min() * 1.1, X.max() * 1.1)\n",
    "plt.ylim(C.min() * 1.1, C.max() * 1.1)\n",
    "plt.show()"
   ]
  },
  {
   "cell_type": "code",
   "execution_count": 409,
   "metadata": {},
   "outputs": [
    {
     "data": {
      "image/svg+xml": "<?xml version=\"1.0\" encoding=\"utf-8\" standalone=\"no\"?>\r\n<!DOCTYPE svg PUBLIC \"-//W3C//DTD SVG 1.1//EN\"\r\n  \"http://www.w3.org/Graphics/SVG/1.1/DTD/svg11.dtd\">\r\n<!-- Created with matplotlib (http://matplotlib.org/) -->\r\n<svg height=\"252pt\" version=\"1.1\" viewBox=\"0 0 374 252\" width=\"374pt\" xmlns=\"http://www.w3.org/2000/svg\" xmlns:xlink=\"http://www.w3.org/1999/xlink\">\r\n <defs>\r\n  <style type=\"text/css\">\r\n*{stroke-linecap:butt;stroke-linejoin:round;}\r\n  </style>\r\n </defs>\r\n <g id=\"figure_1\">\r\n  <g id=\"patch_1\">\r\n   <path d=\"M 0 252.018125 \r\nL 374.442187 252.018125 \r\nL 374.442187 0 \r\nL 0 0 \r\nz\r\n\" style=\"fill:none;\"/>\r\n  </g>\r\n  <g id=\"axes_1\">\r\n   <g id=\"patch_2\">\r\n    <path d=\"M 28.942188 228.14 \r\nL 363.742188 228.14 \r\nL 363.742188 10.7 \r\nL 28.942188 10.7 \r\nz\r\n\" style=\"fill:#ffffff;\"/>\r\n   </g>\r\n   <g id=\"matplotlib.axis_1\">\r\n    <g id=\"xtick_1\">\r\n     <g id=\"line2d_1\">\r\n      <defs>\r\n       <path d=\"M 0 0 \r\nL 0 3.5 \r\n\" id=\"mb47828cbcf\" style=\"stroke:#000000;stroke-width:0.8;\"/>\r\n      </defs>\r\n      <g>\r\n       <use style=\"stroke:#000000;stroke-width:0.8;\" x=\"44.160369\" xlink:href=\"#mb47828cbcf\" y=\"228.14\"/>\r\n      </g>\r\n     </g>\r\n     <g id=\"text_1\">\r\n      <!-- −3.142 -->\r\n      <defs>\r\n       <path d=\"M 10.59375 35.5 \r\nL 73.1875 35.5 \r\nL 73.1875 27.203125 \r\nL 10.59375 27.203125 \r\nz\r\n\" id=\"DejaVuSans-2212\"/>\r\n       <path d=\"M 40.578125 39.3125 \r\nQ 47.65625 37.796875 51.625 33 \r\nQ 55.609375 28.21875 55.609375 21.1875 \r\nQ 55.609375 10.40625 48.1875 4.484375 \r\nQ 40.765625 -1.421875 27.09375 -1.421875 \r\nQ 22.515625 -1.421875 17.65625 -0.515625 \r\nQ 12.796875 0.390625 7.625 2.203125 \r\nL 7.625 11.71875 \r\nQ 11.71875 9.328125 16.59375 8.109375 \r\nQ 21.484375 6.890625 26.8125 6.890625 \r\nQ 36.078125 6.890625 40.9375 10.546875 \r\nQ 45.796875 14.203125 45.796875 21.1875 \r\nQ 45.796875 27.640625 41.28125 31.265625 \r\nQ 36.765625 34.90625 28.71875 34.90625 \r\nL 20.21875 34.90625 \r\nL 20.21875 43.015625 \r\nL 29.109375 43.015625 \r\nQ 36.375 43.015625 40.234375 45.921875 \r\nQ 44.09375 48.828125 44.09375 54.296875 \r\nQ 44.09375 59.90625 40.109375 62.90625 \r\nQ 36.140625 65.921875 28.71875 65.921875 \r\nQ 24.65625 65.921875 20.015625 65.03125 \r\nQ 15.375 64.15625 9.8125 62.3125 \r\nL 9.8125 71.09375 \r\nQ 15.4375 72.65625 20.34375 73.4375 \r\nQ 25.25 74.21875 29.59375 74.21875 \r\nQ 40.828125 74.21875 47.359375 69.109375 \r\nQ 53.90625 64.015625 53.90625 55.328125 \r\nQ 53.90625 49.265625 50.4375 45.09375 \r\nQ 46.96875 40.921875 40.578125 39.3125 \r\nz\r\n\" id=\"DejaVuSans-33\"/>\r\n       <path d=\"M 10.6875 12.40625 \r\nL 21 12.40625 \r\nL 21 0 \r\nL 10.6875 0 \r\nz\r\n\" id=\"DejaVuSans-2e\"/>\r\n       <path d=\"M 12.40625 8.296875 \r\nL 28.515625 8.296875 \r\nL 28.515625 63.921875 \r\nL 10.984375 60.40625 \r\nL 10.984375 69.390625 \r\nL 28.421875 72.90625 \r\nL 38.28125 72.90625 \r\nL 38.28125 8.296875 \r\nL 54.390625 8.296875 \r\nL 54.390625 0 \r\nL 12.40625 0 \r\nz\r\n\" id=\"DejaVuSans-31\"/>\r\n       <path d=\"M 37.796875 64.3125 \r\nL 12.890625 25.390625 \r\nL 37.796875 25.390625 \r\nz\r\nM 35.203125 72.90625 \r\nL 47.609375 72.90625 \r\nL 47.609375 25.390625 \r\nL 58.015625 25.390625 \r\nL 58.015625 17.1875 \r\nL 47.609375 17.1875 \r\nL 47.609375 0 \r\nL 37.796875 0 \r\nL 37.796875 17.1875 \r\nL 4.890625 17.1875 \r\nL 4.890625 26.703125 \r\nz\r\n\" id=\"DejaVuSans-34\"/>\r\n       <path d=\"M 19.1875 8.296875 \r\nL 53.609375 8.296875 \r\nL 53.609375 0 \r\nL 7.328125 0 \r\nL 7.328125 8.296875 \r\nQ 12.9375 14.109375 22.625 23.890625 \r\nQ 32.328125 33.6875 34.8125 36.53125 \r\nQ 39.546875 41.84375 41.421875 45.53125 \r\nQ 43.3125 49.21875 43.3125 52.78125 \r\nQ 43.3125 58.59375 39.234375 62.25 \r\nQ 35.15625 65.921875 28.609375 65.921875 \r\nQ 23.96875 65.921875 18.8125 64.3125 \r\nQ 13.671875 62.703125 7.8125 59.421875 \r\nL 7.8125 69.390625 \r\nQ 13.765625 71.78125 18.9375 73 \r\nQ 24.125 74.21875 28.421875 74.21875 \r\nQ 39.75 74.21875 46.484375 68.546875 \r\nQ 53.21875 62.890625 53.21875 53.421875 \r\nQ 53.21875 48.921875 51.53125 44.890625 \r\nQ 49.859375 40.875 45.40625 35.40625 \r\nQ 44.1875 33.984375 37.640625 27.21875 \r\nQ 31.109375 20.453125 19.1875 8.296875 \r\nz\r\n\" id=\"DejaVuSans-32\"/>\r\n      </defs>\r\n      <g transform=\"translate(25.656463 242.738437)scale(0.1 -0.1)\">\r\n       <use xlink:href=\"#DejaVuSans-2212\"/>\r\n       <use x=\"83.789062\" xlink:href=\"#DejaVuSans-33\"/>\r\n       <use x=\"147.412109\" xlink:href=\"#DejaVuSans-2e\"/>\r\n       <use x=\"179.199219\" xlink:href=\"#DejaVuSans-31\"/>\r\n       <use x=\"242.822266\" xlink:href=\"#DejaVuSans-34\"/>\r\n       <use x=\"306.445312\" xlink:href=\"#DejaVuSans-32\"/>\r\n      </g>\r\n     </g>\r\n    </g>\r\n    <g id=\"xtick_2\">\r\n     <g id=\"line2d_2\">\r\n      <g>\r\n       <use style=\"stroke:#000000;stroke-width:0.8;\" x=\"120.251278\" xlink:href=\"#mb47828cbcf\" y=\"228.14\"/>\r\n      </g>\r\n     </g>\r\n     <g id=\"text_2\">\r\n      <!-- −1.571 -->\r\n      <defs>\r\n       <path d=\"M 10.796875 72.90625 \r\nL 49.515625 72.90625 \r\nL 49.515625 64.59375 \r\nL 19.828125 64.59375 \r\nL 19.828125 46.734375 \r\nQ 21.96875 47.46875 24.109375 47.828125 \r\nQ 26.265625 48.1875 28.421875 48.1875 \r\nQ 40.625 48.1875 47.75 41.5 \r\nQ 54.890625 34.8125 54.890625 23.390625 \r\nQ 54.890625 11.625 47.5625 5.09375 \r\nQ 40.234375 -1.421875 26.90625 -1.421875 \r\nQ 22.3125 -1.421875 17.546875 -0.640625 \r\nQ 12.796875 0.140625 7.71875 1.703125 \r\nL 7.71875 11.625 \r\nQ 12.109375 9.234375 16.796875 8.0625 \r\nQ 21.484375 6.890625 26.703125 6.890625 \r\nQ 35.15625 6.890625 40.078125 11.328125 \r\nQ 45.015625 15.765625 45.015625 23.390625 \r\nQ 45.015625 31 40.078125 35.4375 \r\nQ 35.15625 39.890625 26.703125 39.890625 \r\nQ 22.75 39.890625 18.8125 39.015625 \r\nQ 14.890625 38.140625 10.796875 36.28125 \r\nz\r\n\" id=\"DejaVuSans-35\"/>\r\n       <path d=\"M 8.203125 72.90625 \r\nL 55.078125 72.90625 \r\nL 55.078125 68.703125 \r\nL 28.609375 0 \r\nL 18.3125 0 \r\nL 43.21875 64.59375 \r\nL 8.203125 64.59375 \r\nz\r\n\" id=\"DejaVuSans-37\"/>\r\n      </defs>\r\n      <g transform=\"translate(101.747372 242.738437)scale(0.1 -0.1)\">\r\n       <use xlink:href=\"#DejaVuSans-2212\"/>\r\n       <use x=\"83.789062\" xlink:href=\"#DejaVuSans-31\"/>\r\n       <use x=\"147.412109\" xlink:href=\"#DejaVuSans-2e\"/>\r\n       <use x=\"179.199219\" xlink:href=\"#DejaVuSans-35\"/>\r\n       <use x=\"242.822266\" xlink:href=\"#DejaVuSans-37\"/>\r\n       <use x=\"306.445312\" xlink:href=\"#DejaVuSans-31\"/>\r\n      </g>\r\n     </g>\r\n    </g>\r\n    <g id=\"xtick_3\">\r\n     <g id=\"line2d_3\">\r\n      <g>\r\n       <use style=\"stroke:#000000;stroke-width:0.8;\" x=\"196.342188\" xlink:href=\"#mb47828cbcf\" y=\"228.14\"/>\r\n      </g>\r\n     </g>\r\n     <g id=\"text_3\">\r\n      <!-- 0.000 -->\r\n      <defs>\r\n       <path d=\"M 31.78125 66.40625 \r\nQ 24.171875 66.40625 20.328125 58.90625 \r\nQ 16.5 51.421875 16.5 36.375 \r\nQ 16.5 21.390625 20.328125 13.890625 \r\nQ 24.171875 6.390625 31.78125 6.390625 \r\nQ 39.453125 6.390625 43.28125 13.890625 \r\nQ 47.125 21.390625 47.125 36.375 \r\nQ 47.125 51.421875 43.28125 58.90625 \r\nQ 39.453125 66.40625 31.78125 66.40625 \r\nz\r\nM 31.78125 74.21875 \r\nQ 44.046875 74.21875 50.515625 64.515625 \r\nQ 56.984375 54.828125 56.984375 36.375 \r\nQ 56.984375 17.96875 50.515625 8.265625 \r\nQ 44.046875 -1.421875 31.78125 -1.421875 \r\nQ 19.53125 -1.421875 13.0625 8.265625 \r\nQ 6.59375 17.96875 6.59375 36.375 \r\nQ 6.59375 54.828125 13.0625 64.515625 \r\nQ 19.53125 74.21875 31.78125 74.21875 \r\nz\r\n\" id=\"DejaVuSans-30\"/>\r\n      </defs>\r\n      <g transform=\"translate(182.028125 242.738437)scale(0.1 -0.1)\">\r\n       <use xlink:href=\"#DejaVuSans-30\"/>\r\n       <use x=\"63.623047\" xlink:href=\"#DejaVuSans-2e\"/>\r\n       <use x=\"95.410156\" xlink:href=\"#DejaVuSans-30\"/>\r\n       <use x=\"159.033203\" xlink:href=\"#DejaVuSans-30\"/>\r\n       <use x=\"222.65625\" xlink:href=\"#DejaVuSans-30\"/>\r\n      </g>\r\n     </g>\r\n    </g>\r\n    <g id=\"xtick_4\">\r\n     <g id=\"line2d_4\">\r\n      <g>\r\n       <use style=\"stroke:#000000;stroke-width:0.8;\" x=\"272.433097\" xlink:href=\"#mb47828cbcf\" y=\"228.14\"/>\r\n      </g>\r\n     </g>\r\n     <g id=\"text_4\">\r\n      <!-- 1.571 -->\r\n      <g transform=\"translate(258.119034 242.738437)scale(0.1 -0.1)\">\r\n       <use xlink:href=\"#DejaVuSans-31\"/>\r\n       <use x=\"63.623047\" xlink:href=\"#DejaVuSans-2e\"/>\r\n       <use x=\"95.410156\" xlink:href=\"#DejaVuSans-35\"/>\r\n       <use x=\"159.033203\" xlink:href=\"#DejaVuSans-37\"/>\r\n       <use x=\"222.65625\" xlink:href=\"#DejaVuSans-31\"/>\r\n      </g>\r\n     </g>\r\n    </g>\r\n    <g id=\"xtick_5\">\r\n     <g id=\"line2d_5\">\r\n      <g>\r\n       <use style=\"stroke:#000000;stroke-width:0.8;\" x=\"348.524006\" xlink:href=\"#mb47828cbcf\" y=\"228.14\"/>\r\n      </g>\r\n     </g>\r\n     <g id=\"text_5\">\r\n      <!-- 3.142 -->\r\n      <g transform=\"translate(334.209943 242.738437)scale(0.1 -0.1)\">\r\n       <use xlink:href=\"#DejaVuSans-33\"/>\r\n       <use x=\"63.623047\" xlink:href=\"#DejaVuSans-2e\"/>\r\n       <use x=\"95.410156\" xlink:href=\"#DejaVuSans-31\"/>\r\n       <use x=\"159.033203\" xlink:href=\"#DejaVuSans-34\"/>\r\n       <use x=\"222.65625\" xlink:href=\"#DejaVuSans-32\"/>\r\n      </g>\r\n     </g>\r\n    </g>\r\n   </g>\r\n   <g id=\"matplotlib.axis_2\">\r\n    <g id=\"ytick_1\">\r\n     <g id=\"line2d_6\">\r\n      <defs>\r\n       <path d=\"M 0 0 \r\nL -3.5 0 \r\n\" id=\"m7fa93981dd\" style=\"stroke:#000000;stroke-width:0.8;\"/>\r\n      </defs>\r\n      <g>\r\n       <use style=\"stroke:#000000;stroke-width:0.8;\" x=\"28.942188\" xlink:href=\"#m7fa93981dd\" y=\"218.255989\"/>\r\n      </g>\r\n     </g>\r\n     <g id=\"text_6\">\r\n      <!-- −1 -->\r\n      <g transform=\"translate(7.2 222.055207)scale(0.1 -0.1)\">\r\n       <use xlink:href=\"#DejaVuSans-2212\"/>\r\n       <use x=\"83.789062\" xlink:href=\"#DejaVuSans-31\"/>\r\n      </g>\r\n     </g>\r\n    </g>\r\n    <g id=\"ytick_2\">\r\n     <g id=\"line2d_7\">\r\n      <g>\r\n       <use style=\"stroke:#000000;stroke-width:0.8;\" x=\"28.942188\" xlink:href=\"#m7fa93981dd\" y=\"119.415874\"/>\r\n      </g>\r\n     </g>\r\n     <g id=\"text_7\">\r\n      <!-- 0 -->\r\n      <g transform=\"translate(15.579688 123.215093)scale(0.1 -0.1)\">\r\n       <use xlink:href=\"#DejaVuSans-30\"/>\r\n      </g>\r\n     </g>\r\n    </g>\r\n    <g id=\"ytick_3\">\r\n     <g id=\"line2d_8\">\r\n      <g>\r\n       <use style=\"stroke:#000000;stroke-width:0.8;\" x=\"28.942188\" xlink:href=\"#m7fa93981dd\" y=\"20.57576\"/>\r\n      </g>\r\n     </g>\r\n     <g id=\"text_8\">\r\n      <!-- 1 -->\r\n      <g transform=\"translate(15.579688 24.374979)scale(0.1 -0.1)\">\r\n       <use xlink:href=\"#DejaVuSans-31\"/>\r\n      </g>\r\n     </g>\r\n    </g>\r\n   </g>\r\n   <g id=\"line2d_9\">\r\n    <path clip-path=\"url(#pddc757cc9f)\" d=\"M 44.160369 218.255989 \r\nL 46.547535 218.135996 \r\nL 48.934701 217.776309 \r\nL 51.321867 217.177802 \r\nL 53.709032 216.341927 \r\nL 56.096198 215.270714 \r\nL 58.483364 213.966764 \r\nL 60.87053 212.433244 \r\nL 63.257696 210.673875 \r\nL 65.644861 208.692931 \r\nL 68.032027 206.49522 \r\nL 71.612776 202.804032 \r\nL 75.193524 198.657406 \r\nL 78.774273 194.07799 \r\nL 82.355022 189.090796 \r\nL 85.93577 183.723062 \r\nL 89.516519 178.004103 \r\nL 94.290851 169.88672 \r\nL 99.065182 161.279458 \r\nL 105.033097 149.959149 \r\nL 112.194594 135.779238 \r\nL 137.259835 85.419924 \r\nL 143.227749 74.272369 \r\nL 148.002081 65.839259 \r\nL 152.776412 57.926173 \r\nL 156.357161 52.379038 \r\nL 159.937909 47.198035 \r\nL 163.518658 42.411462 \r\nL 167.099407 38.045459 \r\nL 170.680155 34.123874 \r\nL 173.067321 31.767062 \r\nL 175.454487 29.623063 \r\nL 177.841653 27.697083 \r\nL 180.228819 25.993797 \r\nL 182.615984 24.517341 \r\nL 185.00315 23.271301 \r\nL 187.390316 22.258701 \r\nL 189.777482 21.482 \r\nL 192.164647 20.943085 \r\nL 194.551813 20.643262 \r\nL 196.938979 20.583261 \r\nL 199.326145 20.763228 \r\nL 201.71331 21.182724 \r\nL 204.100476 21.840732 \r\nL 206.487642 22.735654 \r\nL 208.874808 23.865317 \r\nL 211.261974 25.226978 \r\nL 213.649139 26.817332 \r\nL 216.036305 28.632516 \r\nL 218.423471 30.668124 \r\nL 220.810637 32.919212 \r\nL 224.391385 36.687775 \r\nL 227.972134 40.908171 \r\nL 231.552883 45.557349 \r\nL 235.133631 50.609916 \r\nL 238.71438 56.038277 \r\nL 242.295129 61.812785 \r\nL 247.06946 69.995817 \r\nL 251.843792 78.658529 \r\nL 257.811706 90.032997 \r\nL 264.973204 104.254626 \r\nL 288.844861 152.265861 \r\nL 294.812776 163.472704 \r\nL 299.587107 171.965157 \r\nL 304.361439 179.947557 \r\nL 307.942187 185.55282 \r\nL 311.522936 190.796866 \r\nL 315.103685 195.651053 \r\nL 318.684433 200.08887 \r\nL 322.265182 204.08608 \r\nL 325.845931 207.62085 \r\nL 328.233097 209.710812 \r\nL 330.620262 211.581536 \r\nL 333.007428 213.228481 \r\nL 335.394594 214.647647 \r\nL 337.78176 215.835589 \r\nL 340.168925 216.789422 \r\nL 342.556091 217.506831 \r\nL 344.943257 217.986073 \r\nL 347.330423 218.225986 \r\nL 348.524006 218.255989 \r\nL 348.524006 218.255989 \r\n\" style=\"fill:none;stroke:#0000ff;stroke-linecap:square;stroke-width:2.5;\"/>\r\n   </g>\r\n   <g id=\"line2d_10\">\r\n    <path clip-path=\"url(#pddc757cc9f)\" d=\"M 44.160369 119.415874 \r\nL 56.096198 143.524334 \r\nL 62.064113 155.121042 \r\nL 66.838444 164.016889 \r\nL 71.612776 172.47983 \r\nL 76.387107 180.427724 \r\nL 79.967856 186.004029 \r\nL 83.548605 191.216652 \r\nL 87.129353 196.037124 \r\nL 90.710102 200.439117 \r\nL 94.290851 204.39859 \r\nL 97.871599 207.893916 \r\nL 100.258765 209.95674 \r\nL 102.645931 211.799729 \r\nL 105.033097 213.418409 \r\nL 107.420262 214.808849 \r\nL 109.807428 215.967674 \r\nL 112.194594 216.892069 \r\nL 114.58176 217.57979 \r\nL 116.968925 218.029168 \r\nL 119.356091 218.239112 \r\nL 121.743257 218.209111 \r\nL 124.130423 217.939238 \r\nL 126.517589 217.430149 \r\nL 128.904754 216.68308 \r\nL 131.29192 215.699845 \r\nL 133.679086 214.482831 \r\nL 136.066252 213.034992 \r\nL 138.453417 211.359845 \r\nL 140.840583 209.461457 \r\nL 143.227749 207.344437 \r\nL 145.614915 205.013924 \r\nL 149.195663 201.130375 \r\nL 152.776412 196.800529 \r\nL 156.357161 192.048035 \r\nL 159.937909 186.898849 \r\nL 163.518658 181.381095 \r\nL 167.099407 175.524908 \r\nL 171.873738 167.245735 \r\nL 176.64807 158.502317 \r\nL 182.615984 147.04985 \r\nL 189.777482 132.769693 \r\nL 211.261974 89.45223 \r\nL 217.229888 78.104626 \r\nL 222.00422 69.469476 \r\nL 226.778551 61.319113 \r\nL 230.3593 55.572271 \r\nL 233.940048 50.174121 \r\nL 237.520797 45.154145 \r\nL 241.101546 40.539761 \r\nL 244.682294 36.356171 \r\nL 248.263043 32.626224 \r\nL 250.650209 30.401782 \r\nL 253.037375 28.393468 \r\nL 255.42454 26.606158 \r\nL 257.811706 25.044191 \r\nL 260.198872 23.71136 \r\nL 262.586038 22.610901 \r\nL 264.973204 21.745486 \r\nL 267.360369 21.117217 \r\nL 269.747535 20.727618 \r\nL 272.134701 20.577636 \r\nL 274.521867 20.667634 \r\nL 276.909032 20.997395 \r\nL 279.296198 21.566117 \r\nL 281.683364 22.37242 \r\nL 284.07053 23.414346 \r\nL 286.457696 24.689366 \r\nL 288.844861 26.194383 \r\nL 291.232027 27.925743 \r\nL 293.619193 29.879242 \r\nL 296.006359 32.050138 \r\nL 298.393524 34.433159 \r\nL 301.974273 38.392632 \r\nL 305.555022 42.794625 \r\nL 309.13577 47.615097 \r\nL 312.716519 52.82772 \r\nL 316.297268 58.404025 \r\nL 321.071599 66.351919 \r\nL 325.845931 74.81486 \r\nL 330.620262 83.710707 \r\nL 336.588177 95.307415 \r\nL 344.943257 112.116282 \r\nL 348.524006 119.415874 \r\nL 348.524006 119.415874 \r\n\" style=\"fill:none;stroke:#ff0000;stroke-linecap:square;stroke-width:2.5;\"/>\r\n   </g>\r\n   <g id=\"patch_3\">\r\n    <path d=\"M 28.942188 228.14 \r\nL 28.942188 10.7 \r\n\" style=\"fill:none;stroke:#000000;stroke-linecap:square;stroke-linejoin:miter;stroke-width:0.8;\"/>\r\n   </g>\r\n   <g id=\"patch_4\">\r\n    <path d=\"M 363.742188 228.14 \r\nL 363.742188 10.7 \r\n\" style=\"fill:none;stroke:#000000;stroke-linecap:square;stroke-linejoin:miter;stroke-width:0.8;\"/>\r\n   </g>\r\n   <g id=\"patch_5\">\r\n    <path d=\"M 28.942188 228.14 \r\nL 363.742188 228.14 \r\n\" style=\"fill:none;stroke:#000000;stroke-linecap:square;stroke-linejoin:miter;stroke-width:0.8;\"/>\r\n   </g>\r\n   <g id=\"patch_6\">\r\n    <path d=\"M 28.942188 10.7 \r\nL 363.742188 10.7 \r\n\" style=\"fill:none;stroke:#000000;stroke-linecap:square;stroke-linejoin:miter;stroke-width:0.8;\"/>\r\n   </g>\r\n  </g>\r\n </g>\r\n <defs>\r\n  <clipPath id=\"pddc757cc9f\">\r\n   <rect height=\"217.44\" width=\"334.8\" x=\"28.942188\" y=\"10.7\"/>\r\n  </clipPath>\r\n </defs>\r\n</svg>\r\n",
      "text/plain": "<matplotlib.figure.Figure at 0x20ddd3cf780>"
     },
     "metadata": {
      "needs_background": "light"
     },
     "output_type": "display_data"
    }
   ],
   "source": [
    "plt.plot(X, C, color=\"blue\", linewidth=2.5, linestyle=\"-\")\n",
    "plt.plot(X, S, color=\"red\",  linewidth=2.5, linestyle=\"-\")\n",
    "plt.xlim(X.min() * 1.1, X.max() * 1.1)\n",
    "plt.ylim(C.min() * 1.1, C.max() * 1.1)\n",
    "plt.xticks([-np.pi, -np.pi/2, 0, np.pi/2, np.pi])\n",
    "plt.yticks([-1, 0, +1])\n",
    "\n",
    "plt.show()"
   ]
  },
  {
   "cell_type": "code",
   "execution_count": 410,
   "metadata": {},
   "outputs": [
    {
     "data": {
      "image/svg+xml": "<?xml version=\"1.0\" encoding=\"utf-8\" standalone=\"no\"?>\r\n<!DOCTYPE svg PUBLIC \"-//W3C//DTD SVG 1.1//EN\"\r\n  \"http://www.w3.org/Graphics/SVG/1.1/DTD/svg11.dtd\">\r\n<!-- Created with matplotlib (http://matplotlib.org/) -->\r\n<svg height=\"252pt\" version=\"1.1\" viewBox=\"0 0 374 252\" width=\"374pt\" xmlns=\"http://www.w3.org/2000/svg\" xmlns:xlink=\"http://www.w3.org/1999/xlink\">\r\n <defs>\r\n  <style type=\"text/css\">\r\n*{stroke-linecap:butt;stroke-linejoin:round;}\r\n  </style>\r\n </defs>\r\n <g id=\"figure_1\">\r\n  <g id=\"patch_1\">\r\n   <path d=\"M 0 252.018125 \r\nL 374.5 252.018125 \r\nL 374.5 0 \r\nL 0 0 \r\nz\r\n\" style=\"fill:none;\"/>\r\n  </g>\r\n  <g id=\"axes_1\">\r\n   <g id=\"patch_2\">\r\n    <path d=\"M 29 228.14 \r\nL 363.8 228.14 \r\nL 363.8 10.7 \r\nL 29 10.7 \r\nz\r\n\" style=\"fill:#ffffff;\"/>\r\n   </g>\r\n   <g id=\"matplotlib.axis_1\">\r\n    <g id=\"xtick_1\">\r\n     <g id=\"line2d_1\">\r\n      <defs>\r\n       <path d=\"M 0 0 \r\nL 0 3.5 \r\n\" id=\"m8b7d08e80d\" style=\"stroke:#000000;stroke-width:0.8;\"/>\r\n      </defs>\r\n      <g>\r\n       <use style=\"stroke:#000000;stroke-width:0.8;\" x=\"44.218182\" xlink:href=\"#m8b7d08e80d\" y=\"228.14\"/>\r\n      </g>\r\n     </g>\r\n     <g id=\"text_1\">\r\n      <!-- $-\\pi$ -->\r\n      <defs>\r\n       <path d=\"M 10.59375 35.5 \r\nL 73.1875 35.5 \r\nL 73.1875 27.203125 \r\nL 10.59375 27.203125 \r\nz\r\n\" id=\"DejaVuSans-2212\"/>\r\n       <path d=\"M 9.125 54.6875 \r\nL 61.53125 54.6875 \r\nL 59.765625 45.703125 \r\nL 52.875 45.703125 \r\nL 46.34375 12.109375 \r\nQ 45.65625 8.59375 46.578125 7.03125 \r\nQ 47.46875 5.515625 50.140625 5.515625 \r\nQ 50.875 5.515625 51.953125 5.671875 \r\nQ 53.078125 5.765625 53.421875 5.8125 \r\nL 52.15625 -0.6875 \r\nQ 50.34375 -1.3125 48.484375 -1.609375 \r\nQ 46.578125 -1.90625 44.78125 -1.90625 \r\nQ 38.921875 -1.90625 37.3125 1.265625 \r\nQ 35.6875 4.5 37.359375 13.09375 \r\nL 43.703125 45.703125 \r\nL 23.53125 45.703125 \r\nL 14.65625 0 \r\nL 5.46875 0 \r\nL 14.359375 45.703125 \r\nL 7.375 45.703125 \r\nz\r\n\" id=\"DejaVuSans-Oblique-3c0\"/>\r\n      </defs>\r\n      <g transform=\"translate(37.018182 242.738437)scale(0.1 -0.1)\">\r\n       <use transform=\"translate(0 0.3125)\" xlink:href=\"#DejaVuSans-2212\"/>\r\n       <use transform=\"translate(83.789062 0.3125)\" xlink:href=\"#DejaVuSans-Oblique-3c0\"/>\r\n      </g>\r\n     </g>\r\n    </g>\r\n    <g id=\"xtick_2\">\r\n     <g id=\"line2d_2\">\r\n      <g>\r\n       <use style=\"stroke:#000000;stroke-width:0.8;\" x=\"120.309091\" xlink:href=\"#m8b7d08e80d\" y=\"228.14\"/>\r\n      </g>\r\n     </g>\r\n     <g id=\"text_2\">\r\n      <!-- $-\\pi/2$ -->\r\n      <defs>\r\n       <path d=\"M 25.390625 72.90625 \r\nL 33.6875 72.90625 \r\nL 8.296875 -9.28125 \r\nL 0 -9.28125 \r\nz\r\n\" id=\"DejaVuSans-2f\"/>\r\n       <path d=\"M 19.1875 8.296875 \r\nL 53.609375 8.296875 \r\nL 53.609375 0 \r\nL 7.328125 0 \r\nL 7.328125 8.296875 \r\nQ 12.9375 14.109375 22.625 23.890625 \r\nQ 32.328125 33.6875 34.8125 36.53125 \r\nQ 39.546875 41.84375 41.421875 45.53125 \r\nQ 43.3125 49.21875 43.3125 52.78125 \r\nQ 43.3125 58.59375 39.234375 62.25 \r\nQ 35.15625 65.921875 28.609375 65.921875 \r\nQ 23.96875 65.921875 18.8125 64.3125 \r\nQ 13.671875 62.703125 7.8125 59.421875 \r\nL 7.8125 69.390625 \r\nQ 13.765625 71.78125 18.9375 73 \r\nQ 24.125 74.21875 28.421875 74.21875 \r\nQ 39.75 74.21875 46.484375 68.546875 \r\nQ 53.21875 62.890625 53.21875 53.421875 \r\nQ 53.21875 48.921875 51.53125 44.890625 \r\nQ 49.859375 40.875 45.40625 35.40625 \r\nQ 44.1875 33.984375 37.640625 27.21875 \r\nQ 31.109375 20.453125 19.1875 8.296875 \r\nz\r\n\" id=\"DejaVuSans-32\"/>\r\n      </defs>\r\n      <g transform=\"translate(108.209091 242.738437)scale(0.1 -0.1)\">\r\n       <use transform=\"translate(0 0.78125)\" xlink:href=\"#DejaVuSans-2212\"/>\r\n       <use transform=\"translate(83.789062 0.78125)\" xlink:href=\"#DejaVuSans-Oblique-3c0\"/>\r\n       <use transform=\"translate(143.994141 0.78125)\" xlink:href=\"#DejaVuSans-2f\"/>\r\n       <use transform=\"translate(177.638672 0.78125)\" xlink:href=\"#DejaVuSans-32\"/>\r\n      </g>\r\n     </g>\r\n    </g>\r\n    <g id=\"xtick_3\">\r\n     <g id=\"line2d_3\">\r\n      <g>\r\n       <use style=\"stroke:#000000;stroke-width:0.8;\" x=\"196.4\" xlink:href=\"#m8b7d08e80d\" y=\"228.14\"/>\r\n      </g>\r\n     </g>\r\n     <g id=\"text_3\">\r\n      <!-- $0$ -->\r\n      <defs>\r\n       <path d=\"M 31.78125 66.40625 \r\nQ 24.171875 66.40625 20.328125 58.90625 \r\nQ 16.5 51.421875 16.5 36.375 \r\nQ 16.5 21.390625 20.328125 13.890625 \r\nQ 24.171875 6.390625 31.78125 6.390625 \r\nQ 39.453125 6.390625 43.28125 13.890625 \r\nQ 47.125 21.390625 47.125 36.375 \r\nQ 47.125 51.421875 43.28125 58.90625 \r\nQ 39.453125 66.40625 31.78125 66.40625 \r\nz\r\nM 31.78125 74.21875 \r\nQ 44.046875 74.21875 50.515625 64.515625 \r\nQ 56.984375 54.828125 56.984375 36.375 \r\nQ 56.984375 17.96875 50.515625 8.265625 \r\nQ 44.046875 -1.421875 31.78125 -1.421875 \r\nQ 19.53125 -1.421875 13.0625 8.265625 \r\nQ 6.59375 17.96875 6.59375 36.375 \r\nQ 6.59375 54.828125 13.0625 64.515625 \r\nQ 19.53125 74.21875 31.78125 74.21875 \r\nz\r\n\" id=\"DejaVuSans-30\"/>\r\n      </defs>\r\n      <g transform=\"translate(193.2 242.738437)scale(0.1 -0.1)\">\r\n       <use transform=\"translate(0 0.78125)\" xlink:href=\"#DejaVuSans-30\"/>\r\n      </g>\r\n     </g>\r\n    </g>\r\n    <g id=\"xtick_4\">\r\n     <g id=\"line2d_4\">\r\n      <g>\r\n       <use style=\"stroke:#000000;stroke-width:0.8;\" x=\"272.490909\" xlink:href=\"#m8b7d08e80d\" y=\"228.14\"/>\r\n      </g>\r\n     </g>\r\n     <g id=\"text_4\">\r\n      <!-- $+\\pi/2$ -->\r\n      <defs>\r\n       <path d=\"M 46 62.703125 \r\nL 46 35.5 \r\nL 73.1875 35.5 \r\nL 73.1875 27.203125 \r\nL 46 27.203125 \r\nL 46 0 \r\nL 37.796875 0 \r\nL 37.796875 27.203125 \r\nL 10.59375 27.203125 \r\nL 10.59375 35.5 \r\nL 37.796875 35.5 \r\nL 37.796875 62.703125 \r\nz\r\n\" id=\"DejaVuSans-2b\"/>\r\n      </defs>\r\n      <g transform=\"translate(260.390909 242.738437)scale(0.1 -0.1)\">\r\n       <use transform=\"translate(0 0.78125)\" xlink:href=\"#DejaVuSans-2b\"/>\r\n       <use transform=\"translate(83.789062 0.78125)\" xlink:href=\"#DejaVuSans-Oblique-3c0\"/>\r\n       <use transform=\"translate(143.994141 0.78125)\" xlink:href=\"#DejaVuSans-2f\"/>\r\n       <use transform=\"translate(177.638672 0.78125)\" xlink:href=\"#DejaVuSans-32\"/>\r\n      </g>\r\n     </g>\r\n    </g>\r\n    <g id=\"xtick_5\">\r\n     <g id=\"line2d_5\">\r\n      <g>\r\n       <use style=\"stroke:#000000;stroke-width:0.8;\" x=\"348.581818\" xlink:href=\"#m8b7d08e80d\" y=\"228.14\"/>\r\n      </g>\r\n     </g>\r\n     <g id=\"text_5\">\r\n      <!-- $+\\pi$ -->\r\n      <g transform=\"translate(341.381818 242.738437)scale(0.1 -0.1)\">\r\n       <use transform=\"translate(0 0.296875)\" xlink:href=\"#DejaVuSans-2b\"/>\r\n       <use transform=\"translate(83.789062 0.296875)\" xlink:href=\"#DejaVuSans-Oblique-3c0\"/>\r\n      </g>\r\n     </g>\r\n    </g>\r\n   </g>\r\n   <g id=\"matplotlib.axis_2\">\r\n    <g id=\"ytick_1\">\r\n     <g id=\"line2d_6\">\r\n      <defs>\r\n       <path d=\"M 0 0 \r\nL -3.5 0 \r\n\" id=\"mf7fde15a07\" style=\"stroke:#000000;stroke-width:0.8;\"/>\r\n      </defs>\r\n      <g>\r\n       <use style=\"stroke:#000000;stroke-width:0.8;\" x=\"29\" xlink:href=\"#mf7fde15a07\" y=\"218.255989\"/>\r\n      </g>\r\n     </g>\r\n     <g id=\"text_6\">\r\n      <!-- $-1$ -->\r\n      <defs>\r\n       <path d=\"M 12.40625 8.296875 \r\nL 28.515625 8.296875 \r\nL 28.515625 63.921875 \r\nL 10.984375 60.40625 \r\nL 10.984375 69.390625 \r\nL 28.421875 72.90625 \r\nL 38.28125 72.90625 \r\nL 38.28125 8.296875 \r\nL 54.390625 8.296875 \r\nL 54.390625 0 \r\nL 12.40625 0 \r\nz\r\n\" id=\"DejaVuSans-31\"/>\r\n      </defs>\r\n      <g transform=\"translate(7.2 222.055207)scale(0.1 -0.1)\">\r\n       <use transform=\"translate(0 0.09375)\" xlink:href=\"#DejaVuSans-2212\"/>\r\n       <use transform=\"translate(83.789062 0.09375)\" xlink:href=\"#DejaVuSans-31\"/>\r\n      </g>\r\n     </g>\r\n    </g>\r\n    <g id=\"ytick_2\">\r\n     <g id=\"line2d_7\">\r\n      <g>\r\n       <use style=\"stroke:#000000;stroke-width:0.8;\" x=\"29\" xlink:href=\"#mf7fde15a07\" y=\"119.415874\"/>\r\n      </g>\r\n     </g>\r\n     <g id=\"text_7\">\r\n      <!-- $0$ -->\r\n      <g transform=\"translate(15.6 123.215093)scale(0.1 -0.1)\">\r\n       <use transform=\"translate(0 0.78125)\" xlink:href=\"#DejaVuSans-30\"/>\r\n      </g>\r\n     </g>\r\n    </g>\r\n    <g id=\"ytick_3\">\r\n     <g id=\"line2d_8\">\r\n      <g>\r\n       <use style=\"stroke:#000000;stroke-width:0.8;\" x=\"29\" xlink:href=\"#mf7fde15a07\" y=\"20.57576\"/>\r\n      </g>\r\n     </g>\r\n     <g id=\"text_8\">\r\n      <!-- $+1$ -->\r\n      <g transform=\"translate(7.2 24.374979)scale(0.1 -0.1)\">\r\n       <use transform=\"translate(0 0.09375)\" xlink:href=\"#DejaVuSans-2b\"/>\r\n       <use transform=\"translate(83.789062 0.09375)\" xlink:href=\"#DejaVuSans-31\"/>\r\n      </g>\r\n     </g>\r\n    </g>\r\n   </g>\r\n   <g id=\"line2d_9\">\r\n    <path clip-path=\"url(#p96c210c3d3)\" d=\"M 44.218182 218.255989 \r\nL 46.605348 218.135996 \r\nL 48.992513 217.776309 \r\nL 51.379679 217.177802 \r\nL 53.766845 216.341927 \r\nL 56.154011 215.270714 \r\nL 58.541176 213.966764 \r\nL 60.928342 212.433244 \r\nL 63.315508 210.673875 \r\nL 65.702674 208.692931 \r\nL 68.08984 206.49522 \r\nL 71.670588 202.804032 \r\nL 75.251337 198.657406 \r\nL 78.832086 194.07799 \r\nL 82.412834 189.090796 \r\nL 85.993583 183.723062 \r\nL 89.574332 178.004103 \r\nL 94.348663 169.88672 \r\nL 99.122995 161.279458 \r\nL 105.090909 149.959149 \r\nL 112.252406 135.779238 \r\nL 137.317647 85.419924 \r\nL 143.285561 74.272369 \r\nL 148.059893 65.839259 \r\nL 152.834225 57.926173 \r\nL 156.414973 52.379038 \r\nL 159.995722 47.198035 \r\nL 163.576471 42.411462 \r\nL 167.157219 38.045459 \r\nL 170.737968 34.123874 \r\nL 173.125134 31.767062 \r\nL 175.512299 29.623063 \r\nL 177.899465 27.697083 \r\nL 180.286631 25.993797 \r\nL 182.673797 24.517341 \r\nL 185.060963 23.271301 \r\nL 187.448128 22.258701 \r\nL 189.835294 21.482 \r\nL 192.22246 20.943085 \r\nL 194.609626 20.643262 \r\nL 196.996791 20.583261 \r\nL 199.383957 20.763228 \r\nL 201.771123 21.182724 \r\nL 204.158289 21.840732 \r\nL 206.545455 22.735654 \r\nL 208.93262 23.865317 \r\nL 211.319786 25.226978 \r\nL 213.706952 26.817332 \r\nL 216.094118 28.632516 \r\nL 218.481283 30.668124 \r\nL 220.868449 32.919212 \r\nL 224.449198 36.687775 \r\nL 228.029947 40.908171 \r\nL 231.610695 45.557349 \r\nL 235.191444 50.609916 \r\nL 238.772193 56.038277 \r\nL 242.352941 61.812785 \r\nL 247.127273 69.995817 \r\nL 251.901604 78.658529 \r\nL 257.869519 90.032997 \r\nL 265.031016 104.254626 \r\nL 288.902674 152.265861 \r\nL 294.870588 163.472704 \r\nL 299.64492 171.965157 \r\nL 304.419251 179.947557 \r\nL 308 185.55282 \r\nL 311.580749 190.796866 \r\nL 315.161497 195.651053 \r\nL 318.742246 200.08887 \r\nL 322.322995 204.08608 \r\nL 325.903743 207.62085 \r\nL 328.290909 209.710812 \r\nL 330.678075 211.581536 \r\nL 333.065241 213.228481 \r\nL 335.452406 214.647647 \r\nL 337.839572 215.835589 \r\nL 340.226738 216.789422 \r\nL 342.613904 217.506831 \r\nL 345.00107 217.986073 \r\nL 347.388235 218.225986 \r\nL 348.581818 218.255989 \r\nL 348.581818 218.255989 \r\n\" style=\"fill:none;stroke:#0000ff;stroke-linecap:square;stroke-width:2.5;\"/>\r\n   </g>\r\n   <g id=\"line2d_10\">\r\n    <path clip-path=\"url(#p96c210c3d3)\" d=\"M 44.218182 119.415874 \r\nL 56.154011 143.524334 \r\nL 62.121925 155.121042 \r\nL 66.896257 164.016889 \r\nL 71.670588 172.47983 \r\nL 76.44492 180.427724 \r\nL 80.025668 186.004029 \r\nL 83.606417 191.216652 \r\nL 87.187166 196.037124 \r\nL 90.767914 200.439117 \r\nL 94.348663 204.39859 \r\nL 97.929412 207.893916 \r\nL 100.316578 209.95674 \r\nL 102.703743 211.799729 \r\nL 105.090909 213.418409 \r\nL 107.478075 214.808849 \r\nL 109.865241 215.967674 \r\nL 112.252406 216.892069 \r\nL 114.639572 217.57979 \r\nL 117.026738 218.029168 \r\nL 119.413904 218.239112 \r\nL 121.80107 218.209111 \r\nL 124.188235 217.939238 \r\nL 126.575401 217.430149 \r\nL 128.962567 216.68308 \r\nL 131.349733 215.699845 \r\nL 133.736898 214.482831 \r\nL 136.124064 213.034992 \r\nL 138.51123 211.359845 \r\nL 140.898396 209.461457 \r\nL 143.285561 207.344437 \r\nL 145.672727 205.013924 \r\nL 149.253476 201.130375 \r\nL 152.834225 196.800529 \r\nL 156.414973 192.048035 \r\nL 159.995722 186.898849 \r\nL 163.576471 181.381095 \r\nL 167.157219 175.524908 \r\nL 171.931551 167.245735 \r\nL 176.705882 158.502317 \r\nL 182.673797 147.04985 \r\nL 189.835294 132.769693 \r\nL 211.319786 89.45223 \r\nL 217.287701 78.104626 \r\nL 222.062032 69.469476 \r\nL 226.836364 61.319113 \r\nL 230.417112 55.572271 \r\nL 233.997861 50.174121 \r\nL 237.57861 45.154145 \r\nL 241.159358 40.539761 \r\nL 244.740107 36.356171 \r\nL 248.320856 32.626224 \r\nL 250.708021 30.401782 \r\nL 253.095187 28.393468 \r\nL 255.482353 26.606158 \r\nL 257.869519 25.044191 \r\nL 260.256684 23.71136 \r\nL 262.64385 22.610901 \r\nL 265.031016 21.745486 \r\nL 267.418182 21.117217 \r\nL 269.805348 20.727618 \r\nL 272.192513 20.577636 \r\nL 274.579679 20.667634 \r\nL 276.966845 20.997395 \r\nL 279.354011 21.566117 \r\nL 281.741176 22.37242 \r\nL 284.128342 23.414346 \r\nL 286.515508 24.689366 \r\nL 288.902674 26.194383 \r\nL 291.28984 27.925743 \r\nL 293.677005 29.879242 \r\nL 296.064171 32.050138 \r\nL 298.451337 34.433159 \r\nL 302.032086 38.392632 \r\nL 305.612834 42.794625 \r\nL 309.193583 47.615097 \r\nL 312.774332 52.82772 \r\nL 316.35508 58.404025 \r\nL 321.129412 66.351919 \r\nL 325.903743 74.81486 \r\nL 330.678075 83.710707 \r\nL 336.645989 95.307415 \r\nL 345.00107 112.116282 \r\nL 348.581818 119.415874 \r\nL 348.581818 119.415874 \r\n\" style=\"fill:none;stroke:#ff0000;stroke-linecap:square;stroke-width:2.5;\"/>\r\n   </g>\r\n   <g id=\"patch_3\">\r\n    <path d=\"M 29 228.14 \r\nL 29 10.7 \r\n\" style=\"fill:none;stroke:#000000;stroke-linecap:square;stroke-linejoin:miter;stroke-width:0.8;\"/>\r\n   </g>\r\n   <g id=\"patch_4\">\r\n    <path d=\"M 363.8 228.14 \r\nL 363.8 10.7 \r\n\" style=\"fill:none;stroke:#000000;stroke-linecap:square;stroke-linejoin:miter;stroke-width:0.8;\"/>\r\n   </g>\r\n   <g id=\"patch_5\">\r\n    <path d=\"M 29 228.14 \r\nL 363.8 228.14 \r\n\" style=\"fill:none;stroke:#000000;stroke-linecap:square;stroke-linejoin:miter;stroke-width:0.8;\"/>\r\n   </g>\r\n   <g id=\"patch_6\">\r\n    <path d=\"M 29 10.7 \r\nL 363.8 10.7 \r\n\" style=\"fill:none;stroke:#000000;stroke-linecap:square;stroke-linejoin:miter;stroke-width:0.8;\"/>\r\n   </g>\r\n  </g>\r\n </g>\r\n <defs>\r\n  <clipPath id=\"p96c210c3d3\">\r\n   <rect height=\"217.44\" width=\"334.8\" x=\"29\" y=\"10.7\"/>\r\n  </clipPath>\r\n </defs>\r\n</svg>\r\n",
      "text/plain": "<matplotlib.figure.Figure at 0x20ddc73e2b0>"
     },
     "metadata": {
      "needs_background": "light"
     },
     "output_type": "display_data"
    }
   ],
   "source": [
    "plt.plot(X, C, color=\"blue\", linewidth=2.5, linestyle=\"-\")\n",
    "plt.plot(X, S, color=\"red\",  linewidth=2.5, linestyle=\"-\")\n",
    "plt.xlim(X.min() * 1.1, X.max() * 1.1)\n",
    "plt.ylim(C.min() * 1.1, C.max() * 1.1)\n",
    "plt.xticks([-np.pi, -np.pi/2, 0, np.pi/2, np.pi])\n",
    "plt.yticks([-1, 0, +1])\n",
    "\n",
    "plt.xticks([-np.pi, -np.pi/2, 0, np.pi/2, np.pi],\n",
    "          [r'$-\\pi$', r'$-\\pi/2$', r'$0$', r'$+\\pi/2$', r'$+\\pi$'])\n",
    "\n",
    "plt.yticks([-1, 0, +1],\n",
    "          [r'$-1$', r'$0$', r'$+1$'])\n",
    "\n",
    "plt.show()"
   ]
  },
  {
   "cell_type": "code",
   "execution_count": 411,
   "metadata": {},
   "outputs": [
    {
     "data": {
      "image/svg+xml": "<?xml version=\"1.0\" encoding=\"utf-8\" standalone=\"no\"?>\r\n<!DOCTYPE svg PUBLIC \"-//W3C//DTD SVG 1.1//EN\"\r\n  \"http://www.w3.org/Graphics/SVG/1.1/DTD/svg11.dtd\">\r\n<!-- Created with matplotlib (http://matplotlib.org/) -->\r\n<svg height=\"238pt\" version=\"1.1\" viewBox=\"0 0 356 238\" width=\"356pt\" xmlns=\"http://www.w3.org/2000/svg\" xmlns:xlink=\"http://www.w3.org/1999/xlink\">\r\n <defs>\r\n  <style type=\"text/css\">\r\n*{stroke-linecap:butt;stroke-linejoin:round;}\r\n  </style>\r\n </defs>\r\n <g id=\"figure_1\">\r\n  <g id=\"patch_1\">\r\n   <path d=\"M 0 238.84 \r\nL 356.2 238.84 \r\nL 356.2 0 \r\nL 0 0 \r\nz\r\n\" style=\"fill:none;\"/>\r\n  </g>\r\n  <g id=\"axes_1\">\r\n   <g id=\"patch_2\">\r\n    <path d=\"M 10.7 228.14 \r\nL 345.5 228.14 \r\nL 345.5 10.7 \r\nL 10.7 10.7 \r\nz\r\n\" style=\"fill:#ffffff;\"/>\r\n   </g>\r\n   <g id=\"matplotlib.axis_1\">\r\n    <g id=\"xtick_1\">\r\n     <g id=\"line2d_1\">\r\n      <defs>\r\n       <path d=\"M 0 0 \r\nL 0 3.5 \r\n\" id=\"m0d7fe12410\" style=\"stroke:#000000;stroke-width:0.8;\"/>\r\n      </defs>\r\n      <g>\r\n       <use style=\"stroke:#000000;stroke-width:0.8;\" x=\"25.918182\" xlink:href=\"#m0d7fe12410\" y=\"119.415874\"/>\r\n      </g>\r\n     </g>\r\n     <g id=\"text_1\">\r\n      <!-- $-\\pi$ -->\r\n      <defs>\r\n       <path d=\"M 10.59375 35.5 \r\nL 73.1875 35.5 \r\nL 73.1875 27.203125 \r\nL 10.59375 27.203125 \r\nz\r\n\" id=\"DejaVuSans-2212\"/>\r\n       <path d=\"M 9.125 54.6875 \r\nL 61.53125 54.6875 \r\nL 59.765625 45.703125 \r\nL 52.875 45.703125 \r\nL 46.34375 12.109375 \r\nQ 45.65625 8.59375 46.578125 7.03125 \r\nQ 47.46875 5.515625 50.140625 5.515625 \r\nQ 50.875 5.515625 51.953125 5.671875 \r\nQ 53.078125 5.765625 53.421875 5.8125 \r\nL 52.15625 -0.6875 \r\nQ 50.34375 -1.3125 48.484375 -1.609375 \r\nQ 46.578125 -1.90625 44.78125 -1.90625 \r\nQ 38.921875 -1.90625 37.3125 1.265625 \r\nQ 35.6875 4.5 37.359375 13.09375 \r\nL 43.703125 45.703125 \r\nL 23.53125 45.703125 \r\nL 14.65625 0 \r\nL 5.46875 0 \r\nL 14.359375 45.703125 \r\nL 7.375 45.703125 \r\nz\r\n\" id=\"DejaVuSans-Oblique-3c0\"/>\r\n      </defs>\r\n      <g transform=\"translate(18.718182 134.014312)scale(0.1 -0.1)\">\r\n       <use transform=\"translate(0 0.3125)\" xlink:href=\"#DejaVuSans-2212\"/>\r\n       <use transform=\"translate(83.789062 0.3125)\" xlink:href=\"#DejaVuSans-Oblique-3c0\"/>\r\n      </g>\r\n     </g>\r\n    </g>\r\n    <g id=\"xtick_2\">\r\n     <g id=\"line2d_2\">\r\n      <g>\r\n       <use style=\"stroke:#000000;stroke-width:0.8;\" x=\"102.009091\" xlink:href=\"#m0d7fe12410\" y=\"119.415874\"/>\r\n      </g>\r\n     </g>\r\n     <g id=\"text_2\">\r\n      <!-- $-\\pi/2$ -->\r\n      <defs>\r\n       <path d=\"M 25.390625 72.90625 \r\nL 33.6875 72.90625 \r\nL 8.296875 -9.28125 \r\nL 0 -9.28125 \r\nz\r\n\" id=\"DejaVuSans-2f\"/>\r\n       <path d=\"M 19.1875 8.296875 \r\nL 53.609375 8.296875 \r\nL 53.609375 0 \r\nL 7.328125 0 \r\nL 7.328125 8.296875 \r\nQ 12.9375 14.109375 22.625 23.890625 \r\nQ 32.328125 33.6875 34.8125 36.53125 \r\nQ 39.546875 41.84375 41.421875 45.53125 \r\nQ 43.3125 49.21875 43.3125 52.78125 \r\nQ 43.3125 58.59375 39.234375 62.25 \r\nQ 35.15625 65.921875 28.609375 65.921875 \r\nQ 23.96875 65.921875 18.8125 64.3125 \r\nQ 13.671875 62.703125 7.8125 59.421875 \r\nL 7.8125 69.390625 \r\nQ 13.765625 71.78125 18.9375 73 \r\nQ 24.125 74.21875 28.421875 74.21875 \r\nQ 39.75 74.21875 46.484375 68.546875 \r\nQ 53.21875 62.890625 53.21875 53.421875 \r\nQ 53.21875 48.921875 51.53125 44.890625 \r\nQ 49.859375 40.875 45.40625 35.40625 \r\nQ 44.1875 33.984375 37.640625 27.21875 \r\nQ 31.109375 20.453125 19.1875 8.296875 \r\nz\r\n\" id=\"DejaVuSans-32\"/>\r\n      </defs>\r\n      <g transform=\"translate(89.909091 134.014312)scale(0.1 -0.1)\">\r\n       <use transform=\"translate(0 0.78125)\" xlink:href=\"#DejaVuSans-2212\"/>\r\n       <use transform=\"translate(83.789062 0.78125)\" xlink:href=\"#DejaVuSans-Oblique-3c0\"/>\r\n       <use transform=\"translate(143.994141 0.78125)\" xlink:href=\"#DejaVuSans-2f\"/>\r\n       <use transform=\"translate(177.638672 0.78125)\" xlink:href=\"#DejaVuSans-32\"/>\r\n      </g>\r\n     </g>\r\n    </g>\r\n    <g id=\"xtick_3\">\r\n     <g id=\"line2d_3\">\r\n      <g>\r\n       <use style=\"stroke:#000000;stroke-width:0.8;\" x=\"178.1\" xlink:href=\"#m0d7fe12410\" y=\"119.415874\"/>\r\n      </g>\r\n     </g>\r\n     <g id=\"text_3\">\r\n      <!-- $0$ -->\r\n      <defs>\r\n       <path d=\"M 31.78125 66.40625 \r\nQ 24.171875 66.40625 20.328125 58.90625 \r\nQ 16.5 51.421875 16.5 36.375 \r\nQ 16.5 21.390625 20.328125 13.890625 \r\nQ 24.171875 6.390625 31.78125 6.390625 \r\nQ 39.453125 6.390625 43.28125 13.890625 \r\nQ 47.125 21.390625 47.125 36.375 \r\nQ 47.125 51.421875 43.28125 58.90625 \r\nQ 39.453125 66.40625 31.78125 66.40625 \r\nz\r\nM 31.78125 74.21875 \r\nQ 44.046875 74.21875 50.515625 64.515625 \r\nQ 56.984375 54.828125 56.984375 36.375 \r\nQ 56.984375 17.96875 50.515625 8.265625 \r\nQ 44.046875 -1.421875 31.78125 -1.421875 \r\nQ 19.53125 -1.421875 13.0625 8.265625 \r\nQ 6.59375 17.96875 6.59375 36.375 \r\nQ 6.59375 54.828125 13.0625 64.515625 \r\nQ 19.53125 74.21875 31.78125 74.21875 \r\nz\r\n\" id=\"DejaVuSans-30\"/>\r\n      </defs>\r\n      <g transform=\"translate(174.9 134.014312)scale(0.1 -0.1)\">\r\n       <use transform=\"translate(0 0.78125)\" xlink:href=\"#DejaVuSans-30\"/>\r\n      </g>\r\n     </g>\r\n    </g>\r\n    <g id=\"xtick_4\">\r\n     <g id=\"line2d_4\">\r\n      <g>\r\n       <use style=\"stroke:#000000;stroke-width:0.8;\" x=\"254.190909\" xlink:href=\"#m0d7fe12410\" y=\"119.415874\"/>\r\n      </g>\r\n     </g>\r\n     <g id=\"text_4\">\r\n      <!-- $+\\pi/2$ -->\r\n      <defs>\r\n       <path d=\"M 46 62.703125 \r\nL 46 35.5 \r\nL 73.1875 35.5 \r\nL 73.1875 27.203125 \r\nL 46 27.203125 \r\nL 46 0 \r\nL 37.796875 0 \r\nL 37.796875 27.203125 \r\nL 10.59375 27.203125 \r\nL 10.59375 35.5 \r\nL 37.796875 35.5 \r\nL 37.796875 62.703125 \r\nz\r\n\" id=\"DejaVuSans-2b\"/>\r\n      </defs>\r\n      <g transform=\"translate(242.090909 134.014312)scale(0.1 -0.1)\">\r\n       <use transform=\"translate(0 0.78125)\" xlink:href=\"#DejaVuSans-2b\"/>\r\n       <use transform=\"translate(83.789062 0.78125)\" xlink:href=\"#DejaVuSans-Oblique-3c0\"/>\r\n       <use transform=\"translate(143.994141 0.78125)\" xlink:href=\"#DejaVuSans-2f\"/>\r\n       <use transform=\"translate(177.638672 0.78125)\" xlink:href=\"#DejaVuSans-32\"/>\r\n      </g>\r\n     </g>\r\n    </g>\r\n    <g id=\"xtick_5\">\r\n     <g id=\"line2d_5\">\r\n      <g>\r\n       <use style=\"stroke:#000000;stroke-width:0.8;\" x=\"330.281818\" xlink:href=\"#m0d7fe12410\" y=\"119.415874\"/>\r\n      </g>\r\n     </g>\r\n     <g id=\"text_5\">\r\n      <!-- $+\\pi$ -->\r\n      <g transform=\"translate(323.081818 134.014312)scale(0.1 -0.1)\">\r\n       <use transform=\"translate(0 0.296875)\" xlink:href=\"#DejaVuSans-2b\"/>\r\n       <use transform=\"translate(83.789062 0.296875)\" xlink:href=\"#DejaVuSans-Oblique-3c0\"/>\r\n      </g>\r\n     </g>\r\n    </g>\r\n   </g>\r\n   <g id=\"matplotlib.axis_2\">\r\n    <g id=\"ytick_1\">\r\n     <g id=\"line2d_6\">\r\n      <defs>\r\n       <path d=\"M 0 0 \r\nL -3.5 0 \r\n\" id=\"mddd515b9b6\" style=\"stroke:#000000;stroke-width:0.8;\"/>\r\n      </defs>\r\n      <g>\r\n       <use style=\"stroke:#000000;stroke-width:0.8;\" x=\"178.1\" xlink:href=\"#mddd515b9b6\" y=\"218.255989\"/>\r\n      </g>\r\n     </g>\r\n     <g id=\"text_6\">\r\n      <!-- $-1$ -->\r\n      <defs>\r\n       <path d=\"M 12.40625 8.296875 \r\nL 28.515625 8.296875 \r\nL 28.515625 63.921875 \r\nL 10.984375 60.40625 \r\nL 10.984375 69.390625 \r\nL 28.421875 72.90625 \r\nL 38.28125 72.90625 \r\nL 38.28125 8.296875 \r\nL 54.390625 8.296875 \r\nL 54.390625 0 \r\nL 12.40625 0 \r\nz\r\n\" id=\"DejaVuSans-31\"/>\r\n      </defs>\r\n      <g transform=\"translate(156.3 222.055207)scale(0.1 -0.1)\">\r\n       <use transform=\"translate(0 0.09375)\" xlink:href=\"#DejaVuSans-2212\"/>\r\n       <use transform=\"translate(83.789062 0.09375)\" xlink:href=\"#DejaVuSans-31\"/>\r\n      </g>\r\n     </g>\r\n    </g>\r\n    <g id=\"ytick_2\">\r\n     <g id=\"line2d_7\">\r\n      <g>\r\n       <use style=\"stroke:#000000;stroke-width:0.8;\" x=\"178.1\" xlink:href=\"#mddd515b9b6\" y=\"119.415874\"/>\r\n      </g>\r\n     </g>\r\n     <g id=\"text_7\">\r\n      <!-- $0$ -->\r\n      <g transform=\"translate(164.7 123.215093)scale(0.1 -0.1)\">\r\n       <use transform=\"translate(0 0.78125)\" xlink:href=\"#DejaVuSans-30\"/>\r\n      </g>\r\n     </g>\r\n    </g>\r\n    <g id=\"ytick_3\">\r\n     <g id=\"line2d_8\">\r\n      <g>\r\n       <use style=\"stroke:#000000;stroke-width:0.8;\" x=\"178.1\" xlink:href=\"#mddd515b9b6\" y=\"20.57576\"/>\r\n      </g>\r\n     </g>\r\n     <g id=\"text_8\">\r\n      <!-- $+1$ -->\r\n      <g transform=\"translate(156.3 24.374979)scale(0.1 -0.1)\">\r\n       <use transform=\"translate(0 0.09375)\" xlink:href=\"#DejaVuSans-2b\"/>\r\n       <use transform=\"translate(83.789062 0.09375)\" xlink:href=\"#DejaVuSans-31\"/>\r\n      </g>\r\n     </g>\r\n    </g>\r\n   </g>\r\n   <g id=\"line2d_9\">\r\n    <path clip-path=\"url(#pf728d5d2bd)\" d=\"M 25.918182 218.255989 \r\nL 28.305348 218.135996 \r\nL 30.692513 217.776309 \r\nL 33.079679 217.177802 \r\nL 35.466845 216.341927 \r\nL 37.854011 215.270714 \r\nL 40.241176 213.966764 \r\nL 42.628342 212.433244 \r\nL 45.015508 210.673875 \r\nL 47.402674 208.692931 \r\nL 49.78984 206.49522 \r\nL 53.370588 202.804032 \r\nL 56.951337 198.657406 \r\nL 60.532086 194.07799 \r\nL 64.112834 189.090796 \r\nL 67.693583 183.723062 \r\nL 71.274332 178.004103 \r\nL 76.048663 169.88672 \r\nL 80.822995 161.279458 \r\nL 86.790909 149.959149 \r\nL 93.952406 135.779238 \r\nL 119.017647 85.419924 \r\nL 124.985561 74.272369 \r\nL 129.759893 65.839259 \r\nL 134.534225 57.926173 \r\nL 138.114973 52.379038 \r\nL 141.695722 47.198035 \r\nL 145.276471 42.411462 \r\nL 148.857219 38.045459 \r\nL 152.437968 34.123874 \r\nL 154.825134 31.767062 \r\nL 157.212299 29.623063 \r\nL 159.599465 27.697083 \r\nL 161.986631 25.993797 \r\nL 164.373797 24.517341 \r\nL 166.760963 23.271301 \r\nL 169.148128 22.258701 \r\nL 171.535294 21.482 \r\nL 173.92246 20.943085 \r\nL 176.309626 20.643262 \r\nL 178.696791 20.583261 \r\nL 181.083957 20.763228 \r\nL 183.471123 21.182724 \r\nL 185.858289 21.840732 \r\nL 188.245455 22.735654 \r\nL 190.63262 23.865317 \r\nL 193.019786 25.226978 \r\nL 195.406952 26.817332 \r\nL 197.794118 28.632516 \r\nL 200.181283 30.668124 \r\nL 202.568449 32.919212 \r\nL 206.149198 36.687775 \r\nL 209.729947 40.908171 \r\nL 213.310695 45.557349 \r\nL 216.891444 50.609916 \r\nL 220.472193 56.038277 \r\nL 224.052941 61.812785 \r\nL 228.827273 69.995817 \r\nL 233.601604 78.658529 \r\nL 239.569519 90.032997 \r\nL 246.731016 104.254626 \r\nL 270.602674 152.265861 \r\nL 276.570588 163.472704 \r\nL 281.34492 171.965157 \r\nL 286.119251 179.947557 \r\nL 289.7 185.55282 \r\nL 293.280749 190.796866 \r\nL 296.861497 195.651053 \r\nL 300.442246 200.08887 \r\nL 304.022995 204.08608 \r\nL 307.603743 207.62085 \r\nL 309.990909 209.710812 \r\nL 312.378075 211.581536 \r\nL 314.765241 213.228481 \r\nL 317.152406 214.647647 \r\nL 319.539572 215.835589 \r\nL 321.926738 216.789422 \r\nL 324.313904 217.506831 \r\nL 326.70107 217.986073 \r\nL 329.088235 218.225986 \r\nL 330.281818 218.255989 \r\nL 330.281818 218.255989 \r\n\" style=\"fill:none;stroke:#0000ff;stroke-linecap:square;stroke-width:2.5;\"/>\r\n   </g>\r\n   <g id=\"line2d_10\">\r\n    <path clip-path=\"url(#pf728d5d2bd)\" d=\"M 25.918182 119.415874 \r\nL 37.854011 143.524334 \r\nL 43.821925 155.121042 \r\nL 48.596257 164.016889 \r\nL 53.370588 172.47983 \r\nL 58.14492 180.427724 \r\nL 61.725668 186.004029 \r\nL 65.306417 191.216652 \r\nL 68.887166 196.037124 \r\nL 72.467914 200.439117 \r\nL 76.048663 204.39859 \r\nL 79.629412 207.893916 \r\nL 82.016578 209.95674 \r\nL 84.403743 211.799729 \r\nL 86.790909 213.418409 \r\nL 89.178075 214.808849 \r\nL 91.565241 215.967674 \r\nL 93.952406 216.892069 \r\nL 96.339572 217.57979 \r\nL 98.726738 218.029168 \r\nL 101.113904 218.239112 \r\nL 103.50107 218.209111 \r\nL 105.888235 217.939238 \r\nL 108.275401 217.430149 \r\nL 110.662567 216.68308 \r\nL 113.049733 215.699845 \r\nL 115.436898 214.482831 \r\nL 117.824064 213.034992 \r\nL 120.21123 211.359845 \r\nL 122.598396 209.461457 \r\nL 124.985561 207.344437 \r\nL 127.372727 205.013924 \r\nL 130.953476 201.130375 \r\nL 134.534225 196.800529 \r\nL 138.114973 192.048035 \r\nL 141.695722 186.898849 \r\nL 145.276471 181.381095 \r\nL 148.857219 175.524908 \r\nL 153.631551 167.245735 \r\nL 158.405882 158.502317 \r\nL 164.373797 147.04985 \r\nL 171.535294 132.769693 \r\nL 193.019786 89.45223 \r\nL 198.987701 78.104626 \r\nL 203.762032 69.469476 \r\nL 208.536364 61.319113 \r\nL 212.117112 55.572271 \r\nL 215.697861 50.174121 \r\nL 219.27861 45.154145 \r\nL 222.859358 40.539761 \r\nL 226.440107 36.356171 \r\nL 230.020856 32.626224 \r\nL 232.408021 30.401782 \r\nL 234.795187 28.393468 \r\nL 237.182353 26.606158 \r\nL 239.569519 25.044191 \r\nL 241.956684 23.71136 \r\nL 244.34385 22.610901 \r\nL 246.731016 21.745486 \r\nL 249.118182 21.117217 \r\nL 251.505348 20.727618 \r\nL 253.892513 20.577636 \r\nL 256.279679 20.667634 \r\nL 258.666845 20.997395 \r\nL 261.054011 21.566117 \r\nL 263.441176 22.37242 \r\nL 265.828342 23.414346 \r\nL 268.215508 24.689366 \r\nL 270.602674 26.194383 \r\nL 272.98984 27.925743 \r\nL 275.377005 29.879242 \r\nL 277.764171 32.050138 \r\nL 280.151337 34.433159 \r\nL 283.732086 38.392632 \r\nL 287.312834 42.794625 \r\nL 290.893583 47.615097 \r\nL 294.474332 52.82772 \r\nL 298.05508 58.404025 \r\nL 302.829412 66.351919 \r\nL 307.603743 74.81486 \r\nL 312.378075 83.710707 \r\nL 318.345989 95.307415 \r\nL 326.70107 112.116282 \r\nL 330.281818 119.415874 \r\nL 330.281818 119.415874 \r\n\" style=\"fill:none;stroke:#ff0000;stroke-linecap:square;stroke-width:2.5;\"/>\r\n   </g>\r\n   <g id=\"patch_3\">\r\n    <path d=\"M 178.1 228.14 \r\nL 178.1 10.7 \r\n\" style=\"fill:none;stroke:#000000;stroke-linecap:square;stroke-linejoin:miter;stroke-width:0.8;\"/>\r\n   </g>\r\n   <g id=\"patch_4\">\r\n    <path d=\"M 345.5 228.14 \r\nL 345.5 10.7 \r\n\" style=\"fill:none;\"/>\r\n   </g>\r\n   <g id=\"patch_5\">\r\n    <path d=\"M 10.7 119.415874 \r\nL 345.5 119.415874 \r\n\" style=\"fill:none;stroke:#000000;stroke-linecap:square;stroke-linejoin:miter;stroke-width:0.8;\"/>\r\n   </g>\r\n   <g id=\"patch_6\">\r\n    <path d=\"M 10.7 10.7 \r\nL 345.5 10.7 \r\n\" style=\"fill:none;\"/>\r\n   </g>\r\n  </g>\r\n </g>\r\n <defs>\r\n  <clipPath id=\"pf728d5d2bd\">\r\n   <rect height=\"217.44\" width=\"334.8\" x=\"10.7\" y=\"10.7\"/>\r\n  </clipPath>\r\n </defs>\r\n</svg>\r\n",
      "text/plain": "<matplotlib.figure.Figure at 0x20ddc982240>"
     },
     "metadata": {
      "needs_background": "light"
     },
     "output_type": "display_data"
    }
   ],
   "source": [
    "plt.plot(X, C, color=\"blue\", linewidth=2.5, linestyle=\"-\")\n",
    "plt.plot(X, S, color=\"red\",  linewidth=2.5, linestyle=\"-\")\n",
    "plt.xlim(X.min() * 1.1, X.max() * 1.1)\n",
    "plt.ylim(C.min() * 1.1, C.max() * 1.1)\n",
    "plt.xticks([-np.pi, -np.pi/2, 0, np.pi/2, np.pi])\n",
    "plt.yticks([-1, 0, +1])\n",
    "\n",
    "plt.xticks([-np.pi, -np.pi/2, 0, np.pi/2, np.pi],\n",
    "          [r'$-\\pi$', r'$-\\pi/2$', r'$0$', r'$+\\pi/2$', r'$+\\pi$'])\n",
    "\n",
    "plt.yticks([-1, 0, +1],\n",
    "          [r'$-1$', r'$0$', r'$+1$'])\n",
    "\n",
    "# new code\n",
    "ax = plt.gca()  # gca stands for 'get current axis'\n",
    "ax.spines['right'].set_color('none')\n",
    "ax.spines['top'].set_color('none')\n",
    "ax.xaxis.set_ticks_position('bottom')\n",
    "ax.spines['bottom'].set_position(('data',0))\n",
    "ax.yaxis.set_ticks_position('left')\n",
    "ax.spines['left'].set_position(('data',0))\n",
    "\n",
    "plt.show()"
   ]
  },
  {
   "cell_type": "code",
   "execution_count": 412,
   "metadata": {},
   "outputs": [
    {
     "data": {
      "image/svg+xml": "<?xml version=\"1.0\" encoding=\"utf-8\" standalone=\"no\"?>\r\n<!DOCTYPE svg PUBLIC \"-//W3C//DTD SVG 1.1//EN\"\r\n  \"http://www.w3.org/Graphics/SVG/1.1/DTD/svg11.dtd\">\r\n<!-- Created with matplotlib (http://matplotlib.org/) -->\r\n<svg height=\"238pt\" version=\"1.1\" viewBox=\"0 0 356 238\" width=\"356pt\" xmlns=\"http://www.w3.org/2000/svg\" xmlns:xlink=\"http://www.w3.org/1999/xlink\">\r\n <defs>\r\n  <style type=\"text/css\">\r\n*{stroke-linecap:butt;stroke-linejoin:round;}\r\n  </style>\r\n </defs>\r\n <g id=\"figure_1\">\r\n  <g id=\"patch_1\">\r\n   <path d=\"M 0 238.84 \r\nL 356.2 238.84 \r\nL 356.2 0 \r\nL 0 0 \r\nz\r\n\" style=\"fill:none;\"/>\r\n  </g>\r\n  <g id=\"axes_1\">\r\n   <g id=\"patch_2\">\r\n    <path d=\"M 10.7 228.14 \r\nL 345.5 228.14 \r\nL 345.5 10.7 \r\nL 10.7 10.7 \r\nz\r\n\" style=\"fill:#ffffff;\"/>\r\n   </g>\r\n   <g id=\"matplotlib.axis_1\">\r\n    <g id=\"xtick_1\">\r\n     <g id=\"line2d_1\">\r\n      <defs>\r\n       <path d=\"M 0 0 \r\nL 0 3.5 \r\n\" id=\"ma9a44b8f78\" style=\"stroke:#000000;stroke-width:0.8;\"/>\r\n      </defs>\r\n      <g>\r\n       <use style=\"stroke:#000000;stroke-width:0.8;\" x=\"25.918182\" xlink:href=\"#ma9a44b8f78\" y=\"119.415874\"/>\r\n      </g>\r\n     </g>\r\n     <g id=\"text_1\">\r\n      <!-- $-\\pi$ -->\r\n      <defs>\r\n       <path d=\"M 10.59375 35.5 \r\nL 73.1875 35.5 \r\nL 73.1875 27.203125 \r\nL 10.59375 27.203125 \r\nz\r\n\" id=\"DejaVuSans-2212\"/>\r\n       <path d=\"M 9.125 54.6875 \r\nL 61.53125 54.6875 \r\nL 59.765625 45.703125 \r\nL 52.875 45.703125 \r\nL 46.34375 12.109375 \r\nQ 45.65625 8.59375 46.578125 7.03125 \r\nQ 47.46875 5.515625 50.140625 5.515625 \r\nQ 50.875 5.515625 51.953125 5.671875 \r\nQ 53.078125 5.765625 53.421875 5.8125 \r\nL 52.15625 -0.6875 \r\nQ 50.34375 -1.3125 48.484375 -1.609375 \r\nQ 46.578125 -1.90625 44.78125 -1.90625 \r\nQ 38.921875 -1.90625 37.3125 1.265625 \r\nQ 35.6875 4.5 37.359375 13.09375 \r\nL 43.703125 45.703125 \r\nL 23.53125 45.703125 \r\nL 14.65625 0 \r\nL 5.46875 0 \r\nL 14.359375 45.703125 \r\nL 7.375 45.703125 \r\nz\r\n\" id=\"DejaVuSans-Oblique-3c0\"/>\r\n      </defs>\r\n      <g transform=\"translate(18.718182 134.014312)scale(0.1 -0.1)\">\r\n       <use transform=\"translate(0 0.3125)\" xlink:href=\"#DejaVuSans-2212\"/>\r\n       <use transform=\"translate(83.789062 0.3125)\" xlink:href=\"#DejaVuSans-Oblique-3c0\"/>\r\n      </g>\r\n     </g>\r\n    </g>\r\n    <g id=\"xtick_2\">\r\n     <g id=\"line2d_2\">\r\n      <g>\r\n       <use style=\"stroke:#000000;stroke-width:0.8;\" x=\"102.009091\" xlink:href=\"#ma9a44b8f78\" y=\"119.415874\"/>\r\n      </g>\r\n     </g>\r\n     <g id=\"text_2\">\r\n      <!-- $-\\pi/2$ -->\r\n      <defs>\r\n       <path d=\"M 25.390625 72.90625 \r\nL 33.6875 72.90625 \r\nL 8.296875 -9.28125 \r\nL 0 -9.28125 \r\nz\r\n\" id=\"DejaVuSans-2f\"/>\r\n       <path d=\"M 19.1875 8.296875 \r\nL 53.609375 8.296875 \r\nL 53.609375 0 \r\nL 7.328125 0 \r\nL 7.328125 8.296875 \r\nQ 12.9375 14.109375 22.625 23.890625 \r\nQ 32.328125 33.6875 34.8125 36.53125 \r\nQ 39.546875 41.84375 41.421875 45.53125 \r\nQ 43.3125 49.21875 43.3125 52.78125 \r\nQ 43.3125 58.59375 39.234375 62.25 \r\nQ 35.15625 65.921875 28.609375 65.921875 \r\nQ 23.96875 65.921875 18.8125 64.3125 \r\nQ 13.671875 62.703125 7.8125 59.421875 \r\nL 7.8125 69.390625 \r\nQ 13.765625 71.78125 18.9375 73 \r\nQ 24.125 74.21875 28.421875 74.21875 \r\nQ 39.75 74.21875 46.484375 68.546875 \r\nQ 53.21875 62.890625 53.21875 53.421875 \r\nQ 53.21875 48.921875 51.53125 44.890625 \r\nQ 49.859375 40.875 45.40625 35.40625 \r\nQ 44.1875 33.984375 37.640625 27.21875 \r\nQ 31.109375 20.453125 19.1875 8.296875 \r\nz\r\n\" id=\"DejaVuSans-32\"/>\r\n      </defs>\r\n      <g transform=\"translate(89.909091 134.014312)scale(0.1 -0.1)\">\r\n       <use transform=\"translate(0 0.78125)\" xlink:href=\"#DejaVuSans-2212\"/>\r\n       <use transform=\"translate(83.789062 0.78125)\" xlink:href=\"#DejaVuSans-Oblique-3c0\"/>\r\n       <use transform=\"translate(143.994141 0.78125)\" xlink:href=\"#DejaVuSans-2f\"/>\r\n       <use transform=\"translate(177.638672 0.78125)\" xlink:href=\"#DejaVuSans-32\"/>\r\n      </g>\r\n     </g>\r\n    </g>\r\n    <g id=\"xtick_3\">\r\n     <g id=\"line2d_3\">\r\n      <g>\r\n       <use style=\"stroke:#000000;stroke-width:0.8;\" x=\"178.1\" xlink:href=\"#ma9a44b8f78\" y=\"119.415874\"/>\r\n      </g>\r\n     </g>\r\n     <g id=\"text_3\">\r\n      <!-- $0$ -->\r\n      <defs>\r\n       <path d=\"M 31.78125 66.40625 \r\nQ 24.171875 66.40625 20.328125 58.90625 \r\nQ 16.5 51.421875 16.5 36.375 \r\nQ 16.5 21.390625 20.328125 13.890625 \r\nQ 24.171875 6.390625 31.78125 6.390625 \r\nQ 39.453125 6.390625 43.28125 13.890625 \r\nQ 47.125 21.390625 47.125 36.375 \r\nQ 47.125 51.421875 43.28125 58.90625 \r\nQ 39.453125 66.40625 31.78125 66.40625 \r\nz\r\nM 31.78125 74.21875 \r\nQ 44.046875 74.21875 50.515625 64.515625 \r\nQ 56.984375 54.828125 56.984375 36.375 \r\nQ 56.984375 17.96875 50.515625 8.265625 \r\nQ 44.046875 -1.421875 31.78125 -1.421875 \r\nQ 19.53125 -1.421875 13.0625 8.265625 \r\nQ 6.59375 17.96875 6.59375 36.375 \r\nQ 6.59375 54.828125 13.0625 64.515625 \r\nQ 19.53125 74.21875 31.78125 74.21875 \r\nz\r\n\" id=\"DejaVuSans-30\"/>\r\n      </defs>\r\n      <g transform=\"translate(174.9 134.014312)scale(0.1 -0.1)\">\r\n       <use transform=\"translate(0 0.78125)\" xlink:href=\"#DejaVuSans-30\"/>\r\n      </g>\r\n     </g>\r\n    </g>\r\n    <g id=\"xtick_4\">\r\n     <g id=\"line2d_4\">\r\n      <g>\r\n       <use style=\"stroke:#000000;stroke-width:0.8;\" x=\"254.190909\" xlink:href=\"#ma9a44b8f78\" y=\"119.415874\"/>\r\n      </g>\r\n     </g>\r\n     <g id=\"text_4\">\r\n      <!-- $+\\pi/2$ -->\r\n      <defs>\r\n       <path d=\"M 46 62.703125 \r\nL 46 35.5 \r\nL 73.1875 35.5 \r\nL 73.1875 27.203125 \r\nL 46 27.203125 \r\nL 46 0 \r\nL 37.796875 0 \r\nL 37.796875 27.203125 \r\nL 10.59375 27.203125 \r\nL 10.59375 35.5 \r\nL 37.796875 35.5 \r\nL 37.796875 62.703125 \r\nz\r\n\" id=\"DejaVuSans-2b\"/>\r\n      </defs>\r\n      <g transform=\"translate(242.090909 134.014312)scale(0.1 -0.1)\">\r\n       <use transform=\"translate(0 0.78125)\" xlink:href=\"#DejaVuSans-2b\"/>\r\n       <use transform=\"translate(83.789062 0.78125)\" xlink:href=\"#DejaVuSans-Oblique-3c0\"/>\r\n       <use transform=\"translate(143.994141 0.78125)\" xlink:href=\"#DejaVuSans-2f\"/>\r\n       <use transform=\"translate(177.638672 0.78125)\" xlink:href=\"#DejaVuSans-32\"/>\r\n      </g>\r\n     </g>\r\n    </g>\r\n    <g id=\"xtick_5\">\r\n     <g id=\"line2d_5\">\r\n      <g>\r\n       <use style=\"stroke:#000000;stroke-width:0.8;\" x=\"330.281818\" xlink:href=\"#ma9a44b8f78\" y=\"119.415874\"/>\r\n      </g>\r\n     </g>\r\n     <g id=\"text_5\">\r\n      <!-- $+\\pi$ -->\r\n      <g transform=\"translate(323.081818 134.014312)scale(0.1 -0.1)\">\r\n       <use transform=\"translate(0 0.296875)\" xlink:href=\"#DejaVuSans-2b\"/>\r\n       <use transform=\"translate(83.789062 0.296875)\" xlink:href=\"#DejaVuSans-Oblique-3c0\"/>\r\n      </g>\r\n     </g>\r\n    </g>\r\n   </g>\r\n   <g id=\"matplotlib.axis_2\">\r\n    <g id=\"ytick_1\">\r\n     <g id=\"line2d_6\">\r\n      <defs>\r\n       <path d=\"M 0 0 \r\nL -3.5 0 \r\n\" id=\"m8eda535e38\" style=\"stroke:#000000;stroke-width:0.8;\"/>\r\n      </defs>\r\n      <g>\r\n       <use style=\"stroke:#000000;stroke-width:0.8;\" x=\"178.1\" xlink:href=\"#m8eda535e38\" y=\"218.255989\"/>\r\n      </g>\r\n     </g>\r\n     <g id=\"text_6\">\r\n      <!-- $-1$ -->\r\n      <defs>\r\n       <path d=\"M 12.40625 8.296875 \r\nL 28.515625 8.296875 \r\nL 28.515625 63.921875 \r\nL 10.984375 60.40625 \r\nL 10.984375 69.390625 \r\nL 28.421875 72.90625 \r\nL 38.28125 72.90625 \r\nL 38.28125 8.296875 \r\nL 54.390625 8.296875 \r\nL 54.390625 0 \r\nL 12.40625 0 \r\nz\r\n\" id=\"DejaVuSans-31\"/>\r\n      </defs>\r\n      <g transform=\"translate(156.3 222.055207)scale(0.1 -0.1)\">\r\n       <use transform=\"translate(0 0.09375)\" xlink:href=\"#DejaVuSans-2212\"/>\r\n       <use transform=\"translate(83.789062 0.09375)\" xlink:href=\"#DejaVuSans-31\"/>\r\n      </g>\r\n     </g>\r\n    </g>\r\n    <g id=\"ytick_2\">\r\n     <g id=\"line2d_7\">\r\n      <g>\r\n       <use style=\"stroke:#000000;stroke-width:0.8;\" x=\"178.1\" xlink:href=\"#m8eda535e38\" y=\"119.415874\"/>\r\n      </g>\r\n     </g>\r\n     <g id=\"text_7\">\r\n      <!-- $0$ -->\r\n      <g transform=\"translate(164.7 123.215093)scale(0.1 -0.1)\">\r\n       <use transform=\"translate(0 0.78125)\" xlink:href=\"#DejaVuSans-30\"/>\r\n      </g>\r\n     </g>\r\n    </g>\r\n    <g id=\"ytick_3\">\r\n     <g id=\"line2d_8\">\r\n      <g>\r\n       <use style=\"stroke:#000000;stroke-width:0.8;\" x=\"178.1\" xlink:href=\"#m8eda535e38\" y=\"20.57576\"/>\r\n      </g>\r\n     </g>\r\n     <g id=\"text_8\">\r\n      <!-- $+1$ -->\r\n      <g transform=\"translate(156.3 24.374979)scale(0.1 -0.1)\">\r\n       <use transform=\"translate(0 0.09375)\" xlink:href=\"#DejaVuSans-2b\"/>\r\n       <use transform=\"translate(83.789062 0.09375)\" xlink:href=\"#DejaVuSans-31\"/>\r\n      </g>\r\n     </g>\r\n    </g>\r\n   </g>\r\n   <g id=\"line2d_9\">\r\n    <path clip-path=\"url(#p8eb7aa0ad2)\" d=\"M 25.918182 218.255989 \r\nL 28.305348 218.135996 \r\nL 30.692513 217.776309 \r\nL 33.079679 217.177802 \r\nL 35.466845 216.341927 \r\nL 37.854011 215.270714 \r\nL 40.241176 213.966764 \r\nL 42.628342 212.433244 \r\nL 45.015508 210.673875 \r\nL 47.402674 208.692931 \r\nL 49.78984 206.49522 \r\nL 53.370588 202.804032 \r\nL 56.951337 198.657406 \r\nL 60.532086 194.07799 \r\nL 64.112834 189.090796 \r\nL 67.693583 183.723062 \r\nL 71.274332 178.004103 \r\nL 76.048663 169.88672 \r\nL 80.822995 161.279458 \r\nL 86.790909 149.959149 \r\nL 93.952406 135.779238 \r\nL 119.017647 85.419924 \r\nL 124.985561 74.272369 \r\nL 129.759893 65.839259 \r\nL 134.534225 57.926173 \r\nL 138.114973 52.379038 \r\nL 141.695722 47.198035 \r\nL 145.276471 42.411462 \r\nL 148.857219 38.045459 \r\nL 152.437968 34.123874 \r\nL 154.825134 31.767062 \r\nL 157.212299 29.623063 \r\nL 159.599465 27.697083 \r\nL 161.986631 25.993797 \r\nL 164.373797 24.517341 \r\nL 166.760963 23.271301 \r\nL 169.148128 22.258701 \r\nL 171.535294 21.482 \r\nL 173.92246 20.943085 \r\nL 176.309626 20.643262 \r\nL 178.696791 20.583261 \r\nL 181.083957 20.763228 \r\nL 183.471123 21.182724 \r\nL 185.858289 21.840732 \r\nL 188.245455 22.735654 \r\nL 190.63262 23.865317 \r\nL 193.019786 25.226978 \r\nL 195.406952 26.817332 \r\nL 197.794118 28.632516 \r\nL 200.181283 30.668124 \r\nL 202.568449 32.919212 \r\nL 206.149198 36.687775 \r\nL 209.729947 40.908171 \r\nL 213.310695 45.557349 \r\nL 216.891444 50.609916 \r\nL 220.472193 56.038277 \r\nL 224.052941 61.812785 \r\nL 228.827273 69.995817 \r\nL 233.601604 78.658529 \r\nL 239.569519 90.032997 \r\nL 246.731016 104.254626 \r\nL 270.602674 152.265861 \r\nL 276.570588 163.472704 \r\nL 281.34492 171.965157 \r\nL 286.119251 179.947557 \r\nL 289.7 185.55282 \r\nL 293.280749 190.796866 \r\nL 296.861497 195.651053 \r\nL 300.442246 200.08887 \r\nL 304.022995 204.08608 \r\nL 307.603743 207.62085 \r\nL 309.990909 209.710812 \r\nL 312.378075 211.581536 \r\nL 314.765241 213.228481 \r\nL 317.152406 214.647647 \r\nL 319.539572 215.835589 \r\nL 321.926738 216.789422 \r\nL 324.313904 217.506831 \r\nL 326.70107 217.986073 \r\nL 329.088235 218.225986 \r\nL 330.281818 218.255989 \r\nL 330.281818 218.255989 \r\n\" style=\"fill:none;stroke:#0000ff;stroke-linecap:square;stroke-width:2.5;\"/>\r\n   </g>\r\n   <g id=\"line2d_10\">\r\n    <path clip-path=\"url(#p8eb7aa0ad2)\" d=\"M 25.918182 119.415874 \r\nL 37.854011 143.524334 \r\nL 43.821925 155.121042 \r\nL 48.596257 164.016889 \r\nL 53.370588 172.47983 \r\nL 58.14492 180.427724 \r\nL 61.725668 186.004029 \r\nL 65.306417 191.216652 \r\nL 68.887166 196.037124 \r\nL 72.467914 200.439117 \r\nL 76.048663 204.39859 \r\nL 79.629412 207.893916 \r\nL 82.016578 209.95674 \r\nL 84.403743 211.799729 \r\nL 86.790909 213.418409 \r\nL 89.178075 214.808849 \r\nL 91.565241 215.967674 \r\nL 93.952406 216.892069 \r\nL 96.339572 217.57979 \r\nL 98.726738 218.029168 \r\nL 101.113904 218.239112 \r\nL 103.50107 218.209111 \r\nL 105.888235 217.939238 \r\nL 108.275401 217.430149 \r\nL 110.662567 216.68308 \r\nL 113.049733 215.699845 \r\nL 115.436898 214.482831 \r\nL 117.824064 213.034992 \r\nL 120.21123 211.359845 \r\nL 122.598396 209.461457 \r\nL 124.985561 207.344437 \r\nL 127.372727 205.013924 \r\nL 130.953476 201.130375 \r\nL 134.534225 196.800529 \r\nL 138.114973 192.048035 \r\nL 141.695722 186.898849 \r\nL 145.276471 181.381095 \r\nL 148.857219 175.524908 \r\nL 153.631551 167.245735 \r\nL 158.405882 158.502317 \r\nL 164.373797 147.04985 \r\nL 171.535294 132.769693 \r\nL 193.019786 89.45223 \r\nL 198.987701 78.104626 \r\nL 203.762032 69.469476 \r\nL 208.536364 61.319113 \r\nL 212.117112 55.572271 \r\nL 215.697861 50.174121 \r\nL 219.27861 45.154145 \r\nL 222.859358 40.539761 \r\nL 226.440107 36.356171 \r\nL 230.020856 32.626224 \r\nL 232.408021 30.401782 \r\nL 234.795187 28.393468 \r\nL 237.182353 26.606158 \r\nL 239.569519 25.044191 \r\nL 241.956684 23.71136 \r\nL 244.34385 22.610901 \r\nL 246.731016 21.745486 \r\nL 249.118182 21.117217 \r\nL 251.505348 20.727618 \r\nL 253.892513 20.577636 \r\nL 256.279679 20.667634 \r\nL 258.666845 20.997395 \r\nL 261.054011 21.566117 \r\nL 263.441176 22.37242 \r\nL 265.828342 23.414346 \r\nL 268.215508 24.689366 \r\nL 270.602674 26.194383 \r\nL 272.98984 27.925743 \r\nL 275.377005 29.879242 \r\nL 277.764171 32.050138 \r\nL 280.151337 34.433159 \r\nL 283.732086 38.392632 \r\nL 287.312834 42.794625 \r\nL 290.893583 47.615097 \r\nL 294.474332 52.82772 \r\nL 298.05508 58.404025 \r\nL 302.829412 66.351919 \r\nL 307.603743 74.81486 \r\nL 312.378075 83.710707 \r\nL 318.345989 95.307415 \r\nL 326.70107 112.116282 \r\nL 330.281818 119.415874 \r\nL 330.281818 119.415874 \r\n\" style=\"fill:none;stroke:#ff0000;stroke-linecap:square;stroke-width:2.5;\"/>\r\n   </g>\r\n   <g id=\"patch_3\">\r\n    <path d=\"M 178.1 228.14 \r\nL 178.1 10.7 \r\n\" style=\"fill:none;stroke:#000000;stroke-linecap:square;stroke-linejoin:miter;stroke-width:0.8;\"/>\r\n   </g>\r\n   <g id=\"patch_4\">\r\n    <path d=\"M 345.5 228.14 \r\nL 345.5 10.7 \r\n\" style=\"fill:none;\"/>\r\n   </g>\r\n   <g id=\"patch_5\">\r\n    <path d=\"M 10.7 119.415874 \r\nL 345.5 119.415874 \r\n\" style=\"fill:none;stroke:#000000;stroke-linecap:square;stroke-linejoin:miter;stroke-width:0.8;\"/>\r\n   </g>\r\n   <g id=\"patch_6\">\r\n    <path d=\"M 10.7 10.7 \r\nL 345.5 10.7 \r\n\" style=\"fill:none;\"/>\r\n   </g>\r\n   <g id=\"legend_1\">\r\n    <g id=\"patch_7\">\r\n     <path d=\"M 17.7 48.05625 \r\nL 81.795313 48.05625 \r\nQ 83.795313 48.05625 83.795313 46.05625 \r\nL 83.795313 17.7 \r\nQ 83.795313 15.7 81.795313 15.7 \r\nL 17.7 15.7 \r\nQ 15.7 15.7 15.7 17.7 \r\nL 15.7 46.05625 \r\nQ 15.7 48.05625 17.7 48.05625 \r\nz\r\n\" style=\"fill:#ffffff;opacity:0.8;stroke:#cccccc;stroke-linejoin:miter;\"/>\r\n    </g>\r\n    <g id=\"line2d_11\">\r\n     <path d=\"M 19.7 23.798437 \r\nL 39.7 23.798437 \r\n\" style=\"fill:none;stroke:#0000ff;stroke-linecap:square;stroke-width:2.5;\"/>\r\n    </g>\r\n    <g id=\"line2d_12\"/>\r\n    <g id=\"text_9\">\r\n     <!-- cosine -->\r\n     <defs>\r\n      <path d=\"M 48.78125 52.59375 \r\nL 48.78125 44.1875 \r\nQ 44.96875 46.296875 41.140625 47.34375 \r\nQ 37.3125 48.390625 33.40625 48.390625 \r\nQ 24.65625 48.390625 19.8125 42.84375 \r\nQ 14.984375 37.3125 14.984375 27.296875 \r\nQ 14.984375 17.28125 19.8125 11.734375 \r\nQ 24.65625 6.203125 33.40625 6.203125 \r\nQ 37.3125 6.203125 41.140625 7.25 \r\nQ 44.96875 8.296875 48.78125 10.40625 \r\nL 48.78125 2.09375 \r\nQ 45.015625 0.34375 40.984375 -0.53125 \r\nQ 36.96875 -1.421875 32.421875 -1.421875 \r\nQ 20.0625 -1.421875 12.78125 6.34375 \r\nQ 5.515625 14.109375 5.515625 27.296875 \r\nQ 5.515625 40.671875 12.859375 48.328125 \r\nQ 20.21875 56 33.015625 56 \r\nQ 37.15625 56 41.109375 55.140625 \r\nQ 45.0625 54.296875 48.78125 52.59375 \r\nz\r\n\" id=\"DejaVuSans-63\"/>\r\n      <path d=\"M 30.609375 48.390625 \r\nQ 23.390625 48.390625 19.1875 42.75 \r\nQ 14.984375 37.109375 14.984375 27.296875 \r\nQ 14.984375 17.484375 19.15625 11.84375 \r\nQ 23.34375 6.203125 30.609375 6.203125 \r\nQ 37.796875 6.203125 41.984375 11.859375 \r\nQ 46.1875 17.53125 46.1875 27.296875 \r\nQ 46.1875 37.015625 41.984375 42.703125 \r\nQ 37.796875 48.390625 30.609375 48.390625 \r\nz\r\nM 30.609375 56 \r\nQ 42.328125 56 49.015625 48.375 \r\nQ 55.71875 40.765625 55.71875 27.296875 \r\nQ 55.71875 13.875 49.015625 6.21875 \r\nQ 42.328125 -1.421875 30.609375 -1.421875 \r\nQ 18.84375 -1.421875 12.171875 6.21875 \r\nQ 5.515625 13.875 5.515625 27.296875 \r\nQ 5.515625 40.765625 12.171875 48.375 \r\nQ 18.84375 56 30.609375 56 \r\nz\r\n\" id=\"DejaVuSans-6f\"/>\r\n      <path d=\"M 44.28125 53.078125 \r\nL 44.28125 44.578125 \r\nQ 40.484375 46.53125 36.375 47.5 \r\nQ 32.28125 48.484375 27.875 48.484375 \r\nQ 21.1875 48.484375 17.84375 46.4375 \r\nQ 14.5 44.390625 14.5 40.28125 \r\nQ 14.5 37.15625 16.890625 35.375 \r\nQ 19.28125 33.59375 26.515625 31.984375 \r\nL 29.59375 31.296875 \r\nQ 39.15625 29.25 43.1875 25.515625 \r\nQ 47.21875 21.78125 47.21875 15.09375 \r\nQ 47.21875 7.46875 41.1875 3.015625 \r\nQ 35.15625 -1.421875 24.609375 -1.421875 \r\nQ 20.21875 -1.421875 15.453125 -0.5625 \r\nQ 10.6875 0.296875 5.421875 2 \r\nL 5.421875 11.28125 \r\nQ 10.40625 8.6875 15.234375 7.390625 \r\nQ 20.0625 6.109375 24.8125 6.109375 \r\nQ 31.15625 6.109375 34.5625 8.28125 \r\nQ 37.984375 10.453125 37.984375 14.40625 \r\nQ 37.984375 18.0625 35.515625 20.015625 \r\nQ 33.0625 21.96875 24.703125 23.78125 \r\nL 21.578125 24.515625 \r\nQ 13.234375 26.265625 9.515625 29.90625 \r\nQ 5.8125 33.546875 5.8125 39.890625 \r\nQ 5.8125 47.609375 11.28125 51.796875 \r\nQ 16.75 56 26.8125 56 \r\nQ 31.78125 56 36.171875 55.265625 \r\nQ 40.578125 54.546875 44.28125 53.078125 \r\nz\r\n\" id=\"DejaVuSans-73\"/>\r\n      <path d=\"M 9.421875 54.6875 \r\nL 18.40625 54.6875 \r\nL 18.40625 0 \r\nL 9.421875 0 \r\nz\r\nM 9.421875 75.984375 \r\nL 18.40625 75.984375 \r\nL 18.40625 64.59375 \r\nL 9.421875 64.59375 \r\nz\r\n\" id=\"DejaVuSans-69\"/>\r\n      <path d=\"M 54.890625 33.015625 \r\nL 54.890625 0 \r\nL 45.90625 0 \r\nL 45.90625 32.71875 \r\nQ 45.90625 40.484375 42.875 44.328125 \r\nQ 39.84375 48.1875 33.796875 48.1875 \r\nQ 26.515625 48.1875 22.3125 43.546875 \r\nQ 18.109375 38.921875 18.109375 30.90625 \r\nL 18.109375 0 \r\nL 9.078125 0 \r\nL 9.078125 54.6875 \r\nL 18.109375 54.6875 \r\nL 18.109375 46.1875 \r\nQ 21.34375 51.125 25.703125 53.5625 \r\nQ 30.078125 56 35.796875 56 \r\nQ 45.21875 56 50.046875 50.171875 \r\nQ 54.890625 44.34375 54.890625 33.015625 \r\nz\r\n\" id=\"DejaVuSans-6e\"/>\r\n      <path d=\"M 56.203125 29.59375 \r\nL 56.203125 25.203125 \r\nL 14.890625 25.203125 \r\nQ 15.484375 15.921875 20.484375 11.0625 \r\nQ 25.484375 6.203125 34.421875 6.203125 \r\nQ 39.59375 6.203125 44.453125 7.46875 \r\nQ 49.3125 8.734375 54.109375 11.28125 \r\nL 54.109375 2.78125 \r\nQ 49.265625 0.734375 44.1875 -0.34375 \r\nQ 39.109375 -1.421875 33.890625 -1.421875 \r\nQ 20.796875 -1.421875 13.15625 6.1875 \r\nQ 5.515625 13.8125 5.515625 26.8125 \r\nQ 5.515625 40.234375 12.765625 48.109375 \r\nQ 20.015625 56 32.328125 56 \r\nQ 43.359375 56 49.78125 48.890625 \r\nQ 56.203125 41.796875 56.203125 29.59375 \r\nz\r\nM 47.21875 32.234375 \r\nQ 47.125 39.59375 43.09375 43.984375 \r\nQ 39.0625 48.390625 32.421875 48.390625 \r\nQ 24.90625 48.390625 20.390625 44.140625 \r\nQ 15.875 39.890625 15.1875 32.171875 \r\nz\r\n\" id=\"DejaVuSans-65\"/>\r\n     </defs>\r\n     <g transform=\"translate(47.7 27.298437)scale(0.1 -0.1)\">\r\n      <use xlink:href=\"#DejaVuSans-63\"/>\r\n      <use x=\"54.980469\" xlink:href=\"#DejaVuSans-6f\"/>\r\n      <use x=\"116.162109\" xlink:href=\"#DejaVuSans-73\"/>\r\n      <use x=\"168.261719\" xlink:href=\"#DejaVuSans-69\"/>\r\n      <use x=\"196.044922\" xlink:href=\"#DejaVuSans-6e\"/>\r\n      <use x=\"259.423828\" xlink:href=\"#DejaVuSans-65\"/>\r\n     </g>\r\n    </g>\r\n    <g id=\"line2d_13\">\r\n     <path d=\"M 19.7 38.476562 \r\nL 39.7 38.476562 \r\n\" style=\"fill:none;stroke:#ff0000;stroke-linecap:square;stroke-width:2.5;\"/>\r\n    </g>\r\n    <g id=\"line2d_14\"/>\r\n    <g id=\"text_10\">\r\n     <!-- sine -->\r\n     <g transform=\"translate(47.7 41.976562)scale(0.1 -0.1)\">\r\n      <use xlink:href=\"#DejaVuSans-73\"/>\r\n      <use x=\"52.099609\" xlink:href=\"#DejaVuSans-69\"/>\r\n      <use x=\"79.882812\" xlink:href=\"#DejaVuSans-6e\"/>\r\n      <use x=\"143.261719\" xlink:href=\"#DejaVuSans-65\"/>\r\n     </g>\r\n    </g>\r\n   </g>\r\n  </g>\r\n </g>\r\n <defs>\r\n  <clipPath id=\"p8eb7aa0ad2\">\r\n   <rect height=\"217.44\" width=\"334.8\" x=\"10.7\" y=\"10.7\"/>\r\n  </clipPath>\r\n </defs>\r\n</svg>\r\n",
      "text/plain": "<matplotlib.figure.Figure at 0x20dd6a9a5c0>"
     },
     "metadata": {
      "needs_background": "light"
     },
     "output_type": "display_data"
    }
   ],
   "source": [
    "plt.plot(X, C, color=\"blue\", linewidth=2.5, linestyle=\"-\", label=\"cosine\")\n",
    "plt.plot(X, S, color=\"red\",  linewidth=2.5, linestyle=\"-\", label=\"sine\")\n",
    "\n",
    "plt.xlim(X.min() * 1.1, X.max() * 1.1)\n",
    "plt.ylim(C.min() * 1.1, C.max() * 1.1)\n",
    "plt.xticks([-np.pi, -np.pi/2, 0, np.pi/2, np.pi])\n",
    "plt.yticks([-1, 0, +1])\n",
    "\n",
    "plt.xticks([-np.pi, -np.pi/2, 0, np.pi/2, np.pi],\n",
    "          [r'$-\\pi$', r'$-\\pi/2$', r'$0$', r'$+\\pi/2$', r'$+\\pi$'])\n",
    "\n",
    "plt.yticks([-1, 0, +1],\n",
    "          [r'$-1$', r'$0$', r'$+1$'])\n",
    "\n",
    "ax = plt.gca()  # gca stands for 'get current axis'\n",
    "ax.spines['right'].set_color('none')\n",
    "ax.spines['top'].set_color('none')\n",
    "ax.xaxis.set_ticks_position('bottom')\n",
    "ax.spines['bottom'].set_position(('data',0))\n",
    "ax.yaxis.set_ticks_position('left')\n",
    "ax.spines['left'].set_position(('data',0))\n",
    "\n",
    "# new code\n",
    "plt.legend(loc='upper left')\n",
    "\n",
    "plt.show()"
   ]
  },
  {
   "cell_type": "code",
   "execution_count": null,
   "metadata": {},
   "outputs": [],
   "source": [
    "plt.plot(X, C, color=\"blue\", linewidth=2.5, linestyle=\"-\", label=\"cosine\")\n",
    "plt.plot(X, S, color=\"red\",  linewidth=2.5, linestyle=\"-\", label=\"sine\")\n",
    "\n",
    "plt.xlim(X.min() * 1.1, X.max() * 1.1)\n",
    "plt.ylim(C.min() * 1.1, C.max() * 1.1)\n",
    "plt.xticks([-np.pi, -np.pi/2, 0, np.pi/2, np.pi])\n",
    "plt.yticks([-1, 0, +1])\n",
    "\n",
    "plt.xticks([-np.pi, -np.pi/2, 0, np.pi/2, np.pi],\n",
    "          [r'$-\\pi$', r'$-\\pi/2$', r'$0$', r'$+\\pi/2$', r'$+\\pi$'])\n",
    "\n",
    "plt.yticks([-1, 0, +1],\n",
    "          [r'$-1$', r'$0$', r'$+1$'])\n",
    "\n",
    "ax = plt.gca()  # gca stands for 'get current axis'\n",
    "ax.spines['right'].set_color('none')\n",
    "ax.spines['top'].set_color('none')\n",
    "ax.xaxis.set_ticks_position('bottom')\n",
    "ax.spines['bottom'].set_position(('data',0))\n",
    "ax.yaxis.set_ticks_position('left')\n",
    "ax.spines['left'].set_position(('data',0))\n",
    "\n",
    "plt.legend(loc='upper left')\n",
    "\n",
    "# new code\n",
    "t = 2 * np.pi / 3\n",
    "plt.plot([t, t], [0, np.cos(t)], color='blue', linewidth=2.5, linestyle=\"--\")\n",
    "plt.scatter([t, ], [np.cos(t), ], 50, color='blue')\n",
    "\n",
    "plt.annotate(r'$sin(\\frac{2\\pi}{3})=\\frac{\\sqrt{3}}{2}$',\n",
    "             xy=(t, np.sin(t)), xycoords='data',\n",
    "             xytext=(+10, +30), textcoords='offset points', fontsize=16,\n",
    "             arrowprops=dict(arrowstyle=\"->\", connectionstyle=\"arc3,rad=.2\"))\n",
    "\n",
    "plt.plot([t, t],[0, np.sin(t)], color='red', linewidth=2.5, linestyle=\"--\")\n",
    "plt.scatter([t, ],[np.sin(t), ], 50, color='red')\n",
    "\n",
    "plt.annotate(r'$cos(\\frac{2\\pi}{3})=-\\frac{1}{2}$',\n",
    "             xy=(t, np.cos(t)), xycoords='data',\n",
    "             xytext=(-90, -50), textcoords='offset points', fontsize=16,\n",
    "             arrowprops=dict(arrowstyle=\"->\", connectionstyle=\"arc3,rad=.2\"))\n",
    "\n",
    "plt.show()"
   ]
  },
  {
   "cell_type": "code",
   "execution_count": null,
   "metadata": {},
   "outputs": [],
   "source": []
  }
 ]
}