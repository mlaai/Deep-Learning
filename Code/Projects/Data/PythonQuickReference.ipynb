{
 "nbformat": 4,
 "nbformat_minor": 2,
 "metadata": {
  "language_info": {
   "name": "python",
   "codemirror_mode": {
    "name": "ipython",
    "version": 3
   },
   "version": "3.6.4-final"
  },
  "orig_nbformat": 2,
  "file_extension": ".py",
  "mimetype": "text/x-python",
  "name": "python",
  "npconvert_exporter": "python",
  "pygments_lexer": "ipython3",
  "version": 3,
  "kernelspec": {
   "name": "python36464bitbasecondad387ef8625df407884471fe6c4b09d54",
   "display_name": "Python 3.6.4 64-bit ('base': conda)"
  }
 },
 "cells": [
  {
   "cell_type": "code",
   "execution_count": 16,
   "metadata": {},
   "outputs": [
    {
     "name": "stdout",
     "output_type": "stream",
     "text": "0 2\n1 3\n2 4\n"
    }
   ],
   "source": [
    "\"\"\"\n",
    "List index and element\n",
    "\"\"\"\n",
    "mylist = [2,3,4]\n",
    "for index, element in enumerate(mylist):\n",
    "    print(\"{0} {1}\".format(index, element))"
   ]
  },
  {
   "cell_type": "code",
   "execution_count": 20,
   "metadata": {},
   "outputs": [
    {
     "name": "stdout",
     "output_type": "stream",
     "text": "x:  2\ny:  1\n"
    }
   ],
   "source": [
    "\"\"\"\n",
    "Tuple Packing and Unpacking : Swap two numbers\n",
    "\"\"\"\n",
    "x = 1\n",
    "y = 2\n",
    "var_tuple = x, y\n",
    "y, x = var_tuple\n",
    "print(\"x: \", x)\n",
    "print(\"y: \", y)"
   ]
  },
  {
   "cell_type": "code",
   "execution_count": 29,
   "metadata": {},
   "outputs": [
    {
     "name": "stdout",
     "output_type": "stream",
     "text": "[1, 4, 9]\n"
    },
    {
     "data": {
      "text/plain": "list"
     },
     "execution_count": 29,
     "metadata": {},
     "output_type": "execute_result"
    }
   ],
   "source": [
    "\"\"\"\n",
    "Lists are mutable\n",
    "\"\"\"\n",
    "l = [1,2,3]\n",
    "lmap = map(lambda x: x*x, l)\n",
    "print(list(lmap))\n",
    "type(list(lmap))"
   ]
  },
  {
   "cell_type": "code",
   "execution_count": 26,
   "metadata": {},
   "outputs": [
    {
     "data": {
      "text/plain": "tuple"
     },
     "execution_count": 26,
     "metadata": {},
     "output_type": "execute_result"
    }
   ],
   "source": [
    "\"\"\"\n",
    "Python uses tuples to return multiple values from functions\n",
    "\"\"\"\n",
    "def doSomething():\n",
    "    return 1, 2, 3\n",
    "\n",
    "x = doSomething();\n",
    "type(x)\n"
   ]
  },
  {
   "cell_type": "code",
   "execution_count": null,
   "metadata": {},
   "outputs": [],
   "source": []
  }
 ]
}