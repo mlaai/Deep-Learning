{
 "nbformat": 4,
 "nbformat_minor": 2,
 "metadata": {
  "language_info": {
   "name": "python",
   "codemirror_mode": {
    "name": "ipython",
    "version": 3
   },
   "version": "3.6.4-final"
  },
  "orig_nbformat": 2,
  "file_extension": ".py",
  "mimetype": "text/x-python",
  "name": "python",
  "npconvert_exporter": "python",
  "pygments_lexer": "ipython3",
  "version": 3,
  "kernelspec": {
   "name": "python36464bitbasecondad387ef8625df407884471fe6c4b09d54",
   "display_name": "Python 3.6.4 64-bit ('base': conda)"
  }
 },
 "cells": [
  {
   "cell_type": "code",
   "execution_count": 58,
   "metadata": {},
   "outputs": [
    {
     "name": "stdout",
     "output_type": "stream",
     "text": "3\n-0.9613974918795568\n"
    }
   ],
   "source": [
    "\"\"\"\n",
    "Modules\n",
    "\"\"\"\n",
    "import pandas as pd\n",
    "import numpy as np\n",
    "import matplotlib.pyplot as plt\n",
    "import statistics\n",
    "print(statistics.mean([1,2,3,4,5]))\n",
    "from math import sin, cos\n",
    "print(sin(17))"
   ]
  },
  {
   "cell_type": "code",
   "execution_count": 60,
   "metadata": {},
   "outputs": [
    {
     "name": "stdout",
     "output_type": "stream",
     "text": "<class 'int'>\n<class 'bool'>\n<class 'str'>\n<class 'float'>\n"
    }
   ],
   "source": [
    "\"\"\"\n",
    "Variables\n",
    "\"\"\"\n",
    "print(type(17))\n",
    "print(type(False))\n",
    "print(type(\"Hello World\"))\n",
    "print(type(-3.33))"
   ]
  },
  {
   "cell_type": "code",
   "execution_count": 3,
   "metadata": {},
   "outputs": [
    {
     "name": "stdout",
     "output_type": "stream",
     "text": "<class 'str'> 17\n<class 'int'> 17\n<class 'float'> 17.0\n"
    }
   ],
   "source": [
    "\"\"\"\n",
    "Type conversion\n",
    "\"\"\"\n",
    "str = \"17\"\n",
    "i = int(str)\n",
    "f = float(str)\n",
    "print(type(str), str)\n",
    "print(type(i), i)\n",
    "print(type(f), f)"
   ]
  },
  {
   "cell_type": "code",
   "execution_count": 68,
   "metadata": {},
   "outputs": [
    {
     "name": "stdout",
     "output_type": "stream",
     "text": "1.5\n1\n1\n9\n-3\n3\n"
    }
   ],
   "source": [
    "\"\"\"\n",
    "Numeric Operations\n",
    "\"\"\"\n",
    "x = 3\n",
    "y = 2\n",
    "print(x/y)\n",
    "print(x//y)\n",
    "print(x%y)\n",
    "print(x**y)\n",
    "print(-x)\n",
    "print(abs(x))"
   ]
  },
  {
   "cell_type": "code",
   "execution_count": 7,
   "metadata": {},
   "outputs": [
    {
     "name": "stdout",
     "output_type": "stream",
     "text": "A\nurag\nAnura\ng\nag\n"
    }
   ],
   "source": [
    "\"\"\"\n",
    "Slicing\n",
    "\"\"\"\n",
    "word = \"Anurag\"\n",
    "print(word[0])\n",
    "print(word[2:])\n",
    "print(word[:5])\n",
    "print(word[-1])\n",
    "print(word[-2:])"
   ]
  },
  {
   "cell_type": "code",
   "execution_count": 12,
   "metadata": {},
   "outputs": [
    {
     "data": {
      "text/plain": "'Hello world'"
     },
     "execution_count": 12,
     "metadata": {},
     "output_type": "execute_result"
    }
   ],
   "source": [
    "\"\"\"\n",
    "String Methods\n",
    "\"\"\"\n",
    "word = \"hello world\"\n",
    "word.upper()\n",
    "word.title()\n",
    "\"ll\" in word\n",
    "word.capitalize()"
   ]
  },
  {
   "cell_type": "code",
   "execution_count": 16,
   "metadata": {},
   "outputs": [
    {
     "name": "stdout",
     "output_type": "stream",
     "text": "0 2\n1 3\n2 4\n"
    }
   ],
   "source": [
    "\"\"\"\n",
    "List index and element\n",
    "\"\"\"\n",
    "mylist = [2,3,4]\n",
    "for index, element in enumerate(mylist):\n",
    "    print(\"{0} {1}\".format(index, element))"
   ]
  },
  {
   "cell_type": "code",
   "execution_count": 20,
   "metadata": {},
   "outputs": [
    {
     "name": "stdout",
     "output_type": "stream",
     "text": "x:  2\ny:  1\n"
    }
   ],
   "source": [
    "\"\"\"\n",
    "Tuple Packing and Unpacking : Swap two numbers\n",
    "\"\"\"\n",
    "x = 1\n",
    "y = 2\n",
    "var_tuple = x, y\n",
    "y, x = var_tuple\n",
    "print(\"x: \", x)\n",
    "print(\"y: \", y)"
   ]
  },
  {
   "cell_type": "code",
   "execution_count": 29,
   "metadata": {},
   "outputs": [
    {
     "name": "stdout",
     "output_type": "stream",
     "text": "[1, 4, 9]\n"
    },
    {
     "data": {
      "text/plain": "list"
     },
     "execution_count": 29,
     "metadata": {},
     "output_type": "execute_result"
    }
   ],
   "source": [
    "\"\"\"\n",
    "Lists are mutable\n",
    "\"\"\"\n",
    "l = [1,2,3]\n",
    "lmap = map(lambda x: x*x, l)\n",
    "print(list(lmap))\n",
    "type(list(lmap))"
   ]
  },
  {
   "cell_type": "code",
   "execution_count": 26,
   "metadata": {},
   "outputs": [
    {
     "data": {
      "text/plain": "tuple"
     },
     "execution_count": 26,
     "metadata": {},
     "output_type": "execute_result"
    }
   ],
   "source": [
    "\"\"\"\n",
    "Python uses tuples to return multiple values from functions\n",
    "\"\"\"\n",
    "def doSomething():\n",
    "    return 1, 2, 3\n",
    "\n",
    "x = doSomething();\n",
    "type(x)\n"
   ]
  },
  {
   "cell_type": "code",
   "execution_count": 51,
   "metadata": {},
   "outputs": [
    {
     "data": {
      "text/plain": "False"
     },
     "execution_count": 51,
     "metadata": {},
     "output_type": "execute_result"
    }
   ],
   "source": [
    "(False and False and True and False and True and True or True or False or True and False) and False"
   ]
  },
  {
   "cell_type": "code",
   "execution_count": null,
   "metadata": {},
   "outputs": [],
   "source": []
  }
 ]
}