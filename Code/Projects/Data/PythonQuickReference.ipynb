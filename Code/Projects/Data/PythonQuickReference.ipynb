{
 "nbformat": 4,
 "nbformat_minor": 2,
 "metadata": {
  "language_info": {
   "name": "python",
   "codemirror_mode": {
    "name": "ipython",
    "version": 3
   },
   "version": "3.6.4-final"
  },
  "orig_nbformat": 2,
  "file_extension": ".py",
  "mimetype": "text/x-python",
  "name": "python",
  "npconvert_exporter": "python",
  "pygments_lexer": "ipython3",
  "version": 3,
  "kernelspec": {
   "name": "python36464bitbasecondad387ef8625df407884471fe6c4b09d54",
   "display_name": "Python 3.6.4 64-bit ('base': conda)"
  }
 },
 "cells": [
  {
   "cell_type": "code",
   "execution_count": 58,
   "metadata": {},
   "outputs": [
    {
     "name": "stdout",
     "output_type": "stream",
     "text": "3\n-0.9613974918795568\n"
    }
   ],
   "source": [
    "\"\"\"\n",
    "Modules\n",
    "\"\"\"\n",
    "import pandas as pd\n",
    "import numpy as np\n",
    "import matplotlib.pyplot as plt\n",
    "import statistics\n",
    "print(statistics.mean([1,2,3,4,5]))\n",
    "from math import sin, cos\n",
    "print(sin(17))"
   ]
  },
  {
   "cell_type": "code",
   "execution_count": 60,
   "metadata": {},
   "outputs": [
    {
     "name": "stdout",
     "output_type": "stream",
     "text": "<class 'int'>\n<class 'bool'>\n<class 'str'>\n<class 'float'>\n"
    }
   ],
   "source": [
    "\"\"\"\n",
    "Variables\n",
    "\"\"\"\n",
    "print(type(17))\n",
    "print(type(False))\n",
    "print(type(\"Hello World\"))\n",
    "print(type(-3.33))"
   ]
  },
  {
   "cell_type": "code",
   "execution_count": 3,
   "metadata": {},
   "outputs": [
    {
     "name": "stdout",
     "output_type": "stream",
     "text": "<class 'str'> 17\n<class 'int'> 17\n<class 'float'> 17.0\n"
    }
   ],
   "source": [
    "\"\"\"\n",
    "Type conversion\n",
    "\"\"\"\n",
    "str = \"17\"\n",
    "i = int(str)\n",
    "f = float(str)\n",
    "print(type(str), str)\n",
    "print(type(i), i)\n",
    "print(type(f), f)"
   ]
  },
  {
   "cell_type": "code",
   "execution_count": 68,
   "metadata": {},
   "outputs": [
    {
     "name": "stdout",
     "output_type": "stream",
     "text": "1.5\n1\n1\n9\n-3\n3\n"
    }
   ],
   "source": [
    "\"\"\"\n",
    "Numeric Operations\n",
    "\"\"\"\n",
    "x = 3\n",
    "y = 2\n",
    "print(x/y)\n",
    "print(x//y)\n",
    "print(x%y)\n",
    "print(x**y)\n",
    "print(-x)\n",
    "print(abs(x))"
   ]
  },
  {
   "cell_type": "code",
   "execution_count": 7,
   "metadata": {},
   "outputs": [
    {
     "name": "stdout",
     "output_type": "stream",
     "text": "A\nurag\nAnura\ng\nag\n"
    }
   ],
   "source": [
    "\"\"\"\n",
    "Slicing\n",
    "\"\"\"\n",
    "word = \"Anurag\"\n",
    "print(word[0])\n",
    "print(word[2:])\n",
    "print(word[:5])\n",
    "print(word[-1])\n",
    "print(word[-2:])"
   ]
  },
  {
   "cell_type": "code",
   "execution_count": 12,
   "metadata": {},
   "outputs": [
    {
     "data": {
      "text/plain": "'Hello world'"
     },
     "execution_count": 12,
     "metadata": {},
     "output_type": "execute_result"
    }
   ],
   "source": [
    "\"\"\"\n",
    "String Methods\n",
    "\"\"\"\n",
    "word = \"hello world\"\n",
    "word.upper()\n",
    "word.title()\n",
    "\"ll\" in word\n",
    "word.capitalize()"
   ]
  },
  {
   "cell_type": "code",
   "execution_count": 16,
   "metadata": {},
   "outputs": [
    {
     "name": "stdout",
     "output_type": "stream",
     "text": "0 2\n1 3\n2 4\n"
    }
   ],
   "source": [
    "\"\"\"\n",
    "List index and element\n",
    "[]\n",
    "\"\"\"\n",
    "mylist = [2,3,4]\n",
    "for index, element in enumerate(mylist):\n",
    "    print(\"{0} {1}\".format(index, element))"
   ]
  },
  {
   "cell_type": "code",
   "execution_count": 20,
   "metadata": {},
   "outputs": [
    {
     "name": "stdout",
     "output_type": "stream",
     "text": "x:  2\ny:  1\n"
    }
   ],
   "source": [
    "\"\"\"\n",
    "Tuple Packing and Unpacking : Swap two numbers\n",
    "()\n",
    "\"\"\"\n",
    "x = 1\n",
    "y = 2\n",
    "var_tuple = x, y\n",
    "y, x = var_tuple\n",
    "print(\"x: \", x)\n",
    "print(\"y: \", y)"
   ]
  },
  {
   "cell_type": "code",
   "execution_count": 29,
   "metadata": {},
   "outputs": [
    {
     "name": "stdout",
     "output_type": "stream",
     "text": "[1, 4, 9]\n"
    },
    {
     "data": {
      "text/plain": "list"
     },
     "execution_count": 29,
     "metadata": {},
     "output_type": "execute_result"
    }
   ],
   "source": [
    "\"\"\"\n",
    "Lists are mutable\n",
    "\"\"\"\n",
    "l = [1,2,3]\n",
    "lmap = map(lambda x: x*x, l)\n",
    "print(list(lmap))\n",
    "type(list(lmap))"
   ]
  },
  {
   "cell_type": "code",
   "execution_count": 26,
   "metadata": {},
   "outputs": [
    {
     "data": {
      "text/plain": "tuple"
     },
     "execution_count": 26,
     "metadata": {},
     "output_type": "execute_result"
    }
   ],
   "source": [
    "\"\"\"\n",
    "Python uses tuples to return multiple values from functions\n",
    "\"\"\"\n",
    "def doSomething():\n",
    "    return 1, 2, 3\n",
    "\n",
    "x = doSomething();\n",
    "type(x)\n"
   ]
  },
  {
   "cell_type": "code",
   "execution_count": 51,
   "metadata": {},
   "outputs": [
    {
     "data": {
      "text/plain": "False"
     },
     "execution_count": 51,
     "metadata": {},
     "output_type": "execute_result"
    }
   ],
   "source": [
    "(False and False and True and False and True and True or True or False or True and False) and False"
   ]
  },
  {
   "cell_type": "code",
   "execution_count": 88,
   "metadata": {},
   "outputs": [
    {
     "name": "stdout",
     "output_type": "stream",
     "text": "+\n0 1 \n0 1 \nOdd : 1; Even : 2; Odd : 3; Even : 4; Odd : 5; Even : 6; Odd : 7; Even : 8; Odd : 9; \n2 3 5 7 nothing\n"
    }
   ],
   "source": [
    "\"\"\"\n",
    "Control Statements\n",
    "\"\"\"\n",
    "#if\n",
    "value = 0.5\n",
    "if value > 0:\n",
    "    print(\"+\")\n",
    "elif value < 0:\n",
    "    print(\"-\")\n",
    "else:\n",
    "    print(\"0\")\n",
    "\n",
    "#for\n",
    "for i in range(0,2):\n",
    "    print(i**2, end=\" \")\n",
    "print()\n",
    "\n",
    "#while\n",
    "i = 0\n",
    "while(i < 2):\n",
    "    print(i, end=\" \")\n",
    "    i +=1\n",
    "print()\n",
    "\n",
    "#continue\n",
    "for i in range(1,10):\n",
    "    if(i % 2 == 0):\n",
    "        print(\"Even :\", i,  end=\"; \")\n",
    "        continue\n",
    "    print(\"Odd :\", i, end=\"; \")\n",
    "print()\n",
    "\n",
    "#break\n",
    "n = 10\n",
    "for i in range(2,n+1):\n",
    "    for j in range(2, i):\n",
    "        if i % j == 0:\n",
    "            break;\n",
    "    else:\n",
    "        print(i, end= \" \")\n",
    "print()\n",
    "\n",
    "#pass\n",
    "if (0 < 1):\n",
    "    pass\n",
    "    print(\"nothing\")\n",
    "else:\n",
    "    print(\"something\")"
   ]
  },
  {
   "cell_type": "code",
   "execution_count": 108,
   "metadata": {},
   "outputs": [
    {
     "name": "stdout",
     "output_type": "stream",
     "text": "A B\n1\n2 1 1\n"
    }
   ],
   "source": [
    "\"\"\"\n",
    "Python Functions\n",
    "\"\"\"\n",
    "def function_name(input_arg1, input_arg2):\n",
    "    print(input_arg1, input_arg2)\n",
    "    return input_arg1, input_arg2 #return tuple\n",
    "\n",
    "function_name(\"A\",\"B\")\n",
    "\n",
    "#global\n",
    "x = 0\n",
    "def inc_x2():\n",
    "    global x\n",
    "    x = x + 1\n",
    " \n",
    "inc_x2()\n",
    "print(x)\n",
    "\n",
    "#default arguments\n",
    "def func(z, a=1, b=1):\n",
    "    print(z, a, b)\n",
    "func(z=2)"
   ]
  },
  {
   "cell_type": "code",
   "execution_count": 109,
   "metadata": {},
   "outputs": [
    {
     "name": "stdout",
     "output_type": "stream",
     "text": "4\n"
    }
   ],
   "source": [
    "square = lambda x: x**2\n",
    "print(square(2))"
   ]
  },
  {
   "cell_type": "code",
   "execution_count": 136,
   "metadata": {},
   "outputs": [
    {
     "name": "stdout",
     "output_type": "stream",
     "text": "{'benign': 'gentle', 'acerbic': 'acidic'}\ngentle\nTrue\nbenign\nacerbic\ngentle\nacidic\nKey :  benign , Value :  gentle\nKey :  acerbic , Value :  acidic\n0 benign\n1 acerbic\n"
    }
   ],
   "source": [
    "\"\"\"\n",
    "Dictionaries\n",
    "{}\n",
    "\"\"\"\n",
    "x={}\n",
    "dict = {\"benign\":\"gentle\",\n",
    "        \"acerbic\":\"acidic\"}\n",
    "print(dict)\n",
    "print(dict[\"benign\"])\n",
    "print(\"acerbic\" in dict)\n",
    "\n",
    "for key in dict.keys():\n",
    "    print(key)\n",
    "for value in dict.values():\n",
    "    print(value)\n",
    "for key, value in dict.items():\n",
    "    print(\"Key : \", key, \", Value : \", value)\n",
    "for index, key in enumerate(dict):\n",
    "    print(index, key)\n"
   ]
  },
  {
   "cell_type": "code",
   "execution_count": 133,
   "metadata": {},
   "outputs": [
    {
     "name": "stdout",
     "output_type": "stream",
     "text": "[{'name': 'Jade', 'age': '24'}, {'name': 'John', 'age': '33'}, {'name': 'Juan', 'age': '38'}]\n[{'name': 'Juan', 'age': '38'}, {'name': 'John', 'age': '33'}, {'name': 'Jade', 'age': '24'}]\n{'name': 'Jade', 'age': '24'}\n[{True: 'A'}, {False: 'B'}]\n"
    }
   ],
   "source": [
    "\"\"\"\n",
    "Sorting Dictionaries\n",
    "\"\"\"\n",
    "customer = [{\"name\": \"John\", \"age\": \"33\"},\n",
    "            {\"name\": \"Jade\", \"age\": \"24\"},\n",
    "            {\"name\": \"Juan\", \"age\": \"38\"},]\n",
    "print(sorted(customer, key = lambda d: d[\"age\"]))\n",
    "customer.sort(key = lambda d: d[\"age\"], reverse=True)\n",
    "print(customer)\n",
    "print(customer[2])\n",
    "test = [{True:\"A\"},{False:\"B\"}]\n",
    "print(test)\n"
   ]
  },
  {
   "cell_type": "code",
   "execution_count": 132,
   "metadata": {},
   "outputs": [
    {
     "name": "stdout",
     "output_type": "stream",
     "text": "{1, 2, 3, 4, 5}\n{3, 4, 7, 8, 9}\nset()\n{1, 2, 3, 4, 5, 7, 8, 9}\n{3, 4}\n"
    }
   ],
   "source": [
    "\"\"\"\n",
    "Sets\n",
    "\"\"\"\n",
    "list_a = [1,2,3,4,5]\n",
    "list_b = [3,4,7,8,9]\n",
    "\n",
    "A = set(list_a)\n",
    "B = set(list_b)\n",
    "C = set()\n",
    "print(A)\n",
    "print(B)\n",
    "print(C)\n",
    "print(A.union(B))\n",
    "print(A.intersection(B))"
   ]
  },
  {
   "cell_type": "code",
   "execution_count": 142,
   "metadata": {},
   "outputs": [
    {
     "data": {
      "text/plain": "{'one': 1, 'two': 2}"
     },
     "execution_count": 142,
     "metadata": {},
     "output_type": "execute_result"
    }
   ],
   "source": [
    "num = {'one':1, 'two':3}\n",
    "num['two']=2\n",
    "num"
   ]
  },
  {
   "cell_type": "code",
   "execution_count": 151,
   "metadata": {},
   "outputs": [
    {
     "name": "stdout",
     "output_type": "stream",
     "text": "1876913440\n1876913440\nTrue\nFalse\n2258395814992\n2258395814480\n"
    }
   ],
   "source": [
    "\"\"\"\n",
    "Python Object Model\n",
    "Everything is object\n",
    "Variables are references to objects\n",
    "\"\"\"\n",
    "#Integer objects are immutable\n",
    "#python preallocates integer objects [-5, 256]\n",
    "x = -5\n",
    "y = -5\n",
    "print(id(x))\n",
    "print(id(y))\n",
    "\n",
    "x=1024\n",
    "y=1024\n",
    "print(x == y)\n",
    "print(x is y)\n",
    "print(id(x))\n",
    "print(id(y))"
   ]
  },
  {
   "cell_type": "code",
   "execution_count": 164,
   "metadata": {},
   "outputs": [
    {
     "name": "stdout",
     "output_type": "stream",
     "text": "Divide by Zero Error !\nIndex out of bounds !\n<class 'list'>\n"
    },
    {
     "ename": "Exception",
     "evalue": "Age should be greater than 18 years !",
     "output_type": "error",
     "traceback": [
      "\u001b[1;31m---------------------------------------------------------------------------\u001b[0m",
      "\u001b[1;31mException\u001b[0m                                 Traceback (most recent call last)",
      "\u001b[1;32m<ipython-input-164-ffa6adbbacaa>\u001b[0m in \u001b[0;36m<module>\u001b[1;34m()\u001b[0m\n\u001b[0;32m     19\u001b[0m \u001b[0mage\u001b[0m \u001b[1;33m=\u001b[0m \u001b[1;36m16\u001b[0m\u001b[1;33m\u001b[0m\u001b[0m\n\u001b[0;32m     20\u001b[0m \u001b[1;32mif\u001b[0m \u001b[1;33m(\u001b[0m\u001b[0mage\u001b[0m \u001b[1;33m<\u001b[0m \u001b[1;36m18\u001b[0m\u001b[1;33m)\u001b[0m\u001b[1;33m:\u001b[0m\u001b[1;33m\u001b[0m\u001b[0m\n\u001b[1;32m---> 21\u001b[1;33m     \u001b[1;32mraise\u001b[0m \u001b[0mException\u001b[0m\u001b[1;33m(\u001b[0m\u001b[1;34m\"Age should be greater than 18 years !\"\u001b[0m\u001b[1;33m)\u001b[0m\u001b[1;33m\u001b[0m\u001b[0m\n\u001b[0m\u001b[0;32m     22\u001b[0m \u001b[0mprint\u001b[0m\u001b[1;33m(\u001b[0m\u001b[0mage\u001b[0m\u001b[1;33m)\u001b[0m\u001b[1;33m\u001b[0m\u001b[0m\n",
      "\u001b[1;31mException\u001b[0m: Age should be greater than 18 years !"
     ]
    }
   ],
   "source": [
    "\"\"\"\n",
    "Exceptions\n",
    "\n",
    "BaseException\n",
    " +-- SystemExit\n",
    " +-- KeyboardInterrupt\n",
    " +-- GeneratorExit\n",
    " +-- Exception\n",
    "      +-- StopIteration\n",
    "      +-- StopAsyncIteration\n",
    "      +-- ArithmeticError\n",
    "      |    +-- FloatingPointError\n",
    "      |    +-- OverflowError\n",
    "      |    +-- ZeroDivisionError\n",
    "      +-- AssertionError\n",
    "      +-- AttributeError\n",
    "      +-- BufferError\n",
    "      +-- EOFError\n",
    "      +-- ImportError\n",
    "      |    +-- ModuleNotFoundError\n",
    "      +-- LookupError\n",
    "      |    +-- IndexError\n",
    "      |    +-- KeyError\n",
    "      +-- MemoryError\n",
    "      +-- NameError\n",
    "      |    +-- UnboundLocalError\n",
    "      +-- OSError\n",
    "      |    +-- BlockingIOError\n",
    "      |    +-- ChildProcessError\n",
    "      |    +-- ConnectionError\n",
    "      |    |    +-- BrokenPipeError\n",
    "      |    |    +-- ConnectionAbortedError\n",
    "      |    |    +-- ConnectionRefusedError\n",
    "      |    |    +-- ConnectionResetError\n",
    "      |    +-- FileExistsError\n",
    "      |    +-- FileNotFoundError\n",
    "      |    +-- InterruptedError\n",
    "      |    +-- IsADirectoryError\n",
    "      |    +-- NotADirectoryError\n",
    "      |    +-- PermissionError\n",
    "      |    +-- ProcessLookupError\n",
    "      |    +-- TimeoutError\n",
    "      +-- ReferenceError\n",
    "      +-- RuntimeError\n",
    "      |    +-- NotImplementedError\n",
    "      |    +-- RecursionError\n",
    "      +-- SyntaxError\n",
    "      |    +-- IndentationError\n",
    "      |         +-- TabError\n",
    "      +-- SystemError\n",
    "      +-- TypeError\n",
    "      +-- ValueError\n",
    "      |    +-- UnicodeError\n",
    "      |         +-- UnicodeDecodeError\n",
    "      |         +-- UnicodeEncodeError\n",
    "      |         +-- UnicodeTranslateError\n",
    "      +-- Warning\n",
    "           +-- DeprecationWarning\n",
    "           +-- PendingDeprecationWarning\n",
    "           +-- RuntimeWarning\n",
    "           +-- SyntaxWarning\n",
    "           +-- UserWarning\n",
    "           +-- FutureWarning\n",
    "           +-- ImportWarning\n",
    "           +-- UnicodeWarning\n",
    "           +-- BytesWarning\n",
    "           +-- ResourceWarning\n",
    "\"\"\"\n",
    "try:\n",
    "    x = 100 // 0\n",
    "except ZeroDivisionError:\n",
    "    print(\"Divide by Zero Error !\")\n",
    "\n",
    "try:\n",
    "    a = [1,2,3]\n",
    "    a[3] = 4\n",
    "except IndexError:\n",
    "    print(\"Index out of bounds !\")\n",
    "else:\n",
    "    print(a)\n",
    "finally:\n",
    "    print(type(a))\n",
    "\n",
    "age = 16\n",
    "if (age < 18):\n",
    "    raise Exception(\"Age should be greater than 18 years !\")\n",
    "print(age)\n"
   ]
  },
  {
   "cell_type": "code",
   "execution_count": 204,
   "metadata": {},
   "outputs": [
    {
     "name": "stdout",
     "output_type": "stream",
     "text": "Index 0 => This is line 4\n\nIndex 1 => This is line 4\n\nIndex 2 => This is line 4\n\nIndex 3 => This is line 4\n\nIndex 4 => This is line\n\nIndex 5 => This is line\n\nIndex 6 => This is line\n\nIndex 7 => This is line\n\nIndex 8 => This is line\n\nIndex 9 => This is line\n\nIndex 10 => This is line\n\nIndex 11 => This is line\n\nIndex 12 => This is line\n\nIndex 13 => This is line\n\nTrue\n"
    }
   ],
   "source": [
    "\"\"\"\n",
    "File IO\n",
    "\"\"\"\n",
    "with open('./test.txt','r') as f:\n",
    "    for index, data in enumerate(f):\n",
    "        print(\"Index {} => {}\".format(index,data), end = \"\\n\")\n",
    "\n",
    "with open('./test.txt','a') as f:\n",
    "    f.write(\"This is line\\n\")\n",
    "\n",
    "f = None\n",
    "for i in range(10):\n",
    "    with open (\"my_secret_diary.txt\", \"w\") as f:\n",
    "        if i > 5:\n",
    "            break\n",
    "\n",
    "print(f.closed)\n",
    "\n",
    "with open('./test1.txt','a') as f:\n",
    "    f.write(\"This is line\\n\")\n",
    "\n",
    "f = open('./test1.txt', 'w') "
   ]
  },
  {
   "cell_type": "code",
   "execution_count": null,
   "metadata": {},
   "outputs": [],
   "source": [
    "\"\"\"\n",
    "JSON\n",
    "\"\"\"\n",
    "\n",
    "import json\n",
    "json.dumps([1,2,3])\n"
   ]
  },
  {
   "cell_type": "code",
   "execution_count": 205,
   "metadata": {},
   "outputs": [
    {
     "name": "stdout",
     "output_type": "stream",
     "text": "<__main__.Customer object at 0x0000020DD4C412B0>\n<class '__main__.Customer'>\n"
    }
   ],
   "source": [
    "\"\"\"\n",
    "Object Oriented Programming\n",
    "\"\"\"\n",
    "\n",
    "class Customer:\n",
    "    pass\n",
    "\n",
    "customer = Customer()\n",
    "\n",
    "print(customer)\n",
    "print(type(customer))\n"
   ]
  },
  {
   "cell_type": "code",
   "execution_count": 224,
   "metadata": {},
   "outputs": [
    {
     "name": "stdout",
     "output_type": "stream",
     "text": "John Due\nJames Chen\n"
    }
   ],
   "source": [
    "class Customer:\n",
    "    def __init__(self, firstName, lastName):\n",
    "        self.firstName = firstName\n",
    "        self.lastName = lastName\n",
    "\n",
    "cust1 = Customer(\"John\", \"Due\")\n",
    "cust2 = Customer(\"James\",\"Chen\")\n",
    "print(cust1.firstName, cust1.lastName)\n",
    "print(cust2.firstName, cust2.lastName)\n"
   ]
  },
  {
   "cell_type": "code",
   "execution_count": 235,
   "metadata": {},
   "outputs": [
    {
     "name": "stdout",
     "output_type": "stream",
     "text": "John Sanders ['AWS', 'Azure', 'GCP']\nNone;"
    }
   ],
   "source": [
    "class Customer:\n",
    "    def __init__(self, firstName, lastName, skills=[]):\n",
    "        self.firstName = firstName\n",
    "        self.lastName = lastName\n",
    "        self.skills = skills\n",
    "\n",
    "    def printUser(self):\n",
    "        print(self.firstName, self.lastName, self.skills)\n",
    "\n",
    "customer = Customer(\"John\",\"Sanders\",[\"AWS\",\"Azure\",\"GCP\"])\n",
    "print(user.printUser(), end = \";\")\n"
   ]
  },
  {
   "cell_type": "code",
   "execution_count": 248,
   "metadata": {},
   "outputs": [
    {
     "name": "stdout",
     "output_type": "stream",
     "text": "[1 2 3 4]\n"
    }
   ],
   "source": [
    "\"\"\"\n",
    "Numpy\n",
    "\"\"\"\n",
    "#Array as list - memory efficient container\n",
    "import numpy as np\n",
    "a = np.array([1,2,3,4])\n",
    "print(a)"
   ]
  },
  {
   "cell_type": "code",
   "execution_count": 249,
   "metadata": {},
   "outputs": [
    {
     "name": "stdout",
     "output_type": "stream",
     "text": "318 µs ± 14.9 µs per loop (mean ± std. dev. of 7 runs, 1000 loops each)\n1.68 µs ± 62.6 ns per loop (mean ± std. dev. of 7 runs, 1000000 loops each)\n"
    }
   ],
   "source": [
    "L = range(1000)\n",
    "%timeit [i**2 for i in L]\n",
    "\n",
    "a = np.arange(1000)\n",
    "%timeit a**2\n"
   ]
  },
  {
   "cell_type": "code",
   "execution_count": 250,
   "metadata": {},
   "outputs": [],
   "source": [
    "#Interactive help:http://docs.scipy.org/\n",
    "np.array?"
   ]
  },
  {
   "cell_type": "code",
   "execution_count": 251,
   "metadata": {},
   "outputs": [
    {
     "name": "stdout",
     "output_type": "stream",
     "text": "Search results for 'create array'\n---------------------------------\nnumpy.array\n    Create an array.\nnumpy.memmap\n    Create a memory-map to an array stored in a *binary* file on disk.\nnumpy.diagflat\n    Create a two-dimensional array with the flattened input as a diagonal.\nnumpy.fromiter\n    Create a new 1-dimensional array from an iterable object.\nnumpy.partition\n    Return a partitioned copy of an array.\nnumpy.ctypeslib.as_array\n    Create a numpy array from a ctypes array or a ctypes POINTER.\nnumpy.ma.diagflat\n    Create a two-dimensional array with the flattened input as a diagonal.\nnumpy.ma.make_mask\n    Create a boolean mask from an array.\nnumpy.ctypeslib.as_ctypes\n    Create and return a ctypes object from a numpy array.  Actually\nnumpy.ma.mrecords.fromarrays\n    Creates a mrecarray from a (flat) list of masked arrays.\nnumpy.ma.mvoid.__new__\n    Create a new masked array from scratch.\nnumpy.lib.format.open_memmap\n    Open a .npy file as a memory-mapped array.\nnumpy.ma.MaskedArray.__new__\n    Create a new masked array from scratch.\nnumpy.lib.arrayterator.Arrayterator\n    Buffered iterator for big arrays.\nnumpy.ma.mrecords.fromtextfile\n    Creates a mrecarray from data stored in the file `filename`.\nnumpy.asarray\n    Convert the input to an array.\nnumpy.ndarray\n    ndarray(shape, dtype=float, buffer=None, offset=0,\nnumpy.recarray\n    Construct an ndarray that allows field access using attributes.\nnumpy.chararray\n    chararray(shape, itemsize=1, unicode=False, buffer=None, offset=0,\nnumpy.pad\n    Pads an array.\nnumpy.asanyarray\n    Convert the input to an ndarray, but pass ndarray subclasses through.\nnumpy.copy\n    Return an array copy of the given object.\nnumpy.diag\n    Extract a diagonal or construct a diagonal array.\nnumpy.load\n    Load arrays or pickled objects from ``.npy``, ``.npz`` or pickled files.\nnumpy.sort\n    Return a sorted copy of an array.\nnumpy.array_equiv\n    Returns True if input arrays are shape consistent and all elements equal.\nnumpy.dtype\n    Create a data type object.\nnumpy.choose\n    Construct an array from an index array and a set of arrays to choose from.\nnumpy.nditer\n    Efficient multi-dimensional iterator object to iterate over arrays.\nnumpy.swapaxes\n    Interchange two axes of an array.\nnumpy.full_like\n    Return a full array with the same shape and type as a given array.\nnumpy.ones_like\n    Return an array of ones with the same shape and type as a given array.\nnumpy.empty_like\n    Return a new array with the same shape and type as a given array.\nnumpy.zeros_like\n    Return an array of zeros with the same shape and type as a given array.\nnumpy.asarray_chkfinite\n    Convert the input to an array, checking for NaNs or Infs.\nnumpy.diag_indices\n    Return the indices to access the main diagonal of an array.\nnumpy.chararray.tolist\n    a.tolist()\nnumpy.ma.mrecords.MaskedRecords.__new__\n    Create a new masked array from scratch.\nnumpy.ma.choose\n    Use an index array to construct a new array from a set of choices.\nnumpy.savez_compressed\n    Save several arrays into a single file in compressed ``.npz`` format.\nnumpy.matlib.rand\n    Return a matrix of random values with given shape.\nnumpy.datetime_as_string\n    Convert an array of datetimes into an array of strings.\nnumpy.ma.empty_like\n    Return a new array with the same shape and type as a given array.\nnumpy.ma.make_mask_none\n    Return a boolean mask of the given shape, filled with False.\nnumpy.ma.tests.test_subclassing.MMatrix.__new__\n    Create a new masked array from scratch.\nnumpy.ma.tests.test_subclassing.MSubArray.__new__\n    Create a new masked array from scratch.\nnumpy.ma.mrecords.fromrecords\n    Creates a MaskedRecords from a list of records.\nnumpy.ma.tests.test_subclassing.SubMaskedArray.__new__\n    Create a new masked array from scratch.\nnumpy.f2py.tests.test_array_from_pyobj.Array.has_shared_memory\n    Check that created array shares data with input array.\nnumpy.around\n    Evenly round to the given number of decimals.\nnumpy.source\n    Print or write to a file the source code for a NumPy object.\nnumpy.diagonal\n    Return specified diagonals.\nnumpy.nan_to_num\n    Replace nan with zero and inf with large finite numbers.\nnumpy.einsum_path\n    Evaluates the lowest cost contraction order for an einsum expression by\nnumpy.histogram2d\n    Compute the bi-dimensional histogram of two data samples.\nnumpy.fft.ifft\n    Compute the one-dimensional inverse discrete Fourier Transform.\nnumpy.fft.ifftn\n    Compute the N-dimensional inverse discrete Fourier Transform.\nnumpy.busdaycalendar\n    A business day calendar object that efficiently stores information\nnumpy.ma.tests.test_subclassing.SubArray\n    ndarray(shape, dtype=float, buffer=None, offset=0,\nnumpy.core.tests.test_function_base.PhysicalQuantity2\n    ndarray(shape, dtype=float, buffer=None, offset=0,\nnumpy.lib.tests.test_stride_tricks.SimpleSubClass\n    ndarray(shape, dtype=float, buffer=None, offset=0,\nnumpy.ma.tests.test_subclassing.ComplicatedSubArray\n    ndarray(shape, dtype=float, buffer=None, offset=0,\nnumpy.lib.tests.test_stride_tricks.VerySimpleSubClass\n    ndarray(shape, dtype=float, buffer=None, offset=0,\nnumpy.core.tests.test_numeric.TestKeepdims.sub_array\n    ndarray(shape, dtype=float, buffer=None, offset=0,\nnumpy.core.tests.test_multiarray.TestArrayPriority.Bar\n    ndarray(shape, dtype=float, buffer=None, offset=0,\nnumpy.core.tests.test_multiarray.TestArrayPriority.Foo\n    ndarray(shape, dtype=float, buffer=None, offset=0,\nnumpy.testing._gen_alignment_data\n    generator producing data with different alignment and offsets"
    }
   ],
   "source": [
    "np.lookfor('create array')"
   ]
  },
  {
   "cell_type": "code",
   "execution_count": 252,
   "metadata": {},
   "outputs": [],
   "source": [
    "np.con*?"
   ]
  },
  {
   "cell_type": "code",
   "execution_count": 253,
   "metadata": {},
   "outputs": [
    {
     "name": "stdout",
     "output_type": "stream",
     "text": "[0 1 2 3]\n1\n(4,)\n4\n"
    }
   ],
   "source": [
    "#Creating arrays\n",
    "#1-D\n",
    "a = np.array([0,1,2,3])\n",
    "print(a)\n",
    "print(a.ndim)\n",
    "print(a.shape)\n",
    "print(len(a))"
   ]
  },
  {
   "cell_type": "code",
   "execution_count": 256,
   "metadata": {},
   "outputs": [
    {
     "name": "stdout",
     "output_type": "stream",
     "text": "[[0 1 2 3]\n [4 5 6 7]]\n2\n(2, 4)\n2\n"
    }
   ],
   "source": [
    "#2-D\n",
    "b = np.array([[0,1,2,3],[4,5,6,7]])\n",
    "print(b)\n",
    "print(b.ndim)\n",
    "print(b.shape)\n",
    "print(len(b))"
   ]
  },
  {
   "cell_type": "code",
   "execution_count": 263,
   "metadata": {},
   "outputs": [
    {
     "name": "stdout",
     "output_type": "stream",
     "text": "[[[0 1 2 3]\n  [4 5 6 7]]\n\n [[8 9 0 1]\n  [2 3 4 5]]]\n3\n(2, 2, 4)\n2\n"
    }
   ],
   "source": [
    "#3-D\n",
    "c = np.array([[[0,1,2,3],[4,5,6,7]],[[8,9,0,1],[2,3,4,5]]])\n",
    "print(c)\n",
    "print(c.ndim)\n",
    "print(c.shape)\n",
    "print(len(c))"
   ]
  },
  {
   "cell_type": "code",
   "execution_count": 264,
   "metadata": {},
   "outputs": [
    {
     "name": "stdout",
     "output_type": "stream",
     "text": "[[[[0]]\n\n  [[4]]]\n\n\n [[[8]]\n\n  [[2]]]]\n4\n(2, 2, 1, 1)\n2\n"
    }
   ],
   "source": [
    "#4-D\n",
    "d = np.array([[[[0]],[[4]]],[[[8]],[[2]]]])\n",
    "print(d)\n",
    "print(d.ndim)\n",
    "print(d.shape)\n",
    "print(len(d))"
   ]
  },
  {
   "cell_type": "code",
   "execution_count": 267,
   "metadata": {},
   "outputs": [
    {
     "name": "stdout",
     "output_type": "stream",
     "text": "[0 1 2 3 4 5 6 7 8 9]\n[ 1  4  7 10 13 16 19]\n"
    }
   ],
   "source": [
    "a = np.arange(10)\n",
    "b = np.arange(1,20,3)\n",
    "print(a)\n",
    "print(b)"
   ]
  },
  {
   "cell_type": "code",
   "execution_count": 273,
   "metadata": {},
   "outputs": [
    {
     "name": "stdout",
     "output_type": "stream",
     "text": "[0.  0.2 0.4 0.6 0.8 1. ]\n[0.  0.2 0.4 0.6 0.8]\n"
    }
   ],
   "source": [
    "c = np.linspace(0, 1, 6) \n",
    "d = np.linspace(0, 1, 5, endpoint=False)\n",
    "print(c)\n",
    "print(d)"
   ]
  },
  {
   "cell_type": "code",
   "execution_count": 282,
   "metadata": {},
   "outputs": [
    {
     "name": "stdout",
     "output_type": "stream",
     "text": "[[1. 1. 1.]\n [1. 1. 1.]]\n[[0. 0. 0. 0.]\n [0. 0. 0. 0.]]\n[[1. 0. 0. 0.]\n [0. 1. 0. 0.]\n [0. 0. 1. 0.]\n [0. 0. 0. 1.]]\n[[1 0 0 0 0]\n [0 2 0 0 0]\n [0 0 3 0 0]\n [0 0 0 4 0]\n [0 0 0 0 5]]\n"
    }
   ],
   "source": [
    "a = np.ones((2,3))\n",
    "b = np.zeros((2,4))\n",
    "c = np.eye(4)\n",
    "d = np.diag(np.array([1,2,3,4,5]))\n",
    "print(a)\n",
    "print(b)\n",
    "print(c)\n",
    "print(d)"
   ]
  },
  {
   "cell_type": "code",
   "execution_count": 290,
   "metadata": {},
   "outputs": [
    {
     "name": "stdout",
     "output_type": "stream",
     "text": "[0.16911084 0.08833981 0.68535982 0.95339335]\n[ 0.00429143 -0.17460021  0.43302619  1.20303737]\n[0.77132064 0.02075195 0.63364823 0.74880388]\n[0.49850701 0.22479665 0.19806286 0.76053071]\n[0.77132064 0.02075195 0.63364823 0.74880388]\n[0.49850701 0.22479665 0.19806286 0.76053071]\n"
    }
   ],
   "source": [
    "a = np.random.rand(4)\n",
    "print(a)\n",
    "\n",
    "b = np.random.randn(4)\n",
    "print(b)\n",
    "\n",
    "#If we seed with same value we'll get the same random number\n",
    "#Randomness depends on OS or current system time\n",
    "np.random.seed(10)\n",
    "a = np.random.rand(4)\n",
    "print(a)\n",
    "b = np.random.rand(4)\n",
    "print(b)\n",
    "np.random.seed(10)\n",
    "a = np.random.rand(4)\n",
    "print(a)\n",
    "b = np.random.rand(4)\n",
    "print(b)"
   ]
  },
  {
   "cell_type": "code",
   "execution_count": 310,
   "metadata": {},
   "outputs": [
    {
     "name": "stdout",
     "output_type": "stream",
     "text": "int32\nfloat64\nfloat64\nfloat64\nfloat64\ncomplex128\nbool\n<U1\n<U5\n"
    }
   ],
   "source": [
    "#Datatype\n",
    "a = np.array([1, 2, 3])\n",
    "print(a.dtype)\n",
    "b = np.array([1., 2., 3.])\n",
    "print(b.dtype)\n",
    "c = np.array([1,2,3], dtype=float)\n",
    "print(c.dtype)\n",
    "#Default data type\n",
    "d = np.ones((3, 3))\n",
    "print(d.dtype)\n",
    "e = np.zeros((2, 2))\n",
    "print(e.dtype)\n",
    "f = np.array([1+2j])\n",
    "print(f.dtype)\n",
    "g = np.array([True, False])\n",
    "print(g.dtype)\n",
    "h = np.array([\"A\",\"B\"])\n",
    "print(h.dtype)\n",
    "i = np.array([\"Alex\",\"Bethy\"])\n",
    "print(i.dtype)"
   ]
  },
  {
   "cell_type": "code",
   "execution_count": null,
   "metadata": {},
   "outputs": [],
   "source": []
  }
 ]
}