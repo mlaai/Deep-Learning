{
 "nbformat": 4,
 "nbformat_minor": 2,
 "metadata": {
  "language_info": {
   "name": "python",
   "codemirror_mode": {
    "name": "ipython",
    "version": 3
   },
   "version": "3.6.4-final"
  },
  "orig_nbformat": 2,
  "file_extension": ".py",
  "mimetype": "text/x-python",
  "name": "python",
  "npconvert_exporter": "python",
  "pygments_lexer": "ipython3",
  "version": 3,
  "kernelspec": {
   "name": "python36464bitbasecondad387ef8625df407884471fe6c4b09d54",
   "display_name": "Python 3.6.4 64-bit ('base': conda)"
  }
 },
 "cells": [
  {
   "cell_type": "code",
   "execution_count": 58,
   "metadata": {},
   "outputs": [
    {
     "name": "stdout",
     "output_type": "stream",
     "text": "3\n-0.9613974918795568\n"
    }
   ],
   "source": [
    "\"\"\"\n",
    "Modules\n",
    "\"\"\"\n",
    "import pandas as pd\n",
    "import numpy as np\n",
    "import matplotlib.pyplot as plt\n",
    "import statistics\n",
    "print(statistics.mean([1,2,3,4,5]))\n",
    "from math import sin, cos\n",
    "print(sin(17))"
   ]
  },
  {
   "cell_type": "code",
   "execution_count": 60,
   "metadata": {},
   "outputs": [
    {
     "name": "stdout",
     "output_type": "stream",
     "text": "<class 'int'>\n<class 'bool'>\n<class 'str'>\n<class 'float'>\n"
    }
   ],
   "source": [
    "\"\"\"\n",
    "Variables\n",
    "\"\"\"\n",
    "print(type(17))\n",
    "print(type(False))\n",
    "print(type(\"Hello World\"))\n",
    "print(type(-3.33))"
   ]
  },
  {
   "cell_type": "code",
   "execution_count": 3,
   "metadata": {},
   "outputs": [
    {
     "name": "stdout",
     "output_type": "stream",
     "text": "<class 'str'> 17\n<class 'int'> 17\n<class 'float'> 17.0\n"
    }
   ],
   "source": [
    "\"\"\"\n",
    "Type conversion\n",
    "\"\"\"\n",
    "str = \"17\"\n",
    "i = int(str)\n",
    "f = float(str)\n",
    "print(type(str), str)\n",
    "print(type(i), i)\n",
    "print(type(f), f)"
   ]
  },
  {
   "cell_type": "code",
   "execution_count": 68,
   "metadata": {},
   "outputs": [
    {
     "name": "stdout",
     "output_type": "stream",
     "text": "1.5\n1\n1\n9\n-3\n3\n"
    }
   ],
   "source": [
    "\"\"\"\n",
    "Numeric Operations\n",
    "\"\"\"\n",
    "x = 3\n",
    "y = 2\n",
    "print(x/y)\n",
    "print(x//y)\n",
    "print(x%y)\n",
    "print(x**y)\n",
    "print(-x)\n",
    "print(abs(x))"
   ]
  },
  {
   "cell_type": "code",
   "execution_count": 7,
   "metadata": {},
   "outputs": [
    {
     "name": "stdout",
     "output_type": "stream",
     "text": "A\nurag\nAnura\ng\nag\n"
    }
   ],
   "source": [
    "\"\"\"\n",
    "Slicing\n",
    "\"\"\"\n",
    "word = \"Anurag\"\n",
    "print(word[0])\n",
    "print(word[2:])\n",
    "print(word[:5])\n",
    "print(word[-1])\n",
    "print(word[-2:])"
   ]
  },
  {
   "cell_type": "code",
   "execution_count": 12,
   "metadata": {},
   "outputs": [
    {
     "data": {
      "text/plain": "'Hello world'"
     },
     "execution_count": 12,
     "metadata": {},
     "output_type": "execute_result"
    }
   ],
   "source": [
    "\"\"\"\n",
    "String Methods\n",
    "\"\"\"\n",
    "word = \"hello world\"\n",
    "word.upper()\n",
    "word.title()\n",
    "\"ll\" in word\n",
    "word.capitalize()"
   ]
  },
  {
   "cell_type": "code",
   "execution_count": 16,
   "metadata": {},
   "outputs": [
    {
     "name": "stdout",
     "output_type": "stream",
     "text": "0 2\n1 3\n2 4\n"
    }
   ],
   "source": [
    "\"\"\"\n",
    "List index and element\n",
    "[]\n",
    "\"\"\"\n",
    "mylist = [2,3,4]\n",
    "for index, element in enumerate(mylist):\n",
    "    print(\"{0} {1}\".format(index, element))"
   ]
  },
  {
   "cell_type": "code",
   "execution_count": 20,
   "metadata": {},
   "outputs": [
    {
     "name": "stdout",
     "output_type": "stream",
     "text": "x:  2\ny:  1\n"
    }
   ],
   "source": [
    "\"\"\"\n",
    "Tuple Packing and Unpacking : Swap two numbers\n",
    "()\n",
    "\"\"\"\n",
    "x = 1\n",
    "y = 2\n",
    "var_tuple = x, y\n",
    "y, x = var_tuple\n",
    "print(\"x: \", x)\n",
    "print(\"y: \", y)"
   ]
  },
  {
   "cell_type": "code",
   "execution_count": 29,
   "metadata": {},
   "outputs": [
    {
     "name": "stdout",
     "output_type": "stream",
     "text": "[1, 4, 9]\n"
    },
    {
     "data": {
      "text/plain": "list"
     },
     "execution_count": 29,
     "metadata": {},
     "output_type": "execute_result"
    }
   ],
   "source": [
    "\"\"\"\n",
    "Lists are mutable\n",
    "\"\"\"\n",
    "l = [1,2,3]\n",
    "lmap = map(lambda x: x*x, l)\n",
    "print(list(lmap))\n",
    "type(list(lmap))"
   ]
  },
  {
   "cell_type": "code",
   "execution_count": 26,
   "metadata": {},
   "outputs": [
    {
     "data": {
      "text/plain": "tuple"
     },
     "execution_count": 26,
     "metadata": {},
     "output_type": "execute_result"
    }
   ],
   "source": [
    "\"\"\"\n",
    "Python uses tuples to return multiple values from functions\n",
    "\"\"\"\n",
    "def doSomething():\n",
    "    return 1, 2, 3\n",
    "\n",
    "x = doSomething();\n",
    "type(x)\n"
   ]
  },
  {
   "cell_type": "code",
   "execution_count": 51,
   "metadata": {},
   "outputs": [
    {
     "data": {
      "text/plain": "False"
     },
     "execution_count": 51,
     "metadata": {},
     "output_type": "execute_result"
    }
   ],
   "source": [
    "(False and False and True and False and True and True or True or False or True and False) and False"
   ]
  },
  {
   "cell_type": "code",
   "execution_count": 88,
   "metadata": {},
   "outputs": [
    {
     "name": "stdout",
     "output_type": "stream",
     "text": "+\n0 1 \n0 1 \nOdd : 1; Even : 2; Odd : 3; Even : 4; Odd : 5; Even : 6; Odd : 7; Even : 8; Odd : 9; \n2 3 5 7 nothing\n"
    }
   ],
   "source": [
    "\"\"\"\n",
    "Control Statements\n",
    "\"\"\"\n",
    "#if\n",
    "value = 0.5\n",
    "if value > 0:\n",
    "    print(\"+\")\n",
    "elif value < 0:\n",
    "    print(\"-\")\n",
    "else:\n",
    "    print(\"0\")\n",
    "\n",
    "#for\n",
    "for i in range(0,2):\n",
    "    print(i**2, end=\" \")\n",
    "print()\n",
    "\n",
    "#while\n",
    "i = 0\n",
    "while(i < 2):\n",
    "    print(i, end=\" \")\n",
    "    i +=1\n",
    "print()\n",
    "\n",
    "#continue\n",
    "for i in range(1,10):\n",
    "    if(i % 2 == 0):\n",
    "        print(\"Even :\", i,  end=\"; \")\n",
    "        continue\n",
    "    print(\"Odd :\", i, end=\"; \")\n",
    "print()\n",
    "\n",
    "#break\n",
    "n = 10\n",
    "for i in range(2,n+1):\n",
    "    for j in range(2, i):\n",
    "        if i % j == 0:\n",
    "            break;\n",
    "    else:\n",
    "        print(i, end= \" \")\n",
    "print()\n",
    "\n",
    "#pass\n",
    "if (0 < 1):\n",
    "    pass\n",
    "    print(\"nothing\")\n",
    "else:\n",
    "    print(\"something\")"
   ]
  },
  {
   "cell_type": "code",
   "execution_count": 108,
   "metadata": {},
   "outputs": [
    {
     "name": "stdout",
     "output_type": "stream",
     "text": "A B\n1\n2 1 1\n"
    }
   ],
   "source": [
    "\"\"\"\n",
    "Python Functions\n",
    "\"\"\"\n",
    "def function_name(input_arg1, input_arg2):\n",
    "    print(input_arg1, input_arg2)\n",
    "    return input_arg1, input_arg2 #return tuple\n",
    "\n",
    "function_name(\"A\",\"B\")\n",
    "\n",
    "#global\n",
    "x = 0\n",
    "def inc_x2():\n",
    "    global x\n",
    "    x = x + 1\n",
    " \n",
    "inc_x2()\n",
    "print(x)\n",
    "\n",
    "#default arguments\n",
    "def func(z, a=1, b=1):\n",
    "    print(z, a, b)\n",
    "func(z=2)"
   ]
  },
  {
   "cell_type": "code",
   "execution_count": 109,
   "metadata": {},
   "outputs": [
    {
     "name": "stdout",
     "output_type": "stream",
     "text": "4\n"
    }
   ],
   "source": [
    "square = lambda x: x**2\n",
    "print(square(2))"
   ]
  },
  {
   "cell_type": "code",
   "execution_count": 136,
   "metadata": {},
   "outputs": [
    {
     "name": "stdout",
     "output_type": "stream",
     "text": "{'benign': 'gentle', 'acerbic': 'acidic'}\ngentle\nTrue\nbenign\nacerbic\ngentle\nacidic\nKey :  benign , Value :  gentle\nKey :  acerbic , Value :  acidic\n0 benign\n1 acerbic\n"
    }
   ],
   "source": [
    "\"\"\"\n",
    "Dictionaries\n",
    "{}\n",
    "\"\"\"\n",
    "x={}\n",
    "dict = {\"benign\":\"gentle\",\n",
    "        \"acerbic\":\"acidic\"}\n",
    "print(dict)\n",
    "print(dict[\"benign\"])\n",
    "print(\"acerbic\" in dict)\n",
    "\n",
    "for key in dict.keys():\n",
    "    print(key)\n",
    "for value in dict.values():\n",
    "    print(value)\n",
    "for key, value in dict.items():\n",
    "    print(\"Key : \", key, \", Value : \", value)\n",
    "for index, key in enumerate(dict):\n",
    "    print(index, key)\n"
   ]
  },
  {
   "cell_type": "code",
   "execution_count": 133,
   "metadata": {},
   "outputs": [
    {
     "name": "stdout",
     "output_type": "stream",
     "text": "[{'name': 'Jade', 'age': '24'}, {'name': 'John', 'age': '33'}, {'name': 'Juan', 'age': '38'}]\n[{'name': 'Juan', 'age': '38'}, {'name': 'John', 'age': '33'}, {'name': 'Jade', 'age': '24'}]\n{'name': 'Jade', 'age': '24'}\n[{True: 'A'}, {False: 'B'}]\n"
    }
   ],
   "source": [
    "\"\"\"\n",
    "Sorting Dictionaries\n",
    "\"\"\"\n",
    "customer = [{\"name\": \"John\", \"age\": \"33\"},\n",
    "            {\"name\": \"Jade\", \"age\": \"24\"},\n",
    "            {\"name\": \"Juan\", \"age\": \"38\"},]\n",
    "print(sorted(customer, key = lambda d: d[\"age\"]))\n",
    "customer.sort(key = lambda d: d[\"age\"], reverse=True)\n",
    "print(customer)\n",
    "print(customer[2])\n",
    "test = [{True:\"A\"},{False:\"B\"}]\n",
    "print(test)\n"
   ]
  },
  {
   "cell_type": "code",
   "execution_count": 132,
   "metadata": {},
   "outputs": [
    {
     "name": "stdout",
     "output_type": "stream",
     "text": "{1, 2, 3, 4, 5}\n{3, 4, 7, 8, 9}\nset()\n{1, 2, 3, 4, 5, 7, 8, 9}\n{3, 4}\n"
    }
   ],
   "source": [
    "\"\"\"\n",
    "Sets\n",
    "\"\"\"\n",
    "list_a = [1,2,3,4,5]\n",
    "list_b = [3,4,7,8,9]\n",
    "\n",
    "A = set(list_a)\n",
    "B = set(list_b)\n",
    "C = set()\n",
    "print(A)\n",
    "print(B)\n",
    "print(C)\n",
    "print(A.union(B))\n",
    "print(A.intersection(B))"
   ]
  },
  {
   "cell_type": "code",
   "execution_count": 142,
   "metadata": {},
   "outputs": [
    {
     "data": {
      "text/plain": "{'one': 1, 'two': 2}"
     },
     "execution_count": 142,
     "metadata": {},
     "output_type": "execute_result"
    }
   ],
   "source": [
    "num = {'one':1, 'two':3}\n",
    "num['two']=2\n",
    "num"
   ]
  },
  {
   "cell_type": "code",
   "execution_count": 151,
   "metadata": {},
   "outputs": [
    {
     "name": "stdout",
     "output_type": "stream",
     "text": "1876913440\n1876913440\nTrue\nFalse\n2258395814992\n2258395814480\n"
    }
   ],
   "source": [
    "\"\"\"\n",
    "Python Object Model\n",
    "Everything is object\n",
    "Variables are references to objects\n",
    "\"\"\"\n",
    "#Integer objects are immutable\n",
    "#python preallocates integer objects [-5, 256]\n",
    "x = -5\n",
    "y = -5\n",
    "print(id(x))\n",
    "print(id(y))\n",
    "\n",
    "x=1024\n",
    "y=1024\n",
    "print(x == y)\n",
    "print(x is y)\n",
    "print(id(x))\n",
    "print(id(y))"
   ]
  },
  {
   "cell_type": "code",
   "execution_count": 164,
   "metadata": {},
   "outputs": [
    {
     "name": "stdout",
     "output_type": "stream",
     "text": "Divide by Zero Error !\nIndex out of bounds !\n<class 'list'>\n"
    },
    {
     "ename": "Exception",
     "evalue": "Age should be greater than 18 years !",
     "output_type": "error",
     "traceback": [
      "\u001b[1;31m---------------------------------------------------------------------------\u001b[0m",
      "\u001b[1;31mException\u001b[0m                                 Traceback (most recent call last)",
      "\u001b[1;32m<ipython-input-164-ffa6adbbacaa>\u001b[0m in \u001b[0;36m<module>\u001b[1;34m()\u001b[0m\n\u001b[0;32m     19\u001b[0m \u001b[0mage\u001b[0m \u001b[1;33m=\u001b[0m \u001b[1;36m16\u001b[0m\u001b[1;33m\u001b[0m\u001b[0m\n\u001b[0;32m     20\u001b[0m \u001b[1;32mif\u001b[0m \u001b[1;33m(\u001b[0m\u001b[0mage\u001b[0m \u001b[1;33m<\u001b[0m \u001b[1;36m18\u001b[0m\u001b[1;33m)\u001b[0m\u001b[1;33m:\u001b[0m\u001b[1;33m\u001b[0m\u001b[0m\n\u001b[1;32m---> 21\u001b[1;33m     \u001b[1;32mraise\u001b[0m \u001b[0mException\u001b[0m\u001b[1;33m(\u001b[0m\u001b[1;34m\"Age should be greater than 18 years !\"\u001b[0m\u001b[1;33m)\u001b[0m\u001b[1;33m\u001b[0m\u001b[0m\n\u001b[0m\u001b[0;32m     22\u001b[0m \u001b[0mprint\u001b[0m\u001b[1;33m(\u001b[0m\u001b[0mage\u001b[0m\u001b[1;33m)\u001b[0m\u001b[1;33m\u001b[0m\u001b[0m\n",
      "\u001b[1;31mException\u001b[0m: Age should be greater than 18 years !"
     ]
    }
   ],
   "source": [
    "\"\"\"\n",
    "Exceptions\n",
    "\n",
    "BaseException\n",
    " +-- SystemExit\n",
    " +-- KeyboardInterrupt\n",
    " +-- GeneratorExit\n",
    " +-- Exception\n",
    "      +-- StopIteration\n",
    "      +-- StopAsyncIteration\n",
    "      +-- ArithmeticError\n",
    "      |    +-- FloatingPointError\n",
    "      |    +-- OverflowError\n",
    "      |    +-- ZeroDivisionError\n",
    "      +-- AssertionError\n",
    "      +-- AttributeError\n",
    "      +-- BufferError\n",
    "      +-- EOFError\n",
    "      +-- ImportError\n",
    "      |    +-- ModuleNotFoundError\n",
    "      +-- LookupError\n",
    "      |    +-- IndexError\n",
    "      |    +-- KeyError\n",
    "      +-- MemoryError\n",
    "      +-- NameError\n",
    "      |    +-- UnboundLocalError\n",
    "      +-- OSError\n",
    "      |    +-- BlockingIOError\n",
    "      |    +-- ChildProcessError\n",
    "      |    +-- ConnectionError\n",
    "      |    |    +-- BrokenPipeError\n",
    "      |    |    +-- ConnectionAbortedError\n",
    "      |    |    +-- ConnectionRefusedError\n",
    "      |    |    +-- ConnectionResetError\n",
    "      |    +-- FileExistsError\n",
    "      |    +-- FileNotFoundError\n",
    "      |    +-- InterruptedError\n",
    "      |    +-- IsADirectoryError\n",
    "      |    +-- NotADirectoryError\n",
    "      |    +-- PermissionError\n",
    "      |    +-- ProcessLookupError\n",
    "      |    +-- TimeoutError\n",
    "      +-- ReferenceError\n",
    "      +-- RuntimeError\n",
    "      |    +-- NotImplementedError\n",
    "      |    +-- RecursionError\n",
    "      +-- SyntaxError\n",
    "      |    +-- IndentationError\n",
    "      |         +-- TabError\n",
    "      +-- SystemError\n",
    "      +-- TypeError\n",
    "      +-- ValueError\n",
    "      |    +-- UnicodeError\n",
    "      |         +-- UnicodeDecodeError\n",
    "      |         +-- UnicodeEncodeError\n",
    "      |         +-- UnicodeTranslateError\n",
    "      +-- Warning\n",
    "           +-- DeprecationWarning\n",
    "           +-- PendingDeprecationWarning\n",
    "           +-- RuntimeWarning\n",
    "           +-- SyntaxWarning\n",
    "           +-- UserWarning\n",
    "           +-- FutureWarning\n",
    "           +-- ImportWarning\n",
    "           +-- UnicodeWarning\n",
    "           +-- BytesWarning\n",
    "           +-- ResourceWarning\n",
    "\"\"\"\n",
    "try:\n",
    "    x = 100 // 0\n",
    "except ZeroDivisionError:\n",
    "    print(\"Divide by Zero Error !\")\n",
    "\n",
    "try:\n",
    "    a = [1,2,3]\n",
    "    a[3] = 4\n",
    "except IndexError:\n",
    "    print(\"Index out of bounds !\")\n",
    "else:\n",
    "    print(a)\n",
    "finally:\n",
    "    print(type(a))\n",
    "\n",
    "age = 16\n",
    "if (age < 18):\n",
    "    raise Exception(\"Age should be greater than 18 years !\")\n",
    "print(age)\n"
   ]
  },
  {
   "cell_type": "code",
   "execution_count": 194,
   "metadata": {},
   "outputs": [
    {
     "name": "stdout",
     "output_type": "stream",
     "text": "Index 0 => This is line 4\n\nIndex 1 => This is line 4\n\nIndex 2 => This is line 4\n\nIndex 3 => This is line 4\n\nIndex 4 => This is line\n\n"
    },
    {
     "data": {
      "text/plain": "'[1, 2, 3]'"
     },
     "execution_count": 194,
     "metadata": {},
     "output_type": "execute_result"
    }
   ],
   "source": [
    "\"\"\"\n",
    "File IO\n",
    "\"\"\"\n",
    "with open('./test.txt','r') as f:\n",
    "    for index, data in enumerate(f):\n",
    "        print(\"Index {} => {}\".format(index,data), end = \"\\n\")\n",
    "\n",
    "with open('./test.txt','a') as f:\n",
    "    f.write(\"This is line\\n\")\n"
   ]
  },
  {
   "cell_type": "code",
   "execution_count": null,
   "metadata": {},
   "outputs": [],
   "source": [
    "\"\"\"\n",
    "JSON\n",
    "\"\"\"\n",
    "\n",
    "import json\n",
    "json.dumps([1,2,3])\n"
   ]
  }
 ]
}