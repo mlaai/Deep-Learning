{
 "nbformat": 4,
 "nbformat_minor": 2,
 "metadata": {
  "language_info": {
   "name": "python",
   "codemirror_mode": {
    "name": "ipython",
    "version": 3
   },
   "version": "3.6.4-final"
  },
  "orig_nbformat": 2,
  "file_extension": ".py",
  "mimetype": "text/x-python",
  "name": "python",
  "npconvert_exporter": "python",
  "pygments_lexer": "ipython3",
  "version": 3,
  "kernelspec": {
   "name": "python36464bit91c28a60cf3e4ed5a92e77a017f2030c",
   "display_name": "Python 3.6.4 64-bit"
  }
 },
 "cells": [
  {
   "cell_type": "code",
   "execution_count": null,
   "metadata": {},
   "outputs": [],
   "source": [
    "#import libraries\n",
    "import tensorflow as tf \n",
    "import numpy as np\n",
    "from tensorflow import keras\n",
    "\n",
    "#define neural network\n",
    "model = tf.keras.Sequential([keras.layers.Dense(units=1, input_shape=[1])])\n",
    "\n",
    "#compile neural network\n",
    "model.compile(optimiser='sgd', loss='mean_squared_error')\n",
    "\n",
    "#get input data\n",
    "xs = np.array([1.0, 2.0, 3.0, 4.0, 5.0])\n",
    "ys = np.array([1.0, 4.0, 9.0, 16.0, 25.0])\n",
    "\n",
    "#training neural network\n",
    "model.fit(xs, ys, epochs=500)\n",
    "\n",
    "#output result\n",
    "print(model.predit([6]))\n"
   ]
  }
 ]
}