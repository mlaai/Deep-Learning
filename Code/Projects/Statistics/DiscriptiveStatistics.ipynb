{
 "nbformat": 4,
 "nbformat_minor": 2,
 "metadata": {
  "language_info": {
   "name": "python",
   "codemirror_mode": {
    "name": "ipython",
    "version": 3
   }
  },
  "orig_nbformat": 2,
  "file_extension": ".py",
  "mimetype": "text/x-python",
  "name": "python",
  "npconvert_exporter": "python",
  "pygments_lexer": "ipython3",
  "version": 3
 },
 "cells": [
  {
   "cell_type": "code",
   "execution_count": 6,
   "metadata": {},
   "outputs": [
    {
     "data": {
      "text/html": "<div>\n<style scoped>\n    .dataframe tbody tr th:only-of-type {\n        vertical-align: middle;\n    }\n\n    .dataframe tbody tr th {\n        vertical-align: top;\n    }\n\n    .dataframe thead th {\n        text-align: right;\n    }\n</style>\n<table border=\"1\" class=\"dataframe\">\n  <thead>\n    <tr style=\"text-align: right;\">\n      <th></th>\n      <th>10-14</th>\n      <th>15-19</th>\n      <th>20-24</th>\n      <th>25-29</th>\n      <th>30-34</th>\n      <th>35-39</th>\n      <th>40-44</th>\n      <th>45-59</th>\n      <th>5-9</th>\n      <th>60-89</th>\n      <th>90&gt;</th>\n      <th>&lt;5</th>\n      <th>WFH</th>\n    </tr>\n  </thead>\n  <tbody>\n    <tr>\n      <th>0</th>\n      <td>13.5</td>\n      <td>14.7</td>\n      <td>13.9</td>\n      <td>5.6</td>\n      <td>13.5</td>\n      <td>2.7</td>\n      <td>3.4</td>\n      <td>7.9</td>\n      <td>9.7</td>\n      <td>5.8</td>\n      <td>3.3</td>\n      <td>3.2</td>\n      <td>2.9</td>\n    </tr>\n    <tr>\n      <th>1</th>\n      <td>15.7</td>\n      <td>16.1</td>\n      <td>14.1</td>\n      <td>5.6</td>\n      <td>11.9</td>\n      <td>2.3</td>\n      <td>2.9</td>\n      <td>6.3</td>\n      <td>11.8</td>\n      <td>4.2</td>\n      <td>2.0</td>\n      <td>3.3</td>\n      <td>3.7</td>\n    </tr>\n  </tbody>\n</table>\n</div>",
      "text/plain": "   10-14  15-19  20-24  25-29  30-34  35-39  40-44  45-59   5-9  60-89  90>  \\\n0   13.5   14.7   13.9    5.6   13.5    2.7    3.4    7.9   9.7    5.8  3.3   \n1   15.7   16.1   14.1    5.6   11.9    2.3    2.9    6.3  11.8    4.2  2.0   \n\n    <5  WFH  \n0  3.2  2.9  \n1  3.3  3.7  "
     },
     "execution_count": 6,
     "metadata": {},
     "output_type": "execute_result"
    }
   ],
   "source": [
    "#Create a dataset of male and female commuters\n",
    "import pandas as pd\n",
    "dict = {'WFH': [2.9,3.7],'<5': [3.2, 3.3], '5-9':[9.7,11.8], '10-14': [13.5,15.7], '15-19':[14.7,16.1],'20-24':[13.9,14.1],'25-29':[5.6,5.6],'30-34':[13.5, 11.9],'35-39':[2.7,2.3],'40-44':[3.4,2.9],'45-59':[7.9,6.3],'60-89':[5.8,4.2], '90>':[3.3,2]}\n",
    "\n",
    "dataframe = pd.DataFrame(data=dict)\n",
    "dataframe"
   ]
  },
  {
   "cell_type": "code",
   "execution_count": null,
   "metadata": {},
   "outputs": [],
   "source": []
  }
 ]
}