{
 "cells": [
  {
   "cell_type": "code",
   "execution_count": 33,
   "metadata": {},
   "outputs": [
    {
     "data": {
      "text/html": [
       "'John'"
      ],
      "text/latex": [
       "'John'"
      ],
      "text/markdown": [
       "'John'"
      ],
      "text/plain": [
       "[1] \"John\""
      ]
     },
     "metadata": {},
     "output_type": "display_data"
    }
   ],
   "source": [
    "#Robert Gentleman , co-creator of R language\n",
    "#Variable Assignment\n",
    "customerName <- 'John'\n",
    "customerName"
   ]
  },
  {
   "cell_type": "code",
   "execution_count": 245,
   "metadata": {},
   "outputs": [],
   "source": [
    "#Run Help\n",
    "?getwd"
   ]
  },
  {
   "cell_type": "code",
   "execution_count": 38,
   "metadata": {},
   "outputs": [
    {
     "name": "stdout",
     "output_type": "stream",
     "text": [
      " [1]  2  3  4  5  6  7  8  9 10 11 12 13 14 15 16 17\n"
     ]
    },
    {
     "data": {
      "text/html": [
       "<ol class=list-inline>\n",
       "\t<li>2</li>\n",
       "\t<li>3</li>\n",
       "\t<li>4</li>\n",
       "\t<li>5</li>\n",
       "\t<li>6</li>\n",
       "\t<li>7</li>\n",
       "\t<li>8</li>\n",
       "\t<li>9</li>\n",
       "\t<li>10</li>\n",
       "\t<li>11</li>\n",
       "\t<li>12</li>\n",
       "\t<li>13</li>\n",
       "\t<li>14</li>\n",
       "\t<li>15</li>\n",
       "\t<li>16</li>\n",
       "\t<li>17</li>\n",
       "</ol>\n"
      ],
      "text/latex": [
       "\\begin{enumerate*}\n",
       "\\item 2\n",
       "\\item 3\n",
       "\\item 4\n",
       "\\item 5\n",
       "\\item 6\n",
       "\\item 7\n",
       "\\item 8\n",
       "\\item 9\n",
       "\\item 10\n",
       "\\item 11\n",
       "\\item 12\n",
       "\\item 13\n",
       "\\item 14\n",
       "\\item 15\n",
       "\\item 16\n",
       "\\item 17\n",
       "\\end{enumerate*}\n"
      ],
      "text/markdown": [
       "1. 2\n",
       "2. 3\n",
       "3. 4\n",
       "4. 5\n",
       "5. 6\n",
       "6. 7\n",
       "7. 8\n",
       "8. 9\n",
       "9. 10\n",
       "10. 11\n",
       "11. 12\n",
       "12. 13\n",
       "13. 14\n",
       "14. 15\n",
       "15. 16\n",
       "16. 17\n",
       "\n",
       "\n"
      ],
      "text/plain": [
       " [1]  2  3  4  5  6  7  8  9 10 11 12 13 14 15 16 17"
      ]
     },
     "metadata": {},
     "output_type": "display_data"
    },
    {
     "data": {
      "text/html": [
       "<ol class=list-inline>\n",
       "\t<li>4</li>\n",
       "\t<li>9</li>\n",
       "\t<li>16</li>\n",
       "\t<li>25</li>\n",
       "\t<li>36</li>\n",
       "\t<li>49</li>\n",
       "\t<li>64</li>\n",
       "\t<li>81</li>\n",
       "\t<li>100</li>\n",
       "\t<li>121</li>\n",
       "\t<li>144</li>\n",
       "\t<li>169</li>\n",
       "\t<li>196</li>\n",
       "\t<li>225</li>\n",
       "\t<li>256</li>\n",
       "\t<li>289</li>\n",
       "</ol>\n"
      ],
      "text/latex": [
       "\\begin{enumerate*}\n",
       "\\item 4\n",
       "\\item 9\n",
       "\\item 16\n",
       "\\item 25\n",
       "\\item 36\n",
       "\\item 49\n",
       "\\item 64\n",
       "\\item 81\n",
       "\\item 100\n",
       "\\item 121\n",
       "\\item 144\n",
       "\\item 169\n",
       "\\item 196\n",
       "\\item 225\n",
       "\\item 256\n",
       "\\item 289\n",
       "\\end{enumerate*}\n"
      ],
      "text/markdown": [
       "1. 4\n",
       "2. 9\n",
       "3. 16\n",
       "4. 25\n",
       "5. 36\n",
       "6. 49\n",
       "7. 64\n",
       "8. 81\n",
       "9. 100\n",
       "10. 121\n",
       "11. 144\n",
       "12. 169\n",
       "13. 196\n",
       "14. 225\n",
       "15. 256\n",
       "16. 289\n",
       "\n",
       "\n"
      ],
      "text/plain": [
       " [1]   4   9  16  25  36  49  64  81 100 121 144 169 196 225 256 289"
      ]
     },
     "metadata": {},
     "output_type": "display_data"
    },
    {
     "data": {
      "text/html": [
       "<ol class=list-inline>\n",
       "\t<li>1</li>\n",
       "\t<li>10</li>\n",
       "</ol>\n"
      ],
      "text/latex": [
       "\\begin{enumerate*}\n",
       "\\item 1\n",
       "\\item 10\n",
       "\\end{enumerate*}\n"
      ],
      "text/markdown": [
       "1. 1\n",
       "2. 10\n",
       "\n",
       "\n"
      ],
      "text/plain": [
       "[1]  1 10"
      ]
     },
     "metadata": {},
     "output_type": "display_data"
    },
    {
     "data": {
      "text/html": [
       "<ol class=list-inline>\n",
       "\t<li>1</li>\n",
       "\t<li>2</li>\n",
       "\t<li>3</li>\n",
       "\t<li>4</li>\n",
       "\t<li>5</li>\n",
       "\t<li>6</li>\n",
       "\t<li>7</li>\n",
       "\t<li>8</li>\n",
       "\t<li>9</li>\n",
       "\t<li>10</li>\n",
       "</ol>\n"
      ],
      "text/latex": [
       "\\begin{enumerate*}\n",
       "\\item 1\n",
       "\\item 2\n",
       "\\item 3\n",
       "\\item 4\n",
       "\\item 5\n",
       "\\item 6\n",
       "\\item 7\n",
       "\\item 8\n",
       "\\item 9\n",
       "\\item 10\n",
       "\\end{enumerate*}\n"
      ],
      "text/markdown": [
       "1. 1\n",
       "2. 2\n",
       "3. 3\n",
       "4. 4\n",
       "5. 5\n",
       "6. 6\n",
       "7. 7\n",
       "8. 8\n",
       "9. 9\n",
       "10. 10\n",
       "\n",
       "\n"
      ],
      "text/plain": [
       " [1]  1  2  3  4  5  6  7  8  9 10"
      ]
     },
     "metadata": {},
     "output_type": "display_data"
    },
    {
     "data": {
      "text/html": [
       "<ol class=list-inline>\n",
       "\t<li>1</li>\n",
       "\t<li>2</li>\n",
       "\t<li>3</li>\n",
       "\t<li>4</li>\n",
       "\t<li>5</li>\n",
       "\t<li>6</li>\n",
       "\t<li>7</li>\n",
       "\t<li>8</li>\n",
       "\t<li>9</li>\n",
       "\t<li>10</li>\n",
       "</ol>\n"
      ],
      "text/latex": [
       "\\begin{enumerate*}\n",
       "\\item 1\n",
       "\\item 2\n",
       "\\item 3\n",
       "\\item 4\n",
       "\\item 5\n",
       "\\item 6\n",
       "\\item 7\n",
       "\\item 8\n",
       "\\item 9\n",
       "\\item 10\n",
       "\\end{enumerate*}\n"
      ],
      "text/markdown": [
       "1. 1\n",
       "2. 2\n",
       "3. 3\n",
       "4. 4\n",
       "5. 5\n",
       "6. 6\n",
       "7. 7\n",
       "8. 8\n",
       "9. 9\n",
       "10. 10\n",
       "\n",
       "\n"
      ],
      "text/plain": [
       " [1]  1  2  3  4  5  6  7  8  9 10"
      ]
     },
     "metadata": {},
     "output_type": "display_data"
    },
    {
     "data": {
      "text/html": [
       "<ol class=list-inline>\n",
       "\t<li>1</li>\n",
       "\t<li>2</li>\n",
       "\t<li>3</li>\n",
       "\t<li>4</li>\n",
       "\t<li>5</li>\n",
       "\t<li>6</li>\n",
       "\t<li>7</li>\n",
       "\t<li>8</li>\n",
       "\t<li>9</li>\n",
       "\t<li>10</li>\n",
       "</ol>\n"
      ],
      "text/latex": [
       "\\begin{enumerate*}\n",
       "\\item 1\n",
       "\\item 2\n",
       "\\item 3\n",
       "\\item 4\n",
       "\\item 5\n",
       "\\item 6\n",
       "\\item 7\n",
       "\\item 8\n",
       "\\item 9\n",
       "\\item 10\n",
       "\\end{enumerate*}\n"
      ],
      "text/markdown": [
       "1. 1\n",
       "2. 2\n",
       "3. 3\n",
       "4. 4\n",
       "5. 5\n",
       "6. 6\n",
       "7. 7\n",
       "8. 8\n",
       "9. 9\n",
       "10. 10\n",
       "\n",
       "\n"
      ],
      "text/plain": [
       " [1]  1  2  3  4  5  6  7  8  9 10"
      ]
     },
     "metadata": {},
     "output_type": "display_data"
    },
    {
     "data": {
      "text/html": [
       "<ol class=list-inline>\n",
       "\t<li>1</li>\n",
       "\t<li>2</li>\n",
       "\t<li>3</li>\n",
       "\t<li>4</li>\n",
       "\t<li>5</li>\n",
       "\t<li>6</li>\n",
       "\t<li>7</li>\n",
       "\t<li>8</li>\n",
       "\t<li>9</li>\n",
       "\t<li>10</li>\n",
       "</ol>\n"
      ],
      "text/latex": [
       "\\begin{enumerate*}\n",
       "\\item 1\n",
       "\\item 2\n",
       "\\item 3\n",
       "\\item 4\n",
       "\\item 5\n",
       "\\item 6\n",
       "\\item 7\n",
       "\\item 8\n",
       "\\item 9\n",
       "\\item 10\n",
       "\\end{enumerate*}\n"
      ],
      "text/markdown": [
       "1. 1\n",
       "2. 2\n",
       "3. 3\n",
       "4. 4\n",
       "5. 5\n",
       "6. 6\n",
       "7. 7\n",
       "8. 8\n",
       "9. 9\n",
       "10. 10\n",
       "\n",
       "\n"
      ],
      "text/plain": [
       " [1]  1  2  3  4  5  6  7  8  9 10"
      ]
     },
     "metadata": {},
     "output_type": "display_data"
    }
   ],
   "source": [
    "#Vectors\n",
    "print(2:17)\n",
    "vecVar <- 2:17\n",
    "sqVecVariable <- vecVar^2\n",
    "vecVar\n",
    "sqVecVariable\n",
    "c(1,10)\n",
    "c(1:10)\n",
    "c(1:10) -> a\n",
    "a\n",
    "1:10\n",
    "seq(1,10)"
   ]
  },
  {
   "cell_type": "code",
   "execution_count": 246,
   "metadata": {},
   "outputs": [
    {
     "data": {
      "text/html": [
       "<ol class=list-inline>\n",
       "\t<li>'a'</li>\n",
       "\t<li>'A'</li>\n",
       "\t<li>'Aaddrow'</li>\n",
       "\t<li>'calendar'</li>\n",
       "\t<li>'calendar2'</li>\n",
       "\t<li>'colnames'</li>\n",
       "\t<li>'colNames'</li>\n",
       "\t<li>'df'</li>\n",
       "\t<li>'df2'</li>\n",
       "\t<li>'Employed'</li>\n",
       "\t<li>'gender'</li>\n",
       "\t<li>'mat'</li>\n",
       "\t<li>'matlet'</li>\n",
       "\t<li>'matlist'</li>\n",
       "\t<li>'n'</li>\n",
       "\t<li>'newdf'</li>\n",
       "\t<li>'res'</li>\n",
       "\t<li>'rowNames'</li>\n",
       "\t<li>'s_n'</li>\n",
       "\t<li>'sampleVector'</li>\n",
       "\t<li>'series1'</li>\n",
       "\t<li>'series2'</li>\n",
       "\t<li>'series3'</li>\n",
       "\t<li>'series4'</li>\n",
       "\t<li>'squareSampleVector'</li>\n",
       "\t<li>'studentg'</li>\n",
       "\t<li>'v'</li>\n",
       "\t<li>'women'</li>\n",
       "</ol>\n"
      ],
      "text/latex": [
       "\\begin{enumerate*}\n",
       "\\item 'a'\n",
       "\\item 'A'\n",
       "\\item 'Aaddrow'\n",
       "\\item 'calendar'\n",
       "\\item 'calendar2'\n",
       "\\item 'colnames'\n",
       "\\item 'colNames'\n",
       "\\item 'df'\n",
       "\\item 'df2'\n",
       "\\item 'Employed'\n",
       "\\item 'gender'\n",
       "\\item 'mat'\n",
       "\\item 'matlet'\n",
       "\\item 'matlist'\n",
       "\\item 'n'\n",
       "\\item 'newdf'\n",
       "\\item 'res'\n",
       "\\item 'rowNames'\n",
       "\\item 's\\_n'\n",
       "\\item 'sampleVector'\n",
       "\\item 'series1'\n",
       "\\item 'series2'\n",
       "\\item 'series3'\n",
       "\\item 'series4'\n",
       "\\item 'squareSampleVector'\n",
       "\\item 'studentg'\n",
       "\\item 'v'\n",
       "\\item 'women'\n",
       "\\end{enumerate*}\n"
      ],
      "text/markdown": [
       "1. 'a'\n",
       "2. 'A'\n",
       "3. 'Aaddrow'\n",
       "4. 'calendar'\n",
       "5. 'calendar2'\n",
       "6. 'colnames'\n",
       "7. 'colNames'\n",
       "8. 'df'\n",
       "9. 'df2'\n",
       "10. 'Employed'\n",
       "11. 'gender'\n",
       "12. 'mat'\n",
       "13. 'matlet'\n",
       "14. 'matlist'\n",
       "15. 'n'\n",
       "16. 'newdf'\n",
       "17. 'res'\n",
       "18. 'rowNames'\n",
       "19. 's_n'\n",
       "20. 'sampleVector'\n",
       "21. 'series1'\n",
       "22. 'series2'\n",
       "23. 'series3'\n",
       "24. 'series4'\n",
       "25. 'squareSampleVector'\n",
       "26. 'studentg'\n",
       "27. 'v'\n",
       "28. 'women'\n",
       "\n",
       "\n"
      ],
      "text/plain": [
       " [1] \"a\"                  \"A\"                  \"Aaddrow\"           \n",
       " [4] \"calendar\"           \"calendar2\"          \"colnames\"          \n",
       " [7] \"colNames\"           \"df\"                 \"df2\"               \n",
       "[10] \"Employed\"           \"gender\"             \"mat\"               \n",
       "[13] \"matlet\"             \"matlist\"            \"n\"                 \n",
       "[16] \"newdf\"              \"res\"                \"rowNames\"          \n",
       "[19] \"s_n\"                \"sampleVector\"       \"series1\"           \n",
       "[22] \"series2\"            \"series3\"            \"series4\"           \n",
       "[25] \"squareSampleVector\" \"studentg\"           \"v\"                 \n",
       "[28] \"women\"             "
      ]
     },
     "metadata": {},
     "output_type": "display_data"
    },
    {
     "data": {
      "text/plain": [
       "NULL"
      ]
     },
     "metadata": {},
     "output_type": "display_data"
    },
    {
     "data": {
      "text/html": [
       "'C:/Mlaai/deeplearning/Code/Projects/Data'"
      ],
      "text/latex": [
       "'C:/Mlaai/deeplearning/Code/Projects/Data'"
      ],
      "text/markdown": [
       "'C:/Mlaai/deeplearning/Code/Projects/Data'"
      ],
      "text/plain": [
       "[1] \"C:/Mlaai/deeplearning/Code/Projects/Data\""
      ]
     },
     "metadata": {},
     "output_type": "display_data"
    }
   ],
   "source": [
    "# Built in functions\n",
    "ls()\n",
    "c()\n",
    "getwd()"
   ]
  },
  {
   "cell_type": "code",
   "execution_count": 40,
   "metadata": {},
   "outputs": [
    {
     "data": {
      "text/html": [],
      "text/latex": [],
      "text/markdown": [],
      "text/plain": [
       "character(0)"
      ]
     },
     "metadata": {},
     "output_type": "display_data"
    }
   ],
   "source": [
    "#Removes variables from memory\n",
    "rm(list=ls())\n",
    "ls()"
   ]
  },
  {
   "cell_type": "code",
   "execution_count": 49,
   "metadata": {},
   "outputs": [
    {
     "name": "stdout",
     "output_type": "stream",
     "text": [
      "package 'dplyr' successfully unpacked and MD5 sums checked\n",
      "\n",
      "The downloaded binary packages are in\n",
      "\tC:\\Users\\anura\\AppData\\Local\\Temp\\RtmpuW6WIl\\downloaded_packages\n"
     ]
    }
   ],
   "source": [
    "#Data manipulation package - \n",
    "install.packages('dplyr')"
   ]
  },
  {
   "cell_type": "code",
   "execution_count": 45,
   "metadata": {},
   "outputs": [],
   "source": [
    "#load Library\n",
    "library(ggplot2)"
   ]
  },
  {
   "cell_type": "code",
   "execution_count": 64,
   "metadata": {},
   "outputs": [
    {
     "data": {
      "image/png": "[encoded data removed]",
      "text/plain": [
       "plot without title"
      ]
     },
     "metadata": {},
     "output_type": "display_data"
    },
    {
     "data": {
      "image/png": "[encoded data removed]",
      "text/plain": [
       "plot without title"
      ]
     },
     "metadata": {},
     "output_type": "display_data"
    }
   ],
   "source": [
    "#Plot n vs 2n+1\n",
    "n <- 1:10\n",
    "s_n <- 2*n + 1\n",
    "plot(n, s_n)\n",
    "plot(n, s_n, type='b') # use b, c, l"
   ]
  },
  {
   "cell_type": "code",
   "execution_count": 68,
   "metadata": {},
   "outputs": [
    {
     "data": {
      "text/html": [
       "'character'"
      ],
      "text/latex": [
       "'character'"
      ],
      "text/markdown": [
       "'character'"
      ],
      "text/plain": [
       "[1] \"character\""
      ]
     },
     "metadata": {},
     "output_type": "display_data"
    },
    {
     "data": {
      "text/html": [
       "'character'"
      ],
      "text/latex": [
       "'character'"
      ],
      "text/markdown": [
       "'character'"
      ],
      "text/plain": [
       "[1] \"character\""
      ]
     },
     "metadata": {},
     "output_type": "display_data"
    },
    {
     "name": "stdout",
     "output_type": "stream",
     "text": [
      " chr [1:3] \"Paris\" \"London\" \"Rome\"\n"
     ]
    }
   ],
   "source": [
    "a <- c(\"Paris\", \"London\", \"Rome\")\n",
    "class(a)\n",
    "mode(a)\n",
    "str(a)"
   ]
  },
  {
   "cell_type": "code",
   "execution_count": 96,
   "metadata": {},
   "outputs": [
    {
     "data": {
      "text/html": [
       "<ol class=list-inline>\n",
       "\t<li>4</li>\n",
       "\t<li>6</li>\n",
       "\t<li>8</li>\n",
       "\t<li>10</li>\n",
       "\t<li>12</li>\n",
       "</ol>\n"
      ],
      "text/latex": [
       "\\begin{enumerate*}\n",
       "\\item 4\n",
       "\\item 6\n",
       "\\item 8\n",
       "\\item 10\n",
       "\\item 12\n",
       "\\end{enumerate*}\n"
      ],
      "text/markdown": [
       "1. 4\n",
       "2. 6\n",
       "3. 8\n",
       "4. 10\n",
       "5. 12\n",
       "\n",
       "\n"
      ],
      "text/plain": [
       "[1]  4  6  8 10 12"
      ]
     },
     "metadata": {},
     "output_type": "display_data"
    },
    {
     "data": {
      "text/html": [
       "<ol class=list-inline>\n",
       "\t<li>4</li>\n",
       "\t<li>8</li>\n",
       "\t<li>12</li>\n",
       "\t<li>16</li>\n",
       "\t<li>20</li>\n",
       "</ol>\n"
      ],
      "text/latex": [
       "\\begin{enumerate*}\n",
       "\\item 4\n",
       "\\item 8\n",
       "\\item 12\n",
       "\\item 16\n",
       "\\item 20\n",
       "\\end{enumerate*}\n"
      ],
      "text/markdown": [
       "1. 4\n",
       "2. 8\n",
       "3. 12\n",
       "4. 16\n",
       "5. 20\n",
       "\n",
       "\n"
      ],
      "text/plain": [
       "[1]  4  8 12 16 20"
      ]
     },
     "metadata": {},
     "output_type": "display_data"
    },
    {
     "data": {
      "text/html": [
       "<ol class=list-inline>\n",
       "\t<li>1</li>\n",
       "\t<li>2</li>\n",
       "\t<li>3</li>\n",
       "\t<li>4</li>\n",
       "\t<li>5</li>\n",
       "</ol>\n"
      ],
      "text/latex": [
       "\\begin{enumerate*}\n",
       "\\item 1\n",
       "\\item 2\n",
       "\\item 3\n",
       "\\item 4\n",
       "\\item 5\n",
       "\\end{enumerate*}\n"
      ],
      "text/markdown": [
       "1. 1\n",
       "2. 2\n",
       "3. 3\n",
       "4. 4\n",
       "5. 5\n",
       "\n",
       "\n"
      ],
      "text/plain": [
       "[1] 1 2 3 4 5"
      ]
     },
     "metadata": {},
     "output_type": "display_data"
    },
    {
     "data": {
      "text/html": [
       "<ol class=list-inline>\n",
       "\t<li>3</li>\n",
       "\t<li>7</li>\n",
       "\t<li>11</li>\n",
       "\t<li>15</li>\n",
       "\t<li>19</li>\n",
       "</ol>\n"
      ],
      "text/latex": [
       "\\begin{enumerate*}\n",
       "\\item 3\n",
       "\\item 7\n",
       "\\item 11\n",
       "\\item 15\n",
       "\\item 19\n",
       "\\end{enumerate*}\n"
      ],
      "text/markdown": [
       "1. 3\n",
       "2. 7\n",
       "3. 11\n",
       "4. 15\n",
       "5. 19\n",
       "\n",
       "\n"
      ],
      "text/plain": [
       "[1]  3  7 11 15 19"
      ]
     },
     "metadata": {},
     "output_type": "display_data"
    },
    {
     "data": {
      "text/html": [
       "<ol class=list-inline>\n",
       "\t<li>2</li>\n",
       "\t<li>4</li>\n",
       "\t<li>6</li>\n",
       "\t<li>8</li>\n",
       "\t<li>10</li>\n",
       "\t<li>1</li>\n",
       "\t<li>3</li>\n",
       "\t<li>5</li>\n",
       "\t<li>7</li>\n",
       "\t<li>9</li>\n",
       "</ol>\n"
      ],
      "text/latex": [
       "\\begin{enumerate*}\n",
       "\\item 2\n",
       "\\item 4\n",
       "\\item 6\n",
       "\\item 8\n",
       "\\item 10\n",
       "\\item 1\n",
       "\\item 3\n",
       "\\item 5\n",
       "\\item 7\n",
       "\\item 9\n",
       "\\end{enumerate*}\n"
      ],
      "text/markdown": [
       "1. 2\n",
       "2. 4\n",
       "3. 6\n",
       "4. 8\n",
       "5. 10\n",
       "6. 1\n",
       "7. 3\n",
       "8. 5\n",
       "9. 7\n",
       "10. 9\n",
       "\n",
       "\n"
      ],
      "text/plain": [
       " [1]  2  4  6  8 10  1  3  5  7  9"
      ]
     },
     "metadata": {},
     "output_type": "display_data"
    },
    {
     "data": {
      "text/html": [
       "<ol class=list-inline>\n",
       "\t<li>4</li>\n",
       "\t<li>8</li>\n",
       "\t<li>12</li>\n",
       "\t<li>16</li>\n",
       "\t<li>20</li>\n",
       "\t<li>3</li>\n",
       "\t<li>7</li>\n",
       "\t<li>11</li>\n",
       "\t<li>15</li>\n",
       "\t<li>19</li>\n",
       "</ol>\n"
      ],
      "text/latex": [
       "\\begin{enumerate*}\n",
       "\\item 4\n",
       "\\item 8\n",
       "\\item 12\n",
       "\\item 16\n",
       "\\item 20\n",
       "\\item 3\n",
       "\\item 7\n",
       "\\item 11\n",
       "\\item 15\n",
       "\\item 19\n",
       "\\end{enumerate*}\n"
      ],
      "text/markdown": [
       "1. 4\n",
       "2. 8\n",
       "3. 12\n",
       "4. 16\n",
       "5. 20\n",
       "6. 3\n",
       "7. 7\n",
       "8. 11\n",
       "9. 15\n",
       "10. 19\n",
       "\n",
       "\n"
      ],
      "text/plain": [
       " [1]  4  8 12 16 20  3  7 11 15 19"
      ]
     },
     "metadata": {},
     "output_type": "display_data"
    },
    {
     "data": {
      "text/html": [
       "6"
      ],
      "text/latex": [
       "6"
      ],
      "text/markdown": [
       "6"
      ],
      "text/plain": [
       "[1] 6"
      ]
     },
     "metadata": {},
     "output_type": "display_data"
    },
    {
     "data": {
      "text/html": [
       "7"
      ],
      "text/latex": [
       "7"
      ],
      "text/markdown": [
       "7"
      ],
      "text/plain": [
       "[1] 7"
      ]
     },
     "metadata": {},
     "output_type": "display_data"
    },
    {
     "data": {
      "text/html": [
       "<ol class=list-inline>\n",
       "\t<li>1.4142135623731</li>\n",
       "\t<li>1.73205080756888</li>\n",
       "\t<li>2.64575131106459</li>\n",
       "\t<li>3.3166247903554</li>\n",
       "\t<li>3.60555127546399</li>\n",
       "\t<li>4.12310562561766</li>\n",
       "\t<li>4.35889894354067</li>\n",
       "</ol>\n"
      ],
      "text/latex": [
       "\\begin{enumerate*}\n",
       "\\item 1.4142135623731\n",
       "\\item 1.73205080756888\n",
       "\\item 2.64575131106459\n",
       "\\item 3.3166247903554\n",
       "\\item 3.60555127546399\n",
       "\\item 4.12310562561766\n",
       "\\item 4.35889894354067\n",
       "\\end{enumerate*}\n"
      ],
      "text/markdown": [
       "1. 1.4142135623731\n",
       "2. 1.73205080756888\n",
       "3. 2.64575131106459\n",
       "4. 3.3166247903554\n",
       "5. 3.60555127546399\n",
       "6. 4.12310562561766\n",
       "7. 4.35889894354067\n",
       "\n",
       "\n"
      ],
      "text/plain": [
       "[1] 1.414214 1.732051 2.645751 3.316625 3.605551 4.123106 4.358899"
      ]
     },
     "metadata": {},
     "output_type": "display_data"
    },
    {
     "data": {
      "text/html": [
       "<ol class=list-inline>\n",
       "\t<li>2</li>\n",
       "\t<li>3</li>\n",
       "\t<li>7</li>\n",
       "\t<li>11</li>\n",
       "\t<li>13</li>\n",
       "\t<li>17</li>\n",
       "\t<li>19</li>\n",
       "</ol>\n"
      ],
      "text/latex": [
       "\\begin{enumerate*}\n",
       "\\item 2\n",
       "\\item 3\n",
       "\\item 7\n",
       "\\item 11\n",
       "\\item 13\n",
       "\\item 17\n",
       "\\item 19\n",
       "\\end{enumerate*}\n"
      ],
      "text/markdown": [
       "1. 2\n",
       "2. 3\n",
       "3. 7\n",
       "4. 11\n",
       "5. 13\n",
       "6. 17\n",
       "7. 19\n",
       "\n",
       "\n"
      ],
      "text/plain": [
       "[1]  2  3  7 11 13 17 19"
      ]
     },
     "metadata": {},
     "output_type": "display_data"
    },
    {
     "data": {
      "text/html": [
       "<ol class=list-inline>\n",
       "\t<li>2</li>\n",
       "\t<li>11</li>\n",
       "\t<li>19</li>\n",
       "</ol>\n"
      ],
      "text/latex": [
       "\\begin{enumerate*}\n",
       "\\item 2\n",
       "\\item 11\n",
       "\\item 19\n",
       "\\end{enumerate*}\n"
      ],
      "text/markdown": [
       "1. 2\n",
       "2. 11\n",
       "3. 19\n",
       "\n",
       "\n"
      ],
      "text/plain": [
       "[1]  2 11 19"
      ]
     },
     "metadata": {},
     "output_type": "display_data"
    },
    {
     "data": {
      "text/html": [
       "<ol class=list-inline>\n",
       "\t<li>6</li>\n",
       "\t<li>8</li>\n",
       "\t<li>10</li>\n",
       "\t<li>7</li>\n",
       "\t<li>9</li>\n",
       "</ol>\n"
      ],
      "text/latex": [
       "\\begin{enumerate*}\n",
       "\\item 6\n",
       "\\item 8\n",
       "\\item 10\n",
       "\\item 7\n",
       "\\item 9\n",
       "\\end{enumerate*}\n"
      ],
      "text/markdown": [
       "1. 6\n",
       "2. 8\n",
       "3. 10\n",
       "4. 7\n",
       "5. 9\n",
       "\n",
       "\n"
      ],
      "text/plain": [
       "[1]  6  8 10  7  9"
      ]
     },
     "metadata": {},
     "output_type": "display_data"
    },
    {
     "data": {
      "text/html": [
       "<ol class=list-inline>\n",
       "\t<li>2</li>\n",
       "\t<li>6</li>\n",
       "\t<li>8</li>\n",
       "\t<li>10</li>\n",
       "\t<li>1</li>\n",
       "\t<li>3</li>\n",
       "\t<li>5</li>\n",
       "\t<li>7</li>\n",
       "\t<li>9</li>\n",
       "</ol>\n"
      ],
      "text/latex": [
       "\\begin{enumerate*}\n",
       "\\item 2\n",
       "\\item 6\n",
       "\\item 8\n",
       "\\item 10\n",
       "\\item 1\n",
       "\\item 3\n",
       "\\item 5\n",
       "\\item 7\n",
       "\\item 9\n",
       "\\end{enumerate*}\n"
      ],
      "text/markdown": [
       "1. 2\n",
       "2. 6\n",
       "3. 8\n",
       "4. 10\n",
       "5. 1\n",
       "6. 3\n",
       "7. 5\n",
       "8. 7\n",
       "9. 9\n",
       "\n",
       "\n"
      ],
      "text/plain": [
       "[1]  2  6  8 10  1  3  5  7  9"
      ]
     },
     "metadata": {},
     "output_type": "display_data"
    }
   ],
   "source": [
    "#Indexing and Subsetting with Index Vector\n",
    "series1 <- c(2,4,6,8,10)\n",
    "series2 <- c(1,3,5,7,9)\n",
    "series3 <- c(series1,series2)\n",
    "series1+2\n",
    "series1*2\n",
    "series1/2\n",
    "series1+series2\n",
    "series3\n",
    "series3+series1\n",
    "series1[3]\n",
    "series4 <- c(2,3,7,11,13,17,19)\n",
    "which.max(series4)\n",
    "sqrt(series4)\n",
    "series4\n",
    "series4[seq(1,7,by=3)]\n",
    "series3[series3 > 5]\n",
    "series3[-2]"
   ]
  },
  {
   "cell_type": "code",
   "execution_count": 97,
   "metadata": {},
   "outputs": [
    {
     "data": {
      "text/html": [
       "<ol class=list-inline>\n",
       "\t<li>3</li>\n",
       "\t<li>2</li>\n",
       "\t<li>4</li>\n",
       "\t<li>10</li>\n",
       "\t<li>8</li>\n",
       "</ol>\n"
      ],
      "text/latex": [
       "\\begin{enumerate*}\n",
       "\\item 3\n",
       "\\item 2\n",
       "\\item 4\n",
       "\\item 10\n",
       "\\item 8\n",
       "\\end{enumerate*}\n"
      ],
      "text/markdown": [
       "1. 3\n",
       "2. 2\n",
       "3. 4\n",
       "4. 10\n",
       "5. 8\n",
       "\n",
       "\n"
      ],
      "text/plain": [
       "[1]  3  2  4 10  8"
      ]
     },
     "metadata": {},
     "output_type": "display_data"
    },
    {
     "data": {
      "text/html": [
       "<ol class=list-inline>\n",
       "\t<li>3</li>\n",
       "\t<li>10</li>\n",
       "\t<li>6</li>\n",
       "\t<li>9</li>\n",
       "\t<li>4</li>\n",
       "</ol>\n"
      ],
      "text/latex": [
       "\\begin{enumerate*}\n",
       "\\item 3\n",
       "\\item 10\n",
       "\\item 6\n",
       "\\item 9\n",
       "\\item 4\n",
       "\\end{enumerate*}\n"
      ],
      "text/markdown": [
       "1. 3\n",
       "2. 10\n",
       "3. 6\n",
       "4. 9\n",
       "5. 4\n",
       "\n",
       "\n"
      ],
      "text/plain": [
       "[1]  3 10  6  9  4"
      ]
     },
     "metadata": {},
     "output_type": "display_data"
    },
    {
     "data": {
      "text/html": [
       "<ol class=list-inline>\n",
       "\t<li>7</li>\n",
       "\t<li>6</li>\n",
       "\t<li>9</li>\n",
       "\t<li>4</li>\n",
       "\t<li>3</li>\n",
       "</ol>\n"
      ],
      "text/latex": [
       "\\begin{enumerate*}\n",
       "\\item 7\n",
       "\\item 6\n",
       "\\item 9\n",
       "\\item 4\n",
       "\\item 3\n",
       "\\end{enumerate*}\n"
      ],
      "text/markdown": [
       "1. 7\n",
       "2. 6\n",
       "3. 9\n",
       "4. 4\n",
       "5. 3\n",
       "\n",
       "\n"
      ],
      "text/plain": [
       "[1] 7 6 9 4 3"
      ]
     },
     "metadata": {},
     "output_type": "display_data"
    }
   ],
   "source": [
    "#Taking Random samples\n",
    "sample(series3,size=5)\n",
    "sample(series3,size=5)\n",
    "sample(series3,size=5)"
   ]
  },
  {
   "cell_type": "code",
   "execution_count": 98,
   "metadata": {},
   "outputs": [
    {
     "data": {
      "text/html": [
       "<ol class=list-inline>\n",
       "\t<li>4</li>\n",
       "\t<li>1</li>\n",
       "\t<li>10</li>\n",
       "\t<li>5</li>\n",
       "\t<li>7</li>\n",
       "</ol>\n"
      ],
      "text/latex": [
       "\\begin{enumerate*}\n",
       "\\item 4\n",
       "\\item 1\n",
       "\\item 10\n",
       "\\item 5\n",
       "\\item 7\n",
       "\\end{enumerate*}\n"
      ],
      "text/markdown": [
       "1. 4\n",
       "2. 1\n",
       "3. 10\n",
       "4. 5\n",
       "5. 7\n",
       "\n",
       "\n"
      ],
      "text/plain": [
       "[1]  4  1 10  5  7"
      ]
     },
     "metadata": {},
     "output_type": "display_data"
    },
    {
     "data": {
      "text/html": [
       "<ol class=list-inline>\n",
       "\t<li>3</li>\n",
       "\t<li>2</li>\n",
       "\t<li>4</li>\n",
       "\t<li>10</li>\n",
       "\t<li>8</li>\n",
       "</ol>\n"
      ],
      "text/latex": [
       "\\begin{enumerate*}\n",
       "\\item 3\n",
       "\\item 2\n",
       "\\item 4\n",
       "\\item 10\n",
       "\\item 8\n",
       "\\end{enumerate*}\n"
      ],
      "text/markdown": [
       "1. 3\n",
       "2. 2\n",
       "3. 4\n",
       "4. 10\n",
       "5. 8\n",
       "\n",
       "\n"
      ],
      "text/plain": [
       "[1]  3  2  4 10  8"
      ]
     },
     "metadata": {},
     "output_type": "display_data"
    },
    {
     "data": {
      "text/html": [
       "<ol class=list-inline>\n",
       "\t<li>4</li>\n",
       "\t<li>1</li>\n",
       "\t<li>10</li>\n",
       "\t<li>5</li>\n",
       "\t<li>7</li>\n",
       "</ol>\n"
      ],
      "text/latex": [
       "\\begin{enumerate*}\n",
       "\\item 4\n",
       "\\item 1\n",
       "\\item 10\n",
       "\\item 5\n",
       "\\item 7\n",
       "\\end{enumerate*}\n"
      ],
      "text/markdown": [
       "1. 4\n",
       "2. 1\n",
       "3. 10\n",
       "4. 5\n",
       "5. 7\n",
       "\n",
       "\n"
      ],
      "text/plain": [
       "[1]  4  1 10  5  7"
      ]
     },
     "metadata": {},
     "output_type": "display_data"
    }
   ],
   "source": [
    "#Setting a seed\n",
    "set.seed(1234)\n",
    "sample(series3,size=5)\n",
    "sample(series3,size=5)\n",
    "set.seed(1234)\n",
    "sample(series3,size=5)"
   ]
  },
  {
   "cell_type": "code",
   "execution_count": 105,
   "metadata": {},
   "outputs": [
    {
     "data": {
      "text/html": [
       "<ol class=list-inline>\n",
       "\t<li>2</li>\n",
       "\t<li>4</li>\n",
       "\t<li>6</li>\n",
       "\t<li>8</li>\n",
       "\t<li>10</li>\n",
       "\t<li>1</li>\n",
       "\t<li>3</li>\n",
       "\t<li>5</li>\n",
       "\t<li>7</li>\n",
       "\t<li>9</li>\n",
       "</ol>\n"
      ],
      "text/latex": [
       "\\begin{enumerate*}\n",
       "\\item 2\n",
       "\\item 4\n",
       "\\item 6\n",
       "\\item 8\n",
       "\\item 10\n",
       "\\item 1\n",
       "\\item 3\n",
       "\\item 5\n",
       "\\item 7\n",
       "\\item 9\n",
       "\\end{enumerate*}\n"
      ],
      "text/markdown": [
       "1. 2\n",
       "2. 4\n",
       "3. 6\n",
       "4. 8\n",
       "5. 10\n",
       "6. 1\n",
       "7. 3\n",
       "8. 5\n",
       "9. 7\n",
       "10. 9\n",
       "\n",
       "\n"
      ],
      "text/plain": [
       " [1]  2  4  6  8 10  1  3  5  7  9"
      ]
     },
     "metadata": {},
     "output_type": "display_data"
    },
    {
     "ename": "ERROR",
     "evalue": "Error in sample.int(length(x), size, replace, prob): cannot take a sample larger than the population when 'replace = FALSE'\n",
     "output_type": "error",
     "traceback": [
      "Error in sample.int(length(x), size, replace, prob): cannot take a sample larger than the population when 'replace = FALSE'\nTraceback:\n",
      "1. sample(series3, size = 11)",
      "2. sample.int(length(x), size, replace, prob)"
     ]
    }
   ],
   "source": [
    "#Sample\n",
    "series3\n",
    "sample(series3,size=11)"
   ]
  },
  {
   "cell_type": "code",
   "execution_count": 111,
   "metadata": {},
   "outputs": [
    {
     "data": {
      "text/html": [
       "<ol class=list-inline>\n",
       "\t<li>2</li>\n",
       "\t<li>4</li>\n",
       "\t<li>6</li>\n",
       "\t<li>8</li>\n",
       "\t<li>10</li>\n",
       "\t<li>1</li>\n",
       "\t<li>3</li>\n",
       "\t<li>5</li>\n",
       "\t<li>7</li>\n",
       "\t<li>9</li>\n",
       "</ol>\n"
      ],
      "text/latex": [
       "\\begin{enumerate*}\n",
       "\\item 2\n",
       "\\item 4\n",
       "\\item 6\n",
       "\\item 8\n",
       "\\item 10\n",
       "\\item 1\n",
       "\\item 3\n",
       "\\item 5\n",
       "\\item 7\n",
       "\\item 9\n",
       "\\end{enumerate*}\n"
      ],
      "text/markdown": [
       "1. 2\n",
       "2. 4\n",
       "3. 6\n",
       "4. 8\n",
       "5. 10\n",
       "6. 1\n",
       "7. 3\n",
       "8. 5\n",
       "9. 7\n",
       "10. 9\n",
       "\n",
       "\n"
      ],
      "text/plain": [
       " [1]  2  4  6  8 10  1  3  5  7  9"
      ]
     },
     "metadata": {},
     "output_type": "display_data"
    },
    {
     "data": {
      "text/html": [
       "<ol class=list-inline>\n",
       "\t<li>8</li>\n",
       "\t<li>10</li>\n",
       "\t<li>8</li>\n",
       "\t<li>3</li>\n",
       "\t<li>5</li>\n",
       "\t<li>1</li>\n",
       "\t<li>9</li>\n",
       "\t<li>1</li>\n",
       "\t<li>10</li>\n",
       "\t<li>6</li>\n",
       "\t<li>2</li>\n",
       "</ol>\n"
      ],
      "text/latex": [
       "\\begin{enumerate*}\n",
       "\\item 8\n",
       "\\item 10\n",
       "\\item 8\n",
       "\\item 3\n",
       "\\item 5\n",
       "\\item 1\n",
       "\\item 9\n",
       "\\item 1\n",
       "\\item 10\n",
       "\\item 6\n",
       "\\item 2\n",
       "\\end{enumerate*}\n"
      ],
      "text/markdown": [
       "1. 8\n",
       "2. 10\n",
       "3. 8\n",
       "4. 3\n",
       "5. 5\n",
       "6. 1\n",
       "7. 9\n",
       "8. 1\n",
       "9. 10\n",
       "10. 6\n",
       "11. 2\n",
       "\n",
       "\n"
      ],
      "text/plain": [
       " [1]  8 10  8  3  5  1  9  1 10  6  2"
      ]
     },
     "metadata": {},
     "output_type": "display_data"
    },
    {
     "data": {
      "text/html": [
       "<ol class=list-inline>\n",
       "\t<li>7</li>\n",
       "\t<li>6</li>\n",
       "\t<li>9</li>\n",
       "\t<li>3</li>\n",
       "\t<li>9</li>\n",
       "\t<li>8</li>\n",
       "\t<li>1</li>\n",
       "\t<li>10</li>\n",
       "\t<li>1</li>\n",
       "\t<li>10</li>\n",
       "</ol>\n"
      ],
      "text/latex": [
       "\\begin{enumerate*}\n",
       "\\item 7\n",
       "\\item 6\n",
       "\\item 9\n",
       "\\item 3\n",
       "\\item 9\n",
       "\\item 8\n",
       "\\item 1\n",
       "\\item 10\n",
       "\\item 1\n",
       "\\item 10\n",
       "\\end{enumerate*}\n"
      ],
      "text/markdown": [
       "1. 7\n",
       "2. 6\n",
       "3. 9\n",
       "4. 3\n",
       "5. 9\n",
       "6. 8\n",
       "7. 1\n",
       "8. 10\n",
       "9. 1\n",
       "10. 10\n",
       "\n",
       "\n"
      ],
      "text/plain": [
       " [1]  7  6  9  3  9  8  1 10  1 10"
      ]
     },
     "metadata": {},
     "output_type": "display_data"
    },
    {
     "data": {
      "text/html": [
       "<ol class=list-inline>\n",
       "\t<li>6</li>\n",
       "\t<li>2</li>\n",
       "\t<li>3</li>\n",
       "\t<li>10</li>\n",
       "\t<li>2</li>\n",
       "\t<li>7</li>\n",
       "\t<li>8</li>\n",
       "\t<li>5</li>\n",
       "\t<li>1</li>\n",
       "\t<li>5</li>\n",
       "</ol>\n"
      ],
      "text/latex": [
       "\\begin{enumerate*}\n",
       "\\item 6\n",
       "\\item 2\n",
       "\\item 3\n",
       "\\item 10\n",
       "\\item 2\n",
       "\\item 7\n",
       "\\item 8\n",
       "\\item 5\n",
       "\\item 1\n",
       "\\item 5\n",
       "\\end{enumerate*}\n"
      ],
      "text/markdown": [
       "1. 6\n",
       "2. 2\n",
       "3. 3\n",
       "4. 10\n",
       "5. 2\n",
       "6. 7\n",
       "7. 8\n",
       "8. 5\n",
       "9. 1\n",
       "10. 5\n",
       "\n",
       "\n"
      ],
      "text/plain": [
       " [1]  6  2  3 10  2  7  8  5  1  5"
      ]
     },
     "metadata": {},
     "output_type": "display_data"
    },
    {
     "data": {
      "text/html": [
       "<ol class=list-inline>\n",
       "\t<li>10</li>\n",
       "\t<li>8</li>\n",
       "\t<li>3</li>\n",
       "\t<li>6</li>\n",
       "\t<li>7</li>\n",
       "\t<li>2</li>\n",
       "\t<li>4</li>\n",
       "\t<li>1</li>\n",
       "\t<li>9</li>\n",
       "\t<li>5</li>\n",
       "</ol>\n"
      ],
      "text/latex": [
       "\\begin{enumerate*}\n",
       "\\item 10\n",
       "\\item 8\n",
       "\\item 3\n",
       "\\item 6\n",
       "\\item 7\n",
       "\\item 2\n",
       "\\item 4\n",
       "\\item 1\n",
       "\\item 9\n",
       "\\item 5\n",
       "\\end{enumerate*}\n"
      ],
      "text/markdown": [
       "1. 10\n",
       "2. 8\n",
       "3. 3\n",
       "4. 6\n",
       "5. 7\n",
       "6. 2\n",
       "7. 4\n",
       "8. 1\n",
       "9. 9\n",
       "10. 5\n",
       "\n",
       "\n"
      ],
      "text/plain": [
       " [1] 10  8  3  6  7  2  4  1  9  5"
      ]
     },
     "metadata": {},
     "output_type": "display_data"
    },
    {
     "data": {
      "text/html": [
       "<ol class=list-inline>\n",
       "\t<li>2</li>\n",
       "\t<li>7</li>\n",
       "\t<li>9</li>\n",
       "\t<li>1</li>\n",
       "\t<li>8</li>\n",
       "\t<li>4</li>\n",
       "\t<li>6</li>\n",
       "\t<li>10</li>\n",
       "\t<li>3</li>\n",
       "\t<li>5</li>\n",
       "</ol>\n"
      ],
      "text/latex": [
       "\\begin{enumerate*}\n",
       "\\item 2\n",
       "\\item 7\n",
       "\\item 9\n",
       "\\item 1\n",
       "\\item 8\n",
       "\\item 4\n",
       "\\item 6\n",
       "\\item 10\n",
       "\\item 3\n",
       "\\item 5\n",
       "\\end{enumerate*}\n"
      ],
      "text/markdown": [
       "1. 2\n",
       "2. 7\n",
       "3. 9\n",
       "4. 1\n",
       "5. 8\n",
       "6. 4\n",
       "7. 6\n",
       "8. 10\n",
       "9. 3\n",
       "10. 5\n",
       "\n",
       "\n"
      ],
      "text/plain": [
       " [1]  2  7  9  1  8  4  6 10  3  5"
      ]
     },
     "metadata": {},
     "output_type": "display_data"
    }
   ],
   "source": [
    "series3\n",
    "sample(series3,size=11,replace=TRUE)\n",
    "sample(series3,size=10,replace=TRUE)\n",
    "sample(series3,size=10,replace=TRUE)\n",
    "sample(series3,size=10,replace=FALSE)\n",
    "sample(series3,size=10,replace=FALSE)"
   ]
  },
  {
   "cell_type": "code",
   "execution_count": 113,
   "metadata": {},
   "outputs": [
    {
     "data": {
      "text/html": [
       "<ol class=list-inline>\n",
       "\t<li>4</li>\n",
       "\t<li>1</li>\n",
       "\t<li>10</li>\n",
       "\t<li>5</li>\n",
       "\t<li>7</li>\n",
       "</ol>\n"
      ],
      "text/latex": [
       "\\begin{enumerate*}\n",
       "\\item 4\n",
       "\\item 1\n",
       "\\item 10\n",
       "\\item 5\n",
       "\\item 7\n",
       "\\end{enumerate*}\n"
      ],
      "text/markdown": [
       "1. 4\n",
       "2. 1\n",
       "3. 10\n",
       "4. 5\n",
       "5. 7\n",
       "\n",
       "\n"
      ],
      "text/plain": [
       "[1]  4  1 10  5  7"
      ]
     },
     "metadata": {},
     "output_type": "display_data"
    }
   ],
   "source": [
    "set.seed(1234)\n",
    "sample(series3,size=5)"
   ]
  },
  {
   "cell_type": "code",
   "execution_count": 117,
   "metadata": {},
   "outputs": [
    {
     "data": {
      "text/html": [
       "<table>\n",
       "<tbody>\n",
       "\t<tr><td>1</td><td>4</td><td>7</td></tr>\n",
       "\t<tr><td>2</td><td>5</td><td>8</td></tr>\n",
       "\t<tr><td>3</td><td>6</td><td>9</td></tr>\n",
       "</tbody>\n",
       "</table>\n"
      ],
      "text/latex": [
       "\\begin{tabular}{lll}\n",
       "\t 1 & 4 & 7\\\\\n",
       "\t 2 & 5 & 8\\\\\n",
       "\t 3 & 6 & 9\\\\\n",
       "\\end{tabular}\n"
      ],
      "text/markdown": [
       "\n",
       "| 1 | 4 | 7 | \n",
       "| 2 | 5 | 8 | \n",
       "| 3 | 6 | 9 | \n",
       "\n",
       "\n"
      ],
      "text/plain": [
       "     [,1] [,2] [,3]\n",
       "[1,] 1    4    7   \n",
       "[2,] 2    5    8   \n",
       "[3,] 3    6    9   "
      ]
     },
     "metadata": {},
     "output_type": "display_data"
    }
   ],
   "source": [
    "#Matrix\n",
    "A <- matrix(c(1,2,3,4,5,6,7,8,9),nrow=3,ncol=3)\n",
    "A"
   ]
  },
  {
   "cell_type": "code",
   "execution_count": 119,
   "metadata": {},
   "outputs": [
    {
     "data": {
      "text/html": [
       "<table>\n",
       "<tbody>\n",
       "\t<tr><td>0</td><td>2</td><td>4</td><td>6</td><td>8</td></tr>\n",
       "\t<tr><td>1</td><td>3</td><td>5</td><td>7</td><td>9</td></tr>\n",
       "</tbody>\n",
       "</table>\n"
      ],
      "text/latex": [
       "\\begin{tabular}{lllll}\n",
       "\t 0 & 2 & 4 & 6 & 8\\\\\n",
       "\t 1 & 3 & 5 & 7 & 9\\\\\n",
       "\\end{tabular}\n"
      ],
      "text/markdown": [
       "\n",
       "| 0 | 2 | 4 | 6 | 8 | \n",
       "| 1 | 3 | 5 | 7 | 9 | \n",
       "\n",
       "\n"
      ],
      "text/plain": [
       "     [,1] [,2] [,3] [,4] [,5]\n",
       "[1,] 0    2    4    6    8   \n",
       "[2,] 1    3    5    7    9   "
      ]
     },
     "metadata": {},
     "output_type": "display_data"
    }
   ],
   "source": [
    "A <- matrix(c(0,1,2,3,4,5,6,7,8,9),nrow=2)\n",
    "A"
   ]
  },
  {
   "cell_type": "code",
   "execution_count": 124,
   "metadata": {},
   "outputs": [
    {
     "data": {
      "text/html": [
       "<table>\n",
       "<tbody>\n",
       "\t<tr><td>0</td><td>1</td><td>2</td><td>3</td><td>4</td></tr>\n",
       "\t<tr><td>5</td><td>6</td><td>7</td><td>8</td><td>9</td></tr>\n",
       "</tbody>\n",
       "</table>\n"
      ],
      "text/latex": [
       "\\begin{tabular}{lllll}\n",
       "\t 0 & 1 & 2 & 3 & 4\\\\\n",
       "\t 5 & 6 & 7 & 8 & 9\\\\\n",
       "\\end{tabular}\n"
      ],
      "text/markdown": [
       "\n",
       "| 0 | 1 | 2 | 3 | 4 | \n",
       "| 5 | 6 | 7 | 8 | 9 | \n",
       "\n",
       "\n"
      ],
      "text/plain": [
       "     [,1] [,2] [,3] [,4] [,5]\n",
       "[1,] 0    1    2    3    4   \n",
       "[2,] 5    6    7    8    9   "
      ]
     },
     "metadata": {},
     "output_type": "display_data"
    },
    {
     "data": {
      "text/html": [
       "'matrix'"
      ],
      "text/latex": [
       "'matrix'"
      ],
      "text/markdown": [
       "'matrix'"
      ],
      "text/plain": [
       "[1] \"matrix\""
      ]
     },
     "metadata": {},
     "output_type": "display_data"
    },
    {
     "data": {
      "text/html": [
       "4"
      ],
      "text/latex": [
       "4"
      ],
      "text/markdown": [
       "4"
      ],
      "text/plain": [
       "[1] 4"
      ]
     },
     "metadata": {},
     "output_type": "display_data"
    }
   ],
   "source": [
    "A <- matrix(c(0,1,2,3,4,5,6,7,8,9),nrow=2, byrow=TRUE)\n",
    "A\n",
    "class(A)\n",
    "A[1,5]"
   ]
  },
  {
   "cell_type": "code",
   "execution_count": 127,
   "metadata": {},
   "outputs": [
    {
     "data": {
      "text/html": [
       "<table>\n",
       "<tbody>\n",
       "\t<tr><td>0</td><td>1</td><td>2</td><td>3</td><td>4</td></tr>\n",
       "\t<tr><td>5</td><td>6</td><td>7</td><td>8</td><td>9</td></tr>\n",
       "\t<tr><td>4</td><td>3</td><td>2</td><td>1</td><td>0</td></tr>\n",
       "</tbody>\n",
       "</table>\n"
      ],
      "text/latex": [
       "\\begin{tabular}{lllll}\n",
       "\t 0 & 1 & 2 & 3 & 4\\\\\n",
       "\t 5 & 6 & 7 & 8 & 9\\\\\n",
       "\t 4 & 3 & 2 & 1 & 0\\\\\n",
       "\\end{tabular}\n"
      ],
      "text/markdown": [
       "\n",
       "| 0 | 1 | 2 | 3 | 4 | \n",
       "| 5 | 6 | 7 | 8 | 9 | \n",
       "| 4 | 3 | 2 | 1 | 0 | \n",
       "\n",
       "\n"
      ],
      "text/plain": [
       "     [,1] [,2] [,3] [,4] [,5]\n",
       "[1,] 0    1    2    3    4   \n",
       "[2,] 5    6    7    8    9   \n",
       "[3,] 4    3    2    1    0   "
      ]
     },
     "metadata": {},
     "output_type": "display_data"
    }
   ],
   "source": [
    "Aaddrow = rbind(A,c(4,3,2,1,0))\n",
    "Aaddrow"
   ]
  },
  {
   "cell_type": "code",
   "execution_count": 128,
   "metadata": {},
   "outputs": [
    {
     "data": {
      "text/html": [
       "<table>\n",
       "<tbody>\n",
       "\t<tr><td>0</td><td>1</td><td>2</td><td>3</td><td>4</td></tr>\n",
       "\t<tr><td>5</td><td>6</td><td>7</td><td>8</td><td>9</td></tr>\n",
       "\t<tr><td>0</td><td>1</td><td>2</td><td>3</td><td>4</td></tr>\n",
       "\t<tr><td>5</td><td>6</td><td>7</td><td>8</td><td>9</td></tr>\n",
       "\t<tr><td>4</td><td>3</td><td>2</td><td>1</td><td>0</td></tr>\n",
       "</tbody>\n",
       "</table>\n"
      ],
      "text/latex": [
       "\\begin{tabular}{lllll}\n",
       "\t 0 & 1 & 2 & 3 & 4\\\\\n",
       "\t 5 & 6 & 7 & 8 & 9\\\\\n",
       "\t 0 & 1 & 2 & 3 & 4\\\\\n",
       "\t 5 & 6 & 7 & 8 & 9\\\\\n",
       "\t 4 & 3 & 2 & 1 & 0\\\\\n",
       "\\end{tabular}\n"
      ],
      "text/markdown": [
       "\n",
       "| 0 | 1 | 2 | 3 | 4 | \n",
       "| 5 | 6 | 7 | 8 | 9 | \n",
       "| 0 | 1 | 2 | 3 | 4 | \n",
       "| 5 | 6 | 7 | 8 | 9 | \n",
       "| 4 | 3 | 2 | 1 | 0 | \n",
       "\n",
       "\n"
      ],
      "text/plain": [
       "     [,1] [,2] [,3] [,4] [,5]\n",
       "[1,] 0    1    2    3    4   \n",
       "[2,] 5    6    7    8    9   \n",
       "[3,] 0    1    2    3    4   \n",
       "[4,] 5    6    7    8    9   \n",
       "[5,] 4    3    2    1    0   "
      ]
     },
     "metadata": {},
     "output_type": "display_data"
    }
   ],
   "source": [
    "rbind(A,Aaddrow)"
   ]
  },
  {
   "cell_type": "code",
   "execution_count": 130,
   "metadata": {},
   "outputs": [
    {
     "data": {
      "text/html": [
       "<ol class=list-inline>\n",
       "\t<li>3</li>\n",
       "\t<li>5</li>\n",
       "</ol>\n"
      ],
      "text/latex": [
       "\\begin{enumerate*}\n",
       "\\item 3\n",
       "\\item 5\n",
       "\\end{enumerate*}\n"
      ],
      "text/markdown": [
       "1. 3\n",
       "2. 5\n",
       "\n",
       "\n"
      ],
      "text/plain": [
       "[1] 3 5"
      ]
     },
     "metadata": {},
     "output_type": "display_data"
    },
    {
     "data": {
      "text/html": [
       "<ol class=list-inline>\n",
       "\t<li>2</li>\n",
       "\t<li>5</li>\n",
       "</ol>\n"
      ],
      "text/latex": [
       "\\begin{enumerate*}\n",
       "\\item 2\n",
       "\\item 5\n",
       "\\end{enumerate*}\n"
      ],
      "text/markdown": [
       "1. 2\n",
       "2. 5\n",
       "\n",
       "\n"
      ],
      "text/plain": [
       "[1] 2 5"
      ]
     },
     "metadata": {},
     "output_type": "display_data"
    }
   ],
   "source": [
    "dim(Aaddrow)\n",
    "dim(A)"
   ]
  },
  {
   "cell_type": "code",
   "execution_count": 131,
   "metadata": {},
   "outputs": [
    {
     "data": {
      "text/html": [
       "<table>\n",
       "<tbody>\n",
       "\t<tr><td>0</td><td>1</td><td>2</td><td>3</td><td>4</td><td>0</td><td>1</td><td>2</td><td>3</td><td>4</td></tr>\n",
       "\t<tr><td>5</td><td>6</td><td>7</td><td>8</td><td>9</td><td>5</td><td>6</td><td>7</td><td>8</td><td>9</td></tr>\n",
       "</tbody>\n",
       "</table>\n"
      ],
      "text/latex": [
       "\\begin{tabular}{llllllllll}\n",
       "\t 0 & 1 & 2 & 3 & 4 & 0 & 1 & 2 & 3 & 4\\\\\n",
       "\t 5 & 6 & 7 & 8 & 9 & 5 & 6 & 7 & 8 & 9\\\\\n",
       "\\end{tabular}\n"
      ],
      "text/markdown": [
       "\n",
       "| 0 | 1 | 2 | 3 | 4 | 0 | 1 | 2 | 3 | 4 | \n",
       "| 5 | 6 | 7 | 8 | 9 | 5 | 6 | 7 | 8 | 9 | \n",
       "\n",
       "\n"
      ],
      "text/plain": [
       "     [,1] [,2] [,3] [,4] [,5] [,6] [,7] [,8] [,9] [,10]\n",
       "[1,] 0    1    2    3    4    0    1    2    3    4    \n",
       "[2,] 5    6    7    8    9    5    6    7    8    9    "
      ]
     },
     "metadata": {},
     "output_type": "display_data"
    }
   ],
   "source": [
    "cbind(A,A)"
   ]
  },
  {
   "cell_type": "code",
   "execution_count": 132,
   "metadata": {},
   "outputs": [
    {
     "data": {
      "text/html": [
       "7"
      ],
      "text/latex": [
       "7"
      ],
      "text/markdown": [
       "7"
      ],
      "text/plain": [
       "[1] 7"
      ]
     },
     "metadata": {},
     "output_type": "display_data"
    }
   ],
   "source": [
    "Aaddrow[2,3]"
   ]
  },
  {
   "cell_type": "code",
   "execution_count": 136,
   "metadata": {},
   "outputs": [
    {
     "data": {
      "text/html": [
       "<table>\n",
       "<tbody>\n",
       "\t<tr><td>a  </td><td>b  </td><td>c  </td><td>d  </td><td>e  </td><td>f  </td><td>g  </td><td>h  </td><td>i  </td><td>j  </td><td>...</td><td>q  </td><td>r  </td><td>s  </td><td>t  </td><td>u  </td><td>v  </td><td>w  </td><td>x  </td><td>y  </td><td>z  </td></tr>\n",
       "\t<tr><td>a  </td><td>b  </td><td>c  </td><td>d  </td><td>e  </td><td>f  </td><td>g  </td><td>h  </td><td>i  </td><td>j  </td><td>...</td><td>q  </td><td>r  </td><td>s  </td><td>t  </td><td>u  </td><td>v  </td><td>w  </td><td>x  </td><td>y  </td><td>z  </td></tr>\n",
       "\t<tr><td>a  </td><td>b  </td><td>c  </td><td>d  </td><td>e  </td><td>f  </td><td>g  </td><td>h  </td><td>i  </td><td>j  </td><td>...</td><td>q  </td><td>r  </td><td>s  </td><td>t  </td><td>u  </td><td>v  </td><td>w  </td><td>x  </td><td>y  </td><td>z  </td></tr>\n",
       "\t<tr><td>a  </td><td>b  </td><td>c  </td><td>d  </td><td>e  </td><td>f  </td><td>g  </td><td>h  </td><td>i  </td><td>j  </td><td>...</td><td>q  </td><td>r  </td><td>s  </td><td>t  </td><td>u  </td><td>v  </td><td>w  </td><td>x  </td><td>y  </td><td>z  </td></tr>\n",
       "\t<tr><td>a  </td><td>b  </td><td>c  </td><td>d  </td><td>e  </td><td>f  </td><td>g  </td><td>h  </td><td>i  </td><td>j  </td><td>...</td><td>q  </td><td>r  </td><td>s  </td><td>t  </td><td>u  </td><td>v  </td><td>w  </td><td>x  </td><td>y  </td><td>z  </td></tr>\n",
       "</tbody>\n",
       "</table>\n"
      ],
      "text/latex": [
       "\\begin{tabular}{llllllllllllllllllllllllll}\n",
       "\t a   & b   & c   & d   & e   & f   & g   & h   & i   & j   & ... & q   & r   & s   & t   & u   & v   & w   & x   & y   & z  \\\\\n",
       "\t a   & b   & c   & d   & e   & f   & g   & h   & i   & j   & ... & q   & r   & s   & t   & u   & v   & w   & x   & y   & z  \\\\\n",
       "\t a   & b   & c   & d   & e   & f   & g   & h   & i   & j   & ... & q   & r   & s   & t   & u   & v   & w   & x   & y   & z  \\\\\n",
       "\t a   & b   & c   & d   & e   & f   & g   & h   & i   & j   & ... & q   & r   & s   & t   & u   & v   & w   & x   & y   & z  \\\\\n",
       "\t a   & b   & c   & d   & e   & f   & g   & h   & i   & j   & ... & q   & r   & s   & t   & u   & v   & w   & x   & y   & z  \\\\\n",
       "\\end{tabular}\n"
      ],
      "text/markdown": [
       "\n",
       "| a   | b   | c   | d   | e   | f   | g   | h   | i   | j   | ... | q   | r   | s   | t   | u   | v   | w   | x   | y   | z   | \n",
       "| a   | b   | c   | d   | e   | f   | g   | h   | i   | j   | ... | q   | r   | s   | t   | u   | v   | w   | x   | y   | z   | \n",
       "| a   | b   | c   | d   | e   | f   | g   | h   | i   | j   | ... | q   | r   | s   | t   | u   | v   | w   | x   | y   | z   | \n",
       "| a   | b   | c   | d   | e   | f   | g   | h   | i   | j   | ... | q   | r   | s   | t   | u   | v   | w   | x   | y   | z   | \n",
       "| a   | b   | c   | d   | e   | f   | g   | h   | i   | j   | ... | q   | r   | s   | t   | u   | v   | w   | x   | y   | z   | \n",
       "\n",
       "\n"
      ],
      "text/plain": [
       "     [,1] [,2] [,3] [,4] [,5] [,6] [,7] [,8] [,9] [,10] [,11] [,12] [,13] [,14]\n",
       "[1,] a    b    c    d    e    f    g    h    i    j     ...   q     r     s    \n",
       "[2,] a    b    c    d    e    f    g    h    i    j     ...   q     r     s    \n",
       "[3,] a    b    c    d    e    f    g    h    i    j     ...   q     r     s    \n",
       "[4,] a    b    c    d    e    f    g    h    i    j     ...   q     r     s    \n",
       "[5,] a    b    c    d    e    f    g    h    i    j     ...   q     r     s    \n",
       "     [,15] [,16] [,17] [,18] [,19] [,20] [,21]\n",
       "[1,] t     u     v     w     x     y     z    \n",
       "[2,] t     u     v     w     x     y     z    \n",
       "[3,] t     u     v     w     x     y     z    \n",
       "[4,] t     u     v     w     x     y     z    \n",
       "[5,] t     u     v     w     x     y     z    "
      ]
     },
     "metadata": {},
     "output_type": "display_data"
    }
   ],
   "source": [
    "matlet <- matrix(letters, ncol=26, nrow=5, byrow=TRUE)\n",
    "matlet"
   ]
  },
  {
   "cell_type": "code",
   "execution_count": 138,
   "metadata": {},
   "outputs": [
    {
     "data": {
      "text/html": [
       "26"
      ],
      "text/latex": [
       "26"
      ],
      "text/markdown": [
       "26"
      ],
      "text/plain": [
       "[1] 26"
      ]
     },
     "metadata": {},
     "output_type": "display_data"
    },
    {
     "data": {
      "text/html": [
       "5"
      ],
      "text/latex": [
       "5"
      ],
      "text/markdown": [
       "5"
      ],
      "text/plain": [
       "[1] 5"
      ]
     },
     "metadata": {},
     "output_type": "display_data"
    }
   ],
   "source": [
    "ncol(matlet)\n",
    "nrow(matlet)"
   ]
  },
  {
   "cell_type": "code",
   "execution_count": 140,
   "metadata": {},
   "outputs": [
    {
     "data": {
      "text/html": [
       "<table>\n",
       "<tbody>\n",
       "\t<tr><td>1</td><td>2</td><td>3</td><td>4</td><td>5</td></tr>\n",
       "\t<tr><td>6</td><td>7</td><td>8</td><td>9</td><td>0</td></tr>\n",
       "</tbody>\n",
       "</table>\n"
      ],
      "text/latex": [
       "\\begin{tabular}{lllll}\n",
       "\t 1 & 2 & 3 & 4 & 5\\\\\n",
       "\t 6 & 7 & 8 & 9 & 0\\\\\n",
       "\\end{tabular}\n"
      ],
      "text/markdown": [
       "\n",
       "| 1 | 2 | 3 | 4 | 5 | \n",
       "| 6 | 7 | 8 | 9 | 0 | \n",
       "\n",
       "\n"
      ],
      "text/plain": [
       "     [,1] [,2] [,3] [,4] [,5]\n",
       "[1,] 1    2    3    4    5   \n",
       "[2,] 6    7    8    9    0   "
      ]
     },
     "metadata": {},
     "output_type": "display_data"
    }
   ],
   "source": [
    "A = c(1,2,3,4,5,6,7,8,9,0)\n",
    "mat <- matrix(A, nrow=2,byrow=TRUE)\n",
    "mat"
   ]
  },
  {
   "cell_type": "code",
   "execution_count": 145,
   "metadata": {},
   "outputs": [
    {
     "data": {
      "text/html": [
       "5"
      ],
      "text/latex": [
       "5"
      ],
      "text/markdown": [
       "5"
      ],
      "text/plain": [
       "[1] 5"
      ]
     },
     "metadata": {},
     "output_type": "display_data"
    },
    {
     "data": {
      "text/html": [
       "<table>\n",
       "<thead><tr><th></th><th scope=col>Col1</th><th scope=col>Col2</th><th scope=col>Col3</th><th scope=col>Col4</th><th scope=col>Col5</th></tr></thead>\n",
       "<tbody>\n",
       "\t<tr><th scope=row>A</th><td>1</td><td>2</td><td>3</td><td>4</td><td>5</td></tr>\n",
       "\t<tr><th scope=row>B</th><td>6</td><td>7</td><td>8</td><td>9</td><td>0</td></tr>\n",
       "</tbody>\n",
       "</table>\n"
      ],
      "text/latex": [
       "\\begin{tabular}{r|lllll}\n",
       "  & Col1 & Col2 & Col3 & Col4 & Col5\\\\\n",
       "\\hline\n",
       "\tA & 1 & 2 & 3 & 4 & 5\\\\\n",
       "\tB & 6 & 7 & 8 & 9 & 0\\\\\n",
       "\\end{tabular}\n"
      ],
      "text/markdown": [
       "\n",
       "| <!--/--> | Col1 | Col2 | Col3 | Col4 | Col5 | \n",
       "|---|---|\n",
       "| A | 1 | 2 | 3 | 4 | 5 | \n",
       "| B | 6 | 7 | 8 | 9 | 0 | \n",
       "\n",
       "\n"
      ],
      "text/plain": [
       "  Col1 Col2 Col3 Col4 Col5\n",
       "A 1    2    3    4    5   \n",
       "B 6    7    8    9    0   "
      ]
     },
     "metadata": {},
     "output_type": "display_data"
    }
   ],
   "source": [
    "rowNames <- c('A','B')\n",
    "colNames <- c('Col1','Col2','Col3','Col4','Col5')\n",
    "length(colNames)\n",
    "dimnames(mat) <- list(rowNames,colNames)\n",
    "mat"
   ]
  },
  {
   "cell_type": "code",
   "execution_count": 146,
   "metadata": {},
   "outputs": [
    {
     "data": {
      "text/plain": [
       "      Col1           Col2           Col3           Col4           Col5     \n",
       " Min.   :1.00   Min.   :2.00   Min.   :3.00   Min.   :4.00   Min.   :0.00  \n",
       " 1st Qu.:2.25   1st Qu.:3.25   1st Qu.:4.25   1st Qu.:5.25   1st Qu.:1.25  \n",
       " Median :3.50   Median :4.50   Median :5.50   Median :6.50   Median :2.50  \n",
       " Mean   :3.50   Mean   :4.50   Mean   :5.50   Mean   :6.50   Mean   :2.50  \n",
       " 3rd Qu.:4.75   3rd Qu.:5.75   3rd Qu.:6.75   3rd Qu.:7.75   3rd Qu.:3.75  \n",
       " Max.   :6.00   Max.   :7.00   Max.   :8.00   Max.   :9.00   Max.   :5.00  "
      ]
     },
     "metadata": {},
     "output_type": "display_data"
    }
   ],
   "source": [
    "summary(mat)"
   ]
  },
  {
   "cell_type": "code",
   "execution_count": 147,
   "metadata": {},
   "outputs": [
    {
     "data": {
      "image/png": "[encoded data removed]",
      "text/plain": [
       "plot without title"
      ]
     },
     "metadata": {},
     "output_type": "display_data"
    }
   ],
   "source": [
    "plot(mat)"
   ]
  },
  {
   "cell_type": "code",
   "execution_count": 186,
   "metadata": {},
   "outputs": [
    {
     "data": {
      "image/png": "[encoded data removed]",
      "text/plain": [
       "plot without title"
      ]
     },
     "metadata": {},
     "output_type": "display_data"
    }
   ],
   "source": [
    "plot(mat[,2:4])"
   ]
  },
  {
   "cell_type": "code",
   "execution_count": 148,
   "metadata": {},
   "outputs": [
    {
     "data": {
      "text/html": [
       "'C:/Mlaai/deeplearning/Code/Projects/Data'"
      ],
      "text/latex": [
       "'C:/Mlaai/deeplearning/Code/Projects/Data'"
      ],
      "text/markdown": [
       "'C:/Mlaai/deeplearning/Code/Projects/Data'"
      ],
      "text/plain": [
       "[1] \"C:/Mlaai/deeplearning/Code/Projects/Data\""
      ]
     },
     "metadata": {},
     "output_type": "display_data"
    }
   ],
   "source": [
    "#Heterogeneous \n",
    "#List and Dataframe"
   ]
  },
  {
   "cell_type": "code",
   "execution_count": 151,
   "metadata": {},
   "outputs": [
    {
     "data": {
      "text/html": [
       "<ol>\n",
       "\t<li><ol class=list-inline>\n",
       "\t<li>'A'</li>\n",
       "\t<li>'B'</li>\n",
       "</ol>\n",
       "</li>\n",
       "\t<li><ol class=list-inline>\n",
       "\t<li>'Col1'</li>\n",
       "\t<li>'Col2'</li>\n",
       "\t<li>'Col3'</li>\n",
       "\t<li>'Col4'</li>\n",
       "\t<li>'Col5'</li>\n",
       "</ol>\n",
       "</li>\n",
       "</ol>\n"
      ],
      "text/latex": [
       "\\begin{enumerate}\n",
       "\\item \\begin{enumerate*}\n",
       "\\item 'A'\n",
       "\\item 'B'\n",
       "\\end{enumerate*}\n",
       "\n",
       "\\item \\begin{enumerate*}\n",
       "\\item 'Col1'\n",
       "\\item 'Col2'\n",
       "\\item 'Col3'\n",
       "\\item 'Col4'\n",
       "\\item 'Col5'\n",
       "\\end{enumerate*}\n",
       "\n",
       "\\end{enumerate}\n"
      ],
      "text/markdown": [
       "1. 1. 'A'\n",
       "2. 'B'\n",
       "\n",
       "\n",
       "\n",
       "2. 1. 'Col1'\n",
       "2. 'Col2'\n",
       "3. 'Col3'\n",
       "4. 'Col4'\n",
       "5. 'Col5'\n",
       "\n",
       "\n",
       "\n",
       "\n",
       "\n"
      ],
      "text/plain": [
       "[[1]]\n",
       "[1] \"A\" \"B\"\n",
       "\n",
       "[[2]]\n",
       "[1] \"Col1\" \"Col2\" \"Col3\" \"Col4\" \"Col5\"\n"
      ]
     },
     "metadata": {},
     "output_type": "display_data"
    },
    {
     "data": {
      "text/html": [
       "<ol class=list-inline>\n",
       "\t<li>'A'</li>\n",
       "\t<li>'B'</li>\n",
       "</ol>\n"
      ],
      "text/latex": [
       "\\begin{enumerate*}\n",
       "\\item 'A'\n",
       "\\item 'B'\n",
       "\\end{enumerate*}\n"
      ],
      "text/markdown": [
       "1. 'A'\n",
       "2. 'B'\n",
       "\n",
       "\n"
      ],
      "text/plain": [
       "[1] \"A\" \"B\""
      ]
     },
     "metadata": {},
     "output_type": "display_data"
    },
    {
     "data": {
      "text/html": [
       "<ol class=list-inline>\n",
       "\t<li>'Col1'</li>\n",
       "\t<li>'Col2'</li>\n",
       "\t<li>'Col3'</li>\n",
       "\t<li>'Col4'</li>\n",
       "\t<li>'Col5'</li>\n",
       "</ol>\n"
      ],
      "text/latex": [
       "\\begin{enumerate*}\n",
       "\\item 'Col1'\n",
       "\\item 'Col2'\n",
       "\\item 'Col3'\n",
       "\\item 'Col4'\n",
       "\\item 'Col5'\n",
       "\\end{enumerate*}\n"
      ],
      "text/markdown": [
       "1. 'Col1'\n",
       "2. 'Col2'\n",
       "3. 'Col3'\n",
       "4. 'Col4'\n",
       "5. 'Col5'\n",
       "\n",
       "\n"
      ],
      "text/plain": [
       "[1] \"Col1\" \"Col2\" \"Col3\" \"Col4\" \"Col5\""
      ]
     },
     "metadata": {},
     "output_type": "display_data"
    }
   ],
   "source": [
    "dimnames(mat)\n",
    "dimnames(mat)[[1]]\n",
    "dimnames(mat)[[2]]"
   ]
  },
  {
   "cell_type": "code",
   "execution_count": 152,
   "metadata": {},
   "outputs": [
    {
     "data": {
      "text/html": [
       "<dl>\n",
       "\t<dt>$name</dt>\n",
       "\t\t<dd>'Mlaai'</dd>\n",
       "\t<dt>$byDate</dt>\n",
       "\t\t<dd>1112</dd>\n",
       "\t<dt>$mat</dt>\n",
       "\t\t<dd><ol class=list-inline>\n",
       "\t<li>1</li>\n",
       "\t<li>2</li>\n",
       "\t<li>3</li>\n",
       "\t<li>4</li>\n",
       "\t<li>5</li>\n",
       "\t<li>6</li>\n",
       "\t<li>7</li>\n",
       "\t<li>8</li>\n",
       "\t<li>9</li>\n",
       "\t<li>0</li>\n",
       "</ol>\n",
       "</dd>\n",
       "\t<dt>$size</dt>\n",
       "\t\t<dd>5</dd>\n",
       "</dl>\n"
      ],
      "text/latex": [
       "\\begin{description}\n",
       "\\item[\\$name] 'Mlaai'\n",
       "\\item[\\$byDate] 1112\n",
       "\\item[\\$mat] \\begin{enumerate*}\n",
       "\\item 1\n",
       "\\item 2\n",
       "\\item 3\n",
       "\\item 4\n",
       "\\item 5\n",
       "\\item 6\n",
       "\\item 7\n",
       "\\item 8\n",
       "\\item 9\n",
       "\\item 0\n",
       "\\end{enumerate*}\n",
       "\n",
       "\\item[\\$size] 5\n",
       "\\end{description}\n"
      ],
      "text/markdown": [
       "$name\n",
       ":   'Mlaai'\n",
       "$byDate\n",
       ":   1112\n",
       "$mat\n",
       ":   1. 1\n",
       "2. 2\n",
       "3. 3\n",
       "4. 4\n",
       "5. 5\n",
       "6. 6\n",
       "7. 7\n",
       "8. 8\n",
       "9. 9\n",
       "10. 0\n",
       "\n",
       "\n",
       "\n",
       "$size\n",
       ":   5\n",
       "\n",
       "\n"
      ],
      "text/plain": [
       "$name\n",
       "[1] \"Mlaai\"\n",
       "\n",
       "$byDate\n",
       "[1] 1112\n",
       "\n",
       "$mat\n",
       " [1] 1 2 3 4 5 6 7 8 9 0\n",
       "\n",
       "$size\n",
       "[1] 5\n"
      ]
     },
     "metadata": {},
     "output_type": "display_data"
    }
   ],
   "source": [
    "matlist <- list(name='Mlaai', byDate=1112, mat=A, size=5)\n",
    "matlist"
   ]
  },
  {
   "cell_type": "code",
   "execution_count": 157,
   "metadata": {},
   "outputs": [
    {
     "data": {
      "text/html": [
       "'Mlaai'"
      ],
      "text/latex": [
       "'Mlaai'"
      ],
      "text/markdown": [
       "'Mlaai'"
      ],
      "text/plain": [
       "[1] \"Mlaai\""
      ]
     },
     "metadata": {},
     "output_type": "display_data"
    },
    {
     "data": {
      "text/html": [
       "5"
      ],
      "text/latex": [
       "5"
      ],
      "text/markdown": [
       "5"
      ],
      "text/plain": [
       "[1] 5"
      ]
     },
     "metadata": {},
     "output_type": "display_data"
    },
    {
     "data": {
      "text/html": [
       "<ol class=list-inline>\n",
       "\t<li>1</li>\n",
       "\t<li>2</li>\n",
       "\t<li>3</li>\n",
       "\t<li>4</li>\n",
       "\t<li>5</li>\n",
       "\t<li>6</li>\n",
       "\t<li>7</li>\n",
       "\t<li>8</li>\n",
       "\t<li>9</li>\n",
       "\t<li>0</li>\n",
       "</ol>\n"
      ],
      "text/latex": [
       "\\begin{enumerate*}\n",
       "\\item 1\n",
       "\\item 2\n",
       "\\item 3\n",
       "\\item 4\n",
       "\\item 5\n",
       "\\item 6\n",
       "\\item 7\n",
       "\\item 8\n",
       "\\item 9\n",
       "\\item 0\n",
       "\\end{enumerate*}\n"
      ],
      "text/markdown": [
       "1. 1\n",
       "2. 2\n",
       "3. 3\n",
       "4. 4\n",
       "5. 5\n",
       "6. 6\n",
       "7. 7\n",
       "8. 8\n",
       "9. 9\n",
       "10. 0\n",
       "\n",
       "\n"
      ],
      "text/plain": [
       " [1] 1 2 3 4 5 6 7 8 9 0"
      ]
     },
     "metadata": {},
     "output_type": "display_data"
    },
    {
     "data": {
      "text/html": [
       "<ol class=list-inline>\n",
       "\t<li>'name'</li>\n",
       "\t<li>'byDate'</li>\n",
       "\t<li>'mat'</li>\n",
       "\t<li>'size'</li>\n",
       "</ol>\n"
      ],
      "text/latex": [
       "\\begin{enumerate*}\n",
       "\\item 'name'\n",
       "\\item 'byDate'\n",
       "\\item 'mat'\n",
       "\\item 'size'\n",
       "\\end{enumerate*}\n"
      ],
      "text/markdown": [
       "1. 'name'\n",
       "2. 'byDate'\n",
       "3. 'mat'\n",
       "4. 'size'\n",
       "\n",
       "\n"
      ],
      "text/plain": [
       "[1] \"name\"   \"byDate\" \"mat\"    \"size\"  "
      ]
     },
     "metadata": {},
     "output_type": "display_data"
    }
   ],
   "source": [
    "matlist[[1]]\n",
    "matlist$size\n",
    "matlist$mat\n",
    "names(matlist)"
   ]
  },
  {
   "cell_type": "code",
   "execution_count": 161,
   "metadata": {},
   "outputs": [
    {
     "name": "stderr",
     "output_type": "stream",
     "text": [
      "The following objects are masked from women (pos = 3):\n",
      "\n",
      "    height, weight\n",
      "\n"
     ]
    },
    {
     "data": {
      "text/plain": [
       "\n",
       "Call:\n",
       "lm(formula = weight ~ height)\n",
       "\n",
       "Coefficients:\n",
       "(Intercept)       height  \n",
       "     -87.52         3.45  \n"
      ]
     },
     "metadata": {},
     "output_type": "display_data"
    }
   ],
   "source": [
    "data(women)\n",
    "attach(women)\n",
    "res <- lm(weight ~ height)\n",
    "res"
   ]
  },
  {
   "cell_type": "code",
   "execution_count": 168,
   "metadata": {},
   "outputs": [
    {
     "data": {
      "text/html": [
       "<ol class=list-inline>\n",
       "\t<li>'coefficients'</li>\n",
       "\t<li>'residuals'</li>\n",
       "\t<li>'effects'</li>\n",
       "\t<li>'rank'</li>\n",
       "\t<li>'fitted.values'</li>\n",
       "\t<li>'assign'</li>\n",
       "\t<li>'qr'</li>\n",
       "\t<li>'df.residual'</li>\n",
       "\t<li>'xlevels'</li>\n",
       "\t<li>'call'</li>\n",
       "\t<li>'terms'</li>\n",
       "\t<li>'model'</li>\n",
       "</ol>\n"
      ],
      "text/latex": [
       "\\begin{enumerate*}\n",
       "\\item 'coefficients'\n",
       "\\item 'residuals'\n",
       "\\item 'effects'\n",
       "\\item 'rank'\n",
       "\\item 'fitted.values'\n",
       "\\item 'assign'\n",
       "\\item 'qr'\n",
       "\\item 'df.residual'\n",
       "\\item 'xlevels'\n",
       "\\item 'call'\n",
       "\\item 'terms'\n",
       "\\item 'model'\n",
       "\\end{enumerate*}\n"
      ],
      "text/markdown": [
       "1. 'coefficients'\n",
       "2. 'residuals'\n",
       "3. 'effects'\n",
       "4. 'rank'\n",
       "5. 'fitted.values'\n",
       "6. 'assign'\n",
       "7. 'qr'\n",
       "8. 'df.residual'\n",
       "9. 'xlevels'\n",
       "10. 'call'\n",
       "11. 'terms'\n",
       "12. 'model'\n",
       "\n",
       "\n"
      ],
      "text/plain": [
       " [1] \"coefficients\"  \"residuals\"     \"effects\"       \"rank\"         \n",
       " [5] \"fitted.values\" \"assign\"        \"qr\"            \"df.residual\"  \n",
       " [9] \"xlevels\"       \"call\"          \"terms\"         \"model\"        "
      ]
     },
     "metadata": {},
     "output_type": "display_data"
    },
    {
     "data": {
      "text/html": [
       "<dl class=dl-horizontal>\n",
       "\t<dt>(Intercept)</dt>\n",
       "\t\t<dd>-87.5166666666665</dd>\n",
       "\t<dt>height</dt>\n",
       "\t\t<dd>3.45</dd>\n",
       "</dl>\n"
      ],
      "text/latex": [
       "\\begin{description*}\n",
       "\\item[(Intercept)] -87.5166666666665\n",
       "\\item[height] 3.45\n",
       "\\end{description*}\n"
      ],
      "text/markdown": [
       "(Intercept)\n",
       ":   -87.5166666666665height\n",
       ":   3.45\n",
       "\n"
      ],
      "text/plain": [
       "(Intercept)      height \n",
       "  -87.51667     3.45000 "
      ]
     },
     "metadata": {},
     "output_type": "display_data"
    },
    {
     "data": {
      "text/html": [
       "<dl class=dl-horizontal>\n",
       "\t<dt>1</dt>\n",
       "\t\t<dd>2.41666666666675</dd>\n",
       "\t<dt>2</dt>\n",
       "\t\t<dd>0.966666666666643</dd>\n",
       "\t<dt>3</dt>\n",
       "\t\t<dd>0.516666666666644</dd>\n",
       "\t<dt>4</dt>\n",
       "\t\t<dd>0.0666666666666476</dd>\n",
       "\t<dt>5</dt>\n",
       "\t\t<dd>-0.38333333333335</dd>\n",
       "\t<dt>6</dt>\n",
       "\t\t<dd>-0.833333333333347</dd>\n",
       "\t<dt>7</dt>\n",
       "\t\t<dd>-1.28333333333334</dd>\n",
       "\t<dt>8</dt>\n",
       "\t\t<dd>-1.73333333333334</dd>\n",
       "\t<dt>9</dt>\n",
       "\t\t<dd>-1.18333333333334</dd>\n",
       "\t<dt>10</dt>\n",
       "\t\t<dd>-1.63333333333334</dd>\n",
       "\t<dt>11</dt>\n",
       "\t\t<dd>-1.08333333333333</dd>\n",
       "\t<dt>12</dt>\n",
       "\t\t<dd>-0.53333333333333</dd>\n",
       "\t<dt>13</dt>\n",
       "\t\t<dd>0.016666666666675</dd>\n",
       "\t<dt>14</dt>\n",
       "\t\t<dd>1.56666666666668</dd>\n",
       "\t<dt>15</dt>\n",
       "\t\t<dd>3.11666666666668</dd>\n",
       "</dl>\n"
      ],
      "text/latex": [
       "\\begin{description*}\n",
       "\\item[1] 2.41666666666675\n",
       "\\item[2] 0.966666666666643\n",
       "\\item[3] 0.516666666666644\n",
       "\\item[4] 0.0666666666666476\n",
       "\\item[5] -0.38333333333335\n",
       "\\item[6] -0.833333333333347\n",
       "\\item[7] -1.28333333333334\n",
       "\\item[8] -1.73333333333334\n",
       "\\item[9] -1.18333333333334\n",
       "\\item[10] -1.63333333333334\n",
       "\\item[11] -1.08333333333333\n",
       "\\item[12] -0.53333333333333\n",
       "\\item[13] 0.016666666666675\n",
       "\\item[14] 1.56666666666668\n",
       "\\item[15] 3.11666666666668\n",
       "\\end{description*}\n"
      ],
      "text/markdown": [
       "1\n",
       ":   2.416666666666752\n",
       ":   0.9666666666666433\n",
       ":   0.5166666666666444\n",
       ":   0.06666666666664765\n",
       ":   -0.383333333333356\n",
       ":   -0.8333333333333477\n",
       ":   -1.283333333333348\n",
       ":   -1.733333333333349\n",
       ":   -1.1833333333333410\n",
       ":   -1.6333333333333411\n",
       ":   -1.0833333333333312\n",
       ":   -0.5333333333333313\n",
       ":   0.01666666666667514\n",
       ":   1.5666666666666815\n",
       ":   3.11666666666668\n",
       "\n"
      ],
      "text/plain": [
       "          1           2           3           4           5           6 \n",
       " 2.41666667  0.96666667  0.51666667  0.06666667 -0.38333333 -0.83333333 \n",
       "          7           8           9          10          11          12 \n",
       "-1.28333333 -1.73333333 -1.18333333 -1.63333333 -1.08333333 -0.53333333 \n",
       "         13          14          15 \n",
       " 0.01666667  1.56666667  3.11666667 "
      ]
     },
     "metadata": {},
     "output_type": "display_data"
    },
    {
     "data": {
      "text/html": [
       "<dl class=dl-horizontal>\n",
       "\t<dt>1</dt>\n",
       "\t\t<dd>2.41666666666675</dd>\n",
       "\t<dt>2</dt>\n",
       "\t\t<dd>0.966666666666643</dd>\n",
       "\t<dt>3</dt>\n",
       "\t\t<dd>0.516666666666644</dd>\n",
       "\t<dt>4</dt>\n",
       "\t\t<dd>0.0666666666666476</dd>\n",
       "\t<dt>5</dt>\n",
       "\t\t<dd>-0.38333333333335</dd>\n",
       "\t<dt>6</dt>\n",
       "\t\t<dd>-0.833333333333347</dd>\n",
       "\t<dt>7</dt>\n",
       "\t\t<dd>-1.28333333333334</dd>\n",
       "\t<dt>8</dt>\n",
       "\t\t<dd>-1.73333333333334</dd>\n",
       "\t<dt>9</dt>\n",
       "\t\t<dd>-1.18333333333334</dd>\n",
       "\t<dt>10</dt>\n",
       "\t\t<dd>-1.63333333333334</dd>\n",
       "\t<dt>11</dt>\n",
       "\t\t<dd>-1.08333333333333</dd>\n",
       "\t<dt>12</dt>\n",
       "\t\t<dd>-0.53333333333333</dd>\n",
       "\t<dt>13</dt>\n",
       "\t\t<dd>0.016666666666675</dd>\n",
       "\t<dt>14</dt>\n",
       "\t\t<dd>1.56666666666668</dd>\n",
       "\t<dt>15</dt>\n",
       "\t\t<dd>3.11666666666668</dd>\n",
       "</dl>\n"
      ],
      "text/latex": [
       "\\begin{description*}\n",
       "\\item[1] 2.41666666666675\n",
       "\\item[2] 0.966666666666643\n",
       "\\item[3] 0.516666666666644\n",
       "\\item[4] 0.0666666666666476\n",
       "\\item[5] -0.38333333333335\n",
       "\\item[6] -0.833333333333347\n",
       "\\item[7] -1.28333333333334\n",
       "\\item[8] -1.73333333333334\n",
       "\\item[9] -1.18333333333334\n",
       "\\item[10] -1.63333333333334\n",
       "\\item[11] -1.08333333333333\n",
       "\\item[12] -0.53333333333333\n",
       "\\item[13] 0.016666666666675\n",
       "\\item[14] 1.56666666666668\n",
       "\\item[15] 3.11666666666668\n",
       "\\end{description*}\n"
      ],
      "text/markdown": [
       "1\n",
       ":   2.416666666666752\n",
       ":   0.9666666666666433\n",
       ":   0.5166666666666444\n",
       ":   0.06666666666664765\n",
       ":   -0.383333333333356\n",
       ":   -0.8333333333333477\n",
       ":   -1.283333333333348\n",
       ":   -1.733333333333349\n",
       ":   -1.1833333333333410\n",
       ":   -1.6333333333333411\n",
       ":   -1.0833333333333312\n",
       ":   -0.5333333333333313\n",
       ":   0.01666666666667514\n",
       ":   1.5666666666666815\n",
       ":   3.11666666666668\n",
       "\n"
      ],
      "text/plain": [
       "          1           2           3           4           5           6 \n",
       " 2.41666667  0.96666667  0.51666667  0.06666667 -0.38333333 -0.83333333 \n",
       "          7           8           9          10          11          12 \n",
       "-1.28333333 -1.73333333 -1.18333333 -1.63333333 -1.08333333 -0.53333333 \n",
       "         13          14          15 \n",
       " 0.01666667  1.56666667  3.11666667 "
      ]
     },
     "metadata": {},
     "output_type": "display_data"
    },
    {
     "data": {
      "text/html": [
       "2"
      ],
      "text/latex": [
       "2"
      ],
      "text/markdown": [
       "2"
      ],
      "text/plain": [
       "[1] 2"
      ]
     },
     "metadata": {},
     "output_type": "display_data"
    },
    {
     "data": {
      "text/plain": [
       "lm(formula = weight ~ height)"
      ]
     },
     "metadata": {},
     "output_type": "display_data"
    }
   ],
   "source": [
    "names(res)\n",
    "res$coefficients\n",
    "res$residuals\n",
    "res[[2]]\n",
    "res$rank\n",
    "res$call"
   ]
  },
  {
   "cell_type": "code",
   "execution_count": 169,
   "metadata": {},
   "outputs": [
    {
     "data": {
      "text/plain": [
       "   Min. 1st Qu.  Median    Mean 3rd Qu.    Max. \n",
       "  1.000   1.000   1.000   1.458   2.000   2.000 "
      ]
     },
     "metadata": {},
     "output_type": "display_data"
    }
   ],
   "source": [
    "studentg=c(rep(1,13), rep(2,11))\n",
    "summary(studentg)"
   ]
  },
  {
   "cell_type": "code",
   "execution_count": 171,
   "metadata": {},
   "outputs": [
    {
     "data": {
      "text/html": [
       "<ol class=list-inline>\n",
       "\t<li>M</li>\n",
       "\t<li>M</li>\n",
       "\t<li>M</li>\n",
       "\t<li>M</li>\n",
       "\t<li>M</li>\n",
       "\t<li>M</li>\n",
       "\t<li>M</li>\n",
       "\t<li>M</li>\n",
       "\t<li>M</li>\n",
       "\t<li>M</li>\n",
       "\t<li>M</li>\n",
       "\t<li>M</li>\n",
       "\t<li>M</li>\n",
       "\t<li>F</li>\n",
       "\t<li>F</li>\n",
       "\t<li>F</li>\n",
       "\t<li>F</li>\n",
       "\t<li>F</li>\n",
       "\t<li>F</li>\n",
       "\t<li>F</li>\n",
       "\t<li>F</li>\n",
       "\t<li>F</li>\n",
       "\t<li>F</li>\n",
       "\t<li>F</li>\n",
       "</ol>\n"
      ],
      "text/latex": [
       "\\begin{enumerate*}\n",
       "\\item M\n",
       "\\item M\n",
       "\\item M\n",
       "\\item M\n",
       "\\item M\n",
       "\\item M\n",
       "\\item M\n",
       "\\item M\n",
       "\\item M\n",
       "\\item M\n",
       "\\item M\n",
       "\\item M\n",
       "\\item M\n",
       "\\item F\n",
       "\\item F\n",
       "\\item F\n",
       "\\item F\n",
       "\\item F\n",
       "\\item F\n",
       "\\item F\n",
       "\\item F\n",
       "\\item F\n",
       "\\item F\n",
       "\\item F\n",
       "\\end{enumerate*}\n"
      ],
      "text/markdown": [
       "1. M\n",
       "2. M\n",
       "3. M\n",
       "4. M\n",
       "5. M\n",
       "6. M\n",
       "7. M\n",
       "8. M\n",
       "9. M\n",
       "10. M\n",
       "11. M\n",
       "12. M\n",
       "13. M\n",
       "14. F\n",
       "15. F\n",
       "16. F\n",
       "17. F\n",
       "18. F\n",
       "19. F\n",
       "20. F\n",
       "21. F\n",
       "22. F\n",
       "23. F\n",
       "24. F\n",
       "\n",
       "\n"
      ],
      "text/plain": [
       " [1] M M M M M M M M M M M M M F F F F F F F F F F F\n",
       "Levels: F M"
      ]
     },
     "metadata": {},
     "output_type": "display_data"
    }
   ],
   "source": [
    "gender=factor(c(rep(\"M\",13), rep(\"F\",11)))\n",
    "gender"
   ]
  },
  {
   "cell_type": "code",
   "execution_count": 172,
   "metadata": {},
   "outputs": [
    {
     "data": {
      "text/plain": [
       "gender\n",
       " F  M \n",
       "11 13 "
      ]
     },
     "metadata": {},
     "output_type": "display_data"
    }
   ],
   "source": [
    "table(gender)"
   ]
  },
  {
   "cell_type": "code",
   "execution_count": 173,
   "metadata": {},
   "outputs": [
    {
     "data": {
      "text/html": [
       "<dl class=dl-horizontal>\n",
       "\t<dt>F</dt>\n",
       "\t\t<dd>11</dd>\n",
       "\t<dt>M</dt>\n",
       "\t\t<dd>13</dd>\n",
       "</dl>\n"
      ],
      "text/latex": [
       "\\begin{description*}\n",
       "\\item[F] 11\n",
       "\\item[M] 13\n",
       "\\end{description*}\n"
      ],
      "text/markdown": [
       "F\n",
       ":   11M\n",
       ":   13\n",
       "\n"
      ],
      "text/plain": [
       " F  M \n",
       "11 13 "
      ]
     },
     "metadata": {},
     "output_type": "display_data"
    }
   ],
   "source": [
    "summary(gender)"
   ]
  },
  {
   "cell_type": "code",
   "execution_count": 174,
   "metadata": {},
   "outputs": [
    {
     "name": "stdout",
     "output_type": "stream",
     "text": [
      " Factor w/ 2 levels \"F\",\"M\": 2 2 2 2 2 2 2 2 2 2 ...\n"
     ]
    }
   ],
   "source": [
    "str(gender)"
   ]
  },
  {
   "cell_type": "code",
   "execution_count": 175,
   "metadata": {},
   "outputs": [
    {
     "data": {
      "text/html": [
       "24"
      ],
      "text/latex": [
       "24"
      ],
      "text/markdown": [
       "24"
      ],
      "text/plain": [
       "[1] 24"
      ]
     },
     "metadata": {},
     "output_type": "display_data"
    }
   ],
   "source": [
    "length(gender)"
   ]
  },
  {
   "cell_type": "code",
   "execution_count": 177,
   "metadata": {},
   "outputs": [],
   "source": [
    "library(MASS)"
   ]
  },
  {
   "cell_type": "code",
   "execution_count": 178,
   "metadata": {},
   "outputs": [],
   "source": [
    "data()"
   ]
  },
  {
   "cell_type": "code",
   "execution_count": 180,
   "metadata": {},
   "outputs": [],
   "source": [
    "?UScereal"
   ]
  },
  {
   "cell_type": "code",
   "execution_count": 181,
   "metadata": {},
   "outputs": [
    {
     "data": {
      "text/html": [
       "<table>\n",
       "<thead><tr><th></th><th scope=col>mfr</th><th scope=col>calories</th><th scope=col>protein</th><th scope=col>fat</th><th scope=col>sodium</th><th scope=col>fibre</th></tr></thead>\n",
       "<tbody>\n",
       "\t<tr><th scope=row>100% Bran</th><td>N        </td><td>212.1212 </td><td>12.121212</td><td>3.030303 </td><td>393.9394 </td><td>30.30303 </td></tr>\n",
       "\t<tr><th scope=row>All-Bran</th><td>K        </td><td>212.1212 </td><td>12.121212</td><td>3.030303 </td><td>787.8788 </td><td>27.27273 </td></tr>\n",
       "\t<tr><th scope=row>All-Bran with Extra Fiber</th><td>K        </td><td>100.0000 </td><td> 8.000000</td><td>0.000000 </td><td>280.0000 </td><td>28.00000 </td></tr>\n",
       "\t<tr><th scope=row>Apple Cinnamon Cheerios</th><td>G        </td><td>146.6667 </td><td> 2.666667</td><td>2.666667 </td><td>240.0000 </td><td> 2.00000 </td></tr>\n",
       "</tbody>\n",
       "</table>\n"
      ],
      "text/latex": [
       "\\begin{tabular}{r|llllll}\n",
       "  & mfr & calories & protein & fat & sodium & fibre\\\\\n",
       "\\hline\n",
       "\t100\\% Bran & N         & 212.1212  & 12.121212 & 3.030303  & 393.9394  & 30.30303 \\\\\n",
       "\tAll-Bran & K         & 212.1212  & 12.121212 & 3.030303  & 787.8788  & 27.27273 \\\\\n",
       "\tAll-Bran with Extra Fiber & K         & 100.0000  &  8.000000 & 0.000000  & 280.0000  & 28.00000 \\\\\n",
       "\tApple Cinnamon Cheerios & G         & 146.6667  &  2.666667 & 2.666667  & 240.0000  &  2.00000 \\\\\n",
       "\\end{tabular}\n"
      ],
      "text/markdown": [
       "\n",
       "| <!--/--> | mfr | calories | protein | fat | sodium | fibre | \n",
       "|---|---|---|---|\n",
       "| 100% Bran | N         | 212.1212  | 12.121212 | 3.030303  | 393.9394  | 30.30303  | \n",
       "| All-Bran | K         | 212.1212  | 12.121212 | 3.030303  | 787.8788  | 27.27273  | \n",
       "| All-Bran with Extra Fiber | K         | 100.0000  |  8.000000 | 0.000000  | 280.0000  | 28.00000  | \n",
       "| Apple Cinnamon Cheerios | G         | 146.6667  |  2.666667 | 2.666667  | 240.0000  |  2.00000  | \n",
       "\n",
       "\n"
      ],
      "text/plain": [
       "                          mfr calories protein   fat      sodium   fibre   \n",
       "100% Bran                 N   212.1212 12.121212 3.030303 393.9394 30.30303\n",
       "All-Bran                  K   212.1212 12.121212 3.030303 787.8788 27.27273\n",
       "All-Bran with Extra Fiber K   100.0000  8.000000 0.000000 280.0000 28.00000\n",
       "Apple Cinnamon Cheerios   G   146.6667  2.666667 2.666667 240.0000  2.00000"
      ]
     },
     "metadata": {},
     "output_type": "display_data"
    }
   ],
   "source": [
    "UScereal[1:4,1:6]"
   ]
  },
  {
   "cell_type": "code",
   "execution_count": 182,
   "metadata": {},
   "outputs": [
    {
     "data": {
      "image/png": "[encoded data removed]",
      "text/plain": [
       "plot without title"
      ]
     },
     "metadata": {},
     "output_type": "display_data"
    }
   ],
   "source": [
    "plot(UScereal[,1:4])"
   ]
  },
  {
   "cell_type": "code",
   "execution_count": 189,
   "metadata": {},
   "outputs": [
    {
     "name": "stdout",
     "output_type": "stream",
     "text": [
      "          Age Height Weight Gender Country\n",
      "Alex       25    171     67      M  France\n",
      "Martha     30    156     51      F Finland\n",
      "Kate       52    157     49      F     USA\n",
      "Sean       60    184     75      M      UK\n",
      "Francesca  34    164     60      F  Itally\n",
      "Nico       43    192     85      M  Israel\n",
      "Juan       21    173     80      M  Mexico\n"
     ]
    },
    {
     "data": {
      "text/html": [
       "'data.frame'"
      ],
      "text/latex": [
       "'data.frame'"
      ],
      "text/markdown": [
       "'data.frame'"
      ],
      "text/plain": [
       "[1] \"data.frame\""
      ]
     },
     "metadata": {},
     "output_type": "display_data"
    },
    {
     "name": "stdout",
     "output_type": "stream",
     "text": [
      "'data.frame':\t7 obs. of  5 variables:\n",
      " $ Age    : num  25 30 52 60 34 43 21\n",
      " $ Height : num  171 156 157 184 164 192 173\n",
      " $ Weight : num  67 51 49 75 60 85 80\n",
      " $ Gender : Factor w/ 2 levels \"F\",\"M\": 2 1 1 2 1 2 2\n",
      " $ Country: Factor w/ 7 levels \"Finland\",\"France\",..: 2 1 7 6 4 3 5\n"
     ]
    },
    {
     "data": {
      "text/html": [
       "<ol class=list-inline>\n",
       "\t<li>7</li>\n",
       "\t<li>5</li>\n",
       "</ol>\n"
      ],
      "text/latex": [
       "\\begin{enumerate*}\n",
       "\\item 7\n",
       "\\item 5\n",
       "\\end{enumerate*}\n"
      ],
      "text/markdown": [
       "1. 7\n",
       "2. 5\n",
       "\n",
       "\n"
      ],
      "text/plain": [
       "[1] 7 5"
      ]
     },
     "metadata": {},
     "output_type": "display_data"
    }
   ],
   "source": [
    "df <- data.frame(Age = c(25, 30, 52, 60, 34, 43, 21),\n",
    "                 Height = c(171, 156, 157, 184, 164, 192, 173),\n",
    "                 Weight = c(67, 51, 49, 75, 60, 85, 80),\n",
    "                 Gender = factor(c(\"M\", \"F\", \"F\", \"M\", \"F\", \"M\", \"M\")),\n",
    "                 Country = c(\"France\", \"Finland\", \"USA\", \"UK\", \"Itally\", \"Israel\", \"Mexico\"),\n",
    "                 row.names = c(\"Alex\", \"Martha\", \"Kate\", \"Sean\", \"Francesca\", \"Nico\", \"Juan\"))\n",
    "print(df)\n",
    "class(df)\n",
    "str(df)\n",
    "dim(df)"
   ]
  },
  {
   "cell_type": "code",
   "execution_count": 194,
   "metadata": {},
   "outputs": [],
   "source": [
    "Employed = c(\"No\", \"Yes\", \"No\", \"Yes\", \"No\", \"Yes\", \"Yes\")"
   ]
  },
  {
   "cell_type": "code",
   "execution_count": 195,
   "metadata": {},
   "outputs": [],
   "source": [
    "df2 <- data.frame(Employed = Employed,\n",
    "                  row.names = c(\"Alex\", \"Martha\", \"Kate\", \"Sean\", \"Francesca\", \n",
    "                                \"Nico\", \"Juan\"))"
   ]
  },
  {
   "cell_type": "code",
   "execution_count": 196,
   "metadata": {},
   "outputs": [
    {
     "data": {
      "text/html": [
       "<table>\n",
       "<thead><tr><th></th><th scope=col>Age</th><th scope=col>Height</th><th scope=col>Weight</th><th scope=col>Gender</th><th scope=col>Country</th><th scope=col>Employed</th></tr></thead>\n",
       "<tbody>\n",
       "\t<tr><th scope=row>Alex</th><td>25     </td><td>171    </td><td>67     </td><td>M      </td><td>France </td><td>No     </td></tr>\n",
       "\t<tr><th scope=row>Martha</th><td>30     </td><td>156    </td><td>51     </td><td>F      </td><td>Finland</td><td>Yes    </td></tr>\n",
       "\t<tr><th scope=row>Kate</th><td>52     </td><td>157    </td><td>49     </td><td>F      </td><td>USA    </td><td>No     </td></tr>\n",
       "\t<tr><th scope=row>Sean</th><td>60     </td><td>184    </td><td>75     </td><td>M      </td><td>UK     </td><td>Yes    </td></tr>\n",
       "\t<tr><th scope=row>Francesca</th><td>34     </td><td>164    </td><td>60     </td><td>F      </td><td>Itally </td><td>No     </td></tr>\n",
       "\t<tr><th scope=row>Nico</th><td>43     </td><td>192    </td><td>85     </td><td>M      </td><td>Israel </td><td>Yes    </td></tr>\n",
       "\t<tr><th scope=row>Juan</th><td>21     </td><td>173    </td><td>80     </td><td>M      </td><td>Mexico </td><td>Yes    </td></tr>\n",
       "</tbody>\n",
       "</table>\n"
      ],
      "text/latex": [
       "\\begin{tabular}{r|llllll}\n",
       "  & Age & Height & Weight & Gender & Country & Employed\\\\\n",
       "\\hline\n",
       "\tAlex & 25      & 171     & 67      & M       & France  & No     \\\\\n",
       "\tMartha & 30      & 156     & 51      & F       & Finland & Yes    \\\\\n",
       "\tKate & 52      & 157     & 49      & F       & USA     & No     \\\\\n",
       "\tSean & 60      & 184     & 75      & M       & UK      & Yes    \\\\\n",
       "\tFrancesca & 34      & 164     & 60      & F       & Itally  & No     \\\\\n",
       "\tNico & 43      & 192     & 85      & M       & Israel  & Yes    \\\\\n",
       "\tJuan & 21      & 173     & 80      & M       & Mexico  & Yes    \\\\\n",
       "\\end{tabular}\n"
      ],
      "text/markdown": [
       "\n",
       "| <!--/--> | Age | Height | Weight | Gender | Country | Employed | \n",
       "|---|---|---|---|---|---|---|\n",
       "| Alex | 25      | 171     | 67      | M       | France  | No      | \n",
       "| Martha | 30      | 156     | 51      | F       | Finland | Yes     | \n",
       "| Kate | 52      | 157     | 49      | F       | USA     | No      | \n",
       "| Sean | 60      | 184     | 75      | M       | UK      | Yes     | \n",
       "| Francesca | 34      | 164     | 60      | F       | Itally  | No      | \n",
       "| Nico | 43      | 192     | 85      | M       | Israel  | Yes     | \n",
       "| Juan | 21      | 173     | 80      | M       | Mexico  | Yes     | \n",
       "\n",
       "\n"
      ],
      "text/plain": [
       "          Age Height Weight Gender Country Employed\n",
       "Alex      25  171    67     M      France  No      \n",
       "Martha    30  156    51     F      Finland Yes     \n",
       "Kate      52  157    49     F      USA     No      \n",
       "Sean      60  184    75     M      UK      Yes     \n",
       "Francesca 34  164    60     F      Itally  No      \n",
       "Nico      43  192    85     M      Israel  Yes     \n",
       "Juan      21  173    80     M      Mexico  Yes     "
      ]
     },
     "metadata": {},
     "output_type": "display_data"
    }
   ],
   "source": [
    "newdf <- data.frame(df, df2)\n",
    "newdf"
   ]
  },
  {
   "cell_type": "code",
   "execution_count": 197,
   "metadata": {},
   "outputs": [
    {
     "data": {
      "text/html": [
       "<table>\n",
       "<thead><tr><th></th><th scope=col>Age</th><th scope=col>Height</th><th scope=col>Weight</th><th scope=col>Gender</th><th scope=col>Country</th><th scope=col>Employed</th></tr></thead>\n",
       "<tbody>\n",
       "\t<tr><th scope=row>Martha</th><td>30     </td><td>156    </td><td>51     </td><td>F      </td><td>Finland</td><td>Yes    </td></tr>\n",
       "\t<tr><th scope=row>Sean</th><td>60     </td><td>184    </td><td>75     </td><td>M      </td><td>UK     </td><td>Yes    </td></tr>\n",
       "</tbody>\n",
       "</table>\n"
      ],
      "text/latex": [
       "\\begin{tabular}{r|llllll}\n",
       "  & Age & Height & Weight & Gender & Country & Employed\\\\\n",
       "\\hline\n",
       "\tMartha & 30      & 156     & 51      & F       & Finland & Yes    \\\\\n",
       "\tSean & 60      & 184     & 75      & M       & UK      & Yes    \\\\\n",
       "\\end{tabular}\n"
      ],
      "text/markdown": [
       "\n",
       "| <!--/--> | Age | Height | Weight | Gender | Country | Employed | \n",
       "|---|---|\n",
       "| Martha | 30      | 156     | 51      | F       | Finland | Yes     | \n",
       "| Sean | 60      | 184     | 75      | M       | UK      | Yes     | \n",
       "\n",
       "\n"
      ],
      "text/plain": [
       "       Age Height Weight Gender Country Employed\n",
       "Martha 30  156    51     F      Finland Yes     \n",
       "Sean   60  184    75     M      UK      Yes     "
      ]
     },
     "metadata": {},
     "output_type": "display_data"
    }
   ],
   "source": [
    "newdf[c(\"Martha\", \"Sean\"), ]"
   ]
  },
  {
   "cell_type": "code",
   "execution_count": 198,
   "metadata": {},
   "outputs": [
    {
     "data": {
      "text/html": [
       "<ol class=list-inline>\n",
       "\t<li>171</li>\n",
       "\t<li>156</li>\n",
       "\t<li>157</li>\n",
       "\t<li>184</li>\n",
       "\t<li>164</li>\n",
       "\t<li>192</li>\n",
       "\t<li>173</li>\n",
       "</ol>\n"
      ],
      "text/latex": [
       "\\begin{enumerate*}\n",
       "\\item 171\n",
       "\\item 156\n",
       "\\item 157\n",
       "\\item 184\n",
       "\\item 164\n",
       "\\item 192\n",
       "\\item 173\n",
       "\\end{enumerate*}\n"
      ],
      "text/markdown": [
       "1. 171\n",
       "2. 156\n",
       "3. 157\n",
       "4. 184\n",
       "5. 164\n",
       "6. 192\n",
       "7. 173\n",
       "\n",
       "\n"
      ],
      "text/plain": [
       "[1] 171 156 157 184 164 192 173"
      ]
     },
     "metadata": {},
     "output_type": "display_data"
    }
   ],
   "source": [
    "newdf$Height"
   ]
  },
  {
   "cell_type": "code",
   "execution_count": 199,
   "metadata": {},
   "outputs": [
    {
     "data": {
      "text/html": [
       "<table>\n",
       "<thead><tr><th></th><th scope=col>Age</th><th scope=col>Gender</th><th scope=col>Country</th></tr></thead>\n",
       "<tbody>\n",
       "\t<tr><th scope=row>Alex</th><td>25     </td><td>M      </td><td>France </td></tr>\n",
       "\t<tr><th scope=row>Martha</th><td>30     </td><td>F      </td><td>Finland</td></tr>\n",
       "\t<tr><th scope=row>Kate</th><td>52     </td><td>F      </td><td>USA    </td></tr>\n",
       "\t<tr><th scope=row>Sean</th><td>60     </td><td>M      </td><td>UK     </td></tr>\n",
       "\t<tr><th scope=row>Francesca</th><td>34     </td><td>F      </td><td>Itally </td></tr>\n",
       "\t<tr><th scope=row>Nico</th><td>43     </td><td>M      </td><td>Israel </td></tr>\n",
       "\t<tr><th scope=row>Juan</th><td>21     </td><td>M      </td><td>Mexico </td></tr>\n",
       "</tbody>\n",
       "</table>\n"
      ],
      "text/latex": [
       "\\begin{tabular}{r|lll}\n",
       "  & Age & Gender & Country\\\\\n",
       "\\hline\n",
       "\tAlex & 25      & M       & France \\\\\n",
       "\tMartha & 30      & F       & Finland\\\\\n",
       "\tKate & 52      & F       & USA    \\\\\n",
       "\tSean & 60      & M       & UK     \\\\\n",
       "\tFrancesca & 34      & F       & Itally \\\\\n",
       "\tNico & 43      & M       & Israel \\\\\n",
       "\tJuan & 21      & M       & Mexico \\\\\n",
       "\\end{tabular}\n"
      ],
      "text/markdown": [
       "\n",
       "| <!--/--> | Age | Gender | Country | \n",
       "|---|---|---|---|---|---|---|\n",
       "| Alex | 25      | M       | France  | \n",
       "| Martha | 30      | F       | Finland | \n",
       "| Kate | 52      | F       | USA     | \n",
       "| Sean | 60      | M       | UK      | \n",
       "| Francesca | 34      | F       | Itally  | \n",
       "| Nico | 43      | M       | Israel  | \n",
       "| Juan | 21      | M       | Mexico  | \n",
       "\n",
       "\n"
      ],
      "text/plain": [
       "          Age Gender Country\n",
       "Alex      25  M      France \n",
       "Martha    30  F      Finland\n",
       "Kate      52  F      USA    \n",
       "Sean      60  M      UK     \n",
       "Francesca 34  F      Itally \n",
       "Nico      43  M      Israel \n",
       "Juan      21  M      Mexico "
      ]
     },
     "metadata": {},
     "output_type": "display_data"
    }
   ],
   "source": [
    "newdf[, c(\"Age\", \"Gender\", \"Country\")]"
   ]
  },
  {
   "cell_type": "code",
   "execution_count": 204,
   "metadata": {},
   "outputs": [
    {
     "data": {
      "text/html": [
       "<table>\n",
       "<thead><tr><th></th><th scope=col>mpg</th><th scope=col>cyl</th><th scope=col>disp</th><th scope=col>hp</th><th scope=col>drat</th><th scope=col>wt</th><th scope=col>qsec</th><th scope=col>vs</th><th scope=col>am</th><th scope=col>gear</th><th scope=col>carb</th></tr></thead>\n",
       "<tbody>\n",
       "\t<tr><th scope=row>Mazda RX4</th><td>21.0 </td><td>6    </td><td>160  </td><td>110  </td><td>3.90 </td><td>2.620</td><td>16.46</td><td>0    </td><td>1    </td><td>4    </td><td>4    </td></tr>\n",
       "\t<tr><th scope=row>Mazda RX4 Wag</th><td>21.0 </td><td>6    </td><td>160  </td><td>110  </td><td>3.90 </td><td>2.875</td><td>17.02</td><td>0    </td><td>1    </td><td>4    </td><td>4    </td></tr>\n",
       "\t<tr><th scope=row>Datsun 710</th><td>22.8 </td><td>4    </td><td>108  </td><td> 93  </td><td>3.85 </td><td>2.320</td><td>18.61</td><td>1    </td><td>1    </td><td>4    </td><td>1    </td></tr>\n",
       "\t<tr><th scope=row>Hornet 4 Drive</th><td>21.4 </td><td>6    </td><td>258  </td><td>110  </td><td>3.08 </td><td>3.215</td><td>19.44</td><td>1    </td><td>0    </td><td>3    </td><td>1    </td></tr>\n",
       "\t<tr><th scope=row>Hornet Sportabout</th><td>18.7 </td><td>8    </td><td>360  </td><td>175  </td><td>3.15 </td><td>3.440</td><td>17.02</td><td>0    </td><td>0    </td><td>3    </td><td>2    </td></tr>\n",
       "\t<tr><th scope=row>Valiant</th><td>18.1 </td><td>6    </td><td>225  </td><td>105  </td><td>2.76 </td><td>3.460</td><td>20.22</td><td>1    </td><td>0    </td><td>3    </td><td>1    </td></tr>\n",
       "</tbody>\n",
       "</table>\n"
      ],
      "text/latex": [
       "\\begin{tabular}{r|lllllllllll}\n",
       "  & mpg & cyl & disp & hp & drat & wt & qsec & vs & am & gear & carb\\\\\n",
       "\\hline\n",
       "\tMazda RX4 & 21.0  & 6     & 160   & 110   & 3.90  & 2.620 & 16.46 & 0     & 1     & 4     & 4    \\\\\n",
       "\tMazda RX4 Wag & 21.0  & 6     & 160   & 110   & 3.90  & 2.875 & 17.02 & 0     & 1     & 4     & 4    \\\\\n",
       "\tDatsun 710 & 22.8  & 4     & 108   &  93   & 3.85  & 2.320 & 18.61 & 1     & 1     & 4     & 1    \\\\\n",
       "\tHornet 4 Drive & 21.4  & 6     & 258   & 110   & 3.08  & 3.215 & 19.44 & 1     & 0     & 3     & 1    \\\\\n",
       "\tHornet Sportabout & 18.7  & 8     & 360   & 175   & 3.15  & 3.440 & 17.02 & 0     & 0     & 3     & 2    \\\\\n",
       "\tValiant & 18.1  & 6     & 225   & 105   & 2.76  & 3.460 & 20.22 & 1     & 0     & 3     & 1    \\\\\n",
       "\\end{tabular}\n"
      ],
      "text/markdown": [
       "\n",
       "| <!--/--> | mpg | cyl | disp | hp | drat | wt | qsec | vs | am | gear | carb | \n",
       "|---|---|---|---|---|---|\n",
       "| Mazda RX4 | 21.0  | 6     | 160   | 110   | 3.90  | 2.620 | 16.46 | 0     | 1     | 4     | 4     | \n",
       "| Mazda RX4 Wag | 21.0  | 6     | 160   | 110   | 3.90  | 2.875 | 17.02 | 0     | 1     | 4     | 4     | \n",
       "| Datsun 710 | 22.8  | 4     | 108   |  93   | 3.85  | 2.320 | 18.61 | 1     | 1     | 4     | 1     | \n",
       "| Hornet 4 Drive | 21.4  | 6     | 258   | 110   | 3.08  | 3.215 | 19.44 | 1     | 0     | 3     | 1     | \n",
       "| Hornet Sportabout | 18.7  | 8     | 360   | 175   | 3.15  | 3.440 | 17.02 | 0     | 0     | 3     | 2     | \n",
       "| Valiant | 18.1  | 6     | 225   | 105   | 2.76  | 3.460 | 20.22 | 1     | 0     | 3     | 1     | \n",
       "\n",
       "\n"
      ],
      "text/plain": [
       "                  mpg  cyl disp hp  drat wt    qsec  vs am gear carb\n",
       "Mazda RX4         21.0 6   160  110 3.90 2.620 16.46 0  1  4    4   \n",
       "Mazda RX4 Wag     21.0 6   160  110 3.90 2.875 17.02 0  1  4    4   \n",
       "Datsun 710        22.8 4   108   93 3.85 2.320 18.61 1  1  4    1   \n",
       "Hornet 4 Drive    21.4 6   258  110 3.08 3.215 19.44 1  0  3    1   \n",
       "Hornet Sportabout 18.7 8   360  175 3.15 3.440 17.02 0  0  3    2   \n",
       "Valiant           18.1 6   225  105 2.76 3.460 20.22 1  0  3    1   "
      ]
     },
     "metadata": {},
     "output_type": "display_data"
    },
    {
     "data": {
      "text/html": [
       "<table>\n",
       "<thead><tr><th></th><th scope=col>mpg</th><th scope=col>cyl</th><th scope=col>disp</th><th scope=col>hp</th><th scope=col>drat</th><th scope=col>wt</th><th scope=col>qsec</th><th scope=col>vs</th><th scope=col>am</th><th scope=col>gear</th><th scope=col>carb</th></tr></thead>\n",
       "<tbody>\n",
       "\t<tr><th scope=row>Mazda RX4</th><td>21.0 </td><td>6    </td><td>160.0</td><td>110  </td><td>3.90 </td><td>2.620</td><td>16.46</td><td>0    </td><td>1    </td><td>4    </td><td>4    </td></tr>\n",
       "\t<tr><th scope=row>Mazda RX4 Wag</th><td>21.0 </td><td>6    </td><td>160.0</td><td>110  </td><td>3.90 </td><td>2.875</td><td>17.02</td><td>0    </td><td>1    </td><td>4    </td><td>4    </td></tr>\n",
       "\t<tr><th scope=row>Datsun 710</th><td>22.8 </td><td>4    </td><td>108.0</td><td> 93  </td><td>3.85 </td><td>2.320</td><td>18.61</td><td>1    </td><td>1    </td><td>4    </td><td>1    </td></tr>\n",
       "\t<tr><th scope=row>Hornet 4 Drive</th><td>21.4 </td><td>6    </td><td>258.0</td><td>110  </td><td>3.08 </td><td>3.215</td><td>19.44</td><td>1    </td><td>0    </td><td>3    </td><td>1    </td></tr>\n",
       "\t<tr><th scope=row>Hornet Sportabout</th><td>18.7 </td><td>8    </td><td>360.0</td><td>175  </td><td>3.15 </td><td>3.440</td><td>17.02</td><td>0    </td><td>0    </td><td>3    </td><td>2    </td></tr>\n",
       "\t<tr><th scope=row>Valiant</th><td>18.1 </td><td>6    </td><td>225.0</td><td>105  </td><td>2.76 </td><td>3.460</td><td>20.22</td><td>1    </td><td>0    </td><td>3    </td><td>1    </td></tr>\n",
       "\t<tr><th scope=row>Duster 360</th><td>14.3 </td><td>8    </td><td>360.0</td><td>245  </td><td>3.21 </td><td>3.570</td><td>15.84</td><td>0    </td><td>0    </td><td>3    </td><td>4    </td></tr>\n",
       "\t<tr><th scope=row>Merc 240D</th><td>24.4 </td><td>4    </td><td>146.7</td><td> 62  </td><td>3.69 </td><td>3.190</td><td>20.00</td><td>1    </td><td>0    </td><td>4    </td><td>2    </td></tr>\n",
       "\t<tr><th scope=row>Merc 230</th><td>22.8 </td><td>4    </td><td>140.8</td><td> 95  </td><td>3.92 </td><td>3.150</td><td>22.90</td><td>1    </td><td>0    </td><td>4    </td><td>2    </td></tr>\n",
       "\t<tr><th scope=row>Merc 280</th><td>19.2 </td><td>6    </td><td>167.6</td><td>123  </td><td>3.92 </td><td>3.440</td><td>18.30</td><td>1    </td><td>0    </td><td>4    </td><td>4    </td></tr>\n",
       "</tbody>\n",
       "</table>\n"
      ],
      "text/latex": [
       "\\begin{tabular}{r|lllllllllll}\n",
       "  & mpg & cyl & disp & hp & drat & wt & qsec & vs & am & gear & carb\\\\\n",
       "\\hline\n",
       "\tMazda RX4 & 21.0  & 6     & 160.0 & 110   & 3.90  & 2.620 & 16.46 & 0     & 1     & 4     & 4    \\\\\n",
       "\tMazda RX4 Wag & 21.0  & 6     & 160.0 & 110   & 3.90  & 2.875 & 17.02 & 0     & 1     & 4     & 4    \\\\\n",
       "\tDatsun 710 & 22.8  & 4     & 108.0 &  93   & 3.85  & 2.320 & 18.61 & 1     & 1     & 4     & 1    \\\\\n",
       "\tHornet 4 Drive & 21.4  & 6     & 258.0 & 110   & 3.08  & 3.215 & 19.44 & 1     & 0     & 3     & 1    \\\\\n",
       "\tHornet Sportabout & 18.7  & 8     & 360.0 & 175   & 3.15  & 3.440 & 17.02 & 0     & 0     & 3     & 2    \\\\\n",
       "\tValiant & 18.1  & 6     & 225.0 & 105   & 2.76  & 3.460 & 20.22 & 1     & 0     & 3     & 1    \\\\\n",
       "\tDuster 360 & 14.3  & 8     & 360.0 & 245   & 3.21  & 3.570 & 15.84 & 0     & 0     & 3     & 4    \\\\\n",
       "\tMerc 240D & 24.4  & 4     & 146.7 &  62   & 3.69  & 3.190 & 20.00 & 1     & 0     & 4     & 2    \\\\\n",
       "\tMerc 230 & 22.8  & 4     & 140.8 &  95   & 3.92  & 3.150 & 22.90 & 1     & 0     & 4     & 2    \\\\\n",
       "\tMerc 280 & 19.2  & 6     & 167.6 & 123   & 3.92  & 3.440 & 18.30 & 1     & 0     & 4     & 4    \\\\\n",
       "\\end{tabular}\n"
      ],
      "text/markdown": [
       "\n",
       "| <!--/--> | mpg | cyl | disp | hp | drat | wt | qsec | vs | am | gear | carb | \n",
       "|---|---|---|---|---|---|---|---|---|---|\n",
       "| Mazda RX4 | 21.0  | 6     | 160.0 | 110   | 3.90  | 2.620 | 16.46 | 0     | 1     | 4     | 4     | \n",
       "| Mazda RX4 Wag | 21.0  | 6     | 160.0 | 110   | 3.90  | 2.875 | 17.02 | 0     | 1     | 4     | 4     | \n",
       "| Datsun 710 | 22.8  | 4     | 108.0 |  93   | 3.85  | 2.320 | 18.61 | 1     | 1     | 4     | 1     | \n",
       "| Hornet 4 Drive | 21.4  | 6     | 258.0 | 110   | 3.08  | 3.215 | 19.44 | 1     | 0     | 3     | 1     | \n",
       "| Hornet Sportabout | 18.7  | 8     | 360.0 | 175   | 3.15  | 3.440 | 17.02 | 0     | 0     | 3     | 2     | \n",
       "| Valiant | 18.1  | 6     | 225.0 | 105   | 2.76  | 3.460 | 20.22 | 1     | 0     | 3     | 1     | \n",
       "| Duster 360 | 14.3  | 8     | 360.0 | 245   | 3.21  | 3.570 | 15.84 | 0     | 0     | 3     | 4     | \n",
       "| Merc 240D | 24.4  | 4     | 146.7 |  62   | 3.69  | 3.190 | 20.00 | 1     | 0     | 4     | 2     | \n",
       "| Merc 230 | 22.8  | 4     | 140.8 |  95   | 3.92  | 3.150 | 22.90 | 1     | 0     | 4     | 2     | \n",
       "| Merc 280 | 19.2  | 6     | 167.6 | 123   | 3.92  | 3.440 | 18.30 | 1     | 0     | 4     | 4     | \n",
       "\n",
       "\n"
      ],
      "text/plain": [
       "                  mpg  cyl disp  hp  drat wt    qsec  vs am gear carb\n",
       "Mazda RX4         21.0 6   160.0 110 3.90 2.620 16.46 0  1  4    4   \n",
       "Mazda RX4 Wag     21.0 6   160.0 110 3.90 2.875 17.02 0  1  4    4   \n",
       "Datsun 710        22.8 4   108.0  93 3.85 2.320 18.61 1  1  4    1   \n",
       "Hornet 4 Drive    21.4 6   258.0 110 3.08 3.215 19.44 1  0  3    1   \n",
       "Hornet Sportabout 18.7 8   360.0 175 3.15 3.440 17.02 0  0  3    2   \n",
       "Valiant           18.1 6   225.0 105 2.76 3.460 20.22 1  0  3    1   \n",
       "Duster 360        14.3 8   360.0 245 3.21 3.570 15.84 0  0  3    4   \n",
       "Merc 240D         24.4 4   146.7  62 3.69 3.190 20.00 1  0  4    2   \n",
       "Merc 230          22.8 4   140.8  95 3.92 3.150 22.90 1  0  4    2   \n",
       "Merc 280          19.2 6   167.6 123 3.92 3.440 18.30 1  0  4    4   "
      ]
     },
     "metadata": {},
     "output_type": "display_data"
    },
    {
     "data": {
      "text/plain": [
       "      mpg             cyl             disp             hp       \n",
       " Min.   :10.40   Min.   :4.000   Min.   : 71.1   Min.   : 52.0  \n",
       " 1st Qu.:15.43   1st Qu.:4.000   1st Qu.:120.8   1st Qu.: 96.5  \n",
       " Median :19.20   Median :6.000   Median :196.3   Median :123.0  \n",
       " Mean   :20.09   Mean   :6.188   Mean   :230.7   Mean   :146.7  \n",
       " 3rd Qu.:22.80   3rd Qu.:8.000   3rd Qu.:326.0   3rd Qu.:180.0  \n",
       " Max.   :33.90   Max.   :8.000   Max.   :472.0   Max.   :335.0  \n",
       "      drat             wt             qsec             vs        \n",
       " Min.   :2.760   Min.   :1.513   Min.   :14.50   Min.   :0.0000  \n",
       " 1st Qu.:3.080   1st Qu.:2.581   1st Qu.:16.89   1st Qu.:0.0000  \n",
       " Median :3.695   Median :3.325   Median :17.71   Median :0.0000  \n",
       " Mean   :3.597   Mean   :3.217   Mean   :17.85   Mean   :0.4375  \n",
       " 3rd Qu.:3.920   3rd Qu.:3.610   3rd Qu.:18.90   3rd Qu.:1.0000  \n",
       " Max.   :4.930   Max.   :5.424   Max.   :22.90   Max.   :1.0000  \n",
       "       am              gear            carb      \n",
       " Min.   :0.0000   Min.   :3.000   Min.   :1.000  \n",
       " 1st Qu.:0.0000   1st Qu.:3.000   1st Qu.:2.000  \n",
       " Median :0.0000   Median :4.000   Median :2.000  \n",
       " Mean   :0.4062   Mean   :3.688   Mean   :2.812  \n",
       " 3rd Qu.:1.0000   3rd Qu.:4.000   3rd Qu.:4.000  \n",
       " Max.   :1.0000   Max.   :5.000   Max.   :8.000  "
      ]
     },
     "metadata": {},
     "output_type": "display_data"
    },
    {
     "data": {
      "text/plain": [
       "      Age            Height          Weight      Gender    Country  Employed\n",
       " Min.   :21.00   Min.   :156.0   Min.   :49.00   F:3    Finland:1   No :3   \n",
       " 1st Qu.:27.50   1st Qu.:160.5   1st Qu.:55.50   M:4    France :1   Yes:4   \n",
       " Median :34.00   Median :171.0   Median :67.00          Israel :1           \n",
       " Mean   :37.86   Mean   :171.0   Mean   :66.71          Itally :1           \n",
       " 3rd Qu.:47.50   3rd Qu.:178.5   3rd Qu.:77.50          Mexico :1           \n",
       " Max.   :60.00   Max.   :192.0   Max.   :85.00          UK     :1           \n",
       "                                                        USA    :1           "
      ]
     },
     "metadata": {},
     "output_type": "display_data"
    },
    {
     "data": {
      "image/png": "[encoded data removed]",
      "text/plain": [
       "plot without title"
      ]
     },
     "metadata": {},
     "output_type": "display_data"
    }
   ],
   "source": [
    "head(mtcars)\n",
    "head(mtcars, n = 10)\n",
    "summary(mtcars)\n",
    "summary(newdf)\n",
    "plot(x = mtcars$mpg, y = mtcars$hp)"
   ]
  },
  {
   "cell_type": "code",
   "execution_count": 205,
   "metadata": {},
   "outputs": [
    {
     "data": {
      "image/png": "[encoded data removed]",
      "text/plain": [
       "plot without title"
      ]
     },
     "metadata": {},
     "output_type": "display_data"
    }
   ],
   "source": [
    "plot(mtcars[, c(1, 4)])"
   ]
  },
  {
   "cell_type": "code",
   "execution_count": 206,
   "metadata": {},
   "outputs": [],
   "source": [
    "calendar <- list(1910:2017, \n",
    "                 c(\"Jan\", \"Feb\", \"Mar\", \"Apr\", \"May\", \"Jun\", \"Jul\", \"Aug\", \"Sep\", \"Oct\", \"Nov\", \"Dec\"),\n",
    "                 1:31)"
   ]
  },
  {
   "cell_type": "code",
   "execution_count": 207,
   "metadata": {},
   "outputs": [],
   "source": [
    "names(calendar) <- c(\"year\", \"month\", \"date\")"
   ]
  },
  {
   "cell_type": "code",
   "execution_count": 208,
   "metadata": {},
   "outputs": [
    {
     "name": "stdout",
     "output_type": "stream",
     "text": [
      "$year\n",
      "  [1] 1910 1911 1912 1913 1914 1915 1916 1917 1918 1919 1920 1921 1922 1923 1924\n",
      " [16] 1925 1926 1927 1928 1929 1930 1931 1932 1933 1934 1935 1936 1937 1938 1939\n",
      " [31] 1940 1941 1942 1943 1944 1945 1946 1947 1948 1949 1950 1951 1952 1953 1954\n",
      " [46] 1955 1956 1957 1958 1959 1960 1961 1962 1963 1964 1965 1966 1967 1968 1969\n",
      " [61] 1970 1971 1972 1973 1974 1975 1976 1977 1978 1979 1980 1981 1982 1983 1984\n",
      " [76] 1985 1986 1987 1988 1989 1990 1991 1992 1993 1994 1995 1996 1997 1998 1999\n",
      " [91] 2000 2001 2002 2003 2004 2005 2006 2007 2008 2009 2010 2011 2012 2013 2014\n",
      "[106] 2015 2016 2017\n",
      "\n",
      "$month\n",
      " [1] \"Jan\" \"Feb\" \"Mar\" \"Apr\" \"May\" \"Jun\" \"Jul\" \"Aug\" \"Sep\" \"Oct\" \"Nov\" \"Dec\"\n",
      "\n",
      "$date\n",
      " [1]  1  2  3  4  5  6  7  8  9 10 11 12 13 14 15 16 17 18 19 20 21 22 23 24 25\n",
      "[26] 26 27 28 29 30 31\n",
      "\n"
     ]
    }
   ],
   "source": [
    "calendar2 <- list(year = 1910:2017, \n",
    "                  month = c(\"Jan\", \"Feb\", \"Mar\", \"Apr\", \"May\", \"Jun\", \n",
    "                            \"Jul\", \"Aug\", \"Sep\", \"Oct\", \"Nov\", \"Dec\"),\n",
    "                  date = 1:31)\n",
    "print(calendar2)"
   ]
  },
  {
   "cell_type": "code",
   "execution_count": 209,
   "metadata": {},
   "outputs": [
    {
     "data": {
      "text/html": [
       "'list'"
      ],
      "text/latex": [
       "'list'"
      ],
      "text/markdown": [
       "'list'"
      ],
      "text/plain": [
       "[1] \"list\""
      ]
     },
     "metadata": {},
     "output_type": "display_data"
    },
    {
     "data": {
      "text/html": [
       "'integer'"
      ],
      "text/latex": [
       "'integer'"
      ],
      "text/markdown": [
       "'integer'"
      ],
      "text/plain": [
       "[1] \"integer\""
      ]
     },
     "metadata": {},
     "output_type": "display_data"
    },
    {
     "data": {
      "text/html": [
       "'character'"
      ],
      "text/latex": [
       "'character'"
      ],
      "text/markdown": [
       "'character'"
      ],
      "text/plain": [
       "[1] \"character\""
      ]
     },
     "metadata": {},
     "output_type": "display_data"
    },
    {
     "data": {
      "text/html": [
       "'integer'"
      ],
      "text/latex": [
       "'integer'"
      ],
      "text/markdown": [
       "'integer'"
      ],
      "text/plain": [
       "[1] \"integer\""
      ]
     },
     "metadata": {},
     "output_type": "display_data"
    }
   ],
   "source": [
    "class(calendar)\n",
    "class(calendar[[1]])\n",
    "class(calendar[[2]])\n",
    "class(calendar[[3]])"
   ]
  },
  {
   "cell_type": "code",
   "execution_count": 210,
   "metadata": {},
   "outputs": [
    {
     "data": {
      "text/plain": [
       "      Length Class  Mode     \n",
       "year  108    -none- numeric  \n",
       "month  12    -none- character\n",
       "date   31    -none- numeric  "
      ]
     },
     "metadata": {},
     "output_type": "display_data"
    }
   ],
   "source": [
    "summary(calendar)"
   ]
  },
  {
   "cell_type": "code",
   "execution_count": 211,
   "metadata": {},
   "outputs": [
    {
     "name": "stdout",
     "output_type": "stream",
     "text": [
      "List of 3\n",
      " $ year : int [1:108] 1910 1911 1912 1913 1914 1915 1916 1917 1918 1919 ...\n",
      " $ month: chr [1:12] \"Jan\" \"Feb\" \"Mar\" \"Apr\" ...\n",
      " $ date : int [1:31] 1 2 3 4 5 6 7 8 9 10 ...\n"
     ]
    }
   ],
   "source": [
    "str(calendar)"
   ]
  },
  {
   "cell_type": "code",
   "execution_count": 212,
   "metadata": {},
   "outputs": [
    {
     "data": {
      "text/html": [
       "<ol class=list-inline>\n",
       "\t<li>'Jan'</li>\n",
       "\t<li>'Feb'</li>\n",
       "\t<li>'Mar'</li>\n",
       "\t<li>'Apr'</li>\n",
       "\t<li>'May'</li>\n",
       "\t<li>'Jun'</li>\n",
       "\t<li>'Jul'</li>\n",
       "\t<li>'Aug'</li>\n",
       "\t<li>'Sep'</li>\n",
       "\t<li>'Oct'</li>\n",
       "\t<li>'Nov'</li>\n",
       "\t<li>'Dec'</li>\n",
       "</ol>\n"
      ],
      "text/latex": [
       "\\begin{enumerate*}\n",
       "\\item 'Jan'\n",
       "\\item 'Feb'\n",
       "\\item 'Mar'\n",
       "\\item 'Apr'\n",
       "\\item 'May'\n",
       "\\item 'Jun'\n",
       "\\item 'Jul'\n",
       "\\item 'Aug'\n",
       "\\item 'Sep'\n",
       "\\item 'Oct'\n",
       "\\item 'Nov'\n",
       "\\item 'Dec'\n",
       "\\end{enumerate*}\n"
      ],
      "text/markdown": [
       "1. 'Jan'\n",
       "2. 'Feb'\n",
       "3. 'Mar'\n",
       "4. 'Apr'\n",
       "5. 'May'\n",
       "6. 'Jun'\n",
       "7. 'Jul'\n",
       "8. 'Aug'\n",
       "9. 'Sep'\n",
       "10. 'Oct'\n",
       "11. 'Nov'\n",
       "12. 'Dec'\n",
       "\n",
       "\n"
      ],
      "text/plain": [
       " [1] \"Jan\" \"Feb\" \"Mar\" \"Apr\" \"May\" \"Jun\" \"Jul\" \"Aug\" \"Sep\" \"Oct\" \"Nov\" \"Dec\""
      ]
     },
     "metadata": {},
     "output_type": "display_data"
    }
   ],
   "source": [
    "calendar2$month"
   ]
  },
  {
   "cell_type": "code",
   "execution_count": 216,
   "metadata": {},
   "outputs": [
    {
     "data": {
      "text/html": [
       "1990"
      ],
      "text/latex": [
       "1990"
      ],
      "text/markdown": [
       "1990"
      ],
      "text/plain": [
       "[1] 1990"
      ]
     },
     "metadata": {},
     "output_type": "display_data"
    },
    {
     "data": {
      "text/html": [
       "1990"
      ],
      "text/latex": [
       "1990"
      ],
      "text/markdown": [
       "1990"
      ],
      "text/plain": [
       "[1] 1990"
      ]
     },
     "metadata": {},
     "output_type": "display_data"
    },
    {
     "data": {
      "text/html": [
       "'Aug'"
      ],
      "text/latex": [
       "'Aug'"
      ],
      "text/markdown": [
       "'Aug'"
      ],
      "text/plain": [
       "[1] \"Aug\""
      ]
     },
     "metadata": {},
     "output_type": "display_data"
    },
    {
     "data": {
      "text/html": [
       "1917"
      ],
      "text/latex": [
       "1917"
      ],
      "text/markdown": [
       "1917"
      ],
      "text/plain": [
       "[1] 1917"
      ]
     },
     "metadata": {},
     "output_type": "display_data"
    },
    {
     "data": {
      "text/html": [
       "23"
      ],
      "text/latex": [
       "23"
      ],
      "text/markdown": [
       "23"
      ],
      "text/plain": [
       "[1] 23"
      ]
     },
     "metadata": {},
     "output_type": "display_data"
    },
    {
     "data": {
      "text/html": [
       "1932"
      ],
      "text/latex": [
       "1932"
      ],
      "text/markdown": [
       "1932"
      ],
      "text/plain": [
       "[1] 1932"
      ]
     },
     "metadata": {},
     "output_type": "display_data"
    }
   ],
   "source": [
    "calendar2[[1]][81]\n",
    "calendar2$year[81]\n",
    "calendar2[[2]][8]\n",
    "calendar2$year[8]\n",
    "calendar2[[3]][23]\n",
    "calendar2$year[23]"
   ]
  },
  {
   "cell_type": "code",
   "execution_count": 217,
   "metadata": {},
   "outputs": [],
   "source": [
    "v = runif(round(runif(1)*1000))"
   ]
  },
  {
   "cell_type": "code",
   "execution_count": 218,
   "metadata": {},
   "outputs": [
    {
     "data": {
      "text/html": [
       "640"
      ],
      "text/latex": [
       "640"
      ],
      "text/markdown": [
       "640"
      ],
      "text/plain": [
       "[1] 640"
      ]
     },
     "metadata": {},
     "output_type": "display_data"
    }
   ],
   "source": [
    "length(v)"
   ]
  },
  {
   "cell_type": "code",
   "execution_count": 232,
   "metadata": {},
   "outputs": [
    {
     "data": {
      "text/html": [
       "<ol class=list-inline>\n",
       "\t<li>6</li>\n",
       "\t<li>7</li>\n",
       "\t<li>8</li>\n",
       "\t<li>9</li>\n",
       "</ol>\n"
      ],
      "text/latex": [
       "\\begin{enumerate*}\n",
       "\\item 6\n",
       "\\item 7\n",
       "\\item 8\n",
       "\\item 9\n",
       "\\end{enumerate*}\n"
      ],
      "text/markdown": [
       "1. 6\n",
       "2. 7\n",
       "3. 8\n",
       "4. 9\n",
       "\n",
       "\n"
      ],
      "text/plain": [
       "[1] 6 7 8 9"
      ]
     },
     "metadata": {},
     "output_type": "display_data"
    }
   ],
   "source": [
    "v = c(1,2,3,4,5,6,7,8,9,0)\n",
    "v[v>5]"
   ]
  },
  {
   "cell_type": "code",
   "execution_count": 229,
   "metadata": {},
   "outputs": [],
   "source": [
    "A = matrix(c(3,4,2,7,4,1,0,2), ncol = 2)\n",
    "v = c(9,1,5,0)\n"
   ]
  },
  {
   "cell_type": "code",
   "execution_count": 231,
   "metadata": {},
   "outputs": [
    {
     "data": {
      "text/html": [
       "<table>\n",
       "<tbody>\n",
       "\t<tr><td>3</td><td>9</td></tr>\n",
       "\t<tr><td>4</td><td>1</td></tr>\n",
       "\t<tr><td>2</td><td>5</td></tr>\n",
       "\t<tr><td>7</td><td>0</td></tr>\n",
       "</tbody>\n",
       "</table>\n"
      ],
      "text/latex": [
       "\\begin{tabular}{ll}\n",
       "\t 3 & 9\\\\\n",
       "\t 4 & 1\\\\\n",
       "\t 2 & 5\\\\\n",
       "\t 7 & 0\\\\\n",
       "\\end{tabular}\n"
      ],
      "text/markdown": [
       "\n",
       "| 3 | 9 | \n",
       "| 4 | 1 | \n",
       "| 2 | 5 | \n",
       "| 7 | 0 | \n",
       "\n",
       "\n"
      ],
      "text/plain": [
       "     [,1] [,2]\n",
       "[1,] 3    9   \n",
       "[2,] 4    1   \n",
       "[3,] 2    5   \n",
       "[4,] 7    0   "
      ]
     },
     "metadata": {},
     "output_type": "display_data"
    }
   ],
   "source": [
    "matrix(c(3,4,2,7,9,1,5,0), ncol = 2)"
   ]
  },
  {
   "cell_type": "code",
   "execution_count": 233,
   "metadata": {},
   "outputs": [
    {
     "data": {
      "text/html": [
       "<table>\n",
       "<tbody>\n",
       "\t<tr><td> TRUE</td><td> TRUE</td></tr>\n",
       "\t<tr><td>FALSE</td><td>FALSE</td></tr>\n",
       "</tbody>\n",
       "</table>\n"
      ],
      "text/latex": [
       "\\begin{tabular}{ll}\n",
       "\t  TRUE &  TRUE\\\\\n",
       "\t FALSE & FALSE\\\\\n",
       "\\end{tabular}\n"
      ],
      "text/markdown": [
       "\n",
       "|  TRUE |  TRUE | \n",
       "| FALSE | FALSE | \n",
       "\n",
       "\n"
      ],
      "text/plain": [
       "     [,1]  [,2] \n",
       "[1,]  TRUE  TRUE\n",
       "[2,] FALSE FALSE"
      ]
     },
     "metadata": {},
     "output_type": "display_data"
    }
   ],
   "source": [
    "matrix(c(TRUE,FALSE,TRUE,FALSE), nrow=2)"
   ]
  },
  {
   "cell_type": "code",
   "execution_count": 234,
   "metadata": {},
   "outputs": [
    {
     "ename": "ERROR",
     "evalue": "Error in A(colnames) <- c(\"A1\", \"A2\", \"A3\", \"A4\"): could not find function \"A<-\"\n",
     "output_type": "error",
     "traceback": [
      "Error in A(colnames) <- c(\"A1\", \"A2\", \"A3\", \"A4\"): could not find function \"A<-\"\nTraceback:\n"
     ]
    }
   ],
   "source": [
    "A(colnames) <- c(\"A1\",\"A2\",\"A3\",\"A4\")"
   ]
  },
  {
   "cell_type": "code",
   "execution_count": 240,
   "metadata": {},
   "outputs": [
    {
     "name": "stdout",
     "output_type": "stream",
     "text": [
      " num [1:4, 1:2] 3 4 2 7 4 1 0 2\n"
     ]
    }
   ],
   "source": [
    "str(A)"
   ]
  },
  {
   "cell_type": "code",
   "execution_count": 241,
   "metadata": {},
   "outputs": [
    {
     "ename": "ERROR",
     "evalue": "Error in type(A): could not find function \"type\"\n",
     "output_type": "error",
     "traceback": [
      "Error in type(A): could not find function \"type\"\nTraceback:\n"
     ]
    }
   ],
   "source": [
    "type(A)"
   ]
  },
  {
   "cell_type": "code",
   "execution_count": 242,
   "metadata": {},
   "outputs": [
    {
     "data": {
      "text/html": [
       "TRUE"
      ],
      "text/latex": [
       "TRUE"
      ],
      "text/markdown": [
       "TRUE"
      ],
      "text/plain": [
       "[1] TRUE"
      ]
     },
     "metadata": {},
     "output_type": "display_data"
    }
   ],
   "source": [
    "is.matrix(A)"
   ]
  },
  {
   "cell_type": "code",
   "execution_count": 252,
   "metadata": {},
   "outputs": [],
   "source": [
    "file.show(\"data.csv\")"
   ]
  },
  {
   "cell_type": "code",
   "execution_count": 253,
   "metadata": {},
   "outputs": [
    {
     "data": {
      "text/html": [
       "<ol class=list-inline>\n",
       "\t<li>'data.csv'</li>\n",
       "\t<li>'my_secret_diary.txt'</li>\n",
       "\t<li>'PythonQuickReference.ipynb'</li>\n",
       "\t<li>'RQuickReference.ipynb'</li>\n",
       "\t<li>'test0.txt'</li>\n",
       "\t<li>'test1.txt'</li>\n",
       "\t<li>'test2.txt'</li>\n",
       "</ol>\n"
      ],
      "text/latex": [
       "\\begin{enumerate*}\n",
       "\\item 'data.csv'\n",
       "\\item 'my\\_secret\\_diary.txt'\n",
       "\\item 'PythonQuickReference.ipynb'\n",
       "\\item 'RQuickReference.ipynb'\n",
       "\\item 'test0.txt'\n",
       "\\item 'test1.txt'\n",
       "\\item 'test2.txt'\n",
       "\\end{enumerate*}\n"
      ],
      "text/markdown": [
       "1. 'data.csv'\n",
       "2. 'my_secret_diary.txt'\n",
       "3. 'PythonQuickReference.ipynb'\n",
       "4. 'RQuickReference.ipynb'\n",
       "5. 'test0.txt'\n",
       "6. 'test1.txt'\n",
       "7. 'test2.txt'\n",
       "\n",
       "\n"
      ],
      "text/plain": [
       "[1] \"data.csv\"                   \"my_secret_diary.txt\"       \n",
       "[3] \"PythonQuickReference.ipynb\" \"RQuickReference.ipynb\"     \n",
       "[5] \"test0.txt\"                  \"test1.txt\"                 \n",
       "[7] \"test2.txt\"                 "
      ]
     },
     "metadata": {},
     "output_type": "display_data"
    }
   ],
   "source": [
    "dir()"
   ]
  },
  {
   "cell_type": "code",
   "execution_count": 254,
   "metadata": {},
   "outputs": [],
   "source": [
    "?read.delim"
   ]
  },
  {
   "cell_type": "code",
   "execution_count": 261,
   "metadata": {},
   "outputs": [
    {
     "data": {
      "text/html": [
       "<table>\n",
       "<thead><tr><th scope=col>x</th><th scope=col>y</th><th scope=col>z</th><th scope=col>value</th></tr></thead>\n",
       "<tbody>\n",
       "\t<tr><td>1</td><td>2</td><td>3</td><td>x</td></tr>\n",
       "\t<tr><td>4</td><td>5</td><td>6</td><td>y</td></tr>\n",
       "\t<tr><td>7</td><td>8</td><td>9</td><td>z</td></tr>\n",
       "</tbody>\n",
       "</table>\n"
      ],
      "text/latex": [
       "\\begin{tabular}{r|llll}\n",
       " x & y & z & value\\\\\n",
       "\\hline\n",
       "\t 1 & 2 & 3 & x\\\\\n",
       "\t 4 & 5 & 6 & y\\\\\n",
       "\t 7 & 8 & 9 & z\\\\\n",
       "\\end{tabular}\n"
      ],
      "text/markdown": [
       "\n",
       "x | y | z | value | \n",
       "|---|---|---|\n",
       "| 1 | 2 | 3 | x | \n",
       "| 4 | 5 | 6 | y | \n",
       "| 7 | 8 | 9 | z | \n",
       "\n",
       "\n"
      ],
      "text/plain": [
       "  x y z value\n",
       "1 1 2 3 x    \n",
       "2 4 5 6 y    \n",
       "3 7 8 9 z    "
      ]
     },
     "metadata": {},
     "output_type": "display_data"
    },
    {
     "data": {
      "text/html": [
       "<ol class=list-inline>\n",
       "\t<li>3</li>\n",
       "\t<li>4</li>\n",
       "</ol>\n"
      ],
      "text/latex": [
       "\\begin{enumerate*}\n",
       "\\item 3\n",
       "\\item 4\n",
       "\\end{enumerate*}\n"
      ],
      "text/markdown": [
       "1. 3\n",
       "2. 4\n",
       "\n",
       "\n"
      ],
      "text/plain": [
       "[1] 3 4"
      ]
     },
     "metadata": {},
     "output_type": "display_data"
    },
    {
     "data": {
      "text/html": [
       "<table>\n",
       "<thead><tr><th scope=col>V1</th><th scope=col>V2</th><th scope=col>V3</th><th scope=col>V4</th></tr></thead>\n",
       "<tbody>\n",
       "\t<tr><td>x    </td><td>y    </td><td>z    </td><td>value</td></tr>\n",
       "\t<tr><td>1    </td><td>2    </td><td>3    </td><td>x    </td></tr>\n",
       "\t<tr><td>4    </td><td>5    </td><td>6    </td><td>y    </td></tr>\n",
       "\t<tr><td>7    </td><td>8    </td><td>9    </td><td>z    </td></tr>\n",
       "</tbody>\n",
       "</table>\n"
      ],
      "text/latex": [
       "\\begin{tabular}{r|llll}\n",
       " V1 & V2 & V3 & V4\\\\\n",
       "\\hline\n",
       "\t x     & y     & z     & value\\\\\n",
       "\t 1     & 2     & 3     & x    \\\\\n",
       "\t 4     & 5     & 6     & y    \\\\\n",
       "\t 7     & 8     & 9     & z    \\\\\n",
       "\\end{tabular}\n"
      ],
      "text/markdown": [
       "\n",
       "V1 | V2 | V3 | V4 | \n",
       "|---|---|---|---|\n",
       "| x     | y     | z     | value | \n",
       "| 1     | 2     | 3     | x     | \n",
       "| 4     | 5     | 6     | y     | \n",
       "| 7     | 8     | 9     | z     | \n",
       "\n",
       "\n"
      ],
      "text/plain": [
       "  V1 V2 V3 V4   \n",
       "1 x  y  z  value\n",
       "2 1  2  3  x    \n",
       "3 4  5  6  y    \n",
       "4 7  8  9  z    "
      ]
     },
     "metadata": {},
     "output_type": "display_data"
    },
    {
     "data": {
      "text/html": [
       "<table>\n",
       "<thead><tr><th scope=col>x.y.z.value</th></tr></thead>\n",
       "<tbody>\n",
       "\t<tr><td>1,2,3,x</td></tr>\n",
       "\t<tr><td>4,5,6,y</td></tr>\n",
       "\t<tr><td>7,8,9,z</td></tr>\n",
       "</tbody>\n",
       "</table>\n"
      ],
      "text/latex": [
       "\\begin{tabular}{r|l}\n",
       " x.y.z.value\\\\\n",
       "\\hline\n",
       "\t 1,2,3,x\\\\\n",
       "\t 4,5,6,y\\\\\n",
       "\t 7,8,9,z\\\\\n",
       "\\end{tabular}\n"
      ],
      "text/markdown": [
       "\n",
       "x.y.z.value | \n",
       "|---|---|---|\n",
       "| 1,2,3,x | \n",
       "| 4,5,6,y | \n",
       "| 7,8,9,z | \n",
       "\n",
       "\n"
      ],
      "text/plain": [
       "  x.y.z.value\n",
       "1 1,2,3,x    \n",
       "2 4,5,6,y    \n",
       "3 7,8,9,z    "
      ]
     },
     "metadata": {},
     "output_type": "display_data"
    },
    {
     "data": {
      "text/html": [
       "<table>\n",
       "<thead><tr><th scope=col>x.y.z.value</th></tr></thead>\n",
       "<tbody>\n",
       "\t<tr><td>1,2,3,x</td></tr>\n",
       "\t<tr><td>4,5,6,y</td></tr>\n",
       "\t<tr><td>7,8,9,z</td></tr>\n",
       "</tbody>\n",
       "</table>\n"
      ],
      "text/latex": [
       "\\begin{tabular}{r|l}\n",
       " x.y.z.value\\\\\n",
       "\\hline\n",
       "\t 1,2,3,x\\\\\n",
       "\t 4,5,6,y\\\\\n",
       "\t 7,8,9,z\\\\\n",
       "\\end{tabular}\n"
      ],
      "text/markdown": [
       "\n",
       "x.y.z.value | \n",
       "|---|---|---|\n",
       "| 1,2,3,x | \n",
       "| 4,5,6,y | \n",
       "| 7,8,9,z | \n",
       "\n",
       "\n"
      ],
      "text/plain": [
       "  x.y.z.value\n",
       "1 1,2,3,x    \n",
       "2 4,5,6,y    \n",
       "3 7,8,9,z    "
      ]
     },
     "metadata": {},
     "output_type": "display_data"
    }
   ],
   "source": [
    "sample = read.csv(\"data.csv\")\n",
    "head(sample)\n",
    "dim(sample)\n",
    "sample1 = read.table(\"data.csv\", sep=\",\")\n",
    "sample2 = read.delim(\"data.csv\")\n",
    "sample3 = read.delim2(\"data.csv\")\n",
    "head(sample1)\n",
    "head(sample2)\n",
    "head(sample3)"
   ]
  },
  {
   "cell_type": "code",
   "execution_count": 263,
   "metadata": {},
   "outputs": [
    {
     "name": "stdout",
     "output_type": "stream",
     "text": [
      "'data.frame':\t3 obs. of  4 variables:\n",
      " $ x    : int  1 4 7\n",
      " $ y    : int  2 5 8\n",
      " $ z    : int  3 6 9\n",
      " $ value: Factor w/ 3 levels \"x\",\"y\",\"z\": 1 2 3\n"
     ]
    }
   ],
   "source": [
    "str(sample)"
   ]
  },
  {
   "cell_type": "code",
   "execution_count": 264,
   "metadata": {},
   "outputs": [],
   "source": [
    "sample2 = read.csv(\"data.csv\", row.names=1)"
   ]
  },
  {
   "cell_type": "code",
   "execution_count": 265,
   "metadata": {},
   "outputs": [
    {
     "data": {
      "text/html": [
       "<table>\n",
       "<thead><tr><th></th><th scope=col>y</th><th scope=col>z</th><th scope=col>value</th></tr></thead>\n",
       "<tbody>\n",
       "\t<tr><th scope=row>1</th><td>2</td><td>3</td><td>x</td></tr>\n",
       "\t<tr><th scope=row>4</th><td>5</td><td>6</td><td>y</td></tr>\n",
       "\t<tr><th scope=row>7</th><td>8</td><td>9</td><td>z</td></tr>\n",
       "</tbody>\n",
       "</table>\n"
      ],
      "text/latex": [
       "\\begin{tabular}{r|lll}\n",
       "  & y & z & value\\\\\n",
       "\\hline\n",
       "\t1 & 2 & 3 & x\\\\\n",
       "\t4 & 5 & 6 & y\\\\\n",
       "\t7 & 8 & 9 & z\\\\\n",
       "\\end{tabular}\n"
      ],
      "text/markdown": [
       "\n",
       "| <!--/--> | y | z | value | \n",
       "|---|---|---|\n",
       "| 1 | 2 | 3 | x | \n",
       "| 4 | 5 | 6 | y | \n",
       "| 7 | 8 | 9 | z | \n",
       "\n",
       "\n"
      ],
      "text/plain": [
       "  y z value\n",
       "1 2 3 x    \n",
       "4 5 6 y    \n",
       "7 8 9 z    "
      ]
     },
     "metadata": {},
     "output_type": "display_data"
    }
   ],
   "source": [
    "sample2"
   ]
  },
  {
   "cell_type": "code",
   "execution_count": 271,
   "metadata": {},
   "outputs": [
    {
     "data": {
      "text/html": [
       "<ol class=list-inline>\n",
       "\t<li>'x,y,z,value'</li>\n",
       "\t<li>'1,2,3,x'</li>\n",
       "\t<li>'4,5,6,y'</li>\n",
       "\t<li>'7,8,9,z'</li>\n",
       "</ol>\n"
      ],
      "text/latex": [
       "\\begin{enumerate*}\n",
       "\\item 'x,y,z,value'\n",
       "\\item '1,2,3,x'\n",
       "\\item '4,5,6,y'\n",
       "\\item '7,8,9,z'\n",
       "\\end{enumerate*}\n"
      ],
      "text/markdown": [
       "1. 'x,y,z,value'\n",
       "2. '1,2,3,x'\n",
       "3. '4,5,6,y'\n",
       "4. '7,8,9,z'\n",
       "\n",
       "\n"
      ],
      "text/plain": [
       "[1] \"x,y,z,value\" \"1,2,3,x\"     \"4,5,6,y\"     \"7,8,9,z\"    "
      ]
     },
     "metadata": {},
     "output_type": "display_data"
    }
   ],
   "source": [
    "sample3 <- scan(\"data.csv\",nlines=\"4\", what=\"\")\n",
    "sample3"
   ]
  },
  {
   "cell_type": "code",
   "execution_count": 272,
   "metadata": {},
   "outputs": [
    {
     "data": {
      "text/html": [
       "'character'"
      ],
      "text/latex": [
       "'character'"
      ],
      "text/markdown": [
       "'character'"
      ],
      "text/plain": [
       "[1] \"character\""
      ]
     },
     "metadata": {},
     "output_type": "display_data"
    }
   ],
   "source": [
    "class(sample3)"
   ]
  },
  {
   "cell_type": "code",
   "execution_count": 280,
   "metadata": {},
   "outputs": [
    {
     "data": {
      "text/html": [
       "''"
      ],
      "text/latex": [
       "''"
      ],
      "text/markdown": [
       "''"
      ],
      "text/plain": [
       "[1] \"\""
      ]
     },
     "metadata": {},
     "output_type": "display_data"
    }
   ],
   "source": [
    "library(readxl)\n",
    "datasets <- system.file(\"dataexcel.xlsx\", package=\"readxl\")\n",
    "datasets"
   ]
  },
  {
   "cell_type": "code",
   "execution_count": 282,
   "metadata": {},
   "outputs": [
    {
     "ename": "ERROR",
     "evalue": "Error in read.spss(\"PolySci.sav\", to.data.frame = TRUE, use.value.labels = FALSE): unable to open file: 'No such file or directory'\n",
     "output_type": "error",
     "traceback": [
      "Error in read.spss(\"PolySci.sav\", to.data.frame = TRUE, use.value.labels = FALSE): unable to open file: 'No such file or directory'\nTraceback:\n",
      "1. read.spss(\"PolySci.sav\", to.data.frame = TRUE, use.value.labels = FALSE)"
     ]
    }
   ],
   "source": [
    "library(foreign)\n",
    "PoliSciSPSSData <- read.spss(\"PolySci.sav\", to.data.frame=TRUE, use.value.labels=FALSE)"
   ]
  },
  {
   "cell_type": "code",
   "execution_count": 283,
   "metadata": {},
   "outputs": [],
   "source": [
    "#  https://cran.r-project.org/doc/manuals/r-release/R-data.html"
   ]
  },
  {
   "cell_type": "code",
   "execution_count": 286,
   "metadata": {},
   "outputs": [
    {
     "data": {
      "text/html": [
       "<ol class=list-inline>\n",
       "\t<li>6.2</li>\n",
       "\t<li>1.3</li>\n",
       "\t<li>1.3</li>\n",
       "</ol>\n"
      ],
      "text/latex": [
       "\\begin{enumerate*}\n",
       "\\item 6.2\n",
       "\\item 1.3\n",
       "\\item 1.3\n",
       "\\end{enumerate*}\n"
      ],
      "text/markdown": [
       "1. 6.2\n",
       "2. 1.3\n",
       "3. 1.3\n",
       "\n",
       "\n"
      ],
      "text/plain": [
       "[1] 6.2 1.3 1.3"
      ]
     },
     "metadata": {},
     "output_type": "display_data"
    },
    {
     "data": {
      "text/html": [
       "<ol class=list-inline>\n",
       "\t<li>2.1</li>\n",
       "\t<li>3.6</li>\n",
       "\t<li>6.2</li>\n",
       "</ol>\n"
      ],
      "text/latex": [
       "\\begin{enumerate*}\n",
       "\\item 2.1\n",
       "\\item 3.6\n",
       "\\item 6.2\n",
       "\\end{enumerate*}\n"
      ],
      "text/markdown": [
       "1. 2.1\n",
       "2. 3.6\n",
       "3. 6.2\n",
       "\n",
       "\n"
      ],
      "text/plain": [
       "[1] 2.1 3.6 6.2"
      ]
     },
     "metadata": {},
     "output_type": "display_data"
    },
    {
     "data": {
      "text/html": [
       "<ol class=list-inline>\n",
       "\t<li>9</li>\n",
       "\t<li>7</li>\n",
       "\t<li>1</li>\n",
       "\t<li>2</li>\n",
       "</ol>\n"
      ],
      "text/latex": [
       "\\begin{enumerate*}\n",
       "\\item 9\n",
       "\\item 7\n",
       "\\item 1\n",
       "\\item 2\n",
       "\\end{enumerate*}\n"
      ],
      "text/markdown": [
       "1. 9\n",
       "2. 7\n",
       "3. 1\n",
       "4. 2\n",
       "\n",
       "\n"
      ],
      "text/plain": [
       "[1] 9 7 1 2"
      ]
     },
     "metadata": {},
     "output_type": "display_data"
    }
   ],
   "source": [
    "#Statistics\n",
    "library(dplyr)\n",
    "x <- c(1.3,2.6,2.1,4.2,6.2,3.4,1.3,3.6,1.4)\n",
    "sample(x,3) #Random number generator\n",
    "sample(x,3)\n",
    "sample(9,4)"
   ]
  },
  {
   "cell_type": "code",
   "execution_count": 287,
   "metadata": {},
   "outputs": [
    {
     "data": {
      "text/html": [
       "<ol class=list-inline>\n",
       "\t<li>0.51204260927625</li>\n",
       "\t<li>0.710360624128953</li>\n",
       "\t<li>0.284653092501685</li>\n",
       "</ol>\n"
      ],
      "text/latex": [
       "\\begin{enumerate*}\n",
       "\\item 0.51204260927625\n",
       "\\item 0.710360624128953\n",
       "\\item 0.284653092501685\n",
       "\\end{enumerate*}\n"
      ],
      "text/markdown": [
       "1. 0.51204260927625\n",
       "2. 0.710360624128953\n",
       "3. 0.284653092501685\n",
       "\n",
       "\n"
      ],
      "text/plain": [
       "[1] 0.5120426 0.7103606 0.2846531"
      ]
     },
     "metadata": {},
     "output_type": "display_data"
    }
   ],
   "source": [
    "runif(3)"
   ]
  },
  {
   "cell_type": "code",
   "execution_count": 291,
   "metadata": {},
   "outputs": [
    {
     "data": {
      "image/png": "[encoded data removed]",
      "text/plain": [
       "Plot with title \"Histogram of dist\""
      ]
     },
     "metadata": {},
     "output_type": "display_data"
    }
   ],
   "source": [
    "dist <- runif(100)\n",
    "hist(dist)"
   ]
  },
  {
   "cell_type": "code",
   "execution_count": 292,
   "metadata": {},
   "outputs": [
    {
     "data": {
      "text/html": [
       "0.509399104125332"
      ],
      "text/latex": [
       "0.509399104125332"
      ],
      "text/markdown": [
       "0.509399104125332"
      ],
      "text/plain": [
       "[1] 0.5093991"
      ]
     },
     "metadata": {},
     "output_type": "display_data"
    }
   ],
   "source": [
    "set.seed(12345)\n",
    "dist = runif(100)\n",
    "mean(dist)"
   ]
  },
  {
   "cell_type": "code",
   "execution_count": 293,
   "metadata": {},
   "outputs": [
    {
     "data": {
      "text/html": [
       "0.573032046300359"
      ],
      "text/latex": [
       "0.573032046300359"
      ],
      "text/markdown": [
       "0.573032046300359"
      ],
      "text/plain": [
       "[1] 0.573032"
      ]
     },
     "metadata": {},
     "output_type": "display_data"
    }
   ],
   "source": [
    "dist = runif(100)\n",
    "mean(dist)"
   ]
  },
  {
   "cell_type": "code",
   "execution_count": 298,
   "metadata": {},
   "outputs": [
    {
     "data": {
      "image/png": "[encoded data removed]",
      "text/plain": [
       "Plot with title \"Histogram of ul\""
      ]
     },
     "metadata": {},
     "output_type": "display_data"
    }
   ],
   "source": [
    "ul = runif(100)\n",
    "hist(ul, freq=FALSE)"
   ]
  },
  {
   "cell_type": "code",
   "execution_count": 300,
   "metadata": {},
   "outputs": [
    {
     "data": {
      "text/html": [
       "<ol class=list-inline>\n",
       "\t<li>0.702224750071764</li>\n",
       "\t<li>0.149072526954114</li>\n",
       "\t<li>0.817640772555023</li>\n",
       "\t<li>0.794147100998089</li>\n",
       "\t<li>0.518645006231964</li>\n",
       "\t<li>0.48814956843853</li>\n",
       "\t<li>0.573305061319843</li>\n",
       "\t<li>0.197170061524957</li>\n",
       "\t<li>0.306775261415169</li>\n",
       "\t<li>0.724023425718769</li>\n",
       "</ol>\n"
      ],
      "text/latex": [
       "\\begin{enumerate*}\n",
       "\\item 0.702224750071764\n",
       "\\item 0.149072526954114\n",
       "\\item 0.817640772555023\n",
       "\\item 0.794147100998089\n",
       "\\item 0.518645006231964\n",
       "\\item 0.48814956843853\n",
       "\\item 0.573305061319843\n",
       "\\item 0.197170061524957\n",
       "\\item 0.306775261415169\n",
       "\\item 0.724023425718769\n",
       "\\end{enumerate*}\n"
      ],
      "text/markdown": [
       "1. 0.702224750071764\n",
       "2. 0.149072526954114\n",
       "3. 0.817640772555023\n",
       "4. 0.794147100998089\n",
       "5. 0.518645006231964\n",
       "6. 0.48814956843853\n",
       "7. 0.573305061319843\n",
       "8. 0.197170061524957\n",
       "9. 0.306775261415169\n",
       "10. 0.724023425718769\n",
       "\n",
       "\n"
      ],
      "text/plain": [
       " [1] 0.7022248 0.1490725 0.8176408 0.7941471 0.5186450 0.4881496 0.5733051\n",
       " [8] 0.1971701 0.3067753 0.7240234"
      ]
     },
     "metadata": {},
     "output_type": "display_data"
    }
   ],
   "source": [
    "ul = runif(10)\n",
    "punif(ul)\n"
   ]
  },
  {
   "cell_type": "code",
   "execution_count": 302,
   "metadata": {},
   "outputs": [
    {
     "data": {
      "text/html": [
       "<ol class=list-inline>\n",
       "\t<li>1</li>\n",
       "\t<li>1</li>\n",
       "\t<li>1</li>\n",
       "\t<li>1</li>\n",
       "\t<li>1</li>\n",
       "\t<li>1</li>\n",
       "\t<li>1</li>\n",
       "\t<li>1</li>\n",
       "\t<li>1</li>\n",
       "\t<li>1</li>\n",
       "</ol>\n"
      ],
      "text/latex": [
       "\\begin{enumerate*}\n",
       "\\item 1\n",
       "\\item 1\n",
       "\\item 1\n",
       "\\item 1\n",
       "\\item 1\n",
       "\\item 1\n",
       "\\item 1\n",
       "\\item 1\n",
       "\\item 1\n",
       "\\item 1\n",
       "\\end{enumerate*}\n"
      ],
      "text/markdown": [
       "1. 1\n",
       "2. 1\n",
       "3. 1\n",
       "4. 1\n",
       "5. 1\n",
       "6. 1\n",
       "7. 1\n",
       "8. 1\n",
       "9. 1\n",
       "10. 1\n",
       "\n",
       "\n"
      ],
      "text/plain": [
       " [1] 1 1 1 1 1 1 1 1 1 1"
      ]
     },
     "metadata": {},
     "output_type": "display_data"
    }
   ],
   "source": [
    "dunif(ul)"
   ]
  },
  {
   "cell_type": "code",
   "execution_count": 303,
   "metadata": {},
   "outputs": [
    {
     "data": {
      "text/html": [
       "<ol class=list-inline>\n",
       "\t<li>0.702224750071764</li>\n",
       "\t<li>0.149072526954114</li>\n",
       "\t<li>0.817640772555023</li>\n",
       "\t<li>0.794147100998089</li>\n",
       "\t<li>0.518645006231964</li>\n",
       "\t<li>0.48814956843853</li>\n",
       "\t<li>0.573305061319843</li>\n",
       "\t<li>0.197170061524957</li>\n",
       "\t<li>0.306775261415169</li>\n",
       "\t<li>0.724023425718769</li>\n",
       "</ol>\n"
      ],
      "text/latex": [
       "\\begin{enumerate*}\n",
       "\\item 0.702224750071764\n",
       "\\item 0.149072526954114\n",
       "\\item 0.817640772555023\n",
       "\\item 0.794147100998089\n",
       "\\item 0.518645006231964\n",
       "\\item 0.48814956843853\n",
       "\\item 0.573305061319843\n",
       "\\item 0.197170061524957\n",
       "\\item 0.306775261415169\n",
       "\\item 0.724023425718769\n",
       "\\end{enumerate*}\n"
      ],
      "text/markdown": [
       "1. 0.702224750071764\n",
       "2. 0.149072526954114\n",
       "3. 0.817640772555023\n",
       "4. 0.794147100998089\n",
       "5. 0.518645006231964\n",
       "6. 0.48814956843853\n",
       "7. 0.573305061319843\n",
       "8. 0.197170061524957\n",
       "9. 0.306775261415169\n",
       "10. 0.724023425718769\n",
       "\n",
       "\n"
      ],
      "text/plain": [
       " [1] 0.7022248 0.1490725 0.8176408 0.7941471 0.5186450 0.4881496 0.5733051\n",
       " [8] 0.1971701 0.3067753 0.7240234"
      ]
     },
     "metadata": {},
     "output_type": "display_data"
    }
   ],
   "source": [
    "qunif(ul)"
   ]
  },
  {
   "cell_type": "code",
   "execution_count": 304,
   "metadata": {},
   "outputs": [
    {
     "data": {
      "text/plain": [
       "   Min. 1st Qu.  Median    Mean 3rd Qu.    Max. \n",
       " 0.1491  0.3521  0.5460  0.5271  0.7186  0.8176 "
      ]
     },
     "metadata": {},
     "output_type": "display_data"
    }
   ],
   "source": [
    "summary(ul)"
   ]
  },
  {
   "cell_type": "code",
   "execution_count": 313,
   "metadata": {},
   "outputs": [
    {
     "data": {
      "text/plain": [
       "   user  system elapsed \n",
       "   1.41    0.00    1.42 "
      ]
     },
     "metadata": {},
     "output_type": "display_data"
    }
   ],
   "source": [
    "reps <- 500000\n",
    "nuni <- 5\n",
    "set.seed(0)\n",
    "system.time(\n",
    "    sum5 <- replicate(reps,sum(runif(nuni)))\n",
    ")"
   ]
  },
  {
   "cell_type": "code",
   "execution_count": 314,
   "metadata": {},
   "outputs": [
    {
     "data": {
      "text/plain": [
       "   user  system elapsed \n",
       "   1.39    0.00    1.39 "
      ]
     },
     "metadata": {},
     "output_type": "display_data"
    }
   ],
   "source": [
    "set.seed(0)\n",
    "system.time(x1 <- lapply(1:reps, function(i){sum(runif(n=nuni))}))"
   ]
  },
  {
   "cell_type": "code",
   "execution_count": 315,
   "metadata": {},
   "outputs": [
    {
     "data": {
      "text/plain": [
       "   user  system elapsed \n",
       "   0.91    0.00    0.90 "
      ]
     },
     "metadata": {},
     "output_type": "display_data"
    }
   ],
   "source": [
    "set.seed(0)\n",
    "system.time(sum5 <- apply(matrix(runif(n=nuni*reps), nrow=nuni),2, sum))"
   ]
  },
  {
   "cell_type": "code",
   "execution_count": 316,
   "metadata": {},
   "outputs": [
    {
     "data": {
      "text/plain": [
       "   user  system elapsed \n",
       "   0.09    0.00    0.09 "
      ]
     },
     "metadata": {},
     "output_type": "display_data"
    }
   ],
   "source": [
    "set.seed(0)\n",
    "system.time(sum5 <- colSums(matrix(runif(n=nuni*reps), nrow=nuni)))"
   ]
  },
  {
   "cell_type": "code",
   "execution_count": 317,
   "metadata": {},
   "outputs": [
    {
     "data": {
      "text/plain": [
       "   Min. 1st Qu.  Median    Mean 3rd Qu.    Max. \n",
       " 0.1076  2.0527  2.4989  2.4991  2.9453  4.8800 "
      ]
     },
     "metadata": {},
     "output_type": "display_data"
    }
   ],
   "source": [
    "reps <- 1000000\n",
    "sum5 <- replicate(reps, sum(runif(nuni)))\n",
    "summary(sum5)"
   ]
  },
  {
   "cell_type": "code",
   "execution_count": 318,
   "metadata": {},
   "outputs": [
    {
     "data": {
      "image/png": "[encoded data removed]",
      "text/plain": [
       "Plot with title \"Histogram of sum5\""
      ]
     },
     "metadata": {},
     "output_type": "display_data"
    }
   ],
   "source": [
    "hist(sum5, freq=FALSE)"
   ]
  },
  {
   "cell_type": "code",
   "execution_count": 319,
   "metadata": {},
   "outputs": [],
   "source": [
    "library(ggplot2)"
   ]
  },
  {
   "cell_type": "code",
   "execution_count": 320,
   "metadata": {},
   "outputs": [],
   "source": [
    "d5 <- data.frame(sum5)"
   ]
  },
  {
   "cell_type": "code",
   "execution_count": 328,
   "metadata": {},
   "outputs": [
    {
     "data": {},
     "metadata": {},
     "output_type": "display_data"
    },
    {
     "data": {
      "image/png": "[encoded data removed]",
      "text/plain": [
       "plot without title"
      ]
     },
     "metadata": {},
     "output_type": "display_data"
    }
   ],
   "source": [
    "ggplot(d5, aes(sum5))+\n",
    "    geom_histogram(binwidth=0.1)"
   ]
  },
  {
   "cell_type": "code",
   "execution_count": 329,
   "metadata": {},
   "outputs": [
    {
     "data": {},
     "metadata": {},
     "output_type": "display_data"
    },
    {
     "data": {
      "image/png": "[encoded data removed]",
      "text/plain": [
       "plot without title"
      ]
     },
     "metadata": {},
     "output_type": "display_data"
    }
   ],
   "source": [
    "ggplot(d5, aes(sum5))+\n",
    "    geom_histogram(aes(y=..density..),binwidth=0.1)"
   ]
  },
  {
   "cell_type": "code",
   "execution_count": 330,
   "metadata": {},
   "outputs": [
    {
     "data": {},
     "metadata": {},
     "output_type": "display_data"
    },
    {
     "data": {
      "image/png": "[encoded data removed]",
      "text/plain": [
       "plot without title"
      ]
     },
     "metadata": {},
     "output_type": "display_data"
    }
   ],
   "source": [
    "ggplot(d5, aes(sum5))+\n",
    "    geom_histogram(aes(y=..density..),binwidth=0.1, color=\"red\")"
   ]
  },
  {
   "cell_type": "code",
   "execution_count": 331,
   "metadata": {},
   "outputs": [
    {
     "data": {},
     "metadata": {},
     "output_type": "display_data"
    },
    {
     "data": {
      "image/png": "[encoded data removed]",
      "text/plain": [
       "plot without title"
      ]
     },
     "metadata": {},
     "output_type": "display_data"
    }
   ],
   "source": [
    "ggplot(d5, aes(sum5))+\n",
    "    geom_histogram(aes(y=..density..),binwidth=0.1, fill=\"red\")"
   ]
  },
  {
   "cell_type": "code",
   "execution_count": 333,
   "metadata": {},
   "outputs": [
    {
     "data": {
      "text/html": [
       "0.57712"
      ],
      "text/latex": [
       "0.57712"
      ],
      "text/markdown": [
       "0.57712"
      ],
      "text/plain": [
       "[1] 0.57712"
      ]
     },
     "metadata": {},
     "output_type": "display_data"
    }
   ],
   "source": [
    "#Simulation to compute probability\n",
    "x <- 1000000\n",
    "m <- matrix(runif(3000000), ncol=1000000, nrow=3)\n",
    "sum(apply(m, 2, max)> 0.75)/1000000"
   ]
  },
  {
   "cell_type": "code",
   "execution_count": 334,
   "metadata": {},
   "outputs": [],
   "source": [
    "?Distributions"
   ]
  },
  {
   "cell_type": "code",
   "execution_count": 335,
   "metadata": {},
   "outputs": [
    {
     "data": {
      "image/png": "[encoded data removed]",
      "text/plain": [
       "Plot with title \"Histogram of x\""
      ]
     },
     "metadata": {},
     "output_type": "display_data"
    }
   ],
   "source": [
    "x <- rnorm(100000)\n",
    "hist(x)"
   ]
  },
  {
   "cell_type": "code",
   "execution_count": 337,
   "metadata": {},
   "outputs": [
    {
     "data": {},
     "metadata": {},
     "output_type": "display_data"
    },
    {
     "data": {
      "image/png": "[encoded data removed]",
      "text/plain": [
       "plot without title"
      ]
     },
     "metadata": {},
     "output_type": "display_data"
    }
   ],
   "source": [
    "df100K = data.frame(x)\n",
    "ggplot(df100K, aes(x))+\n",
    "    geom_histogram(aes(y=..density..),binwidth=0.1, fill=\"red\")"
   ]
  },
  {
   "cell_type": "code",
   "execution_count": 339,
   "metadata": {},
   "outputs": [
    {
     "data": {
      "image/png": "[encoded data removed]",
      "text/plain": [
       "Plot with title \"Normal Q-Q Plot\""
      ]
     },
     "metadata": {},
     "output_type": "display_data"
    },
    {
     "data": {
      "image/png": "[encoded data removed]",
      "text/plain": [
       "Plot with title \"Normal Q-Q Plot\""
      ]
     },
     "metadata": {},
     "output_type": "display_data"
    }
   ],
   "source": [
    "#Quantile Quantile comparison\n",
    "qqnorm(x)\n",
    "qqnorm(sum5)"
   ]
  },
  {
   "cell_type": "code",
   "execution_count": 342,
   "metadata": {},
   "outputs": [
    {
     "data": {},
     "metadata": {},
     "output_type": "display_data"
    },
    {
     "data": {
      "image/png": "[encoded data removed]",
      "text/plain": [
       "plot without title"
      ]
     },
     "metadata": {},
     "output_type": "display_data"
    }
   ],
   "source": [
    "ggplot(data.frame(sum5), aes(x=sum5))+\n",
    "    geom_histogram(aes(y=..density..), binwidth=0.1)+\n",
    "stat_function(fun=function(x) dnorm(x, mean=2.5, 0.66), color=\"red\", size=1)"
   ]
  },
  {
   "cell_type": "code",
   "execution_count": 343,
   "metadata": {},
   "outputs": [
    {
     "data": {},
     "metadata": {},
     "output_type": "display_data"
    },
    {
     "data": {
      "image/png": "[encoded data removed]",
      "text/plain": [
       "plot without title"
      ]
     },
     "metadata": {},
     "output_type": "display_data"
    }
   ],
   "source": [
    "df5=data.frame(sum5)\n",
    "ggplot(df5, aes(sample = sum5))+\n",
    "geom_point(stat=\"qq\")"
   ]
  },
  {
   "cell_type": "code",
   "execution_count": 344,
   "metadata": {},
   "outputs": [],
   "source": [
    "attach(sleep)"
   ]
  },
  {
   "cell_type": "code",
   "execution_count": 345,
   "metadata": {},
   "outputs": [
    {
     "data": {
      "text/html": [
       "<table>\n",
       "<thead><tr><th scope=col>extra</th><th scope=col>group</th><th scope=col>ID</th></tr></thead>\n",
       "<tbody>\n",
       "\t<tr><td> 0.7</td><td>1   </td><td>1   </td></tr>\n",
       "\t<tr><td>-1.6</td><td>1   </td><td>2   </td></tr>\n",
       "\t<tr><td>-0.2</td><td>1   </td><td>3   </td></tr>\n",
       "\t<tr><td>-1.2</td><td>1   </td><td>4   </td></tr>\n",
       "\t<tr><td>-0.1</td><td>1   </td><td>5   </td></tr>\n",
       "\t<tr><td> 3.4</td><td>1   </td><td>6   </td></tr>\n",
       "\t<tr><td> 3.7</td><td>1   </td><td>7   </td></tr>\n",
       "\t<tr><td> 0.8</td><td>1   </td><td>8   </td></tr>\n",
       "\t<tr><td> 0.0</td><td>1   </td><td>9   </td></tr>\n",
       "\t<tr><td> 2.0</td><td>1   </td><td>10  </td></tr>\n",
       "\t<tr><td> 1.9</td><td>2   </td><td>1   </td></tr>\n",
       "\t<tr><td> 0.8</td><td>2   </td><td>2   </td></tr>\n",
       "\t<tr><td> 1.1</td><td>2   </td><td>3   </td></tr>\n",
       "\t<tr><td> 0.1</td><td>2   </td><td>4   </td></tr>\n",
       "\t<tr><td>-0.1</td><td>2   </td><td>5   </td></tr>\n",
       "\t<tr><td> 4.4</td><td>2   </td><td>6   </td></tr>\n",
       "\t<tr><td> 5.5</td><td>2   </td><td>7   </td></tr>\n",
       "\t<tr><td> 1.6</td><td>2   </td><td>8   </td></tr>\n",
       "\t<tr><td> 4.6</td><td>2   </td><td>9   </td></tr>\n",
       "\t<tr><td> 3.4</td><td>2   </td><td>10  </td></tr>\n",
       "</tbody>\n",
       "</table>\n"
      ],
      "text/latex": [
       "\\begin{tabular}{r|lll}\n",
       " extra & group & ID\\\\\n",
       "\\hline\n",
       "\t  0.7 & 1    & 1   \\\\\n",
       "\t -1.6 & 1    & 2   \\\\\n",
       "\t -0.2 & 1    & 3   \\\\\n",
       "\t -1.2 & 1    & 4   \\\\\n",
       "\t -0.1 & 1    & 5   \\\\\n",
       "\t  3.4 & 1    & 6   \\\\\n",
       "\t  3.7 & 1    & 7   \\\\\n",
       "\t  0.8 & 1    & 8   \\\\\n",
       "\t  0.0 & 1    & 9   \\\\\n",
       "\t  2.0 & 1    & 10  \\\\\n",
       "\t  1.9 & 2    & 1   \\\\\n",
       "\t  0.8 & 2    & 2   \\\\\n",
       "\t  1.1 & 2    & 3   \\\\\n",
       "\t  0.1 & 2    & 4   \\\\\n",
       "\t -0.1 & 2    & 5   \\\\\n",
       "\t  4.4 & 2    & 6   \\\\\n",
       "\t  5.5 & 2    & 7   \\\\\n",
       "\t  1.6 & 2    & 8   \\\\\n",
       "\t  4.6 & 2    & 9   \\\\\n",
       "\t  3.4 & 2    & 10  \\\\\n",
       "\\end{tabular}\n"
      ],
      "text/markdown": [
       "\n",
       "extra | group | ID | \n",
       "|---|---|---|---|---|---|---|---|---|---|---|---|---|---|---|---|---|---|---|---|\n",
       "|  0.7 | 1    | 1    | \n",
       "| -1.6 | 1    | 2    | \n",
       "| -0.2 | 1    | 3    | \n",
       "| -1.2 | 1    | 4    | \n",
       "| -0.1 | 1    | 5    | \n",
       "|  3.4 | 1    | 6    | \n",
       "|  3.7 | 1    | 7    | \n",
       "|  0.8 | 1    | 8    | \n",
       "|  0.0 | 1    | 9    | \n",
       "|  2.0 | 1    | 10   | \n",
       "|  1.9 | 2    | 1    | \n",
       "|  0.8 | 2    | 2    | \n",
       "|  1.1 | 2    | 3    | \n",
       "|  0.1 | 2    | 4    | \n",
       "| -0.1 | 2    | 5    | \n",
       "|  4.4 | 2    | 6    | \n",
       "|  5.5 | 2    | 7    | \n",
       "|  1.6 | 2    | 8    | \n",
       "|  4.6 | 2    | 9    | \n",
       "|  3.4 | 2    | 10   | \n",
       "\n",
       "\n"
      ],
      "text/plain": [
       "   extra group ID\n",
       "1   0.7  1     1 \n",
       "2  -1.6  1     2 \n",
       "3  -0.2  1     3 \n",
       "4  -1.2  1     4 \n",
       "5  -0.1  1     5 \n",
       "6   3.4  1     6 \n",
       "7   3.7  1     7 \n",
       "8   0.8  1     8 \n",
       "9   0.0  1     9 \n",
       "10  2.0  1     10\n",
       "11  1.9  2     1 \n",
       "12  0.8  2     2 \n",
       "13  1.1  2     3 \n",
       "14  0.1  2     4 \n",
       "15 -0.1  2     5 \n",
       "16  4.4  2     6 \n",
       "17  5.5  2     7 \n",
       "18  1.6  2     8 \n",
       "19  4.6  2     9 \n",
       "20  3.4  2     10"
      ]
     },
     "metadata": {},
     "output_type": "display_data"
    }
   ],
   "source": [
    "sleep"
   ]
  },
  {
   "cell_type": "code",
   "execution_count": 348,
   "metadata": {},
   "outputs": [
    {
     "data": {
      "text/html": [
       "<ol class=list-inline>\n",
       "\t<li>1.2</li>\n",
       "\t<li>2.4</li>\n",
       "\t<li>1.3</li>\n",
       "\t<li>1.3</li>\n",
       "\t<li>0</li>\n",
       "\t<li>1</li>\n",
       "\t<li>1.8</li>\n",
       "\t<li>0.8</li>\n",
       "\t<li>4.6</li>\n",
       "\t<li>1.4</li>\n",
       "</ol>\n"
      ],
      "text/latex": [
       "\\begin{enumerate*}\n",
       "\\item 1.2\n",
       "\\item 2.4\n",
       "\\item 1.3\n",
       "\\item 1.3\n",
       "\\item 0\n",
       "\\item 1\n",
       "\\item 1.8\n",
       "\\item 0.8\n",
       "\\item 4.6\n",
       "\\item 1.4\n",
       "\\end{enumerate*}\n"
      ],
      "text/markdown": [
       "1. 1.2\n",
       "2. 2.4\n",
       "3. 1.3\n",
       "4. 1.3\n",
       "5. 0\n",
       "6. 1\n",
       "7. 1.8\n",
       "8. 0.8\n",
       "9. 4.6\n",
       "10. 1.4\n",
       "\n",
       "\n"
      ],
      "text/plain": [
       " [1] 1.2 2.4 1.3 1.3 0.0 1.0 1.8 0.8 4.6 1.4"
      ]
     },
     "metadata": {},
     "output_type": "display_data"
    },
    {
     "data": {
      "image/png": "[encoded data removed]",
      "text/plain": [
       "plot without title"
      ]
     },
     "metadata": {},
     "output_type": "display_data"
    }
   ],
   "source": [
    "sleep1 <- extra[group ==2] - extra[group==1]\n",
    "sleep1\n",
    "boxplot(sleep1, horizontal =TRUE)"
   ]
  },
  {
   "cell_type": "code",
   "execution_count": 352,
   "metadata": {},
   "outputs": [
    {
     "data": {
      "text/html": [
       "'htest'"
      ],
      "text/latex": [
       "'htest'"
      ],
      "text/markdown": [
       "'htest'"
      ],
      "text/plain": [
       "[1] \"htest\""
      ]
     },
     "metadata": {},
     "output_type": "display_data"
    },
    {
     "data": {
      "text/html": [
       "<strong>$p.value</strong> = 0.00283289019738427"
      ],
      "text/latex": [
       "\\textbf{\\$p.value} = 0.00283289019738427"
      ],
      "text/markdown": [
       "**$p.value** = 0.00283289019738427"
      ],
      "text/plain": [
       "$p.value\n",
       "[1] 0.00283289\n"
      ]
     },
     "metadata": {},
     "output_type": "display_data"
    },
    {
     "name": "stdout",
     "output_type": "stream",
     "text": [
      "List of 9\n",
      " $ statistic  : Named num 4.06\n",
      "  ..- attr(*, \"names\")= chr \"t\"\n",
      " $ parameter  : Named num 9\n",
      "  ..- attr(*, \"names\")= chr \"df\"\n",
      " $ p.value    : num 0.00283\n",
      " $ conf.int   : atomic [1:2] 0.7 2.46\n",
      "  ..- attr(*, \"conf.level\")= num 0.95\n",
      " $ estimate   : Named num 1.58\n",
      "  ..- attr(*, \"names\")= chr \"mean of x\"\n",
      " $ null.value : Named num 0\n",
      "  ..- attr(*, \"names\")= chr \"mean\"\n",
      " $ alternative: chr \"two.sided\"\n",
      " $ method     : chr \"One Sample t-test\"\n",
      " $ data.name  : chr \"sleep1\"\n",
      " - attr(*, \"class\")= chr \"htest\"\n"
     ]
    }
   ],
   "source": [
    "result.t = t.test(sleep1)\n",
    "class(result.t)\n",
    "result.t[\"p.value\"]\n",
    "str(result.t)"
   ]
  },
  {
   "cell_type": "raw",
   "metadata": {},
   "source": [
    "t.test(extra~group, paired=TRUE)"
   ]
  },
  {
   "cell_type": "code",
   "execution_count": null,
   "metadata": {},
   "outputs": [],
   "source": [
    "#chi-squared test \n",
    "#chisq.test"
   ]
  },
  {
   "cell_type": "code",
   "execution_count": 353,
   "metadata": {},
   "outputs": [
    {
     "ename": "ERROR",
     "evalue": "Error in library(HistData): there is no package called 'HistData'\n",
     "output_type": "error",
     "traceback": [
      "Error in library(HistData): there is no package called 'HistData'\nTraceback:\n",
      "1. library(HistData)",
      "2. stop(txt, domain = NA)"
     ]
    }
   ],
   "source": [
    "library(HistData)"
   ]
  },
  {
   "cell_type": "code",
   "execution_count": null,
   "metadata": {},
   "outputs": [],
   "source": [
    "# output for linear regression - lm"
   ]
  },
  {
   "cell_type": "code",
   "execution_count": 362,
   "metadata": {},
   "outputs": [
    {
     "data": {
      "text/html": [
       "<table>\n",
       "<thead><tr><th scope=col>ï..id</th><th scope=col>name</th><th scope=col>gender</th><th scope=col>dates</th><th scope=col>yearOfBirth</th><th scope=col>yearOfDeath</th><th scope=col>placeOfBirth</th><th scope=col>placeOfDeath</th><th scope=col>url</th></tr></thead>\n",
       "<tbody>\n",
       "\t<tr><td>10093                                                         </td><td>Abakanowicz, Magdalena                                        </td><td>Female                                                        </td><td>born 1930                                                     </td><td>1930                                                          </td><td>  NA                                                          </td><td>Polska                                                        </td><td>                                                              </td><td>http://www.tate.org.uk/art/artists/magdalena-abakanowicz-10093</td></tr>\n",
       "\t<tr><td>    0                                                         </td><td>Abbey, Edwin Austin                                           </td><td>Male                                                          </td><td>1852â€“1911                                                   </td><td>1852                                                          </td><td>1911                                                          </td><td>Philadelphia, United States                                   </td><td>London, United Kingdom                                        </td><td>http://www.tate.org.uk/art/artists/edwin-austin-abbey-0       </td></tr>\n",
       "\t<tr><td> 2756                                                         </td><td>Abbott, Berenice                                              </td><td>Female                                                        </td><td>1898â€“1991                                                   </td><td>1898                                                          </td><td>1991                                                          </td><td>Springfield, United States                                    </td><td>Monson, United States                                         </td><td>http://www.tate.org.uk/art/artists/berenice-abbott-2756       </td></tr>\n",
       "\t<tr><td>    1                                                         </td><td>Abbott, Lemuel Francis                                        </td><td>Male                                                          </td><td>1760â€“1803                                                   </td><td>1760                                                          </td><td>1803                                                          </td><td>Leicestershire, United Kingdom                                </td><td>London, United Kingdom                                        </td><td>http://www.tate.org.uk/art/artists/lemuel-francis-abbott-1    </td></tr>\n",
       "\t<tr><td>  622                                                         </td><td>Abrahams, Ivor                                                </td><td>Male                                                          </td><td>born 1935                                                     </td><td>1935                                                          </td><td>  NA                                                          </td><td>Wigan, United Kingdom                                         </td><td>                                                              </td><td>http://www.tate.org.uk/art/artists/ivor-abrahams-622          </td></tr>\n",
       "\t<tr><td> 2606                                                         </td><td>Absalon                                                       </td><td>Male                                                          </td><td>1964â€“1993                                                   </td><td>1964                                                          </td><td>1993                                                          </td><td>Tel Aviv-Yafo, Yisra'el                                       </td><td>Paris, France                                                 </td><td>http://www.tate.org.uk/art/artists/absalon-2606               </td></tr>\n",
       "</tbody>\n",
       "</table>\n"
      ],
      "text/latex": [
       "\\begin{tabular}{r|lllllllll}\n",
       " ï..id & name & gender & dates & yearOfBirth & yearOfDeath & placeOfBirth & placeOfDeath & url\\\\\n",
       "\\hline\n",
       "\t 10093                                                          & Abakanowicz, Magdalena                                         & Female                                                         & born 1930                                                      & 1930                                                           &   NA                                                           & Polska                                                         &                                                                & http://www.tate.org.uk/art/artists/magdalena-abakanowicz-10093\\\\\n",
       "\t     0                                                          & Abbey, Edwin Austin                                            & Male                                                           & 1852â€“1911                                                    & 1852                                                           & 1911                                                           & Philadelphia, United States                                    & London, United Kingdom                                         & http://www.tate.org.uk/art/artists/edwin-austin-abbey-0       \\\\\n",
       "\t  2756                                                          & Abbott, Berenice                                               & Female                                                         & 1898â€“1991                                                    & 1898                                                           & 1991                                                           & Springfield, United States                                     & Monson, United States                                          & http://www.tate.org.uk/art/artists/berenice-abbott-2756       \\\\\n",
       "\t     1                                                          & Abbott, Lemuel Francis                                         & Male                                                           & 1760â€“1803                                                    & 1760                                                           & 1803                                                           & Leicestershire, United Kingdom                                 & London, United Kingdom                                         & http://www.tate.org.uk/art/artists/lemuel-francis-abbott-1    \\\\\n",
       "\t   622                                                          & Abrahams, Ivor                                                 & Male                                                           & born 1935                                                      & 1935                                                           &   NA                                                           & Wigan, United Kingdom                                          &                                                                & http://www.tate.org.uk/art/artists/ivor-abrahams-622          \\\\\n",
       "\t  2606                                                          & Absalon                                                        & Male                                                           & 1964â€“1993                                                    & 1964                                                           & 1993                                                           & Tel Aviv-Yafo, Yisra'el                                        & Paris, France                                                  & http://www.tate.org.uk/art/artists/absalon-2606               \\\\\n",
       "\\end{tabular}\n"
      ],
      "text/markdown": [
       "\n",
       "ï..id | name | gender | dates | yearOfBirth | yearOfDeath | placeOfBirth | placeOfDeath | url | \n",
       "|---|---|---|---|---|---|\n",
       "| 10093                                                          | Abakanowicz, Magdalena                                         | Female                                                         | born 1930                                                      | 1930                                                           |   NA                                                           | Polska                                                         |                                                                | http://www.tate.org.uk/art/artists/magdalena-abakanowicz-10093 | \n",
       "|     0                                                          | Abbey, Edwin Austin                                            | Male                                                           | 1852â€“1911                                                    | 1852                                                           | 1911                                                           | Philadelphia, United States                                    | London, United Kingdom                                         | http://www.tate.org.uk/art/artists/edwin-austin-abbey-0        | \n",
       "|  2756                                                          | Abbott, Berenice                                               | Female                                                         | 1898â€“1991                                                    | 1898                                                           | 1991                                                           | Springfield, United States                                     | Monson, United States                                          | http://www.tate.org.uk/art/artists/berenice-abbott-2756        | \n",
       "|     1                                                          | Abbott, Lemuel Francis                                         | Male                                                           | 1760â€“1803                                                    | 1760                                                           | 1803                                                           | Leicestershire, United Kingdom                                 | London, United Kingdom                                         | http://www.tate.org.uk/art/artists/lemuel-francis-abbott-1     | \n",
       "|   622                                                          | Abrahams, Ivor                                                 | Male                                                           | born 1935                                                      | 1935                                                           |   NA                                                           | Wigan, United Kingdom                                          |                                                                | http://www.tate.org.uk/art/artists/ivor-abrahams-622           | \n",
       "|  2606                                                          | Absalon                                                        | Male                                                           | 1964â€“1993                                                    | 1964                                                           | 1993                                                           | Tel Aviv-Yafo, Yisra'el                                        | Paris, France                                                  | http://www.tate.org.uk/art/artists/absalon-2606                | \n",
       "\n",
       "\n"
      ],
      "text/plain": [
       "  ï..id name                   gender dates       yearOfBirth yearOfDeath\n",
       "1 10093 Abakanowicz, Magdalena Female born 1930   1930          NA       \n",
       "2     0 Abbey, Edwin Austin    Male   1852â1911 1852        1911       \n",
       "3  2756 Abbott, Berenice       Female 1898â1991 1898        1991       \n",
       "4     1 Abbott, Lemuel Francis Male   1760â1803 1760        1803       \n",
       "5   622 Abrahams, Ivor         Male   born 1935   1935          NA       \n",
       "6  2606 Absalon                Male   1964â1993 1964        1993       \n",
       "  placeOfBirth                   placeOfDeath          \n",
       "1 Polska                                               \n",
       "2 Philadelphia, United States    London, United Kingdom\n",
       "3 Springfield, United States     Monson, United States \n",
       "4 Leicestershire, United Kingdom London, United Kingdom\n",
       "5 Wigan, United Kingdom                                \n",
       "6 Tel Aviv-Yafo, Yisra'el        Paris, France         \n",
       "  url                                                           \n",
       "1 http://www.tate.org.uk/art/artists/magdalena-abakanowicz-10093\n",
       "2 http://www.tate.org.uk/art/artists/edwin-austin-abbey-0       \n",
       "3 http://www.tate.org.uk/art/artists/berenice-abbott-2756       \n",
       "4 http://www.tate.org.uk/art/artists/lemuel-francis-abbott-1    \n",
       "5 http://www.tate.org.uk/art/artists/ivor-abrahams-622          \n",
       "6 http://www.tate.org.uk/art/artists/absalon-2606               "
      ]
     },
     "metadata": {},
     "output_type": "display_data"
    }
   ],
   "source": [
    "artists_df <- read.csv(url('https://raw.githubusercontent.com/tategallery/collection/master/artist_data.csv'))\n",
    "head(artists_df)\n",
    "                       "
   ]
  },
  {
   "cell_type": "code",
   "execution_count": 364,
   "metadata": {},
   "outputs": [
    {
     "data": {
      "text/html": [
       "<table>\n",
       "<thead><tr><th></th><th scope=col>ï..id</th><th scope=col>name</th><th scope=col>gender</th><th scope=col>dates</th><th scope=col>yearOfBirth</th><th scope=col>yearOfDeath</th><th scope=col>placeOfBirth</th><th scope=col>placeOfDeath</th><th scope=col>url</th></tr></thead>\n",
       "<tbody>\n",
       "\t<tr><th scope=row>2</th><td>   0                                                      </td><td>Abbey, Edwin Austin                                       </td><td>Male                                                      </td><td>1852â€“1911                                               </td><td>1852                                                      </td><td>1911                                                      </td><td>Philadelphia, United States                               </td><td>London, United Kingdom                                    </td><td>http://www.tate.org.uk/art/artists/edwin-austin-abbey-0   </td></tr>\n",
       "\t<tr><th scope=row>3</th><td>2756                                                      </td><td>Abbott, Berenice                                          </td><td>Female                                                    </td><td>1898â€“1991                                               </td><td>1898                                                      </td><td>1991                                                      </td><td>Springfield, United States                                </td><td>Monson, United States                                     </td><td>http://www.tate.org.uk/art/artists/berenice-abbott-2756   </td></tr>\n",
       "\t<tr><th scope=row>12</th><td> 626                                                      </td><td>Adams, Harry William                                      </td><td>Male                                                      </td><td>1868â€“1947                                               </td><td>1868                                                      </td><td>1947                                                      </td><td>Worcester, United Kingdom                                 </td><td>Worcester, United Kingdom                                 </td><td>http://www.tate.org.uk/art/artists/harry-william-adams-626</td></tr>\n",
       "\t<tr><th scope=row>15</th><td> 629                                                      </td><td>Adeney, Bernard                                           </td><td>Male                                                      </td><td>1878â€“1966                                               </td><td>1878                                                      </td><td>1966                                                      </td><td>London, United Kingdom                                    </td><td>                                                          </td><td>http://www.tate.org.uk/art/artists/bernard-adeney-629     </td></tr>\n",
       "\t<tr><th scope=row>16</th><td> 630                                                      </td><td>Adler, Jankel                                             </td><td>Male                                                      </td><td>1895â€“1949                                               </td><td>1895                                                      </td><td>1949                                                      </td><td>Tuszyn, Polska                                            </td><td>Aldbourne, United Kingdom                                 </td><td>http://www.tate.org.uk/art/artists/jankel-adler-630       </td></tr>\n",
       "\t<tr><th scope=row>20</th><td> 633                                                      </td><td>Agar, Eileen                                              </td><td>Female                                                    </td><td>1899â€“1991                                               </td><td>1899                                                      </td><td>1991                                                      </td><td>Ayacucho, Argentina                                       </td><td>London, United Kingdom                                    </td><td>http://www.tate.org.uk/art/artists/eileen-agar-633        </td></tr>\n",
       "</tbody>\n",
       "</table>\n"
      ],
      "text/latex": [
       "\\begin{tabular}{r|lllllllll}\n",
       "  & ï..id & name & gender & dates & yearOfBirth & yearOfDeath & placeOfBirth & placeOfDeath & url\\\\\n",
       "\\hline\n",
       "\t2 &    0                                                       & Abbey, Edwin Austin                                        & Male                                                       & 1852â€“1911                                                & 1852                                                       & 1911                                                       & Philadelphia, United States                                & London, United Kingdom                                     & http://www.tate.org.uk/art/artists/edwin-austin-abbey-0   \\\\\n",
       "\t3 & 2756                                                       & Abbott, Berenice                                           & Female                                                     & 1898â€“1991                                                & 1898                                                       & 1991                                                       & Springfield, United States                                 & Monson, United States                                      & http://www.tate.org.uk/art/artists/berenice-abbott-2756   \\\\\n",
       "\t12 &  626                                                       & Adams, Harry William                                       & Male                                                       & 1868â€“1947                                                & 1868                                                       & 1947                                                       & Worcester, United Kingdom                                  & Worcester, United Kingdom                                  & http://www.tate.org.uk/art/artists/harry-william-adams-626\\\\\n",
       "\t15 &  629                                                       & Adeney, Bernard                                            & Male                                                       & 1878â€“1966                                                & 1878                                                       & 1966                                                       & London, United Kingdom                                     &                                                            & http://www.tate.org.uk/art/artists/bernard-adeney-629     \\\\\n",
       "\t16 &  630                                                       & Adler, Jankel                                              & Male                                                       & 1895â€“1949                                                & 1895                                                       & 1949                                                       & Tuszyn, Polska                                             & Aldbourne, United Kingdom                                  & http://www.tate.org.uk/art/artists/jankel-adler-630       \\\\\n",
       "\t20 &  633                                                       & Agar, Eileen                                               & Female                                                     & 1899â€“1991                                                & 1899                                                       & 1991                                                       & Ayacucho, Argentina                                        & London, United Kingdom                                     & http://www.tate.org.uk/art/artists/eileen-agar-633        \\\\\n",
       "\\end{tabular}\n"
      ],
      "text/markdown": [
       "\n",
       "| <!--/--> | ï..id | name | gender | dates | yearOfBirth | yearOfDeath | placeOfBirth | placeOfDeath | url | \n",
       "|---|---|---|---|---|---|\n",
       "| 2 |    0                                                       | Abbey, Edwin Austin                                        | Male                                                       | 1852â€“1911                                                | 1852                                                       | 1911                                                       | Philadelphia, United States                                | London, United Kingdom                                     | http://www.tate.org.uk/art/artists/edwin-austin-abbey-0    | \n",
       "| 3 | 2756                                                       | Abbott, Berenice                                           | Female                                                     | 1898â€“1991                                                | 1898                                                       | 1991                                                       | Springfield, United States                                 | Monson, United States                                      | http://www.tate.org.uk/art/artists/berenice-abbott-2756    | \n",
       "| 12 |  626                                                       | Adams, Harry William                                       | Male                                                       | 1868â€“1947                                                | 1868                                                       | 1947                                                       | Worcester, United Kingdom                                  | Worcester, United Kingdom                                  | http://www.tate.org.uk/art/artists/harry-william-adams-626 | \n",
       "| 15 |  629                                                       | Adeney, Bernard                                            | Male                                                       | 1878â€“1966                                                | 1878                                                       | 1966                                                       | London, United Kingdom                                     |                                                            | http://www.tate.org.uk/art/artists/bernard-adeney-629      | \n",
       "| 16 |  630                                                       | Adler, Jankel                                              | Male                                                       | 1895â€“1949                                                | 1895                                                       | 1949                                                       | Tuszyn, Polska                                             | Aldbourne, United Kingdom                                  | http://www.tate.org.uk/art/artists/jankel-adler-630        | \n",
       "| 20 |  633                                                       | Agar, Eileen                                               | Female                                                     | 1899â€“1991                                                | 1899                                                       | 1991                                                       | Ayacucho, Argentina                                        | London, United Kingdom                                     | http://www.tate.org.uk/art/artists/eileen-agar-633         | \n",
       "\n",
       "\n"
      ],
      "text/plain": [
       "   ï..id name                 gender dates       yearOfBirth yearOfDeath\n",
       "2     0  Abbey, Edwin Austin  Male   1852â1911 1852        1911       \n",
       "3  2756  Abbott, Berenice     Female 1898â1991 1898        1991       \n",
       "12  626  Adams, Harry William Male   1868â1947 1868        1947       \n",
       "15  629  Adeney, Bernard      Male   1878â1966 1878        1966       \n",
       "16  630  Adler, Jankel        Male   1895â1949 1895        1949       \n",
       "20  633  Agar, Eileen         Female 1899â1991 1899        1991       \n",
       "   placeOfBirth                placeOfDeath             \n",
       "2  Philadelphia, United States London, United Kingdom   \n",
       "3  Springfield, United States  Monson, United States    \n",
       "12 Worcester, United Kingdom   Worcester, United Kingdom\n",
       "15 London, United Kingdom                               \n",
       "16 Tuszyn, Polska              Aldbourne, United Kingdom\n",
       "20 Ayacucho, Argentina         London, United Kingdom   \n",
       "   url                                                       \n",
       "2  http://www.tate.org.uk/art/artists/edwin-austin-abbey-0   \n",
       "3  http://www.tate.org.uk/art/artists/berenice-abbott-2756   \n",
       "12 http://www.tate.org.uk/art/artists/harry-william-adams-626\n",
       "15 http://www.tate.org.uk/art/artists/bernard-adeney-629     \n",
       "16 http://www.tate.org.uk/art/artists/jankel-adler-630       \n",
       "20 http://www.tate.org.uk/art/artists/eileen-agar-633        "
      ]
     },
     "metadata": {},
     "output_type": "display_data"
    }
   ],
   "source": [
    "artists19th <- artists_df[which(artists_df$yearOfBirth >= 1801 & artists_df$yearOfBirth <=1900),]\n",
    "head(artists19th)"
   ]
  },
  {
   "cell_type": "code",
   "execution_count": 365,
   "metadata": {},
   "outputs": [
    {
     "data": {
      "text/html": [
       "201"
      ],
      "text/latex": [
       "201"
      ],
      "text/markdown": [
       "201"
      ],
      "text/plain": [
       "[1] 201"
      ]
     },
     "metadata": {},
     "output_type": "display_data"
    }
   ],
   "source": [
    "artists19th_lon_par <- \n",
    "    artists19th[artists19th$placeOfBirth %in% c(\"London, United Kingdom\", \"Paris, France\"), ]\n",
    "nrow(artists19th_lon_par)"
   ]
  },
  {
   "cell_type": "code",
   "execution_count": 366,
   "metadata": {},
   "outputs": [
    {
     "data": {
      "text/html": [
       "1304"
      ],
      "text/latex": [
       "1304"
      ],
      "text/markdown": [
       "1304"
      ],
      "text/plain": [
       "[1] 1304"
      ]
     },
     "metadata": {},
     "output_type": "display_data"
    }
   ],
   "source": [
    "nrow(artists_df[which(is.na(artists_df$yearOfDeath)),])"
   ]
  },
  {
   "cell_type": "code",
   "execution_count": 367,
   "metadata": {},
   "outputs": [
    {
     "data": {
      "text/html": [
       "1304"
      ],
      "text/latex": [
       "1304"
      ],
      "text/markdown": [
       "1304"
      ],
      "text/plain": [
       "[1] 1304"
      ]
     },
     "metadata": {},
     "output_type": "display_data"
    }
   ],
   "source": [
    "sum(is.na(artists_df$yearOfDeath))"
   ]
  },
  {
   "cell_type": "code",
   "execution_count": 394,
   "metadata": {},
   "outputs": [
    {
     "data": {
      "text/html": [
       "<table>\n",
       "<thead><tr><th></th><th scope=col>X1940</th><th scope=col>X1945</th><th scope=col>X1950</th><th scope=col>X1955</th><th scope=col>X1960</th></tr></thead>\n",
       "<tbody>\n",
       "\t<tr><th scope=row>Food and Tobacco</th><td>22.200</td><td>44.500</td><td>59.60 </td><td>73.2  </td><td>86.80 </td></tr>\n",
       "\t<tr><th scope=row>Household Operation</th><td>10.500</td><td>15.500</td><td>29.00 </td><td>36.5  </td><td>46.20 </td></tr>\n",
       "\t<tr><th scope=row>Medical and Health</th><td> 3.530</td><td> 5.760</td><td> 9.71 </td><td>14.0  </td><td>21.10 </td></tr>\n",
       "\t<tr><th scope=row>Personal Care</th><td> 1.040</td><td> 1.980</td><td> 2.45 </td><td> 3.4  </td><td> 5.40 </td></tr>\n",
       "\t<tr><th scope=row>Private Education</th><td> 0.341</td><td> 0.974</td><td> 1.80 </td><td> 2.6  </td><td> 3.64 </td></tr>\n",
       "</tbody>\n",
       "</table>\n"
      ],
      "text/latex": [
       "\\begin{tabular}{r|lllll}\n",
       "  & X1940 & X1945 & X1950 & X1955 & X1960\\\\\n",
       "\\hline\n",
       "\tFood and Tobacco & 22.200 & 44.500 & 59.60  & 73.2   & 86.80 \\\\\n",
       "\tHousehold Operation & 10.500 & 15.500 & 29.00  & 36.5   & 46.20 \\\\\n",
       "\tMedical and Health &  3.530 &  5.760 &  9.71  & 14.0   & 21.10 \\\\\n",
       "\tPersonal Care &  1.040 &  1.980 &  2.45  &  3.4   &  5.40 \\\\\n",
       "\tPrivate Education &  0.341 &  0.974 &  1.80  &  2.6   &  3.64 \\\\\n",
       "\\end{tabular}\n"
      ],
      "text/markdown": [
       "\n",
       "| <!--/--> | X1940 | X1945 | X1950 | X1955 | X1960 | \n",
       "|---|---|---|---|---|\n",
       "| Food and Tobacco | 22.200 | 44.500 | 59.60  | 73.2   | 86.80  | \n",
       "| Household Operation | 10.500 | 15.500 | 29.00  | 36.5   | 46.20  | \n",
       "| Medical and Health |  3.530 |  5.760 |  9.71  | 14.0   | 21.10  | \n",
       "| Personal Care |  1.040 |  1.980 |  2.45  |  3.4   |  5.40  | \n",
       "| Private Education |  0.341 |  0.974 |  1.80  |  2.6   |  3.64  | \n",
       "\n",
       "\n"
      ],
      "text/plain": [
       "                    X1940  X1945  X1950 X1955 X1960\n",
       "Food and Tobacco    22.200 44.500 59.60 73.2  86.80\n",
       "Household Operation 10.500 15.500 29.00 36.5  46.20\n",
       "Medical and Health   3.530  5.760  9.71 14.0  21.10\n",
       "Personal Care        1.040  1.980  2.45  3.4   5.40\n",
       "Private Education    0.341  0.974  1.80  2.6   3.64"
      ]
     },
     "metadata": {},
     "output_type": "display_data"
    },
    {
     "data": {
      "text/html": [
       "'data.frame'"
      ],
      "text/latex": [
       "'data.frame'"
      ],
      "text/markdown": [
       "'data.frame'"
      ],
      "text/plain": [
       "[1] \"data.frame\""
      ]
     },
     "metadata": {},
     "output_type": "display_data"
    }
   ],
   "source": [
    "x <- read.csv('USPersonalExpenditure.csv')\n",
    "head(x)\n",
    "class(x)"
   ]
  },
  {
   "cell_type": "code",
   "execution_count": 382,
   "metadata": {},
   "outputs": [
    {
     "data": {
      "text/html": [
       "<dl class=dl-horizontal>\n",
       "\t<dt>Food and Tobacco</dt>\n",
       "\t\t<dd>86.8</dd>\n",
       "\t<dt>Household Operation</dt>\n",
       "\t\t<dd>46.2</dd>\n",
       "\t<dt>Medical and Health</dt>\n",
       "\t\t<dd>21.1</dd>\n",
       "\t<dt>Personal Care</dt>\n",
       "\t\t<dd>5.4</dd>\n",
       "\t<dt>Private Education</dt>\n",
       "\t\t<dd>3.64</dd>\n",
       "</dl>\n"
      ],
      "text/latex": [
       "\\begin{description*}\n",
       "\\item[Food and Tobacco] 86.8\n",
       "\\item[Household Operation] 46.2\n",
       "\\item[Medical and Health] 21.1\n",
       "\\item[Personal Care] 5.4\n",
       "\\item[Private Education] 3.64\n",
       "\\end{description*}\n"
      ],
      "text/markdown": [
       "Food and Tobacco\n",
       ":   86.8Household Operation\n",
       ":   46.2Medical and Health\n",
       ":   21.1Personal Care\n",
       ":   5.4Private Education\n",
       ":   3.64\n",
       "\n"
      ],
      "text/plain": [
       "   Food and Tobacco Household Operation  Medical and Health       Personal Care \n",
       "              86.80               46.20               21.10                5.40 \n",
       "  Private Education \n",
       "               3.64 "
      ]
     },
     "metadata": {},
     "output_type": "display_data"
    }
   ],
   "source": [
    "y <- apply(x,1, max) \n",
    "y"
   ]
  },
  {
   "cell_type": "code",
   "execution_count": 384,
   "metadata": {},
   "outputs": [
    {
     "data": {
      "text/html": [
       "<dl class=dl-horizontal>\n",
       "\t<dt>Food and Tobacco</dt>\n",
       "\t\t<dd>286.3</dd>\n",
       "\t<dt>Household Operation</dt>\n",
       "\t\t<dd>137.7</dd>\n",
       "\t<dt>Medical and Health</dt>\n",
       "\t\t<dd>54.1</dd>\n",
       "\t<dt>Personal Care</dt>\n",
       "\t\t<dd>14.27</dd>\n",
       "\t<dt>Private Education</dt>\n",
       "\t\t<dd>9.355</dd>\n",
       "</dl>\n"
      ],
      "text/latex": [
       "\\begin{description*}\n",
       "\\item[Food and Tobacco] 286.3\n",
       "\\item[Household Operation] 137.7\n",
       "\\item[Medical and Health] 54.1\n",
       "\\item[Personal Care] 14.27\n",
       "\\item[Private Education] 9.355\n",
       "\\end{description*}\n"
      ],
      "text/markdown": [
       "Food and Tobacco\n",
       ":   286.3Household Operation\n",
       ":   137.7Medical and Health\n",
       ":   54.1Personal Care\n",
       ":   14.27Private Education\n",
       ":   9.355\n",
       "\n"
      ],
      "text/plain": [
       "   Food and Tobacco Household Operation  Medical and Health       Personal Care \n",
       "            286.300             137.700              54.100              14.270 \n",
       "  Private Education \n",
       "              9.355 "
      ]
     },
     "metadata": {},
     "output_type": "display_data"
    }
   ],
   "source": [
    "z <- apply(x, 1, sum)\n",
    "z"
   ]
  },
  {
   "cell_type": "code",
   "execution_count": 386,
   "metadata": {},
   "outputs": [
    {
     "data": {
      "text/html": [
       "<dl class=dl-horizontal>\n",
       "\t<dt>Food and Tobacco</dt>\n",
       "\t\t<dd>57.26</dd>\n",
       "\t<dt>Household Operation</dt>\n",
       "\t\t<dd>27.54</dd>\n",
       "\t<dt>Medical and Health</dt>\n",
       "\t\t<dd>10.82</dd>\n",
       "\t<dt>Personal Care</dt>\n",
       "\t\t<dd>2.854</dd>\n",
       "\t<dt>Private Education</dt>\n",
       "\t\t<dd>1.871</dd>\n",
       "</dl>\n"
      ],
      "text/latex": [
       "\\begin{description*}\n",
       "\\item[Food and Tobacco] 57.26\n",
       "\\item[Household Operation] 27.54\n",
       "\\item[Medical and Health] 10.82\n",
       "\\item[Personal Care] 2.854\n",
       "\\item[Private Education] 1.871\n",
       "\\end{description*}\n"
      ],
      "text/markdown": [
       "Food and Tobacco\n",
       ":   57.26Household Operation\n",
       ":   27.54Medical and Health\n",
       ":   10.82Personal Care\n",
       ":   2.854Private Education\n",
       ":   1.871\n",
       "\n"
      ],
      "text/plain": [
       "   Food and Tobacco Household Operation  Medical and Health       Personal Care \n",
       "             57.260              27.540              10.820               2.854 \n",
       "  Private Education \n",
       "              1.871 "
      ]
     },
     "metadata": {},
     "output_type": "display_data"
    }
   ],
   "source": [
    "a <- apply(x, 1, mean)\n",
    "a"
   ]
  },
  {
   "cell_type": "code",
   "execution_count": 393,
   "metadata": {},
   "outputs": [
    {
     "data": {
      "text/html": [
       "<ol class=list-inline>\n",
       "\t<li>0</li>\n",
       "\t<li>969</li>\n",
       "\t<li>784</li>\n",
       "\t<li>899</li>\n",
       "\t<li>809</li>\n",
       "\t<li>794</li>\n",
       "\t<li>0</li>\n",
       "\t<li>710</li>\n",
       "\t<li>0</li>\n",
       "\t<li>677</li>\n",
       "\t<li>562</li>\n",
       "\t<li>0</li>\n",
       "\t<li>0</li>\n",
       "\t<li>730</li>\n",
       "\t<li>0</li>\n",
       "\t<li>970</li>\n",
       "\t<li>878</li>\n",
       "\t<li>581</li>\n",
       "\t<li>789</li>\n",
       "\t<li>0</li>\n",
       "\t<li>686</li>\n",
       "\t<li>0</li>\n",
       "\t<li>0</li>\n",
       "\t<li>886</li>\n",
       "\t<li>0</li>\n",
       "\t<li>0</li>\n",
       "\t<li>834</li>\n",
       "\t<li>922</li>\n",
       "\t<li>0</li>\n",
       "\t<li>981</li>\n",
       "\t<li>0</li>\n",
       "\t<li>634</li>\n",
       "\t<li>0</li>\n",
       "\t<li>0</li>\n",
       "\t<li>0</li>\n",
       "\t<li>0</li>\n",
       "\t<li>0</li>\n",
       "\t<li>978</li>\n",
       "\t<li>0</li>\n",
       "\t<li>610</li>\n",
       "\t<li>756</li>\n",
       "\t<li>692</li>\n",
       "\t<li>0</li>\n",
       "\t<li>545</li>\n",
       "\t<li>696</li>\n",
       "\t<li>0</li>\n",
       "\t<li>0</li>\n",
       "\t<li>503</li>\n",
       "\t<li>0</li>\n",
       "\t<li>821</li>\n",
       "\t<li>823</li>\n",
       "\t<li>0</li>\n",
       "\t<li>0</li>\n",
       "\t<li>0</li>\n",
       "\t<li>0</li>\n",
       "\t<li>672</li>\n",
       "\t<li>983</li>\n",
       "\t<li>0</li>\n",
       "\t<li>0</li>\n",
       "\t<li>590</li>\n",
       "\t<li>0</li>\n",
       "\t<li>975</li>\n",
       "\t<li>955</li>\n",
       "\t<li>737</li>\n",
       "\t<li>699</li>\n",
       "\t<li>933</li>\n",
       "\t<li>0</li>\n",
       "\t<li>689</li>\n",
       "\t<li>0</li>\n",
       "\t<li>0</li>\n",
       "\t<li>757</li>\n",
       "\t<li>0</li>\n",
       "\t<li>0</li>\n",
       "\t<li>0</li>\n",
       "\t<li>659</li>\n",
       "\t<li>904</li>\n",
       "\t<li>0</li>\n",
       "\t<li>0</li>\n",
       "\t<li>0</li>\n",
       "\t<li>0</li>\n",
       "\t<li>968</li>\n",
       "\t<li>0</li>\n",
       "\t<li>831</li>\n",
       "\t<li>586</li>\n",
       "\t<li>902</li>\n",
       "\t<li>0</li>\n",
       "\t<li>782</li>\n",
       "\t<li>960</li>\n",
       "\t<li>907</li>\n",
       "\t<li>811</li>\n",
       "\t<li>548</li>\n",
       "\t<li>713</li>\n",
       "\t<li>707</li>\n",
       "\t<li>0</li>\n",
       "\t<li>583</li>\n",
       "\t<li>838</li>\n",
       "\t<li>0</li>\n",
       "\t<li>0</li>\n",
       "\t<li>0</li>\n",
       "\t<li>0</li>\n",
       "\t<li>0</li>\n",
       "\t<li>0</li>\n",
       "\t<li>0</li>\n",
       "\t<li>0</li>\n",
       "\t<li>989</li>\n",
       "\t<li>920</li>\n",
       "\t<li>0</li>\n",
       "\t<li>709</li>\n",
       "\t<li>0</li>\n",
       "\t<li>761</li>\n",
       "\t<li>694</li>\n",
       "\t<li>572</li>\n",
       "\t<li>0</li>\n",
       "\t<li>791</li>\n",
       "\t<li>722</li>\n",
       "\t<li>0</li>\n",
       "\t<li>0</li>\n",
       "\t<li>0</li>\n",
       "\t<li>0</li>\n",
       "\t<li>931</li>\n",
       "\t<li>0</li>\n",
       "\t<li>540</li>\n",
       "\t<li>0</li>\n",
       "\t<li>0</li>\n",
       "\t<li>0</li>\n",
       "\t<li>865</li>\n",
       "\t<li>895</li>\n",
       "\t<li>0</li>\n",
       "\t<li>629</li>\n",
       "\t<li>647</li>\n",
       "\t<li>0</li>\n",
       "\t<li>0</li>\n",
       "\t<li>843</li>\n",
       "\t<li>0</li>\n",
       "\t<li>0</li>\n",
       "\t<li>0</li>\n",
       "\t<li>785</li>\n",
       "\t<li>797</li>\n",
       "\t<li>929</li>\n",
       "\t<li>0</li>\n",
       "\t<li>715</li>\n",
       "\t<li>0</li>\n",
       "\t<li>521</li>\n",
       "\t<li>937</li>\n",
       "\t<li>967</li>\n",
       "\t<li>0</li>\n",
       "\t<li>0</li>\n",
       "\t<li>504</li>\n",
       "\t<li>643</li>\n",
       "\t<li>615</li>\n",
       "\t<li>0</li>\n",
       "\t<li>635</li>\n",
       "\t<li>800</li>\n",
       "\t<li>0</li>\n",
       "\t<li>0</li>\n",
       "\t<li>965</li>\n",
       "\t<li>600</li>\n",
       "\t<li>697</li>\n",
       "\t<li>942</li>\n",
       "\t<li>0</li>\n",
       "\t<li>990</li>\n",
       "\t<li>856</li>\n",
       "\t<li>0</li>\n",
       "\t<li>0</li>\n",
       "\t<li>525</li>\n",
       "\t<li>0</li>\n",
       "\t<li>934</li>\n",
       "\t<li>0</li>\n",
       "\t<li>649</li>\n",
       "\t<li>976</li>\n",
       "\t<li>0</li>\n",
       "\t<li>533</li>\n",
       "\t<li>0</li>\n",
       "\t<li>522</li>\n",
       "\t<li>0</li>\n",
       "\t<li>0</li>\n",
       "\t<li>0</li>\n",
       "\t<li>814</li>\n",
       "\t<li>0</li>\n",
       "\t<li>0</li>\n",
       "\t<li>0</li>\n",
       "\t<li>0</li>\n",
       "\t<li>0</li>\n",
       "\t<li>842</li>\n",
       "\t<li>0</li>\n",
       "\t<li>0</li>\n",
       "\t<li>0</li>\n",
       "\t<li>0</li>\n",
       "\t<li>0</li>\n",
       "\t<li>0</li>\n",
       "\t<li>941</li>\n",
       "\t<li>633</li>\n",
       "\t<li>0</li>\n",
       "\t<li>578</li>\n",
       "\t<li>591</li>\n",
       "\t<li>0</li>\n",
       "\t<li>0</li>\n",
       "\t<li>680</li>\n",
       "\t<li>0</li>\n",
       "\t<li>0</li>\n",
       "\t<li>601</li>\n",
       "\t<li>0</li>\n",
       "\t<li>919</li>\n",
       "\t<li>938</li>\n",
       "\t<li>0</li>\n",
       "\t<li>0</li>\n",
       "\t<li>0</li>\n",
       "\t<li>0</li>\n",
       "\t<li>0</li>\n",
       "\t<li>957</li>\n",
       "\t<li>642</li>\n",
       "\t<li>0</li>\n",
       "\t<li>806</li>\n",
       "\t<li>701</li>\n",
       "\t<li>0</li>\n",
       "\t<li>0</li>\n",
       "\t<li>740</li>\n",
       "\t<li>669</li>\n",
       "\t<li>538</li>\n",
       "\t<li>0</li>\n",
       "\t<li>0</li>\n",
       "\t<li>0</li>\n",
       "\t<li>848</li>\n",
       "\t<li>674</li>\n",
       "\t<li>0</li>\n",
       "\t<li>0</li>\n",
       "\t<li>996</li>\n",
       "\t<li>0</li>\n",
       "\t<li>618</li>\n",
       "\t<li>905</li>\n",
       "\t<li>939</li>\n",
       "\t<li>0</li>\n",
       "\t<li>0</li>\n",
       "\t<li>0</li>\n",
       "\t<li>0</li>\n",
       "\t<li>0</li>\n",
       "\t<li>935</li>\n",
       "\t<li>0</li>\n",
       "\t<li>0</li>\n",
       "\t<li>688</li>\n",
       "\t<li>926</li>\n",
       "\t<li>666</li>\n",
       "\t<li>582</li>\n",
       "\t<li>0</li>\n",
       "\t<li>0</li>\n",
       "\t<li>712</li>\n",
       "\t<li>887</li>\n",
       "\t<li>918</li>\n",
       "\t<li>0</li>\n",
       "\t<li>0</li>\n",
       "\t<li>614</li>\n",
       "\t<li>0</li>\n",
       "\t<li>0</li>\n",
       "\t<li>0</li>\n",
       "\t<li>596</li>\n",
       "\t<li>0</li>\n",
       "\t<li>0</li>\n",
       "\t<li>0</li>\n",
       "\t<li>0</li>\n",
       "\t<li>0</li>\n",
       "\t<li>613</li>\n",
       "\t<li>0</li>\n",
       "\t<li>901</li>\n",
       "\t<li>728</li>\n",
       "\t<li>0</li>\n",
       "\t<li>880</li>\n",
       "\t<li>0</li>\n",
       "\t<li>0</li>\n",
       "\t<li>0</li>\n",
       "\t<li>0</li>\n",
       "\t<li>0</li>\n",
       "\t<li>0</li>\n",
       "\t<li>0</li>\n",
       "\t<li>0</li>\n",
       "\t<li>751</li>\n",
       "\t<li>0</li>\n",
       "\t<li>820</li>\n",
       "\t<li>964</li>\n",
       "\t<li>510</li>\n",
       "\t<li>0</li>\n",
       "\t<li>0</li>\n",
       "\t<li>0</li>\n",
       "\t<li>0</li>\n",
       "\t<li>0</li>\n",
       "\t<li>0</li>\n",
       "\t<li>812</li>\n",
       "\t<li>542</li>\n",
       "\t<li>796</li>\n",
       "\t<li>801</li>\n",
       "\t<li>956</li>\n",
       "\t<li>854</li>\n",
       "\t<li>724</li>\n",
       "\t<li>657</li>\n",
       "\t<li>640</li>\n",
       "\t<li>915</li>\n",
       "\t<li>0</li>\n",
       "\t<li>0</li>\n",
       "\t<li>0</li>\n",
       "\t<li>0</li>\n",
       "\t<li>874</li>\n",
       "\t<li>0</li>\n",
       "\t<li>748</li>\n",
       "\t<li>516</li>\n",
       "\t<li>908</li>\n",
       "\t<li>0</li>\n",
       "\t<li>0</li>\n",
       "\t<li>654</li>\n",
       "\t<li>830</li>\n",
       "\t<li>0</li>\n",
       "\t<li>679</li>\n",
       "\t<li>693</li>\n",
       "\t<li>718</li>\n",
       "\t<li>888</li>\n",
       "\t<li>0</li>\n",
       "\t<li>0</li>\n",
       "\t<li>0</li>\n",
       "\t<li>803</li>\n",
       "\t<li>714</li>\n",
       "\t<li>0</li>\n",
       "\t<li>684</li>\n",
       "\t<li>771</li>\n",
       "\t<li>914</li>\n",
       "\t<li>547</li>\n",
       "\t<li>0</li>\n",
       "\t<li>0</li>\n",
       "\t<li>884</li>\n",
       "\t<li>0</li>\n",
       "\t<li>665</li>\n",
       "\t<li>0</li>\n",
       "\t<li>0</li>\n",
       "\t<li>991</li>\n",
       "\t<li>911</li>\n",
       "\t<li>890</li>\n",
       "\t<li>0</li>\n",
       "\t<li>0</li>\n",
       "\t<li>0</li>\n",
       "\t<li>644</li>\n",
       "\t<li>852</li>\n",
       "\t<li>528</li>\n",
       "\t<li>0</li>\n",
       "\t<li>0</li>\n",
       "\t<li>944</li>\n",
       "\t<li>749</li>\n",
       "\t<li>910</li>\n",
       "\t<li>721</li>\n",
       "\t<li>567</li>\n",
       "\t<li>0</li>\n",
       "\t<li>736</li>\n",
       "\t<li>836</li>\n",
       "\t<li>661</li>\n",
       "\t<li>979</li>\n",
       "\t<li>0</li>\n",
       "\t<li>628</li>\n",
       "\t<li>527</li>\n",
       "\t<li>0</li>\n",
       "\t<li>655</li>\n",
       "\t<li>0</li>\n",
       "\t<li>0</li>\n",
       "\t<li>972</li>\n",
       "\t<li>0</li>\n",
       "\t<li>950</li>\n",
       "\t<li>765</li>\n",
       "\t<li>638</li>\n",
       "\t<li>953</li>\n",
       "\t<li>554</li>\n",
       "\t<li>0</li>\n",
       "\t<li>930</li>\n",
       "\t<li>0</li>\n",
       "\t<li>866</li>\n",
       "\t<li>0</li>\n",
       "\t<li>954</li>\n",
       "\t<li>0</li>\n",
       "\t<li>832</li>\n",
       "\t<li>698</li>\n",
       "\t<li>0</li>\n",
       "\t<li>0</li>\n",
       "\t<li>0</li>\n",
       "\t<li>927</li>\n",
       "\t<li>0</li>\n",
       "\t<li>788</li>\n",
       "\t<li>594</li>\n",
       "\t<li>0</li>\n",
       "\t<li>896</li>\n",
       "\t<li>690</li>\n",
       "\t<li>882</li>\n",
       "\t<li>0</li>\n",
       "\t<li>0</li>\n",
       "\t<li>0</li>\n",
       "\t<li>617</li>\n",
       "\t<li>959</li>\n",
       "\t<li>0</li>\n",
       "\t<li>840</li>\n",
       "\t<li>753</li>\n",
       "\t<li>0</li>\n",
       "\t<li>0</li>\n",
       "\t<li>0</li>\n",
       "\t<li>727</li>\n",
       "\t<li>620</li>\n",
       "\t<li>0</li>\n",
       "\t<li>881</li>\n",
       "\t<li>505</li>\n",
       "\t<li>526</li>\n",
       "\t<li>0</li>\n",
       "\t<li>0</li>\n",
       "\t<li>0</li>\n",
       "\t<li>656</li>\n",
       "\t<li>0</li>\n",
       "\t<li>681</li>\n",
       "\t<li>781</li>\n",
       "\t<li>804</li>\n",
       "\t<li>0</li>\n",
       "\t<li>0</li>\n",
       "\t<li>0</li>\n",
       "\t<li>0</li>\n",
       "\t<li>855</li>\n",
       "\t<li>534</li>\n",
       "\t<li>973</li>\n",
       "\t<li>576</li>\n",
       "\t<li>619</li>\n",
       "\t<li>671</li>\n",
       "\t<li>667</li>\n",
       "\t<li>0</li>\n",
       "\t<li>564</li>\n",
       "\t<li>0</li>\n",
       "\t<li>998</li>\n",
       "\t<li>0</li>\n",
       "\t<li>0</li>\n",
       "\t<li>0</li>\n",
       "\t<li>637</li>\n",
       "\t<li>0</li>\n",
       "\t<li>0</li>\n",
       "\t<li>0</li>\n",
       "\t<li>0</li>\n",
       "\t<li>0</li>\n",
       "\t<li>0</li>\n",
       "\t<li>0</li>\n",
       "\t<li>0</li>\n",
       "\t<li>0</li>\n",
       "\t<li>0</li>\n",
       "\t<li>947</li>\n",
       "\t<li>0</li>\n",
       "\t<li>0</li>\n",
       "\t<li>546</li>\n",
       "\t<li>916</li>\n",
       "\t<li>639</li>\n",
       "\t<li>0</li>\n",
       "\t<li>0</li>\n",
       "\t<li>0</li>\n",
       "\t<li>816</li>\n",
       "\t<li>786</li>\n",
       "\t<li>0</li>\n",
       "\t<li>668</li>\n",
       "\t<li>0</li>\n",
       "\t<li>0</li>\n",
       "\t<li>579</li>\n",
       "\t<li>0</li>\n",
       "\t<li>0</li>\n",
       "\t<li>0</li>\n",
       "\t<li>974</li>\n",
       "\t<li>660</li>\n",
       "\t<li>703</li>\n",
       "\t<li>0</li>\n",
       "\t<li>777</li>\n",
       "\t<li>0</li>\n",
       "\t<li>513</li>\n",
       "\t<li>0</li>\n",
       "\t<li>0</li>\n",
       "\t<li>0</li>\n",
       "\t<li>0</li>\n",
       "\t<li>994</li>\n",
       "\t<li>0</li>\n",
       "\t<li>0</li>\n",
       "\t<li>0</li>\n",
       "\t<li>597</li>\n",
       "\t<li>0</li>\n",
       "\t<li>627</li>\n",
       "\t<li>631</li>\n",
       "\t<li>500</li>\n",
       "\t<li>561</li>\n",
       "\t<li>0</li>\n",
       "\t<li>0</li>\n",
       "\t<li>0</li>\n",
       "\t<li>795</li>\n",
       "\t<li>573</li>\n",
       "\t<li>0</li>\n",
       "\t<li>515</li>\n",
       "\t<li>0</li>\n",
       "\t<li>506</li>\n",
       "\t<li>0</li>\n",
       "\t<li>810</li>\n",
       "\t<li>0</li>\n",
       "\t<li>0</li>\n",
       "\t<li>0</li>\n",
       "\t<li>770</li>\n",
       "\t<li>593</li>\n",
       "\t<li>0</li>\n",
       "\t<li>0</li>\n",
       "\t<li>0</li>\n",
       "\t<li>702</li>\n",
       "\t<li>872</li>\n",
       "\t<li>0</li>\n",
       "\t<li>0</li>\n",
       "\t<li>0</li>\n",
       "\t<li>662</li>\n",
       "\t<li>0</li>\n",
       "\t<li>892</li>\n",
       "\t<li>0</li>\n",
       "\t<li>566</li>\n",
       "\t<li>0</li>\n",
       "\t<li>977</li>\n",
       "\t<li>531</li>\n",
       "\t<li>606</li>\n",
       "\t<li>0</li>\n",
       "\t<li>0</li>\n",
       "\t<li>550</li>\n",
       "\t<li>0</li>\n",
       "\t<li>673</li>\n",
       "\t<li>507</li>\n",
       "\t<li>0</li>\n",
       "\t<li>0</li>\n",
       "\t<li>0</li>\n",
       "\t<li>0</li>\n",
       "\t<li>732</li>\n",
       "\t<li>0</li>\n",
       "\t<li>906</li>\n",
       "\t<li>733</li>\n",
       "\t<li>921</li>\n",
       "\t<li>0</li>\n",
       "\t<li>883</li>\n",
       "\t<li>741</li>\n",
       "\t<li>0</li>\n",
       "\t<li>570</li>\n",
       "\t<li>738</li>\n",
       "\t<li>0</li>\n",
       "\t<li>549</li>\n",
       "\t<li>745</li>\n",
       "\t<li>841</li>\n",
       "\t<li>0</li>\n",
       "\t<li>0</li>\n",
       "\t<li>0</li>\n",
       "\t<li>519</li>\n",
       "\t<li>912</li>\n",
       "\t<li>708</li>\n",
       "\t<li>0</li>\n",
       "\t<li>925</li>\n",
       "\t<li>0</li>\n",
       "\t<li>946</li>\n",
       "\t<li>739</li>\n",
       "\t<li>568</li>\n",
       "\t<li>0</li>\n",
       "\t<li>0</li>\n",
       "\t<li>0</li>\n",
       "\t<li>0</li>\n",
       "\t<li>592</li>\n",
       "\t<li>0</li>\n",
       "\t<li>999</li>\n",
       "\t<li>0</li>\n",
       "\t<li>0</li>\n",
       "\t<li>599</li>\n",
       "\t<li>894</li>\n",
       "\t<li>0</li>\n",
       "\t<li>664</li>\n",
       "\t<li>0</li>\n",
       "\t<li>0</li>\n",
       "\t<li>0</li>\n",
       "\t<li>563</li>\n",
       "\t<li>0</li>\n",
       "\t<li>0</li>\n",
       "\t<li>544</li>\n",
       "\t<li>0</li>\n",
       "\t<li>0</li>\n",
       "\t<li>0</li>\n",
       "\t<li>717</li>\n",
       "\t<li>769</li>\n",
       "\t<li>764</li>\n",
       "\t<li>0</li>\n",
       "\t<li>616</li>\n",
       "\t<li>729</li>\n",
       "\t<li>0</li>\n",
       "\t<li>0</li>\n",
       "\t<li>580</li>\n",
       "\t<li>0</li>\n",
       "\t<li>0</li>\n",
       "\t<li>648</li>\n",
       "\t<li>0</li>\n",
       "\t<li>924</li>\n",
       "\t<li>0</li>\n",
       "\t<li>623</li>\n",
       "\t<li>909</li>\n",
       "\t<li>844</li>\n",
       "\t<li>747</li>\n",
       "\t<li>858</li>\n",
       "\t<li>746</li>\n",
       "\t<li>778</li>\n",
       "\t<li>560</li>\n",
       "\t<li>805</li>\n",
       "\t<li>595</li>\n",
       "\t<li>670</li>\n",
       "\t<li>870</li>\n",
       "\t<li>798</li>\n",
       "\t<li>685</li>\n",
       "\t<li>0</li>\n",
       "\t<li>0</li>\n",
       "\t<li>0</li>\n",
       "\t<li>0</li>\n",
       "\t<li>0</li>\n",
       "\t<li>0</li>\n",
       "\t<li>0</li>\n",
       "\t<li>705</li>\n",
       "\t<li>0</li>\n",
       "\t<li>754</li>\n",
       "\t<li>0</li>\n",
       "\t<li>524</li>\n",
       "\t<li>0</li>\n",
       "\t<li>720</li>\n",
       "\t<li>0</li>\n",
       "\t<li>536</li>\n",
       "\t<li>783</li>\n",
       "\t<li>767</li>\n",
       "\t<li>517</li>\n",
       "\t<li>602</li>\n",
       "\t<li>0</li>\n",
       "\t<li>869</li>\n",
       "\t<li>862</li>\n",
       "\t<li>0</li>\n",
       "\t<li>0</li>\n",
       "\t<li>0</li>\n",
       "\t<li>861</li>\n",
       "\t<li>0</li>\n",
       "\t<li>557</li>\n",
       "\t<li>928</li>\n",
       "\t<li>0</li>\n",
       "\t<li>0</li>\n",
       "\t<li>0</li>\n",
       "\t<li>509</li>\n",
       "\t<li>0</li>\n",
       "\t<li>719</li>\n",
       "\t<li>0</li>\n",
       "\t<li>0</li>\n",
       "\t<li>859</li>\n",
       "\t<li>587</li>\n",
       "\t<li>551</li>\n",
       "\t<li>0</li>\n",
       "\t<li>569</li>\n",
       "\t<li>529</li>\n",
       "\t<li>877</li>\n",
       "\t<li>0</li>\n",
       "\t<li>0</li>\n",
       "\t<li>0</li>\n",
       "\t<li>763</li>\n",
       "\t<li>0</li>\n",
       "\t<li>0</li>\n",
       "\t<li>605</li>\n",
       "\t<li>0</li>\n",
       "\t<li>863</li>\n",
       "\t<li>0</li>\n",
       "\t<li>0</li>\n",
       "\t<li>700</li>\n",
       "\t<li>0</li>\n",
       "\t<li>0</li>\n",
       "\t<li>0</li>\n",
       "\t<li>683</li>\n",
       "\t<li>779</li>\n",
       "\t<li>1000</li>\n",
       "\t<li>0</li>\n",
       "\t<li>0</li>\n",
       "\t<li>0</li>\n",
       "\t<li>0</li>\n",
       "\t<li>0</li>\n",
       "\t<li>885</li>\n",
       "\t<li>0</li>\n",
       "\t<li>0</li>\n",
       "\t<li>0</li>\n",
       "\t<li>0</li>\n",
       "\t<li>0</li>\n",
       "\t<li>0</li>\n",
       "\t<li>0</li>\n",
       "\t<li>0</li>\n",
       "\t<li>0</li>\n",
       "\t<li>0</li>\n",
       "\t<li>943</li>\n",
       "\t<li>790</li>\n",
       "\t<li>530</li>\n",
       "\t<li>0</li>\n",
       "\t<li>0</li>\n",
       "\t<li>0</li>\n",
       "\t<li>0</li>\n",
       "\t<li>641</li>\n",
       "\t<li>0</li>\n",
       "\t<li>0</li>\n",
       "\t<li>827</li>\n",
       "\t<li>743</li>\n",
       "\t<li>0</li>\n",
       "\t<li>825</li>\n",
       "\t<li>0</li>\n",
       "\t<li>731</li>\n",
       "\t<li>0</li>\n",
       "\t<li>0</li>\n",
       "\t<li>0</li>\n",
       "\t<li>0</li>\n",
       "\t<li>0</li>\n",
       "\t<li>0</li>\n",
       "\t<li>0</li>\n",
       "\t<li>780</li>\n",
       "\t<li>598</li>\n",
       "\t<li>682</li>\n",
       "\t<li>951</li>\n",
       "\t<li>555</li>\n",
       "\t<li>558</li>\n",
       "\t<li>0</li>\n",
       "\t<li>948</li>\n",
       "\t<li>0</li>\n",
       "\t<li>0</li>\n",
       "\t<li>0</li>\n",
       "\t<li>0</li>\n",
       "\t<li>932</li>\n",
       "\t<li>839</li>\n",
       "\t<li>630</li>\n",
       "\t<li>0</li>\n",
       "\t<li>0</li>\n",
       "\t<li>799</li>\n",
       "\t<li>987</li>\n",
       "\t<li>845</li>\n",
       "\t<li>0</li>\n",
       "\t<li>0</li>\n",
       "\t<li>588</li>\n",
       "\t<li>0</li>\n",
       "\t<li>0</li>\n",
       "\t<li>0</li>\n",
       "\t<li>0</li>\n",
       "\t<li>0</li>\n",
       "\t<li>624</li>\n",
       "\t<li>695</li>\n",
       "\t<li>734</li>\n",
       "\t<li>0</li>\n",
       "\t<li>636</li>\n",
       "\t<li>0</li>\n",
       "\t<li>611</li>\n",
       "\t<li>847</li>\n",
       "\t<li>853</li>\n",
       "\t<li>0</li>\n",
       "\t<li>612</li>\n",
       "\t<li>0</li>\n",
       "\t<li>0</li>\n",
       "\t<li>539</li>\n",
       "\t<li>833</li>\n",
       "\t<li>0</li>\n",
       "\t<li>0</li>\n",
       "\t<li>0</li>\n",
       "\t<li>0</li>\n",
       "\t<li>828</li>\n",
       "\t<li>0</li>\n",
       "\t<li>541</li>\n",
       "\t<li>986</li>\n",
       "\t<li>913</li>\n",
       "\t<li>0</li>\n",
       "\t<li>945</li>\n",
       "\t<li>687</li>\n",
       "\t<li>0</li>\n",
       "\t<li>940</li>\n",
       "\t<li>949</li>\n",
       "\t<li>725</li>\n",
       "\t<li>0</li>\n",
       "\t<li>0</li>\n",
       "\t<li>0</li>\n",
       "\t<li>0</li>\n",
       "\t<li>0</li>\n",
       "\t<li>0</li>\n",
       "\t<li>988</li>\n",
       "\t<li>0</li>\n",
       "\t<li>898</li>\n",
       "\t<li>0</li>\n",
       "\t<li>0</li>\n",
       "\t<li>0</li>\n",
       "\t<li>523</li>\n",
       "\t<li>0</li>\n",
       "\t<li>0</li>\n",
       "\t<li>0</li>\n",
       "\t<li>750</li>\n",
       "\t<li>0</li>\n",
       "\t<li>752</li>\n",
       "\t<li>0</li>\n",
       "\t<li>559</li>\n",
       "\t<li>0</li>\n",
       "\t<li>518</li>\n",
       "\t<li>653</li>\n",
       "\t<li>0</li>\n",
       "\t<li>603</li>\n",
       "\t<li>625</li>\n",
       "\t<li>0</li>\n",
       "\t<li>802</li>\n",
       "\t<li>0</li>\n",
       "\t<li>0</li>\n",
       "\t<li>835</li>\n",
       "\t<li>0</li>\n",
       "\t<li>766</li>\n",
       "\t<li>0</li>\n",
       "\t<li>0</li>\n",
       "\t<li>0</li>\n",
       "\t<li>923</li>\n",
       "\t<li>658</li>\n",
       "\t<li>787</li>\n",
       "\t<li>871</li>\n",
       "\t<li>585</li>\n",
       "\t<li>0</li>\n",
       "\t<li>0</li>\n",
       "\t<li>775</li>\n",
       "\t<li>645</li>\n",
       "\t<li>971</li>\n",
       "\t<li>958</li>\n",
       "\t<li>762</li>\n",
       "\t<li>992</li>\n",
       "\t<li>0</li>\n",
       "\t<li>622</li>\n",
       "\t<li>774</li>\n",
       "\t<li>535</li>\n",
       "\t<li>0</li>\n",
       "\t<li>0</li>\n",
       "\t<li>891</li>\n",
       "\t<li>817</li>\n",
       "\t<li>0</li>\n",
       "\t<li>851</li>\n",
       "\t<li>879</li>\n",
       "\t<li>0</li>\n",
       "\t<li>0</li>\n",
       "\t<li>626</li>\n",
       "\t<li>0</li>\n",
       "\t<li>867</li>\n",
       "\t<li>0</li>\n",
       "\t<li>0</li>\n",
       "\t<li>0</li>\n",
       "\t<li>0</li>\n",
       "\t<li>0</li>\n",
       "\t<li>706</li>\n",
       "\t<li>0</li>\n",
       "\t<li>963</li>\n",
       "\t<li>857</li>\n",
       "\t<li>873</li>\n",
       "\t<li>532</li>\n",
       "\t<li>875</li>\n",
       "\t<li>577</li>\n",
       "\t<li>0</li>\n",
       "\t<li>501</li>\n",
       "\t<li>760</li>\n",
       "\t<li>726</li>\n",
       "\t<li>0</li>\n",
       "\t<li>995</li>\n",
       "\t<li>0</li>\n",
       "\t<li>0</li>\n",
       "\t<li>837</li>\n",
       "\t<li>0</li>\n",
       "\t<li>0</li>\n",
       "\t<li>917</li>\n",
       "\t<li>735</li>\n",
       "\t<li>553</li>\n",
       "\t<li>0</li>\n",
       "\t<li>0</li>\n",
       "\t<li>0</li>\n",
       "\t<li>980</li>\n",
       "\t<li>584</li>\n",
       "\t<li>0</li>\n",
       "\t<li>0</li>\n",
       "\t<li>621</li>\n",
       "\t<li>0</li>\n",
       "\t<li>0</li>\n",
       "\t<li>773</li>\n",
       "\t<li>768</li>\n",
       "\t<li>0</li>\n",
       "\t<li>819</li>\n",
       "\t<li>0</li>\n",
       "\t<li>0</li>\n",
       "\t<li>824</li>\n",
       "\t<li>543</li>\n",
       "\t<li>808</li>\n",
       "\t<li>571</li>\n",
       "\t<li>826</li>\n",
       "\t<li>0</li>\n",
       "\t<li>0</li>\n",
       "\t<li>0</li>\n",
       "\t<li>704</li>\n",
       "\t<li>0</li>\n",
       "\t<li>0</li>\n",
       "\t<li>508</li>\n",
       "\t<li>646</li>\n",
       "\t<li>772</li>\n",
       "\t<li>807</li>\n",
       "\t<li>678</li>\n",
       "\t<li>520</li>\n",
       "\t<li>0</li>\n",
       "\t<li>0</li>\n",
       "\t<li>0</li>\n",
       "\t<li>0</li>\n",
       "\t<li>962</li>\n",
       "\t<li>742</li>\n",
       "\t<li>897</li>\n",
       "\t<li>985</li>\n",
       "\t<li>864</li>\n",
       "\t<li>755</li>\n",
       "\t<li>0</li>\n",
       "\t<li>512</li>\n",
       "\t<li>792</li>\n",
       "\t<li>961</li>\n",
       "\t<li>0</li>\n",
       "\t<li>0</li>\n",
       "\t<li>0</li>\n",
       "\t<li>676</li>\n",
       "\t<li>0</li>\n",
       "\t<li>0</li>\n",
       "\t<li>0</li>\n",
       "\t<li>0</li>\n",
       "\t<li>609</li>\n",
       "\t<li>893</li>\n",
       "\t<li>0</li>\n",
       "\t<li>0</li>\n",
       "\t<li>0</li>\n",
       "\t<li>565</li>\n",
       "\t<li>0</li>\n",
       "\t<li>0</li>\n",
       "\t<li>759</li>\n",
       "\t<li>575</li>\n",
       "\t<li>793</li>\n",
       "\t<li>984</li>\n",
       "\t<li>0</li>\n",
       "\t<li>966</li>\n",
       "\t<li>876</li>\n",
       "\t<li>552</li>\n",
       "\t<li>0</li>\n",
       "\t<li>663</li>\n",
       "\t<li>0</li>\n",
       "\t<li>723</li>\n",
       "\t<li>511</li>\n",
       "\t<li>0</li>\n",
       "\t<li>691</li>\n",
       "\t<li>0</li>\n",
       "\t<li>0</li>\n",
       "\t<li>607</li>\n",
       "\t<li>716</li>\n",
       "\t<li>0</li>\n",
       "\t<li>604</li>\n",
       "\t<li>0</li>\n",
       "\t<li>0</li>\n",
       "\t<li>0</li>\n",
       "\t<li>0</li>\n",
       "\t<li>0</li>\n",
       "\t<li>0</li>\n",
       "\t<li>0</li>\n",
       "\t<li>997</li>\n",
       "\t<li>776</li>\n",
       "\t<li>675</li>\n",
       "\t<li>860</li>\n",
       "\t<li>850</li>\n",
       "\t<li>758</li>\n",
       "\t<li>849</li>\n",
       "\t<li>537</li>\n",
       "\t<li>0</li>\n",
       "\t<li>822</li>\n",
       "\t<li>815</li>\n",
       "\t<li>0</li>\n",
       "\t<li>936</li>\n",
       "\t<li>650</li>\n",
       "\t<li>0</li>\n",
       "\t<li>0</li>\n",
       "\t<li>0</li>\n",
       "\t<li>0</li>\n",
       "\t<li>0</li>\n",
       "\t<li>846</li>\n",
       "\t<li>502</li>\n",
       "\t<li>900</li>\n",
       "\t<li>993</li>\n",
       "\t<li>0</li>\n",
       "\t<li>868</li>\n",
       "\t<li>0</li>\n",
       "\t<li>0</li>\n",
       "\t<li>711</li>\n",
       "\t<li>0</li>\n",
       "\t<li>0</li>\n",
       "\t<li>0</li>\n",
       "\t<li>556</li>\n",
       "\t<li>652</li>\n",
       "\t<li>0</li>\n",
       "\t<li>514</li>\n",
       "\t<li>952</li>\n",
       "\t<li>818</li>\n",
       "\t<li>0</li>\n",
       "\t<li>0</li>\n",
       "\t<li>0</li>\n",
       "\t<li>813</li>\n",
       "\t<li>0</li>\n",
       "\t<li>744</li>\n",
       "\t<li>0</li>\n",
       "\t<li>0</li>\n",
       "\t<li>574</li>\n",
       "\t<li>0</li>\n",
       "\t<li>0</li>\n",
       "\t<li>0</li>\n",
       "\t<li>0</li>\n",
       "\t<li>0</li>\n",
       "\t<li>589</li>\n",
       "\t<li>608</li>\n",
       "\t<li>889</li>\n",
       "</ol>\n"
      ],
      "text/latex": [
       "\\begin{enumerate*}\n",
       "\\item 0\n",
       "\\item 969\n",
       "\\item 784\n",
       "\\item 899\n",
       "\\item 809\n",
       "\\item 794\n",
       "\\item 0\n",
       "\\item 710\n",
       "\\item 0\n",
       "\\item 677\n",
       "\\item 562\n",
       "\\item 0\n",
       "\\item 0\n",
       "\\item 730\n",
       "\\item 0\n",
       "\\item 970\n",
       "\\item 878\n",
       "\\item 581\n",
       "\\item 789\n",
       "\\item 0\n",
       "\\item 686\n",
       "\\item 0\n",
       "\\item 0\n",
       "\\item 886\n",
       "\\item 0\n",
       "\\item 0\n",
       "\\item 834\n",
       "\\item 922\n",
       "\\item 0\n",
       "\\item 981\n",
       "\\item 0\n",
       "\\item 634\n",
       "\\item 0\n",
       "\\item 0\n",
       "\\item 0\n",
       "\\item 0\n",
       "\\item 0\n",
       "\\item 978\n",
       "\\item 0\n",
       "\\item 610\n",
       "\\item 756\n",
       "\\item 692\n",
       "\\item 0\n",
       "\\item 545\n",
       "\\item 696\n",
       "\\item 0\n",
       "\\item 0\n",
       "\\item 503\n",
       "\\item 0\n",
       "\\item 821\n",
       "\\item 823\n",
       "\\item 0\n",
       "\\item 0\n",
       "\\item 0\n",
       "\\item 0\n",
       "\\item 672\n",
       "\\item 983\n",
       "\\item 0\n",
       "\\item 0\n",
       "\\item 590\n",
       "\\item 0\n",
       "\\item 975\n",
       "\\item 955\n",
       "\\item 737\n",
       "\\item 699\n",
       "\\item 933\n",
       "\\item 0\n",
       "\\item 689\n",
       "\\item 0\n",
       "\\item 0\n",
       "\\item 757\n",
       "\\item 0\n",
       "\\item 0\n",
       "\\item 0\n",
       "\\item 659\n",
       "\\item 904\n",
       "\\item 0\n",
       "\\item 0\n",
       "\\item 0\n",
       "\\item 0\n",
       "\\item 968\n",
       "\\item 0\n",
       "\\item 831\n",
       "\\item 586\n",
       "\\item 902\n",
       "\\item 0\n",
       "\\item 782\n",
       "\\item 960\n",
       "\\item 907\n",
       "\\item 811\n",
       "\\item 548\n",
       "\\item 713\n",
       "\\item 707\n",
       "\\item 0\n",
       "\\item 583\n",
       "\\item 838\n",
       "\\item 0\n",
       "\\item 0\n",
       "\\item 0\n",
       "\\item 0\n",
       "\\item 0\n",
       "\\item 0\n",
       "\\item 0\n",
       "\\item 0\n",
       "\\item 989\n",
       "\\item 920\n",
       "\\item 0\n",
       "\\item 709\n",
       "\\item 0\n",
       "\\item 761\n",
       "\\item 694\n",
       "\\item 572\n",
       "\\item 0\n",
       "\\item 791\n",
       "\\item 722\n",
       "\\item 0\n",
       "\\item 0\n",
       "\\item 0\n",
       "\\item 0\n",
       "\\item 931\n",
       "\\item 0\n",
       "\\item 540\n",
       "\\item 0\n",
       "\\item 0\n",
       "\\item 0\n",
       "\\item 865\n",
       "\\item 895\n",
       "\\item 0\n",
       "\\item 629\n",
       "\\item 647\n",
       "\\item 0\n",
       "\\item 0\n",
       "\\item 843\n",
       "\\item 0\n",
       "\\item 0\n",
       "\\item 0\n",
       "\\item 785\n",
       "\\item 797\n",
       "\\item 929\n",
       "\\item 0\n",
       "\\item 715\n",
       "\\item 0\n",
       "\\item 521\n",
       "\\item 937\n",
       "\\item 967\n",
       "\\item 0\n",
       "\\item 0\n",
       "\\item 504\n",
       "\\item 643\n",
       "\\item 615\n",
       "\\item 0\n",
       "\\item 635\n",
       "\\item 800\n",
       "\\item 0\n",
       "\\item 0\n",
       "\\item 965\n",
       "\\item 600\n",
       "\\item 697\n",
       "\\item 942\n",
       "\\item 0\n",
       "\\item 990\n",
       "\\item 856\n",
       "\\item 0\n",
       "\\item 0\n",
       "\\item 525\n",
       "\\item 0\n",
       "\\item 934\n",
       "\\item 0\n",
       "\\item 649\n",
       "\\item 976\n",
       "\\item 0\n",
       "\\item 533\n",
       "\\item 0\n",
       "\\item 522\n",
       "\\item 0\n",
       "\\item 0\n",
       "\\item 0\n",
       "\\item 814\n",
       "\\item 0\n",
       "\\item 0\n",
       "\\item 0\n",
       "\\item 0\n",
       "\\item 0\n",
       "\\item 842\n",
       "\\item 0\n",
       "\\item 0\n",
       "\\item 0\n",
       "\\item 0\n",
       "\\item 0\n",
       "\\item 0\n",
       "\\item 941\n",
       "\\item 633\n",
       "\\item 0\n",
       "\\item 578\n",
       "\\item 591\n",
       "\\item 0\n",
       "\\item 0\n",
       "\\item 680\n",
       "\\item 0\n",
       "\\item 0\n",
       "\\item 601\n",
       "\\item 0\n",
       "\\item 919\n",
       "\\item 938\n",
       "\\item 0\n",
       "\\item 0\n",
       "\\item 0\n",
       "\\item 0\n",
       "\\item 0\n",
       "\\item 957\n",
       "\\item 642\n",
       "\\item 0\n",
       "\\item 806\n",
       "\\item 701\n",
       "\\item 0\n",
       "\\item 0\n",
       "\\item 740\n",
       "\\item 669\n",
       "\\item 538\n",
       "\\item 0\n",
       "\\item 0\n",
       "\\item 0\n",
       "\\item 848\n",
       "\\item 674\n",
       "\\item 0\n",
       "\\item 0\n",
       "\\item 996\n",
       "\\item 0\n",
       "\\item 618\n",
       "\\item 905\n",
       "\\item 939\n",
       "\\item 0\n",
       "\\item 0\n",
       "\\item 0\n",
       "\\item 0\n",
       "\\item 0\n",
       "\\item 935\n",
       "\\item 0\n",
       "\\item 0\n",
       "\\item 688\n",
       "\\item 926\n",
       "\\item 666\n",
       "\\item 582\n",
       "\\item 0\n",
       "\\item 0\n",
       "\\item 712\n",
       "\\item 887\n",
       "\\item 918\n",
       "\\item 0\n",
       "\\item 0\n",
       "\\item 614\n",
       "\\item 0\n",
       "\\item 0\n",
       "\\item 0\n",
       "\\item 596\n",
       "\\item 0\n",
       "\\item 0\n",
       "\\item 0\n",
       "\\item 0\n",
       "\\item 0\n",
       "\\item 613\n",
       "\\item 0\n",
       "\\item 901\n",
       "\\item 728\n",
       "\\item 0\n",
       "\\item 880\n",
       "\\item 0\n",
       "\\item 0\n",
       "\\item 0\n",
       "\\item 0\n",
       "\\item 0\n",
       "\\item 0\n",
       "\\item 0\n",
       "\\item 0\n",
       "\\item 751\n",
       "\\item 0\n",
       "\\item 820\n",
       "\\item 964\n",
       "\\item 510\n",
       "\\item 0\n",
       "\\item 0\n",
       "\\item 0\n",
       "\\item 0\n",
       "\\item 0\n",
       "\\item 0\n",
       "\\item 812\n",
       "\\item 542\n",
       "\\item 796\n",
       "\\item 801\n",
       "\\item 956\n",
       "\\item 854\n",
       "\\item 724\n",
       "\\item 657\n",
       "\\item 640\n",
       "\\item 915\n",
       "\\item 0\n",
       "\\item 0\n",
       "\\item 0\n",
       "\\item 0\n",
       "\\item 874\n",
       "\\item 0\n",
       "\\item 748\n",
       "\\item 516\n",
       "\\item 908\n",
       "\\item 0\n",
       "\\item 0\n",
       "\\item 654\n",
       "\\item 830\n",
       "\\item 0\n",
       "\\item 679\n",
       "\\item 693\n",
       "\\item 718\n",
       "\\item 888\n",
       "\\item 0\n",
       "\\item 0\n",
       "\\item 0\n",
       "\\item 803\n",
       "\\item 714\n",
       "\\item 0\n",
       "\\item 684\n",
       "\\item 771\n",
       "\\item 914\n",
       "\\item 547\n",
       "\\item 0\n",
       "\\item 0\n",
       "\\item 884\n",
       "\\item 0\n",
       "\\item 665\n",
       "\\item 0\n",
       "\\item 0\n",
       "\\item 991\n",
       "\\item 911\n",
       "\\item 890\n",
       "\\item 0\n",
       "\\item 0\n",
       "\\item 0\n",
       "\\item 644\n",
       "\\item 852\n",
       "\\item 528\n",
       "\\item 0\n",
       "\\item 0\n",
       "\\item 944\n",
       "\\item 749\n",
       "\\item 910\n",
       "\\item 721\n",
       "\\item 567\n",
       "\\item 0\n",
       "\\item 736\n",
       "\\item 836\n",
       "\\item 661\n",
       "\\item 979\n",
       "\\item 0\n",
       "\\item 628\n",
       "\\item 527\n",
       "\\item 0\n",
       "\\item 655\n",
       "\\item 0\n",
       "\\item 0\n",
       "\\item 972\n",
       "\\item 0\n",
       "\\item 950\n",
       "\\item 765\n",
       "\\item 638\n",
       "\\item 953\n",
       "\\item 554\n",
       "\\item 0\n",
       "\\item 930\n",
       "\\item 0\n",
       "\\item 866\n",
       "\\item 0\n",
       "\\item 954\n",
       "\\item 0\n",
       "\\item 832\n",
       "\\item 698\n",
       "\\item 0\n",
       "\\item 0\n",
       "\\item 0\n",
       "\\item 927\n",
       "\\item 0\n",
       "\\item 788\n",
       "\\item 594\n",
       "\\item 0\n",
       "\\item 896\n",
       "\\item 690\n",
       "\\item 882\n",
       "\\item 0\n",
       "\\item 0\n",
       "\\item 0\n",
       "\\item 617\n",
       "\\item 959\n",
       "\\item 0\n",
       "\\item 840\n",
       "\\item 753\n",
       "\\item 0\n",
       "\\item 0\n",
       "\\item 0\n",
       "\\item 727\n",
       "\\item 620\n",
       "\\item 0\n",
       "\\item 881\n",
       "\\item 505\n",
       "\\item 526\n",
       "\\item 0\n",
       "\\item 0\n",
       "\\item 0\n",
       "\\item 656\n",
       "\\item 0\n",
       "\\item 681\n",
       "\\item 781\n",
       "\\item 804\n",
       "\\item 0\n",
       "\\item 0\n",
       "\\item 0\n",
       "\\item 0\n",
       "\\item 855\n",
       "\\item 534\n",
       "\\item 973\n",
       "\\item 576\n",
       "\\item 619\n",
       "\\item 671\n",
       "\\item 667\n",
       "\\item 0\n",
       "\\item 564\n",
       "\\item 0\n",
       "\\item 998\n",
       "\\item 0\n",
       "\\item 0\n",
       "\\item 0\n",
       "\\item 637\n",
       "\\item 0\n",
       "\\item 0\n",
       "\\item 0\n",
       "\\item 0\n",
       "\\item 0\n",
       "\\item 0\n",
       "\\item 0\n",
       "\\item 0\n",
       "\\item 0\n",
       "\\item 0\n",
       "\\item 947\n",
       "\\item 0\n",
       "\\item 0\n",
       "\\item 546\n",
       "\\item 916\n",
       "\\item 639\n",
       "\\item 0\n",
       "\\item 0\n",
       "\\item 0\n",
       "\\item 816\n",
       "\\item 786\n",
       "\\item 0\n",
       "\\item 668\n",
       "\\item 0\n",
       "\\item 0\n",
       "\\item 579\n",
       "\\item 0\n",
       "\\item 0\n",
       "\\item 0\n",
       "\\item 974\n",
       "\\item 660\n",
       "\\item 703\n",
       "\\item 0\n",
       "\\item 777\n",
       "\\item 0\n",
       "\\item 513\n",
       "\\item 0\n",
       "\\item 0\n",
       "\\item 0\n",
       "\\item 0\n",
       "\\item 994\n",
       "\\item 0\n",
       "\\item 0\n",
       "\\item 0\n",
       "\\item 597\n",
       "\\item 0\n",
       "\\item 627\n",
       "\\item 631\n",
       "\\item 500\n",
       "\\item 561\n",
       "\\item 0\n",
       "\\item 0\n",
       "\\item 0\n",
       "\\item 795\n",
       "\\item 573\n",
       "\\item 0\n",
       "\\item 515\n",
       "\\item 0\n",
       "\\item 506\n",
       "\\item 0\n",
       "\\item 810\n",
       "\\item 0\n",
       "\\item 0\n",
       "\\item 0\n",
       "\\item 770\n",
       "\\item 593\n",
       "\\item 0\n",
       "\\item 0\n",
       "\\item 0\n",
       "\\item 702\n",
       "\\item 872\n",
       "\\item 0\n",
       "\\item 0\n",
       "\\item 0\n",
       "\\item 662\n",
       "\\item 0\n",
       "\\item 892\n",
       "\\item 0\n",
       "\\item 566\n",
       "\\item 0\n",
       "\\item 977\n",
       "\\item 531\n",
       "\\item 606\n",
       "\\item 0\n",
       "\\item 0\n",
       "\\item 550\n",
       "\\item 0\n",
       "\\item 673\n",
       "\\item 507\n",
       "\\item 0\n",
       "\\item 0\n",
       "\\item 0\n",
       "\\item 0\n",
       "\\item 732\n",
       "\\item 0\n",
       "\\item 906\n",
       "\\item 733\n",
       "\\item 921\n",
       "\\item 0\n",
       "\\item 883\n",
       "\\item 741\n",
       "\\item 0\n",
       "\\item 570\n",
       "\\item 738\n",
       "\\item 0\n",
       "\\item 549\n",
       "\\item 745\n",
       "\\item 841\n",
       "\\item 0\n",
       "\\item 0\n",
       "\\item 0\n",
       "\\item 519\n",
       "\\item 912\n",
       "\\item 708\n",
       "\\item 0\n",
       "\\item 925\n",
       "\\item 0\n",
       "\\item 946\n",
       "\\item 739\n",
       "\\item 568\n",
       "\\item 0\n",
       "\\item 0\n",
       "\\item 0\n",
       "\\item 0\n",
       "\\item 592\n",
       "\\item 0\n",
       "\\item 999\n",
       "\\item 0\n",
       "\\item 0\n",
       "\\item 599\n",
       "\\item 894\n",
       "\\item 0\n",
       "\\item 664\n",
       "\\item 0\n",
       "\\item 0\n",
       "\\item 0\n",
       "\\item 563\n",
       "\\item 0\n",
       "\\item 0\n",
       "\\item 544\n",
       "\\item 0\n",
       "\\item 0\n",
       "\\item 0\n",
       "\\item 717\n",
       "\\item 769\n",
       "\\item 764\n",
       "\\item 0\n",
       "\\item 616\n",
       "\\item 729\n",
       "\\item 0\n",
       "\\item 0\n",
       "\\item 580\n",
       "\\item 0\n",
       "\\item 0\n",
       "\\item 648\n",
       "\\item 0\n",
       "\\item 924\n",
       "\\item 0\n",
       "\\item 623\n",
       "\\item 909\n",
       "\\item 844\n",
       "\\item 747\n",
       "\\item 858\n",
       "\\item 746\n",
       "\\item 778\n",
       "\\item 560\n",
       "\\item 805\n",
       "\\item 595\n",
       "\\item 670\n",
       "\\item 870\n",
       "\\item 798\n",
       "\\item 685\n",
       "\\item 0\n",
       "\\item 0\n",
       "\\item 0\n",
       "\\item 0\n",
       "\\item 0\n",
       "\\item 0\n",
       "\\item 0\n",
       "\\item 705\n",
       "\\item 0\n",
       "\\item 754\n",
       "\\item 0\n",
       "\\item 524\n",
       "\\item 0\n",
       "\\item 720\n",
       "\\item 0\n",
       "\\item 536\n",
       "\\item 783\n",
       "\\item 767\n",
       "\\item 517\n",
       "\\item 602\n",
       "\\item 0\n",
       "\\item 869\n",
       "\\item 862\n",
       "\\item 0\n",
       "\\item 0\n",
       "\\item 0\n",
       "\\item 861\n",
       "\\item 0\n",
       "\\item 557\n",
       "\\item 928\n",
       "\\item 0\n",
       "\\item 0\n",
       "\\item 0\n",
       "\\item 509\n",
       "\\item 0\n",
       "\\item 719\n",
       "\\item 0\n",
       "\\item 0\n",
       "\\item 859\n",
       "\\item 587\n",
       "\\item 551\n",
       "\\item 0\n",
       "\\item 569\n",
       "\\item 529\n",
       "\\item 877\n",
       "\\item 0\n",
       "\\item 0\n",
       "\\item 0\n",
       "\\item 763\n",
       "\\item 0\n",
       "\\item 0\n",
       "\\item 605\n",
       "\\item 0\n",
       "\\item 863\n",
       "\\item 0\n",
       "\\item 0\n",
       "\\item 700\n",
       "\\item 0\n",
       "\\item 0\n",
       "\\item 0\n",
       "\\item 683\n",
       "\\item 779\n",
       "\\item 1000\n",
       "\\item 0\n",
       "\\item 0\n",
       "\\item 0\n",
       "\\item 0\n",
       "\\item 0\n",
       "\\item 885\n",
       "\\item 0\n",
       "\\item 0\n",
       "\\item 0\n",
       "\\item 0\n",
       "\\item 0\n",
       "\\item 0\n",
       "\\item 0\n",
       "\\item 0\n",
       "\\item 0\n",
       "\\item 0\n",
       "\\item 943\n",
       "\\item 790\n",
       "\\item 530\n",
       "\\item 0\n",
       "\\item 0\n",
       "\\item 0\n",
       "\\item 0\n",
       "\\item 641\n",
       "\\item 0\n",
       "\\item 0\n",
       "\\item 827\n",
       "\\item 743\n",
       "\\item 0\n",
       "\\item 825\n",
       "\\item 0\n",
       "\\item 731\n",
       "\\item 0\n",
       "\\item 0\n",
       "\\item 0\n",
       "\\item 0\n",
       "\\item 0\n",
       "\\item 0\n",
       "\\item 0\n",
       "\\item 780\n",
       "\\item 598\n",
       "\\item 682\n",
       "\\item 951\n",
       "\\item 555\n",
       "\\item 558\n",
       "\\item 0\n",
       "\\item 948\n",
       "\\item 0\n",
       "\\item 0\n",
       "\\item 0\n",
       "\\item 0\n",
       "\\item 932\n",
       "\\item 839\n",
       "\\item 630\n",
       "\\item 0\n",
       "\\item 0\n",
       "\\item 799\n",
       "\\item 987\n",
       "\\item 845\n",
       "\\item 0\n",
       "\\item 0\n",
       "\\item 588\n",
       "\\item 0\n",
       "\\item 0\n",
       "\\item 0\n",
       "\\item 0\n",
       "\\item 0\n",
       "\\item 624\n",
       "\\item 695\n",
       "\\item 734\n",
       "\\item 0\n",
       "\\item 636\n",
       "\\item 0\n",
       "\\item 611\n",
       "\\item 847\n",
       "\\item 853\n",
       "\\item 0\n",
       "\\item 612\n",
       "\\item 0\n",
       "\\item 0\n",
       "\\item 539\n",
       "\\item 833\n",
       "\\item 0\n",
       "\\item 0\n",
       "\\item 0\n",
       "\\item 0\n",
       "\\item 828\n",
       "\\item 0\n",
       "\\item 541\n",
       "\\item 986\n",
       "\\item 913\n",
       "\\item 0\n",
       "\\item 945\n",
       "\\item 687\n",
       "\\item 0\n",
       "\\item 940\n",
       "\\item 949\n",
       "\\item 725\n",
       "\\item 0\n",
       "\\item 0\n",
       "\\item 0\n",
       "\\item 0\n",
       "\\item 0\n",
       "\\item 0\n",
       "\\item 988\n",
       "\\item 0\n",
       "\\item 898\n",
       "\\item 0\n",
       "\\item 0\n",
       "\\item 0\n",
       "\\item 523\n",
       "\\item 0\n",
       "\\item 0\n",
       "\\item 0\n",
       "\\item 750\n",
       "\\item 0\n",
       "\\item 752\n",
       "\\item 0\n",
       "\\item 559\n",
       "\\item 0\n",
       "\\item 518\n",
       "\\item 653\n",
       "\\item 0\n",
       "\\item 603\n",
       "\\item 625\n",
       "\\item 0\n",
       "\\item 802\n",
       "\\item 0\n",
       "\\item 0\n",
       "\\item 835\n",
       "\\item 0\n",
       "\\item 766\n",
       "\\item 0\n",
       "\\item 0\n",
       "\\item 0\n",
       "\\item 923\n",
       "\\item 658\n",
       "\\item 787\n",
       "\\item 871\n",
       "\\item 585\n",
       "\\item 0\n",
       "\\item 0\n",
       "\\item 775\n",
       "\\item 645\n",
       "\\item 971\n",
       "\\item 958\n",
       "\\item 762\n",
       "\\item 992\n",
       "\\item 0\n",
       "\\item 622\n",
       "\\item 774\n",
       "\\item 535\n",
       "\\item 0\n",
       "\\item 0\n",
       "\\item 891\n",
       "\\item 817\n",
       "\\item 0\n",
       "\\item 851\n",
       "\\item 879\n",
       "\\item 0\n",
       "\\item 0\n",
       "\\item 626\n",
       "\\item 0\n",
       "\\item 867\n",
       "\\item 0\n",
       "\\item 0\n",
       "\\item 0\n",
       "\\item 0\n",
       "\\item 0\n",
       "\\item 706\n",
       "\\item 0\n",
       "\\item 963\n",
       "\\item 857\n",
       "\\item 873\n",
       "\\item 532\n",
       "\\item 875\n",
       "\\item 577\n",
       "\\item 0\n",
       "\\item 501\n",
       "\\item 760\n",
       "\\item 726\n",
       "\\item 0\n",
       "\\item 995\n",
       "\\item 0\n",
       "\\item 0\n",
       "\\item 837\n",
       "\\item 0\n",
       "\\item 0\n",
       "\\item 917\n",
       "\\item 735\n",
       "\\item 553\n",
       "\\item 0\n",
       "\\item 0\n",
       "\\item 0\n",
       "\\item 980\n",
       "\\item 584\n",
       "\\item 0\n",
       "\\item 0\n",
       "\\item 621\n",
       "\\item 0\n",
       "\\item 0\n",
       "\\item 773\n",
       "\\item 768\n",
       "\\item 0\n",
       "\\item 819\n",
       "\\item 0\n",
       "\\item 0\n",
       "\\item 824\n",
       "\\item 543\n",
       "\\item 808\n",
       "\\item 571\n",
       "\\item 826\n",
       "\\item 0\n",
       "\\item 0\n",
       "\\item 0\n",
       "\\item 704\n",
       "\\item 0\n",
       "\\item 0\n",
       "\\item 508\n",
       "\\item 646\n",
       "\\item 772\n",
       "\\item 807\n",
       "\\item 678\n",
       "\\item 520\n",
       "\\item 0\n",
       "\\item 0\n",
       "\\item 0\n",
       "\\item 0\n",
       "\\item 962\n",
       "\\item 742\n",
       "\\item 897\n",
       "\\item 985\n",
       "\\item 864\n",
       "\\item 755\n",
       "\\item 0\n",
       "\\item 512\n",
       "\\item 792\n",
       "\\item 961\n",
       "\\item 0\n",
       "\\item 0\n",
       "\\item 0\n",
       "\\item 676\n",
       "\\item 0\n",
       "\\item 0\n",
       "\\item 0\n",
       "\\item 0\n",
       "\\item 609\n",
       "\\item 893\n",
       "\\item 0\n",
       "\\item 0\n",
       "\\item 0\n",
       "\\item 565\n",
       "\\item 0\n",
       "\\item 0\n",
       "\\item 759\n",
       "\\item 575\n",
       "\\item 793\n",
       "\\item 984\n",
       "\\item 0\n",
       "\\item 966\n",
       "\\item 876\n",
       "\\item 552\n",
       "\\item 0\n",
       "\\item 663\n",
       "\\item 0\n",
       "\\item 723\n",
       "\\item 511\n",
       "\\item 0\n",
       "\\item 691\n",
       "\\item 0\n",
       "\\item 0\n",
       "\\item 607\n",
       "\\item 716\n",
       "\\item 0\n",
       "\\item 604\n",
       "\\item 0\n",
       "\\item 0\n",
       "\\item 0\n",
       "\\item 0\n",
       "\\item 0\n",
       "\\item 0\n",
       "\\item 0\n",
       "\\item 997\n",
       "\\item 776\n",
       "\\item 675\n",
       "\\item 860\n",
       "\\item 850\n",
       "\\item 758\n",
       "\\item 849\n",
       "\\item 537\n",
       "\\item 0\n",
       "\\item 822\n",
       "\\item 815\n",
       "\\item 0\n",
       "\\item 936\n",
       "\\item 650\n",
       "\\item 0\n",
       "\\item 0\n",
       "\\item 0\n",
       "\\item 0\n",
       "\\item 0\n",
       "\\item 846\n",
       "\\item 502\n",
       "\\item 900\n",
       "\\item 993\n",
       "\\item 0\n",
       "\\item 868\n",
       "\\item 0\n",
       "\\item 0\n",
       "\\item 711\n",
       "\\item 0\n",
       "\\item 0\n",
       "\\item 0\n",
       "\\item 556\n",
       "\\item 652\n",
       "\\item 0\n",
       "\\item 514\n",
       "\\item 952\n",
       "\\item 818\n",
       "\\item 0\n",
       "\\item 0\n",
       "\\item 0\n",
       "\\item 813\n",
       "\\item 0\n",
       "\\item 744\n",
       "\\item 0\n",
       "\\item 0\n",
       "\\item 574\n",
       "\\item 0\n",
       "\\item 0\n",
       "\\item 0\n",
       "\\item 0\n",
       "\\item 0\n",
       "\\item 589\n",
       "\\item 608\n",
       "\\item 889\n",
       "\\end{enumerate*}\n"
      ],
      "text/markdown": [
       "1. 0\n",
       "2. 969\n",
       "3. 784\n",
       "4. 899\n",
       "5. 809\n",
       "6. 794\n",
       "7. 0\n",
       "8. 710\n",
       "9. 0\n",
       "10. 677\n",
       "11. 562\n",
       "12. 0\n",
       "13. 0\n",
       "14. 730\n",
       "15. 0\n",
       "16. 970\n",
       "17. 878\n",
       "18. 581\n",
       "19. 789\n",
       "20. 0\n",
       "21. 686\n",
       "22. 0\n",
       "23. 0\n",
       "24. 886\n",
       "25. 0\n",
       "26. 0\n",
       "27. 834\n",
       "28. 922\n",
       "29. 0\n",
       "30. 981\n",
       "31. 0\n",
       "32. 634\n",
       "33. 0\n",
       "34. 0\n",
       "35. 0\n",
       "36. 0\n",
       "37. 0\n",
       "38. 978\n",
       "39. 0\n",
       "40. 610\n",
       "41. 756\n",
       "42. 692\n",
       "43. 0\n",
       "44. 545\n",
       "45. 696\n",
       "46. 0\n",
       "47. 0\n",
       "48. 503\n",
       "49. 0\n",
       "50. 821\n",
       "51. 823\n",
       "52. 0\n",
       "53. 0\n",
       "54. 0\n",
       "55. 0\n",
       "56. 672\n",
       "57. 983\n",
       "58. 0\n",
       "59. 0\n",
       "60. 590\n",
       "61. 0\n",
       "62. 975\n",
       "63. 955\n",
       "64. 737\n",
       "65. 699\n",
       "66. 933\n",
       "67. 0\n",
       "68. 689\n",
       "69. 0\n",
       "70. 0\n",
       "71. 757\n",
       "72. 0\n",
       "73. 0\n",
       "74. 0\n",
       "75. 659\n",
       "76. 904\n",
       "77. 0\n",
       "78. 0\n",
       "79. 0\n",
       "80. 0\n",
       "81. 968\n",
       "82. 0\n",
       "83. 831\n",
       "84. 586\n",
       "85. 902\n",
       "86. 0\n",
       "87. 782\n",
       "88. 960\n",
       "89. 907\n",
       "90. 811\n",
       "91. 548\n",
       "92. 713\n",
       "93. 707\n",
       "94. 0\n",
       "95. 583\n",
       "96. 838\n",
       "97. 0\n",
       "98. 0\n",
       "99. 0\n",
       "100. 0\n",
       "101. 0\n",
       "102. 0\n",
       "103. 0\n",
       "104. 0\n",
       "105. 989\n",
       "106. 920\n",
       "107. 0\n",
       "108. 709\n",
       "109. 0\n",
       "110. 761\n",
       "111. 694\n",
       "112. 572\n",
       "113. 0\n",
       "114. 791\n",
       "115. 722\n",
       "116. 0\n",
       "117. 0\n",
       "118. 0\n",
       "119. 0\n",
       "120. 931\n",
       "121. 0\n",
       "122. 540\n",
       "123. 0\n",
       "124. 0\n",
       "125. 0\n",
       "126. 865\n",
       "127. 895\n",
       "128. 0\n",
       "129. 629\n",
       "130. 647\n",
       "131. 0\n",
       "132. 0\n",
       "133. 843\n",
       "134. 0\n",
       "135. 0\n",
       "136. 0\n",
       "137. 785\n",
       "138. 797\n",
       "139. 929\n",
       "140. 0\n",
       "141. 715\n",
       "142. 0\n",
       "143. 521\n",
       "144. 937\n",
       "145. 967\n",
       "146. 0\n",
       "147. 0\n",
       "148. 504\n",
       "149. 643\n",
       "150. 615\n",
       "151. 0\n",
       "152. 635\n",
       "153. 800\n",
       "154. 0\n",
       "155. 0\n",
       "156. 965\n",
       "157. 600\n",
       "158. 697\n",
       "159. 942\n",
       "160. 0\n",
       "161. 990\n",
       "162. 856\n",
       "163. 0\n",
       "164. 0\n",
       "165. 525\n",
       "166. 0\n",
       "167. 934\n",
       "168. 0\n",
       "169. 649\n",
       "170. 976\n",
       "171. 0\n",
       "172. 533\n",
       "173. 0\n",
       "174. 522\n",
       "175. 0\n",
       "176. 0\n",
       "177. 0\n",
       "178. 814\n",
       "179. 0\n",
       "180. 0\n",
       "181. 0\n",
       "182. 0\n",
       "183. 0\n",
       "184. 842\n",
       "185. 0\n",
       "186. 0\n",
       "187. 0\n",
       "188. 0\n",
       "189. 0\n",
       "190. 0\n",
       "191. 941\n",
       "192. 633\n",
       "193. 0\n",
       "194. 578\n",
       "195. 591\n",
       "196. 0\n",
       "197. 0\n",
       "198. 680\n",
       "199. 0\n",
       "200. 0\n",
       "201. 601\n",
       "202. 0\n",
       "203. 919\n",
       "204. 938\n",
       "205. 0\n",
       "206. 0\n",
       "207. 0\n",
       "208. 0\n",
       "209. 0\n",
       "210. 957\n",
       "211. 642\n",
       "212. 0\n",
       "213. 806\n",
       "214. 701\n",
       "215. 0\n",
       "216. 0\n",
       "217. 740\n",
       "218. 669\n",
       "219. 538\n",
       "220. 0\n",
       "221. 0\n",
       "222. 0\n",
       "223. 848\n",
       "224. 674\n",
       "225. 0\n",
       "226. 0\n",
       "227. 996\n",
       "228. 0\n",
       "229. 618\n",
       "230. 905\n",
       "231. 939\n",
       "232. 0\n",
       "233. 0\n",
       "234. 0\n",
       "235. 0\n",
       "236. 0\n",
       "237. 935\n",
       "238. 0\n",
       "239. 0\n",
       "240. 688\n",
       "241. 926\n",
       "242. 666\n",
       "243. 582\n",
       "244. 0\n",
       "245. 0\n",
       "246. 712\n",
       "247. 887\n",
       "248. 918\n",
       "249. 0\n",
       "250. 0\n",
       "251. 614\n",
       "252. 0\n",
       "253. 0\n",
       "254. 0\n",
       "255. 596\n",
       "256. 0\n",
       "257. 0\n",
       "258. 0\n",
       "259. 0\n",
       "260. 0\n",
       "261. 613\n",
       "262. 0\n",
       "263. 901\n",
       "264. 728\n",
       "265. 0\n",
       "266. 880\n",
       "267. 0\n",
       "268. 0\n",
       "269. 0\n",
       "270. 0\n",
       "271. 0\n",
       "272. 0\n",
       "273. 0\n",
       "274. 0\n",
       "275. 751\n",
       "276. 0\n",
       "277. 820\n",
       "278. 964\n",
       "279. 510\n",
       "280. 0\n",
       "281. 0\n",
       "282. 0\n",
       "283. 0\n",
       "284. 0\n",
       "285. 0\n",
       "286. 812\n",
       "287. 542\n",
       "288. 796\n",
       "289. 801\n",
       "290. 956\n",
       "291. 854\n",
       "292. 724\n",
       "293. 657\n",
       "294. 640\n",
       "295. 915\n",
       "296. 0\n",
       "297. 0\n",
       "298. 0\n",
       "299. 0\n",
       "300. 874\n",
       "301. 0\n",
       "302. 748\n",
       "303. 516\n",
       "304. 908\n",
       "305. 0\n",
       "306. 0\n",
       "307. 654\n",
       "308. 830\n",
       "309. 0\n",
       "310. 679\n",
       "311. 693\n",
       "312. 718\n",
       "313. 888\n",
       "314. 0\n",
       "315. 0\n",
       "316. 0\n",
       "317. 803\n",
       "318. 714\n",
       "319. 0\n",
       "320. 684\n",
       "321. 771\n",
       "322. 914\n",
       "323. 547\n",
       "324. 0\n",
       "325. 0\n",
       "326. 884\n",
       "327. 0\n",
       "328. 665\n",
       "329. 0\n",
       "330. 0\n",
       "331. 991\n",
       "332. 911\n",
       "333. 890\n",
       "334. 0\n",
       "335. 0\n",
       "336. 0\n",
       "337. 644\n",
       "338. 852\n",
       "339. 528\n",
       "340. 0\n",
       "341. 0\n",
       "342. 944\n",
       "343. 749\n",
       "344. 910\n",
       "345. 721\n",
       "346. 567\n",
       "347. 0\n",
       "348. 736\n",
       "349. 836\n",
       "350. 661\n",
       "351. 979\n",
       "352. 0\n",
       "353. 628\n",
       "354. 527\n",
       "355. 0\n",
       "356. 655\n",
       "357. 0\n",
       "358. 0\n",
       "359. 972\n",
       "360. 0\n",
       "361. 950\n",
       "362. 765\n",
       "363. 638\n",
       "364. 953\n",
       "365. 554\n",
       "366. 0\n",
       "367. 930\n",
       "368. 0\n",
       "369. 866\n",
       "370. 0\n",
       "371. 954\n",
       "372. 0\n",
       "373. 832\n",
       "374. 698\n",
       "375. 0\n",
       "376. 0\n",
       "377. 0\n",
       "378. 927\n",
       "379. 0\n",
       "380. 788\n",
       "381. 594\n",
       "382. 0\n",
       "383. 896\n",
       "384. 690\n",
       "385. 882\n",
       "386. 0\n",
       "387. 0\n",
       "388. 0\n",
       "389. 617\n",
       "390. 959\n",
       "391. 0\n",
       "392. 840\n",
       "393. 753\n",
       "394. 0\n",
       "395. 0\n",
       "396. 0\n",
       "397. 727\n",
       "398. 620\n",
       "399. 0\n",
       "400. 881\n",
       "401. 505\n",
       "402. 526\n",
       "403. 0\n",
       "404. 0\n",
       "405. 0\n",
       "406. 656\n",
       "407. 0\n",
       "408. 681\n",
       "409. 781\n",
       "410. 804\n",
       "411. 0\n",
       "412. 0\n",
       "413. 0\n",
       "414. 0\n",
       "415. 855\n",
       "416. 534\n",
       "417. 973\n",
       "418. 576\n",
       "419. 619\n",
       "420. 671\n",
       "421. 667\n",
       "422. 0\n",
       "423. 564\n",
       "424. 0\n",
       "425. 998\n",
       "426. 0\n",
       "427. 0\n",
       "428. 0\n",
       "429. 637\n",
       "430. 0\n",
       "431. 0\n",
       "432. 0\n",
       "433. 0\n",
       "434. 0\n",
       "435. 0\n",
       "436. 0\n",
       "437. 0\n",
       "438. 0\n",
       "439. 0\n",
       "440. 947\n",
       "441. 0\n",
       "442. 0\n",
       "443. 546\n",
       "444. 916\n",
       "445. 639\n",
       "446. 0\n",
       "447. 0\n",
       "448. 0\n",
       "449. 816\n",
       "450. 786\n",
       "451. 0\n",
       "452. 668\n",
       "453. 0\n",
       "454. 0\n",
       "455. 579\n",
       "456. 0\n",
       "457. 0\n",
       "458. 0\n",
       "459. 974\n",
       "460. 660\n",
       "461. 703\n",
       "462. 0\n",
       "463. 777\n",
       "464. 0\n",
       "465. 513\n",
       "466. 0\n",
       "467. 0\n",
       "468. 0\n",
       "469. 0\n",
       "470. 994\n",
       "471. 0\n",
       "472. 0\n",
       "473. 0\n",
       "474. 597\n",
       "475. 0\n",
       "476. 627\n",
       "477. 631\n",
       "478. 500\n",
       "479. 561\n",
       "480. 0\n",
       "481. 0\n",
       "482. 0\n",
       "483. 795\n",
       "484. 573\n",
       "485. 0\n",
       "486. 515\n",
       "487. 0\n",
       "488. 506\n",
       "489. 0\n",
       "490. 810\n",
       "491. 0\n",
       "492. 0\n",
       "493. 0\n",
       "494. 770\n",
       "495. 593\n",
       "496. 0\n",
       "497. 0\n",
       "498. 0\n",
       "499. 702\n",
       "500. 872\n",
       "501. 0\n",
       "502. 0\n",
       "503. 0\n",
       "504. 662\n",
       "505. 0\n",
       "506. 892\n",
       "507. 0\n",
       "508. 566\n",
       "509. 0\n",
       "510. 977\n",
       "511. 531\n",
       "512. 606\n",
       "513. 0\n",
       "514. 0\n",
       "515. 550\n",
       "516. 0\n",
       "517. 673\n",
       "518. 507\n",
       "519. 0\n",
       "520. 0\n",
       "521. 0\n",
       "522. 0\n",
       "523. 732\n",
       "524. 0\n",
       "525. 906\n",
       "526. 733\n",
       "527. 921\n",
       "528. 0\n",
       "529. 883\n",
       "530. 741\n",
       "531. 0\n",
       "532. 570\n",
       "533. 738\n",
       "534. 0\n",
       "535. 549\n",
       "536. 745\n",
       "537. 841\n",
       "538. 0\n",
       "539. 0\n",
       "540. 0\n",
       "541. 519\n",
       "542. 912\n",
       "543. 708\n",
       "544. 0\n",
       "545. 925\n",
       "546. 0\n",
       "547. 946\n",
       "548. 739\n",
       "549. 568\n",
       "550. 0\n",
       "551. 0\n",
       "552. 0\n",
       "553. 0\n",
       "554. 592\n",
       "555. 0\n",
       "556. 999\n",
       "557. 0\n",
       "558. 0\n",
       "559. 599\n",
       "560. 894\n",
       "561. 0\n",
       "562. 664\n",
       "563. 0\n",
       "564. 0\n",
       "565. 0\n",
       "566. 563\n",
       "567. 0\n",
       "568. 0\n",
       "569. 544\n",
       "570. 0\n",
       "571. 0\n",
       "572. 0\n",
       "573. 717\n",
       "574. 769\n",
       "575. 764\n",
       "576. 0\n",
       "577. 616\n",
       "578. 729\n",
       "579. 0\n",
       "580. 0\n",
       "581. 580\n",
       "582. 0\n",
       "583. 0\n",
       "584. 648\n",
       "585. 0\n",
       "586. 924\n",
       "587. 0\n",
       "588. 623\n",
       "589. 909\n",
       "590. 844\n",
       "591. 747\n",
       "592. 858\n",
       "593. 746\n",
       "594. 778\n",
       "595. 560\n",
       "596. 805\n",
       "597. 595\n",
       "598. 670\n",
       "599. 870\n",
       "600. 798\n",
       "601. 685\n",
       "602. 0\n",
       "603. 0\n",
       "604. 0\n",
       "605. 0\n",
       "606. 0\n",
       "607. 0\n",
       "608. 0\n",
       "609. 705\n",
       "610. 0\n",
       "611. 754\n",
       "612. 0\n",
       "613. 524\n",
       "614. 0\n",
       "615. 720\n",
       "616. 0\n",
       "617. 536\n",
       "618. 783\n",
       "619. 767\n",
       "620. 517\n",
       "621. 602\n",
       "622. 0\n",
       "623. 869\n",
       "624. 862\n",
       "625. 0\n",
       "626. 0\n",
       "627. 0\n",
       "628. 861\n",
       "629. 0\n",
       "630. 557\n",
       "631. 928\n",
       "632. 0\n",
       "633. 0\n",
       "634. 0\n",
       "635. 509\n",
       "636. 0\n",
       "637. 719\n",
       "638. 0\n",
       "639. 0\n",
       "640. 859\n",
       "641. 587\n",
       "642. 551\n",
       "643. 0\n",
       "644. 569\n",
       "645. 529\n",
       "646. 877\n",
       "647. 0\n",
       "648. 0\n",
       "649. 0\n",
       "650. 763\n",
       "651. 0\n",
       "652. 0\n",
       "653. 605\n",
       "654. 0\n",
       "655. 863\n",
       "656. 0\n",
       "657. 0\n",
       "658. 700\n",
       "659. 0\n",
       "660. 0\n",
       "661. 0\n",
       "662. 683\n",
       "663. 779\n",
       "664. 1000\n",
       "665. 0\n",
       "666. 0\n",
       "667. 0\n",
       "668. 0\n",
       "669. 0\n",
       "670. 885\n",
       "671. 0\n",
       "672. 0\n",
       "673. 0\n",
       "674. 0\n",
       "675. 0\n",
       "676. 0\n",
       "677. 0\n",
       "678. 0\n",
       "679. 0\n",
       "680. 0\n",
       "681. 943\n",
       "682. 790\n",
       "683. 530\n",
       "684. 0\n",
       "685. 0\n",
       "686. 0\n",
       "687. 0\n",
       "688. 641\n",
       "689. 0\n",
       "690. 0\n",
       "691. 827\n",
       "692. 743\n",
       "693. 0\n",
       "694. 825\n",
       "695. 0\n",
       "696. 731\n",
       "697. 0\n",
       "698. 0\n",
       "699. 0\n",
       "700. 0\n",
       "701. 0\n",
       "702. 0\n",
       "703. 0\n",
       "704. 780\n",
       "705. 598\n",
       "706. 682\n",
       "707. 951\n",
       "708. 555\n",
       "709. 558\n",
       "710. 0\n",
       "711. 948\n",
       "712. 0\n",
       "713. 0\n",
       "714. 0\n",
       "715. 0\n",
       "716. 932\n",
       "717. 839\n",
       "718. 630\n",
       "719. 0\n",
       "720. 0\n",
       "721. 799\n",
       "722. 987\n",
       "723. 845\n",
       "724. 0\n",
       "725. 0\n",
       "726. 588\n",
       "727. 0\n",
       "728. 0\n",
       "729. 0\n",
       "730. 0\n",
       "731. 0\n",
       "732. 624\n",
       "733. 695\n",
       "734. 734\n",
       "735. 0\n",
       "736. 636\n",
       "737. 0\n",
       "738. 611\n",
       "739. 847\n",
       "740. 853\n",
       "741. 0\n",
       "742. 612\n",
       "743. 0\n",
       "744. 0\n",
       "745. 539\n",
       "746. 833\n",
       "747. 0\n",
       "748. 0\n",
       "749. 0\n",
       "750. 0\n",
       "751. 828\n",
       "752. 0\n",
       "753. 541\n",
       "754. 986\n",
       "755. 913\n",
       "756. 0\n",
       "757. 945\n",
       "758. 687\n",
       "759. 0\n",
       "760. 940\n",
       "761. 949\n",
       "762. 725\n",
       "763. 0\n",
       "764. 0\n",
       "765. 0\n",
       "766. 0\n",
       "767. 0\n",
       "768. 0\n",
       "769. 988\n",
       "770. 0\n",
       "771. 898\n",
       "772. 0\n",
       "773. 0\n",
       "774. 0\n",
       "775. 523\n",
       "776. 0\n",
       "777. 0\n",
       "778. 0\n",
       "779. 750\n",
       "780. 0\n",
       "781. 752\n",
       "782. 0\n",
       "783. 559\n",
       "784. 0\n",
       "785. 518\n",
       "786. 653\n",
       "787. 0\n",
       "788. 603\n",
       "789. 625\n",
       "790. 0\n",
       "791. 802\n",
       "792. 0\n",
       "793. 0\n",
       "794. 835\n",
       "795. 0\n",
       "796. 766\n",
       "797. 0\n",
       "798. 0\n",
       "799. 0\n",
       "800. 923\n",
       "801. 658\n",
       "802. 787\n",
       "803. 871\n",
       "804. 585\n",
       "805. 0\n",
       "806. 0\n",
       "807. 775\n",
       "808. 645\n",
       "809. 971\n",
       "810. 958\n",
       "811. 762\n",
       "812. 992\n",
       "813. 0\n",
       "814. 622\n",
       "815. 774\n",
       "816. 535\n",
       "817. 0\n",
       "818. 0\n",
       "819. 891\n",
       "820. 817\n",
       "821. 0\n",
       "822. 851\n",
       "823. 879\n",
       "824. 0\n",
       "825. 0\n",
       "826. 626\n",
       "827. 0\n",
       "828. 867\n",
       "829. 0\n",
       "830. 0\n",
       "831. 0\n",
       "832. 0\n",
       "833. 0\n",
       "834. 706\n",
       "835. 0\n",
       "836. 963\n",
       "837. 857\n",
       "838. 873\n",
       "839. 532\n",
       "840. 875\n",
       "841. 577\n",
       "842. 0\n",
       "843. 501\n",
       "844. 760\n",
       "845. 726\n",
       "846. 0\n",
       "847. 995\n",
       "848. 0\n",
       "849. 0\n",
       "850. 837\n",
       "851. 0\n",
       "852. 0\n",
       "853. 917\n",
       "854. 735\n",
       "855. 553\n",
       "856. 0\n",
       "857. 0\n",
       "858. 0\n",
       "859. 980\n",
       "860. 584\n",
       "861. 0\n",
       "862. 0\n",
       "863. 621\n",
       "864. 0\n",
       "865. 0\n",
       "866. 773\n",
       "867. 768\n",
       "868. 0\n",
       "869. 819\n",
       "870. 0\n",
       "871. 0\n",
       "872. 824\n",
       "873. 543\n",
       "874. 808\n",
       "875. 571\n",
       "876. 826\n",
       "877. 0\n",
       "878. 0\n",
       "879. 0\n",
       "880. 704\n",
       "881. 0\n",
       "882. 0\n",
       "883. 508\n",
       "884. 646\n",
       "885. 772\n",
       "886. 807\n",
       "887. 678\n",
       "888. 520\n",
       "889. 0\n",
       "890. 0\n",
       "891. 0\n",
       "892. 0\n",
       "893. 962\n",
       "894. 742\n",
       "895. 897\n",
       "896. 985\n",
       "897. 864\n",
       "898. 755\n",
       "899. 0\n",
       "900. 512\n",
       "901. 792\n",
       "902. 961\n",
       "903. 0\n",
       "904. 0\n",
       "905. 0\n",
       "906. 676\n",
       "907. 0\n",
       "908. 0\n",
       "909. 0\n",
       "910. 0\n",
       "911. 609\n",
       "912. 893\n",
       "913. 0\n",
       "914. 0\n",
       "915. 0\n",
       "916. 565\n",
       "917. 0\n",
       "918. 0\n",
       "919. 759\n",
       "920. 575\n",
       "921. 793\n",
       "922. 984\n",
       "923. 0\n",
       "924. 966\n",
       "925. 876\n",
       "926. 552\n",
       "927. 0\n",
       "928. 663\n",
       "929. 0\n",
       "930. 723\n",
       "931. 511\n",
       "932. 0\n",
       "933. 691\n",
       "934. 0\n",
       "935. 0\n",
       "936. 607\n",
       "937. 716\n",
       "938. 0\n",
       "939. 604\n",
       "940. 0\n",
       "941. 0\n",
       "942. 0\n",
       "943. 0\n",
       "944. 0\n",
       "945. 0\n",
       "946. 0\n",
       "947. 997\n",
       "948. 776\n",
       "949. 675\n",
       "950. 860\n",
       "951. 850\n",
       "952. 758\n",
       "953. 849\n",
       "954. 537\n",
       "955. 0\n",
       "956. 822\n",
       "957. 815\n",
       "958. 0\n",
       "959. 936\n",
       "960. 650\n",
       "961. 0\n",
       "962. 0\n",
       "963. 0\n",
       "964. 0\n",
       "965. 0\n",
       "966. 846\n",
       "967. 502\n",
       "968. 900\n",
       "969. 993\n",
       "970. 0\n",
       "971. 868\n",
       "972. 0\n",
       "973. 0\n",
       "974. 711\n",
       "975. 0\n",
       "976. 0\n",
       "977. 0\n",
       "978. 556\n",
       "979. 652\n",
       "980. 0\n",
       "981. 514\n",
       "982. 952\n",
       "983. 818\n",
       "984. 0\n",
       "985. 0\n",
       "986. 0\n",
       "987. 813\n",
       "988. 0\n",
       "989. 744\n",
       "990. 0\n",
       "991. 0\n",
       "992. 574\n",
       "993. 0\n",
       "994. 0\n",
       "995. 0\n",
       "996. 0\n",
       "997. 0\n",
       "998. 589\n",
       "999. 608\n",
       "1000. 889\n",
       "\n",
       "\n"
      ],
      "text/plain": [
       "   [1]    0  969  784  899  809  794    0  710    0  677  562    0    0  730\n",
       "  [15]    0  970  878  581  789    0  686    0    0  886    0    0  834  922\n",
       "  [29]    0  981    0  634    0    0    0    0    0  978    0  610  756  692\n",
       "  [43]    0  545  696    0    0  503    0  821  823    0    0    0    0  672\n",
       "  [57]  983    0    0  590    0  975  955  737  699  933    0  689    0    0\n",
       "  [71]  757    0    0    0  659  904    0    0    0    0  968    0  831  586\n",
       "  [85]  902    0  782  960  907  811  548  713  707    0  583  838    0    0\n",
       "  [99]    0    0    0    0    0    0  989  920    0  709    0  761  694  572\n",
       " [113]    0  791  722    0    0    0    0  931    0  540    0    0    0  865\n",
       " [127]  895    0  629  647    0    0  843    0    0    0  785  797  929    0\n",
       " [141]  715    0  521  937  967    0    0  504  643  615    0  635  800    0\n",
       " [155]    0  965  600  697  942    0  990  856    0    0  525    0  934    0\n",
       " [169]  649  976    0  533    0  522    0    0    0  814    0    0    0    0\n",
       " [183]    0  842    0    0    0    0    0    0  941  633    0  578  591    0\n",
       " [197]    0  680    0    0  601    0  919  938    0    0    0    0    0  957\n",
       " [211]  642    0  806  701    0    0  740  669  538    0    0    0  848  674\n",
       " [225]    0    0  996    0  618  905  939    0    0    0    0    0  935    0\n",
       " [239]    0  688  926  666  582    0    0  712  887  918    0    0  614    0\n",
       " [253]    0    0  596    0    0    0    0    0  613    0  901  728    0  880\n",
       " [267]    0    0    0    0    0    0    0    0  751    0  820  964  510    0\n",
       " [281]    0    0    0    0    0  812  542  796  801  956  854  724  657  640\n",
       " [295]  915    0    0    0    0  874    0  748  516  908    0    0  654  830\n",
       " [309]    0  679  693  718  888    0    0    0  803  714    0  684  771  914\n",
       " [323]  547    0    0  884    0  665    0    0  991  911  890    0    0    0\n",
       " [337]  644  852  528    0    0  944  749  910  721  567    0  736  836  661\n",
       " [351]  979    0  628  527    0  655    0    0  972    0  950  765  638  953\n",
       " [365]  554    0  930    0  866    0  954    0  832  698    0    0    0  927\n",
       " [379]    0  788  594    0  896  690  882    0    0    0  617  959    0  840\n",
       " [393]  753    0    0    0  727  620    0  881  505  526    0    0    0  656\n",
       " [407]    0  681  781  804    0    0    0    0  855  534  973  576  619  671\n",
       " [421]  667    0  564    0  998    0    0    0  637    0    0    0    0    0\n",
       " [435]    0    0    0    0    0  947    0    0  546  916  639    0    0    0\n",
       " [449]  816  786    0  668    0    0  579    0    0    0  974  660  703    0\n",
       " [463]  777    0  513    0    0    0    0  994    0    0    0  597    0  627\n",
       " [477]  631  500  561    0    0    0  795  573    0  515    0  506    0  810\n",
       " [491]    0    0    0  770  593    0    0    0  702  872    0    0    0  662\n",
       " [505]    0  892    0  566    0  977  531  606    0    0  550    0  673  507\n",
       " [519]    0    0    0    0  732    0  906  733  921    0  883  741    0  570\n",
       " [533]  738    0  549  745  841    0    0    0  519  912  708    0  925    0\n",
       " [547]  946  739  568    0    0    0    0  592    0  999    0    0  599  894\n",
       " [561]    0  664    0    0    0  563    0    0  544    0    0    0  717  769\n",
       " [575]  764    0  616  729    0    0  580    0    0  648    0  924    0  623\n",
       " [589]  909  844  747  858  746  778  560  805  595  670  870  798  685    0\n",
       " [603]    0    0    0    0    0    0  705    0  754    0  524    0  720    0\n",
       " [617]  536  783  767  517  602    0  869  862    0    0    0  861    0  557\n",
       " [631]  928    0    0    0  509    0  719    0    0  859  587  551    0  569\n",
       " [645]  529  877    0    0    0  763    0    0  605    0  863    0    0  700\n",
       " [659]    0    0    0  683  779 1000    0    0    0    0    0  885    0    0\n",
       " [673]    0    0    0    0    0    0    0    0  943  790  530    0    0    0\n",
       " [687]    0  641    0    0  827  743    0  825    0  731    0    0    0    0\n",
       " [701]    0    0    0  780  598  682  951  555  558    0  948    0    0    0\n",
       " [715]    0  932  839  630    0    0  799  987  845    0    0  588    0    0\n",
       " [729]    0    0    0  624  695  734    0  636    0  611  847  853    0  612\n",
       " [743]    0    0  539  833    0    0    0    0  828    0  541  986  913    0\n",
       " [757]  945  687    0  940  949  725    0    0    0    0    0    0  988    0\n",
       " [771]  898    0    0    0  523    0    0    0  750    0  752    0  559    0\n",
       " [785]  518  653    0  603  625    0  802    0    0  835    0  766    0    0\n",
       " [799]    0  923  658  787  871  585    0    0  775  645  971  958  762  992\n",
       " [813]    0  622  774  535    0    0  891  817    0  851  879    0    0  626\n",
       " [827]    0  867    0    0    0    0    0  706    0  963  857  873  532  875\n",
       " [841]  577    0  501  760  726    0  995    0    0  837    0    0  917  735\n",
       " [855]  553    0    0    0  980  584    0    0  621    0    0  773  768    0\n",
       " [869]  819    0    0  824  543  808  571  826    0    0    0  704    0    0\n",
       " [883]  508  646  772  807  678  520    0    0    0    0  962  742  897  985\n",
       " [897]  864  755    0  512  792  961    0    0    0  676    0    0    0    0\n",
       " [911]  609  893    0    0    0  565    0    0  759  575  793  984    0  966\n",
       " [925]  876  552    0  663    0  723  511    0  691    0    0  607  716    0\n",
       " [939]  604    0    0    0    0    0    0    0  997  776  675  860  850  758\n",
       " [953]  849  537    0  822  815    0  936  650    0    0    0    0    0  846\n",
       " [967]  502  900  993    0  868    0    0  711    0    0    0  556  652    0\n",
       " [981]  514  952  818    0    0    0  813    0  744    0    0  574    0    0\n",
       " [995]    0    0    0  589  608  889"
      ]
     },
     "metadata": {},
     "output_type": "display_data"
    }
   ],
   "source": [
    "set.seed(11111)\n",
    "a <- sample(-10:1000, size = 1000)\n",
    "a[which(a<500)] <- 0\n",
    "a"
   ]
  },
  {
   "cell_type": "code",
   "execution_count": 407,
   "metadata": {},
   "outputs": [
    {
     "data": {
      "text/html": [
       "3"
      ],
      "text/latex": [
       "3"
      ],
      "text/markdown": [
       "3"
      ],
      "text/plain": [
       "[1] 3"
      ]
     },
     "metadata": {},
     "output_type": "display_data"
    }
   ],
   "source": [
    "#functions\n",
    "calculator <- function (num1 = 1, num2 = 1, op = 0)\n",
    "{\n",
    "  if(op == \"add\")\n",
    "  {\n",
    "    return(num1 + num2)\n",
    "  }\n",
    "}\n",
    "x = calculator(1,2, \"add\")\n",
    "x"
   ]
  },
  {
   "cell_type": "code",
   "execution_count": 401,
   "metadata": {},
   "outputs": [],
   "source": [
    "calculator <- function (num1, num2, op)\n",
    "{\n",
    "  if(op == \"add\")\n",
    "  {\n",
    "    return(num1 + num2)\n",
    "  }\n",
    "  else (op == \"sub\")\n",
    "  {\n",
    "    return(num1 - num2)\n",
    "  }\n",
    "}"
   ]
  },
  {
   "cell_type": "code",
   "execution_count": null,
   "metadata": {},
   "outputs": [],
   "source": [
    "calculator <- function (num1, num2, op)\n",
    "{\n",
    "  if(op == \"add\")\n",
    "  {\n",
    "    return(num1 + num2)\n",
    "  }\n",
    "  else if (op == \"sub\")\n",
    "  {\n",
    "    return(num1 - num2)\n",
    "  }\n",
    "  else if (op == \"mult\")\n",
    "  {\n",
    "    return(num1 * num2)\n",
    "  }\n",
    "  else if (op == \"div\")\n",
    "  {\n",
    "    return(num1/num2)\n",
    "  }\n",
    "}"
   ]
  },
  {
   "cell_type": "code",
   "execution_count": 412,
   "metadata": {},
   "outputs": [
    {
     "data": {
      "text/html": [
       "<ol class=list-inline>\n",
       "\t<li>FALSE</li>\n",
       "\t<li>FALSE</li>\n",
       "\t<li>FALSE</li>\n",
       "\t<li>TRUE</li>\n",
       "\t<li>FALSE</li>\n",
       "</ol>\n"
      ],
      "text/latex": [
       "\\begin{enumerate*}\n",
       "\\item FALSE\n",
       "\\item FALSE\n",
       "\\item FALSE\n",
       "\\item TRUE\n",
       "\\item FALSE\n",
       "\\end{enumerate*}\n"
      ],
      "text/markdown": [
       "1. FALSE\n",
       "2. FALSE\n",
       "3. FALSE\n",
       "4. TRUE\n",
       "5. FALSE\n",
       "\n",
       "\n"
      ],
      "text/plain": [
       "[1] FALSE FALSE FALSE  TRUE FALSE"
      ]
     },
     "metadata": {},
     "output_type": "display_data"
    },
    {
     "data": {
      "text/html": [
       "3.5"
      ],
      "text/latex": [
       "3.5"
      ],
      "text/markdown": [
       "3.5"
      ],
      "text/plain": [
       "[1] 3.5"
      ]
     },
     "metadata": {},
     "output_type": "display_data"
    },
    {
     "data": {
      "text/html": [
       "3.5"
      ],
      "text/latex": [
       "3.5"
      ],
      "text/markdown": [
       "3.5"
      ],
      "text/plain": [
       "[1] 3.5"
      ]
     },
     "metadata": {},
     "output_type": "display_data"
    }
   ],
   "source": [
    "a <- c(2,4,3,NA,5)\n",
    "is.na(a)\n",
    "mean(a, na.rm=TRUE)\n",
    "median(a, na.rm=TRUE)"
   ]
  },
  {
   "cell_type": "code",
   "execution_count": 414,
   "metadata": {},
   "outputs": [
    {
     "data": {
      "text/html": [
       "<ol class=list-inline>\n",
       "\t<li>2</li>\n",
       "\t<li>4</li>\n",
       "\t<li>3</li>\n",
       "\t<li>0</li>\n",
       "\t<li>5</li>\n",
       "</ol>\n"
      ],
      "text/latex": [
       "\\begin{enumerate*}\n",
       "\\item 2\n",
       "\\item 4\n",
       "\\item 3\n",
       "\\item 0\n",
       "\\item 5\n",
       "\\end{enumerate*}\n"
      ],
      "text/markdown": [
       "1. 2\n",
       "2. 4\n",
       "3. 3\n",
       "4. 0\n",
       "5. 5\n",
       "\n",
       "\n"
      ],
      "text/plain": [
       "[1] 2 4 3 0 5"
      ]
     },
     "metadata": {},
     "output_type": "display_data"
    }
   ],
   "source": [
    "a[is.na(a)] <- 0\n",
    "a"
   ]
  },
  {
   "cell_type": "code",
   "execution_count": 421,
   "metadata": {},
   "outputs": [
    {
     "name": "stderr",
     "output_type": "stream",
     "text": [
      "Warning message:\n",
      "\"package 'mice' is in use and will not be installed\""
     ]
    },
    {
     "data": {
      "text/html": [
       "<ol class=list-inline>\n",
       "\t<li>62</li>\n",
       "\t<li>11</li>\n",
       "</ol>\n"
      ],
      "text/latex": [
       "\\begin{enumerate*}\n",
       "\\item 62\n",
       "\\item 11\n",
       "\\end{enumerate*}\n"
      ],
      "text/markdown": [
       "1. 62\n",
       "2. 11\n",
       "\n",
       "\n"
      ],
      "text/plain": [
       "[1] 62 11"
      ]
     },
     "metadata": {},
     "output_type": "display_data"
    },
    {
     "data": {
      "text/html": [
       "<table>\n",
       "<thead><tr><th scope=col>species</th><th scope=col>bw</th><th scope=col>brw</th><th scope=col>sws</th><th scope=col>ps</th><th scope=col>ts</th><th scope=col>mls</th><th scope=col>gt</th><th scope=col>pi</th><th scope=col>sei</th><th scope=col>odi</th></tr></thead>\n",
       "<tbody>\n",
       "\t<tr><td>African elephant         </td><td>6654.000                 </td><td>5712.0                   </td><td> NA                      </td><td> NA                      </td><td> 3.3                     </td><td>38.6                     </td><td>645                      </td><td>3                        </td><td>5                        </td><td>3                        </td></tr>\n",
       "\t<tr><td>African giant pouched rat</td><td>   1.000                 </td><td>   6.6                   </td><td>6.3                      </td><td>2.0                      </td><td> 8.3                     </td><td> 4.5                     </td><td> 42                      </td><td>3                        </td><td>1                        </td><td>3                        </td></tr>\n",
       "\t<tr><td>Arctic Fox               </td><td>   3.385                 </td><td>  44.5                   </td><td> NA                      </td><td> NA                      </td><td>12.5                     </td><td>14.0                     </td><td> 60                      </td><td>1                        </td><td>1                        </td><td>1                        </td></tr>\n",
       "\t<tr><td>Arctic ground squirrel   </td><td>   0.920                 </td><td>   5.7                   </td><td> NA                      </td><td> NA                      </td><td>16.5                     </td><td>  NA                     </td><td> 25                      </td><td>5                        </td><td>2                        </td><td>3                        </td></tr>\n",
       "\t<tr><td>Asian elephant           </td><td>2547.000                 </td><td>4603.0                   </td><td>2.1                      </td><td>1.8                      </td><td> 3.9                     </td><td>69.0                     </td><td>624                      </td><td>3                        </td><td>5                        </td><td>4                        </td></tr>\n",
       "\t<tr><td>Baboon                   </td><td>  10.550                 </td><td> 179.5                   </td><td>9.1                      </td><td>0.7                      </td><td> 9.8                     </td><td>27.0                     </td><td>180                      </td><td>4                        </td><td>4                        </td><td>4                        </td></tr>\n",
       "</tbody>\n",
       "</table>\n"
      ],
      "text/latex": [
       "\\begin{tabular}{r|lllllllllll}\n",
       " species & bw & brw & sws & ps & ts & mls & gt & pi & sei & odi\\\\\n",
       "\\hline\n",
       "\t African elephant          & 6654.000                  & 5712.0                    &  NA                       &  NA                       &  3.3                      & 38.6                      & 645                       & 3                         & 5                         & 3                        \\\\\n",
       "\t African giant pouched rat &    1.000                  &    6.6                    & 6.3                       & 2.0                       &  8.3                      &  4.5                      &  42                       & 3                         & 1                         & 3                        \\\\\n",
       "\t Arctic Fox                &    3.385                  &   44.5                    &  NA                       &  NA                       & 12.5                      & 14.0                      &  60                       & 1                         & 1                         & 1                        \\\\\n",
       "\t Arctic ground squirrel    &    0.920                  &    5.7                    &  NA                       &  NA                       & 16.5                      &   NA                      &  25                       & 5                         & 2                         & 3                        \\\\\n",
       "\t Asian elephant            & 2547.000                  & 4603.0                    & 2.1                       & 1.8                       &  3.9                      & 69.0                      & 624                       & 3                         & 5                         & 4                        \\\\\n",
       "\t Baboon                    &   10.550                  &  179.5                    & 9.1                       & 0.7                       &  9.8                      & 27.0                      & 180                       & 4                         & 4                         & 4                        \\\\\n",
       "\\end{tabular}\n"
      ],
      "text/markdown": [
       "\n",
       "species | bw | brw | sws | ps | ts | mls | gt | pi | sei | odi | \n",
       "|---|---|---|---|---|---|\n",
       "| African elephant          | 6654.000                  | 5712.0                    |  NA                       |  NA                       |  3.3                      | 38.6                      | 645                       | 3                         | 5                         | 3                         | \n",
       "| African giant pouched rat |    1.000                  |    6.6                    | 6.3                       | 2.0                       |  8.3                      |  4.5                      |  42                       | 3                         | 1                         | 3                         | \n",
       "| Arctic Fox                |    3.385                  |   44.5                    |  NA                       |  NA                       | 12.5                      | 14.0                      |  60                       | 1                         | 1                         | 1                         | \n",
       "| Arctic ground squirrel    |    0.920                  |    5.7                    |  NA                       |  NA                       | 16.5                      |   NA                      |  25                       | 5                         | 2                         | 3                         | \n",
       "| Asian elephant            | 2547.000                  | 4603.0                    | 2.1                       | 1.8                       |  3.9                      | 69.0                      | 624                       | 3                         | 5                         | 4                         | \n",
       "| Baboon                    |   10.550                  |  179.5                    | 9.1                       | 0.7                       |  9.8                      | 27.0                      | 180                       | 4                         | 4                         | 4                         | \n",
       "\n",
       "\n"
      ],
      "text/plain": [
       "  species                   bw       brw    sws ps  ts   mls  gt  pi sei odi\n",
       "1 African elephant          6654.000 5712.0  NA  NA  3.3 38.6 645 3  5   3  \n",
       "2 African giant pouched rat    1.000    6.6 6.3 2.0  8.3  4.5  42 3  1   3  \n",
       "3 Arctic Fox                   3.385   44.5  NA  NA 12.5 14.0  60 1  1   1  \n",
       "4 Arctic ground squirrel       0.920    5.7  NA  NA 16.5   NA  25 5  2   3  \n",
       "5 Asian elephant            2547.000 4603.0 2.1 1.8  3.9 69.0 624 3  5   4  \n",
       "6 Baboon                      10.550  179.5 9.1 0.7  9.8 27.0 180 4  4   4  "
      ]
     },
     "metadata": {},
     "output_type": "display_data"
    }
   ],
   "source": [
    "#data imputation\n",
    "install.packages(\"mice\")\n",
    "library(mice)\n",
    "data(mammalsleep)\n",
    "dim(mammalsleep)\n",
    "head(mammalsleep)"
   ]
  },
  {
   "cell_type": "code",
   "execution_count": 422,
   "metadata": {},
   "outputs": [
    {
     "data": {
      "text/html": [
       "20"
      ],
      "text/latex": [
       "20"
      ],
      "text/markdown": [
       "20"
      ],
      "text/plain": [
       "[1] 20"
      ]
     },
     "metadata": {},
     "output_type": "display_data"
    }
   ],
   "source": [
    "nic(mammalsleep)"
   ]
  },
  {
   "cell_type": "code",
   "execution_count": 423,
   "metadata": {},
   "outputs": [
    {
     "data": {
      "text/html": [
       "<table>\n",
       "<thead><tr><th></th><th scope=col>species</th><th scope=col>bw</th><th scope=col>brw</th><th scope=col>pi</th><th scope=col>sei</th><th scope=col>odi</th><th scope=col>ts</th><th scope=col>mls</th><th scope=col>gt</th><th scope=col>ps</th><th scope=col>sws</th><th scope=col></th></tr></thead>\n",
       "<tbody>\n",
       "\t<tr><th scope=row>42</th><td>1 </td><td>1 </td><td>1 </td><td>1 </td><td>1 </td><td>1 </td><td>1 </td><td>1 </td><td>1 </td><td> 1</td><td> 1</td><td> 0</td></tr>\n",
       "\t<tr><th scope=row> 2</th><td>1 </td><td>1 </td><td>1 </td><td>1 </td><td>1 </td><td>1 </td><td>1 </td><td>0 </td><td>1 </td><td> 1</td><td> 1</td><td> 1</td></tr>\n",
       "\t<tr><th scope=row> 3</th><td>1 </td><td>1 </td><td>1 </td><td>1 </td><td>1 </td><td>1 </td><td>1 </td><td>1 </td><td>0 </td><td> 1</td><td> 1</td><td> 1</td></tr>\n",
       "\t<tr><th scope=row> 9</th><td>1 </td><td>1 </td><td>1 </td><td>1 </td><td>1 </td><td>1 </td><td>1 </td><td>1 </td><td>1 </td><td> 0</td><td> 0</td><td> 2</td></tr>\n",
       "\t<tr><th scope=row> 2</th><td>1 </td><td>1 </td><td>1 </td><td>1 </td><td>1 </td><td>1 </td><td>0 </td><td>1 </td><td>1 </td><td> 1</td><td> 0</td><td> 2</td></tr>\n",
       "\t<tr><th scope=row> 1</th><td>1 </td><td>1 </td><td>1 </td><td>1 </td><td>1 </td><td>1 </td><td>1 </td><td>0 </td><td>0 </td><td> 1</td><td> 1</td><td> 2</td></tr>\n",
       "\t<tr><th scope=row> 2</th><td>1 </td><td>1 </td><td>1 </td><td>1 </td><td>1 </td><td>1 </td><td>0 </td><td>1 </td><td>1 </td><td> 0</td><td> 0</td><td> 3</td></tr>\n",
       "\t<tr><th scope=row> 1</th><td>1 </td><td>1 </td><td>1 </td><td>1 </td><td>1 </td><td>1 </td><td>1 </td><td>0 </td><td>1 </td><td> 0</td><td> 0</td><td> 3</td></tr>\n",
       "\t<tr><th scope=row></th><td>0 </td><td>0 </td><td>0 </td><td>0 </td><td>0 </td><td>0 </td><td>4 </td><td>4 </td><td>4 </td><td>12</td><td>14</td><td>38</td></tr>\n",
       "</tbody>\n",
       "</table>\n"
      ],
      "text/latex": [
       "\\begin{tabular}{r|llllllllllll}\n",
       "  & species & bw & brw & pi & sei & odi & ts & mls & gt & ps & sws & \\\\\n",
       "\\hline\n",
       "\t42 & 1  & 1  & 1  & 1  & 1  & 1  & 1  & 1  & 1  &  1 &  1 &  0\\\\\n",
       "\t 2 & 1  & 1  & 1  & 1  & 1  & 1  & 1  & 0  & 1  &  1 &  1 &  1\\\\\n",
       "\t 3 & 1  & 1  & 1  & 1  & 1  & 1  & 1  & 1  & 0  &  1 &  1 &  1\\\\\n",
       "\t 9 & 1  & 1  & 1  & 1  & 1  & 1  & 1  & 1  & 1  &  0 &  0 &  2\\\\\n",
       "\t 2 & 1  & 1  & 1  & 1  & 1  & 1  & 0  & 1  & 1  &  1 &  0 &  2\\\\\n",
       "\t 1 & 1  & 1  & 1  & 1  & 1  & 1  & 1  & 0  & 0  &  1 &  1 &  2\\\\\n",
       "\t 2 & 1  & 1  & 1  & 1  & 1  & 1  & 0  & 1  & 1  &  0 &  0 &  3\\\\\n",
       "\t 1 & 1  & 1  & 1  & 1  & 1  & 1  & 1  & 0  & 1  &  0 &  0 &  3\\\\\n",
       "\t & 0  & 0  & 0  & 0  & 0  & 0  & 4  & 4  & 4  & 12 & 14 & 38\\\\\n",
       "\\end{tabular}\n"
      ],
      "text/markdown": [
       "\n",
       "| <!--/--> | species | bw | brw | pi | sei | odi | ts | mls | gt | ps | sws |  | \n",
       "|---|---|---|---|---|---|---|---|---|\n",
       "| 42 | 1  | 1  | 1  | 1  | 1  | 1  | 1  | 1  | 1  |  1 |  1 |  0 | \n",
       "|  2 | 1  | 1  | 1  | 1  | 1  | 1  | 1  | 0  | 1  |  1 |  1 |  1 | \n",
       "|  3 | 1  | 1  | 1  | 1  | 1  | 1  | 1  | 1  | 0  |  1 |  1 |  1 | \n",
       "|  9 | 1  | 1  | 1  | 1  | 1  | 1  | 1  | 1  | 1  |  0 |  0 |  2 | \n",
       "|  2 | 1  | 1  | 1  | 1  | 1  | 1  | 0  | 1  | 1  |  1 |  0 |  2 | \n",
       "|  1 | 1  | 1  | 1  | 1  | 1  | 1  | 1  | 0  | 0  |  1 |  1 |  2 | \n",
       "|  2 | 1  | 1  | 1  | 1  | 1  | 1  | 0  | 1  | 1  |  0 |  0 |  3 | \n",
       "|  1 | 1  | 1  | 1  | 1  | 1  | 1  | 1  | 0  | 1  |  0 |  0 |  3 | \n",
       "|  | 0  | 0  | 0  | 0  | 0  | 0  | 4  | 4  | 4  | 12 | 14 | 38 | \n",
       "\n",
       "\n"
      ],
      "text/plain": [
       "   species bw brw pi sei odi ts mls gt ps sws   \n",
       "42 1       1  1   1  1   1   1  1   1   1  1   0\n",
       " 2 1       1  1   1  1   1   1  0   1   1  1   1\n",
       " 3 1       1  1   1  1   1   1  1   0   1  1   1\n",
       " 9 1       1  1   1  1   1   1  1   1   0  0   2\n",
       " 2 1       1  1   1  1   1   0  1   1   1  0   2\n",
       " 1 1       1  1   1  1   1   1  0   0   1  1   2\n",
       " 2 1       1  1   1  1   1   0  1   1   0  0   3\n",
       " 1 1       1  1   1  1   1   1  0   1   0  0   3\n",
       "   0       0  0   0  0   0   4  4   4  12 14  38"
      ]
     },
     "metadata": {},
     "output_type": "display_data"
    }
   ],
   "source": [
    "md.pattern(mammalsleep)"
   ]
  },
  {
   "cell_type": "code",
   "execution_count": 424,
   "metadata": {},
   "outputs": [
    {
     "data": {
      "text/plain": [
       "                      species         bw                brw         \n",
       " African elephant         : 1   Min.   :   0.005   Min.   :   0.14  \n",
       " African giant pouched rat: 1   1st Qu.:   0.600   1st Qu.:   4.25  \n",
       " Arctic Fox               : 1   Median :   3.342   Median :  17.25  \n",
       " Arctic ground squirrel   : 1   Mean   : 198.790   Mean   : 283.13  \n",
       " Asian elephant           : 1   3rd Qu.:  48.203   3rd Qu.: 166.00  \n",
       " Baboon                   : 1   Max.   :6654.000   Max.   :5712.00  \n",
       " (Other)                  :56                                       \n",
       "      sws               ps              ts             mls         \n",
       " Min.   : 2.100   Min.   :0.000   Min.   : 2.60   Min.   :  2.000  \n",
       " 1st Qu.: 6.250   1st Qu.:0.900   1st Qu.: 8.05   1st Qu.:  6.625  \n",
       " Median : 8.350   Median :1.800   Median :10.45   Median : 15.100  \n",
       " Mean   : 8.673   Mean   :1.972   Mean   :10.53   Mean   : 19.878  \n",
       " 3rd Qu.:11.000   3rd Qu.:2.550   3rd Qu.:13.20   3rd Qu.: 27.750  \n",
       " Max.   :17.900   Max.   :6.600   Max.   :19.90   Max.   :100.000  \n",
       " NA's   :14       NA's   :12      NA's   :4       NA's   :4        \n",
       "       gt               pi             sei             odi       \n",
       " Min.   : 12.00   Min.   :1.000   Min.   :1.000   Min.   :1.000  \n",
       " 1st Qu.: 35.75   1st Qu.:2.000   1st Qu.:1.000   1st Qu.:1.000  \n",
       " Median : 79.00   Median :3.000   Median :2.000   Median :2.000  \n",
       " Mean   :142.35   Mean   :2.871   Mean   :2.419   Mean   :2.613  \n",
       " 3rd Qu.:207.50   3rd Qu.:4.000   3rd Qu.:4.000   3rd Qu.:4.000  \n",
       " Max.   :645.00   Max.   :5.000   Max.   :5.000   Max.   :5.000  \n",
       " NA's   :4                                                       "
      ]
     },
     "metadata": {},
     "output_type": "display_data"
    }
   ],
   "source": [
    "summary(mammalsleep)"
   ]
  },
  {
   "cell_type": "code",
   "execution_count": 426,
   "metadata": {},
   "outputs": [
    {
     "data": {
      "text/html": [
       "1"
      ],
      "text/latex": [
       "1"
      ],
      "text/markdown": [
       "1"
      ],
      "text/plain": [
       "[1] 1"
      ]
     },
     "metadata": {},
     "output_type": "display_data"
    }
   ],
   "source": [
    "which.max(mammalsleep$bw)"
   ]
  },
  {
   "cell_type": "code",
   "execution_count": 428,
   "metadata": {},
   "outputs": [
    {
     "data": {
      "text/html": [
       "<table>\n",
       "<thead><tr><th scope=col>species</th><th scope=col>bw</th><th scope=col>brw</th><th scope=col>sws</th><th scope=col>ps</th><th scope=col>ts</th><th scope=col>mls</th><th scope=col>gt</th><th scope=col>pi</th><th scope=col>sei</th><th scope=col>odi</th></tr></thead>\n",
       "<tbody>\n",
       "\t<tr><td>African elephant</td><td>6654            </td><td>5712            </td><td>NA              </td><td>NA              </td><td>3.3             </td><td>38.6            </td><td>645             </td><td>3               </td><td>5               </td><td>3               </td></tr>\n",
       "</tbody>\n",
       "</table>\n"
      ],
      "text/latex": [
       "\\begin{tabular}{r|lllllllllll}\n",
       " species & bw & brw & sws & ps & ts & mls & gt & pi & sei & odi\\\\\n",
       "\\hline\n",
       "\t African elephant & 6654             & 5712             & NA               & NA               & 3.3              & 38.6             & 645              & 3                & 5                & 3               \\\\\n",
       "\\end{tabular}\n"
      ],
      "text/markdown": [
       "\n",
       "species | bw | brw | sws | ps | ts | mls | gt | pi | sei | odi | \n",
       "|---|\n",
       "| African elephant | 6654             | 5712             | NA               | NA               | 3.3              | 38.6             | 645              | 3                | 5                | 3                | \n",
       "\n",
       "\n"
      ],
      "text/plain": [
       "  species          bw   brw  sws ps ts  mls  gt  pi sei odi\n",
       "1 African elephant 6654 5712 NA  NA 3.3 38.6 645 3  5   3  "
      ]
     },
     "metadata": {},
     "output_type": "display_data"
    }
   ],
   "source": [
    "mammalsleep[which.max(mammalsleep$bw),]"
   ]
  },
  {
   "cell_type": "code",
   "execution_count": 430,
   "metadata": {},
   "outputs": [
    {
     "ename": "ERROR",
     "evalue": "Error in View(mammalsleep): 'View()' not yet supported in the Jupyter R kernel\n",
     "output_type": "error",
     "traceback": [
      "Error in View(mammalsleep): 'View()' not yet supported in the Jupyter R kernel\nTraceback:\n",
      "1. View(mammalsleep)",
      "2. stop(sQuote(\"View()\"), \" not yet supported in the Jupyter R kernel\")"
     ]
    }
   ],
   "source": [
    "View(mammalsleep)"
   ]
  },
  {
   "cell_type": "code",
   "execution_count": 431,
   "metadata": {},
   "outputs": [
    {
     "data": {
      "text/html": [
       "3"
      ],
      "text/latex": [
       "3"
      ],
      "text/markdown": [
       "3"
      ],
      "text/plain": [
       "[1] 3"
      ]
     },
     "metadata": {},
     "output_type": "display_data"
    }
   ],
   "source": [
    "foodcons <- read.csv(url(\"https://openmv.net/file/food-consumption.csv\"), row.names =1)\n",
    "length(which(is.na(foodcons)==TRUE))"
   ]
  },
  {
   "cell_type": "code",
   "execution_count": 437,
   "metadata": {},
   "outputs": [
    {
     "data": {
      "text/html": [
       "3"
      ],
      "text/latex": [
       "3"
      ],
      "text/markdown": [
       "3"
      ],
      "text/plain": [
       "[1] 3"
      ]
     },
     "metadata": {},
     "output_type": "display_data"
    },
    {
     "data": {
      "text/html": [
       "<ol class=list-inline>\n",
       "\t<li>TRUE</li>\n",
       "\t<li>TRUE</li>\n",
       "\t<li>TRUE</li>\n",
       "\t<li>TRUE</li>\n",
       "\t<li>TRUE</li>\n",
       "\t<li>TRUE</li>\n",
       "\t<li>TRUE</li>\n",
       "\t<li>TRUE</li>\n",
       "\t<li>TRUE</li>\n",
       "\t<li>TRUE</li>\n",
       "\t<li>FALSE</li>\n",
       "\t<li>TRUE</li>\n",
       "\t<li>TRUE</li>\n",
       "\t<li>FALSE</li>\n",
       "\t<li>FALSE</li>\n",
       "\t<li>TRUE</li>\n",
       "</ol>\n"
      ],
      "text/latex": [
       "\\begin{enumerate*}\n",
       "\\item TRUE\n",
       "\\item TRUE\n",
       "\\item TRUE\n",
       "\\item TRUE\n",
       "\\item TRUE\n",
       "\\item TRUE\n",
       "\\item TRUE\n",
       "\\item TRUE\n",
       "\\item TRUE\n",
       "\\item TRUE\n",
       "\\item FALSE\n",
       "\\item TRUE\n",
       "\\item TRUE\n",
       "\\item FALSE\n",
       "\\item FALSE\n",
       "\\item TRUE\n",
       "\\end{enumerate*}\n"
      ],
      "text/markdown": [
       "1. TRUE\n",
       "2. TRUE\n",
       "3. TRUE\n",
       "4. TRUE\n",
       "5. TRUE\n",
       "6. TRUE\n",
       "7. TRUE\n",
       "8. TRUE\n",
       "9. TRUE\n",
       "10. TRUE\n",
       "11. FALSE\n",
       "12. TRUE\n",
       "13. TRUE\n",
       "14. FALSE\n",
       "15. FALSE\n",
       "16. TRUE\n",
       "\n",
       "\n"
      ],
      "text/plain": [
       " [1]  TRUE  TRUE  TRUE  TRUE  TRUE  TRUE  TRUE  TRUE  TRUE  TRUE FALSE  TRUE\n",
       "[13]  TRUE FALSE FALSE  TRUE"
      ]
     },
     "metadata": {},
     "output_type": "display_data"
    },
    {
     "data": {
      "text/html": [
       "3"
      ],
      "text/latex": [
       "3"
      ],
      "text/markdown": [
       "3"
      ],
      "text/plain": [
       "[1] 3"
      ]
     },
     "metadata": {},
     "output_type": "display_data"
    },
    {
     "data": {
      "text/html": [
       "'data.frame'"
      ],
      "text/latex": [
       "'data.frame'"
      ],
      "text/markdown": [
       "'data.frame'"
      ],
      "text/plain": [
       "[1] \"data.frame\""
      ]
     },
     "metadata": {},
     "output_type": "display_data"
    }
   ],
   "source": [
    "nic(foodcons)\n",
    "complete.cases(foodcons)\n",
    "length(which(!complete.cases(foodcons) == TRUE))\n",
    "class(foodcons)"
   ]
  },
  {
   "cell_type": "code",
   "execution_count": 433,
   "metadata": {},
   "outputs": [
    {
     "data": {
      "text/html": [
       "<table>\n",
       "<thead><tr><th></th><th scope=col>Real.coffee</th><th scope=col>Instant.coffee</th><th scope=col>Tea</th><th scope=col>Sweetener</th><th scope=col>Biscuits</th><th scope=col>Powder.soup</th><th scope=col>Tin.soup</th><th scope=col>Potatoes</th><th scope=col>Frozen.fish</th><th scope=col>Frozen.veggies</th><th scope=col>Apples</th><th scope=col>Oranges</th><th scope=col>Tinned.fruit</th><th scope=col>Jam</th><th scope=col>Garlic</th><th scope=col>Butter</th><th scope=col>Margarine</th><th scope=col>Olive.oil</th><th scope=col>Yoghurt</th><th scope=col>Crisp.bread</th></tr></thead>\n",
       "<tbody>\n",
       "\t<tr><th scope=row>Germany</th><td>90</td><td>49</td><td>88</td><td>19</td><td>57</td><td>51</td><td>19</td><td>21</td><td>27</td><td>21</td><td>81</td><td>75</td><td>44</td><td>71</td><td>22</td><td>91</td><td>85</td><td>74</td><td>30</td><td>26</td></tr>\n",
       "\t<tr><th scope=row>Italy</th><td>82</td><td>10</td><td>60</td><td> 2</td><td>55</td><td>41</td><td> 3</td><td> 2</td><td> 4</td><td> 2</td><td>67</td><td>71</td><td> 9</td><td>46</td><td>80</td><td>66</td><td>24</td><td>94</td><td> 5</td><td>18</td></tr>\n",
       "\t<tr><th scope=row>France</th><td>88</td><td>42</td><td>63</td><td> 4</td><td>76</td><td>53</td><td>11</td><td>23</td><td>11</td><td> 5</td><td>87</td><td>84</td><td>40</td><td>45</td><td>88</td><td>94</td><td>47</td><td>36</td><td>57</td><td> 3</td></tr>\n",
       "\t<tr><th scope=row>Holland</th><td>96</td><td>62</td><td>98</td><td>32</td><td>62</td><td>67</td><td>43</td><td> 7</td><td>14</td><td>14</td><td>83</td><td>89</td><td>61</td><td>81</td><td>15</td><td>31</td><td>97</td><td>13</td><td>53</td><td>15</td></tr>\n",
       "\t<tr><th scope=row>Belgium</th><td>94</td><td>38</td><td>48</td><td>11</td><td>74</td><td>37</td><td>23</td><td> 9</td><td>13</td><td>12</td><td>76</td><td>76</td><td>42</td><td>57</td><td>29</td><td>84</td><td>80</td><td>83</td><td>20</td><td> 5</td></tr>\n",
       "\t<tr><th scope=row>Luxembourg</th><td>97</td><td>61</td><td>86</td><td>28</td><td>79</td><td>73</td><td>12</td><td> 7</td><td>26</td><td>23</td><td>85</td><td>94</td><td>83</td><td>20</td><td>91</td><td>94</td><td>94</td><td>84</td><td>31</td><td>24</td></tr>\n",
       "</tbody>\n",
       "</table>\n"
      ],
      "text/latex": [
       "\\begin{tabular}{r|llllllllllllllllllll}\n",
       "  & Real.coffee & Instant.coffee & Tea & Sweetener & Biscuits & Powder.soup & Tin.soup & Potatoes & Frozen.fish & Frozen.veggies & Apples & Oranges & Tinned.fruit & Jam & Garlic & Butter & Margarine & Olive.oil & Yoghurt & Crisp.bread\\\\\n",
       "\\hline\n",
       "\tGermany & 90 & 49 & 88 & 19 & 57 & 51 & 19 & 21 & 27 & 21 & 81 & 75 & 44 & 71 & 22 & 91 & 85 & 74 & 30 & 26\\\\\n",
       "\tItaly & 82 & 10 & 60 &  2 & 55 & 41 &  3 &  2 &  4 &  2 & 67 & 71 &  9 & 46 & 80 & 66 & 24 & 94 &  5 & 18\\\\\n",
       "\tFrance & 88 & 42 & 63 &  4 & 76 & 53 & 11 & 23 & 11 &  5 & 87 & 84 & 40 & 45 & 88 & 94 & 47 & 36 & 57 &  3\\\\\n",
       "\tHolland & 96 & 62 & 98 & 32 & 62 & 67 & 43 &  7 & 14 & 14 & 83 & 89 & 61 & 81 & 15 & 31 & 97 & 13 & 53 & 15\\\\\n",
       "\tBelgium & 94 & 38 & 48 & 11 & 74 & 37 & 23 &  9 & 13 & 12 & 76 & 76 & 42 & 57 & 29 & 84 & 80 & 83 & 20 &  5\\\\\n",
       "\tLuxembourg & 97 & 61 & 86 & 28 & 79 & 73 & 12 &  7 & 26 & 23 & 85 & 94 & 83 & 20 & 91 & 94 & 94 & 84 & 31 & 24\\\\\n",
       "\\end{tabular}\n"
      ],
      "text/markdown": [
       "\n",
       "| <!--/--> | Real.coffee | Instant.coffee | Tea | Sweetener | Biscuits | Powder.soup | Tin.soup | Potatoes | Frozen.fish | Frozen.veggies | Apples | Oranges | Tinned.fruit | Jam | Garlic | Butter | Margarine | Olive.oil | Yoghurt | Crisp.bread | \n",
       "|---|---|---|---|---|---|\n",
       "| Germany | 90 | 49 | 88 | 19 | 57 | 51 | 19 | 21 | 27 | 21 | 81 | 75 | 44 | 71 | 22 | 91 | 85 | 74 | 30 | 26 | \n",
       "| Italy | 82 | 10 | 60 |  2 | 55 | 41 |  3 |  2 |  4 |  2 | 67 | 71 |  9 | 46 | 80 | 66 | 24 | 94 |  5 | 18 | \n",
       "| France | 88 | 42 | 63 |  4 | 76 | 53 | 11 | 23 | 11 |  5 | 87 | 84 | 40 | 45 | 88 | 94 | 47 | 36 | 57 |  3 | \n",
       "| Holland | 96 | 62 | 98 | 32 | 62 | 67 | 43 |  7 | 14 | 14 | 83 | 89 | 61 | 81 | 15 | 31 | 97 | 13 | 53 | 15 | \n",
       "| Belgium | 94 | 38 | 48 | 11 | 74 | 37 | 23 |  9 | 13 | 12 | 76 | 76 | 42 | 57 | 29 | 84 | 80 | 83 | 20 |  5 | \n",
       "| Luxembourg | 97 | 61 | 86 | 28 | 79 | 73 | 12 |  7 | 26 | 23 | 85 | 94 | 83 | 20 | 91 | 94 | 94 | 84 | 31 | 24 | \n",
       "\n",
       "\n"
      ],
      "text/plain": [
       "           Real.coffee Instant.coffee Tea Sweetener Biscuits Powder.soup\n",
       "Germany    90          49             88  19        57       51         \n",
       "Italy      82          10             60   2        55       41         \n",
       "France     88          42             63   4        76       53         \n",
       "Holland    96          62             98  32        62       67         \n",
       "Belgium    94          38             48  11        74       37         \n",
       "Luxembourg 97          61             86  28        79       73         \n",
       "           Tin.soup Potatoes Frozen.fish Frozen.veggies Apples Oranges\n",
       "Germany    19       21       27          21             81     75     \n",
       "Italy       3        2        4           2             67     71     \n",
       "France     11       23       11           5             87     84     \n",
       "Holland    43        7       14          14             83     89     \n",
       "Belgium    23        9       13          12             76     76     \n",
       "Luxembourg 12        7       26          23             85     94     \n",
       "           Tinned.fruit Jam Garlic Butter Margarine Olive.oil Yoghurt\n",
       "Germany    44           71  22     91     85        74        30     \n",
       "Italy       9           46  80     66     24        94         5     \n",
       "France     40           45  88     94     47        36        57     \n",
       "Holland    61           81  15     31     97        13        53     \n",
       "Belgium    42           57  29     84     80        83        20     \n",
       "Luxembourg 83           20  91     94     94        84        31     \n",
       "           Crisp.bread\n",
       "Germany    26         \n",
       "Italy      18         \n",
       "France      3         \n",
       "Holland    15         \n",
       "Belgium     5         \n",
       "Luxembourg 24         "
      ]
     },
     "metadata": {},
     "output_type": "display_data"
    }
   ],
   "source": [
    "head(foodcons)"
   ]
  },
  {
   "cell_type": "code",
   "execution_count": 438,
   "metadata": {},
   "outputs": [],
   "source": [
    "library(\"dplyr\")"
   ]
  },
  {
   "cell_type": "code",
   "execution_count": 445,
   "metadata": {},
   "outputs": [
    {
     "data": {
      "text/html": [
       "<ol class=list-inline>\n",
       "\t<li>1</li>\n",
       "\t<li>5</li>\n",
       "\t<li>3</li>\n",
       "\t<li>6</li>\n",
       "\t<li>2</li>\n",
       "\t<li>4</li>\n",
       "\t<li>7</li>\n",
       "\t<li>8</li>\n",
       "</ol>\n"
      ],
      "text/latex": [
       "\\begin{enumerate*}\n",
       "\\item 1\n",
       "\\item 5\n",
       "\\item 3\n",
       "\\item 6\n",
       "\\item 2\n",
       "\\item 4\n",
       "\\item 7\n",
       "\\item 8\n",
       "\\end{enumerate*}\n"
      ],
      "text/markdown": [
       "1. 1\n",
       "2. 5\n",
       "3. 3\n",
       "4. 6\n",
       "5. 2\n",
       "6. 4\n",
       "7. 7\n",
       "8. 8\n",
       "\n",
       "\n"
      ],
      "text/plain": [
       "[1] 1 5 3 6 2 4 7 8"
      ]
     },
     "metadata": {},
     "output_type": "display_data"
    },
    {
     "data": {
      "image/png": "[encoded data removed]",
      "text/plain": [
       "plot without title"
      ]
     },
     "metadata": {},
     "output_type": "display_data"
    },
    {
     "data": {
      "image/png": "[encoded data removed]",
      "text/plain": [
       "plot without title"
      ]
     },
     "metadata": {},
     "output_type": "display_data"
    },
    {
     "data": {
      "image/png": "[encoded data removed]",
      "text/plain": [
       "plot without title"
      ]
     },
     "metadata": {},
     "output_type": "display_data"
    },
    {
     "data": {
      "image/png": "[encoded data removed]",
      "text/plain": [
       "plot without title"
      ]
     },
     "metadata": {},
     "output_type": "display_data"
    }
   ],
   "source": [
    "x <- c(1,5,3,6,2,4,8,9)\n",
    "y <- c(0,3,6,2,5,9,1,8)\n",
    "plot(x,y, type='l')\n",
    "order(x)\n",
    "plot(order(x), order(y), type='l')\n",
    "plot(order(x), order(y), type='l',col='red')\n",
    "plot(order(x), order(y), type='b', col='red')"
   ]
  },
  {
   "cell_type": "code",
   "execution_count": 448,
   "metadata": {},
   "outputs": [
    {
     "data": {
      "image/png": "[encoded data removed]",
      "text/plain": [
       "plot without title"
      ]
     },
     "metadata": {},
     "output_type": "display_data"
    }
   ],
   "source": [
    "x <- y <- seq(-4*pi, 4*pi, len=27)\n",
    "r <- sqrt(outer(x^2, y^2,\"+\"))\n",
    "image(z = z <- cos(r^2)* exp(-r/6), col = gray((0:32)/32))"
   ]
  },
  {
   "cell_type": "code",
   "execution_count": 454,
   "metadata": {},
   "outputs": [
    {
     "data": {
      "image/png": "[encoded data removed]",
      "text/plain": [
       "plot without title"
      ]
     },
     "metadata": {},
     "output_type": "display_data"
    }
   ],
   "source": [
    "par(mfrow=c(2,2))\n",
    "plot(order(x), order(y), type='l')\n",
    "plot(order(x), order(y), type='l',col='red')\n",
    "plot(order(x), order(y), type='b', col='red')"
   ]
  },
  {
   "cell_type": "code",
   "execution_count": 455,
   "metadata": {},
   "outputs": [
    {
     "data": {
      "text/html": [
       "<ol class=list-inline>\n",
       "\t<li>'assocplot'</li>\n",
       "\t<li>'autoplot'</li>\n",
       "\t<li>'barplot'</li>\n",
       "\t<li>'barplot.default'</li>\n",
       "\t<li>'benchplot'</li>\n",
       "\t<li>'biplot'</li>\n",
       "\t<li>'boxplot'</li>\n",
       "\t<li>'boxplot.default'</li>\n",
       "\t<li>'boxplot.matrix'</li>\n",
       "\t<li>'boxplot.stats'</li>\n",
       "\t<li>'cdplot'</li>\n",
       "\t<li>'coplot'</li>\n",
       "\t<li>'draw_key_boxplot'</li>\n",
       "\t<li>'draw_key_dotplot'</li>\n",
       "\t<li>'eqscplot'</li>\n",
       "\t<li>'fluxplot'</li>\n",
       "\t<li>'fourfoldplot'</li>\n",
       "\t<li>'geom_boxplot'</li>\n",
       "\t<li>'geom_dotplot'</li>\n",
       "\t<li>'GeomBoxplot'</li>\n",
       "\t<li>'GeomDotplot'</li>\n",
       "\t<li>'ggplot'</li>\n",
       "\t<li>'ggplot_build'</li>\n",
       "\t<li>'ggplot_gtable'</li>\n",
       "\t<li>'ggplotGrob'</li>\n",
       "\t<li>'interaction.plot'</li>\n",
       "\t<li>'is.ggplot'</li>\n",
       "\t<li>'lag.plot'</li>\n",
       "\t<li>'last_plot'</li>\n",
       "\t<li>'matplot'</li>\n",
       "\t<li>'monthplot'</li>\n",
       "\t<li>'mosaicplot'</li>\n",
       "\t<li>'plot'</li>\n",
       "\t<li>'plot.default'</li>\n",
       "\t<li>'plot.design'</li>\n",
       "\t<li>'plot.ecdf'</li>\n",
       "\t<li>'plot.function'</li>\n",
       "\t<li>'plot.new'</li>\n",
       "\t<li>'plot.spec.coherency'</li>\n",
       "\t<li>'plot.spec.phase'</li>\n",
       "\t<li>'plot.stepfun'</li>\n",
       "\t<li>'plot.ts'</li>\n",
       "\t<li>'plot.window'</li>\n",
       "\t<li>'plot.xy'</li>\n",
       "\t<li>'preplot'</li>\n",
       "\t<li>'qplot'</li>\n",
       "\t<li>'qqplot'</li>\n",
       "\t<li>'quickplot'</li>\n",
       "\t<li>'recordPlot'</li>\n",
       "\t<li>'replayPlot'</li>\n",
       "\t<li>'savePlot'</li>\n",
       "\t<li>'screeplot'</li>\n",
       "\t<li>'spineplot'</li>\n",
       "\t<li>'stat_boxplot'</li>\n",
       "\t<li>'StatBoxplot'</li>\n",
       "\t<li>'sunflowerplot'</li>\n",
       "\t<li>'termplot'</li>\n",
       "\t<li>'ts.plot'</li>\n",
       "</ol>\n"
      ],
      "text/latex": [
       "\\begin{enumerate*}\n",
       "\\item 'assocplot'\n",
       "\\item 'autoplot'\n",
       "\\item 'barplot'\n",
       "\\item 'barplot.default'\n",
       "\\item 'benchplot'\n",
       "\\item 'biplot'\n",
       "\\item 'boxplot'\n",
       "\\item 'boxplot.default'\n",
       "\\item 'boxplot.matrix'\n",
       "\\item 'boxplot.stats'\n",
       "\\item 'cdplot'\n",
       "\\item 'coplot'\n",
       "\\item 'draw\\_key\\_boxplot'\n",
       "\\item 'draw\\_key\\_dotplot'\n",
       "\\item 'eqscplot'\n",
       "\\item 'fluxplot'\n",
       "\\item 'fourfoldplot'\n",
       "\\item 'geom\\_boxplot'\n",
       "\\item 'geom\\_dotplot'\n",
       "\\item 'GeomBoxplot'\n",
       "\\item 'GeomDotplot'\n",
       "\\item 'ggplot'\n",
       "\\item 'ggplot\\_build'\n",
       "\\item 'ggplot\\_gtable'\n",
       "\\item 'ggplotGrob'\n",
       "\\item 'interaction.plot'\n",
       "\\item 'is.ggplot'\n",
       "\\item 'lag.plot'\n",
       "\\item 'last\\_plot'\n",
       "\\item 'matplot'\n",
       "\\item 'monthplot'\n",
       "\\item 'mosaicplot'\n",
       "\\item 'plot'\n",
       "\\item 'plot.default'\n",
       "\\item 'plot.design'\n",
       "\\item 'plot.ecdf'\n",
       "\\item 'plot.function'\n",
       "\\item 'plot.new'\n",
       "\\item 'plot.spec.coherency'\n",
       "\\item 'plot.spec.phase'\n",
       "\\item 'plot.stepfun'\n",
       "\\item 'plot.ts'\n",
       "\\item 'plot.window'\n",
       "\\item 'plot.xy'\n",
       "\\item 'preplot'\n",
       "\\item 'qplot'\n",
       "\\item 'qqplot'\n",
       "\\item 'quickplot'\n",
       "\\item 'recordPlot'\n",
       "\\item 'replayPlot'\n",
       "\\item 'savePlot'\n",
       "\\item 'screeplot'\n",
       "\\item 'spineplot'\n",
       "\\item 'stat\\_boxplot'\n",
       "\\item 'StatBoxplot'\n",
       "\\item 'sunflowerplot'\n",
       "\\item 'termplot'\n",
       "\\item 'ts.plot'\n",
       "\\end{enumerate*}\n"
      ],
      "text/markdown": [
       "1. 'assocplot'\n",
       "2. 'autoplot'\n",
       "3. 'barplot'\n",
       "4. 'barplot.default'\n",
       "5. 'benchplot'\n",
       "6. 'biplot'\n",
       "7. 'boxplot'\n",
       "8. 'boxplot.default'\n",
       "9. 'boxplot.matrix'\n",
       "10. 'boxplot.stats'\n",
       "11. 'cdplot'\n",
       "12. 'coplot'\n",
       "13. 'draw_key_boxplot'\n",
       "14. 'draw_key_dotplot'\n",
       "15. 'eqscplot'\n",
       "16. 'fluxplot'\n",
       "17. 'fourfoldplot'\n",
       "18. 'geom_boxplot'\n",
       "19. 'geom_dotplot'\n",
       "20. 'GeomBoxplot'\n",
       "21. 'GeomDotplot'\n",
       "22. 'ggplot'\n",
       "23. 'ggplot_build'\n",
       "24. 'ggplot_gtable'\n",
       "25. 'ggplotGrob'\n",
       "26. 'interaction.plot'\n",
       "27. 'is.ggplot'\n",
       "28. 'lag.plot'\n",
       "29. 'last_plot'\n",
       "30. 'matplot'\n",
       "31. 'monthplot'\n",
       "32. 'mosaicplot'\n",
       "33. 'plot'\n",
       "34. 'plot.default'\n",
       "35. 'plot.design'\n",
       "36. 'plot.ecdf'\n",
       "37. 'plot.function'\n",
       "38. 'plot.new'\n",
       "39. 'plot.spec.coherency'\n",
       "40. 'plot.spec.phase'\n",
       "41. 'plot.stepfun'\n",
       "42. 'plot.ts'\n",
       "43. 'plot.window'\n",
       "44. 'plot.xy'\n",
       "45. 'preplot'\n",
       "46. 'qplot'\n",
       "47. 'qqplot'\n",
       "48. 'quickplot'\n",
       "49. 'recordPlot'\n",
       "50. 'replayPlot'\n",
       "51. 'savePlot'\n",
       "52. 'screeplot'\n",
       "53. 'spineplot'\n",
       "54. 'stat_boxplot'\n",
       "55. 'StatBoxplot'\n",
       "56. 'sunflowerplot'\n",
       "57. 'termplot'\n",
       "58. 'ts.plot'\n",
       "\n",
       "\n"
      ],
      "text/plain": [
       " [1] \"assocplot\"           \"autoplot\"            \"barplot\"            \n",
       " [4] \"barplot.default\"     \"benchplot\"           \"biplot\"             \n",
       " [7] \"boxplot\"             \"boxplot.default\"     \"boxplot.matrix\"     \n",
       "[10] \"boxplot.stats\"       \"cdplot\"              \"coplot\"             \n",
       "[13] \"draw_key_boxplot\"    \"draw_key_dotplot\"    \"eqscplot\"           \n",
       "[16] \"fluxplot\"            \"fourfoldplot\"        \"geom_boxplot\"       \n",
       "[19] \"geom_dotplot\"        \"GeomBoxplot\"         \"GeomDotplot\"        \n",
       "[22] \"ggplot\"              \"ggplot_build\"        \"ggplot_gtable\"      \n",
       "[25] \"ggplotGrob\"          \"interaction.plot\"    \"is.ggplot\"          \n",
       "[28] \"lag.plot\"            \"last_plot\"           \"matplot\"            \n",
       "[31] \"monthplot\"           \"mosaicplot\"          \"plot\"               \n",
       "[34] \"plot.default\"        \"plot.design\"         \"plot.ecdf\"          \n",
       "[37] \"plot.function\"       \"plot.new\"            \"plot.spec.coherency\"\n",
       "[40] \"plot.spec.phase\"     \"plot.stepfun\"        \"plot.ts\"            \n",
       "[43] \"plot.window\"         \"plot.xy\"             \"preplot\"            \n",
       "[46] \"qplot\"               \"qqplot\"              \"quickplot\"          \n",
       "[49] \"recordPlot\"          \"replayPlot\"          \"savePlot\"           \n",
       "[52] \"screeplot\"           \"spineplot\"           \"stat_boxplot\"       \n",
       "[55] \"StatBoxplot\"         \"sunflowerplot\"       \"termplot\"           \n",
       "[58] \"ts.plot\"            "
      ]
     },
     "metadata": {},
     "output_type": "display_data"
    }
   ],
   "source": [
    "apropos(\"plot\")"
   ]
  },
  {
   "cell_type": "code",
   "execution_count": 456,
   "metadata": {},
   "outputs": [
    {
     "data": {
      "text/html": [
       "<strong>png:</strong> 2"
      ],
      "text/latex": [
       "\\textbf{png:} 2"
      ],
      "text/markdown": [
       "**png:** 2"
      ],
      "text/plain": [
       "png \n",
       "  2 "
      ]
     },
     "metadata": {},
     "output_type": "display_data"
    }
   ],
   "source": [
    "pdf(\"plot.pdf\")\n",
    "par(mfrow=c(2,2))\n",
    "plot(order(x), order(y), type='l')\n",
    "plot(order(x), order(y), type='l',col='red')\n",
    "plot(order(x), order(y), type='b', col='red')\n",
    "dev.off()"
   ]
  },
  {
   "cell_type": "code",
   "execution_count": null,
   "metadata": {},
   "outputs": [],
   "source": []
  }
 ],
 "metadata": {
  "kernelspec": {
   "display_name": "R",
   "language": "R",
   "name": "ir"
  },
  "language_info": {
   "codemirror_mode": "r",
   "file_extension": ".r",
   "mimetype": "text/x-r-source",
   "name": "R",
   "pygments_lexer": "r",
   "version": "3.4.3"
  }
 },
 "nbformat": 4,
 "nbformat_minor": 2
}
